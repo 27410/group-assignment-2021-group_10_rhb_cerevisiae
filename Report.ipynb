{
 "cells": [
  {
   "cell_type": "code",
   "execution_count": 17,
   "metadata": {},
   "outputs": [],
   "source": [
    "from IPython.display import FileLink, FileLinks"
   ]
  },
  {
   "cell_type": "markdown",
   "metadata": {
    "jp-MarkdownHeadingCollapsed": true,
    "tags": []
   },
   "source": [
    "**Disclaimer: This report is done done yet :)**"
   ]
  },
  {
   "cell_type": "markdown",
   "metadata": {},
   "source": [
    "# Optimisation of *Saccharomyces cerevisiae* for production of hemoglobin"
   ]
  },
  {
   "cell_type": "markdown",
   "metadata": {},
   "source": [
    "## 1. Introduction"
   ]
  },
  {
   "cell_type": "markdown",
   "metadata": {},
   "source": [
    "### 1.1 Literature review of the compound (<500 words)\n",
    "\n",
    "Heme-containing proteins with interesting applications include leghemoglobin and hemoglobin. These proteins both show immense market potential within the sector of food additives as they provide a flavor of meat, especially sought after by companies developing “artificial meat”.  Furthermore, hemoglobin is an essential protein that gives blood its oxygen-carrying properties in mammals. Thus, a hemoglobin producing cellular factory opens for the opportunity of penetrating the pharmaceutical sector with a substitute for blood transfusions (Frost et al., 2018).\n",
    "\n",
    "The supply of blood to the market for blood transfusions is currently highly dependent on whole blood donations. According to the WHO Global Database on Blood Safety, 118.5 million units of blood was donated globally in 2018 with the majority of countries not collecting enough blood to be self-sufficient (WHO Global Database on Blood Safety, 2020). However, this could potentially change with the introduction of Hemoglobin-Based Blood Substitutes such as recombinant Hemoglobin-Based Oxygen Carriers (Chakane, 2017), as such a fermentation-based manufacturing process is scalable to match the demand.\n",
    "\n",
    "Furthermore, recombinant Hemoglobin-Based Oxygen Carriers (rHBOC) are superior to red blood cell concentrate from whole-blood donations on several parameters. Among these, rHBOC have a significantly longer shelf-life than blood with more relaxed storage requirements (Chakane, 2017). Another advantage of rHBOC is there will be no risk of corrupting the product with pathogens causing transfusion-transmissible diseases such as hepatitis, HIV, and syphilis. Although the median discard rate of blood due to expiration and the detection of transfusion-transmissible diseases in high-income countries is only 2.7% and 1.1%, respectively (World Health Organization, 2016), these numbers are much higher for all countries not categorised as high-income . Rural areas of low-income countries may even take benefit from rHBOC as the relaxed storage requirements means refrigeration, an important factor that often limit access to blood, is not a necessity (Chakane, 2017). However, these markets are unlikely to be part of a ’go-to-market’-strategy, we will focus on high-income countries. In high-income countries the main advantages of rHBOC are the elimination of the necessity for blood-type compatibility matching and laboratory screening for transfusion-transmissible diseases, a scalable production, and the opportunity for ambulance first-responders to carry rHBOC for in-field transfusions (Frost et al., 2018).\n",
    "\n",
    "Based on calculations from the fixed the reimbursement price of a unit of blood in the United States, hemoglobin has the estimated value of $4.000  per kg (Varnado et al., 2013). The market size for hemoglobin proteins to be used in human blood transfusions is around 3 metric tons per year, in high-income countries, but is estimated to be much larger globally. Solely focusing on the market in high-income countries, the annual demand for hemoglobin proteins corresponds to a revenue exceeding \\\\$8 billion, based on our own calculations."
   ]
  },
  {
   "cell_type": "markdown",
   "metadata": {},
   "source": [
    "### 1.2 Literature review of the cell factory (<500 words)\n",
    "\n",
    "In a cellular factory the direct biosynthetic pathway to recombinant hemoglobin proteins will be the amino acids used to translate the recombinant mRNA for human hemoglobin. However, active hemoglobin proteins contain four identical heme-groups that have their own biosynthetic pathway. Heme is a coordination complex, or iron–porphyrin complex, that is ubiquitous in nature and a vital compound for many biological systems. Structurally, heme is a prosthetic group with a ferrous iron confined to porphyrin by covalent bonds, found in many proteins. Because the ferrous iron can be oxidized and reduced the primary function of heme, and the function we will focus on, is related to these redox properties. The redox properties of heme give heme-containing proteins a wide range of activities including the electron transfer activities of cytochromes, regulation of gene expression and oxygen transport (Paoli et al., 2002). Therefore, we will investigate the iron metabolism of Saccharomyces cerevisiae, wherein eight reactions steps convert glycine to heme (Lindahl, 2019), as seen in figure 1. \n",
    "\n",
    "\n",
    "We define recombinant Hemoglobin-Based Oxygen Carriers as active hemoglobin proteins (rHb) in a genetically modified cell factory. Both Escherichia coli and S. cerevisiae has been investigated for their potential as producer organisms for rHb. \n",
    "\n",
    "E. coli has produced up to 6.6 g/L rHb proteins in clarified lysates. Whereas very recently published data from S. cerevisiae push the cell factory to produce 18% rHb of the total cell protein content (Varnado et al., 2013; Ishchuk et al., 2021), corresponding to approximately 6.4 g/L rHb proteins based on our own calculations. Assuming a 60% loss of product to downstream processing, rHb produced in E. coli and S. cerevisiae has an estimated cost of production of \\\\$11/g and $5.8/g, respectively (Frost et al., 2018; Varnado et al., 2013; Ishchuk et al., 2021). \n",
    " \n",
    "\n",
    "To date, recombinant human hemoglobin proteins has only been produced in S. cerevisiae and E. coli (Zhao et al., 2021). One large problem encountered with E. coli was that the function of the hemoglobin was altered compared to normal mature hemoglobin because of an added methionine at the termini of the globin chains (Frost et al., 2018; Zhao et al., 2021). Because of this, eukaryotic hosts have been found to be more suitable for production of human hemoglobin, and more specifically, S. cerevisiae has been used (Frost et al., 2018). \n",
    "\n",
    "\n",
    "Main advantages of this species include that it is generally regarded as safe (GRAS) and since it is a model organism, the genetic toolbox and knowledge is extensive (Liu et al., 2014). Disadvantages observed in S. cerevisiae is among others that, even though heme is produced naturally, high concentrations are toxic for the cell because it can originate reactive oxygen species (ROS) (Frost et al., 2018). Additionally, yeast is not very good at secreting proteins compared to for example filamentous fungi. Nevertheless, we have chosen to investigate S. cerevisiae, also knowns as baker’s yeast, as a cell factory for the production of rHb. "
   ]
  },
  {
   "cell_type": "markdown",
   "metadata": {},
   "source": [
    "<img src=\"pics/Shortest_heme_path.png\" width=\"1000\"/>\n",
    "\n",
    "\n",
    "<center> <i> Figure 1: Porphyrin and chlorophyll metabolism of Saccharomyces cerevisiae. The shortest pathway from glycine to heme (red) is highlighted in green. Illustration from KEGG PATHWAY Database. (Ishchuk et al., 2021; Mart´ınez et al., 2015) </i> </center>"
   ]
  },
  {
   "cell_type": "markdown",
   "metadata": {},
   "source": [
    "## 2. Problem definition (<300 words)\n",
    "\n",
    "With the current cost of producing rHb in S. cerevisiae of \\\\$5.8/g, improvements must be made onto the cell factory for the rHb to become competitive with hemoglobin proteins derived from donated whole blood. Since the rHb-price of \\\\$5.8/g is estimated based on the titer of 4.61 g rHb/L, we estimate that a titer of 6.40 g rHb/L will decrease the rHb-price to \\\\$4.2, as illustrated on figure 2. With a rHb-price of \\\\$4.2 we believe the product will have a much better change of competing with donated whole blood on price, scalability, shelf life, and many more parameters (Frost et al., 2018; Chakane, 2017; Ishchuk et al., 2021). Therefore, it is our goal to investigate a genome scale metabolic model (GEMM) of S. cerevisiae to figure out whether it is possible for the cell factory to reach these titers via metabolic engineering."
   ]
  },
  {
   "cell_type": "markdown",
   "metadata": {},
   "source": [
    "<img src=\"pics/Price_aim.png\" width=\"700\"/>\n",
    "\n",
    "\n",
    "<center> <i> Figure 2: The economics of recombinant human hemoglobin (rHb) production in genetically modified Saccharomyces cerevisiae strains. The inverse relationship between the relative production of rHb to total cell protein content and the variable cost of rHb. The red line indicates when a cell factory breaks even with the price of human hemoglobin proteins extracted from whole blood donations[4]. </i> </center>"
   ]
  },
  {
   "cell_type": "markdown",
   "metadata": {},
   "source": [
    "Our focus is situated around the low titer, and yield of heme in S. cerevisiae. Though an increased production of heme will likely result in heme-toxicity, we reason that this toxicity will be diminished with the introduction of recombinant human hemoglobin proteins as the protein binds, and effectively removes, heme in its free form. We assume, in other words, that the total amount of heme bound in hemoglobin will be a function of the total produced heme. To this end, we will add a pseudo-reaction to the GSMM, wherein hemoglobin is synthesized from its constituent amino acids and four heme molecules. Thus, our aim is to increase the flux to, and yield of, recombinant hemoglobin as much as possible. "
   ]
  },
  {
   "cell_type": "markdown",
   "metadata": {},
   "source": [
    "## 3. Selection and assessment of existing GSM (<500 words)"
   ]
  },
  {
   "cell_type": "markdown",
   "metadata": {},
   "source": [
    "An important laboratory strain of Saccharomyces cerevisiae is the CEN.PK113-7D strain. There are currently no available GSMs for this particular strain. However, the CEN.PK113-7D strain is a close relative to the S228C strain (tror ikke det er helt rigtigt) which have two GSM available BiGG Models: iND750 and iMM904. The iND750 model published in 2004 contains 1059 metabolites, 1266 reactions and 750 genes (Duarte et al. 2004). The newer iMM904 model was published in 2009 and have 1226 metabolites, 1577 reactions and 905 genes (Mo et al. 2009). These two models are very similar to each other, as iMM904 is based on iND750 and expands this model (Mo et al. 2009).   \n",
    "\n",
    "In Table 1 results from an evaluation of the models using Memote can be seen. Looking at the Memote results both models are overall good models. A direct Memote comparison of the model can be found in the file “750vs904.html”. The higher number of metabolites, reactions and genes does make iMM904 a more complex model and potentially a more accurate model. However, a lot of genes are not modeled by these models, as S. cerevisiae has an estimated number of 6000 genes (Goffeau et al. 1996). Therefore, more complex models were also looked at to see if they are suitable models for our work.  \n",
    "\n",
    "An interesting model from 2018 incorporated the iron metabolism into a GSM of S. cerevisiae. The model is called MODEL1709260000 and contains 3543 metabolites, 4822 reactions and 1226 genes (Dikicioglu et al. 2019). While the MODEL1709260000 is very complex model, Memote shows it does have problems with the overall charge balance and the general consistency of the model. Some selected scores from the Memote evaluation of MODEL1709260000 can be found in Table 1.  \n",
    "\n",
    "Finally, the community driven comprehensive GSM yeast-GEM project was also evaluated. The latest version of this GSM is called Yeast8 and contains 2742 metabolites, 4058 reactions and 1150 genes (Lu et al. 2019). Running Yeast8 through Memote shows that despite being complex model like MODEL1709260000, it scores overall better and closer to the smaller models of S228C. Results from its Memote evaluation can be found in Table 1. "
   ]
  },
  {
   "cell_type": "markdown",
   "metadata": {},
   "source": [
    "\n",
    "<center> <i> Table 1: Memote comparison of the four GSM models being considered. </i> </center>"
   ]
  },
  {
   "cell_type": "markdown",
   "metadata": {},
   "source": [
    "| S. cerevisiae model  | Total score(%)  | Total reactions  | Total metabolites  | Total Genes  | Metabolic coverage  | Consistency score (%)  | Annotation-<br>metabolites score (%)  | Annotation-<br>reactions score (%)  |\n",
    "|----------------------|-----------------|------------------|--------------------|--------------|---------------------|------------------------|---------------------------------------|-------------------------------------|\n",
    "| iND750               | 86              | 1266             | 1059               | 750          | 1.69                | 85                     | 80                                    | 83                                  |\n",
    "| iMM904               | 85              | 1577             | 1226               | 905          | 1.74                | 85                     | 80                                    | 82                                  |\n",
    "| MODEL1709260000      | 34              | 4822             | 3543               | 1226         | 3.9                 | 31                     | 57                                    | 53                                  |\n",
    "| Yeast8               | 67              | 4058             | 2742               | 1150         | 3.53                | 50                     | 66                                    | 65                                  |"
   ]
  },
  {
   "cell_type": "markdown",
   "metadata": {},
   "source": []
  },
  {
   "cell_type": "markdown",
   "metadata": {},
   "source": [
    "## 4. Computer-Aided Cell Factory Engineering (<1500 words if Category II project; <500 words for Category I project)"
   ]
  },
  {
   "cell_type": "markdown",
   "metadata": {},
   "source": [
    "### Characterization of cell factory model"
   ]
  },
  {
   "cell_type": "markdown",
   "metadata": {},
   "source": [
    "#### Incorporation of the heterologous pathway\n",
    "In order to be able to test and analyze way to improve rHb production it must be added to the model. Since hemoglobin is not a metabolite, but a protein, it cannot be added to the model by including enzymatic steps that lead to the product. Instead, we add the protein to the model though a pseudo reaction that simulates both the ribosomal translation process and the subsequent complex formation. This is done by adding one reaction which consumes all amino acids needed to form all 4 subunits as well as the 4 heme cofactors, creating one hemoglobin molecule. \n",
    "This allows the model to account for flux needed for amino acid production. Therefore, it should give a better representation of rHb production than assuming a linear correlation of rHb production with heme production. \n",
    "Although hemoglobin is not biologically excreted an additional excretion reaction for rHb is added in order to allow flux though the rHb reaction in the model. \n"
   ]
  },
  {
   "cell_type": "markdown",
   "metadata": {},
   "source": [
    "#### Theoretical maximum yields of hemoglobin on suitable carbon sources\n",
    "\n",
    "..."
   ]
  },
  {
   "cell_type": "code",
   "execution_count": 18,
   "metadata": {},
   "outputs": [
    {
     "data": {
      "text/html": [
       "<a href='Analysis/MaxY_and_phaseplanes.ipynb' target='_blank'>Analysis/MaxY_and_phaseplanes.ipynb</a><br>"
      ],
      "text/plain": [
       "C:\\Users\\carol\\Documents\\DTU\\9_Semester_MSc\\27410 Computer-aided cell factory design\\Project\\group-assignment-2021-group_10_rhb_cerevisiae\\Analysis\\MaxY_and_phaseplanes.ipynb"
      ]
     },
     "execution_count": 18,
     "metadata": {},
     "output_type": "execute_result"
    }
   ],
   "source": [
    "FileLink('Analysis/MaxY_and_phaseplanes.ipynb') "
   ]
  },
  {
   "cell_type": "markdown",
   "metadata": {},
   "source": [
    "#### Phenotypic phase planes for relevant process conditions \n",
    "\n",
    "..."
   ]
  },
  {
   "cell_type": "code",
   "execution_count": 19,
   "metadata": {},
   "outputs": [
    {
     "data": {
      "text/html": [
       "<a href='Analysis/MaxY_and_phaseplanes.ipynb' target='_blank'>Analysis/MaxY_and_phaseplanes.ipynb</a><br>"
      ],
      "text/plain": [
       "C:\\Users\\carol\\Documents\\DTU\\9_Semester_MSc\\27410 Computer-aided cell factory design\\Project\\group-assignment-2021-group_10_rhb_cerevisiae\\Analysis\\MaxY_and_phaseplanes.ipynb"
      ]
     },
     "execution_count": 19,
     "metadata": {},
     "output_type": "execute_result"
    }
   ],
   "source": [
    "FileLink('Analysis/MaxY_and_phaseplanes.ipynb') "
   ]
  },
  {
   "cell_type": "markdown",
   "metadata": {},
   "source": [
    "#### Enumeration of production pathways\n",
    "The native biosynthetic pathway to heme found in S. cerevisiae, starting with succinyl-CoA from the TCA cycle, consists of eight reactions. Then we add a nineth reaction for the synthesis of hemoglobin. All enzymatic reaction steps can be seen in the analysis file as a list for each GSMM investigated (i.e., file: /Analysis/analysis_yeast8.ipynb, section: Enumerated pathway to recombinant hemoglobin in yeast, starting with glycine). This list is generated from a function found in Analysis/functions.py (function: get_rhb_pathway)."
   ]
  },
  {
   "cell_type": "markdown",
   "metadata": {},
   "source": [
    "picture"
   ]
  },
  {
   "cell_type": "markdown",
   "metadata": {},
   "source": [
    "Natively, no other potential production pathways exist in S. cerevisiae. However, the C5 ALA biosynthetic, finalized when glutamate is converted to glutamyl-tRNA by a synthetase, is present in S. cerevisiae. Herein, the final product, glutamyl-tRNA may be converted to aminolaevulinic acid and effectively enter the biosynthetic pathway to heme. As seen on figure 1 with HemA and HemL, this is possible with the introduction of two enzymatic reaction steps with glutamate semialdehyde as the intermediary metabolite."
   ]
  },
  {
   "cell_type": "markdown",
   "metadata": {},
   "source": [
    "### Cell factory factory engineering designs\n",
    "To increasing flux to, and yield of, recombinant hemoglobin, four cell factory engineering strategies were implemented:\n",
    "* Strategy 1: Manually derived strain designs\n",
    "* Strategy 2: Identification of knock out targets using the OptGene algorithm\n",
    "* Strategy 3: Identification of over-expression and down-regulation targets\n",
    "* Strategy 4: Cofactor swaps\n",
    "\n",
    "Description and results of these strategies can be found below. Finally, a top 10 list of the most promising cell factory designs will be provided.\n"
   ]
  },
  {
   "cell_type": "markdown",
   "metadata": {},
   "source": [
    "#### Strategy 1: Manually derived strain designs\n",
    "Based on literature, we here investigate manually derived strain designs. This includes heterologous expression of HemA and HemL, as well as  three knockout strategies for the Yeast8 GSMM.\n",
    "1. Heterologous expression of HemA and HemL\n",
    "2. Knockout of heme-activated proteins\n",
    "3. Knockout of hemoglobin-like protein that drains iron(II)\n",
    "4. Knockout of other heme-draining pathways\n",
    "\n",
    "**1. Heterologous expression of HemA and HemL** \n",
    "\n",
    "In an attempt to increase precursor availability in the production of hemoglobin, the number  of production pathways was increased by adding two heterologous reactions. These reactions were HemA and HemL, which are enzymes commonly used in the heme synthesis in plants and bacteria (KEGG K01845)(KEGG K02492). \n",
    "In the native yeast heme synthesis, glycine is the only amino acid used as a precursor. However, since HemA and HemL converts L-glutamate to 5-Aminolevulinate, a link between glutamate and the heme synthesis is generated, enabling the yeast to use glutamate as a precursor as well.\n",
    "\n",
    "The result of this heterologous expression was that no difference was observed for hemoglobin production and yield under normal conditions."
   ]
  },
  {
   "cell_type": "code",
   "execution_count": 20,
   "metadata": {},
   "outputs": [
    {
     "data": {
      "text/html": [
       "<a href='Analysis/Mutant_HemA_HemL.ipynb' target='_blank'>Analysis/Mutant_HemA_HemL.ipynb</a><br>"
      ],
      "text/plain": [
       "C:\\Users\\carol\\Documents\\DTU\\9_Semester_MSc\\27410 Computer-aided cell factory design\\Project\\group-assignment-2021-group_10_rhb_cerevisiae\\Analysis\\Mutant_HemA_HemL.ipynb"
      ]
     },
     "execution_count": 20,
     "metadata": {},
     "output_type": "execute_result"
    }
   ],
   "source": [
    "FileLink('Analysis/Mutant_HemA_HemL.ipynb') "
   ]
  },
  {
   "cell_type": "markdown",
   "metadata": {},
   "source": [
    "**2. Knockout of heme-activated proteins**\n",
    "\n",
    "In the lab, Saccharomyces cerevisiae activate the biosynthesis of heme when sensing oxygen though unknown mechanisms . The heme then goes on to activate mitochondrial respiration though the Hap1 protein . The Hap1p also supresses anaerobic metabolism though activation of the transcriptional repressor Rox1p .\n",
    "\n",
    "Ideally, we would knock out either HAP1 or ROX1 with the aim of increasing endogenous biosynthesis of heme. But since both proteins are transcription factors, and do not catalyse enzymatic reactions in the GSMM-sense, they are not to be found in the model. Instead, we may aim for some of the proteins that are upregulated by Hap1p and Rox1p.\n",
    "\n",
    "The proteins upregulated by Hap1p and Rox1p include cytochromes for mitochondrial respiration (CYC1, CYB2, CYC7, QCR2, CYT1) and other enzymes involved in the oxidative stress response (YHB1, CTT1, SOD2). All of which are present in the Yeast8 GSMM.\n",
    "\n",
    "Knocking out all the cytochromes for mitochondrial respiration significantly decreased the growth rate. It's like the model ignores fermentation as an option. We also see a significant drop in the rate of hemoglobin production , which was surprising as experimental data would suggest the opposite to be true .\n",
    "\n",
    "Knocking out the proteins involved in the oxidative stress response also appear to significantly decrease the growth rate, but not as much as when we knocked out all the cytochromes for mitochondrial respiration. Here we see no change in the rate of hemoglobin production. \n",
    "\n",
    "**3. Knockout of Yeast Frataxin Homolog protein that drains iron(II)**\n",
    "\n",
    "YFH1 is a hemoglobin-like protein  in S. cerevisiae, that catalyses the conversion of iron(II) to iron(III).\n",
    "\n",
    "We need iron(II) for the heme-groups in hemoglobin, so ideally we don't want to waste any in this pathway. As we say earlier in the media composition, iron(II) is by no means considered a limiting factor. However, in the real-world, the uptake and utilisation of iron(II) could very well be an important factor in the synthesis of heme. Therefore, we don't expect to see an increase in the yield of hemoglobin from this knockout, but rather we're interested in whether the knockout will impact the growth of our cell factory. Let's try knocking out YFH1 (https://www.yeastgenome.org/locus/S000002278).\n",
    "\n",
    "Just as we suspected, there was not change in the yield of hemoglobin. However, the growth-rate was significantly decreased . Rather than a knockout, it would be interesting to investingate just how significantly a down-regulation of the gene-expression would impact the growth rate.\n",
    "\n",
    "**4.Knockout of other heme-draining pathways**\n",
    "From figure 1, we see that the enzymes COX10 and COX15 does appear to drain heme to the Heme O and Heme A metabolites CYC3 and CYT2 also appear to drain heme into cytochrome C. However, knocking out any of these seem to have no effect on the rate of hemoglobin production, while it does significantly decrease the growth rate . These are like unattractive knockout targets. "
   ]
  },
  {
   "cell_type": "markdown",
   "metadata": {},
   "source": [
    "#### Strategy 2: Identification of knock out targets using the OptGene algorithm\n",
    "In addition to the intuitive knockouts performed above, OptGene was used in an attempt to find rational targets when the metabolism is viewed as a whole (Patil et al. 2005). However, no knockout targets were identified in the performed search. "
   ]
  },
  {
   "cell_type": "code",
   "execution_count": 21,
   "metadata": {},
   "outputs": [
    {
     "data": {
      "text/html": [
       "<a href='Analysis/Mutant_Optgene.ipynb' target='_blank'>Analysis/Mutant_Optgene.ipynb</a><br>"
      ],
      "text/plain": [
       "C:\\Users\\carol\\Documents\\DTU\\9_Semester_MSc\\27410 Computer-aided cell factory design\\Project\\group-assignment-2021-group_10_rhb_cerevisiae\\Analysis\\Mutant_Optgene.ipynb"
      ]
     },
     "execution_count": 21,
     "metadata": {},
     "output_type": "execute_result"
    }
   ],
   "source": [
    "FileLink('Analysis/Mutant_Optgene.ipynb') "
   ]
  },
  {
   "cell_type": "markdown",
   "metadata": {},
   "source": [
    "#### Strategy 3: Identification of  over-expression and down-regulation targets\n",
    "The search for potential knockout targets to improve hemoglobin productivity found no genes as described above. Based on this, the productivity improvement relied more heavily on another approach, namely identification of up- and downregulation targets. The method we used for this was Flux Scanning based on Enforced Objective Flux (FSEOF), an algorithm found in the CAMEO package (Cardoso et al. 2018). The FSEOF algorithm searches for up- and down-regulation targets by enforcing the flux of a desired reaction under the objective of maximizing biomass production (Choi et al 2010). The algorithm then identifies the metabolic fluxes, which increased or decreased when the desired reaction was forced to increase (Choi et al 2010)."
   ]
  },
  {
   "cell_type": "markdown",
   "metadata": {},
   "source": [
    "A forced increase in the hemoglobin exchange reaction led to identification of 194 targets, and of these 142 were up-regulation targets and 53 were down-regulation targets (see Analysis/Mutant_regulation_targets.ipynb) . And overall visualization of the regulation targets can be seen in figure X , which shows the percent change in flux from start to end in the FSEOF. The reactions visualized here are only those, which were not zero in the start. \n",
    "\n",
    "<img src=\"pics/Up_and_downregulation.png\" width=\"1100\"/>\n",
    "\n",
    "<center> <i> Fig X. Visualization of the percent change found in the FSEOF analysis from the first to the final flux. Primary axis shows all regulation targets (except those with zero flux at the start). </i> </center>"
   ]
  },
  {
   "cell_type": "markdown",
   "metadata": {},
   "source": [
    "The top 10 regulation targets with the highest absolute percent change  (900- 21745%) can be seen in Table X . As it can be seen here, target 5-10 are part of the heme synthesis pathway as well as the hemoglobin synthesis and exchange. Rationally, it makes sense that these are upregulated to generate a high production flux of hemoglobin. However, for target 1-4 the rationale is not immediately obvious, but it could potentially be explained with higher precursor availability. Nonetheless, results such as these clearly show one of the main advantages of computational algorithms, which is that they can view metabolism as a whole."
   ]
  },
  {
   "cell_type": "markdown",
   "metadata": {},
   "source": [
    "| No.       |     Reaction   id    |     Reaction   name                                            |     Function                       |\n",
    "|-----------|----------------------|----------------------------------------------------------------|------------------------------------|\n",
    "|     1     | GLYSTASYN            | Glycogen (starch) synthase                                     |     Glucose to   glycogen          |\n",
    "|     2     |     NAt3_1           | Sodium proton antiporter                                       |     Import H+   and export Na+     |\n",
    "|     3     |     ME2m             |     Malic   enzyme (NADP)                                      |     NADP+ to   NAPDH               |\n",
    "|     4     | TKT2                 |     Transketolase   2                                          |     Pentose   phosphate pathway    |\n",
    "|     5     |     rHb              |     -                                                           |     Hemoglobin   synthesis         |\n",
    "|     6     | EX_rHb               |     -                                                           |     Hemoglobin   exchange          |\n",
    "|     7     | PPBNGS               |     Porphobilinogen   synthase                                 |     Heme   synthesis               |\n",
    "|     8     | 5AOPtm               |     5-aminolevulinate   transport                              |     Heme   synthesis               |\n",
    "|     9     | ALASm                |     5-aminolevulinate   synthase                               |     Heme   synthesis               |\n",
    "|     10    | UPPDC1               |     Uroporphyrinogen   decarboxylase (uroporphyrinogen III)    |     Heme   synthesis               |"
   ]
  },
  {
   "cell_type": "markdown",
   "metadata": {},
   "source": [
    "Lastly, the upregulation targets closely related to heme and hemoglobin synthesis can be visualized in an Escher map (see Fig. X).  "
   ]
  },
  {
   "cell_type": "markdown",
   "metadata": {},
   "source": [
    "<img src=\"pics/Escher_up_and_downregulation.png\" width=\"1000\"/>"
   ]
  },
  {
   "cell_type": "markdown",
   "metadata": {},
   "source": [
    "<center> <i> Figure X: Escher visualization of the hemoglobin synthesis, including the heme synthesis pathway. Upregulation targets are marked in purple together with the flux obtained at 90% of max productivity of hemoglobin. </i> </center>"
   ]
  },
  {
   "cell_type": "markdown",
   "metadata": {},
   "source": [
    "With implementation of different up- and down-regulation targets, it was found that upregulation of the hemoglobin exchange reaction alone had a big impact on hemoglobin production. Implementation of the maximum flux found in the FSEOF analysis (to simulate upregulation) resulted in hemoglobin production and yield of 81% of the theoretical max and growth rate at 20% of the theoretical max."
   ]
  },
  {
   "cell_type": "code",
   "execution_count": 22,
   "metadata": {},
   "outputs": [
    {
     "data": {
      "text/html": [
       "<a href='Analysis/Mutant_regulation_targets.ipynb' target='_blank'>Analysis/Mutant_regulation_targets.ipynb</a><br>"
      ],
      "text/plain": [
       "C:\\Users\\carol\\Documents\\DTU\\9_Semester_MSc\\27410 Computer-aided cell factory design\\Project\\group-assignment-2021-group_10_rhb_cerevisiae\\Analysis\\Mutant_regulation_targets.ipynb"
      ]
     },
     "execution_count": 22,
     "metadata": {},
     "output_type": "execute_result"
    }
   ],
   "source": [
    "FileLink('Analysis/Mutant_regulation_targets.ipynb') "
   ]
  },
  {
   "cell_type": "markdown",
   "metadata": {},
   "source": [
    "#### Top 10 list of most promising cell factory designs"
   ]
  },
  {
   "cell_type": "markdown",
   "metadata": {},
   "source": [
    "## 5. Discussion (<500 words)"
   ]
  },
  {
   "cell_type": "markdown",
   "metadata": {},
   "source": [
    "## 6. Conclusion (<200 words)"
   ]
  },
  {
   "cell_type": "markdown",
   "metadata": {},
   "source": [
    "## 7. Reference list"
   ]
  },
  {
   "cell_type": "markdown",
   "metadata": {},
   "source": [
    "Cardoso, J. G. R., Jensen, K., Lieven, C., Hansen, A. S. L., Galkina, S., Beber, M., Özdemir, E., Herrgård, M. J., Redestig, H., & Sonnenschein, N. (2018). Cameo: A Python Library for Computer Aided Metabolic Engineering and Optimization of Cell Factories. ACS Synthetic Biology, 7(4), 1163–1166. https://doi.org/10.1021/acssynbio.7b00423  \n",
    "\n",
    "Chakane, S. (2017). Towards New Generation of Hemoglobin-Based Blood Substitutes (Doctoral dis- sertation). Lund University. https://portal.research.lu.se/portal/en/publications/towards- new - generation - of - hemoglobinbased - blood - substitutes(96f74e7f - 45b8 - 4292 - b3ea - 6b8b3607bc92).html \n",
    "\n",
    "Choi, H. S., Lee, S. Y., Kim, T. Y., & Woo, H. M. (2010). In silico identification of gene amplification targets for improvement of lycopene production. Applied and Environmental Microbiology, 76(10), 3097–3105. https://doi.org/10.1128/AEM.00115-10\n",
    "\n",
    "Dikicioglu, D., & Oliver, S. G. (2019). Extension of the yeast metabolic model to include iron metabolism and its use to estimate global levels of iron-recruiting enzyme abundance from cofactor requirements. Biotechnology and Bioengineering, 116(3), 610–621. https://doi.org/10.1002/bit.26905\n",
    "\n",
    "DNA and Cell Biology, 21(4). https://doi.org/10.1089/104454902753759690 \n",
    "\n",
    "Duarte, N. C., Herrgård, M. J., & Palsson, B. (2004). Reconstruction and validation of Saccharomyces cerevisiae iND750, a fully compartmentalized genome-scale metabolic model. Genome Research, 14(7), 1298–1309. https://doi.org/10.1101/gr.2250904\n",
    "\n",
    "Goffeau, A., Barrell, G., Bussey, H., Davis, R. W., Dujon, B., Feldmann, H., … Oliver, S. G. (1996). Life with 6000 genes. Science, 274(5287), 546–567. https://doi.org/10.1126/science.274.5287.546 \n",
    "\n",
    "Frost, A. T., Jacobsen, I. H., Worberg, A., & Mart´ınez, J. L. (2018). How synthetic biology and metabolic engineering can boost the generation of artificial blood using microbial production hosts. Frontiers in Bioengineering and Biotechnology, 6. https://doi.org/10.3389/fbioe.2018. 00186\n",
    "\n",
    "Ishchuk, O. P., Frost, A. T., Mun˜iz-Paredes, F., Matsumoto, S., Laforge, N., Eriksson, N. L., Martínez, J. L., & Petranovic, D. (2021). Improved production of human hemoglobin in yeast by engi- neering hemoglobin degradation. Metabolic Engineering, 66. https://doi.org/10.1016/j.ymben. 2021.05.002 \n",
    "\n",
    "KEGG ORTHOLOGY: K01845. (n.d.). Retrieved November 17, 2021, from https://www.genome.jp/entry/K01845+5.4.3.8+R02272\n",
    "\n",
    "KEGG ORTHOLOGY: K02492. (n.d.). Retrieved November 17, 2021, from https://www.genome.jp/entry/K02492+1.2.1.70+R04109 \n",
    "\n",
    "King, Z. A., Dräger, A., Ebrahim, A., Sonnenschein, N., Lewis, N. E., & Palsson, B. O. (2015). Escher: A Web Application for Building, Sharing, and Embedding Data-Rich Visualizations of Biological Pathways. PLoS Computational Biology, 11(8), 1–13. https://doi.org/10.1371/journal.pcbi.1004321\n",
    "\n",
    "Lindahl, P. A. (2019). A comprehensive mechanistic model of iron metabolism in Saccharomyces cerevisiae¡. Metallomics, 11(11), 1779–1799. https://doi.org/10.1039/C9MT00199A \n",
    "\n",
    "Liu, L., Martínez, J. L., Liu, Z., Petranovic, D., & Nielsen, J. (2014). Balanced globin protein expression and heme biosynthesis improve production of human hemoglobin in Saccharomyces cerevisiae. Metabolic Engineering, 21, 9–16. https://doi.org/10.1016/j.ymben.2013.10.010 \n",
    "\n",
    "Lu, H., Li, F., Sánchez, B. J., Zhu, Z., Li, G., Domenzain, I., … Nielsen, J. (2019). A consensus S. cerevisiae metabolic model Yeast8 and its ecosystem for comprehensively probing cellular metabolism. Nature Communications, 10(1). https://doi.org/10.1038/s41467-019-11581-3 \n",
    "\n",
    "Martínez, J. L., Liu, L., Petranovic, D., & Nielsen, J. (2015). Engineering the oxygen sensing regulation results in an enhanced recombinant human hemoglobin production by Saccharomyces cerevisiae. Biotechnology and Bioengineering, 112(1), 181–188. https://doi.org/10.1002/bit.25347 \n",
    "\n",
    "Mo, M. L., Palsson, B., & Herrgård, M. J. (2009). Connecting extracellular metabolomic measurements to intracellular flux states in yeast. BMC Systems Biology, 3, 1–17. https://doi.org/10.1186/1752-0509-3-37 \n",
    "\n",
    "Paoli, M., Marles-Wright, J., & Smith, A. (2002). Structure–Function Relationships in Heme-Proteins. \n",
    "\n",
    "Patil, K. R., Rocha, I., Förster, J., & Nielsen, J. (2005). Evolutionary programming as a platform for in silico metabolic engineering. BMC Bioinformatics, 6, 1–12. https://doi.org/10.1186/1471-2105-6-308 \n",
    "\n",
    "Varnado, C. L., Mollan, T. L., Birukou, I., Smith, B. J., Henderson, D. P., & Olson, J. S. (2013). Development of Recombinant Hemoglobin-Based Oxygen Carriers. Antioxidants & Redox Signaling, 18(17). https://doi.org/10.1089/ars.2012.4917 \n",
    "\n",
    "WHO Global Database on Blood Safety. (2020). Blood safety and availability. https://www.who.int/ news-room/fact-sheets/detail/blood-safety-and-availability(Accessed:02/05/2021)\n",
    "\n",
    "World Health Organization. (2016). Global status report on blood safety and availability, 2016. (tech. rep.). http : / /apps.who.int/iris/bitstream/handle/10665/254987/9789241565431- eng.pdf;jsessionid=25E5B63F44076C00D248BB63B0909ABD?sequence=1\n",
    "\n",
    "Zhao, X., Zhou, J., Du, G., & Chen, J. (2021). Recent Advances in the Microbial Synthesis of Hemoglobin. Trends in Biotechnology, 39(3), 286–297. https://doi.org/10.1016/j.tibtech.2020.08.004\n",
    "\n"
   ]
  },
  {
   "cell_type": "code",
   "execution_count": null,
   "metadata": {},
   "outputs": [],
   "source": []
  }
 ],
 "metadata": {
  "kernelspec": {
   "display_name": "Python 3",
   "language": "python",
   "name": "python3"
  },
  "language_info": {
   "codemirror_mode": {
    "name": "ipython",
    "version": 3
   },
   "file_extension": ".py",
   "mimetype": "text/x-python",
   "name": "python",
   "nbconvert_exporter": "python",
   "pygments_lexer": "ipython3",
   "version": "3.8.8"
  }
 },
 "nbformat": 4,
 "nbformat_minor": 4
}
