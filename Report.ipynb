{
 "cells": [
  {
   "cell_type": "code",
   "execution_count": 2,
   "metadata": {},
   "outputs": [],
   "source": [
    "from IPython.display import FileLink, FileLinks"
   ]
  },
  {
   "cell_type": "markdown",
   "metadata": {},
   "source": [
    "# Optimisation of *Saccharomyces cerevisiae* for production of hemoglobin"
   ]
  },
  {
   "cell_type": "markdown",
   "metadata": {},
   "source": [
    "## 1. Introduction"
   ]
  },
  {
   "cell_type": "markdown",
   "metadata": {},
   "source": [
    "### 1.1 Literature review of the compound\n",
    "Hemoglobin is a large heme-containing tetrameric protein found in the red blood cells. These hemoglobin proteins both show immense market potential in two sectors. The first sector is that of food additives, as hemoglobin provide a flavour of the meat. These flavour properties are especially sought after by companies developing plant-based meat substitutes. Furthermore, hemoglobin is an essential protein that gives blood its oxygen-carrying properties in mammals. Thus, a hemoglobin producing cellular factory opens the opportunity of penetrating the pharmaceutical sector with a substitute for blood transfusions (Frost *et al.*, 2018). \n",
    "\n",
    " \n",
    "\n",
    "The supply of blood to the market for blood transfusions is currently highly dependent on whole blood donations. According to the WHO Global Database on Blood Safety, 118.5 million units of blood were donated globally in 2018, with most countries not collecting enough blood to be self-sufficient (WHO Global Database on Blood Safety, 2020). However, this could potentially change with the introduction of Hemoglobin-Based Blood Substitutes such as recombinant Hemoglobin-Based Oxygen Carriers (Chakane, 2017). Such a fermentation-based manufacturing process is scalable to match the demand. \n",
    "\n",
    " \n",
    "\n",
    "Furthermore, recombinant Hemoglobin-Based Oxygen Carriers (rHBOC) are superior to red blood cell concentrate from whole-blood donations on several parameters. Among these, rHBOC have a significantly longer shelf-life than blood with more relaxed storage requirements (Chakane, 2017). Additionally, rHBOC does not risk carrying pathogens causing transfusion-transmissible diseases such as hepatitis, HIV, and syphilis. In high-income countries, these challenges do not constitute a major problem since the median discard rate of blood due to expiration is 2.7%, and the detection of transfusion-transmissible is 1.1% (World Health Organization, 2016). However, these numbers are much higher for all countries not categorised as high-income. Rural areas of low-income countries may also benefit from rHBOC as the relaxed storage requirements mean that refrigeration, an essential factor that often limits access to blood, is not necessary (Chakane, 2017). However, these markets are unlikely to be part of a 'go-to-market’-strategy, due to low investment returns. Therefore, we assume that any initial market penetration will be in high-income countries. \n",
    "\n",
    " \n",
    "\n",
    "In high-income countries the main advantages of rHBOC are the elimination of the necessity for blood-type compatibility matching and laboratory screening for transfusion-transmissible diseases, a scalable production, and the opportunity for ambulance first-responders to carry rHBOC for in-field transfusions (Frost *et al.* , 2018). \n",
    "\n",
    "\n",
    "Based on calculations from the fixed reimbursement price of a unit of blood in the United States, hemoglobin has an estimated value of \\$4,000 per kg (Varnado *et al.*, 2013). The market size for hemoglobin proteins in human blood transfusions is around three metric tons per year in high-income countries but is estimated to be much larger globally. Based on our calculations, solely focusing on the market in high-income countries, the annual demand for hemoglobin proteins corresponds to revenue exceeding \\$8 billion. "
   ]
  },
  {
   "cell_type": "markdown",
   "metadata": {},
   "source": [
    "### 1.2 Literature review of the cell factory\n",
    "\n",
    "Since hemoglobin is a protein, there is no direct metabolic pathway towards its synthesis, but rather it goes through all the amino acids used in the translation. Nonetheless, the hemoglobin tetramer contains four identical heme-groups that have their biosynthetic pathway.  \n",
    "\n",
    " \n",
    "\n",
    "Heme is a coordination complex, or iron–porphyrin complex, ubiquitous in nature and vital for many biological systems and found in many proteins besides hemoglobin. Structurally, heme is a prosthetic group with a ferrous iron confined to porphyrin by covalent bonds. Because the ferrous iron can be oxidised and reduced, the primary function of heme is related to these redox properties. This gives heme-containing proteins a wide range of activities, including the electron transfer activities of cytochromes, regulation of gene expression and oxygen transport (Paoli *et al.*, 2002). Therefore, we will investigate the iron metabolism of *Saccharomyces cerevisiae*, wherein eight reactions steps convert glycine to heme (Lindahl *et al.*, 2019), as seen in figure 1. "
   ]
  },
  {
   "cell_type": "markdown",
   "metadata": {},
   "source": [
    "<img src=\"pics/Shortest_heme_path.png\" width=\"1000\"/>\n",
    "\n",
    "\n",
    "**Figure 1**. *Porphyrin and chlorophyll metabolism of S. cerevisiae (enzymes marked green are present in S. cerevisiae). The shortest pathway from glycine to heme  is highlighted in red Illustration from KEGG PATHWAY Database. (Ishchuk et al., 2021; Martinez et al., 2015)*"
   ]
  },
  {
   "cell_type": "markdown",
   "metadata": {},
   "source": [
    "<br></br>\n",
    "\n",
    "We define recombinant Hemoglobin-Based Oxygen Carriers as active hemoglobin proteins (rHb) produced in a genetically modified cell factory. Both *Escherichia coli* and *S. cerevisiae* has been investigated for their potential as producer organisms for rHb (Zhao *et al.*, 2021). \n",
    "\n",
    "*E. coli* has produced up to 6.6 g/L rHb proteins in clarified lysates. Whereas very recently published data from *S. cerevisiae* push the cell factory to produce 18% rHb of the total cell protein content (Varnado *et al.*, 2013; Ishchuk *et al.*, 2021), corresponding to approximately 6.4 g/L rHb proteins based on our calculations. Assuming a 60% loss of product to downstream processing, rHb produced in *E. coli*, and *S. cerevisiae* has an estimated cost of production of $11/g and $5.8/g, respectively (Frost *et al.*, 2018; Varnado *et al.*, 2013; Ishchuk *et al.*, 2021). \n",
    "\n",
    " \n",
    "\n",
    "One big issue encountered with *E. coli* was that the function of the hemoglobin was altered compared to normal mature hemoglobin because of an added methionine at the termini of the globin chains (Frost *et al.*, 2018; Zhao *et al.*, 2021). Because of this, eukaryotic hosts are more suitable for producing human hemoglobin, and thus, *S. cerevisiae* became our focus (Frost *et al.*, 2018). \n",
    "\n",
    " \n",
    "\n",
    "The main advantages of this species include its GRAS status (generally regarded as safe) and its vast genetic toolbox (Liu *et al.*, 2014). The disadvantage observed in *S. cerevisiae* is that, even though heme is produced naturally, high concentrations are toxic for the cell because it can originate reactive oxygen species (ROS) (Frost *et al.*, 2018). Additionally, yeast is not very good at secreting proteins compared to, for example, filamentous fungi. Nevertheless, we have chosen to investigate *S. cerevisiae*, also knowns as baker's yeast, as a cell factory for the production of rHb. "
   ]
  },
  {
   "cell_type": "markdown",
   "metadata": {},
   "source": [
    "## 2. Problem definition\n",
    "\n",
    "With the current cost of producing rHb in *S. cerevisiae*, ($\\$$5.8 /g ) , improvements must be made to the cell factory for the rHb to become price-competitive with hemoglobin proteins derived from donated whole blood. Since the rHb-price of $\\$$5.8 /g is estimated based on the titer of 4.61 g rHb/L, we estimate that a titer of 6.40 g rHb/L will decrease the rHb-price to $\\$$4.2, as illustrated in figure 2. With an rHb-price of $\\$$4.2, we believe the product will have a much better chance of competing with donated whole blood on price, scalability, shelf life, and many more parameters (Frost *et al.*, 2018; Chakane, 2017; Ishchuk *et al.*, 2021). To further this goal, we will be utilising a genome-scale metabolic model (GSMM) of *S. cerevisiae* to find potential targets for metabolic engineering in order to increase the flux to and, thereby, yield of recombinant hemoglobin. "
   ]
  },
  {
   "cell_type": "markdown",
   "metadata": {},
   "source": [
    "<img src=\"pics/Price_aim.png\" width=\"700\"/>\n",
    "\n",
    "\n",
    "**Figure 2.** *The economics of recombinant human hemoglobin (rHb) production in genetically modified Saccharomyces cerevisiae strains. The inverse relationship between the relative production of rHb to total cell protein content and the variable cost of rHb. The red line indicates when a cell factory breaks even with the price of human hemoglobin proteins extracted from whole blood donations (Varnado et al., 2013).*"
   ]
  },
  {
   "cell_type": "markdown",
   "metadata": {},
   "source": [
    "## 3. Selection and assessment of existing GSM"
   ]
  },
  {
   "cell_type": "markdown",
   "metadata": {},
   "source": [
    "A commonly used laboratory strain of *S. cerevisiae* is the CEN.PK strain. Specifically, strains derived from CEN.PK such as CEN.PK113-7D. Unfortunately, there are currently no available GSMMs for this particular strain. However, when modelling CEN.PK strains, or *S. cerevisiae* in general, GSMMs of the S228C strain is often used. S227C have two GSMMs available directly from BiGG Models: iND750 and iMM904. These two models were published in 2004 and 2009, respectively, and iMM904 is, in fact, an expanded version of iND750 (Duarte *et al.* 2004; Mo *et al.* 2009).  \n",
    "\n",
    "An evaluation of the two models using Memote can be seen in Table 1, and a direct comparison can be found in: "
   ]
  },
  {
   "cell_type": "code",
   "execution_count": 3,
   "metadata": {},
   "outputs": [
    {
     "data": {
      "text/html": [
       "<a href='Analysis/memote/750vs904.html' target='_blank'>Analysis/memote/750vs904.html</a><br>"
      ],
      "text/plain": [
       "C:\\Users\\carol\\Documents\\DTU\\9_Semester_MSc\\27410 Computer-aided cell factory design\\Project\\group-assignment-2021-group_10_rhb_cerevisiae\\Analysis\\memote\\750vs904.html"
      ]
     },
     "execution_count": 3,
     "metadata": {},
     "output_type": "execute_result"
    }
   ],
   "source": [
    "FileLink('Analysis/memote/750vs904.html') "
   ]
  },
  {
   "cell_type": "markdown",
   "metadata": {},
   "source": [
    "From these, it is evident that the two models are very similar and both overall good models. Nonetheless, iMM904 has more metabolites, reactions and genes, which makes it a more complex model and potentially a more accurate model. However, many genes are not modelled by these models, as *S. cerevisiae* has an estimated number of 6000 genes (Goffeau *et al.* 1996). Therefore, more complex models were also explored to see if they are suitable for this project. \n",
    "\n",
    "An exciting model from 2018 incorporated the iron metabolism into a GSMM of *S. cerevisiae*. The model is called MODEL1709260000 and contains 3543 metabolites, 4822 reactions and 1226 genes (Dikicioglu *et al.* 2019). While the MODEL1709260000 is a very complex model, Memote shows it does have problems with the overall charge balance and the general consistency of the model. Some selected scores from the Memote evaluation of MODEL1709260000 can be found in table 1.  \n",
    "\n",
    "Finally, the community-driven comprehensive GSMM yeast-GEM project was also evaluated. The latest version of this GSMM is Yeast8 and contains 2742 metabolites, 4058 reactions and 1150 genes (Lu *et al.* 2019). Running Yeast8 through Memote shows that despite being a complex model like MODEL1709260000, it scores overall better and closer to the smaller models of S228C. Results from its Memote evaluation can be found in table 1. "
   ]
  },
  {
   "cell_type": "markdown",
   "metadata": {},
   "source": [
    "\n",
    "<center> <i> Table 1. Shows selected parameters from Memote evaluations of the four GSMMs considered in this project.  </i> </center>"
   ]
  },
  {
   "cell_type": "markdown",
   "metadata": {},
   "source": [
    "| ***S. cerevisiae model***  | Total score(%)  | Total reactions  | Total metabolites  | Total Genes  | Metabolic coverage  | Consistency score (%)  | Annotation-<br>metabolites score (%)  | Annotation-<br>reactions score (%)  |\n",
    "|----------------------|-----------------|------------------|--------------------|--------------|---------------------|------------------------|---------------------------------------|-------------------------------------|\n",
    "| iND750               | 86              | 1266             | 1059               | 750          | 1.69                | 85                     | 80                                    | 83                                  |\n",
    "| iMM904               | 85              | 1577             | 1226               | 905          | 1.74                | 85                     | 80                                    | 82                                  |\n",
    "| MODEL1709260000      | 34              | 4822             | 3543               | 1226         | 3.9                 | 31                     | 57                                    | 53                                  |\n",
    "| Yeast8               | 67              | 4058             | 2742               | 1150         | 3.53                | 50                     | 66                                    | 65                                  |"
   ]
  },
  {
   "cell_type": "markdown",
   "metadata": {},
   "source": [
    "<br></br>\n",
    "\n",
    "Both large models were not BiGG complaint in their annotations. To make the Memote evaluation work, they were made BiGG compliant, using the function 'def read_yeast_model(model_path)'. The function can be found in the file: "
   ]
  },
  {
   "cell_type": "code",
   "execution_count": 4,
   "metadata": {},
   "outputs": [
    {
     "data": {
      "text/html": [
       "<a href='Analysis/functions.py' target='_blank'>Analysis/functions.py</a><br>"
      ],
      "text/plain": [
       "C:\\Users\\carol\\Documents\\DTU\\9_Semester_MSc\\27410 Computer-aided cell factory design\\Project\\group-assignment-2021-group_10_rhb_cerevisiae\\Analysis\\functions.py"
      ]
     },
     "execution_count": 4,
     "metadata": {},
     "output_type": "execute_result"
    }
   ],
   "source": [
    "FileLink('Analysis/functions.py')"
   ]
  },
  {
   "cell_type": "markdown",
   "metadata": {},
   "source": [
    "Based on the assessment of the four models we chose to use Yeast8 to represent *S. cerevisiae* in this project. This was mainly because it is a more comprehensive model, which potentially can give a more accurate picture of the metabolic engineering. Furthermore, in comparison to MODEL1709260000, the consistency and mass balance was better."
   ]
  },
  {
   "cell_type": "markdown",
   "metadata": {},
   "source": [
    "## 4. Computer-Aided Cell Factory Engineering"
   ]
  },
  {
   "cell_type": "markdown",
   "metadata": {},
   "source": [
    "### Characterization of cell factory model"
   ]
  },
  {
   "cell_type": "markdown",
   "metadata": {},
   "source": [
    "#### Incorporation of the heterologous pathway\n",
    "Since hemoglobin is not a metabolite but a protein, it cannot be added to the model by including additional enzymatic steps that lead to the product. Instead, the protein is added to the model through a pseudo reaction that simulates the ribosomal translation process and the subsequent complex formation. This is done by adding one reaction, which consumes all amino acids needed to form all four subunits as well as the four heme cofactors, creating one hemoglobin molecule.  \n",
    "\n",
    " \n",
    "The addition of a hemoglobin protein allows the model to account for flux required for amino acid production. Therefore, it should give a better representation of rHb production than simply assuming a linear correlation of rHb production with heme production.  \n",
    "\n",
    "Although hemoglobin is not secreted biologically, an additional exchange reaction for rHb is added to allow flux through the rHb reaction in the model. Addition of the heterologous pathway can be found as the ‘add_rhb’ function in: "
   ]
  },
  {
   "cell_type": "code",
   "execution_count": 5,
   "metadata": {},
   "outputs": [
    {
     "data": {
      "text/html": [
       "<a href='Analysis/functions.py' target='_blank'>Analysis/functions.py</a><br>"
      ],
      "text/plain": [
       "C:\\Users\\carol\\Documents\\DTU\\9_Semester_MSc\\27410 Computer-aided cell factory design\\Project\\group-assignment-2021-group_10_rhb_cerevisiae\\Analysis\\functions.py"
      ]
     },
     "execution_count": 5,
     "metadata": {},
     "output_type": "execute_result"
    }
   ],
   "source": [
    "FileLink('Analysis/functions.py') "
   ]
  },
  {
   "cell_type": "markdown",
   "metadata": {},
   "source": [
    "Given a glucose uptake rate of 10 mmol/(gDW* h), the maximum theoretical growth rate was found to be 0.86 h<sup>-1</sup>. Additionally, the maximum theoretical production and yield of hemoglobin were 0.016 mmol/(gDW* h) and 0.0016 mmol-hemoglobin/mmol-glucose, respectively.  "
   ]
  },
  {
   "cell_type": "markdown",
   "metadata": {},
   "source": [
    "#### Phenotypic phase planes for relevant process conditions\n",
    "To optimise the production of hemoglobin it is useful to know how uptake rates of different media components impact hemoglobin production rate. This was investigated using phenotypic phase planes, revealing the trade-off between growth and rHb production.  "
   ]
  },
  {
   "cell_type": "code",
   "execution_count": 6,
   "metadata": {},
   "outputs": [
    {
     "data": {
      "text/html": [
       "<a href='Analysis/MaxY_and_phaseplanes.ipynb' target='_blank'>Analysis/MaxY_and_phaseplanes.ipynb</a><br>"
      ],
      "text/plain": [
       "C:\\Users\\carol\\Documents\\DTU\\9_Semester_MSc\\27410 Computer-aided cell factory design\\Project\\group-assignment-2021-group_10_rhb_cerevisiae\\Analysis\\MaxY_and_phaseplanes.ipynb"
      ]
     },
     "execution_count": 6,
     "metadata": {},
     "output_type": "execute_result"
    }
   ],
   "source": [
    "FileLink('Analysis/MaxY_and_phaseplanes.ipynb') "
   ]
  },
  {
   "cell_type": "markdown",
   "metadata": {},
   "source": [
    "<img src=\"pics/rhb_phaseplanes.PNG\" width=\"1000\"/>\n",
    "\n",
    "\n",
    "**Figure 3**. *Phenotypic phase planes show rHb production as a function of growth (left) and oxygen (right).*"
   ]
  },
  {
   "cell_type": "markdown",
   "metadata": {},
   "source": [
    "Looking at the phenotypic phase plane for growth rate and rHb production, it is seen that they are negatively correlated (Fig. 3, left). This means that rHb production is not coupled to growth, and since both require carbon, any increase in flux to one reaction must cause a decrease to the other.  \n",
    "\n",
    "The phenotypic phase planes depict the effects of increasing uptake rates, not media composition, and due to mass balances any increase in uptake flux must be 'distributed' in the model.  This can be seen from the phase planes for carbon and iron(II), where increased uptake increases production rates (figures not shown here, see filelink above). It is crucial to remember that this model does not account for inhibitory effects and limitations in uptake rates of enzyme concentrations. A true optimum can, therefore, not be depicted.  \n",
    "\n",
    "The phase plane of rHb’s dependency on oxygen (Fig. 3, right) shows optimum just below –10 which matches the glucose uptake rate. At higher oxygen uptake rates rHb production decreases linearly. The cause of this is unknown but could be because excess O<sub>2</sub> forces fluxes that are unfavourable for growth. Phenotypic phase planes for growth can be seen in the same file.  \n",
    "\n",
    "The model growth stops when oxygen uptake is 0 instead of shifting to fermentative growth (Fig. 3, right). It was attempted to add the essential media components for anaerobic growth, but they were unsuccessful (Systems biology group, 2021)."
   ]
  },
  {
   "cell_type": "markdown",
   "metadata": {},
   "source": [
    "#### Enumeration of production pathways\n",
    "The native biosynthetic pathway of heme in *S. cerevisiae* is the C4 pathway (Zhang *et al.*, 2015), which starts with the condensation of glycine and succinyl-CoA, and consists of 8 reactions (Fig. 1). This means that *S. cerevisiae* only has one production pathway, but a different pathway can be found in plants and bacteria (Zhang *et al.*, 2015). This is the C5 pathway, which uses glutamate instead of glycine. The possibility of using this in the cell factory design of *S. cerevisiae* will be investigated in a later section. "
   ]
  },
  {
   "cell_type": "markdown",
   "metadata": {},
   "source": [
    "### Cell factory factory engineering designs\n",
    "To increase flux to, and the yield of, rHb three cell factory engineering strategies were investigated: \n",
    "\n",
    "* Strategy 1: Manually derived strain designs \n",
    "* Strategy 2: Identification of knock out targets using the OptGene algorithm \n",
    "* Strategy 3: Identification of over-expression and down-regulation targets \n",
    "\n",
    "The description and results of these strategies can be found below. "
   ]
  },
  {
   "cell_type": "markdown",
   "metadata": {},
   "source": [
    "#### Strategy 1: Manually derived strain designs\n",
    "Based on the literature, we here investigate manually derived strain designs. This includes heterologous expression of HemA and HemL and three knockout strategies for the Yeast8 GSMM. \n",
    "\n",
    "* Heterologous expression of HemA and HemL \n",
    "* Knockout of heme-activated proteins \n",
    "* Knockout of hemoglobin-like protein that drains iron(II) \n",
    "* Knockout of other heme-draining pathways \n",
    "\n",
    "The code for the knockout strategies can be found in the section \"Rationale-based genetic modifications\" in: "
   ]
  },
  {
   "cell_type": "code",
   "execution_count": 7,
   "metadata": {},
   "outputs": [
    {
     "data": {
      "text/html": [
       "<a href='Analysis/analysis_yeast8.ipynb' target='_blank'>Analysis/analysis_yeast8.ipynb</a><br>"
      ],
      "text/plain": [
       "C:\\Users\\carol\\Documents\\DTU\\9_Semester_MSc\\27410 Computer-aided cell factory design\\Project\\group-assignment-2021-group_10_rhb_cerevisiae\\Analysis\\analysis_yeast8.ipynb"
      ]
     },
     "execution_count": 7,
     "metadata": {},
     "output_type": "execute_result"
    }
   ],
   "source": [
    "FileLink('Analysis/analysis_yeast8.ipynb') "
   ]
  },
  {
   "cell_type": "markdown",
   "metadata": {},
   "source": [
    "**1. Heterologous expression of HemA and HemL**\n",
    "\n",
    "In an attempt to increase precursor availability in the production of hemoglobin, the C5 heme pathway was made accessible to the yeast in addition to the already existing C4 pathway. This was done was by adding two heterologous reactions: HemA (KEGG K01845) and HemL (KEGG K02492). These two convert L-glutamyl-tRNA to 5-Aminolevulinate, thereby creating a link between glutamate and the heme synthesis, as shown in figure 4.  \n",
    "\n",
    "The result of this heterologous expression was that no difference was observed for hemoglobin production and yield when the model was optimised for hemoglobin production. However, it is possible that a difference can be observed when growth and rHb production has to be balanced because two amino acids pools can be used for heme."
   ]
  },
  {
   "cell_type": "markdown",
   "metadata": {},
   "source": [
    "<img src=\"pics/HemAHemL.png\" width=\"700\"/>\n",
    "\n",
    "\n",
    "**Figure 4**. *The native C4 pathway is marked in red, and the pathway made possible by adding HemA and HemL is marked in blue.*"
   ]
  },
  {
   "cell_type": "markdown",
   "metadata": {},
   "source": [
    "**2. Knockout of heme-activated proteins**\n",
    "\n",
    "The heme synthesis is heavily regulated, and two key regulators are Hap1 and Rox1, which activates aerobic respiration and suppresses anaerobic to keep heme at a non-toxic level. Experimental studies show that heme synthesis can be increased by knocking out these negative regulators (Martínez, J. L., *et al.*, 2016; Ishchuk *et al.*, 2021). However, since our GSM does not capture regulation, the targets of Hap1 and Rox1 were instead knocked out.  \n",
    "\n",
    "The proteins upregulated by Hap1p and Rox1p include cytochromes for mitochondrial respiration (CYC1, CYB2, CYC7, QCR2, CYT1) and other enzymes involved in the oxidative stress response (YHB1, CTT1, SOD2). All of which are present in the Yeast8 GSMM. "
   ]
  },
  {
   "cell_type": "markdown",
   "metadata": {},
   "source": [
    "| *Table 2 Results for the knockout <br>of heme activated proteins* |                              |                                                                                                  |\n",
    "|---------------------------------------------------------------|------------------------------|--------------------------------------------------------------------------------------------------|\n",
    "| Modification                                                  | Growth rate [h<sup>-1</sup>] | Strain specific maximum theoretical yield of hemoglobin on glucose <br>[mmol-rHb / mmol-glucose] |\n",
    "| Wild type                                                     | 0.8637                       | 0.001633                                                                                         |\n",
    "| *ΔCYC1, ΔCYB2, ΔCYC7, ΔQCR2, ΔCYT1*                             | 0.0055                       | 0.000558                                                                                         |\n",
    "| *ΔYHB1, ΔCTT1, ΔSOD2*                                           | 0.01633                      | 0.001633                                                                                         |                               |\n"
   ]
  },
  {
   "cell_type": "markdown",
   "metadata": {},
   "source": [
    "Knocking out all the cytochromes for mitochondrial respiration significantly decreased the growth rate. This is likely because the model cannot redirect the metabolism to utilise the fermentative pathway on the media used (see discussion). A significant drop is also seen in the rate of hemoglobin production, which was surprising as experimental data would suggest the opposite to be true (Martínez, J. L., et al., 2016). \n",
    "\n",
    "Knocking out the proteins involved in the oxidative stress response also appears to decrease the growth rate significantly, but not as much as when we knocked out all the cytochromes for mitochondrial respiration. Here we see no change in the rate of hemoglobin production. \n",
    "\n",
    "\n",
    "**3. Knockout of Yeast Frataxin Homolog protein that drains iron(II)** \n",
    "\n",
    "YFH1 is a hemoglobin-like protein in *S. cerevisiae*, which catalyses the conversion of iron(II) to iron(III). "
   ]
  },
  {
   "cell_type": "markdown",
   "metadata": {},
   "source": [
    "\n",
    "| *Table 3. Results for the <br>knockout of Iron(II) draining pathways* |                              |                                                                                                  |\n",
    "|---------------------------------------------------------------|------------------------------|--------------------------------------------------------------------------------------------------|\n",
    "| Modification                                                  | Growth rate [h<sup>-1</sup>] | Strain specific maximum theoretical yield of hemoglobin on glucose <br>[mmol-rHb / mmol-glucose] |\n",
    "| Wild type                                                     | 0.8637                       | 0.001633                                                                                         |\n",
    "| *ΔYHB1*                                                         | 0.01633                      | 0.000558                                                                                         |\n",
    "\n"
   ]
  },
  {
   "cell_type": "markdown",
   "metadata": {},
   "source": [
    "Iron(II) is needed for the heme-groups in hemoglobin and. Biologically, the uptake and utilisation of iron(II) could very well be an essential factor in the synthesis of heme and should ideally not be wasted in this pathway. However, iron(II) is not a limiting factor in this model, and an increase in hemoglobin yield is not expected from this knockout. Instead, it should show whether the knockout will impact the growth of the cell factory, which was indeed the result. This indicates that iron(III) is part of the growth mass balance or that iron(III) is needed for other intermediates essential for growth.  \n",
    "Rather than a knockout, it would, in future work, be interesting to investigate just how significantly a down-regulation of the gene expression would impact the growth rate. "
   ]
  },
  {
   "cell_type": "markdown",
   "metadata": {},
   "source": [
    "**4. Knockout of other heme-draining pathways**\n",
    "\n",
    "As seen from figure 1, heme can potentially be drained towards production of Heme O and Heme A (by enzymes COX10 and COX15) and towards cytochrome C (by CYC3 and CYT2). However, knocking out any of these does not affect the hemoglobin production rate, but it significantly decreases the growth rate. The lack of effect is likely because the model already set the flux of draining reactions to zero when optimising for hemoglobin reaction. However, this might be different in an experimental setting.  "
   ]
  },
  {
   "cell_type": "markdown",
   "metadata": {},
   "source": [
    "\n",
    "| *Table 4. Results for the knockout <br>of heme draining pathways.*   |                              |                                                                                                  |\n",
    "|--------------|------------------------------|--------------------------------------------------------------------------------------------------|\n",
    "| Modification | Growth rate [h<sup>-1</sup>] | Strain specific maximum theoretical yield of hemoglobin on glucose <br>[mmol-rHb / mmol-glucose] |\n",
    "| Wild type    | 0.8637                       | 0.001633                                                                                         |\n",
    "| ΔCOX10       |    <br>0.01633               | 0.001633                                                                                         |\n",
    "| ΔCOX15       |    <br>0.01633               | 0.001633                                                                                         |\n",
    "| ΔCYC3        |    <br>0.01633               | 0.001633                                                                                         |\n",
    "| ΔCYT2        |    <br>0.01633               | 0.001633                                                                                         |\n",
    "\n"
   ]
  },
  {
   "cell_type": "markdown",
   "metadata": {},
   "source": [
    "#### Strategy 2: Identification of knock out targets using the OptGene algorithm\n",
    "In addition to the intuitive knockouts performed above, OptGene was used to find rational targets when the metabolism is viewed as a whole (Patil *et al.* 2005). However, no knockout targets were identified in the performed search.    "
   ]
  },
  {
   "cell_type": "code",
   "execution_count": 9,
   "metadata": {},
   "outputs": [
    {
     "data": {
      "text/html": [
       "<a href='Analysis/Mutant_Optgene.ipynb' target='_blank'>Analysis/Mutant_Optgene.ipynb</a><br>"
      ],
      "text/plain": [
       "C:\\Users\\carol\\Documents\\DTU\\9_Semester_MSc\\27410 Computer-aided cell factory design\\Project\\group-assignment-2021-group_10_rhb_cerevisiae\\Analysis\\Mutant_Optgene.ipynb"
      ]
     },
     "execution_count": 9,
     "metadata": {},
     "output_type": "execute_result"
    }
   ],
   "source": [
    "FileLink('Analysis/Mutant_Optgene.ipynb')"
   ]
  },
  {
   "cell_type": "markdown",
   "metadata": {
    "tags": []
   },
   "source": [
    "#### Strategy 3: Identification of  over-expression and down-regulation targets\n",
    "The last strategy investigated was identification of over-expression and down-regulation targets. The method we used for this was Flux Scanning based on Enforced Objective Flux (FSEOF) (CAMEO package (Cardoso *et al.* 2018)). This algorithm searches for over-expression and down-regulation targets by enforcing the flux of the hemoglobin exchange reaction in our case, under the objective of maximising biomass production (Choi *et al.* 2010). The algorithm then identifies the metabolic fluxes that increased or decreased when hemoglobin exchange was forced to increase (Choi *et al.* 2010). "
   ]
  },
  {
   "cell_type": "code",
   "execution_count": 11,
   "metadata": {},
   "outputs": [
    {
     "data": {
      "text/html": [
       "<a href='Analysis/Mutant_regulation_targets2.ipynb' target='_blank'>Analysis/Mutant_regulation_targets2.ipynb</a><br>"
      ],
      "text/plain": [
       "C:\\Users\\carol\\Documents\\DTU\\9_Semester_MSc\\27410 Computer-aided cell factory design\\Project\\group-assignment-2021-group_10_rhb_cerevisiae\\Analysis\\Mutant_regulation_targets2.ipynb"
      ]
     },
     "execution_count": 11,
     "metadata": {},
     "output_type": "execute_result"
    }
   ],
   "source": [
    "FileLink('Analysis/Mutant_regulation_targets2.ipynb')"
   ]
  },
  {
   "cell_type": "markdown",
   "metadata": {},
   "source": [
    "This led to the identification of 194 targets: 142 over-expression targets and 53 down-regulation targets. An overall visualisation of the regulation targets can be seen in figure 5, which shows the percent change in flux from start to end in the FSEOF. The reactions visualised here are only those, which were not zero at the beginning."
   ]
  },
  {
   "cell_type": "markdown",
   "metadata": {},
   "source": [
    "<img src=\"pics/Up_and_downregulation.png\" width=\"900\"/>\n",
    "\n",
    "\n",
    "**Figure 5**. *Visualisation of the percent change found in the FSEOF analysis from the first to the final flux. The primary axis shows all regulation targets (except those with zero flux at the start).*"
   ]
  },
  {
   "cell_type": "markdown",
   "metadata": {},
   "source": [
    "The top 10 regulation targets with the highest absolute percent change (900- 21.745%) can be seen in Table 5. As it can be seen here, target 5-10 are part of the heme synthesis pathway as well as the hemoglobin synthesis and exchange. Rationally, it makes sense that these are upregulated to generate a high production flux of hemoglobin. However, the rationale for targets 1-4 is not immediately obvious, but it could potentially be explained with higher precursor availability. Nonetheless, results such as these clearly show one of the main advantages of computational algorithms: they can view metabolism as a whole."
   ]
  },
  {
   "cell_type": "markdown",
   "metadata": {},
   "source": [
    "| *Table 5. Top 10 targets <br>found in the FSEOF analysis* |              |                                                        |                            |\n",
    "|-----------------------------------------------------------|--------------|--------------------------------------------------------|----------------------------|\n",
    "| No.                                                       | Reaction id  | Reaction name                                          | Function                   |\n",
    "| 1                                                         | GLYSTASYN    | Glycogen (starch) synthase                             | Glucose to glycogen        |\n",
    "| 2                                                         | NAt3_1       | Sodium proton antiporter                               | Import H+ and export Na+   |\n",
    "| 3                                                         | ME2m         | Malic enzyme (NADP)                                    | NADP+ to NAPDH             |\n",
    "| 4                                                         | TKT2         | Transketolase 2                                        | Pentose phosphate pathway  |\n",
    "| 5                                                         | rHb          | -                                                      | Hemoglobin synthesis       |\n",
    "| 6                                                         | EX_rHb       | -                                                      | Hemoglobin exchange        |\n",
    "| 7                                                         | PPBNGS       | Porphobilinogen synthase                               | Heme synthesis             |\n",
    "| 8                                                         | 5AOPtm       | 5-aminolevulinate transport                            | Heme synthesis             |\n",
    "| 9                                                         | ALASm        | 5-aminolevulinate synthase                             | Heme synthesis             |\n",
    "| 10                                                        | UPPDC1       | Uroporphyrinogen decarboxylase (uroporphyrinogen III)  | Heme synthesis             |"
   ]
  },
  {
   "cell_type": "markdown",
   "metadata": {},
   "source": [
    "Lastly, the upregulation targets closely related to heme and hemoglobin synthesis can be visualised in an Escher map (see Fig. 6). "
   ]
  },
  {
   "cell_type": "markdown",
   "metadata": {},
   "source": [
    "<img src=\"pics/Escher_up_and_downregulation.png\" width=\"1000\"/>"
   ]
  },
  {
   "cell_type": "markdown",
   "metadata": {},
   "source": [
    "**Figure 6**. *Escher visualisation of the hemoglobin synthesis, including the heme synthesis pathway. Upregulation targets are marked in blue together with the flux obtained at 90% of max productivity of hemoglobin.*"
   ]
  },
  {
   "cell_type": "markdown",
   "metadata": {},
   "source": [
    "With the implementation of different over-expression and down-regulation targets, it was found that overexpression of the PPBNGS reaction alone had a big impact on hemoglobin production. PPBNGS is part of the heme synthesis (Fig. 6 and Table 1) and is also called HemB. Implementation of the maximum flux found in the FSEOF analysis (to simulate upregulation) resulted in hemoglobin production and yield of 81% of the theoretical max and growth rate at 21% of the theoretical maximum. Furthermore, it was seen that different degrees of upregulated HemeB can be used to balance the trade-off between hemoglobin production and growth.  \n",
    "\n",
    "Lastly, it was observed that several reactions were downregulated to zero (Fig. 5) and in future work these might be interesting knockout targets."
   ]
  },
  {
   "cell_type": "markdown",
   "metadata": {},
   "source": [
    "## 5. Discussion (<500 words)\n",
    "\n",
    "Generally, the results of the rational knockout strategies were very disappointing, showing no increases in rHb production while decreasing the growth of the model. These results are not expected to represent the impact of actual in-vivo knockouts since equivalent or similar knockouts have been successfully introduced in the laboratory (Martínez, J. L., *et al.*, 2016; Ishchuk *et al.*, 2021). It does, however, highlight the limitations of the model.  \n",
    "Because heme is an essential molecule in iron regulation and oxidative stress response, the cellular levels of heme depend on the respirational state and oxidative response regulators. Therefore, especially two model limitations are crucial for the results of the rational knockouts. Firstly, the GSMM could not model anaerobic growth, preventing positive results from the knockout of cytochromes and oxidative stress enzymes. Secondly, the model does not capture the regulatory system for metal ions and respiration, which is extremely important for heme levels *in vivo*. Thus, it is difficult to predict the outcome of changes to the organism correctly. \n",
    "\n",
    "OptGene was used due to the lack of useful results in the manual knockouts, but this found no targets either. Potentially, a more extensive combination of targets could have improved hemoglobin production, but this was not feasible due to computational power constraints. Furthermore, this might not have been feasible for strain engineering in the laboratory.  \n",
    "\n",
    "Of the top 10 regulation targets identified by FSEOF, the top four seem somewhat irrational but might be related to precursor availability for the heme synthesis. These irrational targets demonstrate the potential of FSEOF to view the metabolism as a whole and find links that would otherwise be impossible to find using intuitive strategies. Upregulation of these targets in practice would be necessary to examine if an increase in hemoglobin production occurs as predicted. The 5-10 top targets are part of the heme pathway, they are ideal targets for upregulations. \n",
    "\n",
    "The medium composition was not optimised for hemoglobin production in this project, but this could be an important objective in future work. \n",
    "\n",
    "Lastly, it is important to note that the results obtained here are not necessarily comparable to the literature. For this to be possible, the glucose uptake rate should be fixed to an experimentally determined value or be modified until an experimentally determined growth rate is reached. \n",
    "\n",
    "In this project, only *Saccharomyces* yeast was evaluated as a potential production host. However, other yeasts could potentially be better production hosts. The yeast *Pichia pastoris* is very good at expressing and producing heterologous proteins (Karbalaei *et al.* 2020). One factor that makes it suitable for protein production is its secretory pathway, making downstream processing more cost-efficient (Karbalaei *et al.* 2020). *P. pastoris* also performs posttranslational modifications, and unlike *S. cerevisiae*, it does not hyperglycosylate secreted proteins (Karbalaei *et al.* 2020). It could therefore be interesting in future work to model hemoglobin production in a *P. pastoris* GSMM."
   ]
  },
  {
   "cell_type": "markdown",
   "metadata": {},
   "source": [
    "## 6. Conclusion (<200 words)\n",
    "\n",
    "This project aimed to use genome-scale metabolic modelling to investigate strategies that could optimise the production of hemoglobin in *S. cerevisiae*. For this purpose, we used three different strategies: 1) manual derivation of strain designs, 2) identification of knockout targets using OptGene, and 3) identification of over-expression and down-regulation targets using FSEOF.  \n",
    "\n",
    "Most of the investigated strategies gave no convincing results on how to optimise hemoglobin production. Only the FSEOF algorithm identified a potential overexpression target in the PPBNGS reaction (heme metabolism) and potential knockout targets. The main reason for the lack of results in the manual knockouts was limitations in the models: lacking anaerobic growth and regulation. \n",
    "\n",
    "Overall, we did not obtain our expected outcome to increase the production and yield of hemoglobin and ultimately lower the price of recombinant hemoglobin.  \n",
    "Although most of the targets did not show promising improvements in the model, they cannot be disregarded entirely due to the model's limitations. Additional targets of the FSEOF, that were out of scope for this project may be promising to explore in the future. Importantly, further effort is needed to reach the goal of cost-efficient recombinant hemoglobin to meet the blood demands of the future safely.  "
   ]
  },
  {
   "cell_type": "markdown",
   "metadata": {},
   "source": [
    "## 7. Reference list"
   ]
  },
  {
   "cell_type": "markdown",
   "metadata": {},
   "source": [
    "Cardoso, J. G. R., Jensen, K., Lieven, C., Hansen, A. S. L., Galkina, S., Beber, M., Özdemir, E., Herrgård, M. J., Redestig, H., & Sonnenschein, N. (2018). Cameo: A Python Library for Computer Aided Metabolic Engineering and Optimisation of Cell Factories. ACS Synthetic Biology, 7(4), 1163–1166. https://doi.org/10.1021/acssynbio.7b00423   \n",
    "\n",
    "Chakane, S. (2017). Towards New Generation of Hemoglobin-Based Blood Substitutes (Doctoral dis- sertation). Lund University. https://portal.research.lu.se/portal/en/publications/towards- new - generation - of - hemoglobinbased - blood - substitutes(96f74e7f - 45b8 - 4292 - b3ea - 6b8b3607bc92).html  \n",
    "\n",
    "Choi, H. S., Lee, S. Y., Kim, T. Y., & Woo, H. M. (2010). In silico identification of gene amplification targets for improvement of lycopene production. Applied and Environmental Microbiology, 76(10), 3097–3105. https://doi.org/10.1128/AEM.00115-10 \n",
    "\n",
    " \n",
    "\n",
    "Dikicioglu, D., & Oliver, S. G. (2019). Extension of the yeast metabolic model to include iron metabolism and its use to estimate global levels of iron-recruiting enzyme abundance from cofactor requirements. *Biotechnology and Bioengineering, 116*(3), 610–621. https://doi.org/10.1002/bit.26905 \n",
    "\n",
    " \n",
    "\n",
    "DNA and Cell Biology, 21(4). https://doi.org/10.1089/104454902753759690  \n",
    "\n",
    " \n",
    "\n",
    "Duarte, N. C., Herrgård, M. J., & Palsson, B. (2004). Reconstruction and validation of *Saccharomyces cerevisiae* iND750, a fully compartmentalised genome-scale metabolic model. *Genome Research, 14*(7), 1298–1309. https://doi.org/10.1101/gr.2250904 \n",
    "\n",
    " \n",
    "\n",
    "Frost, A. T., Jacobsen, I. H., Worberg, A., & Martínez, J. L. (2018). How synthetic biology and metabolic engineering can boost the generation of artificial blood using microbial production hosts. Frontiers in Bioengineering and Biotechnology, 6. https://doi.org/10.3389/fbioe.2018. 00186 \n",
    "\n",
    " \n",
    "\n",
    "Goffeau, A., Barrell, G., Bussey, H., Davis, R. W., Dujon, B., Feldmann, H., … Oliver, S. G. (1996). Life with 6000 genes. *Science, 274*(5287), 546–567. https://doi.org/10.1126/science.274.5287.546  \n",
    "\n",
    " \n",
    "\n",
    "Ishchuk, O. P., Frost, A. T., Muñiz-Paredes, F., Matsumoto, S., Laforge, N., Eriksson, N. L., Martínez, J. L., & Petranovic, D. (2021). Improved production of human hemoglobin in yeast by engi- neering hemoglobin degradation. Metabolic Engineering, 66. https://doi.org/10.1016/j.ymben. 2021.05.002 \n",
    "\n",
    "Karbalaei, M., Rezaee, S. A., & Farsiani, H. (2020). *Pichia pastoris*: A highly successful expression system for optimal synthesis of heterologous proteins. *Journal of Cellular Physiology, 235*(9), 5867–5881. https://doi.org/10.1002/jcp.29583 \n",
    "\n",
    "KEGG ORTHOLOGY: K01845. (n.d.). Retrieved November 17, 2021, from https://www.genome.jp/entry/K01845+5.4.3.8+R02272 \n",
    "\n",
    " \n",
    "\n",
    "KEGG ORTHOLOGY: K02492. (n.d.). Retrieved November 17, 2021, from https://www.genome.jp/entry/K02492+1.2.1.70+R04109  \n",
    "\n",
    " \n",
    "\n",
    "King, Z. A., Dräger, A., Ebrahim, A., Sonnenschein, N., Lewis, N. E., & Palsson, B. O. (2015). Escher: A Web Application for Building, Sharing, and Embedding Data-Rich Visualizations of Biological Pathways. PLoS Computational Biology, 11(8), 1–13. https://doi.org/10.1371/journal.pcbi.1004321 \n",
    "\n",
    " \n",
    "\n",
    "Lindahl, P. A. (2019). A comprehensive mechanistic model of iron metabolism in *Saccharomyces cerevisiae*. Metallomics, 11(11), 1779–1799. https://doi.org/10.1039/C9MT00199A  \n",
    "\n",
    " \n",
    "\n",
    "Liu, L., Martínez, J. L., Liu, Z., Petranovic, D., & Nielsen, J. (2014). Balanced globin protein expression and heme biosynthesis improve production of human hemoglobin in *Saccharomyces cerevisiae*. Metabolic Engineering, 21, 9–16. https://doi.org/10.1016/j.ymben.2013.10.010  \n",
    "\n",
    " \n",
    "\n",
    "Lu, H., Li, F., Sánchez, B. J., Zhu, Z., Li, G., Domenzain, I., … Nielsen, J. (2019). A consensus *S. cerevisiae* metabolic model Yeast8 and its ecosystem for comprehensively probing cellular metabolism. *Nature Communications, 10*(1). https://doi.org/10.1038/s41467-019-11581-3  \n",
    "\n",
    " \n",
    "\n",
    "Martínez, J. L., Liu, L., Petranovic, D., & Nielsen, J. (2015). Engineering the oxygen sensing regulation results in an enhanced recombinant human hemoglobin production by *Saccharomyces cerevisiae*. Biotechnology and Bioengineering, 112(1), 181–188. https://doi.org/10.1002/bit.25347  \n",
    "\n",
    " \n",
    "\n",
    "Martínez, J. L., Petranovic, D., & Nielsen, J. (2016). Heme metabolism in stress regulation and proteinproduction: From Cinderella to a key player. Bioengineered,7(2). https://doi.org/10.1080/21655979.2015.11260167 \n",
    "\n",
    " \n",
    "\n",
    "Mo, M. L., Palsson, B., & Herrgård, M. J. (2009). Connecting extracellular metabolomic measurements to intracellular flux states in yeast. *BMC Systems Biology, 3*, 1–17. https://doi.org/10.1186/1752-0509-3-37  \n",
    "\n",
    " \n",
    "\n",
    "Paoli, M., Marles-Wright, J., & Smith, A. (2002). Structure–Function Relationships in Heme-Proteins.  \n",
    "\n",
    " \n",
    "\n",
    "Patil, K. R., Rocha, I., Förster, J., & Nielsen, J. (2005). Evolutionary programming as a platform for in silico metabolic engineering. BMC Bioinformatics, 6, 1–12. https://doi.org/10.1186/1471-2105-6-308  \n",
    "\n",
    " \n",
    "\n",
    "Systems Biology Research Group. Yeast FAQs. University of California  https://systemsbiology.ucsd.edu/InSilicoOrganisms/Yeast/YeastFAQs (accessed 30/11 - 2021) \n",
    "\n",
    " \n",
    "\n",
    "Varnado, C. L., Mollan, T. L., Birukou, I., Smith, B. J., Henderson, D. P., & Olson, J. S. (2013). Development of Recombinant Hemoglobin-Based Oxygen Carriers. Antioxidants & Redox Signaling, 18(17). https://doi.org/10.1089/ars.2012.4917  \n",
    "\n",
    " \n",
    "\n",
    "WHO Global Database on Blood Safety. (2020). Blood safety and availability. https://www.who.int/ news-room/fact-sheets/detail/blood-safety-and-availability (Accessed:02/05/2021) \n",
    "\n",
    " \n",
    "\n",
    "World Health Organization. (2016). Global status report on blood safety and availability, 2016. (tech. rep.). http://apps.who.int/iris/bitstream/handle/10665/254987/9789241565431- eng.pdf;jsessionid=25E5B63F44076C00D248BB63B0909ABD?sequence=1 \n",
    "\n",
    " \n",
    "\n",
    "Zhang, J., Kang, Z., Chen, J., & Du, G. (2015). Optimisation of the heme biosynthesis pathway for the production of 5-aminolevulinic acid in *Escherichia coli*. Scientific Reports, 5, 1–7. https://doi.org/10.1038/srep08584 \n",
    "\n",
    " \n",
    "\n",
    "Zhao, X., Zhou, J., Du, G., & Chen, J. (2021). Recent Advances in the Microbial Synthesis of Hemoglobin. Trends in Biotechnology, 39(3), 286–297. https://doi.org/10.1016/j.tibtech.2020.08.004 "
   ]
  }
 ],
 "metadata": {
  "kernelspec": {
   "display_name": "Python 3 (ipykernel)",
   "language": "python",
   "name": "python3"
  },
  "language_info": {
   "codemirror_mode": {
    "name": "ipython",
    "version": 3
   },
   "file_extension": ".py",
   "mimetype": "text/x-python",
   "name": "python",
   "nbconvert_exporter": "python",
   "pygments_lexer": "ipython3",
   "version": "3.8.8"
  }
 },
 "nbformat": 4,
 "nbformat_minor": 4
}
