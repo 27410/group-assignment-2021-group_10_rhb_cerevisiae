{
 "cells": [
  {
   "cell_type": "code",
   "execution_count": 39,
   "id": "9d952c03-550e-49cd-a01a-372674fb5244",
   "metadata": {},
   "outputs": [],
   "source": [
    "import pandas as pd\n",
    "import matplotlib.pyplot as plt\n",
    "plt.style.use('seaborn')\n",
    "from cobra.io import read_sbml_model\n",
    "from cobra import Reaction, Metabolite\n",
    "from cobra.util import create_stoichiometric_matrix\n",
    "import numpy as np\n",
    "import escher"
   ]
  },
  {
   "cell_type": "code",
   "execution_count": 40,
   "id": "658e04ea-9f7d-4afb-9af7-d0e7d669089d",
   "metadata": {},
   "outputs": [],
   "source": [
    "model = read_sbml_model('iMM904.xml') # insert model HERE"
   ]
  },
  {
   "cell_type": "code",
   "execution_count": 41,
   "id": "2c2983f8-5832-4f8c-9bc6-00beccc5898c",
   "metadata": {},
   "outputs": [],
   "source": [
    "# model.optimize()"
   ]
  },
  {
   "cell_type": "code",
   "execution_count": 42,
   "id": "19767e01-8ec4-4728-801d-e3ddb06ad5a0",
   "metadata": {},
   "outputs": [
    {
     "data": {
      "text/plain": [
       "0.0"
      ]
     },
     "execution_count": 42,
     "metadata": {},
     "output_type": "execute_result"
    }
   ],
   "source": [
    "model.optimize().fluxes['FCLTm']"
   ]
  },
  {
   "cell_type": "markdown",
   "id": "07e0ce71-ec4a-493e-92ee-4543aee0a7b7",
   "metadata": {},
   "source": [
    "There is no flux by default. Therefore, we have to add exchange reactions before we can analyse changes in the flux. "
   ]
  },
  {
   "cell_type": "code",
   "execution_count": 43,
   "id": "346e96ea-b599-4b38-aa6e-22ab9902dc69",
   "metadata": {},
   "outputs": [
    {
     "name": "stdout",
     "output_type": "stream",
     "text": [
      "The flux og the last reaction of the heme pathway has a flux of: 0.550189393939394\n"
     ]
    }
   ],
   "source": [
    "model.add_boundary(model.metabolites.pheme_m, type='demand')\n",
    "with model:\n",
    "    model.objective = model.reactions.FCLTm\n",
    "    print(\"The flux og the last reaction of the heme pathway has a flux of: \"+str(model.optimize().objective_value))"
   ]
  },
  {
   "cell_type": "markdown",
   "id": "1d77603d-e0bd-4a2b-84b4-536c5d22412b",
   "metadata": {},
   "source": [
    "# The heme biosynthetic pathway"
   ]
  },
  {
   "cell_type": "markdown",
   "id": "9fb59f77-46f6-4a3e-9374-e47acee960ae",
   "metadata": {},
   "source": [
    "We want a lot of Protoheme C34H30FeN4O4 (id: pheme_m). Let's start by figuring out what the flux to heme currently is?\n",
    "\n",
    "We look at the reactions heme is directely involved in... ...and then work backwards to glycine (https://www.genome.jp/kegg-bin/show_pathway?sce00860)"
   ]
  },
  {
   "cell_type": "code",
   "execution_count": 3,
   "id": "6f4463ec-6fa1-48ee-aba4-eadc7bd59363",
   "metadata": {},
   "outputs": [
    {
     "data": {
      "text/html": [
       "\n",
       "        <table>\n",
       "            <tr>\n",
       "                <td><strong>Metabolite identifier</strong></td><td>pheme_m</td>\n",
       "            </tr><tr>\n",
       "                <td><strong>Name</strong></td><td>Protoheme C34H30FeN4O4</td>\n",
       "            </tr><tr>\n",
       "                <td><strong>Memory address</strong></td>\n",
       "                <td>0x020caa0fe6d8</td>\n",
       "            </tr><tr>\n",
       "                <td><strong>Formula</strong></td><td></td>\n",
       "            </tr><tr>\n",
       "                <td><strong>Compartment</strong></td><td>m</td>\n",
       "            </tr><tr>\n",
       "                <td><strong>In 2 reaction(s)</strong></td><td>\n",
       "                    HEMEOSm, FCLTm</td>\n",
       "            </tr>\n",
       "        </table>"
      ],
      "text/plain": [
       "<Metabolite pheme_m at 0x20caa0fe6d8>"
      ]
     },
     "execution_count": 3,
     "metadata": {},
     "output_type": "execute_result"
    }
   ],
   "source": [
    "model.metabolites.pheme_m # desired product"
   ]
  },
  {
   "cell_type": "markdown",
   "id": "7ad776c4-52ed-4c2d-bfe1-d291b08177df",
   "metadata": {},
   "source": [
    "From glycine, eight reactions form the shorthest path (natively) in Baker's yeast. These are those reactions in cronological order. "
   ]
  },
  {
   "cell_type": "code",
   "execution_count": 27,
   "id": "8c2ecaed-94a5-4b85-a759-8118637b036a",
   "metadata": {},
   "outputs": [],
   "source": [
    "heme_1 = model.reactions.get_by_id('ALASm')\n",
    "heme_2 = model.reactions.get_by_id('PPBNGS')\n",
    "heme_3 = model.reactions.get_by_id('HMBS')\n",
    "heme_4 = model.reactions.get_by_id('UPP3S') \n",
    "heme_12 = model.reactions.get_by_id('UPPDC1') \n",
    "heme_13 = model.reactions.get_by_id('CPPPGO')\n",
    "heme_14 = model.reactions.get_by_id('PPPGOm') # second to last reaction in the heme biosynthesis\n",
    "heme_15 = model.reactions.get_by_id('FCLTm')\n",
    "heme_pathway = [heme_1,heme_2,heme_3,heme_4,heme_12,heme_13,heme_14,heme_15]"
   ]
  },
  {
   "cell_type": "markdown",
   "id": "491a20bc-5d98-4eab-a302-f0136b0515bb",
   "metadata": {},
   "source": [
    "Let's optimise for the production of heme, and measure the fluxes of all eight reactions."
   ]
  },
  {
   "cell_type": "code",
   "execution_count": 49,
   "id": "54dca15b-6354-4dbc-b8f3-df1d69626eb2",
   "metadata": {},
   "outputs": [
    {
     "name": "stdout",
     "output_type": "stream",
     "text": [
      "4.401515151515152 ALASm gly_m + h_m + succoa_m --> 5aop_m + co2_m + coa_m 5 aminolevulinate synthase\n",
      "2.200757575757576 PPBNGS 2.0 5aop_c --> 2.0 h2o_c + h_c + ppbng_c Porphobilinogen synthase\n",
      "0.550189393939394 HMBS h2o_c + 4.0 ppbng_c --> hmbil_c + 4.0 nh4_c Hydroxymethylbilane synthase\n",
      "0.550189393939394 UPP3S hmbil_c --> h2o_c + uppg3_c Uroporphyrinogen-III synthase\n",
      "0.550189393939394 UPPDC1 4.0 h_c + uppg3_c --> 4.0 co2_c + cpppg3_c Uroporphyrinogen decarboxylase (uroporphyrinogen III)\n",
      "0.550189393939394 CPPPGO cpppg3_c + 2.0 h_c + o2_c --> 2.0 co2_c + 2.0 h2o_c + pppg9_c Coproporphyrinogen oxidase (O2 required)\n",
      "0.275094696969697 PPPGOm 3.0 o2_m + 2.0 pppg9_m --> 6.0 h2o_m + 2.0 ppp9_m Protoporphyrinogen oxidase  mitochondrial\n",
      "0.550189393939394 FCLTm fe2_m + ppp9_m --> 2.0 h_m + pheme_m Ferrochelatase  mitochondrial\n"
     ]
    }
   ],
   "source": [
    "for i in range (0,len(heme_pathway)):\n",
    "    with model:\n",
    "        model.objective = heme_pathway[-1] # calculates the flux\n",
    "        print(model.optimize().fluxes[heme_pathway[i].id], heme_pathway[i].id, heme_pathway[i].reaction, heme_pathway[i].name)"
   ]
  },
  {
   "cell_type": "code",
   "execution_count": null,
   "id": "a02dc082-eb2e-4ea5-a158-12c099f6e05d",
   "metadata": {},
   "outputs": [],
   "source": []
  }
 ],
 "metadata": {
  "kernelspec": {
   "display_name": "Python 3",
   "language": "python",
   "name": "python3"
  },
  "language_info": {
   "codemirror_mode": {
    "name": "ipython",
    "version": 3
   },
   "file_extension": ".py",
   "mimetype": "text/x-python",
   "name": "python",
   "nbconvert_exporter": "python",
   "pygments_lexer": "ipython3",
   "version": "3.6.13"
  }
 },
 "nbformat": 4,
 "nbformat_minor": 5
}
