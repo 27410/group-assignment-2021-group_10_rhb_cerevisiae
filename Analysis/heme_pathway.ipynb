{
 "cells": [
  {
   "cell_type": "code",
   "execution_count": 61,
   "id": "9d952c03-550e-49cd-a01a-372674fb5244",
   "metadata": {},
   "outputs": [],
   "source": [
    "import pandas as pd\n",
    "import matplotlib.pyplot as plt\n",
    "plt.style.use('seaborn')\n",
    "from cobra.io import read_sbml_model\n",
    "from cobra import Reaction, Metabolite\n",
    "from cobra.util import create_stoichiometric_matrix\n",
    "import numpy as np\n",
    "import escher"
   ]
  },
  {
   "cell_type": "code",
   "execution_count": 62,
   "id": "658e04ea-9f7d-4afb-9af7-d0e7d669089d",
   "metadata": {},
   "outputs": [],
   "source": [
    "model = read_sbml_model('iMM904.xml') # insert model HERE"
   ]
  },
  {
   "cell_type": "markdown",
   "id": "1d77603d-e0bd-4a2b-84b4-536c5d22412b",
   "metadata": {},
   "source": [
    "# heme"
   ]
  },
  {
   "cell_type": "markdown",
   "id": "d4f9a64b-3f73-4440-b55e-e39b2cf2c2dc",
   "metadata": {},
   "source": [
    "Our desired product, which we want to increase the flux to as much as possible, is heme:"
   ]
  },
  {
   "cell_type": "code",
   "execution_count": 63,
   "id": "c8471311-ae89-4007-8997-cf2ea9136b30",
   "metadata": {},
   "outputs": [
    {
     "data": {
      "text/html": [
       "\n",
       "        <table>\n",
       "            <tr>\n",
       "                <td><strong>Metabolite identifier</strong></td><td>pheme_m</td>\n",
       "            </tr><tr>\n",
       "                <td><strong>Name</strong></td><td>Protoheme C34H30FeN4O4</td>\n",
       "            </tr><tr>\n",
       "                <td><strong>Memory address</strong></td>\n",
       "                <td>0x01b1a5851a58</td>\n",
       "            </tr><tr>\n",
       "                <td><strong>Formula</strong></td><td></td>\n",
       "            </tr><tr>\n",
       "                <td><strong>Compartment</strong></td><td>m</td>\n",
       "            </tr><tr>\n",
       "                <td><strong>In 2 reaction(s)</strong></td><td>\n",
       "                    FCLTm, HEMEOSm</td>\n",
       "            </tr>\n",
       "        </table>"
      ],
      "text/plain": [
       "<Metabolite pheme_m at 0x1b1a5851a58>"
      ]
     },
     "execution_count": 63,
     "metadata": {},
     "output_type": "execute_result"
    }
   ],
   "source": [
    "model.metabolites.pheme_m # desired product"
   ]
  },
  {
   "cell_type": "markdown",
   "id": "166c5df2-cf02-4567-8207-1da3f9ee3198",
   "metadata": {},
   "source": [
    "We see that the model does not contain information about the elemental composition of heme."
   ]
  },
  {
   "cell_type": "code",
   "execution_count": 64,
   "id": "6dd30e2a-aed1-48d0-b5de-c8eaa3430735",
   "metadata": {},
   "outputs": [
    {
     "data": {
      "text/plain": [
       "{'sbo': 'SBO:0000247',\n",
       " 'bigg.metabolite': 'pheme',\n",
       " 'biocyc': 'META:PROTOHEME',\n",
       " 'chebi': ['CHEBI:60344',\n",
       "  'CHEBI:26355',\n",
       "  'CHEBI:17627',\n",
       "  'CHEBI:5651',\n",
       "  'CHEBI:14957'],\n",
       " 'inchi_key': 'KABFMIBPWCXCRK-RGGAHWMASA-J',\n",
       " 'kegg.compound': 'C00032',\n",
       " 'metanetx.chemical': 'MNXM249',\n",
       " 'reactome.compound': ['917877', '71185', '189444']}"
      ]
     },
     "execution_count": 64,
     "metadata": {},
     "output_type": "execute_result"
    }
   ],
   "source": [
    "model.metabolites.pheme_m.annotation"
   ]
  },
  {
   "cell_type": "markdown",
   "id": "9d2ba388-4fb9-4de6-81cb-c8aa830ccb5a",
   "metadata": {},
   "source": [
    "(...)But is is able to pull external references from databases like Kegg."
   ]
  },
  {
   "cell_type": "code",
   "execution_count": 65,
   "id": "2eb06e57-e424-4cdf-8322-008a5ed295c8",
   "metadata": {},
   "outputs": [
    {
     "data": {
      "text/plain": [
       "frozenset({<Reaction FCLTm at 0x1b1a5e57fd0>,\n",
       "           <Reaction HEMEOSm at 0x1b1a6e82160>})"
      ]
     },
     "execution_count": 65,
     "metadata": {},
     "output_type": "execute_result"
    }
   ],
   "source": [
    "model.metabolites.pheme_m.reactions"
   ]
  },
  {
   "cell_type": "markdown",
   "id": "c8371b4a-ea58-4c70-9331-f1fa946867fd",
   "metadata": {},
   "source": [
    "We see that heme participates in two reactions only (https://www.genome.jp/kegg-bin/show_pathway?sce00860). One involed in its synthesis, and another reaction wherein heme is the substrate."
   ]
  },
  {
   "cell_type": "markdown",
   "id": "0536a53f-942f-4ab9-a3ad-e65d879b5260",
   "metadata": {},
   "source": [
    "# The heme biosynthetic pathway"
   ]
  },
  {
   "cell_type": "markdown",
   "id": "f5fe6d33-b676-4e2d-9341-27ab0b7a0fe8",
   "metadata": {},
   "source": [
    "However, we want a lot of Protoheme C34H30FeN4O4 (id: pheme_m). Let's start by figuring out what the flux to heme currently is..."
   ]
  },
  {
   "cell_type": "code",
   "execution_count": 66,
   "id": "f89c0754-d144-4f85-a0ea-306cd0268fbd",
   "metadata": {},
   "outputs": [
    {
     "data": {
      "text/plain": [
       "0.0"
      ]
     },
     "execution_count": 66,
     "metadata": {},
     "output_type": "execute_result"
    }
   ],
   "source": [
    "model.optimize().fluxes['FCLTm']"
   ]
  },
  {
   "cell_type": "markdown",
   "id": "c1948624-9eb1-4a2a-b349-18094bde80c4",
   "metadata": {},
   "source": [
    "There is no flux by default. Just like we observed before, heme does not participate in any exchange reactions. Therefore, we will have to add the exchange reaction before we can analyse changes in the flux. "
   ]
  },
  {
   "cell_type": "code",
   "execution_count": 67,
   "id": "d094c91c-2746-490f-96b5-c5a94f3550b9",
   "metadata": {},
   "outputs": [
    {
     "name": "stdout",
     "output_type": "stream",
     "text": [
      "The flux of the last reaction of the heme-pathway - and the maximum production of heme is: 0.550189393939394 [mmol gDW^-1 h^-1]\n"
     ]
    }
   ],
   "source": [
    "model.add_boundary(model.metabolites.pheme_m, type='demand') # adds the exchange reaction for heme\n",
    "with model: # measures the flux to heme (by default)\n",
    "    model.objective = model.reactions.FCLTm\n",
    "    print(\"The flux of the last reaction of the heme-pathway - and the maximum production of heme is: \"+str(model.optimize().objective_value)+\" [mmol gDW^-1 h^-1]\")"
   ]
  },
  {
   "cell_type": "markdown",
   "id": "5b50a9ef-d3f3-4cb6-837b-69fa0395b7c6",
   "metadata": {},
   "source": [
    "We look at the reactions heme is directely involved in... ...and then work backwards to glycine (https://www.genome.jp/kegg-bin/show_pathway?sce00860)"
   ]
  },
  {
   "cell_type": "markdown",
   "id": "7ad776c4-52ed-4c2d-bfe1-d291b08177df",
   "metadata": {},
   "source": [
    "From glycine, eight reactions form the shorthest path (natively) in Baker's yeast. These are those reactions in cronological order. "
   ]
  },
  {
   "cell_type": "code",
   "execution_count": 68,
   "id": "8c2ecaed-94a5-4b85-a759-8118637b036a",
   "metadata": {},
   "outputs": [],
   "source": [
    "heme_1 = model.reactions.get_by_id('ALASm')\n",
    "heme_2 = model.reactions.get_by_id('PPBNGS')\n",
    "heme_3 = model.reactions.get_by_id('HMBS')\n",
    "heme_4 = model.reactions.get_by_id('UPP3S') \n",
    "heme_12 = model.reactions.get_by_id('UPPDC1') \n",
    "heme_13 = model.reactions.get_by_id('CPPPGO')\n",
    "heme_14 = model.reactions.get_by_id('PPPGOm') # second to last reaction in the heme biosynthesis\n",
    "heme_15 = model.reactions.get_by_id('FCLTm')\n",
    "heme_pathway = [heme_1,heme_2,heme_3,heme_4,heme_12,heme_13,heme_14,heme_15]"
   ]
  },
  {
   "cell_type": "code",
   "execution_count": 69,
   "id": "e9616412-69eb-4f63-9cc5-e33bfcc83b92",
   "metadata": {},
   "outputs": [
    {
     "data": {
      "text/plain": [
       "{'c': 'cytosol',\n",
       " 'e': 'extracellular space',\n",
       " 'm': 'mitochondria',\n",
       " 'x': 'peroxisome/glyoxysome',\n",
       " 'r': 'endoplasmic reticulum',\n",
       " 'v': 'vacuole',\n",
       " 'g': 'golgi apparatus',\n",
       " 'n': 'nucleus'}"
      ]
     },
     "execution_count": 69,
     "metadata": {},
     "output_type": "execute_result"
    }
   ],
   "source": [
    "model.compartments"
   ]
  },
  {
   "cell_type": "markdown",
   "id": "d6e5b322-955e-4cc9-9a5b-21e7a0e69e2e",
   "metadata": {},
   "source": [
    "We see that our model, being a eukaryote, contains more than a few compartments. Heme is synthesised around the mitochondria - with some reactions taking place in the mitochondria and other reactions takning place in the cytosol. "
   ]
  },
  {
   "cell_type": "markdown",
   "id": "491a20bc-5d98-4eab-a302-f0136b0515bb",
   "metadata": {},
   "source": [
    "Let's optimise for the production of heme, and measure the fluxes of all eight reactions."
   ]
  },
  {
   "cell_type": "code",
   "execution_count": 70,
   "id": "54dca15b-6354-4dbc-b8f3-df1d69626eb2",
   "metadata": {},
   "outputs": [
    {
     "name": "stdout",
     "output_type": "stream",
     "text": [
      "4.401515151515152 ALASm gly_m + h_m + succoa_m --> 5aop_m + co2_m + coa_m 5 aminolevulinate synthase\n",
      "2.200757575757576 PPBNGS 2.0 5aop_c --> 2.0 h2o_c + h_c + ppbng_c Porphobilinogen synthase\n",
      "0.550189393939394 HMBS h2o_c + 4.0 ppbng_c --> hmbil_c + 4.0 nh4_c Hydroxymethylbilane synthase\n",
      "0.550189393939394 UPP3S hmbil_c --> h2o_c + uppg3_c Uroporphyrinogen-III synthase\n",
      "0.550189393939394 UPPDC1 4.0 h_c + uppg3_c --> 4.0 co2_c + cpppg3_c Uroporphyrinogen decarboxylase (uroporphyrinogen III)\n",
      "0.550189393939394 CPPPGO cpppg3_c + 2.0 h_c + o2_c --> 2.0 co2_c + 2.0 h2o_c + pppg9_c Coproporphyrinogen oxidase (O2 required)\n",
      "0.275094696969697 PPPGOm 3.0 o2_m + 2.0 pppg9_m --> 6.0 h2o_m + 2.0 ppp9_m Protoporphyrinogen oxidase  mitochondrial\n",
      "0.550189393939394 FCLTm fe2_m + ppp9_m --> 2.0 h_m + pheme_m Ferrochelatase  mitochondrial\n"
     ]
    }
   ],
   "source": [
    "for i in range (0,len(heme_pathway)):\n",
    "    with model:\n",
    "        model.objective = heme_pathway[-1] # calculates the flux with heme as the objective\n",
    "        print(model.optimize().fluxes[heme_pathway[i].id], heme_pathway[i].id, heme_pathway[i].reaction, heme_pathway[i].name)"
   ]
  },
  {
   "cell_type": "markdown",
   "id": "c79528eb-8fc4-4b74-b4f5-338c5e08b4bc",
   "metadata": {},
   "source": [
    "It is apprent that the fluxes are related to each other stoichiometrically, i.e. the PPPGOm reaction by Protoporphyrinogen oxidase has exactly half the flux of the FCLTm reaction catalysed by Ferrochelatase, because the substrate of the latter requires half the products of the former."
   ]
  },
  {
   "cell_type": "markdown",
   "id": "3c3f16ea-7f9c-4645-bbb7-6d8029685329",
   "metadata": {},
   "source": [
    "## Heme production and yield"
   ]
  },
  {
   "cell_type": "code",
   "execution_count": 56,
   "id": "a90f3604-2472-40fd-8a0a-7a69d017dd9a",
   "metadata": {},
   "outputs": [
    {
     "data": {
      "text/plain": [
       "frozenset({<Reaction DM_pheme_m at 0x1b1a554a4e0>,\n",
       "           <Reaction FCLTm at 0x1b1a5072fd0>,\n",
       "           <Reaction HEMEOSm at 0x1b1a50ca7f0>})"
      ]
     },
     "execution_count": 56,
     "metadata": {},
     "output_type": "execute_result"
    }
   ],
   "source": [
    "model.metabolites.pheme_m.reactions"
   ]
  },
  {
   "cell_type": "code",
   "execution_count": 71,
   "id": "895ebf1d-6e11-4fd5-8a6f-8e14c874dfcd",
   "metadata": {},
   "outputs": [
    {
     "data": {
      "text/html": [
       "\n",
       "        <table>\n",
       "            <tr>\n",
       "                <td><strong>Reaction identifier</strong></td><td>DM_pheme_m</td>\n",
       "            </tr><tr>\n",
       "                <td><strong>Name</strong></td><td>Protoheme C34H30FeN4O4 demand</td>\n",
       "            </tr><tr>\n",
       "                <td><strong>Memory address</strong></td>\n",
       "                <td>0x01b1a70181d0</td>\n",
       "            </tr><tr>\n",
       "                <td><strong>Stoichiometry</strong></td>\n",
       "                <td>\n",
       "                    <p style='text-align:right'>pheme_m --></p>\n",
       "                    <p style='text-align:right'>Protoheme C34H30FeN4O4 --></p>\n",
       "                </td>\n",
       "            </tr><tr>\n",
       "                <td><strong>GPR</strong></td><td></td>\n",
       "            </tr><tr>\n",
       "                <td><strong>Lower bound</strong></td><td>0</td>\n",
       "            </tr><tr>\n",
       "                <td><strong>Upper bound</strong></td><td>1000.0</td>\n",
       "            </tr>\n",
       "        </table>\n",
       "        "
      ],
      "text/plain": [
       "<Reaction DM_pheme_m at 0x1b1a70181d0>"
      ]
     },
     "execution_count": 71,
     "metadata": {},
     "output_type": "execute_result"
    }
   ],
   "source": [
    "model.reactions.DM_pheme_m"
   ]
  },
  {
   "cell_type": "code",
   "execution_count": 73,
   "id": "2c90b4a5-0df7-42a2-ada7-4b0f6d8d856a",
   "metadata": {},
   "outputs": [
    {
     "name": "stdout",
     "output_type": "stream",
     "text": [
      "Max. heme production [mmol gDW^-1 h^-1]: 0.550189393939394\n",
      "Theoretical max. yield [mmol-heme / mmol-[CARBON SOURCE]]: 0.055018939393939405\n"
     ]
    }
   ],
   "source": [
    "medium = model.medium\n",
    "with model:\n",
    "    #medium['EX_glc__D_e'] = 0\n",
    "    #medium['EX_ac_e'] = 10\n",
    "    model.medium = medium\n",
    "    model.objective = model.reactions.DM_pheme_m\n",
    "    succ_production = model.optimize().objective_value\n",
    "    print(\"Max. heme production [mmol gDW^-1 h^-1]:\", succ_production)\n",
    "    print(\"Theoretical max. yield [mmol-heme / mmol-[CARBON SOURCE]]:\", succ_production / (-1*model.reactions.EX_glc__D_e.flux))"
   ]
  },
  {
   "cell_type": "markdown",
   "id": "2747807c-4b31-4c51-abeb-38da1b5ee8a4",
   "metadata": {},
   "source": [
    "## Phenotypic phase plane analysis"
   ]
  },
  {
   "cell_type": "code",
   "execution_count": 74,
   "id": "261b23df-94e2-4830-8957-7cb9f70523d1",
   "metadata": {},
   "outputs": [],
   "source": [
    "from cobra.flux_analysis.phenotype_phase_plane import production_envelope"
   ]
  },
  {
   "cell_type": "code",
   "execution_count": 75,
   "id": "5d842c62-0414-4678-a106-4ce25f0ef740",
   "metadata": {},
   "outputs": [
    {
     "name": "stdout",
     "output_type": "stream",
     "text": [
      "Maximize\n",
      "1.0*BIOMASS_SC5_notrace - 1.0*BIOMASS_SC5_notrace_reverse_93090\n"
     ]
    }
   ],
   "source": [
    "print(model.objective)"
   ]
  },
  {
   "cell_type": "code",
   "execution_count": 76,
   "id": "89df01dd-885b-4564-85ed-766b0be5624f",
   "metadata": {},
   "outputs": [],
   "source": [
    "ppp_succ = production_envelope(model,\n",
    "                    reactions=[model.reactions.EX_glc__D_e],\n",
    "                    objective=model.reactions.BIOMASS_SC5_notrace)"
   ]
  },
  {
   "cell_type": "code",
   "execution_count": 77,
   "id": "9af2fa20-7ca2-49cb-9381-08d80562c3e9",
   "metadata": {},
   "outputs": [
    {
     "data": {
      "text/html": [
       "<div>\n",
       "<style scoped>\n",
       "    .dataframe tbody tr th:only-of-type {\n",
       "        vertical-align: middle;\n",
       "    }\n",
       "\n",
       "    .dataframe tbody tr th {\n",
       "        vertical-align: top;\n",
       "    }\n",
       "\n",
       "    .dataframe thead th {\n",
       "        text-align: right;\n",
       "    }\n",
       "</style>\n",
       "<table border=\"1\" class=\"dataframe\">\n",
       "  <thead>\n",
       "    <tr style=\"text-align: right;\">\n",
       "      <th></th>\n",
       "      <th>carbon_source</th>\n",
       "      <th>flux_minimum</th>\n",
       "      <th>carbon_yield_minimum</th>\n",
       "      <th>mass_yield_minimum</th>\n",
       "      <th>flux_maximum</th>\n",
       "      <th>carbon_yield_maximum</th>\n",
       "      <th>mass_yield_maximum</th>\n",
       "      <th>EX_glc__D_e</th>\n",
       "    </tr>\n",
       "  </thead>\n",
       "  <tbody>\n",
       "    <tr>\n",
       "      <th>0</th>\n",
       "      <td>EX_glc__D_e</td>\n",
       "      <td>0.0</td>\n",
       "      <td>0.0</td>\n",
       "      <td>NaN</td>\n",
       "      <td>0.287866</td>\n",
       "      <td>3.016363</td>\n",
       "      <td>NaN</td>\n",
       "      <td>-10.000000</td>\n",
       "    </tr>\n",
       "    <tr>\n",
       "      <th>1</th>\n",
       "      <td>EX_glc__D_e</td>\n",
       "      <td>0.0</td>\n",
       "      <td>0.0</td>\n",
       "      <td>NaN</td>\n",
       "      <td>0.275435</td>\n",
       "      <td>3.045455</td>\n",
       "      <td>NaN</td>\n",
       "      <td>-9.476780</td>\n",
       "    </tr>\n",
       "    <tr>\n",
       "      <th>2</th>\n",
       "      <td>EX_glc__D_e</td>\n",
       "      <td>0.0</td>\n",
       "      <td>0.0</td>\n",
       "      <td>NaN</td>\n",
       "      <td>0.263005</td>\n",
       "      <td>3.077947</td>\n",
       "      <td>NaN</td>\n",
       "      <td>-8.953560</td>\n",
       "    </tr>\n",
       "    <tr>\n",
       "      <th>3</th>\n",
       "      <td>EX_glc__D_e</td>\n",
       "      <td>0.0</td>\n",
       "      <td>0.0</td>\n",
       "      <td>NaN</td>\n",
       "      <td>0.250574</td>\n",
       "      <td>3.114473</td>\n",
       "      <td>NaN</td>\n",
       "      <td>-8.430341</td>\n",
       "    </tr>\n",
       "    <tr>\n",
       "      <th>4</th>\n",
       "      <td>EX_glc__D_e</td>\n",
       "      <td>0.0</td>\n",
       "      <td>0.0</td>\n",
       "      <td>NaN</td>\n",
       "      <td>0.238143</td>\n",
       "      <td>3.155832</td>\n",
       "      <td>NaN</td>\n",
       "      <td>-7.907121</td>\n",
       "    </tr>\n",
       "    <tr>\n",
       "      <th>5</th>\n",
       "      <td>EX_glc__D_e</td>\n",
       "      <td>0.0</td>\n",
       "      <td>0.0</td>\n",
       "      <td>NaN</td>\n",
       "      <td>0.225713</td>\n",
       "      <td>3.203053</td>\n",
       "      <td>NaN</td>\n",
       "      <td>-7.383901</td>\n",
       "    </tr>\n",
       "    <tr>\n",
       "      <th>6</th>\n",
       "      <td>EX_glc__D_e</td>\n",
       "      <td>0.0</td>\n",
       "      <td>0.0</td>\n",
       "      <td>NaN</td>\n",
       "      <td>0.213282</td>\n",
       "      <td>3.257476</td>\n",
       "      <td>NaN</td>\n",
       "      <td>-6.860681</td>\n",
       "    </tr>\n",
       "    <tr>\n",
       "      <th>7</th>\n",
       "      <td>EX_glc__D_e</td>\n",
       "      <td>0.0</td>\n",
       "      <td>0.0</td>\n",
       "      <td>NaN</td>\n",
       "      <td>0.200852</td>\n",
       "      <td>3.320885</td>\n",
       "      <td>NaN</td>\n",
       "      <td>-6.337461</td>\n",
       "    </tr>\n",
       "    <tr>\n",
       "      <th>8</th>\n",
       "      <td>EX_glc__D_e</td>\n",
       "      <td>0.0</td>\n",
       "      <td>0.0</td>\n",
       "      <td>NaN</td>\n",
       "      <td>0.188421</td>\n",
       "      <td>3.395707</td>\n",
       "      <td>NaN</td>\n",
       "      <td>-5.814241</td>\n",
       "    </tr>\n",
       "    <tr>\n",
       "      <th>9</th>\n",
       "      <td>EX_glc__D_e</td>\n",
       "      <td>0.0</td>\n",
       "      <td>0.0</td>\n",
       "      <td>NaN</td>\n",
       "      <td>0.175991</td>\n",
       "      <td>3.485327</td>\n",
       "      <td>NaN</td>\n",
       "      <td>-5.291022</td>\n",
       "    </tr>\n",
       "    <tr>\n",
       "      <th>10</th>\n",
       "      <td>EX_glc__D_e</td>\n",
       "      <td>0.0</td>\n",
       "      <td>0.0</td>\n",
       "      <td>NaN</td>\n",
       "      <td>0.163560</td>\n",
       "      <td>3.594617</td>\n",
       "      <td>NaN</td>\n",
       "      <td>-4.767802</td>\n",
       "    </tr>\n",
       "    <tr>\n",
       "      <th>11</th>\n",
       "      <td>EX_glc__D_e</td>\n",
       "      <td>0.0</td>\n",
       "      <td>0.0</td>\n",
       "      <td>NaN</td>\n",
       "      <td>0.151129</td>\n",
       "      <td>3.730850</td>\n",
       "      <td>NaN</td>\n",
       "      <td>-4.244582</td>\n",
       "    </tr>\n",
       "    <tr>\n",
       "      <th>12</th>\n",
       "      <td>EX_glc__D_e</td>\n",
       "      <td>0.0</td>\n",
       "      <td>0.0</td>\n",
       "      <td>NaN</td>\n",
       "      <td>0.138699</td>\n",
       "      <td>3.905392</td>\n",
       "      <td>NaN</td>\n",
       "      <td>-3.721362</td>\n",
       "    </tr>\n",
       "    <tr>\n",
       "      <th>13</th>\n",
       "      <td>EX_glc__D_e</td>\n",
       "      <td>0.0</td>\n",
       "      <td>0.0</td>\n",
       "      <td>NaN</td>\n",
       "      <td>0.126268</td>\n",
       "      <td>4.137045</td>\n",
       "      <td>NaN</td>\n",
       "      <td>-3.198142</td>\n",
       "    </tr>\n",
       "    <tr>\n",
       "      <th>14</th>\n",
       "      <td>EX_glc__D_e</td>\n",
       "      <td>0.0</td>\n",
       "      <td>0.0</td>\n",
       "      <td>NaN</td>\n",
       "      <td>0.113838</td>\n",
       "      <td>4.459321</td>\n",
       "      <td>NaN</td>\n",
       "      <td>-2.674923</td>\n",
       "    </tr>\n",
       "    <tr>\n",
       "      <th>15</th>\n",
       "      <td>EX_glc__D_e</td>\n",
       "      <td>0.0</td>\n",
       "      <td>0.0</td>\n",
       "      <td>NaN</td>\n",
       "      <td>0.101407</td>\n",
       "      <td>4.938330</td>\n",
       "      <td>NaN</td>\n",
       "      <td>-2.151703</td>\n",
       "    </tr>\n",
       "    <tr>\n",
       "      <th>16</th>\n",
       "      <td>EX_glc__D_e</td>\n",
       "      <td>0.0</td>\n",
       "      <td>0.0</td>\n",
       "      <td>NaN</td>\n",
       "      <td>0.088817</td>\n",
       "      <td>5.714896</td>\n",
       "      <td>NaN</td>\n",
       "      <td>-1.628483</td>\n",
       "    </tr>\n",
       "    <tr>\n",
       "      <th>17</th>\n",
       "      <td>EX_glc__D_e</td>\n",
       "      <td>0.0</td>\n",
       "      <td>0.0</td>\n",
       "      <td>NaN</td>\n",
       "      <td>0.076010</td>\n",
       "      <td>7.206082</td>\n",
       "      <td>NaN</td>\n",
       "      <td>-1.105263</td>\n",
       "    </tr>\n",
       "    <tr>\n",
       "      <th>18</th>\n",
       "      <td>EX_glc__D_e</td>\n",
       "      <td>0.0</td>\n",
       "      <td>0.0</td>\n",
       "      <td>NaN</td>\n",
       "      <td>0.051310</td>\n",
       "      <td>9.237118</td>\n",
       "      <td>NaN</td>\n",
       "      <td>-0.582043</td>\n",
       "    </tr>\n",
       "    <tr>\n",
       "      <th>19</th>\n",
       "      <td>EX_glc__D_e</td>\n",
       "      <td>0.0</td>\n",
       "      <td>0.0</td>\n",
       "      <td>NaN</td>\n",
       "      <td>0.000000</td>\n",
       "      <td>0.000000</td>\n",
       "      <td>NaN</td>\n",
       "      <td>-0.058824</td>\n",
       "    </tr>\n",
       "  </tbody>\n",
       "</table>\n",
       "</div>"
      ],
      "text/plain": [
       "   carbon_source  flux_minimum  carbon_yield_minimum  mass_yield_minimum  \\\n",
       "0    EX_glc__D_e           0.0                   0.0                 NaN   \n",
       "1    EX_glc__D_e           0.0                   0.0                 NaN   \n",
       "2    EX_glc__D_e           0.0                   0.0                 NaN   \n",
       "3    EX_glc__D_e           0.0                   0.0                 NaN   \n",
       "4    EX_glc__D_e           0.0                   0.0                 NaN   \n",
       "5    EX_glc__D_e           0.0                   0.0                 NaN   \n",
       "6    EX_glc__D_e           0.0                   0.0                 NaN   \n",
       "7    EX_glc__D_e           0.0                   0.0                 NaN   \n",
       "8    EX_glc__D_e           0.0                   0.0                 NaN   \n",
       "9    EX_glc__D_e           0.0                   0.0                 NaN   \n",
       "10   EX_glc__D_e           0.0                   0.0                 NaN   \n",
       "11   EX_glc__D_e           0.0                   0.0                 NaN   \n",
       "12   EX_glc__D_e           0.0                   0.0                 NaN   \n",
       "13   EX_glc__D_e           0.0                   0.0                 NaN   \n",
       "14   EX_glc__D_e           0.0                   0.0                 NaN   \n",
       "15   EX_glc__D_e           0.0                   0.0                 NaN   \n",
       "16   EX_glc__D_e           0.0                   0.0                 NaN   \n",
       "17   EX_glc__D_e           0.0                   0.0                 NaN   \n",
       "18   EX_glc__D_e           0.0                   0.0                 NaN   \n",
       "19   EX_glc__D_e           0.0                   0.0                 NaN   \n",
       "\n",
       "    flux_maximum  carbon_yield_maximum  mass_yield_maximum  EX_glc__D_e  \n",
       "0       0.287866              3.016363                 NaN   -10.000000  \n",
       "1       0.275435              3.045455                 NaN    -9.476780  \n",
       "2       0.263005              3.077947                 NaN    -8.953560  \n",
       "3       0.250574              3.114473                 NaN    -8.430341  \n",
       "4       0.238143              3.155832                 NaN    -7.907121  \n",
       "5       0.225713              3.203053                 NaN    -7.383901  \n",
       "6       0.213282              3.257476                 NaN    -6.860681  \n",
       "7       0.200852              3.320885                 NaN    -6.337461  \n",
       "8       0.188421              3.395707                 NaN    -5.814241  \n",
       "9       0.175991              3.485327                 NaN    -5.291022  \n",
       "10      0.163560              3.594617                 NaN    -4.767802  \n",
       "11      0.151129              3.730850                 NaN    -4.244582  \n",
       "12      0.138699              3.905392                 NaN    -3.721362  \n",
       "13      0.126268              4.137045                 NaN    -3.198142  \n",
       "14      0.113838              4.459321                 NaN    -2.674923  \n",
       "15      0.101407              4.938330                 NaN    -2.151703  \n",
       "16      0.088817              5.714896                 NaN    -1.628483  \n",
       "17      0.076010              7.206082                 NaN    -1.105263  \n",
       "18      0.051310              9.237118                 NaN    -0.582043  \n",
       "19      0.000000              0.000000                 NaN    -0.058824  "
      ]
     },
     "execution_count": 77,
     "metadata": {},
     "output_type": "execute_result"
    }
   ],
   "source": [
    "ppp_succ"
   ]
  },
  {
   "cell_type": "code",
   "execution_count": 78,
   "id": "e240f81e-7441-43b4-8a8a-b6af18d4919c",
   "metadata": {},
   "outputs": [
    {
     "data": {
      "text/plain": [
       "<matplotlib.axes._subplots.AxesSubplot at 0x1b1a6f4d400>"
      ]
     },
     "execution_count": 78,
     "metadata": {},
     "output_type": "execute_result"
    },
    {
     "data": {
      "image/png": "[encoded data removed]",
      "text/plain": [
       "<Figure size 576x396 with 1 Axes>"
      ]
     },
     "metadata": {},
     "output_type": "display_data"
    }
   ],
   "source": [
    "ppp_succ.plot(x='EX_glc__D_e', y='flux_maximum')"
   ]
  },
  {
   "cell_type": "markdown",
   "id": "97f3b21b-da2a-4ae4-a4ad-4c59d85b796f",
   "metadata": {},
   "source": [
    "Use `production_envelope` to determine the optimal O2 uptake rate."
   ]
  },
  {
   "cell_type": "code",
   "execution_count": 79,
   "id": "f0781284-ee9e-494a-805e-a9ce48cd3130",
   "metadata": {},
   "outputs": [],
   "source": [
    "ppp_o2 = production_envelope(model,\n",
    "                    reactions=[model.reactions.EX_o2_e],\n",
    "                    objective=model.reactions.BIOMASS_SC5_notrace)"
   ]
  },
  {
   "cell_type": "code",
   "execution_count": 80,
   "id": "ba1c9d17-aa02-4946-b7c4-aeda5592cf58",
   "metadata": {},
   "outputs": [
    {
     "data": {
      "text/plain": [
       "-2.0"
      ]
     },
     "execution_count": 80,
     "metadata": {},
     "output_type": "execute_result"
    }
   ],
   "source": [
    "ppp_o2.EX_o2_e[ppp_o2.flux_maximum.idxmax()]"
   ]
  },
  {
   "cell_type": "code",
   "execution_count": 81,
   "id": "794bd50c-19e8-4abd-abc2-e6b665f48d79",
   "metadata": {},
   "outputs": [
    {
     "data": {
      "text/plain": [
       "<matplotlib.axes._subplots.AxesSubplot at 0x1b1a5e0af28>"
      ]
     },
     "execution_count": 81,
     "metadata": {},
     "output_type": "execute_result"
    },
    {
     "data": {
      "image/png": "[encoded data removed]",
      "text/plain": [
       "<Figure size 576x396 with 1 Axes>"
      ]
     },
     "metadata": {},
     "output_type": "display_data"
    }
   ],
   "source": [
    "ppp_o2.plot(x='EX_o2_e', y='flux_maximum')"
   ]
  },
  {
   "cell_type": "code",
   "execution_count": null,
   "id": "1ef837b9-db8e-4247-b036-19c253e9a9b9",
   "metadata": {},
   "outputs": [],
   "source": []
  }
 ],
 "metadata": {
  "kernelspec": {
   "display_name": "Python 3",
   "language": "python",
   "name": "python3"
  },
  "language_info": {
   "codemirror_mode": {
    "name": "ipython",
    "version": 3
   },
   "file_extension": ".py",
   "mimetype": "text/x-python",
   "name": "python",
   "nbconvert_exporter": "python",
   "pygments_lexer": "ipython3",
   "version": "3.6.13"
  }
 },
 "nbformat": 4,
 "nbformat_minor": 5
}
