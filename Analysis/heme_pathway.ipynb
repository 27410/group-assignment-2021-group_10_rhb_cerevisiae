{
 "cells": [
  {
   "cell_type": "code",
   "execution_count": 1,
   "id": "9d952c03-550e-49cd-a01a-372674fb5244",
   "metadata": {},
   "outputs": [],
   "source": [
    "import pandas as pd\n",
    "import matplotlib.pyplot as plt\n",
    "plt.style.use('seaborn')\n",
    "from cobra.io import read_sbml_model\n",
    "from cobra import Reaction, Metabolite\n",
    "from cobra.util import create_stoichiometric_matrix\n",
    "import numpy as np\n",
    "import escher"
   ]
  },
  {
   "cell_type": "code",
   "execution_count": 4,
   "id": "658e04ea-9f7d-4afb-9af7-d0e7d669089d",
   "metadata": {},
   "outputs": [],
   "source": [
    "model = read_sbml_model('iMM904.xml') # insert model HERE"
   ]
  },
  {
   "cell_type": "markdown",
   "id": "1d77603d-e0bd-4a2b-84b4-536c5d22412b",
   "metadata": {},
   "source": [
    "# The heme biosynthetic pathway"
   ]
  },
  {
   "cell_type": "markdown",
   "id": "9fb59f77-46f6-4a3e-9374-e47acee960ae",
   "metadata": {},
   "source": [
    "We want a lot of Protoheme C34H30FeN4O4 (id: pheme_m). Let's start by figuring out what the flux to heme currently is?\n",
    "\n",
    "We look at the reactions heme is directely involved in... ...and then work backwards to glycine (https://www.genome.jp/kegg-bin/show_pathway?sce00860)"
   ]
  },
  {
   "cell_type": "markdown",
   "id": "de6eab93-48b9-45f4-9639-006f9b581aa5",
   "metadata": {},
   "source": []
  },
  {
   "cell_type": "code",
   "execution_count": null,
   "id": "8c2ecaed-94a5-4b85-a759-8118637b036a",
   "metadata": {},
   "outputs": [],
   "source": [
    "heme_1 = model.reactions.get_by_id('ALASm')\n",
    "heme_2 = model.reactions.get_by_id('PPBNGS')\n",
    "heme_3 = model.reactions.get_by_id('HMBS')\n",
    "heme_4 = model.reactions.get_by_id('UPP3S') \n",
    "heme_12 = model.reactions.get_by_id('UPPDC1') \n",
    "heme_13 = model.reactions.get_by_id('CPPPGO')\n",
    "heme_14 = model.reactions.get_by_id('PPPGOm') # second to last reaction in the heme biosynthesis\n"
   ]
  },
  {
   "cell_type": "code",
   "execution_count": null,
   "id": "54dca15b-6354-4dbc-b8f3-df1d69626eb2",
   "metadata": {},
   "outputs": [],
   "source": [
    "heme_pathway = [heme_1,heme_2,heme_3,heme_4,heme_12,heme_13,heme_14,heme_15]\n",
    "heme_pathway # the entire heme pathway"
   ]
  }
 ],
 "metadata": {
  "kernelspec": {
   "display_name": "Python 3",
   "language": "python",
   "name": "python3"
  },
  "language_info": {
   "codemirror_mode": {
    "name": "ipython",
    "version": 3
   },
   "file_extension": ".py",
   "mimetype": "text/x-python",
   "name": "python",
   "nbconvert_exporter": "python",
   "pygments_lexer": "ipython3",
   "version": "3.6.13"
  }
 },
 "nbformat": 4,
 "nbformat_minor": 5
}
