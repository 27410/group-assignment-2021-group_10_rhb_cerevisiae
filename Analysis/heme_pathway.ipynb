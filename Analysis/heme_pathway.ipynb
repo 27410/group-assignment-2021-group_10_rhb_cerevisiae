{
 "cells": [
  {
   "cell_type": "code",
   "execution_count": 14,
   "id": "9d952c03-550e-49cd-a01a-372674fb5244",
   "metadata": {},
   "outputs": [],
   "source": [
    "import pandas as pd\n",
    "import matplotlib.pyplot as plt\n",
    "plt.style.use('seaborn')\n",
    "from cobra.io import read_sbml_model\n",
    "from cobra import Reaction, Metabolite\n",
    "from cobra.util import create_stoichiometric_matrix\n",
    "import numpy as np\n",
    "import escher"
   ]
  },
  {
   "cell_type": "code",
   "execution_count": 15,
   "id": "658e04ea-9f7d-4afb-9af7-d0e7d669089d",
   "metadata": {},
   "outputs": [],
   "source": [
    "model = read_sbml_model('iMM904.xml') # insert model HERE"
   ]
  },
  {
   "cell_type": "markdown",
   "id": "1d77603d-e0bd-4a2b-84b4-536c5d22412b",
   "metadata": {},
   "source": [
    "# The heme biosynthetic pathway"
   ]
  },
  {
   "cell_type": "markdown",
   "id": "9fb59f77-46f6-4a3e-9374-e47acee960ae",
   "metadata": {},
   "source": [
    "We want a lot of Protoheme C34H30FeN4O4 (id: pheme_m). Let's start by figuring out what the flux to heme currently is?\n",
    "\n",
    "We look at the reactions heme is directely involved in... ...and then work backwards to glycine (https://www.genome.jp/kegg-bin/show_pathway?sce00860)"
   ]
  },
  {
   "cell_type": "code",
   "execution_count": 29,
   "id": "6f4463ec-6fa1-48ee-aba4-eadc7bd59363",
   "metadata": {},
   "outputs": [
    {
     "data": {
      "text/html": [
       "\n",
       "        <table>\n",
       "            <tr>\n",
       "                <td><strong>Metabolite identifier</strong></td><td>pheme_m</td>\n",
       "            </tr><tr>\n",
       "                <td><strong>Name</strong></td><td>Protoheme C34H30FeN4O4</td>\n",
       "            </tr><tr>\n",
       "                <td><strong>Memory address</strong></td>\n",
       "                <td>0x01d0ed6c1c18</td>\n",
       "            </tr><tr>\n",
       "                <td><strong>Formula</strong></td><td></td>\n",
       "            </tr><tr>\n",
       "                <td><strong>Compartment</strong></td><td>m</td>\n",
       "            </tr><tr>\n",
       "                <td><strong>In 2 reaction(s)</strong></td><td>\n",
       "                    FCLTm, HEMEOSm</td>\n",
       "            </tr>\n",
       "        </table>"
      ],
      "text/plain": [
       "<Metabolite pheme_m at 0x1d0ed6c1c18>"
      ]
     },
     "execution_count": 29,
     "metadata": {},
     "output_type": "execute_result"
    }
   ],
   "source": [
    "model.metabolites.pheme_m"
   ]
  },
  {
   "cell_type": "code",
   "execution_count": 16,
   "id": "8c2ecaed-94a5-4b85-a759-8118637b036a",
   "metadata": {},
   "outputs": [],
   "source": [
    "heme_1 = model.reactions.get_by_id('ALASm')\n",
    "heme_2 = model.reactions.get_by_id('PPBNGS')\n",
    "heme_3 = model.reactions.get_by_id('HMBS')\n",
    "heme_4 = model.reactions.get_by_id('UPP3S') \n",
    "heme_12 = model.reactions.get_by_id('UPPDC1') \n",
    "heme_13 = model.reactions.get_by_id('CPPPGO')\n",
    "heme_14 = model.reactions.get_by_id('PPPGOm') # second to last reaction in the heme biosynthesis"
   ]
  },
  {
   "cell_type": "code",
   "execution_count": 28,
   "id": "54dca15b-6354-4dbc-b8f3-df1d69626eb2",
   "metadata": {},
   "outputs": [
    {
     "name": "stdout",
     "output_type": "stream",
     "text": [
      "0.0 ALASm gly_m + h_m + succoa_m --> 5aop_m + co2_m + coa_m 5 aminolevulinate synthase\n",
      "0.0 PPBNGS 2.0 5aop_c --> 2.0 h2o_c + h_c + ppbng_c Porphobilinogen synthase\n",
      "0.0 HMBS h2o_c + 4.0 ppbng_c --> hmbil_c + 4.0 nh4_c Hydroxymethylbilane synthase\n",
      "0.0 UPP3S hmbil_c --> h2o_c + uppg3_c Uroporphyrinogen-III synthase\n",
      "0.0 UPPDC1 4.0 h_c + uppg3_c --> 4.0 co2_c + cpppg3_c Uroporphyrinogen decarboxylase (uroporphyrinogen III)\n",
      "0.0 CPPPGO cpppg3_c + 2.0 h_c + o2_c --> 2.0 co2_c + 2.0 h2o_c + pppg9_c Coproporphyrinogen oxidase (O2 required)\n",
      "0.0 PPPGOm 3.0 o2_m + 2.0 pppg9_m --> 6.0 h2o_m + 2.0 ppp9_m Protoporphyrinogen oxidase  mitochondrial\n",
      "0.0 FCLTm fe2_m + ppp9_m --> 2.0 h_m + pheme_m Ferrochelatase  mitochondrial\n"
     ]
    }
   ],
   "source": [
    "heme_pathway = [heme_1,heme_2,heme_3,heme_4,heme_12,heme_13,heme_14,heme_15]\n",
    "for i in range (0,len(heme_pathway)):\n",
    "    model.objective = heme_pathway[i] # calculates the flux\n",
    "    print(model.optimize().objective_value, heme_pathway[i].id, heme_pathway[i].reaction, heme_pathway[i].name)"
   ]
  }
 ],
 "metadata": {
  "kernelspec": {
   "display_name": "Python 3",
   "language": "python",
   "name": "python3"
  },
  "language_info": {
   "codemirror_mode": {
    "name": "ipython",
    "version": 3
   },
   "file_extension": ".py",
   "mimetype": "text/x-python",
   "name": "python",
   "nbconvert_exporter": "python",
   "pygments_lexer": "ipython3",
   "version": "3.6.13"
  }
 },
 "nbformat": 4,
 "nbformat_minor": 5
}
