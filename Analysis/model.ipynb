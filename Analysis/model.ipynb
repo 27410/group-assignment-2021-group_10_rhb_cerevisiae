{
 "cells": [
  {
   "cell_type": "markdown",
   "id": "4b50521f-8ed5-4705-b5b6-b7d4e880ff90",
   "metadata": {},
   "source": [
    "**Reading the Saccharomyces cerevisiae S288C model: iMM904**"
   ]
  },
  {
   "cell_type": "markdown",
   "id": "7e61dfcc-4860-41fe-9284-86bccafede73",
   "metadata": {},
   "source": [
    "Latest BiGG Models publication:\n",
    "\n",
    "King ZA, Lu JS, Dräger A, Miller PC, Federowicz S, Lerman JA, Ebrahim A, Palsson BO, and Lewis NE. BiGG Models: A platform for integrating, standardizing, and sharing genome-scale models (2016) Nucleic Acids Research 44(D1):D515-D522. doi:10.1093/nar/gkv1049"
   ]
  },
  {
   "cell_type": "code",
   "execution_count": 1,
   "id": "75c3bd84-88a9-4f46-bea4-09adb5df3aae",
   "metadata": {},
   "outputs": [],
   "source": [
    "from cobra.io import read_sbml_model\n",
    "from cobra import Reaction, Metabolite\n",
    "\n",
    "model = read_sbml_model('iMM904.xml') "
   ]
  },
  {
   "cell_type": "code",
   "execution_count": 4,
   "id": "e1ea63bb-1fe8-480c-946c-3c695d797c41",
   "metadata": {},
   "outputs": [
    {
     "data": {
      "text/plain": [
       "1577"
      ]
     },
     "execution_count": 4,
     "metadata": {},
     "output_type": "execute_result"
    }
   ],
   "source": [
    "len(model.reactions)"
   ]
  },
  {
   "cell_type": "code",
   "execution_count": null,
   "id": "0e9fed3d-ad61-47ed-b9ac-94255ad94a89",
   "metadata": {},
   "outputs": [],
   "source": []
  }
 ],
 "metadata": {
  "kernelspec": {
   "display_name": "Python 3 (ipykernel)",
   "language": "python",
   "name": "python3"
  },
  "language_info": {
   "codemirror_mode": {
    "name": "ipython",
    "version": 3
   },
   "file_extension": ".py",
   "mimetype": "text/x-python",
   "name": "python",
   "nbconvert_exporter": "python",
   "pygments_lexer": "ipython3",
   "version": "3.8.11"
  }
 },
 "nbformat": 4,
 "nbformat_minor": 5
}
