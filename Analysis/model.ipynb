{
 "cells": [
  {
   "cell_type": "markdown",
   "id": "4b50521f-8ed5-4705-b5b6-b7d4e880ff90",
   "metadata": {},
   "source": [
    "**Reading the Saccharomyces cerevisiae S288C model: iMM904**"
   ]
  },
  {
   "cell_type": "markdown",
   "id": "7e61dfcc-4860-41fe-9284-86bccafede73",
   "metadata": {},
   "source": [
    "Latest BiGG Models publication:\n",
    "\n",
    "King ZA, Lu JS, Dräger A, Miller PC, Federowicz S, Lerman JA, Ebrahim A, Palsson BO, and Lewis NE. BiGG Models: A platform for integrating, standardizing, and sharing genome-scale models (2016) Nucleic Acids Research 44(D1):D515-D522. doi:10.1093/nar/gkv1049"
   ]
  },
  {
   "cell_type": "code",
   "execution_count": 1,
   "id": "75c3bd84-88a9-4f46-bea4-09adb5df3aae",
   "metadata": {},
   "outputs": [],
   "source": [
    "from cobra.io import read_sbml_model\n",
    "from cobra import Reaction, Metabolite\n",
    "\n",
    "model = read_sbml_model('iMM904.xml') \n",
    "model2 = read_sbml_model('clint_yeastwood.xml') # MODEL1709260000 DOI: 10.1002/bit.26905 (https://www.ebi.ac.uk/biomodels/MODEL1709260000#Files)"
   ]
  },
  {
   "cell_type": "markdown",
   "id": "90ef5cf5-3266-4376-9344-165a2f5cd6eb",
   "metadata": {},
   "source": [
    "# The GSMMs at a glance"
   ]
  },
  {
   "cell_type": "code",
   "execution_count": 2,
   "id": "e1ea63bb-1fe8-480c-946c-3c695d797c41",
   "metadata": {},
   "outputs": [
    {
     "name": "stdout",
     "output_type": "stream",
     "text": [
      "The standard Saccharomyces cerevisiae model contains 905 genes, 1226 metabolites and 1577 reactions.\n",
      "The model with a comprehensive iron metabolism contains 1226 genes, 3543 metabolites and 4822 reactions.\n"
     ]
    }
   ],
   "source": [
    "print(\"The standard Saccharomyces cerevisiae model contains \"+str(len(model.genes))+\" genes, \"+str(len(model.metabolites))+\" metabolites and \"+str(len(model.reactions))+\" reactions.\")\n",
    "print(\"The model with a comprehensive iron metabolism contains \"+str(len(model2.genes))+\" genes, \"+str(len(model2.metabolites))+\" metabolites and \"+str(len(model2.reactions))+\" reactions.\")"
   ]
  },
  {
   "cell_type": "code",
   "execution_count": 4,
   "id": "a2b07df4-7538-4a38-8c3a-81ba1f23b2b5",
   "metadata": {},
   "outputs": [
    {
     "data": {
      "text/plain": [
       "{'charge': -2.0, 'H': -1.0, 'O': 3.0, 'P': 1.0}"
      ]
     },
     "execution_count": 4,
     "metadata": {},
     "output_type": "execute_result"
    }
   ],
   "source": [
    "# Some reactions in the model with a comprehensive iron metabolism are not quite balanced as seen here:\n",
    "r1 = model2.reactions.get_by_id('r_3143')\n",
    "r1.check_mass_balance()"
   ]
  },
  {
   "cell_type": "markdown",
   "id": "717cbcff-a4c6-4d2a-92ab-38a3b4d195f1",
   "metadata": {},
   "source": [
    "## Composition of the medium, and annotations of the metabolites"
   ]
  },
  {
   "cell_type": "markdown",
   "id": "bb2352c2-f366-414d-b466-821b19b3086d",
   "metadata": {},
   "source": [
    "Whereas the standard Saccharomyces cerevisiae S288C model (model1/iMM904) contains a simple media with simple annotations(...)"
   ]
  },
  {
   "cell_type": "code",
   "execution_count": 40,
   "id": "63ab2f06-2977-456d-8938-341621f907d6",
   "metadata": {},
   "outputs": [
    {
     "name": "stdout",
     "output_type": "stream",
     "text": [
      "Fe2+ mitochondria\n",
      "D-Glucose\n",
      "H2O H2O\n",
      "H+\n",
      "Potassium\n",
      "Sodium\n",
      "Sulfate\n",
      "Ammonium\n",
      "O2 O2\n",
      "Phosphate\n"
     ]
    }
   ],
   "source": [
    "for i in range (0,10):\n",
    "    print(model.metabolites.get_by_id(list(model.medium)[i][3:]).name)"
   ]
  },
  {
   "cell_type": "markdown",
   "id": "fb064ab0-db6a-44a3-9dae-4f7a088355c5",
   "metadata": {},
   "source": [
    "(...)The model with a comprehensive iron metabolism (model2) has much more complex metabolite annotations."
   ]
  },
  {
   "cell_type": "code",
   "execution_count": 53,
   "id": "aeb9095e-2a6c-41a7-9229-0784ff82915b",
   "metadata": {},
   "outputs": [
    {
     "name": "stdout",
     "output_type": "stream",
     "text": [
      "(1->3)-beta-D-glucan [boundary]\n",
      "(R)-carnitine [boundary]\n",
      "(R)-lactate [boundary]\n",
      "(R)-mevalonate [boundary]\n",
      "(R)-pantothenate [boundary]\n",
      "(R,R)-2,3-butanediol [boundary]\n",
      "(S)-3-methyl-2-oxopentanoate [boundary]\n",
      "(S)-lactate [boundary]\n",
      "(S)-malate [boundary]\n",
      "1-(sn-glycero-3-phospho)-1D-myo-inositol [boundary]\n"
     ]
    }
   ],
   "source": [
    "for i in range (0,10):\n",
    "    print(model2.metabolites.get_by_id(list(model2.medium)[i][3:]).name)"
   ]
  },
  {
   "cell_type": "markdown",
   "id": "42f278a7-f6ee-4b28-959c-106324a1c06a",
   "metadata": {},
   "source": [
    "Because many of these are defined as [boundary] we could try a search by [extracellular] metabolites:"
   ]
  },
  {
   "cell_type": "code",
   "execution_count": 54,
   "id": "340b672d-936d-4f00-9678-8b86e8cf5ae1",
   "metadata": {},
   "outputs": [
    {
     "name": "stdout",
     "output_type": "stream",
     "text": [
      "(1->3)-beta-D-glucan [extracellular]\n",
      "(R)-carnitine [extracellular]\n",
      "(R)-lactate [extracellular]\n",
      "(R)-mevalonate [extracellular]\n",
      "(R)-pantothenate [extracellular]\n",
      "(R,R)-2,3-butanediol [extracellular]\n",
      "(S)-3-methyl-2-oxopentanoate [extracellular]\n",
      "(S)-lactate [extracellular]\n",
      "(S)-malate [extracellular]\n",
      "1-(sn-glycero-3-phospho)-1D-myo-inositol [extracellular]\n",
      "1-acylglycerophosphocholine [extracellular]\n",
      "2'-deoxyadenosine [extracellular]\n",
      "2'-deoxyguanosine [extracellular]\n",
      "2'-deoxyinosine [extracellular]\n",
      "2'-deoxyuridine [extracellular]\n",
      "2-isopropylmalate [extracellular]\n",
      "2-methylbutanal [extracellular]\n",
      "2-methylbutanol [extracellular]\n",
      "2-methylbutyl acetate [extracellular]\n",
      "2-oxoglutarate [extracellular]\n",
      "2-phenylethanol [extracellular]\n",
      "3-methylbutanal [extracellular]\n",
      "4-aminobenzoate [extracellular]\n",
      "5-aminolevulinate [extracellular]\n",
      "5-formyltetrahydrofolic acid [extracellular]\n",
      "7,8-diaminononanoate [extracellular]\n",
      "8-amino-7-oxononanoate [extracellular]\n",
      "9H-xanthine [extracellular]\n",
      "acetaldehyde [extracellular]\n",
      "acetate [extracellular]\n",
      "adenine [extracellular]\n",
      "adenosine [extracellular]\n",
      "adenosine 3',5'-bismonophosphate [extracellular]\n",
      "allantoate [extracellular]\n",
      "allantoin [extracellular]\n",
      "alpha-D-glucosamine 6-phosphate [extracellular]\n",
      "ammonium [extracellular]\n",
      "bicarbonate [extracellular]\n",
      "biotin [extracellular]\n",
      "carbon dioxide [extracellular]\n",
      "choline [extracellular]\n",
      "citrate [extracellular]\n",
      "cytidine [extracellular]\n",
      "cytosine [extracellular]\n",
      "D-arabinose [extracellular]\n",
      "D-fructose [extracellular]\n",
      "D-galactose [extracellular]\n",
      "D-galacturonate [extracellular]\n",
      "D-glucitol [extracellular]\n",
      "D-glucose [extracellular]\n",
      "D-mannose [extracellular]\n",
      "D-ribose [extracellular]\n",
      "D-xylose [extracellular]\n",
      "decanoate [extracellular]\n",
      "deoxycytidine [extracellular]\n",
      "dTTP [extracellular]\n",
      "episterol [extracellular]\n",
      "ergosterol [extracellular]\n",
      "ethanol [extracellular]\n",
      "ethanolamine [extracellular]\n",
      "ethyl acetate [extracellular]\n",
      "fecosterol [extracellular]\n",
      "FMN [extracellular]\n",
      "folate [extracellular]\n",
      "formate [extracellular]\n",
      "fumarate [extracellular]\n",
      "gamma-aminobutyrate [extracellular]\n",
      "glutathione [extracellular]\n",
      "glutathione disulfide [extracellular]\n",
      "glycerol [extracellular]\n",
      "glycolaldehyde [extracellular]\n",
      "glyoxylate [extracellular]\n",
      "guanine [extracellular]\n",
      "guanosine [extracellular]\n",
      "H+ [extracellular]\n",
      "H2O [extracellular]\n",
      "hexadecanal [extracellular]\n",
      "hypoxanthine [extracellular]\n",
      "indol-3-ylacetaldehyde [extracellular]\n",
      "inosine [extracellular]\n",
      "ironII [extracellular]\n",
      "isoamyl acetate [extracellular]\n",
      "isoamylol [extracellular]\n",
      "isobutanol [extracellular]\n",
      "isobutyl acetate [extracellular]\n",
      "isobutyraldehyde [extracellular]\n",
      "L-alanine [extracellular]\n",
      "L-arabinitol [extracellular]\n",
      "L-arabinose [extracellular]\n",
      "L-arginine [extracellular]\n",
      "L-asparagine [extracellular]\n",
      "L-aspartate [extracellular]\n",
      "L-cysteine [extracellular]\n",
      "L-glucitol [extracellular]\n",
      "L-glutamate [extracellular]\n",
      "L-glutamine [extracellular]\n",
      "L-glycine [extracellular]\n",
      "L-histidine [extracellular]\n",
      "L-homoserine [extracellular]\n",
      "L-isoleucine [extracellular]\n",
      "L-leucine [extracellular]\n",
      "L-lysine [extracellular]\n",
      "L-methionine [extracellular]\n",
      "L-phenylalanine [extracellular]\n",
      "L-proline [extracellular]\n",
      "L-serine [extracellular]\n",
      "L-sorbose [extracellular]\n",
      "L-threonine [extracellular]\n",
      "L-tryptophan [extracellular]\n",
      "L-tyrosine [extracellular]\n",
      "L-valine [extracellular]\n",
      "lanosterol [extracellular]\n",
      "laurate [extracellular]\n",
      "maltose [extracellular]\n",
      "myo-inositol [extracellular]\n",
      "myristate [extracellular]\n",
      "N,N'-diformyldityrosine [extracellular]\n",
      "nicotinate [extracellular]\n",
      "NMN [extracellular]\n",
      "octanoate [extracellular]\n",
      "ornithine [extracellular]\n",
      "oxaloacetate [extracellular]\n",
      "oxygen [extracellular]\n",
      "palmitate [extracellular]\n",
      "palmitoleate [extracellular]\n",
      "pectin [extracellular]\n",
      "phenethyl acetate [extracellular]\n",
      "phenylacetaldehyde [extracellular]\n",
      "phosphate [extracellular]\n",
      "potassium [extracellular]\n",
      "putrescine [extracellular]\n",
      "pyridoxine [extracellular]\n",
      "pyruvate [extracellular]\n",
      "riboflavin [extracellular]\n",
      "S-adenosyl-L-methionine [extracellular]\n",
      "S-methyl-L-methionine [extracellular]\n",
      "sn-glycero-3-phosphocholine [extracellular]\n",
      "sodium [extracellular]\n",
      "spermidine [extracellular]\n",
      "spermine [extracellular]\n",
      "stearate [extracellular]\n",
      "succinate [extracellular]\n",
      "sucrose [extracellular]\n",
      "sulphate [extracellular]\n",
      "sulphite [extracellular]\n",
      "taurine [extracellular]\n",
      "TDP [extracellular]\n",
      "thiamine [extracellular]\n",
      "thymidine [extracellular]\n",
      "TMP [extracellular]\n",
      "trehalose [extracellular]\n",
      "tryptophol [extracellular]\n",
      "uracil [extracellular]\n",
      "urea [extracellular]\n",
      "uridine [extracellular]\n",
      "xanthosine [extracellular]\n",
      "xylitol [extracellular]\n",
      "zymosterol [extracellular]\n",
      "ironIII [extracellular]\n",
      "copperII [extracellular]\n",
      "carbon monoxide [extracellular]\n",
      "coprogen [extracellular]\n",
      "coprogenFeIII [extracellular]\n",
      "ferrichrome [extracellular]\n",
      "ferrichromeFeIII [extracellular]\n",
      "TAFC [extracellular]\n",
      "TAFCFeIII [extracellular]\n",
      "enterobactin [extracellular]\n",
      "enterobactinFeIII [extracellular]\n",
      "ferrioxamineB [extracellular]\n",
      "ferrioxamineBFeII [extracellular]\n",
      "PS [extracellular]\n",
      "PHO11 [extracellular]\n",
      "PHO3 [extracellular]\n",
      "PHO5 [extracellular]\n",
      "EXG2 [extracellular]\n",
      "BGL2 [extracellular]\n",
      "SUC2 [extracellular]\n",
      "PGU1 [extracellular]\n",
      "ASP3-1 [extracellular]\n",
      "ASP3-2 [extracellular]\n",
      "ASP3-3 [extracellular]\n",
      "ASP3-4 [extracellular]\n",
      "EXG1 [extracellular]\n",
      "DSE4 [extracellular]\n",
      "SPR1 [extracellular]\n",
      "14-demethyllanosterol [extracellular]\n",
      "ergosta-5,7,22,24(28)-tetraen-3beta-ol [extracellular]\n",
      "butyrate [extracellular]\n",
      "hexanoate [extracellular]\n",
      "oleate [extracellular]\n",
      "raffinose [extracellular]\n",
      "melibiose [extracellular]\n"
     ]
    }
   ],
   "source": [
    "for metabolite in model2.metabolites.query('extracellular', 'name'):\n",
    "    print(metabolite.name)"
   ]
  },
  {
   "cell_type": "markdown",
   "id": "313ff9eb-16f1-4490-8f5c-666f9ed20691",
   "metadata": {},
   "source": [
    "## Compartments"
   ]
  },
  {
   "cell_type": "markdown",
   "id": "70a27898-95ae-40af-8e2e-09e88c1dbb9c",
   "metadata": {},
   "source": [
    "Further, the standard yeast has many fewer defined compartments compared to the model with the iron metabolism."
   ]
  },
  {
   "cell_type": "code",
   "execution_count": 44,
   "id": "0e013e02-b790-461f-bd7e-a66f20311117",
   "metadata": {},
   "outputs": [
    {
     "name": "stdout",
     "output_type": "stream",
     "text": [
      "{'c': 'cytosol', 'e': 'extracellular space', 'm': 'mitochondria', 'x': 'peroxisome/glyoxysome', 'r': 'endoplasmic reticulum', 'v': 'vacuole', 'g': 'golgi apparatus', 'n': 'nucleus'}\n",
      "{'c_02': 'cell envelope', 'c_03': 'cytoplasm', 'c_06': 'extracellular', 'c_11': 'mitochondrion', 'c_13': 'nucleus', 'c_15': 'peroxisome', 'c_04': 'endoplasmic reticulum', 'c_07': 'Golgi', 'c_09': 'lipid particle', 'c_17': 'vacuole', 'c_01': 'boundary', 'c_10': 'mitochondrial membrane', 'c_05': 'endoplasmic reticulum membrane', 'c_08': 'Golgi membrane', 'c_16': 'vacuolar membrane', 'c_14': 'peroxisomal membrane'}\n"
     ]
    }
   ],
   "source": [
    "print(model.compartments)\n",
    "print(model2.compartments)"
   ]
  },
  {
   "cell_type": "markdown",
   "id": "8b4a2753-22e0-4a4f-84eb-300102f030fc",
   "metadata": {},
   "source": [
    "## \"Glucose\" query"
   ]
  },
  {
   "cell_type": "code",
   "execution_count": 83,
   "id": "7c4403c9-9976-4c88-9fc0-4506ea95aefe",
   "metadata": {},
   "outputs": [
    {
     "name": "stdout",
     "output_type": "stream",
     "text": [
      "D-glucose [cytoplasm] s_0563\n",
      "D-glucose [extracellular] s_0565\n",
      "D-glucose [vacuole] s_0566\n",
      "D-glucose 1-phosphate [cytoplasm] s_0567\n",
      "D-glucose 6-phosphate [cytoplasm] s_0568\n",
      "UDP-D-glucose [cytoplasm] s_1543\n",
      "D-glucose [boundary] s_1706\n"
     ]
    }
   ],
   "source": [
    "for metabolite in model2.metabolites.query('glucose', 'name'):\n",
    "    print(metabolite.name,metabolite.id)"
   ]
  },
  {
   "cell_type": "code",
   "execution_count": 84,
   "id": "10f51a58-864d-45d6-ab20-fa31193375d3",
   "metadata": {},
   "outputs": [
    {
     "data": {
      "text/html": [
       "\n",
       "        <table>\n",
       "            <tr>\n",
       "                <td><strong>Metabolite identifier</strong></td><td>s_0565</td>\n",
       "            </tr><tr>\n",
       "                <td><strong>Name</strong></td><td>D-glucose [extracellular]</td>\n",
       "            </tr><tr>\n",
       "                <td><strong>Memory address</strong></td>\n",
       "                <td>0x029d8e973e48</td>\n",
       "            </tr><tr>\n",
       "                <td><strong>Formula</strong></td><td>C6H12O6</td>\n",
       "            </tr><tr>\n",
       "                <td><strong>Compartment</strong></td><td>c_06</td>\n",
       "            </tr><tr>\n",
       "                <td><strong>In 4 reaction(s)</strong></td><td>\n",
       "                    r_1024, r_1714, r_0370, r_1166</td>\n",
       "            </tr>\n",
       "        </table>"
      ],
      "text/plain": [
       "<Metabolite s_0565 at 0x29d8e973e48>"
      ]
     },
     "execution_count": 84,
     "metadata": {},
     "output_type": "execute_result"
    }
   ],
   "source": [
    "model2.metabolites.get_by_id('s_0565')"
   ]
  },
  {
   "cell_type": "code",
   "execution_count": 47,
   "id": "e2a5c8d8-1519-4d59-adfd-758d2a6f4f47",
   "metadata": {},
   "outputs": [
    {
     "name": "stdout",
     "output_type": "stream",
     "text": [
      "2 Deoxy D glucose C6H12O5\n",
      "2 Deoxy D glucose 6 phosphate C6H11O8P\n",
      "Beta D glucose 6 phosphate C6H11O9P\n",
      "UDPglucose\n"
     ]
    }
   ],
   "source": [
    "for metabolite in model.metabolites.query('glucose', 'name'):\n",
    "    print(metabolite.name)"
   ]
  },
  {
   "cell_type": "markdown",
   "id": "4fcda3dc-4b04-4002-9343-efaee98cf59c",
   "metadata": {},
   "source": [
    "## The growth rate"
   ]
  },
  {
   "cell_type": "code",
   "execution_count": 50,
   "id": "c8c0652c-6107-481a-8b8f-9ee6aa480ef9",
   "metadata": {},
   "outputs": [
    {
     "name": "stdout",
     "output_type": "stream",
     "text": [
      "The growth rate of standard yeast is: 0.28786570370401743\n",
      "The growth rate of Clint Yeastwood is only: 0.08798026465436438\n"
     ]
    }
   ],
   "source": [
    "print(\"The growth rate of standard yeast is: \"+str(model.optimize().objective_value))\n",
    "print(\"The growth rate of Clint Yeastwood is only: \"+str(model2.optimize().objective_value))"
   ]
  },
  {
   "cell_type": "code",
   "execution_count": 76,
   "id": "947d653c-858c-4899-9bc3-c535d92247c6",
   "metadata": {},
   "outputs": [
    {
     "name": "stdout",
     "output_type": "stream",
     "text": [
      "Maximize\n",
      "1.0*r_2111 - 1.0*r_2111_reverse_58b69\n"
     ]
    }
   ],
   "source": [
    "print(model2.objective)"
   ]
  },
  {
   "cell_type": "code",
   "execution_count": 86,
   "id": "70631173-b2cf-47f3-a598-2f132738e275",
   "metadata": {},
   "outputs": [
    {
     "ename": "KeyError",
     "evalue": "'D-glucose'",
     "output_type": "error",
     "traceback": [
      "\u001b[1;31m---------------------------------------------------------------------------\u001b[0m",
      "\u001b[1;31mKeyError\u001b[0m                                  Traceback (most recent call last)",
      "\u001b[1;32m<ipython-input-86-03f7967eb7a8>\u001b[0m in \u001b[0;36m<module>\u001b[1;34m\u001b[0m\n\u001b[0;32m      3\u001b[0m     \u001b[1;31m#medium['s_0565'] = 0\u001b[0m\u001b[1;33m\u001b[0m\u001b[1;33m\u001b[0m\u001b[1;33m\u001b[0m\u001b[0m\n\u001b[0;32m      4\u001b[0m     \u001b[0mmedium\u001b[0m\u001b[1;33m[\u001b[0m\u001b[1;34m'D-glucose'\u001b[0m\u001b[1;33m]\u001b[0m \u001b[1;33m=\u001b[0m \u001b[1;36m0\u001b[0m\u001b[1;33m\u001b[0m\u001b[1;33m\u001b[0m\u001b[0m\n\u001b[1;32m----> 5\u001b[1;33m     \u001b[0mmodel2\u001b[0m\u001b[1;33m.\u001b[0m\u001b[0mmedium\u001b[0m \u001b[1;33m=\u001b[0m \u001b[0mmedium\u001b[0m\u001b[1;33m\u001b[0m\u001b[1;33m\u001b[0m\u001b[0m\n\u001b[0m\u001b[0;32m      6\u001b[0m     \u001b[0msolution2\u001b[0m \u001b[1;33m=\u001b[0m \u001b[0mmodel2\u001b[0m\u001b[1;33m.\u001b[0m\u001b[0moptimize\u001b[0m\u001b[1;33m(\u001b[0m\u001b[1;33m)\u001b[0m\u001b[1;33m\u001b[0m\u001b[1;33m\u001b[0m\u001b[0m\n\u001b[0;32m      7\u001b[0m     \u001b[0mprint\u001b[0m\u001b[1;33m(\u001b[0m\u001b[1;34m'Maximum theoretical biomass productivity:'\u001b[0m\u001b[1;33m,\u001b[0m \u001b[0msolution2\u001b[0m\u001b[1;33m.\u001b[0m\u001b[0mfluxes\u001b[0m\u001b[1;33m[\u001b[0m\u001b[1;34m'r_2111'\u001b[0m\u001b[1;33m]\u001b[0m\u001b[1;33m,\u001b[0m \u001b[1;34m'/h'\u001b[0m\u001b[1;33m)\u001b[0m\u001b[1;33m\u001b[0m\u001b[1;33m\u001b[0m\u001b[0m\n",
      "\u001b[1;32m~\\anaconda3\\envs\\gms_carveme\\lib\\site-packages\\cobra\\core\\model.py\u001b[0m in \u001b[0;36mmedium\u001b[1;34m(self, medium)\u001b[0m\n\u001b[0;32m    277\u001b[0m         \u001b[0mexchange_rxns\u001b[0m \u001b[1;33m=\u001b[0m \u001b[0mfrozenset\u001b[0m\u001b[1;33m(\u001b[0m\u001b[0mself\u001b[0m\u001b[1;33m.\u001b[0m\u001b[0mexchanges\u001b[0m\u001b[1;33m)\u001b[0m\u001b[1;33m\u001b[0m\u001b[1;33m\u001b[0m\u001b[0m\n\u001b[0;32m    278\u001b[0m         \u001b[1;32mfor\u001b[0m \u001b[0mrxn_id\u001b[0m\u001b[1;33m,\u001b[0m \u001b[0mbound\u001b[0m \u001b[1;32min\u001b[0m \u001b[0mmedium\u001b[0m\u001b[1;33m.\u001b[0m\u001b[0mitems\u001b[0m\u001b[1;33m(\u001b[0m\u001b[1;33m)\u001b[0m\u001b[1;33m:\u001b[0m\u001b[1;33m\u001b[0m\u001b[1;33m\u001b[0m\u001b[0m\n\u001b[1;32m--> 279\u001b[1;33m             \u001b[0mrxn\u001b[0m \u001b[1;33m=\u001b[0m \u001b[0mself\u001b[0m\u001b[1;33m.\u001b[0m\u001b[0mreactions\u001b[0m\u001b[1;33m.\u001b[0m\u001b[0mget_by_id\u001b[0m\u001b[1;33m(\u001b[0m\u001b[0mrxn_id\u001b[0m\u001b[1;33m)\u001b[0m\u001b[1;33m\u001b[0m\u001b[1;33m\u001b[0m\u001b[0m\n\u001b[0m\u001b[0;32m    280\u001b[0m             \u001b[1;32mif\u001b[0m \u001b[0mrxn\u001b[0m \u001b[1;32mnot\u001b[0m \u001b[1;32min\u001b[0m \u001b[0mexchange_rxns\u001b[0m\u001b[1;33m:\u001b[0m\u001b[1;33m\u001b[0m\u001b[1;33m\u001b[0m\u001b[0m\n\u001b[0;32m    281\u001b[0m                 logger.warn(\n",
      "\u001b[1;32m~\\anaconda3\\envs\\gms_carveme\\lib\\site-packages\\cobra\\core\\dictlist.py\u001b[0m in \u001b[0;36mget_by_id\u001b[1;34m(self, id)\u001b[0m\n\u001b[0;32m     55\u001b[0m     \u001b[1;32mdef\u001b[0m \u001b[0mget_by_id\u001b[0m\u001b[1;33m(\u001b[0m\u001b[0mself\u001b[0m\u001b[1;33m,\u001b[0m \u001b[0mid\u001b[0m\u001b[1;33m)\u001b[0m\u001b[1;33m:\u001b[0m\u001b[1;33m\u001b[0m\u001b[1;33m\u001b[0m\u001b[0m\n\u001b[0;32m     56\u001b[0m         \u001b[1;34m\"\"\"return the element with a matching id\"\"\"\u001b[0m\u001b[1;33m\u001b[0m\u001b[1;33m\u001b[0m\u001b[0m\n\u001b[1;32m---> 57\u001b[1;33m         \u001b[1;32mreturn\u001b[0m \u001b[0mlist\u001b[0m\u001b[1;33m.\u001b[0m\u001b[0m__getitem__\u001b[0m\u001b[1;33m(\u001b[0m\u001b[0mself\u001b[0m\u001b[1;33m,\u001b[0m \u001b[0mself\u001b[0m\u001b[1;33m.\u001b[0m\u001b[0m_dict\u001b[0m\u001b[1;33m[\u001b[0m\u001b[0mid\u001b[0m\u001b[1;33m]\u001b[0m\u001b[1;33m)\u001b[0m\u001b[1;33m\u001b[0m\u001b[1;33m\u001b[0m\u001b[0m\n\u001b[0m\u001b[0;32m     58\u001b[0m \u001b[1;33m\u001b[0m\u001b[0m\n\u001b[0;32m     59\u001b[0m     \u001b[1;32mdef\u001b[0m \u001b[0mlist_attr\u001b[0m\u001b[1;33m(\u001b[0m\u001b[0mself\u001b[0m\u001b[1;33m,\u001b[0m \u001b[0mattribute\u001b[0m\u001b[1;33m)\u001b[0m\u001b[1;33m:\u001b[0m\u001b[1;33m\u001b[0m\u001b[1;33m\u001b[0m\u001b[0m\n",
      "\u001b[1;31mKeyError\u001b[0m: 'D-glucose'"
     ]
    }
   ],
   "source": [
    "medium = model2.medium\n",
    "with model2:\n",
    "    #medium['s_0565'] = 0\n",
    "    medium['D-glucose'] = 0\n",
    "    model2.medium = medium\n",
    "    solution2 = model2.optimize()\n",
    "    print('Maximum theoretical biomass productivity:', solution2.fluxes['r_2111'], '/h')"
   ]
  },
  {
   "cell_type": "code",
   "execution_count": null,
   "id": "add82f43-ecf6-498d-9607-e58221a4c617",
   "metadata": {},
   "outputs": [],
   "source": []
  },
  {
   "cell_type": "code",
   "execution_count": 87,
   "id": "e554e935-4ec6-45c0-8441-bd3e17e41d18",
   "metadata": {},
   "outputs": [],
   "source": [
    "def get_reaction_fluxes(model):\n",
    "    solution = model.optimize()\n",
    "    all_fluxes = solution.fluxes[solution.fluxes != 0.]\n",
    "    ls=[]\n",
    "    i = 0\n",
    "    while i != len(all_fluxes):\n",
    "        j = (all_fluxes.index[i],all_fluxes[i])\n",
    "        ls.append(j)\n",
    "        i+=1\n",
    "    else:\n",
    "        return ls\n",
    "\n",
    "def sort_fluxes(reaction_fluxes):\n",
    "    flux_id = None\n",
    "    flux = 0\n",
    "    i = 0\n",
    "    while i != len(reaction_fluxes):\n",
    "        if reaction_fluxes[i][1] > flux:\n",
    "            flux = reaction_fluxes[i][1]\n",
    "            flux_id = reaction_fluxes[i]\n",
    "            i+=1\n",
    "        else:\n",
    "            i+=1\n",
    "    else:\n",
    "        return flux_id"
   ]
  },
  {
   "cell_type": "code",
   "execution_count": 90,
   "id": "503f3667-28f1-4381-b5bd-56ce47410203",
   "metadata": {},
   "outputs": [],
   "source": [
    "reaction_fluxes = get_reaction_fluxes(model)\n",
    "reaction_fluxes2 = get_reaction_fluxes(model2)"
   ]
  },
  {
   "cell_type": "code",
   "execution_count": 91,
   "id": "51a0cbbc-9994-4c87-8223-cf1d2d5feec0",
   "metadata": {},
   "outputs": [
    {
     "data": {
      "text/html": [
       "\n",
       "        <table>\n",
       "            <tr>\n",
       "                <td><strong>Reaction identifier</strong></td><td>GAPD</td>\n",
       "            </tr><tr>\n",
       "                <td><strong>Name</strong></td><td>Glyceraldehyde-3-phosphate dehydrogenase</td>\n",
       "            </tr><tr>\n",
       "                <td><strong>Memory address</strong></td>\n",
       "                <td>0x029d8eca0f98</td>\n",
       "            </tr><tr>\n",
       "                <td><strong>Stoichiometry</strong></td>\n",
       "                <td>\n",
       "                    <p style='text-align:right'>g3p_c + nad_c + pi_c <=> 13dpg_c + h_c + nadh_c</p>\n",
       "                    <p style='text-align:right'>Glyceraldehyde 3-phosphate + Nicotinamide adenine dinucleotide + Phosphate <=> 3-Phospho-D-glyceroyl phosphate + H+ + Nicotinamide adenine dinucleotide - reduced</p>\n",
       "                </td>\n",
       "            </tr><tr>\n",
       "                <td><strong>GPR</strong></td><td>YJL052W or YJR009C or YGR192C</td>\n",
       "            </tr><tr>\n",
       "                <td><strong>Lower bound</strong></td><td>-999999.0</td>\n",
       "            </tr><tr>\n",
       "                <td><strong>Upper bound</strong></td><td>999999.0</td>\n",
       "            </tr>\n",
       "        </table>\n",
       "        "
      ],
      "text/plain": [
       "<Reaction GAPD at 0x29d8eca0f98>"
      ]
     },
     "execution_count": 91,
     "metadata": {},
     "output_type": "execute_result"
    }
   ],
   "source": [
    "model.reactions.get_by_id(sort_fluxes(reaction_fluxes)[0]) # reaction_with_largest_flux"
   ]
  },
  {
   "cell_type": "code",
   "execution_count": 94,
   "id": "acbbdf88-39eb-4d0d-aeaa-57ed2f9f15c9",
   "metadata": {},
   "outputs": [
    {
     "data": {
      "text/html": [
       "\n",
       "        <table>\n",
       "            <tr>\n",
       "                <td><strong>Reaction identifier</strong></td><td>r_0226</td>\n",
       "            </tr><tr>\n",
       "                <td><strong>Name</strong></td><td>ATP synthase</td>\n",
       "            </tr><tr>\n",
       "                <td><strong>Memory address</strong></td>\n",
       "                <td>0x029d91b4ba58</td>\n",
       "            </tr><tr>\n",
       "                <td><strong>Stoichiometry</strong></td>\n",
       "                <td>\n",
       "                    <p style='text-align:right'>s_0397 + 4.0 s_0794 + s_1326 --> s_0437 + 3.0 s_0799 + s_0807</p>\n",
       "                    <p style='text-align:right'>ADP [mitochondrion] + 4.0 H+ [cytoplasm] + phosphate [mitochondrion] --> ATP [mitochondrion] + 3.0 H+ [mitochondrion] + H2O [mitochondrion]</p>\n",
       "                </td>\n",
       "            </tr><tr>\n",
       "                <td><strong>GPR</strong></td><td>( Q0080 and Q0085 and Q0130 and YBL099W and YBR039W and YDL004W and YDR298C and YDR322C-A and...</td>\n",
       "            </tr><tr>\n",
       "                <td><strong>Lower bound</strong></td><td>0.0</td>\n",
       "            </tr><tr>\n",
       "                <td><strong>Upper bound</strong></td><td>inf</td>\n",
       "            </tr>\n",
       "        </table>\n",
       "        "
      ],
      "text/plain": [
       "<Reaction r_0226 at 0x29d91b4ba58>"
      ]
     },
     "execution_count": 94,
     "metadata": {},
     "output_type": "execute_result"
    }
   ],
   "source": [
    "model2.reactions.get_by_id(sort_fluxes(reaction_fluxes2)[0]) # reaction_with_largest_flux"
   ]
  },
  {
   "cell_type": "code",
   "execution_count": null,
   "id": "ecf809eb-9a34-4079-85ce-0810fb1c834a",
   "metadata": {},
   "outputs": [],
   "source": []
  }
 ],
 "metadata": {
  "kernelspec": {
   "display_name": "Python 3",
   "language": "python",
   "name": "python3"
  },
  "language_info": {
   "codemirror_mode": {
    "name": "ipython",
    "version": 3
   },
   "file_extension": ".py",
   "mimetype": "text/x-python",
   "name": "python",
   "nbconvert_exporter": "python",
   "pygments_lexer": "ipython3",
   "version": "3.6.13"
  }
 },
 "nbformat": 4,
 "nbformat_minor": 5
}
