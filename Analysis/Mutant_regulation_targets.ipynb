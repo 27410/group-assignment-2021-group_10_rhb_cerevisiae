{
 "cells": [
  {
   "cell_type": "markdown",
   "id": "b83c5756-4967-4625-9f56-42d4e5784602",
   "metadata": {},
   "source": [
    "# Prediction of expression modulation targets with FSEOF\n",
    "\n",
    "Algorithms like Optgene can predict gene knockout targets, but another possibility for optimizing hemoglobin production is up- or downregulation of genes. A function for this is the Flux Scanning based on Enforced Objective Flux (FSEOF) from the Computer Aided Metabolic Engineering & Optimization (CAMEO) package (Cardoso et al. 2018). FSEOF searches for target genes for up- or down-regulation by first enforcing the flux of a desired reaction under the objective of maximizing biomass production (Choi et al 2010). The function then indentifies the metabolic fluxes that increased or decreased when the desired reaction was forced to increase (Choi et al 2010). "
   ]
  },
  {
   "cell_type": "markdown",
   "id": "1a337588-f628-487a-9c78-47fb997266dc",
   "metadata": {},
   "source": [
    "### Running FSEOF and getting all regulation targets"
   ]
  },
  {
   "cell_type": "markdown",
   "id": "53bd4644-9eab-4997-9e5c-7a35220f8acc",
   "metadata": {},
   "source": [
    "Model and package imports:"
   ]
  },
  {
   "cell_type": "code",
   "execution_count": 1,
   "id": "a1fcfc0d-f65a-45da-89bc-0dca229b3bbf",
   "metadata": {},
   "outputs": [],
   "source": [
    "from cobra.io import read_sbml_model\n",
    "from cobra import Reaction, Metabolite\n",
    "from cameo import models\n",
    "from cameo.visualization.plotting.with_plotly import PlotlyPlotter\n",
    "import numpy as np\n",
    "from cameo.strain_design.deterministic.flux_variability_based import FSEOF\n",
    "import matplotlib.pyplot as plt"
   ]
  },
  {
   "cell_type": "code",
   "execution_count": 2,
   "id": "470e7f3e-bc1b-4a07-bbb9-18c29e221eae",
   "metadata": {},
   "outputs": [],
   "source": [
    "model = read_sbml_model('model_yeast8_rhb.xml')"
   ]
  },
  {
   "cell_type": "markdown",
   "id": "2288f1f1-8193-4830-a9e1-8769e4a10341",
   "metadata": {},
   "source": [
    "First, the FSEOF analysis is defined and run. As specified in fseof.run, the target for optimization is here the \"EX_rHb\" reaction, which is the exchange reaction for hemoglobin. By default the flux of the target reaction is maximized to 90% of its theoretical maximum. Furthermore, the primary objective in the optimization is the model.objective by default (here, biomass)."
   ]
  },
  {
   "cell_type": "code",
   "execution_count": 3,
   "id": "c8641041-5eb7-46d3-88ab-b250893b6129",
   "metadata": {},
   "outputs": [],
   "source": [
    "fseof = FSEOF(model)"
   ]
  },
  {
   "cell_type": "code",
   "execution_count": 4,
   "id": "c944270f-1ba0-45cf-9910-96a898529bbc",
   "metadata": {},
   "outputs": [],
   "source": [
    "result = fseof.run(target=model.reactions.EX_rHb)"
   ]
  },
  {
   "cell_type": "markdown",
   "id": "5d7df83c-667b-4be1-8d9a-d35194b081d2",
   "metadata": {},
   "source": [
    "The results are saved in a dataframe:"
   ]
  },
  {
   "cell_type": "code",
   "execution_count": 5,
   "id": "02fad55d-cc70-433e-aecd-515d16d7a565",
   "metadata": {},
   "outputs": [],
   "source": [
    "df = result.data_frame"
   ]
  },
  {
   "cell_type": "markdown",
   "id": "78612ebc-5bf5-4416-a25e-a3d9dcb6f63a",
   "metadata": {},
   "source": [
    "Below are shown the top and bottom hits of the FSEOF analysis. Each row is a different reaction that changed flux with the forced flux increase of hemoglobin exchange, and which should therefore be up- or down-regulated. Each column shows the fluxes observed for the given reaction, when EX_rHb is increased in steps until the specified 90% of theoretical maximum (column 10). The result shows that are there **194** targets. "
   ]
  },
  {
   "cell_type": "code",
   "execution_count": 6,
   "id": "7b9bae71-7bba-409a-abaa-b0604490d06c",
   "metadata": {},
   "outputs": [
    {
     "data": {
      "text/html": [
       "<div>\n",
       "<style scoped>\n",
       "    .dataframe tbody tr th:only-of-type {\n",
       "        vertical-align: middle;\n",
       "    }\n",
       "\n",
       "    .dataframe tbody tr th {\n",
       "        vertical-align: top;\n",
       "    }\n",
       "\n",
       "    .dataframe thead th {\n",
       "        text-align: right;\n",
       "    }\n",
       "</style>\n",
       "<table border=\"1\" class=\"dataframe\">\n",
       "  <thead>\n",
       "    <tr style=\"text-align: right;\">\n",
       "      <th></th>\n",
       "      <th>1</th>\n",
       "      <th>2</th>\n",
       "      <th>3</th>\n",
       "      <th>4</th>\n",
       "      <th>5</th>\n",
       "      <th>6</th>\n",
       "      <th>7</th>\n",
       "      <th>8</th>\n",
       "      <th>9</th>\n",
       "      <th>10</th>\n",
       "    </tr>\n",
       "  </thead>\n",
       "  <tbody>\n",
       "    <tr>\n",
       "      <th>PRMICI</th>\n",
       "      <td>0.011281</td>\n",
       "      <td>0.016185</td>\n",
       "      <td>0.021088</td>\n",
       "      <td>0.025992</td>\n",
       "      <td>0.030876</td>\n",
       "      <td>0.035750</td>\n",
       "      <td>0.040625</td>\n",
       "      <td>0.045500</td>\n",
       "      <td>0.050374</td>\n",
       "      <td>0.055234</td>\n",
       "    </tr>\n",
       "    <tr>\n",
       "      <th>AATA</th>\n",
       "      <td>0.031468</td>\n",
       "      <td>0.035403</td>\n",
       "      <td>0.039339</td>\n",
       "      <td>0.043274</td>\n",
       "      <td>0.047127</td>\n",
       "      <td>0.050938</td>\n",
       "      <td>0.054749</td>\n",
       "      <td>0.058560</td>\n",
       "      <td>0.062371</td>\n",
       "      <td>0.066119</td>\n",
       "    </tr>\n",
       "    <tr>\n",
       "      <th>DDPAm</th>\n",
       "      <td>0.039051</td>\n",
       "      <td>0.042897</td>\n",
       "      <td>0.046743</td>\n",
       "      <td>0.050590</td>\n",
       "      <td>0.054330</td>\n",
       "      <td>0.058017</td>\n",
       "      <td>0.061704</td>\n",
       "      <td>0.065392</td>\n",
       "      <td>0.069079</td>\n",
       "      <td>0.072684</td>\n",
       "    </tr>\n",
       "    <tr>\n",
       "      <th>IPPMIb</th>\n",
       "      <td>-0.036383</td>\n",
       "      <td>-0.044254</td>\n",
       "      <td>-0.052124</td>\n",
       "      <td>-0.059994</td>\n",
       "      <td>-0.067778</td>\n",
       "      <td>-0.075519</td>\n",
       "      <td>-0.083260</td>\n",
       "      <td>-0.091002</td>\n",
       "      <td>-0.098743</td>\n",
       "      <td>-0.106418</td>\n",
       "    </tr>\n",
       "    <tr>\n",
       "      <th>IPPS</th>\n",
       "      <td>0.000000</td>\n",
       "      <td>0.000000</td>\n",
       "      <td>0.000000</td>\n",
       "      <td>0.000000</td>\n",
       "      <td>0.000000</td>\n",
       "      <td>0.000000</td>\n",
       "      <td>0.000000</td>\n",
       "      <td>0.000000</td>\n",
       "      <td>0.000000</td>\n",
       "      <td>0.106418</td>\n",
       "    </tr>\n",
       "    <tr>\n",
       "      <th>...</th>\n",
       "      <td>...</td>\n",
       "      <td>...</td>\n",
       "      <td>...</td>\n",
       "      <td>...</td>\n",
       "      <td>...</td>\n",
       "      <td>...</td>\n",
       "      <td>...</td>\n",
       "      <td>...</td>\n",
       "      <td>...</td>\n",
       "      <td>...</td>\n",
       "    </tr>\n",
       "    <tr>\n",
       "      <th>ACONTm</th>\n",
       "      <td>0.127718</td>\n",
       "      <td>0.138886</td>\n",
       "      <td>0.150053</td>\n",
       "      <td>0.161221</td>\n",
       "      <td>0.149069</td>\n",
       "      <td>0.155116</td>\n",
       "      <td>0.161163</td>\n",
       "      <td>0.167210</td>\n",
       "      <td>0.173257</td>\n",
       "      <td>0.179034</td>\n",
       "    </tr>\n",
       "    <tr>\n",
       "      <th>PYRTRAINPROSYM</th>\n",
       "      <td>-0.339728</td>\n",
       "      <td>-0.427939</td>\n",
       "      <td>-0.516150</td>\n",
       "      <td>-0.604361</td>\n",
       "      <td>-0.691815</td>\n",
       "      <td>-0.778889</td>\n",
       "      <td>-0.865963</td>\n",
       "      <td>-0.953037</td>\n",
       "      <td>-1.040111</td>\n",
       "      <td>-1.126602</td>\n",
       "    </tr>\n",
       "    <tr>\n",
       "      <th>SHSL2</th>\n",
       "      <td>0.001456</td>\n",
       "      <td>0.002261</td>\n",
       "      <td>0.003066</td>\n",
       "      <td>0.003871</td>\n",
       "      <td>0.004674</td>\n",
       "      <td>0.005476</td>\n",
       "      <td>0.006278</td>\n",
       "      <td>0.007080</td>\n",
       "      <td>0.007882</td>\n",
       "      <td>0.008683</td>\n",
       "    </tr>\n",
       "    <tr>\n",
       "      <th>rHb</th>\n",
       "      <td>0.000144</td>\n",
       "      <td>0.000287</td>\n",
       "      <td>0.000431</td>\n",
       "      <td>0.000574</td>\n",
       "      <td>0.000718</td>\n",
       "      <td>0.000861</td>\n",
       "      <td>0.001005</td>\n",
       "      <td>0.001148</td>\n",
       "      <td>0.001292</td>\n",
       "      <td>0.001436</td>\n",
       "    </tr>\n",
       "    <tr>\n",
       "      <th>EX_rHb</th>\n",
       "      <td>0.000144</td>\n",
       "      <td>0.000287</td>\n",
       "      <td>0.000431</td>\n",
       "      <td>0.000574</td>\n",
       "      <td>0.000718</td>\n",
       "      <td>0.000861</td>\n",
       "      <td>0.001005</td>\n",
       "      <td>0.001148</td>\n",
       "      <td>0.001292</td>\n",
       "      <td>0.001436</td>\n",
       "    </tr>\n",
       "  </tbody>\n",
       "</table>\n",
       "<p>195 rows × 10 columns</p>\n",
       "</div>"
      ],
      "text/plain": [
       "                      1         2         3         4         5         6   \\\n",
       "PRMICI          0.011281  0.016185  0.021088  0.025992  0.030876  0.035750   \n",
       "AATA            0.031468  0.035403  0.039339  0.043274  0.047127  0.050938   \n",
       "DDPAm           0.039051  0.042897  0.046743  0.050590  0.054330  0.058017   \n",
       "IPPMIb         -0.036383 -0.044254 -0.052124 -0.059994 -0.067778 -0.075519   \n",
       "IPPS            0.000000  0.000000  0.000000  0.000000  0.000000  0.000000   \n",
       "...                  ...       ...       ...       ...       ...       ...   \n",
       "ACONTm          0.127718  0.138886  0.150053  0.161221  0.149069  0.155116   \n",
       "PYRTRAINPROSYM -0.339728 -0.427939 -0.516150 -0.604361 -0.691815 -0.778889   \n",
       "SHSL2           0.001456  0.002261  0.003066  0.003871  0.004674  0.005476   \n",
       "rHb             0.000144  0.000287  0.000431  0.000574  0.000718  0.000861   \n",
       "EX_rHb          0.000144  0.000287  0.000431  0.000574  0.000718  0.000861   \n",
       "\n",
       "                      7         8         9         10  \n",
       "PRMICI          0.040625  0.045500  0.050374  0.055234  \n",
       "AATA            0.054749  0.058560  0.062371  0.066119  \n",
       "DDPAm           0.061704  0.065392  0.069079  0.072684  \n",
       "IPPMIb         -0.083260 -0.091002 -0.098743 -0.106418  \n",
       "IPPS            0.000000  0.000000  0.000000  0.106418  \n",
       "...                  ...       ...       ...       ...  \n",
       "ACONTm          0.161163  0.167210  0.173257  0.179034  \n",
       "PYRTRAINPROSYM -0.865963 -0.953037 -1.040111 -1.126602  \n",
       "SHSL2           0.006278  0.007080  0.007882  0.008683  \n",
       "rHb             0.001005  0.001148  0.001292  0.001436  \n",
       "EX_rHb          0.001005  0.001148  0.001292  0.001436  \n",
       "\n",
       "[195 rows x 10 columns]"
      ]
     },
     "execution_count": 6,
     "metadata": {},
     "output_type": "execute_result"
    }
   ],
   "source": [
    "df"
   ]
  },
  {
   "cell_type": "markdown",
   "id": "3ae285d1-426f-4187-b88f-59dcbba5291c",
   "metadata": {},
   "source": [
    "### Identifying reactions with the largest change in flux "
   ]
  },
  {
   "cell_type": "markdown",
   "id": "1722c1f6-a858-410e-9ab9-e6828aa89a34",
   "metadata": {},
   "source": [
    "To get a better overview of the results, two columns are added to the dataframe: Change and Percent Change. The Change describes the change (positive or negative) in flux from the first calculated flux to the last (at 90% of theoretical max for desired product). The Percent Change describes the change in percentage relative to the beginning value, as calculated by:\n",
    "\n",
    "$\\frac{flux_{end} - flux_{start}}{flux_{start}} * 100$\n",
    "\n",
    "If the flux of a reaction is zero in the beginning, the Percent Change is defined as NaN."
   ]
  },
  {
   "cell_type": "code",
   "execution_count": 7,
   "id": "6a44b7a9-9518-44b1-b159-5445f737c69c",
   "metadata": {},
   "outputs": [],
   "source": [
    "change = []\n",
    "for i in range(len(df)):\n",
    "    change.append(df.iloc[i,9]-df.iloc[i,0])\n",
    "    \n",
    "df['Change']=change"
   ]
  },
  {
   "cell_type": "code",
   "execution_count": 8,
   "id": "72e11b95-9587-4162-b053-5e59f2944395",
   "metadata": {},
   "outputs": [],
   "source": [
    "percent_change = []\n",
    "for i in range(len(df)):\n",
    "    if df.iloc[i,0] != 0:\n",
    "        percent_change.append(((df.iloc[i,9]-df.iloc[i,0])/df.iloc[i,0])*100)\n",
    "    else:\n",
    "        percent_change.append(np.nan)\n",
    "\n",
    "df['Percent_change']=percent_change"
   ]
  },
  {
   "cell_type": "markdown",
   "id": "8267b004-ccf2-4483-aab9-76fba6fad1c4",
   "metadata": {},
   "source": [
    "The reactions can then be sorted based on Percent Change to see the reactions with the highest relative change and thereby most interesting targets. Below are shown the top 20 targets with the highest expression modulation:"
   ]
  },
  {
   "cell_type": "code",
   "execution_count": 9,
   "id": "1ceab37b-2767-49a2-ab86-d146a3439fa1",
   "metadata": {},
   "outputs": [
    {
     "data": {
      "text/html": [
       "<div>\n",
       "<style scoped>\n",
       "    .dataframe tbody tr th:only-of-type {\n",
       "        vertical-align: middle;\n",
       "    }\n",
       "\n",
       "    .dataframe tbody tr th {\n",
       "        vertical-align: top;\n",
       "    }\n",
       "\n",
       "    .dataframe thead th {\n",
       "        text-align: right;\n",
       "    }\n",
       "</style>\n",
       "<table border=\"1\" class=\"dataframe\">\n",
       "  <thead>\n",
       "    <tr style=\"text-align: right;\">\n",
       "      <th></th>\n",
       "      <th>1</th>\n",
       "      <th>2</th>\n",
       "      <th>3</th>\n",
       "      <th>4</th>\n",
       "      <th>5</th>\n",
       "      <th>6</th>\n",
       "      <th>7</th>\n",
       "      <th>8</th>\n",
       "      <th>9</th>\n",
       "      <th>10</th>\n",
       "      <th>Change</th>\n",
       "      <th>Percent_change</th>\n",
       "    </tr>\n",
       "  </thead>\n",
       "  <tbody>\n",
       "    <tr>\n",
       "      <th>GLYSTASYN</th>\n",
       "      <td>0.027650</td>\n",
       "      <td>0.025033</td>\n",
       "      <td>0.022416</td>\n",
       "      <td>0.019799</td>\n",
       "      <td>0.096385</td>\n",
       "      <td>0.227567</td>\n",
       "      <td>0.358748</td>\n",
       "      <td>0.489930</td>\n",
       "      <td>0.621111</td>\n",
       "      <td>0.647145</td>\n",
       "      <td>0.619495</td>\n",
       "      <td>2240.488246</td>\n",
       "    </tr>\n",
       "    <tr>\n",
       "      <th>PPPG9tm</th>\n",
       "      <td>0.000574</td>\n",
       "      <td>0.001148</td>\n",
       "      <td>0.001723</td>\n",
       "      <td>0.002297</td>\n",
       "      <td>0.002871</td>\n",
       "      <td>0.003445</td>\n",
       "      <td>0.004019</td>\n",
       "      <td>0.004594</td>\n",
       "      <td>0.005168</td>\n",
       "      <td>0.005742</td>\n",
       "      <td>0.005168</td>\n",
       "      <td>900.348432</td>\n",
       "    </tr>\n",
       "    <tr>\n",
       "      <th>FE2utm</th>\n",
       "      <td>0.000574</td>\n",
       "      <td>0.001148</td>\n",
       "      <td>0.001723</td>\n",
       "      <td>0.002297</td>\n",
       "      <td>0.002871</td>\n",
       "      <td>0.003445</td>\n",
       "      <td>0.004019</td>\n",
       "      <td>0.004594</td>\n",
       "      <td>0.005168</td>\n",
       "      <td>0.005742</td>\n",
       "      <td>0.005168</td>\n",
       "      <td>900.348432</td>\n",
       "    </tr>\n",
       "    <tr>\n",
       "      <th>UPP3S</th>\n",
       "      <td>0.000574</td>\n",
       "      <td>0.001148</td>\n",
       "      <td>0.001723</td>\n",
       "      <td>0.002297</td>\n",
       "      <td>0.002871</td>\n",
       "      <td>0.003445</td>\n",
       "      <td>0.004019</td>\n",
       "      <td>0.004594</td>\n",
       "      <td>0.005168</td>\n",
       "      <td>0.005742</td>\n",
       "      <td>0.005168</td>\n",
       "      <td>900.348432</td>\n",
       "    </tr>\n",
       "    <tr>\n",
       "      <th>UPPDC1</th>\n",
       "      <td>0.000574</td>\n",
       "      <td>0.001148</td>\n",
       "      <td>0.001723</td>\n",
       "      <td>0.002297</td>\n",
       "      <td>0.002871</td>\n",
       "      <td>0.003445</td>\n",
       "      <td>0.004019</td>\n",
       "      <td>0.004594</td>\n",
       "      <td>0.005168</td>\n",
       "      <td>0.005742</td>\n",
       "      <td>0.005168</td>\n",
       "      <td>900.348432</td>\n",
       "    </tr>\n",
       "    <tr>\n",
       "      <th>PPPGOm</th>\n",
       "      <td>0.000287</td>\n",
       "      <td>0.000574</td>\n",
       "      <td>0.000861</td>\n",
       "      <td>0.001148</td>\n",
       "      <td>0.001436</td>\n",
       "      <td>0.001723</td>\n",
       "      <td>0.002010</td>\n",
       "      <td>0.002297</td>\n",
       "      <td>0.002584</td>\n",
       "      <td>0.002871</td>\n",
       "      <td>0.002584</td>\n",
       "      <td>900.348432</td>\n",
       "    </tr>\n",
       "    <tr>\n",
       "      <th>HMBS</th>\n",
       "      <td>0.000574</td>\n",
       "      <td>0.001148</td>\n",
       "      <td>0.001723</td>\n",
       "      <td>0.002297</td>\n",
       "      <td>0.002871</td>\n",
       "      <td>0.003445</td>\n",
       "      <td>0.004019</td>\n",
       "      <td>0.004594</td>\n",
       "      <td>0.005168</td>\n",
       "      <td>0.005742</td>\n",
       "      <td>0.005168</td>\n",
       "      <td>900.348432</td>\n",
       "    </tr>\n",
       "    <tr>\n",
       "      <th>FCLTm</th>\n",
       "      <td>0.000574</td>\n",
       "      <td>0.001148</td>\n",
       "      <td>0.001723</td>\n",
       "      <td>0.002297</td>\n",
       "      <td>0.002871</td>\n",
       "      <td>0.003445</td>\n",
       "      <td>0.004019</td>\n",
       "      <td>0.004594</td>\n",
       "      <td>0.005168</td>\n",
       "      <td>0.005742</td>\n",
       "      <td>0.005168</td>\n",
       "      <td>900.348432</td>\n",
       "    </tr>\n",
       "    <tr>\n",
       "      <th>CPPPGO</th>\n",
       "      <td>0.000574</td>\n",
       "      <td>0.001148</td>\n",
       "      <td>0.001723</td>\n",
       "      <td>0.002297</td>\n",
       "      <td>0.002871</td>\n",
       "      <td>0.003445</td>\n",
       "      <td>0.004019</td>\n",
       "      <td>0.004594</td>\n",
       "      <td>0.005168</td>\n",
       "      <td>0.005742</td>\n",
       "      <td>0.005168</td>\n",
       "      <td>900.348432</td>\n",
       "    </tr>\n",
       "    <tr>\n",
       "      <th>EX_rHb</th>\n",
       "      <td>0.000144</td>\n",
       "      <td>0.000287</td>\n",
       "      <td>0.000431</td>\n",
       "      <td>0.000574</td>\n",
       "      <td>0.000718</td>\n",
       "      <td>0.000861</td>\n",
       "      <td>0.001005</td>\n",
       "      <td>0.001148</td>\n",
       "      <td>0.001292</td>\n",
       "      <td>0.001436</td>\n",
       "      <td>0.001292</td>\n",
       "      <td>900.000000</td>\n",
       "    </tr>\n",
       "  </tbody>\n",
       "</table>\n",
       "</div>"
      ],
      "text/plain": [
       "                  1         2         3         4         5         6  \\\n",
       "GLYSTASYN  0.027650  0.025033  0.022416  0.019799  0.096385  0.227567   \n",
       "PPPG9tm    0.000574  0.001148  0.001723  0.002297  0.002871  0.003445   \n",
       "FE2utm     0.000574  0.001148  0.001723  0.002297  0.002871  0.003445   \n",
       "UPP3S      0.000574  0.001148  0.001723  0.002297  0.002871  0.003445   \n",
       "UPPDC1     0.000574  0.001148  0.001723  0.002297  0.002871  0.003445   \n",
       "PPPGOm     0.000287  0.000574  0.000861  0.001148  0.001436  0.001723   \n",
       "HMBS       0.000574  0.001148  0.001723  0.002297  0.002871  0.003445   \n",
       "FCLTm      0.000574  0.001148  0.001723  0.002297  0.002871  0.003445   \n",
       "CPPPGO     0.000574  0.001148  0.001723  0.002297  0.002871  0.003445   \n",
       "EX_rHb     0.000144  0.000287  0.000431  0.000574  0.000718  0.000861   \n",
       "\n",
       "                  7         8         9        10    Change  Percent_change  \n",
       "GLYSTASYN  0.358748  0.489930  0.621111  0.647145  0.619495     2240.488246  \n",
       "PPPG9tm    0.004019  0.004594  0.005168  0.005742  0.005168      900.348432  \n",
       "FE2utm     0.004019  0.004594  0.005168  0.005742  0.005168      900.348432  \n",
       "UPP3S      0.004019  0.004594  0.005168  0.005742  0.005168      900.348432  \n",
       "UPPDC1     0.004019  0.004594  0.005168  0.005742  0.005168      900.348432  \n",
       "PPPGOm     0.002010  0.002297  0.002584  0.002871  0.002584      900.348432  \n",
       "HMBS       0.004019  0.004594  0.005168  0.005742  0.005168      900.348432  \n",
       "FCLTm      0.004019  0.004594  0.005168  0.005742  0.005168      900.348432  \n",
       "CPPPGO     0.004019  0.004594  0.005168  0.005742  0.005168      900.348432  \n",
       "EX_rHb     0.001005  0.001148  0.001292  0.001436  0.001292      900.000000  "
      ]
     },
     "execution_count": 9,
     "metadata": {},
     "output_type": "execute_result"
    }
   ],
   "source": [
    "df_sorted = df.reindex(df.Percent_change.abs().sort_values(ascending=False).index) \n",
    "df_sorted.head(10)"
   ]
  },
  {
   "cell_type": "markdown",
   "id": "73758a7f-2f9c-4801-a806-f63038e3748e",
   "metadata": {},
   "source": [
    "To get more insight to the expression modulation targets, we can count the number of up- and down-regulations targets. Note that a negative flux, which becomes more negative is an upregulation (the minus is due to the definition of the reaction direction). On the other hand, when a negative flux which becomes more positive, it is a downregulation."
   ]
  },
  {
   "cell_type": "code",
   "execution_count": 10,
   "id": "8e73fcad-d772-498b-87a2-49de12ff61cf",
   "metadata": {},
   "outputs": [
    {
     "name": "stdout",
     "output_type": "stream",
     "text": [
      "There are 151 up-regulation targets and 44 down-regulation tagets.\n"
     ]
    }
   ],
   "source": [
    "upreg_counter = 0\n",
    "downreg_counter = 0\n",
    "for i in range(0,195):\n",
    "    if df_sorted.iloc[i,11] > 0:\n",
    "        upreg_counter = upreg_counter + 1\n",
    "    elif df_sorted.iloc[i,11] < 0:\n",
    "        downreg_counter = downreg_counter + 1\n",
    "    elif np.isnan(df_sorted.iloc[i,11]):         # the reactions which had 0 flux in the beginning is counted by the \"Change\" column instead\n",
    "        if df_sorted.iloc[i,10] > 0:\n",
    "            upreg_counter = upreg_counter + 1\n",
    "        elif df_sorted.iloc[i,10] < 0:\n",
    "            downreg_counter = downreg_counter + 1\n",
    "            \n",
    "print(\"There are\",upreg_counter,\"up-regulation targets and\",downreg_counter,\"down-regulation tagets.\")"
   ]
  },
  {
   "cell_type": "markdown",
   "id": "4202be3c-3ab3-4098-a47f-00b7d9f8e050",
   "metadata": {},
   "source": [
    "We can visualize their degree of up- or down-regulation in a plot:"
   ]
  },
  {
   "cell_type": "code",
   "execution_count": 33,
   "id": "8a365788-9966-429d-a6d6-6786141d4ee0",
   "metadata": {},
   "outputs": [
    {
     "data": {
      "image/png": "[encoded data removed]",
      "text/plain": [
       "<Figure size 2160x720 with 1 Axes>"
      ]
     },
     "metadata": {
      "needs_background": "light"
     },
     "output_type": "display_data"
    }
   ],
   "source": [
    "plotdata = df_sorted.iloc[0:168,11]\n",
    "fig = plotdata.plot(kind='bar')\n",
    "plt.rcParams[\"figure.figsize\"] = [30, 10]\n",
    "fig.tick_params(axis='y', labelsize=25)\n",
    "plt.suptitle(\"Percent change for up- and down-regulated reactions\", fontsize=30)\n",
    "plt.show()"
   ]
  },
  {
   "cell_type": "markdown",
   "id": "84f4a6a7-7174-4755-b92d-6a0544139109",
   "metadata": {},
   "source": [
    "### Investigation of top 10 targets with visualization"
   ]
  },
  {
   "cell_type": "markdown",
   "id": "52601164-4df5-470d-b2e2-9c1a277a5f63",
   "metadata": {},
   "source": [
    "The reaction name for the top 10 reactions with the highest relative change is given below:"
   ]
  },
  {
   "cell_type": "code",
   "execution_count": 12,
   "id": "2d857fd8-18f9-4d3b-ba22-e6051fc81265",
   "metadata": {},
   "outputs": [
    {
     "name": "stdout",
     "output_type": "stream",
     "text": [
      "GLYSTASYN glycogen (starch) synthase\n",
      "PPPG9tm protoporphyrinogen IX transport\n",
      "FE2utm iron (II) transport\n",
      "UPP3S uroporphyrinogen-III synthase\n",
      "UPPDC1 uroporphyrinogen decarboxylase (uroporphyrinogen III)\n",
      "PPPGOm protoporphyrinogen oxidase\n",
      "HMBS hydroxymethylbilane synthase\n",
      "FCLTm ferrochelatase\n",
      "CPPPGO coproporphyrinogen oxidase (O2 required)\n",
      "EX_rHb \n"
     ]
    }
   ],
   "source": [
    "for i in range(10):\n",
    "    print(model.reactions.get_by_id(df_sorted.index.values[i]).id, model.reactions.get_by_id(df_sorted.index.values[i]).name)"
   ]
  },
  {
   "cell_type": "markdown",
   "id": "27a8cdce-78ce-43f4-8497-5ee5af8e08d9",
   "metadata": {},
   "source": [
    "From the names above, it can be found that 9 out of 10 targets in top 10 are closely related to the hemoglobin synthesis. 7 of the reactions are found in the heme synthesis that is used to produce hemoglobin, one reaction (FE2utm) transports Iron(II) into the mitochondrion and another exports hemoglobin from the cell to the medium (EX_rHb). Addtionally, it can be seen from Percent Change columns that all targets in top 10 have a positive percent change and therefore are *up*-regulated.\n",
    "\n",
    "To get a better overview of the upregulated targets involved in the hemoglobin synthesis, they can be visualized with Escher (King et al. 2015). "
   ]
  },
  {
   "cell_type": "code",
   "execution_count": 13,
   "id": "f2f5e0f0-6a31-4812-bb88-08e53c788205",
   "metadata": {},
   "outputs": [],
   "source": [
    "import escher"
   ]
  },
  {
   "cell_type": "markdown",
   "id": "35141c59-cf51-425c-a46f-f9fb537e3c29",
   "metadata": {},
   "source": [
    "To visualize the top 10 upregulated pathways, a dictionary is created which contains their reaction id as well as their flux when the target reaction is at 90% of max productivity (column 10)."
   ]
  },
  {
   "cell_type": "code",
   "execution_count": 14,
   "id": "88d6cecc-b812-4e6a-a2f4-35b2a569c65a",
   "metadata": {},
   "outputs": [],
   "source": [
    "Reg_fluxes = dict(zip(df_sorted.index.values[0:10], df_sorted.iloc[0:10,10]))"
   ]
  },
  {
   "cell_type": "code",
   "execution_count": 15,
   "id": "6a363d58-82f0-4f03-af41-6b704ce91505",
   "metadata": {
    "tags": []
   },
   "outputs": [
    {
     "data": {
      "application/vnd.jupyter.widget-view+json": {
       "model_id": "bde9aa1b2ec04662adc5386c1ed794ef",
       "version_major": 2,
       "version_minor": 0
      },
      "text/plain": [
       "Builder(reaction_data={'GLYSTASYN': 0.619495, 'PPPG9tm': 0.005168, 'FE2utm': 0.005168, 'UPP3S': 0.005168, 'UPP…"
      ]
     },
     "metadata": {},
     "output_type": "display_data"
    }
   ],
   "source": [
    "escher.Builder(model = model,\n",
    "    map_json='Yeast8_hemoglobin_synthesis2.json',\n",
    "               reaction_data=Reg_fluxes)"
   ]
  },
  {
   "cell_type": "code",
   "execution_count": 37,
   "id": "6b06c28e-60af-4ed6-b471-d8f29697b479",
   "metadata": {},
   "outputs": [
    {
     "name": "stdout",
     "output_type": "stream",
     "text": [
      "Parameters for strain without regulation:\n",
      "Rate of heme production: -1.5408204722375378e-18\n",
      "Rate of hemoglobin production: -2.093719050821789e-08\n",
      "Growth rate: 0.08374876224277603\n",
      "Yield for hemoglobin on sugar -2.093719050821789e-08\n"
     ]
    }
   ],
   "source": [
    "with model:\n",
    "    model.optimize()\n",
    "    print('Parameters for strain without regulation:')\n",
    "    print(\"Rate of heme production:\", model.reactions.FCLTm.flux)\n",
    "    print(\"Rate of hemoglobin production:\", model.reactions.EX_rHb.flux)\n",
    "    print(\"Growth rate:\", model.reactions.GROWTH.flux)\n",
    "    print(\"Yield for hemoglobin on sugar\", model.reactions.EX_rHb.flux / -1*(model.reactions.EX_glc__D_e.flux))"
   ]
  },
  {
   "cell_type": "code",
   "execution_count": 44,
   "id": "5cfd2e20-c7e6-426c-9168-c3e34baacf67",
   "metadata": {},
   "outputs": [
    {
     "name": "stdout",
     "output_type": "stream",
     "text": [
      "GLYSTASYN\n",
      "PPPG9tm\n",
      "Parameters for strain with 10 upregulated targets:\n",
      "Rate of heme production: 0.005168\n",
      "Rate of hemoglobin production: 0.0012919957987944707\n",
      "Growth rate: 0.016804822159472342\n",
      "Yield for hemoglobin on sugar 0.0012919957987944707\n"
     ]
    }
   ],
   "source": [
    "with model:\n",
    "    for i in range(0,2):\n",
    "        model.reactions.get_by_id(df_sorted.index.values[i]).bounds = df_sorted.iloc[i,10], df_sorted.iloc[i,10]\n",
    "        print(df_sorted.index.values[i])\n",
    "    model.optimize()\n",
    "    print('Parameters for strain with 10 upregulated targets:')\n",
    "    print(\"Rate of heme production:\", model.reactions.FCLTm.flux)\n",
    "    print(\"Rate of hemoglobin production:\", model.reactions.EX_rHb.flux)\n",
    "    print(\"Growth rate:\", model.reactions.GROWTH.flux)\n",
    "    print(\"Yield for hemoglobin on sugar\", model.reactions.EX_rHb.flux / -1*(model.reactions.EX_glc__D_e.flux))"
   ]
  },
  {
   "cell_type": "code",
   "execution_count": 39,
   "id": "18361a21-1458-4314-bf55-8035ca356dd0",
   "metadata": {},
   "outputs": [
    {
     "name": "stdout",
     "output_type": "stream",
     "text": [
      "Parameters for strain with 10 upregulated targets:\n",
      "Rate of heme production: 0.005168\n",
      "Rate of hemoglobin production: 0.0012919957987944707\n",
      "Growth rate: 0.01680482215947217\n",
      "Yield for hemoglobin on sugar 0.0012919957987944707\n"
     ]
    }
   ],
   "source": [
    "with model:\n",
    "    for i in range(0,10):\n",
    "        model.reactions.get_by_id(df_sorted.index.values[i]).bounds = df_sorted.iloc[i,10], df_sorted.iloc[i,10]\n",
    "    model.optimize()\n",
    "    print('Parameters for strain with 10 upregulated targets:')\n",
    "    print(\"Rate of heme production:\", model.reactions.FCLTm.flux)\n",
    "    print(\"Rate of hemoglobin production:\", model.reactions.EX_rHb.flux)\n",
    "    print(\"Growth rate:\", model.reactions.GROWTH.flux)\n",
    "    print(\"Yield for hemoglobin on sugar\", model.reactions.EX_rHb.flux / -1*(model.reactions.EX_glc__D_e.flux))\n",
    "\n",
    "    #niko says change upper and lower bound to the things we got in the matrix -> simulated up-regulated"
   ]
  },
  {
   "cell_type": "code",
   "execution_count": 40,
   "id": "5eb71ef0-08e7-4128-93d0-262ff4973d95",
   "metadata": {},
   "outputs": [
    {
     "name": "stdout",
     "output_type": "stream",
     "text": [
      "Parameters for strain with 10 upregulated targets:\n",
      "Rate of heme production: 0.005168\n",
      "Rate of hemoglobin production: 0.001292\n",
      "Growth rate: 0.0\n",
      "Yield for hemoglobin on sugar 0.001292\n"
     ]
    }
   ],
   "source": [
    "with model:\n",
    "    for i in range(0,190):\n",
    "        model.reactions.get_by_id(df_sorted.index.values[i]).bounds = df_sorted.iloc[i,10], df_sorted.iloc[i,10]\n",
    "    model.optimize()\n",
    "    print('Parameters for strain with 10 upregulated targets:')\n",
    "    print(\"Rate of heme production:\", model.reactions.FCLTm.flux)\n",
    "    print(\"Rate of hemoglobin production:\", model.reactions.EX_rHb.flux)\n",
    "    print(\"Growth rate:\", model.reactions.GROWTH.flux)\n",
    "    print(\"Yield for hemoglobin on sugar\", model.reactions.EX_rHb.flux / -1*(model.reactions.EX_glc__D_e.flux))\n",
    "\n",
    "    #niko says change upper and lower bound to the things we got in the matrix -> simulated up-regulated"
   ]
  },
  {
   "cell_type": "markdown",
   "id": "3c9c1ead-ead1-4674-8258-82e6bb7bec27",
   "metadata": {},
   "source": [
    "### Sources:\n",
    "\n",
    "Cardoso, J. G. R., Jensen, K., Lieven, C., Hansen, A. S. L., Galkina, S., Beber, M., Özdemir, E., Herrgård, M. J., Redestig, H., & Sonnenschein, N. (2018). Cameo: A Python Library for Computer Aided Metabolic Engineering and Optimization of Cell Factories. ACS Synthetic Biology, 7(4), 1163–1166. https://doi.org/10.1021/acssynbio.7b00423  \n",
    "\n",
    "Choi, H. S., Lee, S. Y., Kim, T. Y., & Woo, H. M. (2010). In silico identification of gene amplification targets for improvement of lycopene production. Applied and Environmental Microbiology, 76(10), 3097–3105. https://doi.org/10.1128/AEM.00115-10\n",
    "\n",
    "King, Z. A., Dräger, A., Ebrahim, A., Sonnenschein, N., Lewis, N. E., & Palsson, B. O. (2015). Escher: A Web Application for Building, Sharing, and Embedding Data-Rich Visualizations of Biological Pathways. PLoS Computational Biology, 11(8), 1–13. https://doi.org/10.1371/journal.pcbi.1004321"
   ]
  }
 ],
 "metadata": {
  "kernelspec": {
   "display_name": "Python 3 (ipykernel)",
   "language": "python",
   "name": "python3"
  },
  "language_info": {
   "codemirror_mode": {
    "name": "ipython",
    "version": 3
   },
   "file_extension": ".py",
   "mimetype": "text/x-python",
   "name": "python",
   "nbconvert_exporter": "python",
   "pygments_lexer": "ipython3",
   "version": "3.8.8"
  }
 },
 "nbformat": 4,
 "nbformat_minor": 5
}
