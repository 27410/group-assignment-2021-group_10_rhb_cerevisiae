{
 "cells": [
  {
   "cell_type": "code",
   "execution_count": 1,
   "id": "a447a0a7-1915-47dd-a669-76c7b4798960",
   "metadata": {},
   "outputs": [],
   "source": [
    "#%run <path of the notebook that has to be run>"
   ]
  },
  {
   "cell_type": "code",
   "execution_count": 1,
   "id": "09b18455-a4cc-43ba-bf6c-2bf0bbced1d8",
   "metadata": {},
   "outputs": [],
   "source": [
    "from cobra.io import read_sbml_model, write_sbml_model"
   ]
  },
  {
   "cell_type": "code",
   "execution_count": 2,
   "id": "7521893d-17d1-419c-8140-36e2e78eb023",
   "metadata": {},
   "outputs": [],
   "source": [
    "model = read_sbml_model('model_yeast8_rhb.xml')"
   ]
  },
  {
   "cell_type": "code",
   "execution_count": 3,
   "id": "06543965-0e24-4294-8436-490b43b1deec",
   "metadata": {},
   "outputs": [
    {
     "name": "stdout",
     "output_type": "stream",
     "text": [
      "Maximize\n",
      "1.0*GROWTH - 1.0*GROWTH_reverse_c845e\n",
      "Growth rate: 0.8637367930478724\n"
     ]
    },
    {
     "data": {
      "text/plain": [
       "(None, None)"
      ]
     },
     "execution_count": 3,
     "metadata": {},
     "output_type": "execute_result"
    }
   ],
   "source": [
    "print(model.objective),print(\"Growth rate:\", model.optimize().objective_value)"
   ]
  },
  {
   "cell_type": "markdown",
   "id": "a35728d3-876d-4b01-8c0b-c0cd55b9150a",
   "metadata": {},
   "source": [
    "### Function"
   ]
  },
  {
   "cell_type": "code",
   "execution_count": 4,
   "id": "69db51ba-2541-4d8b-85e4-c7ec634bce2c",
   "metadata": {},
   "outputs": [],
   "source": [
    "def test_knockout(model, gene_id):\n",
    "    \"\"\"Input 1: a SBML BiGG compliant GSMM.\n",
    "    \n",
    "    Input 2: ID of the gene of interest, as type \n",
    "    string or a list of several genes.\n",
    "    \"\"\"\n",
    "    \n",
    "    print(\"---Before knockout---\")\n",
    "    print(\"Growth rate:\", model.optimize().objective_value)\n",
    "    copy_of_model1 = model.copy()\n",
    "    with copy_of_model1:\n",
    "        copy_of_model1.objective = copy_of_model1.reactions.EX_rHb # Change in recombinant hemoglobin   \n",
    "        print(\"Rate of hemoglobin production:\", copy_of_model1.reactions.rHb.flux,\" [mmol/gDW/h]\")\n",
    "        print(\"Yield for hemoglobin on sugar\", copy_of_model1.reactions.rHb.flux / -1*(copy_of_model1.reactions.EX_glc__D_e.flux),\"[mmol-rHb / mmol-glucose]\")\n",
    "        print(\"--------------------\")\n",
    "    \n",
    "        \n",
    "    copy_of_model2 = model.copy()\n",
    "    with copy_of_model2 as test_mutant: \n",
    "        print(\"---After knockout---\")\n",
    "        \n",
    "        if type(gene_id) is list: # If you want to knock-out multiple genes\n",
    "            for i in range (0,len(gene_id)):\n",
    "                gene = test_mutant.genes.get_by_id(gene_id[i]) # gene to knock out\n",
    "                gene.knock_out() # knocks out the gene\n",
    "        else: # if only one gene should be knocked-out\n",
    "            gene = test_mutant.genes.get_by_id(gene_id) # gene to knock out\n",
    "            gene.knock_out() # knocks out the gene\n",
    "        \n",
    "        test_mutant.objective = test_mutant.reactions.rHb # Change in recombinant hemoglobin\n",
    "        print(\"Growth rate:\", test_mutant.optimize().objective_value)#+\" from the old growth rate, or a change of \"+str(rate_change/old_rate*100)[:5]+\"%.\")     \n",
    "        print(\"Rate of hemoglobin production:\", test_mutant.reactions.EX_rHb.flux,\" [mmol/gDW/h]\")\n",
    "        print(\"Yield for hemoglobin on sugar\", test_mutant.reactions.EX_rHb.flux / -1*(test_mutant.reactions.EX_glc__D_e.flux),\"[mmol-rHb / mmol-glucose]\")\n",
    "        print(\"--------------------\")\n",
    "        #print(\"Before the knockout, the theoretical maximum yield of rHb on glucose [mmol-rHb / mmol-glucose] was: \"+str(old_rhb_yield)[:9]+\". Now the yield is: \"+str(new_rhb_yield)[:9]+\" which is a change of \"+str(yield_change)+\".\") #+\" and the rate is: \"+str(new_rhb_production)[:6]"
   ]
  },
  {
   "cell_type": "markdown",
   "id": "6cdab9f1-35dc-4d8c-a378-12c8e1a3c9db",
   "metadata": {},
   "source": [
    "Knocking out a single gene"
   ]
  },
  {
   "cell_type": "markdown",
   "id": "4f991a7b-96e4-426b-b966-fae59df568df",
   "metadata": {},
   "source": [
    "#### Let's kill COX10 (YPL172C)"
   ]
  },
  {
   "cell_type": "code",
   "execution_count": 5,
   "id": "094f67e9-b308-461a-8bb4-927ba3015d47",
   "metadata": {},
   "outputs": [
    {
     "name": "stdout",
     "output_type": "stream",
     "text": [
      "---Before knockout---\n",
      "Growth rate: 0.8637367930478724\n",
      "Rate of hemoglobin production: 0.0  [mmol/gDW/h]\n",
      "Yield for hemoglobin on sugar 0.0 [mmol-rHb / mmol-glucose]\n",
      "--------------------\n",
      "---After knockout---\n",
      "Growth rate: 0.01633390069511925\n",
      "Rate of hemoglobin production: 0.01633390069511925  [mmol/gDW/h]\n",
      "Yield for hemoglobin on sugar 0.1633390069511925 [mmol-rHb / mmol-glucose]\n",
      "--------------------\n"
     ]
    }
   ],
   "source": [
    "test_knockout(model, 'YPL172C')"
   ]
  },
  {
   "cell_type": "markdown",
   "id": "8b1afe49-912f-4f8d-b3fe-65d87820f0fa",
   "metadata": {},
   "source": [
    "#### Now let's try for CYC3."
   ]
  },
  {
   "cell_type": "code",
   "execution_count": 6,
   "id": "dcbaa5a2-ad63-45c1-9016-992eab729f71",
   "metadata": {},
   "outputs": [
    {
     "name": "stdout",
     "output_type": "stream",
     "text": [
      "---Before knockout---\n",
      "Growth rate: 0.8637367930478724\n",
      "Rate of hemoglobin production: 0.0  [mmol/gDW/h]\n",
      "Yield for hemoglobin on sugar 0.0 [mmol-rHb / mmol-glucose]\n",
      "--------------------\n",
      "---After knockout---\n",
      "Growth rate: 0.016333900695119228\n",
      "Rate of hemoglobin production: 0.016333900695119228  [mmol/gDW/h]\n",
      "Yield for hemoglobin on sugar 0.16333900695119227 [mmol-rHb / mmol-glucose]\n",
      "--------------------\n"
     ]
    }
   ],
   "source": [
    "test_knockout(model, 'YAL039C')"
   ]
  },
  {
   "cell_type": "markdown",
   "id": "d52ebc7d-7cf0-498e-bede-22d4c51a8675",
   "metadata": {},
   "source": [
    "#### Now let's try for YFH1"
   ]
  },
  {
   "cell_type": "code",
   "execution_count": 7,
   "id": "0da65d41-8571-4e78-8877-9d0ea0058c1e",
   "metadata": {},
   "outputs": [
    {
     "name": "stdout",
     "output_type": "stream",
     "text": [
      "---Before knockout---\n",
      "Growth rate: 0.8637367930478724\n",
      "Rate of hemoglobin production: 0.0  [mmol/gDW/h]\n",
      "Yield for hemoglobin on sugar 0.0 [mmol-rHb / mmol-glucose]\n",
      "--------------------\n",
      "---After knockout---\n",
      "Growth rate: 0.016333900695119228\n",
      "Rate of hemoglobin production: 0.016333900695119228  [mmol/gDW/h]\n",
      "Yield for hemoglobin on sugar 0.16333900695119227 [mmol-rHb / mmol-glucose]\n",
      "--------------------\n"
     ]
    }
   ],
   "source": [
    "test_knockout(model, 'YDL120W')"
   ]
  },
  {
   "cell_type": "markdown",
   "id": "1e94989a",
   "metadata": {},
   "source": [
    "#### Let's try them all"
   ]
  },
  {
   "cell_type": "code",
   "execution_count": 8,
   "id": "688e443d",
   "metadata": {},
   "outputs": [
    {
     "name": "stdout",
     "output_type": "stream",
     "text": [
      "---Before knockout---\n",
      "Growth rate: 0.8637367930478724\n",
      "Rate of hemoglobin production: 0.0  [mmol/gDW/h]\n",
      "Yield for hemoglobin on sugar 0.0 [mmol-rHb / mmol-glucose]\n",
      "--------------------\n",
      "---After knockout---\n",
      "Growth rate: 0.01633390069511925\n",
      "Rate of hemoglobin production: 0.01633390069511925  [mmol/gDW/h]\n",
      "Yield for hemoglobin on sugar 0.1633390069511925 [mmol-rHb / mmol-glucose]\n",
      "--------------------\n"
     ]
    }
   ],
   "source": [
    "test_knockout(model, ['YDL120W','YAL039C','YPL172C'])"
   ]
  },
  {
   "cell_type": "markdown",
   "id": "0da78d1e",
   "metadata": {},
   "source": [
    "## GeckoPy"
   ]
  },
  {
   "cell_type": "code",
   "execution_count": null,
   "id": "d6a7d14c",
   "metadata": {},
   "outputs": [],
   "source": []
  },
  {
   "cell_type": "code",
   "execution_count": null,
   "id": "340e4f9e",
   "metadata": {},
   "outputs": [],
   "source": []
  }
 ],
 "metadata": {
  "kernelspec": {
   "display_name": "Python 3 (ipykernel)",
   "language": "python",
   "name": "python3"
  },
  "language_info": {
   "codemirror_mode": {
    "name": "ipython",
    "version": 3
   },
   "file_extension": ".py",
   "mimetype": "text/x-python",
   "name": "python",
   "nbconvert_exporter": "python",
   "pygments_lexer": "ipython3",
   "version": "3.7.11"
  }
 },
 "nbformat": 4,
 "nbformat_minor": 5
}
