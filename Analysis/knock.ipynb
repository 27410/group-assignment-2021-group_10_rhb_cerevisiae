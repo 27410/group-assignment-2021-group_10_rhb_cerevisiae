{
 "cells": [
  {
   "cell_type": "code",
   "execution_count": 1,
   "id": "a447a0a7-1915-47dd-a669-76c7b4798960",
   "metadata": {},
   "outputs": [],
   "source": [
    "#%run <path of the notebook that has to be run>"
   ]
  },
  {
   "cell_type": "code",
   "execution_count": 2,
   "id": "09b18455-a4cc-43ba-bf6c-2bf0bbced1d8",
   "metadata": {},
   "outputs": [],
   "source": [
    "#import csv\n",
    "from cobra.io import read_sbml_model, write_sbml_model\n",
    "#from copy import copy\n",
    "#from dotenv import find_dotenv\n",
    "#import os\n",
    "#from os.path import dirname"
   ]
  },
  {
   "cell_type": "code",
   "execution_count": 3,
   "id": "7521893d-17d1-419c-8140-36e2e78eb023",
   "metadata": {},
   "outputs": [],
   "source": [
    "model = read_sbml_model('model_yeast8_rhb.xml')"
   ]
  },
  {
   "cell_type": "code",
   "execution_count": 4,
   "id": "06543965-0e24-4294-8436-490b43b1deec",
   "metadata": {},
   "outputs": [
    {
     "data": {
      "text/plain": [
       "float"
      ]
     },
     "execution_count": 4,
     "metadata": {},
     "output_type": "execute_result"
    }
   ],
   "source": [
    "type(model.slim_optimize())"
   ]
  },
  {
   "cell_type": "markdown",
   "id": "a35728d3-876d-4b01-8c0b-c0cd55b9150a",
   "metadata": {},
   "source": [
    "### Function"
   ]
  },
  {
   "cell_type": "code",
   "execution_count": 5,
   "id": "69db51ba-2541-4d8b-85e4-c7ec634bce2c",
   "metadata": {},
   "outputs": [],
   "source": [
    "def test_knockout(model, gene_id):\n",
    "    \"\"\"input: ID of the gene of interest, as type string.\n",
    "    \"\"\"\n",
    "    with model as test_mutant:\n",
    "        model.objective = model.reactions.rHb\n",
    "        old_rhb_production = model.optimize().objective_value / (-1*model.reactions.EX_glc__D_e.flux)\n",
    "    \n",
    "    with model as test_mutant:\n",
    "        old_rate = test_mutant.slim_optimize()\n",
    "        \n",
    "        gene = test_mutant.genes.get_by_id(gene_id)\n",
    "        gene.knock_out() # gene to knock out\n",
    "        new_rate = test_mutant.slim_optimize()\n",
    "        rate_change = (new_rate - old_rate)\n",
    "        print(\"The new growth rate is: \"+str(new_rate)[:6]+\". This is a change of \"+str(rate_change)[:6]+\" from the old growth rate, or a change of \"+str(rate_change/old_rate*100)[:5]+\"%.\")\n",
    "        \n",
    "        test_mutant.objective = test_mutant.reactions.rHb\n",
    "        new_rhb_production = test_mutant.optimize().objective_value / (-1*test_mutant.reactions.EX_glc__D_e.flux)\n",
    "        \n",
    "        print(\"Before the knockout, the theoretical maximum yield of rHb on glucose [mmol-rHb / mmol-glucose] was: \"+ str(old_rhb_production)[:6]+\" , now the yield is: \"+str(new_rhb_production)[:6])"
   ]
  },
  {
   "cell_type": "markdown",
   "id": "6cdab9f1-35dc-4d8c-a378-12c8e1a3c9db",
   "metadata": {},
   "source": [
    "Knocking out a single gene"
   ]
  },
  {
   "cell_type": "markdown",
   "id": "76fe4003-aba0-4086-b192-c64f03fd4698",
   "metadata": {
    "tags": []
   },
   "source": [
    "## Notes for Knockouts\n",
    "\n",
    "##### Up-regulation\n",
    "\n",
    "HEM2\tYGL040C,\n",
    "HEM3\tYDL205C,\n",
    "HEM13\tYDR044W,\n",
    "HEM15\tYOR176W\n",
    "\n",
    "##### Knockout\n",
    "\n",
    "HAP1\tYLR256W\n",
    "\n",
    "##### Downregulation\n",
    "YFH1\tYDL120W\n",
    "\n",
    "##### Maybe interesting\n",
    "CCC1\tYLR220W\tTransport af heme - into vacule\n",
    "\n",
    "\n",
    "PUG1\tYER185W\tExport af heme - ud af cellen\n",
    "\n",
    "##### Knockout\n",
    "\n",
    "YPL172C knockout\n",
    "\n",
    "YAL039C knockout"
   ]
  },
  {
   "cell_type": "markdown",
   "id": "4f991a7b-96e4-426b-b966-fae59df568df",
   "metadata": {},
   "source": [
    "#### Let's see whether COX10 is essential."
   ]
  },
  {
   "cell_type": "code",
   "execution_count": 6,
   "id": "7468147d-ca98-4fbd-9350-835f1e3fc99c",
   "metadata": {},
   "outputs": [
    {
     "data": {
      "text/plain": [
       "'COX10'"
      ]
     },
     "execution_count": 6,
     "metadata": {},
     "output_type": "execute_result"
    }
   ],
   "source": [
    "model.genes.YPL172C.name"
   ]
  },
  {
   "cell_type": "code",
   "execution_count": null,
   "id": "b5978c09-5df6-49de-921d-0163b3ce0e91",
   "metadata": {},
   "outputs": [],
   "source": []
  },
  {
   "cell_type": "code",
   "execution_count": 7,
   "id": "094f67e9-b308-461a-8bb4-927ba3015d47",
   "metadata": {},
   "outputs": [
    {
     "name": "stdout",
     "output_type": "stream",
     "text": [
      "The new growth rate is: 0.0837. This is a change of 0.0 from the old growth rate, or a change of 0.0%.\n",
      "Before the knockout, the theoretical maximum yield of rHb on glucose [mmol-rHb / mmol-glucose] was: 0.0015 , now the yield is: 0.0015\n"
     ]
    }
   ],
   "source": [
    "test_knockout(model, 'YPL172C')"
   ]
  },
  {
   "cell_type": "markdown",
   "id": "8b1afe49-912f-4f8d-b3fe-65d87820f0fa",
   "metadata": {},
   "source": [
    "#### Now let's try for CYC3."
   ]
  },
  {
   "cell_type": "code",
   "execution_count": 8,
   "id": "a5a1e28f-4c8a-4915-900b-f2d480f2d6e4",
   "metadata": {},
   "outputs": [
    {
     "data": {
      "text/plain": [
       "'CYC3'"
      ]
     },
     "execution_count": 8,
     "metadata": {},
     "output_type": "execute_result"
    }
   ],
   "source": [
    "model.genes.YAL039C.name"
   ]
  },
  {
   "cell_type": "code",
   "execution_count": 9,
   "id": "dcbaa5a2-ad63-45c1-9016-992eab729f71",
   "metadata": {},
   "outputs": [
    {
     "name": "stdout",
     "output_type": "stream",
     "text": [
      "The new growth rate is: 0.0837. This is a change of 0.0 from the old growth rate, or a change of 0.0%.\n",
      "Before the knockout, the theoretical maximum yield of rHb on glucose [mmol-rHb / mmol-glucose] was: 0.0015 , now the yield is: 0.0015\n"
     ]
    }
   ],
   "source": [
    "test_knockout(model, 'YAL039C')"
   ]
  },
  {
   "cell_type": "markdown",
   "id": "d52ebc7d-7cf0-498e-bede-22d4c51a8675",
   "metadata": {},
   "source": [
    "#### Now let's try for CYC3."
   ]
  },
  {
   "cell_type": "code",
   "execution_count": 10,
   "id": "8055ae70-61f9-44be-bc13-68a5100ea8ce",
   "metadata": {},
   "outputs": [
    {
     "data": {
      "text/plain": [
       "'YFH1'"
      ]
     },
     "execution_count": 10,
     "metadata": {},
     "output_type": "execute_result"
    }
   ],
   "source": [
    "model.genes.YDL120W.name"
   ]
  },
  {
   "cell_type": "code",
   "execution_count": 11,
   "id": "0da65d41-8571-4e78-8877-9d0ea0058c1e",
   "metadata": {},
   "outputs": [
    {
     "name": "stdout",
     "output_type": "stream",
     "text": [
      "The new growth rate is: 0.0837. This is a change of 0.0 from the old growth rate, or a change of 0.0%.\n",
      "Before the knockout, the theoretical maximum yield of rHb on glucose [mmol-rHb / mmol-glucose] was: 0.0015 , now the yield is: 0.0015\n"
     ]
    }
   ],
   "source": [
    "test_knockout(model, 'YDL120W')"
   ]
  },
  {
   "cell_type": "code",
   "execution_count": null,
   "id": "6227ad93-7ade-4585-a321-e47772e68e74",
   "metadata": {},
   "outputs": [],
   "source": []
  }
 ],
 "metadata": {
  "kernelspec": {
   "display_name": "Python 3 (ipykernel)",
   "language": "python",
   "name": "python3"
  },
  "language_info": {
   "codemirror_mode": {
    "name": "ipython",
    "version": 3
   },
   "file_extension": ".py",
   "mimetype": "text/x-python",
   "name": "python",
   "nbconvert_exporter": "python",
   "pygments_lexer": "ipython3",
   "version": "3.7.11"
  }
 },
 "nbformat": 4,
 "nbformat_minor": 5
}
