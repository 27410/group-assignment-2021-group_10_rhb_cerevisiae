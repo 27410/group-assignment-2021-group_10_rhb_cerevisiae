{
 "cells": [
  {
   "cell_type": "markdown",
   "id": "b83c5756-4967-4625-9f56-42d4e5784602",
   "metadata": {},
   "source": [
    "# Prediction of expression modulation targets with FSEOF\n",
    "\n",
    "Algorithms like Optgene can predict gene knockout targets, but another possibility for optimizing hemoglobin production is up- or downregulation of genes. A function for this is the Flux Scanning based on Enforced Objective Flux (FSEOF) from the Computer Aided Metabolic Engineering & Optimization (CAMEO) package (Cardoso et al. 2018). FSEOF searches for target genes for up- or down-regulation by first enforcing the flux of a desired reaction under the objective of maximizing biomass production (Choi et al 2010). The function then indentifies the metabolic fluxes that increased or decreased when the desired reaction was forced to increase (Choi et al 2010). "
   ]
  },
  {
   "cell_type": "markdown",
   "id": "1a337588-f628-487a-9c78-47fb997266dc",
   "metadata": {},
   "source": [
    "### Running FSEOF and getting all regulation targets"
   ]
  },
  {
   "cell_type": "markdown",
   "id": "53bd4644-9eab-4997-9e5c-7a35220f8acc",
   "metadata": {},
   "source": [
    "Model and package imports:"
   ]
  },
  {
   "cell_type": "code",
   "execution_count": 1,
   "id": "a1fcfc0d-f65a-45da-89bc-0dca229b3bbf",
   "metadata": {},
   "outputs": [],
   "source": [
    "from cobra.io import read_sbml_model\n",
    "from cobra import Reaction, Metabolite\n",
    "from cameo import models\n",
    "from cameo.visualization.plotting.with_plotly import PlotlyPlotter\n",
    "import numpy as np\n",
    "from cameo.strain_design.deterministic.flux_variability_based import FSEOF\n",
    "import matplotlib.pyplot as plt"
   ]
  },
  {
   "cell_type": "code",
   "execution_count": 2,
   "id": "470e7f3e-bc1b-4a07-bbb9-18c29e221eae",
   "metadata": {},
   "outputs": [],
   "source": [
    "model = read_sbml_model('model_yeast8_rhb.xml')"
   ]
  },
  {
   "cell_type": "markdown",
   "id": "2288f1f1-8193-4830-a9e1-8769e4a10341",
   "metadata": {},
   "source": [
    "First, the FSEOF analysis is defined and run. As specified in fseof.run, the target for optimization is here the \"EX_rHb\" reaction, which is the exchange reaction for hemoglobin. By default the flux of the target reaction is maximized to 90% of its theoretical maximum. Furthermore, the primary objective in the optimization is the model.objective by default (here, biomass)."
   ]
  },
  {
   "cell_type": "code",
   "execution_count": 3,
   "id": "c8641041-5eb7-46d3-88ab-b250893b6129",
   "metadata": {},
   "outputs": [],
   "source": [
    "fseof = FSEOF(model)"
   ]
  },
  {
   "cell_type": "code",
   "execution_count": 4,
   "id": "c944270f-1ba0-45cf-9910-96a898529bbc",
   "metadata": {},
   "outputs": [],
   "source": [
    "result = fseof.run(target=model.reactions.EX_rHb)"
   ]
  },
  {
   "cell_type": "markdown",
   "id": "5d7df83c-667b-4be1-8d9a-d35194b081d2",
   "metadata": {},
   "source": [
    "The results are saved in a dataframe:"
   ]
  },
  {
   "cell_type": "code",
   "execution_count": 5,
   "id": "02fad55d-cc70-433e-aecd-515d16d7a565",
   "metadata": {},
   "outputs": [],
   "source": [
    "df = result.data_frame"
   ]
  },
  {
   "cell_type": "markdown",
   "id": "78612ebc-5bf5-4416-a25e-a3d9dcb6f63a",
   "metadata": {},
   "source": [
    "Below are shown the top and bottom hits of the FSEOF analysis. Each row is a different reaction that changed flux with the forced flux increase of hemoglobin exchange, and which should therefore be up- or down-regulated. Each column shows the fluxes observed for the given reaction, when EX_rHb is increased in steps until the specified 90% of theoretical maximum (column 10). The result shows that are there **196** targets. "
   ]
  },
  {
   "cell_type": "code",
   "execution_count": 6,
   "id": "7b9bae71-7bba-409a-abaa-b0604490d06c",
   "metadata": {},
   "outputs": [
    {
     "data": {
      "text/html": [
       "<div>\n",
       "<style scoped>\n",
       "    .dataframe tbody tr th:only-of-type {\n",
       "        vertical-align: middle;\n",
       "    }\n",
       "\n",
       "    .dataframe tbody tr th {\n",
       "        vertical-align: top;\n",
       "    }\n",
       "\n",
       "    .dataframe thead th {\n",
       "        text-align: right;\n",
       "    }\n",
       "</style>\n",
       "<table border=\"1\" class=\"dataframe\">\n",
       "  <thead>\n",
       "    <tr style=\"text-align: right;\">\n",
       "      <th></th>\n",
       "      <th>1</th>\n",
       "      <th>2</th>\n",
       "      <th>3</th>\n",
       "      <th>4</th>\n",
       "      <th>5</th>\n",
       "      <th>6</th>\n",
       "      <th>7</th>\n",
       "      <th>8</th>\n",
       "      <th>9</th>\n",
       "      <th>10</th>\n",
       "    </tr>\n",
       "  </thead>\n",
       "  <tbody>\n",
       "    <tr>\n",
       "      <th>PRMICI</th>\n",
       "      <td>0.115994</td>\n",
       "      <td>0.166209</td>\n",
       "      <td>0.216423</td>\n",
       "      <td>0.266638</td>\n",
       "      <td>0.316665</td>\n",
       "      <td>0.366584</td>\n",
       "      <td>0.416503</td>\n",
       "      <td>0.466423</td>\n",
       "      <td>0.516174</td>\n",
       "      <td>0.565714</td>\n",
       "    </tr>\n",
       "    <tr>\n",
       "      <th>AATA</th>\n",
       "      <td>0.324257</td>\n",
       "      <td>0.364560</td>\n",
       "      <td>0.404863</td>\n",
       "      <td>0.445166</td>\n",
       "      <td>0.484658</td>\n",
       "      <td>0.523687</td>\n",
       "      <td>0.562715</td>\n",
       "      <td>0.601743</td>\n",
       "      <td>0.640048</td>\n",
       "      <td>0.677437</td>\n",
       "    </tr>\n",
       "    <tr>\n",
       "      <th>DDPAm</th>\n",
       "      <td>0.402470</td>\n",
       "      <td>0.441860</td>\n",
       "      <td>0.481249</td>\n",
       "      <td>0.520639</td>\n",
       "      <td>0.558992</td>\n",
       "      <td>0.596752</td>\n",
       "      <td>0.634512</td>\n",
       "      <td>0.672271</td>\n",
       "      <td>0.709106</td>\n",
       "      <td>0.744770</td>\n",
       "    </tr>\n",
       "    <tr>\n",
       "      <th>IPPMIb</th>\n",
       "      <td>-0.374670</td>\n",
       "      <td>-0.455266</td>\n",
       "      <td>-0.535861</td>\n",
       "      <td>-0.616457</td>\n",
       "      <td>-0.696214</td>\n",
       "      <td>-0.775489</td>\n",
       "      <td>-0.854765</td>\n",
       "      <td>-0.934041</td>\n",
       "      <td>-1.012567</td>\n",
       "      <td>-1.090145</td>\n",
       "    </tr>\n",
       "    <tr>\n",
       "      <th>IPPS</th>\n",
       "      <td>0.000000</td>\n",
       "      <td>0.000000</td>\n",
       "      <td>0.000000</td>\n",
       "      <td>0.000000</td>\n",
       "      <td>0.000000</td>\n",
       "      <td>0.000000</td>\n",
       "      <td>0.000000</td>\n",
       "      <td>0.000000</td>\n",
       "      <td>1.012567</td>\n",
       "      <td>1.090145</td>\n",
       "    </tr>\n",
       "    <tr>\n",
       "      <th>...</th>\n",
       "      <td>...</td>\n",
       "      <td>...</td>\n",
       "      <td>...</td>\n",
       "      <td>...</td>\n",
       "      <td>...</td>\n",
       "      <td>...</td>\n",
       "      <td>...</td>\n",
       "      <td>...</td>\n",
       "      <td>...</td>\n",
       "      <td>...</td>\n",
       "    </tr>\n",
       "    <tr>\n",
       "      <th>FRD2m</th>\n",
       "      <td>0.000000</td>\n",
       "      <td>0.000000</td>\n",
       "      <td>0.000000</td>\n",
       "      <td>0.000000</td>\n",
       "      <td>0.182600</td>\n",
       "      <td>0.238012</td>\n",
       "      <td>0.293424</td>\n",
       "      <td>0.348837</td>\n",
       "      <td>0.404485</td>\n",
       "      <td>0.460432</td>\n",
       "    </tr>\n",
       "    <tr>\n",
       "      <th>PYRTRAINPROSYM</th>\n",
       "      <td>-3.497384</td>\n",
       "      <td>-4.400731</td>\n",
       "      <td>-5.304077</td>\n",
       "      <td>-6.207424</td>\n",
       "      <td>-6.855308</td>\n",
       "      <td>-7.786479</td>\n",
       "      <td>-8.717649</td>\n",
       "      <td>-9.648820</td>\n",
       "      <td>-10.574494</td>\n",
       "      <td>-11.493211</td>\n",
       "    </tr>\n",
       "    <tr>\n",
       "      <th>SHSL2</th>\n",
       "      <td>0.014957</td>\n",
       "      <td>0.023201</td>\n",
       "      <td>0.031445</td>\n",
       "      <td>0.039689</td>\n",
       "      <td>0.047914</td>\n",
       "      <td>0.056128</td>\n",
       "      <td>0.064342</td>\n",
       "      <td>0.072556</td>\n",
       "      <td>0.080752</td>\n",
       "      <td>0.068317</td>\n",
       "    </tr>\n",
       "    <tr>\n",
       "      <th>rHb</th>\n",
       "      <td>0.001470</td>\n",
       "      <td>0.002940</td>\n",
       "      <td>0.004410</td>\n",
       "      <td>0.005880</td>\n",
       "      <td>0.007350</td>\n",
       "      <td>0.008820</td>\n",
       "      <td>0.010290</td>\n",
       "      <td>0.011760</td>\n",
       "      <td>0.013231</td>\n",
       "      <td>0.014701</td>\n",
       "    </tr>\n",
       "    <tr>\n",
       "      <th>EX_rHb</th>\n",
       "      <td>0.001470</td>\n",
       "      <td>0.002940</td>\n",
       "      <td>0.004410</td>\n",
       "      <td>0.005880</td>\n",
       "      <td>0.007350</td>\n",
       "      <td>0.008820</td>\n",
       "      <td>0.010290</td>\n",
       "      <td>0.011760</td>\n",
       "      <td>0.013231</td>\n",
       "      <td>0.014701</td>\n",
       "    </tr>\n",
       "  </tbody>\n",
       "</table>\n",
       "<p>197 rows × 10 columns</p>\n",
       "</div>"
      ],
      "text/plain": [
       "                      1         2         3         4         5         6   \\\n",
       "PRMICI          0.115994  0.166209  0.216423  0.266638  0.316665  0.366584   \n",
       "AATA            0.324257  0.364560  0.404863  0.445166  0.484658  0.523687   \n",
       "DDPAm           0.402470  0.441860  0.481249  0.520639  0.558992  0.596752   \n",
       "IPPMIb         -0.374670 -0.455266 -0.535861 -0.616457 -0.696214 -0.775489   \n",
       "IPPS            0.000000  0.000000  0.000000  0.000000  0.000000  0.000000   \n",
       "...                  ...       ...       ...       ...       ...       ...   \n",
       "FRD2m           0.000000  0.000000  0.000000  0.000000  0.182600  0.238012   \n",
       "PYRTRAINPROSYM -3.497384 -4.400731 -5.304077 -6.207424 -6.855308 -7.786479   \n",
       "SHSL2           0.014957  0.023201  0.031445  0.039689  0.047914  0.056128   \n",
       "rHb             0.001470  0.002940  0.004410  0.005880  0.007350  0.008820   \n",
       "EX_rHb          0.001470  0.002940  0.004410  0.005880  0.007350  0.008820   \n",
       "\n",
       "                      7         8          9          10  \n",
       "PRMICI          0.416503  0.466423   0.516174   0.565714  \n",
       "AATA            0.562715  0.601743   0.640048   0.677437  \n",
       "DDPAm           0.634512  0.672271   0.709106   0.744770  \n",
       "IPPMIb         -0.854765 -0.934041  -1.012567  -1.090145  \n",
       "IPPS            0.000000  0.000000   1.012567   1.090145  \n",
       "...                  ...       ...        ...        ...  \n",
       "FRD2m           0.293424  0.348837   0.404485   0.460432  \n",
       "PYRTRAINPROSYM -8.717649 -9.648820 -10.574494 -11.493211  \n",
       "SHSL2           0.064342  0.072556   0.080752   0.068317  \n",
       "rHb             0.010290  0.011760   0.013231   0.014701  \n",
       "EX_rHb          0.010290  0.011760   0.013231   0.014701  \n",
       "\n",
       "[197 rows x 10 columns]"
      ]
     },
     "execution_count": 6,
     "metadata": {},
     "output_type": "execute_result"
    }
   ],
   "source": [
    "df"
   ]
  },
  {
   "cell_type": "markdown",
   "id": "3ae285d1-426f-4187-b88f-59dcbba5291c",
   "metadata": {},
   "source": [
    "### Identifying reactions with the largest change in flux "
   ]
  },
  {
   "cell_type": "markdown",
   "id": "1722c1f6-a858-410e-9ab9-e6828aa89a34",
   "metadata": {},
   "source": [
    "To get a better overview of the results, two columns are added to the dataframe: Change and Percent Change. The Change describes the change (positive or negative) in flux from the first calculated flux to the last (at 90% of theoretical max for desired product). The Percent Change describes the change in percentage relative to the beginning value, as calculated by:\n",
    "\n",
    "$\\frac{flux_{end} - flux_{start}}{flux_{start}} * 100$\n",
    "\n",
    "If the flux of a reaction is zero in the beginning, the Percent Change is defined as NaN."
   ]
  },
  {
   "cell_type": "code",
   "execution_count": 7,
   "id": "6a44b7a9-9518-44b1-b159-5445f737c69c",
   "metadata": {},
   "outputs": [],
   "source": [
    "change = []\n",
    "for i in range(len(df)):\n",
    "    change.append(df.iloc[i,9]-df.iloc[i,0])\n",
    "    \n",
    "df['Change']=change"
   ]
  },
  {
   "cell_type": "code",
   "execution_count": 8,
   "id": "72e11b95-9587-4162-b053-5e59f2944395",
   "metadata": {},
   "outputs": [],
   "source": [
    "percent_change = []\n",
    "for i in range(len(df)):\n",
    "    if df.iloc[i,0] != 0:\n",
    "        percent_change.append(((df.iloc[i,9]-df.iloc[i,0])/df.iloc[i,0])*100)\n",
    "    else:\n",
    "        percent_change.append(np.nan)\n",
    "\n",
    "df['Percent_change']=percent_change"
   ]
  },
  {
   "cell_type": "markdown",
   "id": "8267b004-ccf2-4483-aab9-76fba6fad1c4",
   "metadata": {},
   "source": [
    "The reactions can then be sorted based on Percent Change to see the reactions with the highest relative change and thereby most interesting targets. Below are shown the top 20 targets with the highest expression modulation:"
   ]
  },
  {
   "cell_type": "code",
   "execution_count": 9,
   "id": "1ceab37b-2767-49a2-ab86-d146a3439fa1",
   "metadata": {},
   "outputs": [
    {
     "data": {
      "text/html": [
       "<div>\n",
       "<style scoped>\n",
       "    .dataframe tbody tr th:only-of-type {\n",
       "        vertical-align: middle;\n",
       "    }\n",
       "\n",
       "    .dataframe tbody tr th {\n",
       "        vertical-align: top;\n",
       "    }\n",
       "\n",
       "    .dataframe thead th {\n",
       "        text-align: right;\n",
       "    }\n",
       "</style>\n",
       "<table border=\"1\" class=\"dataframe\">\n",
       "  <thead>\n",
       "    <tr style=\"text-align: right;\">\n",
       "      <th></th>\n",
       "      <th>1</th>\n",
       "      <th>2</th>\n",
       "      <th>3</th>\n",
       "      <th>4</th>\n",
       "      <th>5</th>\n",
       "      <th>6</th>\n",
       "      <th>7</th>\n",
       "      <th>8</th>\n",
       "      <th>9</th>\n",
       "      <th>10</th>\n",
       "      <th>Change</th>\n",
       "      <th>Percent_change</th>\n",
       "    </tr>\n",
       "  </thead>\n",
       "  <tbody>\n",
       "    <tr>\n",
       "      <th>GLYSTASYN</th>\n",
       "      <td>0.285365</td>\n",
       "      <td>0.258563</td>\n",
       "      <td>0.231761</td>\n",
       "      <td>0.204959</td>\n",
       "      <td>0.698258</td>\n",
       "      <td>2.081123</td>\n",
       "      <td>3.463987</td>\n",
       "      <td>4.846851</td>\n",
       "      <td>5.232680</td>\n",
       "      <td>6.490743</td>\n",
       "      <td>6.205378</td>\n",
       "      <td>2174.540676</td>\n",
       "    </tr>\n",
       "    <tr>\n",
       "      <th>NAt3_1</th>\n",
       "      <td>-0.003135</td>\n",
       "      <td>-0.002840</td>\n",
       "      <td>-0.002546</td>\n",
       "      <td>-0.002251</td>\n",
       "      <td>-0.250010</td>\n",
       "      <td>-0.210233</td>\n",
       "      <td>-0.170456</td>\n",
       "      <td>-0.130679</td>\n",
       "      <td>-0.089781</td>\n",
       "      <td>-0.047462</td>\n",
       "      <td>-0.044327</td>\n",
       "      <td>1413.939394</td>\n",
       "    </tr>\n",
       "    <tr>\n",
       "      <th>ME2m</th>\n",
       "      <td>0.235539</td>\n",
       "      <td>0.248796</td>\n",
       "      <td>0.262052</td>\n",
       "      <td>0.275309</td>\n",
       "      <td>0.287931</td>\n",
       "      <td>0.300190</td>\n",
       "      <td>0.312449</td>\n",
       "      <td>0.324708</td>\n",
       "      <td>1.912791</td>\n",
       "      <td>2.673339</td>\n",
       "      <td>2.437800</td>\n",
       "      <td>1034.987836</td>\n",
       "    </tr>\n",
       "    <tr>\n",
       "      <th>TKT2</th>\n",
       "      <td>0.116358</td>\n",
       "      <td>0.332468</td>\n",
       "      <td>0.548578</td>\n",
       "      <td>0.764688</td>\n",
       "      <td>0.969673</td>\n",
       "      <td>1.168277</td>\n",
       "      <td>1.366881</td>\n",
       "      <td>1.565486</td>\n",
       "      <td>1.236362</td>\n",
       "      <td>1.237243</td>\n",
       "      <td>1.120885</td>\n",
       "      <td>963.307207</td>\n",
       "    </tr>\n",
       "    <tr>\n",
       "      <th>rHb</th>\n",
       "      <td>0.001470</td>\n",
       "      <td>0.002940</td>\n",
       "      <td>0.004410</td>\n",
       "      <td>0.005880</td>\n",
       "      <td>0.007350</td>\n",
       "      <td>0.008820</td>\n",
       "      <td>0.010290</td>\n",
       "      <td>0.011760</td>\n",
       "      <td>0.013231</td>\n",
       "      <td>0.014701</td>\n",
       "      <td>0.013231</td>\n",
       "      <td>900.068027</td>\n",
       "    </tr>\n",
       "    <tr>\n",
       "      <th>EX_rHb</th>\n",
       "      <td>0.001470</td>\n",
       "      <td>0.002940</td>\n",
       "      <td>0.004410</td>\n",
       "      <td>0.005880</td>\n",
       "      <td>0.007350</td>\n",
       "      <td>0.008820</td>\n",
       "      <td>0.010290</td>\n",
       "      <td>0.011760</td>\n",
       "      <td>0.013231</td>\n",
       "      <td>0.014701</td>\n",
       "      <td>0.013231</td>\n",
       "      <td>900.000000</td>\n",
       "    </tr>\n",
       "    <tr>\n",
       "      <th>PPBNGS</th>\n",
       "      <td>0.023524</td>\n",
       "      <td>0.047045</td>\n",
       "      <td>0.070565</td>\n",
       "      <td>0.094086</td>\n",
       "      <td>0.117607</td>\n",
       "      <td>0.141127</td>\n",
       "      <td>0.164648</td>\n",
       "      <td>0.188169</td>\n",
       "      <td>0.211689</td>\n",
       "      <td>0.235210</td>\n",
       "      <td>0.211686</td>\n",
       "      <td>899.872471</td>\n",
       "    </tr>\n",
       "    <tr>\n",
       "      <th>5AOPtm</th>\n",
       "      <td>-0.047048</td>\n",
       "      <td>-0.094090</td>\n",
       "      <td>-0.141131</td>\n",
       "      <td>-0.188172</td>\n",
       "      <td>-0.235214</td>\n",
       "      <td>-0.282255</td>\n",
       "      <td>-0.329296</td>\n",
       "      <td>-0.376337</td>\n",
       "      <td>-0.423379</td>\n",
       "      <td>-0.470420</td>\n",
       "      <td>-0.423372</td>\n",
       "      <td>899.872471</td>\n",
       "    </tr>\n",
       "    <tr>\n",
       "      <th>ALASm</th>\n",
       "      <td>0.047048</td>\n",
       "      <td>0.094090</td>\n",
       "      <td>0.141131</td>\n",
       "      <td>0.188172</td>\n",
       "      <td>0.235214</td>\n",
       "      <td>0.282255</td>\n",
       "      <td>0.329296</td>\n",
       "      <td>0.376337</td>\n",
       "      <td>0.423379</td>\n",
       "      <td>0.470420</td>\n",
       "      <td>0.423372</td>\n",
       "      <td>899.872471</td>\n",
       "    </tr>\n",
       "    <tr>\n",
       "      <th>UPPDC1</th>\n",
       "      <td>0.005881</td>\n",
       "      <td>0.011761</td>\n",
       "      <td>0.017641</td>\n",
       "      <td>0.023522</td>\n",
       "      <td>0.029402</td>\n",
       "      <td>0.035282</td>\n",
       "      <td>0.041162</td>\n",
       "      <td>0.047042</td>\n",
       "      <td>0.052922</td>\n",
       "      <td>0.058802</td>\n",
       "      <td>0.052921</td>\n",
       "      <td>899.863969</td>\n",
       "    </tr>\n",
       "  </tbody>\n",
       "</table>\n",
       "</div>"
      ],
      "text/plain": [
       "                  1         2         3         4         5         6  \\\n",
       "GLYSTASYN  0.285365  0.258563  0.231761  0.204959  0.698258  2.081123   \n",
       "NAt3_1    -0.003135 -0.002840 -0.002546 -0.002251 -0.250010 -0.210233   \n",
       "ME2m       0.235539  0.248796  0.262052  0.275309  0.287931  0.300190   \n",
       "TKT2       0.116358  0.332468  0.548578  0.764688  0.969673  1.168277   \n",
       "rHb        0.001470  0.002940  0.004410  0.005880  0.007350  0.008820   \n",
       "EX_rHb     0.001470  0.002940  0.004410  0.005880  0.007350  0.008820   \n",
       "PPBNGS     0.023524  0.047045  0.070565  0.094086  0.117607  0.141127   \n",
       "5AOPtm    -0.047048 -0.094090 -0.141131 -0.188172 -0.235214 -0.282255   \n",
       "ALASm      0.047048  0.094090  0.141131  0.188172  0.235214  0.282255   \n",
       "UPPDC1     0.005881  0.011761  0.017641  0.023522  0.029402  0.035282   \n",
       "\n",
       "                  7         8         9        10    Change  Percent_change  \n",
       "GLYSTASYN  3.463987  4.846851  5.232680  6.490743  6.205378     2174.540676  \n",
       "NAt3_1    -0.170456 -0.130679 -0.089781 -0.047462 -0.044327     1413.939394  \n",
       "ME2m       0.312449  0.324708  1.912791  2.673339  2.437800     1034.987836  \n",
       "TKT2       1.366881  1.565486  1.236362  1.237243  1.120885      963.307207  \n",
       "rHb        0.010290  0.011760  0.013231  0.014701  0.013231      900.068027  \n",
       "EX_rHb     0.010290  0.011760  0.013231  0.014701  0.013231      900.000000  \n",
       "PPBNGS     0.164648  0.188169  0.211689  0.235210  0.211686      899.872471  \n",
       "5AOPtm    -0.329296 -0.376337 -0.423379 -0.470420 -0.423372      899.872471  \n",
       "ALASm      0.329296  0.376337  0.423379  0.470420  0.423372      899.872471  \n",
       "UPPDC1     0.041162  0.047042  0.052922  0.058802  0.052921      899.863969  "
      ]
     },
     "execution_count": 9,
     "metadata": {},
     "output_type": "execute_result"
    }
   ],
   "source": [
    "df_sorted = df.reindex(df.Percent_change.abs().sort_values(ascending=False).index) \n",
    "df_sorted.head(10)"
   ]
  },
  {
   "cell_type": "markdown",
   "id": "73758a7f-2f9c-4801-a806-f63038e3748e",
   "metadata": {},
   "source": [
    "To get more insight to the expression modulation targets, we can count the number of up- and down-regulations targets. Note that a negative flux, which becomes more negative is an upregulation (the minus is due to the definition of the reaction direction). On the other hand, when a negative flux which becomes more positive, it is a downregulation."
   ]
  },
  {
   "cell_type": "code",
   "execution_count": 10,
   "id": "8e73fcad-d772-498b-87a2-49de12ff61cf",
   "metadata": {},
   "outputs": [
    {
     "name": "stdout",
     "output_type": "stream",
     "text": [
      "There are 142 up-regulation targets and 53 down-regulation tagets.\n"
     ]
    }
   ],
   "source": [
    "upreg_counter = 0\n",
    "downreg_counter = 0\n",
    "for i in range(0,195):\n",
    "    if df_sorted.iloc[i,11] > 0:\n",
    "        upreg_counter = upreg_counter + 1\n",
    "    elif df_sorted.iloc[i,11] < 0:\n",
    "        downreg_counter = downreg_counter + 1\n",
    "    elif np.isnan(df_sorted.iloc[i,11]):         # the reactions which had 0 flux in the beginning is counted by the \"Change\" column instead\n",
    "        if df_sorted.iloc[i,10] > 0:\n",
    "            upreg_counter = upreg_counter + 1\n",
    "        elif df_sorted.iloc[i,10] < 0:\n",
    "            downreg_counter = downreg_counter + 1\n",
    "            \n",
    "print(\"There are\",upreg_counter,\"up-regulation targets and\",downreg_counter,\"down-regulation tagets.\")"
   ]
  },
  {
   "cell_type": "markdown",
   "id": "4202be3c-3ab3-4098-a47f-00b7d9f8e050",
   "metadata": {},
   "source": [
    "We can visualize their degree of up- or down-regulation in a plot:"
   ]
  },
  {
   "cell_type": "code",
   "execution_count": 23,
   "id": "8a365788-9966-429d-a6d6-6786141d4ee0",
   "metadata": {},
   "outputs": [
    {
     "data": {
      "image/png": "[encoded data removed]",
      "text/plain": [
       "<Figure size 2160x720 with 1 Axes>"
      ]
     },
     "metadata": {
      "needs_background": "light"
     },
     "output_type": "display_data"
    }
   ],
   "source": [
    "plotdata = df_sorted.iloc[0:168,11]\n",
    "fig = plotdata.plot(kind='bar')\n",
    "plt.rcParams[\"figure.figsize\"] = [30, 10]\n",
    "fig.tick_params(axis='y', labelsize=25)\n",
    "plt.suptitle(\"Percent change for up- and down-regulated reactions\", fontsize=30)\n",
    "plt.show()"
   ]
  },
  {
   "cell_type": "markdown",
   "id": "84f4a6a7-7174-4755-b92d-6a0544139109",
   "metadata": {},
   "source": [
    "### Investigation of top 10 targets with visualization"
   ]
  },
  {
   "cell_type": "markdown",
   "id": "52601164-4df5-470d-b2e2-9c1a277a5f63",
   "metadata": {},
   "source": [
    "The reaction name for the top 10 reactions with the highest relative change is given below:"
   ]
  },
  {
   "cell_type": "code",
   "execution_count": 12,
   "id": "2d857fd8-18f9-4d3b-ba22-e6051fc81265",
   "metadata": {},
   "outputs": [
    {
     "name": "stdout",
     "output_type": "stream",
     "text": [
      "GLYSTASYN glycogen (starch) synthase\n",
      "NAt3_1 sodium proton antiporter\n",
      "ME2m malic enzyme (NADP)\n",
      "TKT2 transketolase 2\n",
      "rHb \n",
      "EX_rHb \n",
      "PPBNGS porphobilinogen synthase\n",
      "5AOPtm 5-aminolevulinate transport\n",
      "ALASm 5-aminolevulinate synthase\n",
      "UPPDC1 uroporphyrinogen decarboxylase (uroporphyrinogen III)\n"
     ]
    }
   ],
   "source": [
    "for i in range(10):\n",
    "    print(model.reactions.get_by_id(df_sorted.index.values[i]).id, model.reactions.get_by_id(df_sorted.index.values[i]).name)"
   ]
  },
  {
   "cell_type": "markdown",
   "id": "27a8cdce-78ce-43f4-8497-5ee5af8e08d9",
   "metadata": {},
   "source": [
    "From the names above, it can be seen that target 5-10 are part of the heme synthesis pathway as well as the hemoglobin synthesis and exchange. Rationally, it makes sense that these are upregulated to generate a high production flux of hemoglobin. However, for target 1-4 the rationale is not immediately obvious, but it could potentially be explained with higher precursor availability. Addtionally, it can be seen from Percent Change columns that all targets in top 10 have a positive percent change and therefore are *up*-regulated.\n",
    "\n",
    "To get a better overview of the upregulated targets involved in the hemoglobin synthesis, they can be visualized with Escher (King et al. 2015). "
   ]
  },
  {
   "cell_type": "code",
   "execution_count": 13,
   "id": "f2f5e0f0-6a31-4812-bb88-08e53c788205",
   "metadata": {},
   "outputs": [],
   "source": [
    "import escher"
   ]
  },
  {
   "cell_type": "markdown",
   "id": "35141c59-cf51-425c-a46f-f9fb537e3c29",
   "metadata": {},
   "source": [
    "To visualize the top 10 upregulated pathways, a dictionary is created which contains their reaction id as well as their flux when the target reaction is at 90% of max productivity (column 10)."
   ]
  },
  {
   "cell_type": "code",
   "execution_count": 14,
   "id": "88d6cecc-b812-4e6a-a2f4-35b2a569c65a",
   "metadata": {},
   "outputs": [],
   "source": [
    "Reg_fluxes = dict(zip(df_sorted.index.values[0:10], df_sorted.iloc[0:10,10]))"
   ]
  },
  {
   "cell_type": "code",
   "execution_count": 15,
   "id": "6a363d58-82f0-4f03-af41-6b704ce91505",
   "metadata": {
    "tags": []
   },
   "outputs": [
    {
     "data": {
      "application/vnd.jupyter.widget-view+json": {
       "model_id": "ed997a74814543ffb5fea2ad6391fdaf",
       "version_major": 2,
       "version_minor": 0
      },
      "text/plain": [
       "Builder(reaction_data={'GLYSTASYN': 6.2053780000000005, 'NAt3_1': -0.044327, 'ME2m': 2.4377999999999997, 'TKT2…"
      ]
     },
     "metadata": {},
     "output_type": "display_data"
    }
   ],
   "source": [
    "escher.Builder(model = model,\n",
    "    map_json='Yeast8_hemoglobin_synthesis2.json',\n",
    "               reaction_data=Reg_fluxes)"
   ]
  },
  {
   "cell_type": "markdown",
   "id": "8a72385c-e445-419f-bf65-f3aba20a668b",
   "metadata": {},
   "source": [
    "### Simulations of model with up- and down-regulations\n",
    "\n",
    "These simulations are performed to get an idea of whether a few targets can be regulated to get high hemoglobin production or it is necessary to upregulate all 196 identified targets. The regulations are simulated by adjusting the lower and upper bound of the target reaction to the flux identified when the target reaction is at 90% of max productivity (column 10). This forces the reaction to have the given flux.\n",
    "\n",
    "Below are calculated rate of hemoglobin production, growth rate and yield of hemoglobin on glucose for all strain designs."
   ]
  },
  {
   "cell_type": "markdown",
   "id": "deb53218-18e9-4710-813f-12be49563ce6",
   "metadata": {},
   "source": [
    "**Strain with no expression modulation - optimized for growth:**"
   ]
  },
  {
   "cell_type": "code",
   "execution_count": 16,
   "id": "6b06c28e-60af-4ed6-b471-d8f29697b479",
   "metadata": {},
   "outputs": [
    {
     "name": "stdout",
     "output_type": "stream",
     "text": [
      "Rate of hemoglobin production: 0.0 mmol/(gDW*h)\n",
      "Growth rate: 0.8637367930478769 h^-1\n",
      "Yield for hemoglobin on glucose 0.0 mmol-hemoglobin / mmol-glucose\n"
     ]
    }
   ],
   "source": [
    "with model:\n",
    "    model.optimize()\n",
    "    print(\"Rate of hemoglobin production:\", model.reactions.EX_rHb.flux,\"mmol/(gDW*h)\")\n",
    "    print(\"Growth rate:\", model.reactions.GROWTH.flux,\"h^-1\")\n",
    "    print(\"Yield for hemoglobin on glucose\", model.reactions.EX_rHb.flux / (-1*model.reactions.EX_glc__D_e.flux),\"mmol-hemoglobin / mmol-glucose\")"
   ]
  },
  {
   "cell_type": "markdown",
   "id": "0b2c0376-a23c-4cdb-9010-de35036c9fe6",
   "metadata": {},
   "source": [
    "**Theoretical max for cell with hemoglobin as objective function:**"
   ]
  },
  {
   "cell_type": "code",
   "execution_count": 17,
   "id": "099af32a-40c2-4a7a-8d13-ebdb94630d5f",
   "metadata": {},
   "outputs": [
    {
     "name": "stdout",
     "output_type": "stream",
     "text": [
      "Rate of hemoglobin production: 0.016333900695119242 mmol/(gDW*h)\n",
      "Growth rate: 0.0 h^-1\n",
      "Yield for hemoglobin on glucose 0.0016333900695119242 mmol-hemoglobin / mmol-glucose\n"
     ]
    }
   ],
   "source": [
    "with model:\n",
    "    model.objective = model.reactions.EX_rHb\n",
    "    model.optimize()\n",
    "    print(\"Rate of hemoglobin production:\", model.reactions.EX_rHb.flux,\"mmol/(gDW*h)\")\n",
    "    print(\"Growth rate:\", model.reactions.GROWTH.flux,\"h^-1\")\n",
    "    print(\"Yield for hemoglobin on glucose\", model.reactions.EX_rHb.flux / (-1*model.reactions.EX_glc__D_e.flux),\"mmol-hemoglobin / mmol-glucose\")"
   ]
  },
  {
   "cell_type": "markdown",
   "id": "7462f50e-b964-4201-95aa-757a60aaedde",
   "metadata": {},
   "source": [
    "**Upregulation of top 3 targets**\n",
    "\n",
    "Here the top 3 targets were upregulated. We see no effect on hemoglobin production, when comparing to the strain optimized for growth with no regulation. However, the growth has fallen to 96% of its theoretical max. "
   ]
  },
  {
   "cell_type": "code",
   "execution_count": 18,
   "id": "7f8a5c43-4596-4f9e-9482-4fb5bfcc90c7",
   "metadata": {},
   "outputs": [
    {
     "name": "stdout",
     "output_type": "stream",
     "text": [
      "Rate of hemoglobin production: 0.0 mmol/(gDW*h)\n",
      "Growth rate: 0.83405096192123 h^-1\n",
      "Yield for hemoglobin on glucose 0.0 mmol-hemoglobin / mmol-glucose\n"
     ]
    }
   ],
   "source": [
    "with model:\n",
    "    for i in range(0,3):\n",
    "        model.reactions.get_by_id(df_sorted.index.values[i]).bounds = df_sorted.iloc[i,10], df_sorted.iloc[i,10]\n",
    "    model.optimize()\n",
    "    print(\"Rate of hemoglobin production:\", model.reactions.EX_rHb.flux,\"mmol/(gDW*h)\")\n",
    "    print(\"Growth rate:\", model.reactions.GROWTH.flux,\"h^-1\")\n",
    "    print(\"Yield for hemoglobin on glucose\", model.reactions.EX_rHb.flux / (-1*model.reactions.EX_glc__D_e.flux),\"mmol-hemoglobin / mmol-glucose\")"
   ]
  },
  {
   "cell_type": "markdown",
   "id": "6b7a266b-b794-460a-8cff-c4a3551e2078",
   "metadata": {},
   "source": [
    "**Upregulation of top 7 targets, except rHb and EX_rHb**\n",
    "\n",
    "Following the top3 targets, a trial and error approach was performed where more and more targets were included in the upregulation together. However, during this, the rHb and EX_rHb reactionens were *not* upregulated because that might have created an artefact, which does not produce useful results. In the trial and error it was found that especially the inclusion of the reaction PPBNGS gave a big increase difference in the hemoglobin production as seen below:"
   ]
  },
  {
   "cell_type": "code",
   "execution_count": 19,
   "id": "96fee886-83ba-4b9b-8509-0da051950417",
   "metadata": {},
   "outputs": [
    {
     "name": "stdout",
     "output_type": "stream",
     "text": [
      "Rate of hemoglobin production: 0.01323033140615089 mmol/(gDW*h)\n",
      "Growth rate: 0.17437539688295467 h^-1\n",
      "Yield for hemoglobin on glucose 0.001323033140615089 mmol-hemoglobin / mmol-glucose\n"
     ]
    }
   ],
   "source": [
    "with model:\n",
    "    for i in [x for x in range(0,7) if x !=4 and x!=5]:\n",
    "        model.reactions.get_by_id(df_sorted.index.values[i]).bounds = df_sorted.iloc[i,10], df_sorted.iloc[i,10]\n",
    "    model.optimize()\n",
    "    print(\"Rate of hemoglobin production:\", model.reactions.EX_rHb.flux,\"mmol/(gDW*h)\")\n",
    "    print(\"Growth rate:\", model.reactions.GROWTH.flux,\"h^-1\")\n",
    "    print(\"Yield for hemoglobin on glucose\", model.reactions.EX_rHb.flux / (-1*model.reactions.EX_glc__D_e.flux),\"mmol-hemoglobin / mmol-glucose\")"
   ]
  },
  {
   "cell_type": "markdown",
   "id": "73aa6521-2800-4496-991a-7d11830b2cec",
   "metadata": {},
   "source": [
    "**Upregulation of PPBNGS alone**\n",
    "\n",
    "Because of the large effect of including PPBNGS in the upregulation, the effect of *only* upregulating PPBNGS was investigated. From the optimization below it can be seen this upregulation leads to a hemoglobin production and yield, which is 81% of the theoretical max, but a decrease in growth rate, so it is only 21% of max theoretical growth rate. "
   ]
  },
  {
   "cell_type": "code",
   "execution_count": 20,
   "id": "22599558-66bb-469b-8576-2857ad72a2d7",
   "metadata": {},
   "outputs": [
    {
     "name": "stdout",
     "output_type": "stream",
     "text": [
      "Rate of hemoglobin production: 0.013230330963362244 mmol/(gDW*h)\n",
      "Growth rate: 0.1761465514674257 h^-1\n",
      "Yield for hemoglobin on glucose 0.0013230330963362245 mmol-hemoglobin / mmol-glucose\n"
     ]
    }
   ],
   "source": [
    "with model:\n",
    "    model.reactions.get_by_id('PPBNGS').bounds = df_sorted.iloc[6,10], df_sorted.iloc[6,10]\n",
    "    model.optimize()\n",
    "    print(\"Rate of hemoglobin production:\", model.reactions.EX_rHb.flux,\"mmol/(gDW*h)\")\n",
    "    print(\"Growth rate:\", model.reactions.GROWTH.flux,\"h^-1\")\n",
    "    print(\"Yield for hemoglobin on glucose\", model.reactions.EX_rHb.flux / (-1*model.reactions.EX_glc__D_e.flux),\"mmol-hemoglobin / mmol-glucose\")"
   ]
  },
  {
   "cell_type": "markdown",
   "id": "666b20ca-91b8-41ff-963f-890c914f7d06",
   "metadata": {},
   "source": [
    "To investigate the effect of PPBNGS upregulation on the trade-off between hemoglobin production and growth, the bounds of PPBNGS were set to all the different increasing fluxes obtained in the FSEOF analysis. "
   ]
  },
  {
   "cell_type": "code",
   "execution_count": 21,
   "id": "1b609415-f08e-4cbb-a998-96c45838df40",
   "metadata": {},
   "outputs": [],
   "source": [
    "x_growth = np.zeros(10)\n",
    "y_production = np.zeros(10)\n",
    "with model:\n",
    "    for i in range (0,10):\n",
    "        model.reactions.get_by_id('PPBNGS').bounds = df_sorted.iloc[6,i], df_sorted.iloc[6,i]\n",
    "        model.optimize()\n",
    "        x_growth[i] = model.reactions.GROWTH.flux\n",
    "        y_production[i] = model.reactions.EX_rHb.flux"
   ]
  },
  {
   "cell_type": "markdown",
   "id": "5b5ed988-4b0d-485f-94b3-4e367b608e45",
   "metadata": {},
   "source": [
    "The result of sequentially increasing the bounds of PPBNGS (equal to overexpression) can be seen in the figure below. Here it can be seen that there is a clear trade-off between hemoglobin production and growth rate. High overexpression (left of figure) gives high hemoglobin production and low growth, and decreasing overexpression gives lower production and higher growth."
   ]
  },
  {
   "cell_type": "code",
   "execution_count": 22,
   "id": "6a017ed9-3bfb-455a-9847-596af7472b44",
   "metadata": {},
   "outputs": [
    {
     "data": {
      "image/png": "[encoded data removed]",
      "text/plain": [
       "<Figure size 2160x720 with 1 Axes>"
      ]
     },
     "metadata": {
      "needs_background": "light"
     },
     "output_type": "display_data"
    }
   ],
   "source": [
    "plt.scatter(x_growth, y_production, s=300)\n",
    "plt.tick_params(axis='y', labelsize=20)\n",
    "plt.tick_params(axis='x', labelsize=20)\n",
    "plt.xlabel('Growth rate [h^-1]',fontsize=20)\n",
    "plt.ylabel('Rate of hemoglobin production [mmol/(gDW*h)]', fontsize=20)\n",
    "plt.suptitle(\"Effect of PPBNGS upregulation on hemoglobin production and growth\", fontsize=30)\n",
    "plt.show()"
   ]
  },
  {
   "cell_type": "markdown",
   "id": "3c9c1ead-ead1-4674-8258-82e6bb7bec27",
   "metadata": {},
   "source": [
    "### Sources:\n",
    "\n",
    "Cardoso, J. G. R., Jensen, K., Lieven, C., Hansen, A. S. L., Galkina, S., Beber, M., Özdemir, E., Herrgård, M. J., Redestig, H., & Sonnenschein, N. (2018). Cameo: A Python Library for Computer Aided Metabolic Engineering and Optimization of Cell Factories. ACS Synthetic Biology, 7(4), 1163–1166. https://doi.org/10.1021/acssynbio.7b00423  \n",
    "\n",
    "Choi, H. S., Lee, S. Y., Kim, T. Y., & Woo, H. M. (2010). In silico identification of gene amplification targets for improvement of lycopene production. Applied and Environmental Microbiology, 76(10), 3097–3105. https://doi.org/10.1128/AEM.00115-10\n",
    "\n",
    "King, Z. A., Dräger, A., Ebrahim, A., Sonnenschein, N., Lewis, N. E., & Palsson, B. O. (2015). Escher: A Web Application for Building, Sharing, and Embedding Data-Rich Visualizations of Biological Pathways. PLoS Computational Biology, 11(8), 1–13. https://doi.org/10.1371/journal.pcbi.1004321"
   ]
  }
 ],
 "metadata": {
  "kernelspec": {
   "display_name": "Python 3 (ipykernel)",
   "language": "python",
   "name": "python3"
  },
  "language_info": {
   "codemirror_mode": {
    "name": "ipython",
    "version": 3
   },
   "file_extension": ".py",
   "mimetype": "text/x-python",
   "name": "python",
   "nbconvert_exporter": "python",
   "pygments_lexer": "ipython3",
   "version": "3.8.8"
  }
 },
 "nbformat": 4,
 "nbformat_minor": 5
}
