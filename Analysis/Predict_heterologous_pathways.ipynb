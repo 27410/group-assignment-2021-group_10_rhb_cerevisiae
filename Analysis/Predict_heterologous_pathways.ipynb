{
 "cells": [
  {
   "cell_type": "code",
   "execution_count": null,
   "id": "04167257-d07e-4f57-bc52-90e2c2f37dfa",
   "metadata": {},
   "outputs": [],
   "source": [
    "from IPython.display import display\n",
    "import re\n",
    "from cameo import models\n",
    "from cameo.strain_design import pathway_prediction\n",
    "from cobra.io import read_sbml_model\n",
    "from cobra import Reaction, Metabolite"
   ]
  },
  {
   "cell_type": "code",
   "execution_count": null,
   "id": "19e28d10-8b55-46d8-8e3a-74d95027f98f",
   "metadata": {},
   "outputs": [],
   "source": [
    "model = read_sbml_model('iMM904.xml')\n",
    "model.add_boundary(model.metabolites.pheme_m, type='demand')"
   ]
  },
  {
   "cell_type": "code",
   "execution_count": null,
   "id": "f51b4310-0461-4af3-89c1-0a555298aeb1",
   "metadata": {},
   "outputs": [],
   "source": [
    "predictor = pathway_prediction.PathwayPredictor(model)"
   ]
  },
  {
   "cell_type": "code",
   "execution_count": null,
   "id": "8179a74c-bde9-4199-91b1-89fba15e006d",
   "metadata": {},
   "outputs": [],
   "source": [
    "# Den kommer ikke med fejl, men jeg den kørte i 1-2 timer og fandt ikke et svar....\n",
    "pathways = predictor.run(product=\"pheme_m\", max_predictions=1)"
   ]
  },
  {
   "cell_type": "code",
   "execution_count": null,
   "id": "addffdfe-c2f8-476a-b740-7cef0be7423e",
   "metadata": {},
   "outputs": [],
   "source": [
    "? pathway_prediction.PathwayPredictor.run"
   ]
  },
  {
   "cell_type": "code",
   "execution_count": null,
   "id": "bc7d52d3-3868-49c0-82e0-c038dae1d9a9",
   "metadata": {},
   "outputs": [],
   "source": [
    "model.metabolites.pheme_m.id"
   ]
  },
  {
   "cell_type": "code",
   "execution_count": null,
   "id": "2397fbc0-eab7-4ec5-a3cd-bd6f99b059c1",
   "metadata": {},
   "outputs": [],
   "source": []
  }
 ],
 "metadata": {
  "kernelspec": {
   "display_name": "Python 3 (ipykernel)",
   "language": "python",
   "name": "python3"
  },
  "language_info": {
   "codemirror_mode": {
    "name": "ipython",
    "version": 3
   },
   "file_extension": ".py",
   "mimetype": "text/x-python",
   "name": "python",
   "nbconvert_exporter": "python",
   "pygments_lexer": "ipython3",
   "version": "3.8.8"
  }
 },
 "nbformat": 4,
 "nbformat_minor": 5
}
