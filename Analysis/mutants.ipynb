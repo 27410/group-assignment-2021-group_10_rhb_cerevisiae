{
 "cells": [
  {
   "cell_type": "markdown",
   "id": "24087d3d-c5d9-467e-a8d2-cee9f37e120f",
   "metadata": {},
   "source": [
    "antag at hele syntesevejen kan til heme trækkes fra heme_pathway.ipynb\n",
    "antag at mediet er blevet ændret i media.ipynb\n",
    "\n",
    "Definér mutanter så de kan bruges i andre filer til karakteriseringer som udbytte af biomasse, heme, osv., osv. :D Gerne som funktioner eller Classes\n",
    "\n",
    "Opregulering af HEM2, HEM3, HEM13 og HEM 15\n",
    "\n",
    "Forskellige grader af nedreguleret YFH1 (Binder jern med svovl I mitokondrien. Knockout giver super dårlig vækst. Prøv eventuelt en nedregulering - find en serie af fluxen.)\n",
    "\n",
    "Knockout af HAP1\n",
    "\n",
    "\n",
    "<span style=\"color:red\"> Caro note: Jeg tror ikke man kan knocke HAP1 ud, hvor den deltager i regulering (synes det ligner, at det er en aktivator) -> man kan vist kun knocke enzymer ud </span>"
   ]
  },
  {
   "cell_type": "markdown",
   "id": "2aa3685a-9ff3-41d3-8133-27a2653d9fc6",
   "metadata": {},
   "source": [
    "Links:\n",
    "https://cameo.bio/05-predict-gene-knockout-strategies.html\n",
    "https://cameo.bio/06-predict-gene-modulation-targets.html\n",
    "https://github.com/biosustain/marsi\n",
    "https://github.com/biosustain/cameo-notebooks"
   ]
  },
  {
   "cell_type": "markdown",
   "id": "76399f00-a222-4848-8e99-c38e14d9a1ef",
   "metadata": {},
   "source": [
    "How to get plots to work in Jupyterlab (source:https://plotly.com/python/getting-started/)\n",
    "* ! pip install \"jupyterlab>=3\" \"ipywidgets>=7.6\"\n",
    "* ! pip install jupyter-dash\n",
    "* import plotly.graph_objects as go   # Not sure if this is necessary\n",
    "\n",
    "\n",
    "Maybe it can be done like this also in command line?:\n",
    "* jupyter labextension install jupyterlab-plotly\n",
    "* Not sure if this is necessary before?? : jupyter labextension install @jupyter-widgets/jupyterlab-manager\n",
    "\n",
    "Escher might be installed like above:\n",
    "* Jupyter labextension install escher"
   ]
  },
  {
   "cell_type": "markdown",
   "id": "95aafee2-1619-48a9-bd1a-c5b22083517b",
   "metadata": {},
   "source": []
  },
  {
   "cell_type": "code",
   "execution_count": null,
   "id": "e558a4ae-f2e5-4f4c-a817-a4a7b08a9651",
   "metadata": {},
   "outputs": [],
   "source": []
  },
  {
   "cell_type": "markdown",
   "id": "0c075196-8a8c-461d-8d00-c178149ac90e",
   "metadata": {},
   "source": [
    "# OptGene"
   ]
  },
  {
   "cell_type": "code",
   "execution_count": 8,
   "id": "e818117b-d2a9-4ed1-abac-c2f0281b92d2",
   "metadata": {},
   "outputs": [],
   "source": [
    "from cameo.visualization.plotting.with_plotly import PlotlyPlotter\n",
    "from cameo.strain_design import OptGene\n",
    "from cobra.io import read_sbml_model\n",
    "from cobra import Reaction, Metabolite"
   ]
  },
  {
   "cell_type": "code",
   "execution_count": 12,
   "id": "356a3407-b3f9-4a06-ad94-904a6018df59",
   "metadata": {},
   "outputs": [
    {
     "ename": "OSError",
     "evalue": "[Errno The file with 'filename' does not exist, or is not an SBML string. Provide the path to an existing SBML file or a valid SBML string representation: \n%s] iMM904.xml",
     "output_type": "error",
     "traceback": [
      "\u001b[1;31m---------------------------------------------------------------------------\u001b[0m",
      "\u001b[1;31mOSError\u001b[0m                                   Traceback (most recent call last)",
      "\u001b[1;32m~\\AppData\\Local\\Temp/ipykernel_22908/2385584078.py\u001b[0m in \u001b[0;36m<module>\u001b[1;34m\u001b[0m\n\u001b[1;32m----> 1\u001b[1;33m \u001b[0mmodel\u001b[0m \u001b[1;33m=\u001b[0m \u001b[0mread_sbml_model\u001b[0m\u001b[1;33m(\u001b[0m\u001b[1;34m'iMM904.xml'\u001b[0m\u001b[1;33m)\u001b[0m\u001b[1;33m\u001b[0m\u001b[1;33m\u001b[0m\u001b[0m\n\u001b[0m\u001b[0;32m      2\u001b[0m \u001b[0mmodel\u001b[0m\u001b[1;33m.\u001b[0m\u001b[0madd_boundary\u001b[0m\u001b[1;33m(\u001b[0m\u001b[0mmodel\u001b[0m\u001b[1;33m.\u001b[0m\u001b[0mmetabolites\u001b[0m\u001b[1;33m.\u001b[0m\u001b[0mpheme_m\u001b[0m\u001b[1;33m,\u001b[0m \u001b[0mtype\u001b[0m\u001b[1;33m=\u001b[0m\u001b[1;34m'demand'\u001b[0m\u001b[1;33m)\u001b[0m\u001b[1;33m\u001b[0m\u001b[1;33m\u001b[0m\u001b[0m\n",
      "\u001b[1;32m~\\Anaconda\\lib\\site-packages\\cobra\\io\\sbml.py\u001b[0m in \u001b[0;36mread_sbml_model\u001b[1;34m(filename, number, f_replace, **kwargs)\u001b[0m\n\u001b[0;32m    250\u001b[0m         \u001b[1;32mreturn\u001b[0m \u001b[0m_sbml_to_model\u001b[0m\u001b[1;33m(\u001b[0m\u001b[0mdoc\u001b[0m\u001b[1;33m,\u001b[0m \u001b[0mnumber\u001b[0m\u001b[1;33m=\u001b[0m\u001b[0mnumber\u001b[0m\u001b[1;33m,\u001b[0m \u001b[0mf_replace\u001b[0m\u001b[1;33m=\u001b[0m\u001b[0mf_replace\u001b[0m\u001b[1;33m,\u001b[0m \u001b[1;33m**\u001b[0m\u001b[0mkwargs\u001b[0m\u001b[1;33m)\u001b[0m\u001b[1;33m\u001b[0m\u001b[1;33m\u001b[0m\u001b[0m\n\u001b[0;32m    251\u001b[0m     \u001b[1;32mexcept\u001b[0m \u001b[0mIOError\u001b[0m \u001b[1;32mas\u001b[0m \u001b[0me\u001b[0m\u001b[1;33m:\u001b[0m\u001b[1;33m\u001b[0m\u001b[1;33m\u001b[0m\u001b[0m\n\u001b[1;32m--> 252\u001b[1;33m         \u001b[1;32mraise\u001b[0m \u001b[0me\u001b[0m\u001b[1;33m\u001b[0m\u001b[1;33m\u001b[0m\u001b[0m\n\u001b[0m\u001b[0;32m    253\u001b[0m \u001b[1;33m\u001b[0m\u001b[0m\n\u001b[0;32m    254\u001b[0m     \u001b[1;32mexcept\u001b[0m \u001b[0mException\u001b[0m \u001b[1;32mas\u001b[0m \u001b[0moriginal_error\u001b[0m\u001b[1;33m:\u001b[0m\u001b[1;33m\u001b[0m\u001b[1;33m\u001b[0m\u001b[0m\n",
      "\u001b[1;32m~\\Anaconda\\lib\\site-packages\\cobra\\io\\sbml.py\u001b[0m in \u001b[0;36mread_sbml_model\u001b[1;34m(filename, number, f_replace, **kwargs)\u001b[0m\n\u001b[0;32m    247\u001b[0m     \"\"\"\n\u001b[0;32m    248\u001b[0m     \u001b[1;32mtry\u001b[0m\u001b[1;33m:\u001b[0m\u001b[1;33m\u001b[0m\u001b[1;33m\u001b[0m\u001b[0m\n\u001b[1;32m--> 249\u001b[1;33m         \u001b[0mdoc\u001b[0m \u001b[1;33m=\u001b[0m \u001b[0m_get_doc_from_filename\u001b[0m\u001b[1;33m(\u001b[0m\u001b[0mfilename\u001b[0m\u001b[1;33m)\u001b[0m\u001b[1;33m\u001b[0m\u001b[1;33m\u001b[0m\u001b[0m\n\u001b[0m\u001b[0;32m    250\u001b[0m         \u001b[1;32mreturn\u001b[0m \u001b[0m_sbml_to_model\u001b[0m\u001b[1;33m(\u001b[0m\u001b[0mdoc\u001b[0m\u001b[1;33m,\u001b[0m \u001b[0mnumber\u001b[0m\u001b[1;33m=\u001b[0m\u001b[0mnumber\u001b[0m\u001b[1;33m,\u001b[0m \u001b[0mf_replace\u001b[0m\u001b[1;33m=\u001b[0m\u001b[0mf_replace\u001b[0m\u001b[1;33m,\u001b[0m \u001b[1;33m**\u001b[0m\u001b[0mkwargs\u001b[0m\u001b[1;33m)\u001b[0m\u001b[1;33m\u001b[0m\u001b[1;33m\u001b[0m\u001b[0m\n\u001b[0;32m    251\u001b[0m     \u001b[1;32mexcept\u001b[0m \u001b[0mIOError\u001b[0m \u001b[1;32mas\u001b[0m \u001b[0me\u001b[0m\u001b[1;33m:\u001b[0m\u001b[1;33m\u001b[0m\u001b[1;33m\u001b[0m\u001b[0m\n",
      "\u001b[1;32m~\\Anaconda\\lib\\site-packages\\cobra\\io\\sbml.py\u001b[0m in \u001b[0;36m_get_doc_from_filename\u001b[1;34m(filename)\u001b[0m\n\u001b[0;32m    290\u001b[0m             \u001b[1;31m# string representation\u001b[0m\u001b[1;33m\u001b[0m\u001b[1;33m\u001b[0m\u001b[1;33m\u001b[0m\u001b[0m\n\u001b[0;32m    291\u001b[0m             \u001b[1;32mif\u001b[0m \u001b[1;34m\"<sbml\"\u001b[0m \u001b[1;32mnot\u001b[0m \u001b[1;32min\u001b[0m \u001b[0mfilename\u001b[0m\u001b[1;33m:\u001b[0m\u001b[1;33m\u001b[0m\u001b[1;33m\u001b[0m\u001b[0m\n\u001b[1;32m--> 292\u001b[1;33m                 raise IOError(\n\u001b[0m\u001b[0;32m    293\u001b[0m                     \u001b[1;34m\"The file with 'filename' does not exist, \"\u001b[0m\u001b[1;33m\u001b[0m\u001b[1;33m\u001b[0m\u001b[0m\n\u001b[0;32m    294\u001b[0m                     \u001b[1;34m\"or is not an SBML string. Provide the path to \"\u001b[0m\u001b[1;33m\u001b[0m\u001b[1;33m\u001b[0m\u001b[0m\n",
      "\u001b[1;31mOSError\u001b[0m: [Errno The file with 'filename' does not exist, or is not an SBML string. Provide the path to an existing SBML file or a valid SBML string representation: \n%s] iMM904.xml"
     ]
    }
   ],
   "source": [
    "model = read_sbml_model('iMM904.xml')\n",
    "model.add_boundary(model.metabolites.pheme_m, type='demand')"
   ]
  },
  {
   "cell_type": "code",
   "execution_count": null,
   "id": "46075e03-6a44-4687-bbda-65da360e8619",
   "metadata": {},
   "outputs": [],
   "source": [
    "optgene = OptGene(model)"
   ]
  },
  {
   "cell_type": "code",
   "execution_count": null,
   "id": "adaf0fa7-e4ef-4a32-82a7-4334512c6951",
   "metadata": {},
   "outputs": [],
   "source": [
    "result = optgene.run(target=model.reactions.FCLTm,\n",
    "                     biomass=model.reactions.BIOMASS_SC5_notrace,\n",
    "                     substrate=model.metabolites.glc__D_e,\n",
    "                     max_knockouts=5,\n",
    "                     max_evaluations=100000,\n",
    "                     plot=False)"
   ]
  },
  {
   "cell_type": "code",
   "execution_count": null,
   "id": "72f6dc93-9f0b-4f99-ad17-efd2985dedf8",
   "metadata": {},
   "outputs": [],
   "source": [
    "result"
   ]
  },
  {
   "cell_type": "markdown",
   "id": "c66a550a-0b29-4da2-bfe3-a086222b39c4",
   "metadata": {},
   "source": [
    "Note that with 100.000 evaluations, there is still no results (even for max_knockouts = 5 (default)) -> this took 1,5 h\n",
    "\n",
    "Test with the reaction from the tutorial (EX_ace_e), just to make sure that everything is correct with the model etc."
   ]
  },
  {
   "cell_type": "code",
   "execution_count": null,
   "id": "4f8f611e-cdd0-4459-b988-b0af465778a0",
   "metadata": {},
   "outputs": [],
   "source": [
    "result1 = optgene.run(target=model.reactions.EX_ac_e,\n",
    "                     biomass=model.reactions.BIOMASS_SC5_notrace,\n",
    "                     substrate=model.metabolites.glc__D_e,\n",
    "                     max_knockouts=5,\n",
    "                     max_evaluations=1000,\n",
    "                     plot=False)"
   ]
  },
  {
   "cell_type": "code",
   "execution_count": null,
   "id": "e3e17f0a-fcba-403e-9dd3-5db5d0322512",
   "metadata": {},
   "outputs": [],
   "source": [
    "result1"
   ]
  },
  {
   "cell_type": "markdown",
   "id": "78146f62-ce1c-471b-a4ad-15a7fec08ad7",
   "metadata": {},
   "source": [
    "Conclusion: everything seems to work"
   ]
  },
  {
   "cell_type": "code",
   "execution_count": null,
   "id": "1ddff0f5-ef54-424a-a0d5-f829d42dff0f",
   "metadata": {},
   "outputs": [],
   "source": []
  },
  {
   "cell_type": "code",
   "execution_count": null,
   "id": "8257ddd2-bb86-46c2-ae1d-c353a9854ef2",
   "metadata": {},
   "outputs": [],
   "source": []
  },
  {
   "cell_type": "markdown",
   "id": "4b8e5ee0-030e-4727-a2b4-442a370dba20",
   "metadata": {},
   "source": [
    "# Optknock"
   ]
  },
  {
   "cell_type": "markdown",
   "id": "14231ecf-4dcf-4718-b7fb-c0a295013f76",
   "metadata": {},
   "source": [
    "Tried to use other solver, because it was mad, but we don't have license...\n",
    "* pip install optlang\n",
    "* from optlang import gurobi_interface \n",
    "* I uninstalled the package again: pip uninstall optlang\n",
    "\n",
    "Tried installing cplex, because they also recommend that in '? optknock', but that didn't work with the current version of python..."
   ]
  },
  {
   "cell_type": "code",
   "execution_count": 9,
   "id": "848df497-3b90-43bd-b025-d9cccda3038a",
   "metadata": {},
   "outputs": [],
   "source": [
    "from cobra.io import read_sbml_model\n",
    "from cameo.strain_design import OptKnock"
   ]
  },
  {
   "cell_type": "code",
   "execution_count": null,
   "id": "c8d426f8-4cd1-48e6-9db2-300b3a6fb516",
   "metadata": {},
   "outputs": [],
   "source": [
    "model = read_sbml_model('iMM904.xml')\n",
    "model.add_boundary(model.metabolites.pheme_m, type='demand')"
   ]
  },
  {
   "cell_type": "code",
   "execution_count": null,
   "id": "74e0bfc3-07a6-4e9c-9898-f38390d775ab",
   "metadata": {},
   "outputs": [],
   "source": [
    "model.solver = 'glpk'"
   ]
  },
  {
   "cell_type": "code",
   "execution_count": null,
   "id": "33d3e638-d103-42ce-a440-61b220c5b588",
   "metadata": {},
   "outputs": [],
   "source": [
    "optknock = OptKnock(model, fraction_of_optimum=0.1)"
   ]
  },
  {
   "cell_type": "code",
   "execution_count": null,
   "id": "339a9fb9-2285-4f05-8ed7-f2f42bd386b8",
   "metadata": {},
   "outputs": [],
   "source": [
    "result = optknock.run(max_knockouts=1, target=\"FCLTm\", biomass=\"BIOMASS_SC5_notrace\")"
   ]
  },
  {
   "cell_type": "code",
   "execution_count": null,
   "id": "08a056c7-691c-439e-9e61-7669951022b0",
   "metadata": {},
   "outputs": [],
   "source": [
    "result"
   ]
  },
  {
   "cell_type": "code",
   "execution_count": 10,
   "id": "840e42fd-81bf-40aa-bebc-153a22743437",
   "metadata": {},
   "outputs": [
    {
     "ename": "NameError",
     "evalue": "name 'result' is not defined",
     "output_type": "error",
     "traceback": [
      "\u001b[1;31m---------------------------------------------------------------------------\u001b[0m",
      "\u001b[1;31mNameError\u001b[0m                                 Traceback (most recent call last)",
      "\u001b[1;32m~\\AppData\\Local\\Temp/ipykernel_22908/3956799749.py\u001b[0m in \u001b[0;36m<module>\u001b[1;34m\u001b[0m\n\u001b[1;32m----> 1\u001b[1;33m \u001b[0mresult\u001b[0m\u001b[1;33m.\u001b[0m\u001b[0mplot\u001b[0m\u001b[1;33m(\u001b[0m\u001b[0mplotter\u001b[0m\u001b[1;33m,\u001b[0m \u001b[1;36m0\u001b[0m\u001b[1;33m)\u001b[0m\u001b[1;33m\u001b[0m\u001b[1;33m\u001b[0m\u001b[0m\n\u001b[0m",
      "\u001b[1;31mNameError\u001b[0m: name 'result' is not defined"
     ]
    }
   ],
   "source": [
    "result.plot(plotter, 0)"
   ]
  },
  {
   "cell_type": "code",
   "execution_count": 11,
   "id": "861cecbb-bec5-4f88-ae3d-0e5560dbdade",
   "metadata": {},
   "outputs": [
    {
     "name": "stdout",
     "output_type": "stream",
     "text": [
      "Object ` optknock` not found.\n"
     ]
    }
   ],
   "source": [
    "? optknock"
   ]
  },
  {
   "cell_type": "code",
   "execution_count": null,
   "id": "fe5a29de-b833-47d8-90a6-3646bb8e7be0",
   "metadata": {},
   "outputs": [],
   "source": []
  }
 ],
 "metadata": {
  "kernelspec": {
   "display_name": "Python 3 (ipykernel)",
   "language": "python",
   "name": "python3"
  },
  "language_info": {
   "codemirror_mode": {
    "name": "ipython",
    "version": 3
   },
   "file_extension": ".py",
   "mimetype": "text/x-python",
   "name": "python",
   "nbconvert_exporter": "python",
   "pygments_lexer": "ipython3",
   "version": "3.8.8"
  }
 },
 "nbformat": 4,
 "nbformat_minor": 5
}
