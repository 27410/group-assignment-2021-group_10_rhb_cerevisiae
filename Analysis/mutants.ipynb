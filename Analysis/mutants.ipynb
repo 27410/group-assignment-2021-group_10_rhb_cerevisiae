{
 "cells": [
  {
   "cell_type": "markdown",
   "id": "24087d3d-c5d9-467e-a8d2-cee9f37e120f",
   "metadata": {},
   "source": [
    "antag at hele syntesevejen kan til heme trækkes fra heme_pathway.ipynb\n",
    "antag at mediet er blevet ændret i media.ipynb\n",
    "\n",
    "Definér mutanter så de kan bruges i andre filer til karakteriseringer som udbytte af biomasse, heme, osv., osv. :D Gerne som funktioner eller Classes"
   ]
  },
  {
   "cell_type": "code",
   "execution_count": null,
   "id": "35638d40-e92c-4989-964e-02210d3f1883",
   "metadata": {},
   "outputs": [],
   "source": []
  },
  {
   "cell_type": "markdown",
   "id": "97dc0c2b-6834-4831-8ea4-0d39a3cd7334",
   "metadata": {},
   "source": [
    "Knockout af HAP1"
   ]
  },
  {
   "cell_type": "code",
   "execution_count": null,
   "id": "09a707d6-fba4-4765-9cac-e49cd5745880",
   "metadata": {},
   "outputs": [],
   "source": []
  },
  {
   "cell_type": "markdown",
   "id": "49509614-c15e-40a6-add6-424fbb618741",
   "metadata": {},
   "source": [
    "Opregulering af HEM2, HEM3, HEM13 og HEM 15"
   ]
  },
  {
   "cell_type": "code",
   "execution_count": null,
   "id": "8257ddd2-bb86-46c2-ae1d-c353a9854ef2",
   "metadata": {},
   "outputs": [],
   "source": []
  },
  {
   "cell_type": "code",
   "execution_count": null,
   "id": "5a8f921d-88d9-442c-97e7-ca5ce337eb38",
   "metadata": {},
   "outputs": [],
   "source": []
  },
  {
   "cell_type": "markdown",
   "id": "a9e21217-fbc4-4d4f-a0d3-81cce7323531",
   "metadata": {},
   "source": [
    "Forskellige grader af nedreguleret YFH1 (Binder jern med svovl I mitokondrien. Knockout giver super dårlig vækst. Prøv eventuelt en nedregulering - find en serie af fluxen.)"
   ]
  },
  {
   "cell_type": "code",
   "execution_count": null,
   "id": "848df497-3b90-43bd-b025-d9cccda3038a",
   "metadata": {},
   "outputs": [],
   "source": []
  },
  {
   "cell_type": "code",
   "execution_count": null,
   "id": "99818e4a-b7af-48e9-b763-d12d9045d636",
   "metadata": {},
   "outputs": [],
   "source": []
  },
  {
   "cell_type": "code",
   "execution_count": null,
   "id": "6f71b087-79aa-4398-a5e6-238567b9678e",
   "metadata": {},
   "outputs": [],
   "source": []
  }
 ],
 "metadata": {
  "kernelspec": {
   "display_name": "Python 3",
   "language": "python",
   "name": "python3"
  },
  "language_info": {
   "codemirror_mode": {
    "name": "ipython",
    "version": 3
   },
   "file_extension": ".py",
   "mimetype": "text/x-python",
   "name": "python",
   "nbconvert_exporter": "python",
   "pygments_lexer": "ipython3",
   "version": "3.6.13"
  }
 },
 "nbformat": 4,
 "nbformat_minor": 5
}
