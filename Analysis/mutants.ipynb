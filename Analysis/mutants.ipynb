{
 "cells": [
  {
   "cell_type": "markdown",
   "id": "24087d3d-c5d9-467e-a8d2-cee9f37e120f",
   "metadata": {},
   "source": [
    "antag at hele syntesevejen kan til heme trækkes fra heme_pathway.ipynb\n",
    "antag at mediet er blevet ændret i media.ipynb\n",
    "\n",
    "Definér mutanter så de kan bruges i andre filer til karakteriseringer som udbytte af biomasse, heme, osv., osv. :D Gerne som funktioner eller Classes\n",
    "\n",
    "Opregulering af HEM2, HEM3, HEM13 og HEM 15\n",
    "\n",
    "Forskellige grader af nedreguleret YFH1 (Binder jern med svovl I mitokondrien. Knockout giver super dårlig vækst. Prøv eventuelt en nedregulering - find en serie af fluxen.)\n",
    "\n",
    "Knockout af HAP1\n",
    "\n",
    "\n",
    "<span style=\"color:red\"> Caro note: Jeg tror ikke man kan knocke HAP1 ud, hvor den deltager i regulering (synes det ligner, at det er en aktivator) -> man kan vist kun knocke enzymer ud </span>"
   ]
  },
  {
   "cell_type": "code",
   "execution_count": null,
   "id": "35638d40-e92c-4989-964e-02210d3f1883",
   "metadata": {},
   "outputs": [],
   "source": []
  },
  {
   "cell_type": "code",
   "execution_count": null,
   "id": "f3eb1513-64af-4a89-8a5c-b3073742751c",
   "metadata": {},
   "outputs": [],
   "source": []
  },
  {
   "cell_type": "code",
   "execution_count": null,
   "id": "c48c79fa-9db7-4c61-aff3-bda25179b896",
   "metadata": {},
   "outputs": [],
   "source": []
  },
  {
   "cell_type": "code",
   "execution_count": 1,
   "id": "e818117b-d2a9-4ed1-abac-c2f0281b92d2",
   "metadata": {},
   "outputs": [],
   "source": [
    "from cameo.visualization.plotting.with_plotly import PlotlyPlotter\n",
    "from cameo.strain_design import OptGene\n",
    "from cobra.io import read_sbml_model\n",
    "from cobra import Reaction, Metabolite"
   ]
  },
  {
   "cell_type": "code",
   "execution_count": 2,
   "id": "356a3407-b3f9-4a06-ad94-904a6018df59",
   "metadata": {},
   "outputs": [
    {
     "data": {
      "text/html": [
       "\n",
       "        <table>\n",
       "            <tr>\n",
       "                <td><strong>Reaction identifier</strong></td><td>DM_pheme_m</td>\n",
       "            </tr><tr>\n",
       "                <td><strong>Name</strong></td><td>Protoheme C34H30FeN4O4 demand</td>\n",
       "            </tr><tr>\n",
       "                <td><strong>Memory address</strong></td>\n",
       "                <td>0x0205368d45e0</td>\n",
       "            </tr><tr>\n",
       "                <td><strong>Stoichiometry</strong></td>\n",
       "                <td>\n",
       "                    <p style='text-align:right'>pheme_m --></p>\n",
       "                    <p style='text-align:right'>Protoheme C34H30FeN4O4 --></p>\n",
       "                </td>\n",
       "            </tr><tr>\n",
       "                <td><strong>GPR</strong></td><td></td>\n",
       "            </tr><tr>\n",
       "                <td><strong>Lower bound</strong></td><td>0</td>\n",
       "            </tr><tr>\n",
       "                <td><strong>Upper bound</strong></td><td>1000.0</td>\n",
       "            </tr>\n",
       "        </table>\n",
       "        "
      ],
      "text/plain": [
       "<Reaction DM_pheme_m at 0x205368d45e0>"
      ]
     },
     "execution_count": 2,
     "metadata": {},
     "output_type": "execute_result"
    }
   ],
   "source": [
    "model = read_sbml_model('iMM904.xml')\n",
    "model.add_boundary(model.metabolites.pheme_m, type='demand')"
   ]
  },
  {
   "cell_type": "code",
   "execution_count": 3,
   "id": "46075e03-6a44-4687-bbda-65da360e8619",
   "metadata": {},
   "outputs": [],
   "source": [
    "optgene = OptGene(model)"
   ]
  },
  {
   "cell_type": "code",
   "execution_count": 8,
   "id": "adaf0fa7-e4ef-4a32-82a7-4334512c6951",
   "metadata": {},
   "outputs": [
    {
     "name": "stdout",
     "output_type": "stream",
     "text": [
      "Starting optimization at Tue, 02 Nov 2021 15:34:18\n"
     ]
    },
    {
     "data": {
      "application/vnd.jupyter.widget-view+json": {
       "model_id": "139d5cfe84244bda96c0d108e06919d8",
       "version_major": 2,
       "version_minor": 0
      },
      "text/plain": [
       "HBox()"
      ]
     },
     "metadata": {},
     "output_type": "display_data"
    },
    {
     "name": "stdout",
     "output_type": "stream",
     "text": [
      "Finished after 00:09:17\n"
     ]
    }
   ],
   "source": [
    "result = optgene.run(target=model.reactions.FCLTm,\n",
    "                     biomass=model.reactions.BIOMASS_SC5_notrace,\n",
    "                     substrate=model.metabolites.glc__D_e,\n",
    "                     max_evaluations=10000,\n",
    "                     plot=False)"
   ]
  },
  {
   "cell_type": "code",
   "execution_count": 9,
   "id": "72f6dc93-9f0b-4f99-ad17-efd2985dedf8",
   "metadata": {},
   "outputs": [
    {
     "name": "stderr",
     "output_type": "stream",
     "text": [
      "No solutions found\n"
     ]
    },
    {
     "data": {
      "text/html": [
       "\n",
       "        <h3>OptGene Result</h3>\n",
       "        <ul>\n",
       "            <li>Simulation: fba<br/></li>\n",
       "            <li>Objective Function: $$bpcy = \\frac{(BIOMASS\\_SC5\\_notrace * FCLTm)}{EX\\_glc\\_\\_D\\_e}$$<br/></li>\n",
       "        </ul>\n",
       "        <div>\n",
       "<style scoped>\n",
       "    .dataframe tbody tr th:only-of-type {\n",
       "        vertical-align: middle;\n",
       "    }\n",
       "\n",
       "    .dataframe tbody tr th {\n",
       "        vertical-align: top;\n",
       "    }\n",
       "\n",
       "    .dataframe thead th {\n",
       "        text-align: right;\n",
       "    }\n",
       "</style>\n",
       "<table border=\"1\" class=\"dataframe\">\n",
       "  <thead>\n",
       "    <tr style=\"text-align: right;\">\n",
       "      <th></th>\n",
       "      <th>reactions</th>\n",
       "      <th>genes</th>\n",
       "      <th>size</th>\n",
       "      <th>fva_min</th>\n",
       "      <th>fva_max</th>\n",
       "      <th>target_flux</th>\n",
       "      <th>biomass_flux</th>\n",
       "      <th>yield</th>\n",
       "      <th>fitness</th>\n",
       "    </tr>\n",
       "  </thead>\n",
       "  <tbody>\n",
       "  </tbody>\n",
       "</table>\n",
       "</div>\n",
       "        "
      ],
      "text/plain": [
       "<cameo.strain_design.heuristic.evolutionary_based.OptGeneResult at 0x2053d0a7c70>"
      ]
     },
     "execution_count": 9,
     "metadata": {},
     "output_type": "execute_result"
    }
   ],
   "source": [
    "result"
   ]
  },
  {
   "cell_type": "code",
   "execution_count": null,
   "id": "cee57f6d-f257-465f-9130-0eb6abe6e6e4",
   "metadata": {},
   "outputs": [],
   "source": []
  },
  {
   "cell_type": "code",
   "execution_count": null,
   "id": "4f8f611e-cdd0-4459-b988-b0af465778a0",
   "metadata": {},
   "outputs": [],
   "source": []
  },
  {
   "cell_type": "code",
   "execution_count": null,
   "id": "e3e17f0a-fcba-403e-9dd3-5db5d0322512",
   "metadata": {},
   "outputs": [],
   "source": []
  },
  {
   "cell_type": "code",
   "execution_count": null,
   "id": "f18dff02-a74e-4fc1-8575-8ba4c68dc54f",
   "metadata": {},
   "outputs": [],
   "source": []
  },
  {
   "cell_type": "code",
   "execution_count": null,
   "id": "1ddff0f5-ef54-424a-a0d5-f829d42dff0f",
   "metadata": {},
   "outputs": [],
   "source": []
  },
  {
   "cell_type": "code",
   "execution_count": null,
   "id": "8257ddd2-bb86-46c2-ae1d-c353a9854ef2",
   "metadata": {},
   "outputs": [],
   "source": []
  },
  {
   "cell_type": "code",
   "execution_count": null,
   "id": "5a8f921d-88d9-442c-97e7-ca5ce337eb38",
   "metadata": {},
   "outputs": [],
   "source": []
  },
  {
   "cell_type": "markdown",
   "id": "a9e21217-fbc4-4d4f-a0d3-81cce7323531",
   "metadata": {},
   "source": []
  },
  {
   "cell_type": "code",
   "execution_count": null,
   "id": "848df497-3b90-43bd-b025-d9cccda3038a",
   "metadata": {},
   "outputs": [],
   "source": []
  },
  {
   "cell_type": "code",
   "execution_count": null,
   "id": "840e42fd-81bf-40aa-bebc-153a22743437",
   "metadata": {},
   "outputs": [],
   "source": []
  },
  {
   "cell_type": "markdown",
   "id": "110cd4bf-328d-4db7-927f-4b2b314430f3",
   "metadata": {},
   "source": [
    "## Import of model and stuff"
   ]
  },
  {
   "cell_type": "code",
   "execution_count": null,
   "id": "7b1a12fd-4e76-4e44-a486-dc4b53422406",
   "metadata": {},
   "outputs": [],
   "source": [
    "#! pip install plotly\n",
    "# ! pip install bokeh"
   ]
  },
  {
   "cell_type": "code",
   "execution_count": null,
   "id": "99818e4a-b7af-48e9-b763-d12d9045d636",
   "metadata": {},
   "outputs": [],
   "source": [
    "from cobra.io import read_sbml_model\n",
    "from cobra import Reaction, Metabolite\n",
    "import plotly\n",
    "import bokeh"
   ]
  },
  {
   "cell_type": "markdown",
   "id": "f42df20f-675f-4233-9985-a765e1ef5fda",
   "metadata": {},
   "source": [
    "Name of biomass reaction: BIOMASS_SC5_notrace"
   ]
  },
  {
   "cell_type": "markdown",
   "id": "9894477f-5fe9-4b61-9776-9f156e038cf6",
   "metadata": {},
   "source": [
    "# Follow OptGene tutorial \n",
    "https://cameo.bio/05-predict-gene-knockout-strategies.html"
   ]
  },
  {
   "cell_type": "code",
   "execution_count": null,
   "id": "2b52f957-2173-4bab-aae4-85e04ade1a4d",
   "metadata": {},
   "outputs": [],
   "source": [
    "from cameo import models\n",
    "from cameo import phenotypic_phase_plane\n",
    "from cameo.strain_design import OptGene\n",
    "from cameo.visualization import plotting\n",
    "\n",
    "from cameo.visualization.plotting.with_plotly import PlotlyPlotter\n",
    "#plotter1 = PlotlyPlotter() "
   ]
  },
  {
   "cell_type": "code",
   "execution_count": null,
   "id": "81cabf57-66b0-4d69-999d-60cafcf20b7a",
   "metadata": {},
   "outputs": [],
   "source": [
    "ecoli_model = models.bigg.iJO1366\n",
    "wt_solution = ecoli_model.optimize()\n",
    "growth = wt_solution.fluxes[\"BIOMASS_Ec_iJO1366_core_53p95M\"]\n",
    "acetate_production = wt_solution.fluxes[\"EX_ac_e\"]"
   ]
  },
  {
   "cell_type": "code",
   "execution_count": null,
   "id": "64d7253f-8bf2-4064-87af-4a9dc043f048",
   "metadata": {},
   "outputs": [],
   "source": [
    "p = phenotypic_phase_plane(ecoli_model, variables=['BIOMASS_Ec_iJO1366_core_53p95M'], objective='EX_ac_e')"
   ]
  },
  {
   "cell_type": "code",
   "execution_count": null,
   "id": "f4335a06-bf49-4be0-a827-eb84ad6cdd1e",
   "metadata": {},
   "outputs": [],
   "source": [
    "p.plot(points=[(growth, acetate_production)])"
   ]
  },
  {
   "cell_type": "code",
   "execution_count": null,
   "id": "fa98b87b-5f64-4599-9dc5-c794c43b0d07",
   "metadata": {},
   "outputs": [],
   "source": [
    "optgene = OptGene(ecoli_model)"
   ]
  },
  {
   "cell_type": "code",
   "execution_count": null,
   "id": "0b454292-e5d4-429f-8ee1-c45be7cce071",
   "metadata": {},
   "outputs": [],
   "source": [
    "result = optgene.run(target=ecoli_model.reactions.EX_ac_e,\n",
    "                     biomass=ecoli_model.reactions.BIOMASS_Ec_iJO1366_core_53p95M,\n",
    "                     substrate=ecoli_model.metabolites.glc__D_e,\n",
    "                     max_evaluations=500,\n",
    "                     plot=False)"
   ]
  },
  {
   "cell_type": "code",
   "execution_count": null,
   "id": "71cf46f3-8fc3-4d99-8d14-ce2ad82b64cf",
   "metadata": {},
   "outputs": [],
   "source": [
    "result"
   ]
  },
  {
   "cell_type": "code",
   "execution_count": null,
   "id": "22fd3a4d-85f7-4639-8482-edbbddb6bb2b",
   "metadata": {},
   "outputs": [],
   "source": [
    "result.plot(plotter)"
   ]
  },
  {
   "cell_type": "code",
   "execution_count": null,
   "id": "a5772868-5ba9-4863-977a-ba9b97674650",
   "metadata": {},
   "outputs": [],
   "source": []
  },
  {
   "cell_type": "markdown",
   "id": "7a61473e-e2d1-468f-bdb7-a2ec1338a5d0",
   "metadata": {},
   "source": [
    "# _____________________________________________________________________________________"
   ]
  },
  {
   "cell_type": "markdown",
   "id": "035222d0-fe76-4848-b1fa-06f9d20ae554",
   "metadata": {},
   "source": [
    "# OptGene with our own model\n",
    "\n",
    "Documentation for the Cameo OptGene: https://cameo.bio/05-predict-gene-knockout-strategies.html"
   ]
  },
  {
   "cell_type": "code",
   "execution_count": null,
   "id": "e8c8c864-364c-4fce-943c-57bf89bf4d57",
   "metadata": {},
   "outputs": [],
   "source": [
    "#! pip install cameo"
   ]
  },
  {
   "cell_type": "code",
   "execution_count": null,
   "id": "cd2ee18d-35e6-4b97-9f32-de0e3783e14e",
   "metadata": {},
   "outputs": [],
   "source": [
    "model = read_sbml_model('iMM904.xml')\n",
    "model.add_boundary(model.metabolites.pheme_m, type='demand')"
   ]
  },
  {
   "cell_type": "code",
   "execution_count": null,
   "id": "70f019ee-eb76-4c8d-8ef4-121f1bbf7ba5",
   "metadata": {},
   "outputs": [],
   "source": [
    "optgene = OptGene(model)"
   ]
  },
  {
   "cell_type": "code",
   "execution_count": null,
   "id": "1fa7985f-9314-4c12-af81-a7cd07f997fc",
   "metadata": {},
   "outputs": [],
   "source": [
    "result_own_model = optgene.run(target=model.reactions.DM_pheme_m,\n",
    "                     biomass=model.reactions.BIOMASS_SC5_notrace,\n",
    "                     substrate=model.metabolites.glc__D_e,\n",
    "                     max_evaluations=500,\n",
    "                     plot=False)"
   ]
  },
  {
   "cell_type": "code",
   "execution_count": null,
   "id": "b99593e1-74b1-4cf2-8216-6f890ace4392",
   "metadata": {},
   "outputs": [],
   "source": [
    "result_own_model"
   ]
  },
  {
   "cell_type": "code",
   "execution_count": null,
   "id": "3dbffb38-35c6-46d3-89ed-4dcf49067df8",
   "metadata": {},
   "outputs": [],
   "source": [
    "result_own_model.plot(0)"
   ]
  },
  {
   "cell_type": "markdown",
   "id": "9b5fef41-c025-4c7b-b348-848acaa124ba",
   "metadata": {},
   "source": [
    "# _____________________________________________________________________________________"
   ]
  },
  {
   "cell_type": "markdown",
   "id": "02b3935a-f7e4-4129-b258-3f0b07cc8b64",
   "metadata": {},
   "source": [
    "# Predict expression modulation targets - tutorial\n",
    "https://cameo.bio/06-predict-gene-modulation-targets.html"
   ]
  },
  {
   "cell_type": "code",
   "execution_count": null,
   "id": "7de668e5-0356-4431-9adb-0ff280290590",
   "metadata": {},
   "outputs": [],
   "source": [
    "from cameo.strain_design.deterministic.flux_variability_based import FSEOF\n",
    "from cameo import models"
   ]
  },
  {
   "cell_type": "code",
   "execution_count": null,
   "id": "499284cf-8211-406c-b837-625c61a21312",
   "metadata": {},
   "outputs": [],
   "source": [
    "from cameo.visualization.plotting.with_plotly import PlotlyPlotter\n",
    "plotter = PlotlyPlotter() \n",
    "\n",
    "#Pages where they have the same problem with missing plotter: \n",
    "#https://githubmemory.com/repo/biosustain/cameo/issues/283 \n",
    "#https://groups.google.com/g/cobra-pie/c/BxrVSl_Uwaw?pli=1"
   ]
  },
  {
   "cell_type": "code",
   "execution_count": null,
   "id": "2eda2dd7-3cb3-4ea1-8aff-8d3e18f5d535",
   "metadata": {},
   "outputs": [],
   "source": [
    "ecoli_model_core = models.bigg.e_coli_core"
   ]
  },
  {
   "cell_type": "code",
   "execution_count": null,
   "id": "a8cab93f-fc48-4d50-b2a9-026247a2f3ab",
   "metadata": {},
   "outputs": [],
   "source": [
    "fseof = FSEOF(ecoli_model_core)"
   ]
  },
  {
   "cell_type": "code",
   "execution_count": null,
   "id": "3d0680d3-9e3b-4be5-b4d8-7e9bec0d51af",
   "metadata": {},
   "outputs": [],
   "source": [
    "fseof.run(target=ecoli_model_core.reactions.EX_succ_e)"
   ]
  },
  {
   "cell_type": "code",
   "execution_count": null,
   "id": "089817c8-d5e2-43ec-9576-b0a89717b6dd",
   "metadata": {},
   "outputs": [],
   "source": [
    "from cameo.flux_analysis.analysis import phenotypic_phase_plane\n",
    "from cameo.strain_design.deterministic import DifferentialFVA"
   ]
  },
  {
   "cell_type": "code",
   "execution_count": null,
   "id": "b6d08a2b-c771-4ff9-afd8-2c175a488e2a",
   "metadata": {},
   "outputs": [],
   "source": [
    "production_envelope = phenotypic_phase_plane(ecoli_model_core,\n",
    "                                             variables=[ecoli_model_core.reactions.BIOMASS_Ecoli_core_w_GAM],\n",
    "                                             objective=ecoli_model_core.metabolites.succ_e)\n",
    "production_envelope.plot(plotter,height=400)"
   ]
  },
  {
   "cell_type": "code",
   "execution_count": null,
   "id": "0c5a94ff-02a0-46bd-bfe3-21f43faf7641",
   "metadata": {},
   "outputs": [],
   "source": [
    "ecoli_model_core.reactions.EX_o2_e.lower_bound = 0\n",
    "reference_model = ecoli_model_core.copy()\n",
    "biomass_rxn = reference_model.reactions.BIOMASS_Ecoli_core_w_GAM\n",
    "biomass_rxn.lower_bound = 0.\n",
    "target = reference_model.metabolites.succ_e"
   ]
  },
  {
   "cell_type": "code",
   "execution_count": null,
   "id": "dfb08f53-d67b-4eb1-b28b-2da36bbecaea",
   "metadata": {},
   "outputs": [],
   "source": [
    "diffFVA = DifferentialFVA(design_space_model=ecoli_model_core,\n",
    "                          reference_model=reference_model,\n",
    "                          objective=target,\n",
    "                          variables=[biomass_rxn],\n",
    "                          normalize_ranges_by=biomass_rxn,\n",
    "                          points=10)"
   ]
  },
  {
   "cell_type": "code",
   "execution_count": null,
   "id": "4d4aeacd-6bc8-4c28-a365-eeaf50a733e0",
   "metadata": {},
   "outputs": [],
   "source": [
    "result = diffFVA.run(surface_only=True)"
   ]
  },
  {
   "cell_type": "code",
   "execution_count": null,
   "id": "cb22db23-7f83-43a6-bfa7-1d34fd340797",
   "metadata": {},
   "outputs": [],
   "source": [
    "result.solutions"
   ]
  },
  {
   "cell_type": "code",
   "execution_count": null,
   "id": "b31df16b-2ee5-4a49-a0b9-dc78e3cd5303",
   "metadata": {},
   "outputs": [],
   "source": [
    "result.plot(plotter, 5, variables=['FBP', 'G6PDH2r', 'PGL', 'PGK'])"
   ]
  },
  {
   "cell_type": "code",
   "execution_count": null,
   "id": "16d02699-6378-405a-b06e-5c831c3c697a",
   "metadata": {},
   "outputs": [],
   "source": [
    "result.display_on_map(2, map_name=\"iJO1366.Central metabolism\")"
   ]
  },
  {
   "cell_type": "code",
   "execution_count": null,
   "id": "4ee0a136-2a1c-4364-ac65-aa61d2484dc3",
   "metadata": {},
   "outputs": [],
   "source": [
    "result.display_on_map(3, map_name=\"iJO1366.Central metabolism\")"
   ]
  },
  {
   "cell_type": "code",
   "execution_count": null,
   "id": "57824122-e84a-4212-91df-60983972a15e",
   "metadata": {},
   "outputs": [],
   "source": []
  },
  {
   "cell_type": "markdown",
   "id": "b1d5f53f-58aa-4983-aaf0-1d0c3245dd88",
   "metadata": {},
   "source": [
    "### Failed OptKnock\n",
    "\n",
    "documentation:\n",
    "* https://cobrapy.readthedocs.io/_/downloads/en/0.5.3/pdf/\n",
    "* https://opencobra.github.io/cobratoolbox/stable/modules/design/index.html?highlight=OptKnock#src.design.OptKnock"
   ]
  },
  {
   "cell_type": "code",
   "execution_count": null,
   "id": "275fd355-1a9d-40cb-91ae-b5db300a1087",
   "metadata": {},
   "outputs": [],
   "source": [
    "#from cobra import Design\n",
    "# Note to self: apparantly the design subpackage is not part of the newest version of cobra..."
   ]
  },
  {
   "cell_type": "code",
   "execution_count": null,
   "id": "7b96482e-025d-47fb-8ea4-b4a011fc9463",
   "metadata": {},
   "outputs": [],
   "source": [
    "#all_reactions = []\n",
    "#for reaction_name in model.reactions:\n",
    "#    all_reactions.append(reaction_name.id)"
   ]
  },
  {
   "cell_type": "code",
   "execution_count": null,
   "id": "03a5cc07-e2c7-4b54-b540-095b1dc5c006",
   "metadata": {},
   "outputs": [],
   "source": [
    "# This cannot be used because the subpackage is not part of this version of cobra\n",
    "\n",
    "#cobra.design.design_algorithms.set_up_optknock(model, \n",
    "#                                               chemical_objective = 'FCLTm', \n",
    "#                                               knockable_reactions = all_reactions,\n",
    "#                                               biomass_objective = 'BIOMASS_SC5_notrace',\n",
    "#                                               n_knockouts = 5)"
   ]
  },
  {
   "cell_type": "code",
   "execution_count": null,
   "id": "d36c6e83-8b79-49d1-bad1-13e76ae93634",
   "metadata": {},
   "outputs": [],
   "source": []
  }
 ],
 "metadata": {
  "kernelspec": {
   "display_name": "Python 3 (ipykernel)",
   "language": "python",
   "name": "python3"
  },
  "language_info": {
   "codemirror_mode": {
    "name": "ipython",
    "version": 3
   },
   "file_extension": ".py",
   "mimetype": "text/x-python",
   "name": "python",
   "nbconvert_exporter": "python",
   "pygments_lexer": "ipython3",
   "version": "3.8.8"
  }
 },
 "nbformat": 4,
 "nbformat_minor": 5
}
