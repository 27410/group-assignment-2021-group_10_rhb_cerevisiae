{
 "cells": [
  {
   "cell_type": "markdown",
   "id": "4b50521f-8ed5-4705-b5b6-b7d4e880ff90",
   "metadata": {},
   "source": [
    "**Reading the Saccharomyces cerevisiae S288C model: iMM904**"
   ]
  },
  {
   "cell_type": "markdown",
   "id": "7e61dfcc-4860-41fe-9284-86bccafede73",
   "metadata": {},
   "source": [
    "Latest BiGG Models publication:\n",
    "\n",
    "King ZA, Lu JS, Dräger A, Miller PC, Federowicz S, Lerman JA, Ebrahim A, Palsson BO, and Lewis NE. BiGG Models: A platform for integrating, standardizing, and sharing genome-scale models (2016) Nucleic Acids Research 44(D1):D515-D522. doi:10.1093/nar/gkv1049"
   ]
  },
  {
   "cell_type": "code",
   "execution_count": 3,
   "id": "75c3bd84-88a9-4f46-bea4-09adb5df3aae",
   "metadata": {},
   "outputs": [],
   "source": [
    "from cobra.io import read_sbml_model, write_sbml_model\n",
    "from cobra import Reaction, Metabolite\n",
    "\n",
    "model = read_sbml_model('models/iMM904.xml')\n",
    "model2 = read_sbml_model(\"model_MODEL1709260000.xml\") # MODEL1709260000 DOI: 10.1002/bit.26905 (https://www.ebi.ac.uk/biomodels/MODEL1709260000#Files)"
   ]
  },
  {
   "cell_type": "code",
   "execution_count": 4,
   "id": "8cbb196d-a1ce-416e-b028-3eb8d18f85f8",
   "metadata": {},
   "outputs": [],
   "source": [
    "write_sbml_model(model, \"model_iMM904.xml\") # saving"
   ]
  },
  {
   "cell_type": "markdown",
   "id": "90ef5cf5-3266-4376-9344-165a2f5cd6eb",
   "metadata": {},
   "source": [
    "# The GSMMs at a glance"
   ]
  },
  {
   "cell_type": "code",
   "execution_count": 13,
   "id": "e1ea63bb-1fe8-480c-946c-3c695d797c41",
   "metadata": {},
   "outputs": [
    {
     "name": "stdout",
     "output_type": "stream",
     "text": [
      "The standard Saccharomyces cerevisiae model contains 905 genes, 1226 metabolites and 1577 reactions.\n",
      "The model with a comprehensive iron metabolism contains 1226 genes, 3543 metabolites and 4822 reactions.\n"
     ]
    }
   ],
   "source": [
    "print(\"The standard Saccharomyces cerevisiae model contains \"+str(len(model.genes))+\" genes, \"+str(len(model.metabolites))+\" metabolites and \"+str(len(model.reactions))+\" reactions.\")\n",
    "print(\"The model with a comprehensive iron metabolism contains \"+str(len(model2.genes))+\" genes, \"+str(len(model2.metabolites))+\" metabolites and \"+str(len(model2.reactions))+\" reactions.\")"
   ]
  },
  {
   "cell_type": "code",
   "execution_count": 14,
   "id": "a2b07df4-7538-4a38-8c3a-81ba1f23b2b5",
   "metadata": {},
   "outputs": [
    {
     "data": {
      "text/plain": [
       "{'charge': -2.0, 'H': -1.0, 'O': 3.0, 'P': 1.0}"
      ]
     },
     "execution_count": 14,
     "metadata": {},
     "output_type": "execute_result"
    }
   ],
   "source": [
    "# Some reactions in the model with a comprehensive iron metabolism are not quite balanced as seen here:\n",
    "r1 = model2.reactions.get_by_id('r_3143')\n",
    "r1.check_mass_balance()"
   ]
  },
  {
   "cell_type": "markdown",
   "id": "717cbcff-a4c6-4d2a-92ab-38a3b4d195f1",
   "metadata": {},
   "source": [
    "## Composition of the medium, and annotations of the metabolites"
   ]
  },
  {
   "cell_type": "markdown",
   "id": "bb2352c2-f366-414d-b466-821b19b3086d",
   "metadata": {},
   "source": [
    "Whereas the standard Saccharomyces cerevisiae S288C model (model1/iMM904) contains a simple media with simple annotations(...)"
   ]
  },
  {
   "cell_type": "code",
   "execution_count": 15,
   "id": "63ab2f06-2977-456d-8938-341621f907d6",
   "metadata": {},
   "outputs": [
    {
     "name": "stdout",
     "output_type": "stream",
     "text": [
      "Fe2+ mitochondria\n",
      "D-Glucose\n",
      "H2O H2O\n",
      "H+\n",
      "Potassium\n",
      "Sodium\n",
      "Sulfate\n",
      "Ammonium\n",
      "O2 O2\n",
      "Phosphate\n"
     ]
    }
   ],
   "source": [
    "for i in range (0,10):\n",
    "    print(model.metabolites.get_by_id(list(model.medium)[i][3:]).name)"
   ]
  },
  {
   "cell_type": "markdown",
   "id": "fb064ab0-db6a-44a3-9dae-4f7a088355c5",
   "metadata": {},
   "source": [
    "(...)The model with a comprehensive iron metabolism (model2) has much more complex metabolite annotations."
   ]
  },
  {
   "cell_type": "code",
   "execution_count": 16,
   "id": "aeb9095e-2a6c-41a7-9229-0784ff82915b",
   "metadata": {},
   "outputs": [
    {
     "name": "stdout",
     "output_type": "stream",
     "text": [
      "(1->3)-beta-D-glucan [boundary]\n",
      "(R)-carnitine [boundary]\n",
      "(R)-lactate [boundary]\n",
      "(R)-mevalonate [boundary]\n",
      "(R)-pantothenate [boundary]\n",
      "(R,R)-2,3-butanediol [boundary]\n",
      "(S)-3-methyl-2-oxopentanoate [boundary]\n",
      "(S)-lactate [boundary]\n",
      "(S)-malate [boundary]\n",
      "1-(sn-glycero-3-phospho)-1D-myo-inositol [boundary]\n"
     ]
    }
   ],
   "source": [
    "for i in range (0,10):\n",
    "    print(model2.metabolites.get_by_id(list(model2.medium)[i][3:]).name)"
   ]
  },
  {
   "cell_type": "code",
   "execution_count": 17,
   "id": "94a5b07e",
   "metadata": {},
   "outputs": [
    {
     "data": {
      "text/plain": [
       "{'EX_fe2_e': 999999.0,\n",
       " 'EX_glc__D_e': 10.0,\n",
       " 'EX_h2o_e': 999999.0,\n",
       " 'EX_h_e': 999999.0,\n",
       " 'EX_k_e': 999999.0,\n",
       " 'EX_na1_e': 999999.0,\n",
       " 'EX_so4_e': 999999.0,\n",
       " 'EX_nh4_e': 999999.0,\n",
       " 'EX_o2_e': 2.0,\n",
       " 'EX_pi_e': 999999.0}"
      ]
     },
     "execution_count": 17,
     "metadata": {},
     "output_type": "execute_result"
    }
   ],
   "source": [
    "model.medium"
   ]
  },
  {
   "cell_type": "code",
   "execution_count": 18,
   "id": "c55f07d9",
   "metadata": {},
   "outputs": [
    {
     "data": {
      "text/plain": [
       "{'EX_s_1656': inf,\n",
       " 'EX_s_1657': inf,\n",
       " 'EX_s_1658': inf,\n",
       " 'EX_s_1659': inf,\n",
       " 'EX_s_1660': inf,\n",
       " 'EX_s_1661': inf,\n",
       " 'EX_s_1662': inf,\n",
       " 'EX_s_1663': inf,\n",
       " 'EX_s_1664': inf,\n",
       " 'EX_s_1665': inf,\n",
       " 'EX_s_1666': inf,\n",
       " 'EX_s_1667': inf,\n",
       " 'EX_s_1668': inf,\n",
       " 'EX_s_1669': inf,\n",
       " 'EX_s_1670': inf,\n",
       " 'EX_s_1672': inf,\n",
       " 'EX_s_1673': inf,\n",
       " 'EX_s_1674': inf,\n",
       " 'EX_s_1675': inf,\n",
       " 'EX_s_1676': inf,\n",
       " 'EX_s_1677': inf,\n",
       " 'EX_s_1678': inf,\n",
       " 'EX_s_1679': inf,\n",
       " 'EX_s_1680': inf,\n",
       " 'EX_s_1681': inf,\n",
       " 'EX_s_1682': inf,\n",
       " 'EX_s_1683': inf,\n",
       " 'EX_s_1684': inf,\n",
       " 'EX_s_1685': inf,\n",
       " 'EX_s_1686': inf,\n",
       " 'EX_s_1687': inf,\n",
       " 'EX_s_1688': inf,\n",
       " 'EX_s_1689': inf,\n",
       " 'EX_s_1690': inf,\n",
       " 'EX_s_1691': inf,\n",
       " 'EX_s_1692': inf,\n",
       " 'EX_s_1693': inf,\n",
       " 'EX_s_1694': inf,\n",
       " 'EX_s_1695': inf,\n",
       " 'EX_s_1696': inf,\n",
       " 'EX_s_1697': inf,\n",
       " 'EX_s_1698': inf,\n",
       " 'EX_s_1699': inf,\n",
       " 'EX_s_1700': inf,\n",
       " 'EX_s_1701': inf,\n",
       " 'EX_s_1702': inf,\n",
       " 'EX_s_1703': inf,\n",
       " 'EX_s_1704': inf,\n",
       " 'EX_s_1705': inf,\n",
       " 'EX_s_1706': inf,\n",
       " 'EX_s_1707': inf,\n",
       " 'EX_s_1708': inf,\n",
       " 'EX_s_1709': inf,\n",
       " 'EX_s_1710': inf,\n",
       " 'EX_s_1711': inf,\n",
       " 'EX_s_1712': inf,\n",
       " 'EX_s_1713': inf,\n",
       " 'EX_s_1714': inf,\n",
       " 'EX_s_1715': inf,\n",
       " 'EX_s_1716': inf,\n",
       " 'EX_s_1717': inf,\n",
       " 'EX_s_1719': inf,\n",
       " 'EX_s_1720': inf,\n",
       " 'EX_s_1721': inf,\n",
       " 'EX_s_1722': inf,\n",
       " 'EX_s_1723': inf,\n",
       " 'EX_s_1725': inf,\n",
       " 'EX_s_1726': inf,\n",
       " 'EX_s_1727': inf,\n",
       " 'EX_s_1728': inf,\n",
       " 'EX_s_1729': inf,\n",
       " 'EX_s_1730': inf,\n",
       " 'EX_s_1731': inf,\n",
       " 'EX_s_1732': inf,\n",
       " 'EX_s_1733': inf,\n",
       " 'EX_s_1734': inf,\n",
       " 'EX_s_1735': inf,\n",
       " 'EX_s_1736': inf,\n",
       " 'EX_s_1737': inf,\n",
       " 'EX_s_1738': inf,\n",
       " 'EX_s_1739': inf,\n",
       " 'EX_s_1740': inf,\n",
       " 'EX_s_1741': inf,\n",
       " 'EX_s_1742': inf,\n",
       " 'EX_s_1743': inf,\n",
       " 'EX_s_1744': inf,\n",
       " 'EX_s_1745': inf,\n",
       " 'EX_s_1746': inf,\n",
       " 'EX_s_1747': inf,\n",
       " 'EX_s_1748': inf,\n",
       " 'EX_s_1749': inf,\n",
       " 'EX_s_1750': inf,\n",
       " 'EX_s_1751': inf,\n",
       " 'EX_s_1752': inf,\n",
       " 'EX_s_1753': inf,\n",
       " 'EX_s_1754': inf,\n",
       " 'EX_s_1755': inf,\n",
       " 'EX_s_1756': inf,\n",
       " 'EX_s_1757': inf,\n",
       " 'EX_s_1758': inf,\n",
       " 'EX_s_1759': inf,\n",
       " 'EX_s_1760': inf,\n",
       " 'EX_s_1761': inf,\n",
       " 'EX_s_1762': inf,\n",
       " 'EX_s_1763': inf,\n",
       " 'EX_s_1764': inf,\n",
       " 'EX_s_1765': inf,\n",
       " 'EX_s_1766': inf,\n",
       " 'EX_s_1767': inf,\n",
       " 'EX_s_1768': inf,\n",
       " 'EX_s_1769': inf,\n",
       " 'EX_s_1770': inf,\n",
       " 'EX_s_1771': inf,\n",
       " 'EX_s_1774': inf,\n",
       " 'EX_s_1776': inf,\n",
       " 'EX_s_1779': inf,\n",
       " 'EX_s_1781': inf,\n",
       " 'EX_s_1782': inf,\n",
       " 'EX_s_1783': inf,\n",
       " 'EX_s_1785': inf,\n",
       " 'EX_s_1786': inf,\n",
       " 'EX_s_1787': inf,\n",
       " 'EX_s_1788': inf,\n",
       " 'EX_s_1789': inf,\n",
       " 'EX_s_1790': inf,\n",
       " 'EX_s_1791': inf,\n",
       " 'EX_s_1792': inf,\n",
       " 'EX_s_1793': inf,\n",
       " 'EX_s_1797': inf,\n",
       " 'EX_s_1798': inf,\n",
       " 'EX_s_1799': inf,\n",
       " 'EX_s_1800': inf,\n",
       " 'EX_s_1801': inf,\n",
       " 'EX_s_1802': inf,\n",
       " 'EX_s_1803': inf,\n",
       " 'EX_s_1804': inf,\n",
       " 'EX_s_1805': inf,\n",
       " 'EX_s_1806': inf,\n",
       " 'EX_s_1807': inf,\n",
       " 'EX_s_1808': inf,\n",
       " 'EX_s_1809': inf,\n",
       " 'EX_s_1810': inf,\n",
       " 'EX_s_1811': inf,\n",
       " 'EX_s_1812': inf,\n",
       " 'EX_s_1813': inf,\n",
       " 'EX_s_1814': inf,\n",
       " 'EX_s_1815': inf,\n",
       " 'EX_s_1817': inf,\n",
       " 'EX_s_1818': inf,\n",
       " 'EX_s_1819': inf,\n",
       " 'EX_s_1820': inf,\n",
       " 'EX_s_1821': inf,\n",
       " 'EX_s_1822': inf,\n",
       " 'EX_s_1823': inf,\n",
       " 'EX_s_1824': inf,\n",
       " 'EX_s_1825': inf,\n",
       " 'EX_s_1905': inf,\n",
       " 'EX_s_1906': inf,\n",
       " 'EX_s_1907': inf,\n",
       " 'EX_s_1908': inf,\n",
       " 'EX_s_1909': inf,\n",
       " 'EX_s_1910': inf,\n",
       " 'EX_s_1911': inf,\n",
       " 'EX_s_1912': inf,\n",
       " 'EX_s_2761': inf,\n",
       " 'EX_e_0001': inf,\n",
       " 'EX_e_0002': inf,\n",
       " 'EX_e_0003': inf,\n",
       " 'EX_e_0004': inf,\n",
       " 'EX_e_0005': inf,\n",
       " 'EX_e_0006': inf,\n",
       " 'EX_e_0007': inf,\n",
       " 'EX_e_0008': inf,\n",
       " 'EX_e_0009': inf,\n",
       " 'EX_e_0010': inf,\n",
       " 'EX_e_0011': inf,\n",
       " 'EX_e_0012': inf,\n",
       " 'EX_e_0013': inf,\n",
       " 'EX_e_0014': inf,\n",
       " 'EX_e_0015': inf,\n",
       " 'EX_e_0016': inf,\n",
       " 'EX_e_0017': inf,\n",
       " 'EX_e_0018': inf,\n",
       " 'EX_e_0019': inf,\n",
       " 'EX_e_0021': inf,\n",
       " 'EX_e_0023': inf,\n",
       " 'EX_e_0024': inf,\n",
       " 'EX_e_0025': inf,\n",
       " 'EX_e_0026': inf,\n",
       " 'EX_e_0027': inf,\n",
       " 'EX_e_0028': inf,\n",
       " 'EX_e_0029': inf,\n",
       " 'EX_e_0030': inf,\n",
       " 'EX_e_0031': inf,\n",
       " 'EX_e_0032': inf,\n",
       " 'EX_e_0033': inf,\n",
       " 'EX_e_0034': inf,\n",
       " 'EX_e_0035': inf,\n",
       " 'EX_e_0036': inf,\n",
       " 'EX_e_0037': inf,\n",
       " 'EX_e_0038': inf,\n",
       " 'EX_e_0039': inf,\n",
       " 'EX_e_0040': inf,\n",
       " 'EX_e_0041': inf,\n",
       " 'EX_e_0042': inf,\n",
       " 'EX_e_0043': inf,\n",
       " 'EX_e_0044': inf,\n",
       " 'EX_e_0047': inf,\n",
       " 'EX_e_0048': inf,\n",
       " 'EX_e_0049': inf,\n",
       " 'EX_e_0050': inf,\n",
       " 'EX_e_0051': inf,\n",
       " 'EX_e_0054': inf,\n",
       " 'EX_e_0055': inf,\n",
       " 'EX_e_0056': inf,\n",
       " 'EX_e_0057': inf,\n",
       " 'EX_e_0058': inf,\n",
       " 'EX_e_0059': inf,\n",
       " 'EX_e_0060': inf,\n",
       " 'EX_e_0061': inf,\n",
       " 'EX_e_0062': inf,\n",
       " 'EX_e_0063': inf,\n",
       " 'EX_e_0064': inf,\n",
       " 'EX_e_0065': inf,\n",
       " 'EX_e_0066': inf,\n",
       " 'EX_e_0067': inf,\n",
       " 'EX_e_0068': inf,\n",
       " 'EX_e_0069': inf,\n",
       " 'EX_e_0070': inf,\n",
       " 'EX_e_0071': inf,\n",
       " 'EX_e_0073': inf,\n",
       " 'EX_e_0074': inf,\n",
       " 'EX_e_0075': inf,\n",
       " 'EX_e_0076': inf,\n",
       " 'EX_e_0077': inf,\n",
       " 'EX_e_0078': inf,\n",
       " 'EX_e_0079': inf,\n",
       " 'EX_e_0080': inf,\n",
       " 'EX_e_0081': inf,\n",
       " 'EX_e_0082': inf,\n",
       " 'EX_e_0083': inf,\n",
       " 'EX_e_0084': inf,\n",
       " 'EX_e_0085': inf,\n",
       " 'EX_e_0086': inf,\n",
       " 'EX_e_0087': inf,\n",
       " 'EX_e_0088': inf,\n",
       " 'EX_e_0089': inf,\n",
       " 'EX_e_0090': inf,\n",
       " 'EX_e_0091': inf,\n",
       " 'EX_e_0092': inf,\n",
       " 'EX_e_0093': inf,\n",
       " 'EX_e_0094': inf,\n",
       " 'EX_e_0095': inf,\n",
       " 'EX_e_0096': inf,\n",
       " 'EX_e_0097': inf,\n",
       " 'EX_e_0098': inf,\n",
       " 'EX_e_0100': inf,\n",
       " 'EX_e_0101': inf,\n",
       " 'EX_e_0102': inf,\n",
       " 'EX_e_0103': inf,\n",
       " 'EX_e_0104': inf,\n",
       " 'EX_e_0105': inf,\n",
       " 'EX_e_0106': inf,\n",
       " 'EX_e_0107': inf,\n",
       " 'EX_e_0108': inf,\n",
       " 'EX_e_0109': inf,\n",
       " 'EX_e_0110': inf,\n",
       " 'EX_e_0111': inf,\n",
       " 'EX_e_0112': inf,\n",
       " 'EX_e_0113': inf,\n",
       " 'EX_e_0114': inf,\n",
       " 'EX_e_0115': inf,\n",
       " 'EX_e_0116': inf,\n",
       " 'EX_e_0119': inf,\n",
       " 'EX_e_0120': inf,\n",
       " 'EX_e_0122': inf,\n",
       " 'EX_e_0123': inf,\n",
       " 'EX_e_0124': inf,\n",
       " 'EX_e_0125': inf,\n",
       " 'EX_e_0126': inf,\n",
       " 'EX_e_0127': inf,\n",
       " 'EX_e_0129': inf,\n",
       " 'EX_e_0130': inf,\n",
       " 'EX_e_0131': inf,\n",
       " 'EX_e_0133': inf,\n",
       " 'EX_e_0134': inf,\n",
       " 'EX_e_0135': inf,\n",
       " 'EX_e_0136': inf,\n",
       " 'EX_e_0137': inf,\n",
       " 'EX_e_0138': inf,\n",
       " 'EX_e_0139': inf,\n",
       " 'EX_e_0140': inf,\n",
       " 'EX_e_0141': inf,\n",
       " 'EX_e_0142': inf,\n",
       " 'EX_e_0143': inf,\n",
       " 'EX_e_0144': inf,\n",
       " 'EX_e_0145': inf,\n",
       " 'EX_e_0146': inf,\n",
       " 'EX_e_0147': inf,\n",
       " 'EX_e_0149': inf,\n",
       " 'EX_e_0150': inf,\n",
       " 'EX_e_0151': inf,\n",
       " 'EX_e_0152': inf,\n",
       " 'EX_e_0153': inf,\n",
       " 'EX_e_0154': inf,\n",
       " 'EX_e_0155': inf,\n",
       " 'EX_e_0156': inf,\n",
       " 'EX_e_0157': inf,\n",
       " 'EX_e_0158': inf,\n",
       " 'EX_e_0159': inf,\n",
       " 'EX_e_0160': inf,\n",
       " 'EX_e_0161': inf,\n",
       " 'EX_e_0162': inf,\n",
       " 'EX_e_0163': inf,\n",
       " 'EX_e_0164': inf,\n",
       " 'EX_e_0165': inf,\n",
       " 'EX_e_0166': inf,\n",
       " 'EX_e_0167': inf,\n",
       " 'EX_e_0168': inf,\n",
       " 'EX_e_0169': inf,\n",
       " 'EX_e_0170': inf,\n",
       " 'EX_e_0171': inf,\n",
       " 'EX_e_0172': inf,\n",
       " 'EX_e_0173': inf,\n",
       " 'EX_e_0174': inf,\n",
       " 'EX_e_0175': inf,\n",
       " 'EX_e_0177': inf,\n",
       " 'EX_e_0179': inf,\n",
       " 'EX_e_0181': inf,\n",
       " 'EX_e_0182': inf,\n",
       " 'EX_e_0183': inf,\n",
       " 'EX_e_0184': inf,\n",
       " 'EX_e_0185': inf,\n",
       " 'EX_e_0186': inf,\n",
       " 'EX_e_0187': inf,\n",
       " 'EX_e_0188': inf,\n",
       " 'EX_e_0189': inf,\n",
       " 'EX_e_0190': inf,\n",
       " 'EX_e_0191': inf,\n",
       " 'EX_e_0192': inf,\n",
       " 'EX_e_0193': inf,\n",
       " 'EX_e_0194': inf,\n",
       " 'EX_e_0195': inf,\n",
       " 'EX_e_0196': inf,\n",
       " 'EX_e_0197': inf,\n",
       " 'EX_e_0198': inf,\n",
       " 'EX_e_0199': inf,\n",
       " 'EX_e_0200': inf,\n",
       " 'EX_e_0201': inf,\n",
       " 'EX_e_0202': inf,\n",
       " 'EX_e_0204': inf,\n",
       " 'EX_e_0205': inf,\n",
       " 'EX_e_0206': inf,\n",
       " 'EX_e_0207': inf,\n",
       " 'EX_e_0208': inf,\n",
       " 'EX_e_0209': inf,\n",
       " 'EX_e_0210': inf,\n",
       " 'EX_e_0211': inf,\n",
       " 'EX_e_0212': inf,\n",
       " 'EX_e_0213': inf,\n",
       " 'EX_e_0214': inf,\n",
       " 'EX_e_0215': inf,\n",
       " 'EX_e_0216': inf,\n",
       " 'EX_e_0217': inf,\n",
       " 'EX_e_0218': inf,\n",
       " 'EX_e_0219': inf,\n",
       " 'EX_e_0221': inf,\n",
       " 'EX_e_0222': inf,\n",
       " 'EX_e_0223': inf,\n",
       " 'EX_e_0224': inf,\n",
       " 'EX_e_0225': inf,\n",
       " 'EX_e_0226': inf,\n",
       " 'EX_e_0227': inf,\n",
       " 'EX_e_0228': inf,\n",
       " 'EX_e_0229': inf,\n",
       " 'EX_e_0230': inf,\n",
       " 'EX_e_0231': inf,\n",
       " 'EX_e_0232': inf,\n",
       " 'EX_e_0233': inf,\n",
       " 'EX_e_0234': inf,\n",
       " 'EX_e_0235': inf,\n",
       " 'EX_e_0236': inf,\n",
       " 'EX_e_0237': inf,\n",
       " 'EX_e_0238': inf,\n",
       " 'EX_e_0239': inf,\n",
       " 'EX_e_0241': inf,\n",
       " 'EX_e_0242': inf,\n",
       " 'EX_e_0243': inf,\n",
       " 'EX_e_0244': inf,\n",
       " 'EX_e_0245': inf,\n",
       " 'EX_e_0246': inf,\n",
       " 'EX_e_0247': inf,\n",
       " 'EX_e_0248': inf,\n",
       " 'EX_e_0249': inf,\n",
       " 'EX_e_0250': inf,\n",
       " 'EX_e_0251': inf,\n",
       " 'EX_e_0252': inf,\n",
       " 'EX_e_0253': inf,\n",
       " 'EX_e_0254': inf,\n",
       " 'EX_e_0255': inf,\n",
       " 'EX_e_0256': inf,\n",
       " 'EX_e_0257': inf,\n",
       " 'EX_e_0258': inf,\n",
       " 'EX_e_0259': inf,\n",
       " 'EX_e_0260': inf,\n",
       " 'EX_e_0261': inf,\n",
       " 'EX_e_0262': inf,\n",
       " 'EX_e_0263': inf,\n",
       " 'EX_e_0264': inf,\n",
       " 'EX_e_0265': inf,\n",
       " 'EX_e_0266': inf,\n",
       " 'EX_e_0267': inf,\n",
       " 'EX_e_0268': inf,\n",
       " 'EX_e_0269': inf,\n",
       " 'EX_e_0270': inf,\n",
       " 'EX_e_0271': inf,\n",
       " 'EX_e_0272': inf,\n",
       " 'EX_e_0273': inf,\n",
       " 'EX_e_0274': inf,\n",
       " 'EX_e_0275': inf,\n",
       " 'EX_e_0276': inf,\n",
       " 'EX_e_0277': inf,\n",
       " 'EX_e_0280': inf,\n",
       " 'EX_e_0281': inf,\n",
       " 'EX_e_0282': inf,\n",
       " 'EX_e_0283': inf,\n",
       " 'EX_e_0284': inf,\n",
       " 'EX_e_0285': inf,\n",
       " 'EX_e_0286': inf,\n",
       " 'EX_e_0287': inf,\n",
       " 'EX_e_0288': inf,\n",
       " 'EX_e_0289': inf,\n",
       " 'EX_e_0290': inf,\n",
       " 'EX_e_0291': inf,\n",
       " 'EX_e_0292': inf,\n",
       " 'EX_e_0293': inf,\n",
       " 'EX_e_0294': inf,\n",
       " 'EX_e_0295': inf,\n",
       " 'EX_e_0297': inf,\n",
       " 'EX_e_0298': inf,\n",
       " 'EX_e_0299': inf,\n",
       " 'EX_e_0300': inf,\n",
       " 'EX_e_0301': inf,\n",
       " 'EX_e_0303': inf,\n",
       " 'EX_e_0304': inf,\n",
       " 'EX_e_0305': inf,\n",
       " 'EX_e_0306': inf,\n",
       " 'EX_e_0307': inf,\n",
       " 'EX_e_0308': inf,\n",
       " 'EX_e_0309': inf,\n",
       " 'EX_e_0310': inf,\n",
       " 'EX_e_0311': inf,\n",
       " 'EX_e_0312': inf,\n",
       " 'EX_e_0313': inf,\n",
       " 'EX_e_0314': inf,\n",
       " 'EX_e_0315': inf,\n",
       " 'EX_e_0316': inf,\n",
       " 'EX_e_0317': inf,\n",
       " 'EX_e_0320': inf,\n",
       " 'EX_e_0321': inf,\n",
       " 'EX_e_0322': inf,\n",
       " 'EX_e_0323': inf,\n",
       " 'EX_e_0324': inf,\n",
       " 'EX_e_0325': inf,\n",
       " 'EX_e_0326': inf,\n",
       " 'EX_e_0327': inf,\n",
       " 'EX_e_0328': inf,\n",
       " 'EX_e_0329': inf,\n",
       " 'EX_e_0330': inf,\n",
       " 'EX_e_0331': inf,\n",
       " 'EX_e_0332': inf,\n",
       " 'EX_e_0334': inf,\n",
       " 'EX_e_0335': inf,\n",
       " 'EX_e_0336': inf,\n",
       " 'EX_e_0337': inf,\n",
       " 'EX_e_0338': inf,\n",
       " 'EX_e_0339': inf,\n",
       " 'EX_e_0340': inf,\n",
       " 'EX_e_0341': inf,\n",
       " 'EX_e_0342': inf,\n",
       " 'EX_e_0343': inf,\n",
       " 'EX_e_0344': inf,\n",
       " 'EX_e_0345': inf,\n",
       " 'EX_e_0346': inf,\n",
       " 'EX_e_0347': inf,\n",
       " 'EX_e_0348': inf,\n",
       " 'EX_e_0349': inf,\n",
       " 'EX_e_0350': inf,\n",
       " 'EX_e_0351': inf,\n",
       " 'EX_e_0352': inf,\n",
       " 'EX_e_0353': inf,\n",
       " 'EX_e_0354': inf,\n",
       " 'EX_e_0355': inf,\n",
       " 'EX_e_0356': inf,\n",
       " 'EX_e_0357': inf,\n",
       " 'EX_e_0358': inf,\n",
       " 'EX_e_0359': inf,\n",
       " 'EX_e_0361': inf,\n",
       " 'EX_e_0362': inf,\n",
       " 'EX_e_0363': inf,\n",
       " 'EX_e_0364': inf,\n",
       " 'EX_e_0366': inf,\n",
       " 'EX_e_0367': inf,\n",
       " 'EX_e_0368': inf,\n",
       " 'EX_e_0369': inf,\n",
       " 'EX_e_0370': inf,\n",
       " 'EX_e_0371': inf,\n",
       " 'EX_e_0372': inf,\n",
       " 'EX_e_0373': inf,\n",
       " 'EX_e_0374': inf,\n",
       " 'EX_e_0375': inf,\n",
       " 'EX_e_0376': inf,\n",
       " 'EX_e_0377': inf,\n",
       " 'EX_e_0378': inf,\n",
       " 'EX_e_0379': inf,\n",
       " 'EX_e_0380': inf,\n",
       " 'EX_e_0384': inf,\n",
       " 'EX_e_0385': inf,\n",
       " 'EX_e_0386': inf,\n",
       " 'EX_e_0387': inf,\n",
       " 'EX_e_0388': inf,\n",
       " 'EX_e_0389': inf,\n",
       " 'EX_e_0390': inf,\n",
       " 'EX_e_0391': inf,\n",
       " 'EX_e_0392': inf,\n",
       " 'EX_e_0393': inf,\n",
       " 'EX_e_0394': inf,\n",
       " 'EX_e_0395': inf,\n",
       " 'EX_e_0396': inf,\n",
       " 'EX_e_0397': inf,\n",
       " 'EX_e_0398': inf,\n",
       " 'EX_e_0399': inf,\n",
       " 'EX_e_0400': inf,\n",
       " 'EX_e_0401': inf,\n",
       " 'EX_e_0402': inf,\n",
       " 'EX_e_0403': inf,\n",
       " 'EX_e_0404': inf,\n",
       " 'EX_e_0405': inf,\n",
       " 'EX_e_0406': inf,\n",
       " 'EX_e_0407': inf,\n",
       " 'EX_e_0408': inf,\n",
       " 'EX_e_0409': inf,\n",
       " 'EX_e_0410': inf,\n",
       " 'EX_e_0411': inf,\n",
       " 'EX_e_0412': inf,\n",
       " 'EX_e_0413': inf,\n",
       " 'EX_e_0414': inf,\n",
       " 'EX_e_0415': inf,\n",
       " 'EX_e_0416': inf,\n",
       " 'EX_e_0417': inf,\n",
       " 'EX_e_0418': inf,\n",
       " 'EX_e_0419': inf,\n",
       " 'EX_e_0420': inf,\n",
       " 'EX_e_0421': inf,\n",
       " 'EX_e_0422': inf,\n",
       " 'EX_e_0423': inf,\n",
       " 'EX_e_0424': inf,\n",
       " 'EX_e_0425': inf,\n",
       " 'EX_e_0426': inf,\n",
       " 'EX_e_0427': inf,\n",
       " 'EX_e_0428': inf,\n",
       " 'EX_e_0429': inf,\n",
       " 'EX_e_0430': inf,\n",
       " 'EX_e_0431': inf,\n",
       " 'EX_e_0432': inf,\n",
       " 'EX_e_0433': inf,\n",
       " 'EX_e_0434': inf,\n",
       " 'EX_e_0435': inf,\n",
       " 'EX_e_0436': inf,\n",
       " 'EX_e_0437': inf,\n",
       " 'EX_e_0438': inf,\n",
       " 'EX_e_0439': inf,\n",
       " 'EX_e_0440': inf,\n",
       " 'EX_e_0441': inf,\n",
       " 'EX_e_0442': inf,\n",
       " 'EX_e_0443': inf,\n",
       " 'EX_e_0444': inf,\n",
       " 'EX_e_0445': inf,\n",
       " 'EX_e_0446': inf,\n",
       " 'EX_e_0447': inf,\n",
       " 'EX_e_0448': inf,\n",
       " 'EX_e_0450': inf,\n",
       " 'EX_e_0451': inf,\n",
       " 'EX_e_0452': inf,\n",
       " 'EX_e_0453': inf,\n",
       " 'EX_e_0454': inf,\n",
       " 'EX_e_0455': inf,\n",
       " 'EX_e_0456': inf,\n",
       " 'EX_e_0457': inf,\n",
       " 'EX_e_0458': inf,\n",
       " 'EX_e_0459': inf,\n",
       " 'EX_e_0460': inf,\n",
       " 'EX_e_0461': inf,\n",
       " 'EX_e_0463': inf,\n",
       " 'EX_e_0464': inf,\n",
       " 'EX_e_0465': inf,\n",
       " 'EX_e_0466': inf,\n",
       " 'EX_e_0467': inf,\n",
       " 'EX_e_0468': inf,\n",
       " 'EX_e_0469': inf,\n",
       " 'EX_e_0470': inf,\n",
       " 'EX_e_0471': inf,\n",
       " 'EX_e_0472': inf,\n",
       " 'EX_e_0473': inf,\n",
       " 'EX_e_0474': inf,\n",
       " 'EX_e_0475': inf,\n",
       " 'EX_e_0476': inf,\n",
       " 'EX_e_0477': inf,\n",
       " 'EX_e_0478': inf,\n",
       " 'EX_e_0479': inf,\n",
       " 'EX_e_0480': inf,\n",
       " 'EX_e_0481': inf,\n",
       " 'EX_e_0482': inf,\n",
       " 'EX_e_0483': inf,\n",
       " 'EX_e_0484': inf,\n",
       " 'EX_e_0485': inf,\n",
       " 'EX_e_0486': inf,\n",
       " 'EX_e_0487': inf,\n",
       " 'EX_e_0488': inf,\n",
       " 'EX_e_0489': inf,\n",
       " 'EX_e_0490': inf,\n",
       " 'EX_e_0491': inf,\n",
       " 'EX_e_0492': inf,\n",
       " 'EX_e_0493': inf,\n",
       " 'EX_e_0494': inf,\n",
       " 'EX_e_0495': inf,\n",
       " 'EX_e_0496': inf,\n",
       " 'EX_e_0497': inf,\n",
       " 'EX_e_0498': inf,\n",
       " 'EX_e_0499': inf,\n",
       " 'EX_e_0500': inf,\n",
       " 'EX_e_0502': inf,\n",
       " 'EX_e_0505': inf,\n",
       " 'EX_e_0506': inf,\n",
       " 'EX_e_0507': inf,\n",
       " 'EX_e_0508': inf,\n",
       " 'EX_e_0509': inf,\n",
       " 'EX_e_0510': inf,\n",
       " 'EX_e_0511': inf,\n",
       " 'EX_e_0512': inf,\n",
       " 'EX_e_0513': inf,\n",
       " 'EX_e_0514': inf,\n",
       " 'EX_e_0515': inf,\n",
       " 'EX_e_0517': inf,\n",
       " 'EX_e_0519': inf,\n",
       " 'EX_e_0520': inf,\n",
       " 'EX_e_0521': inf,\n",
       " 'EX_e_0522': inf,\n",
       " 'EX_e_0523': inf,\n",
       " 'EX_e_0524': inf,\n",
       " 'EX_e_0525': inf,\n",
       " 'EX_e_0526': inf,\n",
       " 'EX_e_0527': inf,\n",
       " 'EX_e_0528': inf,\n",
       " 'EX_e_0529': inf,\n",
       " 'EX_e_0530': inf,\n",
       " 'EX_e_0531': inf,\n",
       " 'EX_e_0532': inf,\n",
       " 'EX_e_0533': inf,\n",
       " 'EX_e_0534': inf,\n",
       " 'EX_e_0535': inf,\n",
       " 'EX_e_0537': inf,\n",
       " 'EX_e_0538': inf,\n",
       " 'EX_e_0539': inf,\n",
       " 'EX_e_0540': inf,\n",
       " 'EX_e_0541': inf,\n",
       " 'EX_e_0542': inf,\n",
       " 'EX_e_0543': inf,\n",
       " 'EX_e_0544': inf,\n",
       " 'EX_e_0545': inf,\n",
       " 'EX_e_0546': inf,\n",
       " 'EX_e_0547': inf,\n",
       " 'EX_e_0548': inf,\n",
       " 'EX_e_0549': inf,\n",
       " 'EX_e_0550': inf,\n",
       " 'EX_e_0551': inf,\n",
       " 'EX_e_0552': inf,\n",
       " 'EX_e_0553': inf,\n",
       " 'EX_e_0554': inf,\n",
       " 'EX_e_0555': inf,\n",
       " 'EX_e_0556': inf,\n",
       " 'EX_e_0558': inf,\n",
       " 'EX_e_0559': inf,\n",
       " 'EX_e_0560': inf,\n",
       " 'EX_e_0561': inf,\n",
       " 'EX_e_0562': inf,\n",
       " 'EX_e_0563': inf,\n",
       " 'EX_e_0564': inf,\n",
       " 'EX_e_0565': inf,\n",
       " 'EX_e_0566': inf,\n",
       " 'EX_e_0567': inf,\n",
       " 'EX_e_0568': inf,\n",
       " 'EX_e_0569': inf,\n",
       " 'EX_e_0570': inf,\n",
       " 'EX_e_0571': inf,\n",
       " 'EX_e_0572': inf,\n",
       " 'EX_e_0573': inf,\n",
       " 'EX_e_0574': inf,\n",
       " 'EX_e_0575': inf,\n",
       " 'EX_e_0576': inf,\n",
       " 'EX_e_0577': inf,\n",
       " 'EX_e_0578': inf,\n",
       " 'EX_e_0579': inf,\n",
       " 'EX_e_0580': inf,\n",
       " 'EX_e_0581': inf,\n",
       " 'EX_e_0582': inf,\n",
       " 'EX_e_0583': inf,\n",
       " 'EX_e_0584': inf,\n",
       " 'EX_e_0585': inf,\n",
       " 'EX_e_0586': inf,\n",
       " 'EX_e_0587': inf,\n",
       " 'EX_e_0588': inf,\n",
       " 'EX_e_0590': inf,\n",
       " 'EX_e_0591': inf,\n",
       " 'EX_e_0594': inf,\n",
       " 'EX_e_0596': inf,\n",
       " 'EX_e_0597': inf,\n",
       " 'EX_e_0598': inf,\n",
       " 'EX_e_0599': inf,\n",
       " 'EX_e_0600': inf,\n",
       " 'EX_e_0601': inf,\n",
       " 'EX_e_0602': inf,\n",
       " 'EX_e_0603': inf,\n",
       " 'EX_e_0604': inf,\n",
       " 'EX_e_0605': inf,\n",
       " 'EX_e_0607': inf,\n",
       " 'EX_e_0608': inf,\n",
       " 'EX_e_0609': inf,\n",
       " 'EX_e_0610': inf,\n",
       " 'EX_e_0611': inf,\n",
       " 'EX_e_0612': inf,\n",
       " 'EX_e_0613': inf,\n",
       " 'EX_e_0614': inf,\n",
       " 'EX_e_0615': inf,\n",
       " 'EX_e_0616': inf,\n",
       " 'EX_e_0617': inf,\n",
       " 'EX_e_0618': inf,\n",
       " 'EX_e_0619': inf,\n",
       " 'EX_e_0620': inf,\n",
       " 'EX_e_0621': inf,\n",
       " 'EX_e_0622': inf,\n",
       " 'EX_e_0623': inf,\n",
       " 'EX_e_0624': inf,\n",
       " 'EX_e_0625': inf,\n",
       " 'EX_e_0626': inf,\n",
       " 'EX_e_0627': inf,\n",
       " 'EX_e_0628': inf,\n",
       " 'EX_e_0629': inf,\n",
       " 'EX_e_0630': inf,\n",
       " 'EX_e_0631': inf,\n",
       " 'EX_e_0632': inf,\n",
       " 'EX_e_0636': inf,\n",
       " 'EX_e_0637': inf,\n",
       " 'EX_e_0638': inf,\n",
       " 'EX_e_0639': inf,\n",
       " 'EX_e_0640': inf,\n",
       " 'EX_e_0641': inf,\n",
       " 'EX_e_0642': inf,\n",
       " 'EX_e_0643': inf,\n",
       " 'EX_e_0644': inf,\n",
       " 'EX_e_0645': inf,\n",
       " 'EX_e_0646': inf,\n",
       " 'EX_e_0647': inf,\n",
       " 'EX_e_0648': inf,\n",
       " 'EX_e_0649': inf,\n",
       " 'EX_e_0650': inf,\n",
       " 'EX_e_0651': inf,\n",
       " 'EX_e_0652': inf,\n",
       " 'EX_e_0653': inf,\n",
       " 'EX_e_0654': inf,\n",
       " 'EX_e_0655': inf,\n",
       " 'EX_e_0656': inf,\n",
       " 'EX_e_0657': inf,\n",
       " 'EX_e_0658': inf,\n",
       " 'EX_e_0659': inf,\n",
       " 'EX_e_0660': inf,\n",
       " 'EX_e_0661': inf,\n",
       " 'EX_e_0662': inf,\n",
       " 'EX_e_0663': inf,\n",
       " 'EX_e_0664': inf,\n",
       " 'EX_e_0665': inf,\n",
       " 'EX_e_0666': inf,\n",
       " 'EX_e_0667': inf,\n",
       " 'EX_e_0668': inf,\n",
       " 'EX_e_0669': inf,\n",
       " 'EX_e_0670': inf,\n",
       " 'EX_e_0671': inf,\n",
       " 'EX_e_0672': inf,\n",
       " 'EX_e_0673': inf,\n",
       " 'EX_e_0674': inf,\n",
       " 'EX_e_0675': inf,\n",
       " 'EX_e_0676': inf,\n",
       " 'EX_e_0677': inf,\n",
       " 'EX_e_0678': inf,\n",
       " 'EX_e_0679': inf,\n",
       " 'EX_e_0680': inf,\n",
       " 'EX_e_0681': inf,\n",
       " 'EX_e_0682': inf,\n",
       " 'EX_e_0683': inf,\n",
       " 'EX_e_0684': inf,\n",
       " 'EX_e_0685': inf,\n",
       " 'EX_e_0686': inf,\n",
       " 'EX_e_0688': inf,\n",
       " 'EX_e_0689': inf,\n",
       " 'EX_e_0690': inf,\n",
       " 'EX_e_0691': inf,\n",
       " 'EX_e_0692': inf,\n",
       " 'EX_e_0693': inf,\n",
       " 'EX_e_0694': inf,\n",
       " 'EX_e_0695': inf,\n",
       " 'EX_e_0696': inf,\n",
       " 'EX_e_0697': inf,\n",
       " 'EX_e_0698': inf,\n",
       " 'EX_e_0699': inf,\n",
       " 'EX_e_0700': inf,\n",
       " 'EX_e_0701': inf,\n",
       " 'EX_e_0702': inf,\n",
       " 'EX_e_0703': inf,\n",
       " 'EX_e_0704': inf,\n",
       " 'EX_e_0705': inf,\n",
       " 'EX_e_0707': inf,\n",
       " 'EX_e_0708': inf,\n",
       " 'EX_e_0709': inf,\n",
       " 'EX_e_0710': inf,\n",
       " 'EX_e_0711': inf,\n",
       " 'EX_e_0712': inf,\n",
       " 'EX_e_0713': inf,\n",
       " 'EX_e_0714': inf,\n",
       " 'EX_e_0715': inf,\n",
       " 'EX_e_0716': inf,\n",
       " 'EX_e_0717': inf,\n",
       " 'EX_e_0718': inf,\n",
       " 'EX_e_0720': inf,\n",
       " 'EX_e_0721': inf,\n",
       " 'EX_e_0722': inf,\n",
       " 'EX_e_0723': inf,\n",
       " 'EX_e_0724': inf,\n",
       " 'EX_e_0725': inf,\n",
       " 'EX_e_0726': inf,\n",
       " 'EX_e_0727': inf,\n",
       " 'EX_e_0728': inf,\n",
       " 'EX_e_0729': inf,\n",
       " 'EX_e_0730': inf,\n",
       " 'EX_e_0731': inf,\n",
       " 'EX_e_0732': inf,\n",
       " 'EX_e_0733': inf,\n",
       " 'EX_e_0734': inf,\n",
       " 'EX_e_0735': inf,\n",
       " 'EX_e_0736': inf,\n",
       " 'EX_e_0737': inf,\n",
       " 'EX_e_0739': inf,\n",
       " 'EX_e_0740': inf,\n",
       " 'EX_e_0741': inf,\n",
       " 'EX_e_0742': inf,\n",
       " 'EX_e_0743': inf,\n",
       " 'EX_e_0744': inf,\n",
       " 'EX_e_0745': inf,\n",
       " 'EX_e_0746': inf,\n",
       " 'EX_e_0747': inf,\n",
       " 'EX_e_0748': inf,\n",
       " 'EX_e_0749': inf,\n",
       " 'EX_e_0751': inf,\n",
       " 'EX_e_0752': inf,\n",
       " 'EX_e_0753': inf,\n",
       " 'EX_e_0754': inf,\n",
       " 'EX_e_0755': inf,\n",
       " 'EX_e_0756': inf,\n",
       " 'EX_e_0757': inf,\n",
       " 'EX_e_0758': inf,\n",
       " 'EX_e_0759': inf,\n",
       " 'EX_e_0760': inf,\n",
       " 'EX_e_0761': inf,\n",
       " 'EX_e_0762': inf,\n",
       " 'EX_e_0763': inf,\n",
       " 'EX_e_0764': inf,\n",
       " 'EX_e_0765': inf,\n",
       " 'EX_e_0766': inf,\n",
       " 'EX_e_0767': inf,\n",
       " 'EX_e_0768': inf,\n",
       " 'EX_e_0769': inf,\n",
       " 'EX_e_0770': inf,\n",
       " 'EX_e_0771': inf,\n",
       " 'EX_e_0772': inf,\n",
       " 'EX_e_0773': inf,\n",
       " 'EX_e_0774': inf,\n",
       " 'EX_e_0775': inf,\n",
       " 'EX_e_0776': inf,\n",
       " 'EX_e_0777': inf,\n",
       " 'EX_e_0778': inf,\n",
       " 'EX_e_0779': inf,\n",
       " 'EX_e_0780': inf,\n",
       " 'EX_e_0781': inf,\n",
       " 'EX_e_0782': inf,\n",
       " 'EX_e_0783': inf,\n",
       " 'EX_e_0784': inf,\n",
       " 'EX_e_0786': inf,\n",
       " 'EX_e_0787': inf,\n",
       " 'EX_e_0789': inf,\n",
       " 'EX_e_0790': inf,\n",
       " 'EX_e_0791': inf,\n",
       " 'EX_e_0792': inf,\n",
       " 'EX_e_0793': inf,\n",
       " 'EX_e_0794': inf,\n",
       " 'EX_e_0796': inf,\n",
       " 'EX_e_0797': inf,\n",
       " 'EX_e_0798': inf,\n",
       " 'EX_e_0799': inf,\n",
       " 'EX_e_0800': inf,\n",
       " 'EX_e_0801': inf,\n",
       " 'EX_e_0802': inf,\n",
       " 'EX_e_0803': inf,\n",
       " 'EX_e_0805': inf,\n",
       " 'EX_e_0806': inf,\n",
       " 'EX_e_0807': inf,\n",
       " 'EX_e_0808': inf,\n",
       " 'EX_e_0810': inf,\n",
       " 'EX_e_0811': inf,\n",
       " 'EX_e_0812': inf,\n",
       " 'EX_e_0813': inf,\n",
       " 'EX_e_0814': inf,\n",
       " 'EX_e_0815': inf,\n",
       " 'EX_e_0816': inf,\n",
       " 'EX_e_0817': inf,\n",
       " 'EX_e_0818': inf,\n",
       " 'EX_e_0819': inf,\n",
       " 'EX_e_0821': inf,\n",
       " 'EX_e_0822': inf,\n",
       " 'EX_e_0823': inf,\n",
       " 'EX_e_0824': inf,\n",
       " 'EX_e_0825': inf,\n",
       " 'EX_e_0826': inf,\n",
       " 'EX_e_0827': inf,\n",
       " 'EX_e_0828': inf,\n",
       " 'EX_e_0829': inf,\n",
       " 'EX_e_0830': inf,\n",
       " 'EX_e_0832': inf,\n",
       " 'EX_e_0833': inf,\n",
       " 'EX_e_0834': inf,\n",
       " 'EX_e_0835': inf,\n",
       " 'EX_e_0836': inf,\n",
       " 'EX_e_0837': inf,\n",
       " 'EX_e_0838': inf,\n",
       " 'EX_e_0839': inf,\n",
       " 'EX_e_0840': inf,\n",
       " 'EX_e_0841': inf,\n",
       " 'EX_e_0842': inf,\n",
       " 'EX_e_0843': inf,\n",
       " 'EX_e_0844': inf,\n",
       " 'EX_e_0845': inf,\n",
       " 'EX_e_0846': inf,\n",
       " 'EX_e_0847': inf,\n",
       " 'EX_e_0848': inf,\n",
       " 'EX_e_0849': inf,\n",
       " 'EX_e_0850': inf,\n",
       " 'EX_e_0851': inf,\n",
       " 'EX_e_0852': inf,\n",
       " 'EX_e_0853': inf,\n",
       " 'EX_e_0854': inf,\n",
       " 'EX_e_0855': inf,\n",
       " 'EX_e_0856': inf,\n",
       " 'EX_e_0857': inf,\n",
       " 'EX_e_0858': inf,\n",
       " 'EX_e_0859': inf,\n",
       " 'EX_e_0860': inf,\n",
       " 'EX_e_0861': inf,\n",
       " 'EX_e_0862': inf,\n",
       " 'EX_e_0863': inf,\n",
       " 'EX_e_0864': inf,\n",
       " 'EX_e_0865': inf,\n",
       " 'EX_e_0866': inf,\n",
       " 'EX_e_0867': inf,\n",
       " 'EX_e_0868': inf,\n",
       " 'EX_e_0870': inf,\n",
       " 'EX_e_0871': inf,\n",
       " 'EX_e_0872': inf,\n",
       " 'EX_e_0873': inf,\n",
       " 'EX_e_0874': inf,\n",
       " 'EX_e_0875': inf,\n",
       " 'EX_e_0876': inf,\n",
       " 'EX_e_0877': inf,\n",
       " 'EX_e_0878': inf,\n",
       " 'EX_e_0879': inf,\n",
       " 'EX_e_0880': inf,\n",
       " 'EX_e_0881': inf,\n",
       " 'EX_e_0882': inf,\n",
       " 'EX_e_0883': inf,\n",
       " 'EX_e_0884': inf,\n",
       " 'EX_e_0885': inf,\n",
       " 'EX_e_0886': inf,\n",
       " 'EX_e_0887': inf,\n",
       " 'EX_e_0888': inf,\n",
       " 'EX_e_0890': inf,\n",
       " 'EX_e_0891': inf,\n",
       " 'EX_e_0892': inf,\n",
       " 'EX_e_0893': inf,\n",
       " 'EX_e_0894': inf,\n",
       " 'EX_e_0895': inf,\n",
       " 'EX_e_0896': inf,\n",
       " 'EX_e_0897': inf,\n",
       " 'EX_e_0898': inf,\n",
       " ...}"
      ]
     },
     "execution_count": 18,
     "metadata": {},
     "output_type": "execute_result"
    }
   ],
   "source": [
    "model2.medium"
   ]
  },
  {
   "cell_type": "markdown",
   "id": "42f278a7-f6ee-4b28-959c-106324a1c06a",
   "metadata": {},
   "source": [
    "Because many of these are defined as [boundary] we could try a search by [extracellular] metabolites:"
   ]
  },
  {
   "cell_type": "code",
   "execution_count": 19,
   "id": "340b672d-936d-4f00-9678-8b86e8cf5ae1",
   "metadata": {},
   "outputs": [
    {
     "name": "stdout",
     "output_type": "stream",
     "text": [
      "(1->3)-beta-D-glucan [extracellular]\n",
      "(R)-carnitine [extracellular]\n",
      "(R)-lactate [extracellular]\n",
      "(R)-mevalonate [extracellular]\n",
      "(R)-pantothenate [extracellular]\n",
      "(R,R)-2,3-butanediol [extracellular]\n",
      "(S)-3-methyl-2-oxopentanoate [extracellular]\n",
      "(S)-lactate [extracellular]\n",
      "(S)-malate [extracellular]\n",
      "1-(sn-glycero-3-phospho)-1D-myo-inositol [extracellular]\n",
      "1-acylglycerophosphocholine [extracellular]\n",
      "2'-deoxyadenosine [extracellular]\n",
      "2'-deoxyguanosine [extracellular]\n",
      "2'-deoxyinosine [extracellular]\n",
      "2'-deoxyuridine [extracellular]\n",
      "2-isopropylmalate [extracellular]\n",
      "2-methylbutanal [extracellular]\n",
      "2-methylbutanol [extracellular]\n",
      "2-methylbutyl acetate [extracellular]\n",
      "2-oxoglutarate [extracellular]\n",
      "2-phenylethanol [extracellular]\n",
      "3-methylbutanal [extracellular]\n",
      "4-aminobenzoate [extracellular]\n",
      "5-aminolevulinate [extracellular]\n",
      "5-formyltetrahydrofolic acid [extracellular]\n",
      "7,8-diaminononanoate [extracellular]\n",
      "8-amino-7-oxononanoate [extracellular]\n",
      "9H-xanthine [extracellular]\n",
      "acetaldehyde [extracellular]\n",
      "acetate [extracellular]\n",
      "adenine [extracellular]\n",
      "adenosine [extracellular]\n",
      "adenosine 3',5'-bismonophosphate [extracellular]\n",
      "allantoate [extracellular]\n",
      "allantoin [extracellular]\n",
      "alpha-D-glucosamine 6-phosphate [extracellular]\n",
      "ammonium [extracellular]\n",
      "bicarbonate [extracellular]\n",
      "biotin [extracellular]\n",
      "carbon dioxide [extracellular]\n",
      "choline [extracellular]\n",
      "citrate [extracellular]\n",
      "cytidine [extracellular]\n",
      "cytosine [extracellular]\n",
      "D-arabinose [extracellular]\n",
      "D-fructose [extracellular]\n",
      "D-galactose [extracellular]\n",
      "D-galacturonate [extracellular]\n",
      "D-glucitol [extracellular]\n",
      "D-glucose [extracellular]\n",
      "D-mannose [extracellular]\n",
      "D-ribose [extracellular]\n",
      "D-xylose [extracellular]\n",
      "decanoate [extracellular]\n",
      "deoxycytidine [extracellular]\n",
      "dTTP [extracellular]\n",
      "episterol [extracellular]\n",
      "ergosterol [extracellular]\n",
      "ethanol [extracellular]\n",
      "ethanolamine [extracellular]\n",
      "ethyl acetate [extracellular]\n",
      "fecosterol [extracellular]\n",
      "FMN [extracellular]\n",
      "folate [extracellular]\n",
      "formate [extracellular]\n",
      "fumarate [extracellular]\n",
      "gamma-aminobutyrate [extracellular]\n",
      "glutathione [extracellular]\n",
      "glutathione disulfide [extracellular]\n",
      "glycerol [extracellular]\n",
      "glycolaldehyde [extracellular]\n",
      "glyoxylate [extracellular]\n",
      "guanine [extracellular]\n",
      "guanosine [extracellular]\n",
      "H+ [extracellular]\n",
      "H2O [extracellular]\n",
      "hexadecanal [extracellular]\n",
      "hypoxanthine [extracellular]\n",
      "indol-3-ylacetaldehyde [extracellular]\n",
      "inosine [extracellular]\n",
      "ironII [extracellular]\n",
      "isoamyl acetate [extracellular]\n",
      "isoamylol [extracellular]\n",
      "isobutanol [extracellular]\n",
      "isobutyl acetate [extracellular]\n",
      "isobutyraldehyde [extracellular]\n",
      "L-alanine [extracellular]\n",
      "L-arabinitol [extracellular]\n",
      "L-arabinose [extracellular]\n",
      "L-arginine [extracellular]\n",
      "L-asparagine [extracellular]\n",
      "L-aspartate [extracellular]\n",
      "L-cysteine [extracellular]\n",
      "L-glucitol [extracellular]\n",
      "L-glutamate [extracellular]\n",
      "L-glutamine [extracellular]\n",
      "L-glycine [extracellular]\n",
      "L-histidine [extracellular]\n",
      "L-homoserine [extracellular]\n",
      "L-isoleucine [extracellular]\n",
      "L-leucine [extracellular]\n",
      "L-lysine [extracellular]\n",
      "L-methionine [extracellular]\n",
      "L-phenylalanine [extracellular]\n",
      "L-proline [extracellular]\n",
      "L-serine [extracellular]\n",
      "L-sorbose [extracellular]\n",
      "L-threonine [extracellular]\n",
      "L-tryptophan [extracellular]\n",
      "L-tyrosine [extracellular]\n",
      "L-valine [extracellular]\n",
      "lanosterol [extracellular]\n",
      "laurate [extracellular]\n",
      "maltose [extracellular]\n",
      "myo-inositol [extracellular]\n",
      "myristate [extracellular]\n",
      "N,N'-diformyldityrosine [extracellular]\n",
      "nicotinate [extracellular]\n",
      "NMN [extracellular]\n",
      "octanoate [extracellular]\n",
      "ornithine [extracellular]\n",
      "oxaloacetate [extracellular]\n",
      "oxygen [extracellular]\n",
      "palmitate [extracellular]\n",
      "palmitoleate [extracellular]\n",
      "pectin [extracellular]\n",
      "phenethyl acetate [extracellular]\n",
      "phenylacetaldehyde [extracellular]\n",
      "phosphate [extracellular]\n",
      "potassium [extracellular]\n",
      "putrescine [extracellular]\n",
      "pyridoxine [extracellular]\n",
      "pyruvate [extracellular]\n",
      "riboflavin [extracellular]\n",
      "S-adenosyl-L-methionine [extracellular]\n",
      "S-methyl-L-methionine [extracellular]\n",
      "sn-glycero-3-phosphocholine [extracellular]\n",
      "sodium [extracellular]\n",
      "spermidine [extracellular]\n",
      "spermine [extracellular]\n",
      "stearate [extracellular]\n",
      "succinate [extracellular]\n",
      "sucrose [extracellular]\n",
      "sulphate [extracellular]\n",
      "sulphite [extracellular]\n",
      "taurine [extracellular]\n",
      "TDP [extracellular]\n",
      "thiamine [extracellular]\n",
      "thymidine [extracellular]\n",
      "TMP [extracellular]\n",
      "trehalose [extracellular]\n",
      "tryptophol [extracellular]\n",
      "uracil [extracellular]\n",
      "urea [extracellular]\n",
      "uridine [extracellular]\n",
      "xanthosine [extracellular]\n",
      "xylitol [extracellular]\n",
      "zymosterol [extracellular]\n",
      "ironIII [extracellular]\n",
      "copperII [extracellular]\n",
      "carbon monoxide [extracellular]\n",
      "coprogen [extracellular]\n",
      "coprogenFeIII [extracellular]\n",
      "ferrichrome [extracellular]\n",
      "ferrichromeFeIII [extracellular]\n",
      "TAFC [extracellular]\n",
      "TAFCFeIII [extracellular]\n",
      "enterobactin [extracellular]\n",
      "enterobactinFeIII [extracellular]\n",
      "ferrioxamineB [extracellular]\n",
      "ferrioxamineBFeII [extracellular]\n",
      "PS [extracellular]\n",
      "PHO11 [extracellular]\n",
      "PHO3 [extracellular]\n",
      "PHO5 [extracellular]\n",
      "EXG2 [extracellular]\n",
      "BGL2 [extracellular]\n",
      "SUC2 [extracellular]\n",
      "PGU1 [extracellular]\n",
      "ASP3-1 [extracellular]\n",
      "ASP3-2 [extracellular]\n",
      "ASP3-3 [extracellular]\n",
      "ASP3-4 [extracellular]\n",
      "EXG1 [extracellular]\n",
      "DSE4 [extracellular]\n",
      "SPR1 [extracellular]\n",
      "14-demethyllanosterol [extracellular]\n",
      "ergosta-5,7,22,24(28)-tetraen-3beta-ol [extracellular]\n",
      "butyrate [extracellular]\n",
      "hexanoate [extracellular]\n",
      "oleate [extracellular]\n",
      "raffinose [extracellular]\n",
      "melibiose [extracellular]\n"
     ]
    }
   ],
   "source": [
    "for metabolite in model2.metabolites.query('extracellular', 'name'):\n",
    "    print(metabolite.name)"
   ]
  },
  {
   "cell_type": "markdown",
   "id": "313ff9eb-16f1-4490-8f5c-666f9ed20691",
   "metadata": {},
   "source": [
    "## Compartments"
   ]
  },
  {
   "cell_type": "markdown",
   "id": "70a27898-95ae-40af-8e2e-09e88c1dbb9c",
   "metadata": {},
   "source": [
    "Further, the standard yeast has many fewer defined compartments compared to the model with the iron metabolism."
   ]
  },
  {
   "cell_type": "code",
   "execution_count": 20,
   "id": "0e013e02-b790-461f-bd7e-a66f20311117",
   "metadata": {},
   "outputs": [
    {
     "name": "stdout",
     "output_type": "stream",
     "text": [
      "{'c': 'cytosol', 'e': 'extracellular space', 'm': 'mitochondria', 'x': 'peroxisome/glyoxysome', 'r': 'endoplasmic reticulum', 'v': 'vacuole', 'g': 'golgi apparatus', 'n': 'nucleus'}\n",
      "{'c_02': 'cell envelope', 'c_03': 'cytoplasm', 'c_06': 'extracellular', 'c_11': 'mitochondrion', 'c_13': 'nucleus', 'c_15': 'peroxisome', 'c_04': 'endoplasmic reticulum', 'c_07': 'Golgi', 'c_09': 'lipid particle', 'c_17': 'vacuole', 'c_01': 'boundary', 'c_10': 'mitochondrial membrane', 'c_05': 'endoplasmic reticulum membrane', 'c_08': 'Golgi membrane', 'c_16': 'vacuolar membrane', 'c_14': 'peroxisomal membrane'}\n"
     ]
    }
   ],
   "source": [
    "print(model.compartments)\n",
    "print(model2.compartments)"
   ]
  },
  {
   "cell_type": "markdown",
   "id": "8b4a2753-22e0-4a4f-84eb-300102f030fc",
   "metadata": {},
   "source": [
    "## \"Glucose\" query"
   ]
  },
  {
   "cell_type": "code",
   "execution_count": 21,
   "id": "7c4403c9-9976-4c88-9fc0-4506ea95aefe",
   "metadata": {},
   "outputs": [
    {
     "name": "stdout",
     "output_type": "stream",
     "text": [
      "D-glucose [cytoplasm] s_0563\n",
      "D-glucose [extracellular] s_0565\n",
      "D-glucose [vacuole] s_0566\n",
      "D-glucose 1-phosphate [cytoplasm] s_0567\n",
      "D-glucose 6-phosphate [cytoplasm] s_0568\n",
      "UDP-D-glucose [cytoplasm] s_1543\n",
      "D-glucose [boundary] s_1706\n"
     ]
    }
   ],
   "source": [
    "for metabolite in model2.metabolites.query('glucose', 'name'):\n",
    "    print(metabolite.name,metabolite.id)"
   ]
  },
  {
   "cell_type": "code",
   "execution_count": 22,
   "id": "10f51a58-864d-45d6-ab20-fa31193375d3",
   "metadata": {},
   "outputs": [
    {
     "data": {
      "text/html": [
       "\n",
       "        <table>\n",
       "            <tr>\n",
       "                <td><strong>Metabolite identifier</strong></td><td>s_0565</td>\n",
       "            </tr><tr>\n",
       "                <td><strong>Name</strong></td><td>D-glucose [extracellular]</td>\n",
       "            </tr><tr>\n",
       "                <td><strong>Memory address</strong></td>\n",
       "                <td>0x01d408887c08</td>\n",
       "            </tr><tr>\n",
       "                <td><strong>Formula</strong></td><td>C6H12O6</td>\n",
       "            </tr><tr>\n",
       "                <td><strong>Compartment</strong></td><td>c_06</td>\n",
       "            </tr><tr>\n",
       "                <td><strong>In 4 reaction(s)</strong></td><td>\n",
       "                    r_1024, r_1166, r_0370, r_1714</td>\n",
       "            </tr>\n",
       "        </table>"
      ],
      "text/plain": [
       "<Metabolite s_0565 at 0x1d408887c08>"
      ]
     },
     "execution_count": 22,
     "metadata": {},
     "output_type": "execute_result"
    }
   ],
   "source": [
    "model2.metabolites.get_by_id('s_0565')"
   ]
  },
  {
   "cell_type": "code",
   "execution_count": 23,
   "id": "e2a5c8d8-1519-4d59-adfd-758d2a6f4f47",
   "metadata": {},
   "outputs": [
    {
     "name": "stdout",
     "output_type": "stream",
     "text": [
      "2 Deoxy D glucose C6H12O5\n",
      "2 Deoxy D glucose 6 phosphate C6H11O8P\n",
      "Beta D glucose 6 phosphate C6H11O9P\n",
      "UDPglucose\n"
     ]
    }
   ],
   "source": [
    "for metabolite in model.metabolites.query('glucose', 'name'):\n",
    "    print(metabolite.name)"
   ]
  },
  {
   "cell_type": "markdown",
   "id": "4fcda3dc-4b04-4002-9343-efaee98cf59c",
   "metadata": {},
   "source": [
    "## The growth rate & media signifigance"
   ]
  },
  {
   "cell_type": "code",
   "execution_count": 24,
   "id": "c8c0652c-6107-481a-8b8f-9ee6aa480ef9",
   "metadata": {},
   "outputs": [
    {
     "name": "stdout",
     "output_type": "stream",
     "text": [
      "The growth rate of standard yeast is: 0.28786570370401793\n",
      "The growth rate of Clint Yeastwood is only: 0.08798018056718143\n"
     ]
    }
   ],
   "source": [
    "print(\"The growth rate of standard yeast is: \"+str(model.optimize().objective_value))\n",
    "print(\"The growth rate of Clint Yeastwood is only: \"+str(model2.optimize().objective_value))"
   ]
  },
  {
   "cell_type": "code",
   "execution_count": 25,
   "id": "947d653c-858c-4899-9bc3-c535d92247c6",
   "metadata": {},
   "outputs": [
    {
     "name": "stdout",
     "output_type": "stream",
     "text": [
      "Maximize\n",
      "1.0*BIOMASS_SC5_notrace - 1.0*BIOMASS_SC5_notrace_reverse_93090\n",
      "Maximize\n",
      "1.0*r_2111 - 1.0*r_2111_reverse_58b69\n"
     ]
    }
   ],
   "source": [
    "print(model.objective)\n",
    "print(model2.objective)"
   ]
  },
  {
   "cell_type": "code",
   "execution_count": 26,
   "id": "53a4d047",
   "metadata": {},
   "outputs": [
    {
     "name": "stdout",
     "output_type": "stream",
     "text": [
      "ferrochelatase r_0436\n"
     ]
    }
   ],
   "source": [
    "for reactions in model2.reactions.query('ferrochelatase', 'name'):\n",
    "    print(reactions.name,reactions.id)"
   ]
  },
  {
   "cell_type": "code",
   "execution_count": 27,
   "id": "c3dccd73",
   "metadata": {},
   "outputs": [
    {
     "data": {
      "text/html": [
       "\n",
       "        <table>\n",
       "            <tr>\n",
       "                <td><strong>Reaction identifier</strong></td><td>r_0436</td>\n",
       "            </tr><tr>\n",
       "                <td><strong>Name</strong></td><td>ferrochelatase</td>\n",
       "            </tr><tr>\n",
       "                <td><strong>Memory address</strong></td>\n",
       "                <td>0x01d40928cdc8</td>\n",
       "            </tr><tr>\n",
       "                <td><strong>Stoichiometry</strong></td>\n",
       "                <td>\n",
       "                    <p style='text-align:right'>s_0926 + s_1383 --> s_0712 + 2.0 s_0799</p>\n",
       "                    <p style='text-align:right'>ironII [mitochondrion] + protoporphyrin [mitochondrion] --> ferroheme b [mitochondrion] + 2.0 H+ [mitochondrion]</p>\n",
       "                </td>\n",
       "            </tr><tr>\n",
       "                <td><strong>GPR</strong></td><td>YOR176W</td>\n",
       "            </tr><tr>\n",
       "                <td><strong>Lower bound</strong></td><td>0.0</td>\n",
       "            </tr><tr>\n",
       "                <td><strong>Upper bound</strong></td><td>inf</td>\n",
       "            </tr>\n",
       "        </table>\n",
       "        "
      ],
      "text/plain": [
       "<Reaction r_0436 at 0x1d40928cdc8>"
      ]
     },
     "execution_count": 27,
     "metadata": {},
     "output_type": "execute_result"
    }
   ],
   "source": [
    "model2.reactions.get_by_id('r_0436')"
   ]
  },
  {
   "cell_type": "code",
   "execution_count": 28,
   "id": "4a6462c8",
   "metadata": {},
   "outputs": [
    {
     "name": "stdout",
     "output_type": "stream",
     "text": [
      "ferroheme b [mitochondrion] s_0712\n",
      "ferroheme b [cytoplasm] s_1650\n",
      "ferroheme b [endoplasmic reticulum] s_1651\n"
     ]
    }
   ],
   "source": [
    "heme_model2 = []\n",
    "for metabolites in model2.metabolites.query('ferroheme b', 'name'):\n",
    "    heme_model2.append(metabolites.id)\n",
    "    print(metabolites.name,metabolites.id)"
   ]
  },
  {
   "cell_type": "code",
   "execution_count": 29,
   "id": "0269a808",
   "metadata": {},
   "outputs": [
    {
     "data": {
      "text/html": [
       "\n",
       "        <table>\n",
       "            <tr>\n",
       "                <td><strong>Metabolite identifier</strong></td><td>s_0712</td>\n",
       "            </tr><tr>\n",
       "                <td><strong>Name</strong></td><td>ferroheme b [mitochondrion]</td>\n",
       "            </tr><tr>\n",
       "                <td><strong>Memory address</strong></td>\n",
       "                <td>0x01d4087f8c08</td>\n",
       "            </tr><tr>\n",
       "                <td><strong>Formula</strong></td><td>C34H30FeN4O4</td>\n",
       "            </tr><tr>\n",
       "                <td><strong>Compartment</strong></td><td>c_11</td>\n",
       "            </tr><tr>\n",
       "                <td><strong>In 5 reaction(s)</strong></td><td>\n",
       "                    r_1401, r_1400, r_0531, r_1307, r_0436</td>\n",
       "            </tr>\n",
       "        </table>"
      ],
      "text/plain": [
       "<Metabolite s_0712 at 0x1d4087f8c08>"
      ]
     },
     "execution_count": 29,
     "metadata": {},
     "output_type": "execute_result"
    }
   ],
   "source": [
    "model2.metabolites.get_by_id(heme_model2[0])"
   ]
  },
  {
   "cell_type": "code",
   "execution_count": 30,
   "id": "cfecfffe",
   "metadata": {},
   "outputs": [
    {
     "data": {
      "text/html": [
       "\n",
       "        <table>\n",
       "            <tr>\n",
       "                <td><strong>Reaction identifier</strong></td><td>DM_pheme_m</td>\n",
       "            </tr><tr>\n",
       "                <td><strong>Name</strong></td><td>Protoheme C34H30FeN4O4 demand</td>\n",
       "            </tr><tr>\n",
       "                <td><strong>Memory address</strong></td>\n",
       "                <td>0x01d40456ed88</td>\n",
       "            </tr><tr>\n",
       "                <td><strong>Stoichiometry</strong></td>\n",
       "                <td>\n",
       "                    <p style='text-align:right'>pheme_m --></p>\n",
       "                    <p style='text-align:right'>Protoheme C34H30FeN4O4 --></p>\n",
       "                </td>\n",
       "            </tr><tr>\n",
       "                <td><strong>GPR</strong></td><td></td>\n",
       "            </tr><tr>\n",
       "                <td><strong>Lower bound</strong></td><td>0</td>\n",
       "            </tr><tr>\n",
       "                <td><strong>Upper bound</strong></td><td>1000.0</td>\n",
       "            </tr>\n",
       "        </table>\n",
       "        "
      ],
      "text/plain": [
       "<Reaction DM_pheme_m at 0x1d40456ed88>"
      ]
     },
     "execution_count": 30,
     "metadata": {},
     "output_type": "execute_result"
    }
   ],
   "source": [
    "model2.add_boundary(model2.metabolites.s_0712, type='demand') # adds the exchange reaction for heme\n",
    "model.add_boundary(model.metabolites.pheme_m, type='demand') # adds the exchange reaction for heme"
   ]
  },
  {
   "cell_type": "code",
   "execution_count": 31,
   "id": "f783f5f2",
   "metadata": {},
   "outputs": [
    {
     "name": "stdout",
     "output_type": "stream",
     "text": [
      "CLINT YEASTWOODs Maximum theoretical biomass productivity: 0.08798018056718199 /h\n",
      "CLINT YEASTWOODs maximum theoretical productivity of heme  0.13457556935817805 [mmol gDW^-1 h^-1]\n"
     ]
    }
   ],
   "source": [
    "medium = model2.medium\n",
    "with model2:\n",
    "    solution = model2.optimize()\n",
    "    print(\"CLINT YEASTWOODs Maximum theoretical biomass productivity:\", solution.fluxes['r_2111'], '/h')\n",
    "    #medium['EX_glc__D_e'] = 0\n",
    "    #medium['EX_ac_e'] = 10\n",
    "    model2.medium = medium\n",
    "    model2.objective = model2.reactions.DM_s_0712\n",
    "    succ_production = model2.optimize().objective_value\n",
    "    print(\"CLINT YEASTWOODs maximum theoretical productivity of heme \", succ_production, '[mmol gDW^-1 h^-1]')"
   ]
  },
  {
   "cell_type": "code",
   "execution_count": 32,
   "id": "eec8c3af",
   "metadata": {},
   "outputs": [
    {
     "name": "stdout",
     "output_type": "stream",
     "text": [
      "Standard yeast maximum theoretical biomass productivity: 0.2878657037040132 /h\n",
      "Standard yeast maximum theoretical productivity of heme  0.5501893939393896 [mmol gDW^-1 h^-1]\n"
     ]
    }
   ],
   "source": [
    "medium = model.medium\n",
    "with model:\n",
    "    solution = model.optimize()\n",
    "    print(\"Standard yeast maximum theoretical biomass productivity:\", solution.fluxes['BIOMASS_SC5_notrace'], '/h')\n",
    "    #medium['EX_glc__D_e'] = 0\n",
    "    #medium['EX_ac_e'] = 10\n",
    "    model.medium = medium\n",
    "    model.objective = model.reactions.DM_pheme_m\n",
    "    succ_production = model.optimize().objective_value\n",
    "    print(\"Standard yeast maximum theoretical productivity of heme \", succ_production, '[mmol gDW^-1 h^-1]')"
   ]
  },
  {
   "cell_type": "markdown",
   "id": "ba787566",
   "metadata": {},
   "source": [
    "### media manipulation"
   ]
  },
  {
   "cell_type": "markdown",
   "id": "5695b2af",
   "metadata": {},
   "source": [
    "Glucose exchanges:"
   ]
  },
  {
   "cell_type": "code",
   "execution_count": 33,
   "id": "2709b5bb",
   "metadata": {},
   "outputs": [],
   "source": [
    "model2_glc_exchanges = []\n",
    "for i in range (0,len(model2.exchanges)):\n",
    "    if model2.exchanges[i].id[5:]=='0565':\n",
    "        model2_glc_exchanges.append(model2.exchanges[i])"
   ]
  },
  {
   "cell_type": "code",
   "execution_count": 34,
   "id": "c8103b6f",
   "metadata": {},
   "outputs": [
    {
     "data": {
      "text/html": [
       "\n",
       "        <table>\n",
       "            <tr>\n",
       "                <td><strong>Reaction identifier</strong></td><td>EX_e_0565</td>\n",
       "            </tr><tr>\n",
       "                <td><strong>Name</strong></td><td>EX_e_0565</td>\n",
       "            </tr><tr>\n",
       "                <td><strong>Memory address</strong></td>\n",
       "                <td>0x01d408fa0088</td>\n",
       "            </tr><tr>\n",
       "                <td><strong>Stoichiometry</strong></td>\n",
       "                <td>\n",
       "                    <p style='text-align:right'>e_0565 <=></p>\n",
       "                    <p style='text-align:right'>UGP1 [cytoplasm] <=></p>\n",
       "                </td>\n",
       "            </tr><tr>\n",
       "                <td><strong>GPR</strong></td><td></td>\n",
       "            </tr><tr>\n",
       "                <td><strong>Lower bound</strong></td><td>-inf</td>\n",
       "            </tr><tr>\n",
       "                <td><strong>Upper bound</strong></td><td>inf</td>\n",
       "            </tr>\n",
       "        </table>\n",
       "        "
      ],
      "text/plain": [
       "<Reaction EX_e_0565 at 0x1d408fa0088>"
      ]
     },
     "execution_count": 34,
     "metadata": {},
     "output_type": "execute_result"
    }
   ],
   "source": [
    "model2_glc_exchanges[0]"
   ]
  },
  {
   "cell_type": "code",
   "execution_count": 35,
   "id": "70c9b42f",
   "metadata": {},
   "outputs": [
    {
     "data": {
      "text/plain": [
       "[<Reaction EX_epistest_SC_e at 0x1d4083edd48>,\n",
       " <Reaction EX_epist_e at 0x1d4083edc88>,\n",
       " <Reaction EX_ergst_e at 0x1d408576908>,\n",
       " <Reaction EX_ergstest_SC_e at 0x1d408574ec8>,\n",
       " <Reaction EX_13BDglcn_e at 0x1d408577088>,\n",
       " <Reaction EX_etha_e at 0x1d408576b08>,\n",
       " <Reaction EX_2hb_e at 0x1d4085775c8>,\n",
       " <Reaction EX_etoh_e at 0x1d4085777c8>,\n",
       " <Reaction EX_fe2_e at 0x1d408577f48>,\n",
       " <Reaction EX_fecost_e at 0x1d408578988>,\n",
       " <Reaction EX_2mbac_e at 0x1d4085788c8>,\n",
       " <Reaction EX_2mbald_e at 0x1d408578bc8>,\n",
       " <Reaction EX_2mbtoh_e at 0x1d40857a308>,\n",
       " <Reaction EX_2mppal_e at 0x1d40857a5c8>,\n",
       " <Reaction EX_2phetoh_e at 0x1d40857a688>,\n",
       " <Reaction EX_fecostest_SC_e at 0x1d40857a948>,\n",
       " <Reaction EX_fmn_e at 0x1d40857ac48>,\n",
       " <Reaction EX_3c3hmp_e at 0x1d40857b148>,\n",
       " <Reaction EX_3mbald_e at 0x1d40857b5c8>,\n",
       " <Reaction EX_for_e at 0x1d40857bbc8>,\n",
       " <Reaction EX_fru_e at 0x1d40857bb48>,\n",
       " <Reaction EX_3mop_e at 0x1d40857bd88>,\n",
       " <Reaction EX_4abut_e at 0x1d40857d888>,\n",
       " <Reaction EX_fum_e at 0x1d40857eac8>,\n",
       " <Reaction EX_g3pc_e at 0x1d40857ea48>,\n",
       " <Reaction EX_4abz_e at 0x1d408572188>,\n",
       " <Reaction EX_5aop_e at 0x1d40857f808>,\n",
       " <Reaction EX_g3pi_e at 0x1d408581b08>,\n",
       " <Reaction EX_gal_e at 0x1d40857fcc8>,\n",
       " <Reaction EX_8aonn_e at 0x1d408581348>,\n",
       " <Reaction EX_Nbfortyr_e at 0x1d408581e88>,\n",
       " <Reaction EX_abt_e at 0x1d408582388>,\n",
       " <Reaction EX_ac_e at 0x1d408582b48>,\n",
       " <Reaction EX_acald_e at 0x1d408582dc8>,\n",
       " <Reaction EX_aces_e at 0x1d408582e88>,\n",
       " <Reaction EX_galur_e at 0x1d408583148>,\n",
       " <Reaction EX_gam6p_e at 0x1d4085838c8>,\n",
       " <Reaction EX_gcald_e at 0x1d408583f08>,\n",
       " <Reaction EX_glc__D_e at 0x1d408584208>,\n",
       " <Reaction EX_gln__L_e at 0x1d408584308>,\n",
       " <Reaction EX_glu__L_e at 0x1d408584088>,\n",
       " <Reaction EX_glx_e at 0x1d408584a48>,\n",
       " <Reaction EX_ade_e at 0x1d4085864c8>,\n",
       " <Reaction EX_adn_e at 0x1d408586708>,\n",
       " <Reaction EX_akg_e at 0x1d408587148>,\n",
       " <Reaction EX_ala__L_e at 0x1d408587788>,\n",
       " <Reaction EX_gly_e at 0x1d408587bc8>,\n",
       " <Reaction EX_glyc_e at 0x1d408587f88>,\n",
       " <Reaction EX_gsn_e at 0x1d408589208>,\n",
       " <Reaction EX_gthox_e at 0x1d40858b288>,\n",
       " <Reaction EX_gthrd_e at 0x1d40858ac08>,\n",
       " <Reaction EX_alltn_e at 0x1d40858ab48>,\n",
       " <Reaction EX_alltt_e at 0x1d40858b5c8>,\n",
       " <Reaction EX_amet_e at 0x1d40858bb48>,\n",
       " <Reaction EX_arab__D_e at 0x1d40858c048>,\n",
       " <Reaction EX_arab__L_e at 0x1d40858c588>,\n",
       " <Reaction EX_gua_e at 0x1d40858c688>,\n",
       " <Reaction EX_arg__L_e at 0x1d40858cc88>,\n",
       " <Reaction EX_h2o_e at 0x1d40858ce88>,\n",
       " <Reaction EX_h_e at 0x1d40858e408>,\n",
       " <Reaction EX_hdca_e at 0x1d408591dc8>,\n",
       " <Reaction EX_hdcea_e at 0x1d408591bc8>,\n",
       " <Reaction EX_asn__L_e at 0x1d408591488>,\n",
       " <Reaction EX_asp__L_e at 0x1d408592f48>,\n",
       " <Reaction EX_btd_RR_e at 0x1d408593508>,\n",
       " <Reaction EX_btn_e at 0x1d4085935c8>,\n",
       " <Reaction EX_hexc_e at 0x1d408593a08>,\n",
       " <Reaction EX_his__L_e at 0x1d408595108>,\n",
       " <Reaction EX_hxan_e at 0x1d408591d48>,\n",
       " <Reaction EX_iamac_e at 0x1d408597108>,\n",
       " <Reaction EX_iamoh_e at 0x1d408595a08>,\n",
       " <Reaction EX_ibutac_e at 0x1d4085976c8>,\n",
       " <Reaction EX_chol_e at 0x1d408597cc8>,\n",
       " <Reaction EX_cit_e at 0x1d408597d88>,\n",
       " <Reaction EX_co2_e at 0x1d408596288>,\n",
       " <Reaction EX_crn_e at 0x1d408596d08>,\n",
       " <Reaction EX_csn_e at 0x1d408598048>,\n",
       " <Reaction EX_cys__L_e at 0x1d408598548>,\n",
       " <Reaction EX_cytd_e at 0x1d40859a8c8>,\n",
       " <Reaction EX_dad_2_e at 0x1d40859af48>,\n",
       " <Reaction EX_dann_e at 0x1d40859b248>,\n",
       " <Reaction EX_ibutoh_e at 0x1d40859b948>,\n",
       " <Reaction EX_id3acald_e at 0x1d40859bcc8>,\n",
       " <Reaction EX_ile__L_e at 0x1d40859d1c8>,\n",
       " <Reaction EX_ind3eth_e at 0x1d40859d2c8>,\n",
       " <Reaction EX_inost_e at 0x1d40859d588>,\n",
       " <Reaction EX_dca_e at 0x1d40859d8c8>,\n",
       " <Reaction EX_dcyt_e at 0x1d40859dd08>,\n",
       " <Reaction EX_ddca_e at 0x1d40859e208>,\n",
       " <Reaction EX_ins_e at 0x1d40859e708>,\n",
       " <Reaction EX_k_e at 0x1d40859e7c8>,\n",
       " <Reaction EX_dgsn_e at 0x1d40859ec08>,\n",
       " <Reaction EX_din_e at 0x1d40859ee88>,\n",
       " <Reaction EX_lac__D_e at 0x1d40859efc8>,\n",
       " <Reaction EX_lac__L_e at 0x1d4085a3808>,\n",
       " <Reaction EX_lanost_e at 0x1d4085a4e88>,\n",
       " <Reaction EX_lanostest_SC_e at 0x1d4085a3c88>,\n",
       " <Reaction EX_dttp_e at 0x1d4085a4808>,\n",
       " <Reaction EX_duri_e at 0x1d4085a6648>,\n",
       " <Reaction EX_leu__L_e at 0x1d4085a6488>,\n",
       " <Reaction EX_lys__L_e at 0x1d4085a6c08>,\n",
       " <Reaction EX_mal__L_e at 0x1d4085a79c8>,\n",
       " <Reaction EX_malt_e at 0x1d4085a7f88>,\n",
       " <Reaction EX_ribflv_e at 0x1d4085a7908>,\n",
       " <Reaction EX_sbt__D_e at 0x1d4085a8548>,\n",
       " <Reaction EX_man_e at 0x1d4085a8e08>,\n",
       " <Reaction EX_melib_e at 0x1d4085a9988>,\n",
       " <Reaction EX_met__L_e at 0x1d4085ab348>,\n",
       " <Reaction EX_mmet_e at 0x1d4085ab088>,\n",
       " <Reaction EX_na1_e at 0x1d4085ab608>,\n",
       " <Reaction EX_nac_e at 0x1d4085ab6c8>,\n",
       " <Reaction EX_sbt__L_e at 0x1d4085abe08>,\n",
       " <Reaction EX_ser__L_e at 0x1d4085abf48>,\n",
       " <Reaction EX_so3_e at 0x1d4085ad6c8>,\n",
       " <Reaction EX_so4_e at 0x1d4085adc48>,\n",
       " <Reaction EX_spmd_e at 0x1d4085adc08>,\n",
       " <Reaction EX_sprm_e at 0x1d4085ad748>,\n",
       " <Reaction EX_srb__L_e at 0x1d4085afc08>,\n",
       " <Reaction EX_succ_e at 0x1d4085b0a08>,\n",
       " <Reaction EX_nadp_e at 0x1d4085b0e08>,\n",
       " <Reaction EX_nh4_e at 0x1d4085b0f48>,\n",
       " <Reaction EX_nmn_e at 0x1d4085b1308>,\n",
       " <Reaction EX_sucr_e at 0x1d4085b18c8>,\n",
       " <Reaction EX_o2_e at 0x1d4085b19c8>,\n",
       " <Reaction EX_taur_e at 0x1d4085b2808>,\n",
       " <Reaction EX_thm_e at 0x1d4085b2f48>,\n",
       " <Reaction EX_oaa_e at 0x1d4085a7e48>,\n",
       " <Reaction EX_ocdca_e at 0x1d4085b3cc8>,\n",
       " <Reaction EX_ocdcea_e at 0x1d4085b3d08>,\n",
       " <Reaction EX_ocdcya_e at 0x1d4085b6f88>,\n",
       " <Reaction EX_orn_e at 0x1d4085b6fc8>,\n",
       " <Reaction EX_thmmp_e at 0x1d4085b6f08>,\n",
       " <Reaction EX_thmpp_e at 0x1d4085b6808>,\n",
       " <Reaction EX_thr__L_e at 0x1d4085b71c8>,\n",
       " <Reaction EX_thym_e at 0x1d4085b77c8>,\n",
       " <Reaction EX_pacald_e at 0x1d4085b7e88>,\n",
       " <Reaction EX_pap_e at 0x1d4085b9088>,\n",
       " <Reaction EX_thymd_e at 0x1d4085b9848>,\n",
       " <Reaction EX_tre_e at 0x1d4085b9d48>,\n",
       " <Reaction EX_trp__L_e at 0x1d4085bcb08>,\n",
       " <Reaction EX_pc_SC_e at 0x1d4085bc888>,\n",
       " <Reaction EX_pectin_e at 0x1d4085bcc48>,\n",
       " <Reaction EX_pepd_e at 0x1d4085bb048>,\n",
       " <Reaction EX_phe__L_e at 0x1d4085bb708>,\n",
       " <Reaction EX_pheac_e at 0x1d4085bb948>,\n",
       " <Reaction EX_pi_e at 0x1d4085bbb88>,\n",
       " <Reaction EX_pnto__R_e at 0x1d4085bbc88>,\n",
       " <Reaction EX_ttdca_e at 0x1d4085b5588>,\n",
       " <Reaction EX_tyr__L_e at 0x1d4085bd6c8>,\n",
       " <Reaction EX_ura_e at 0x1d4085bdf88>,\n",
       " <Reaction EX_urea_e at 0x1d4085be408>,\n",
       " <Reaction EX_uri_e at 0x1d4085be4c8>,\n",
       " <Reaction EX_val__L_e at 0x1d4085bea08>,\n",
       " <Reaction EX_xan_e at 0x1d4085bf048>,\n",
       " <Reaction EX_xtsn_e at 0x1d4085c1048>,\n",
       " <Reaction EX_pro__L_e at 0x1d4085bcc08>,\n",
       " <Reaction EX_ptd1ino_SC_e at 0x1d4085c3588>,\n",
       " <Reaction EX_ptrc_e at 0x1d4085c1f88>,\n",
       " <Reaction EX_pyr_e at 0x1d4085c3088>,\n",
       " <Reaction EX_xyl__D_e at 0x1d4085c3748>,\n",
       " <Reaction EX_xylt_e at 0x1d4085c3808>,\n",
       " <Reaction EX_rib__D_e at 0x1d4085c3bc8>,\n",
       " <Reaction EX_zymst_e at 0x1d4085c4608>,\n",
       " <Reaction EX_zymstest_SC_e at 0x1d4085bca88>]"
      ]
     },
     "execution_count": 35,
     "metadata": {},
     "output_type": "execute_result"
    }
   ],
   "source": [
    "model.exchanges"
   ]
  },
  {
   "cell_type": "code",
   "execution_count": 36,
   "id": "e368d635",
   "metadata": {},
   "outputs": [
    {
     "data": {
      "text/html": [
       "\n",
       "        <table>\n",
       "            <tr>\n",
       "                <td><strong>Reaction identifier</strong></td><td>EX_e_0565</td>\n",
       "            </tr><tr>\n",
       "                <td><strong>Name</strong></td><td>EX_e_0565</td>\n",
       "            </tr><tr>\n",
       "                <td><strong>Memory address</strong></td>\n",
       "                <td>0x01d408fa0088</td>\n",
       "            </tr><tr>\n",
       "                <td><strong>Stoichiometry</strong></td>\n",
       "                <td>\n",
       "                    <p style='text-align:right'>e_0565 <=></p>\n",
       "                    <p style='text-align:right'>UGP1 [cytoplasm] <=></p>\n",
       "                </td>\n",
       "            </tr><tr>\n",
       "                <td><strong>GPR</strong></td><td></td>\n",
       "            </tr><tr>\n",
       "                <td><strong>Lower bound</strong></td><td>-inf</td>\n",
       "            </tr><tr>\n",
       "                <td><strong>Upper bound</strong></td><td>inf</td>\n",
       "            </tr>\n",
       "        </table>\n",
       "        "
      ],
      "text/plain": [
       "<Reaction EX_e_0565 at 0x1d408fa0088>"
      ]
     },
     "execution_count": 36,
     "metadata": {},
     "output_type": "execute_result"
    }
   ],
   "source": [
    "model2.reactions.get_by_id(\"EX_e_0565\")"
   ]
  },
  {
   "cell_type": "code",
   "execution_count": 37,
   "id": "3ad343e3",
   "metadata": {},
   "outputs": [
    {
     "data": {
      "text/html": [
       "\n",
       "        <table>\n",
       "            <tr>\n",
       "                <td><strong>Reaction identifier</strong></td><td>EX_glc__D_e</td>\n",
       "            </tr><tr>\n",
       "                <td><strong>Name</strong></td><td>D-Glucose exchange</td>\n",
       "            </tr><tr>\n",
       "                <td><strong>Memory address</strong></td>\n",
       "                <td>0x01d408584208</td>\n",
       "            </tr><tr>\n",
       "                <td><strong>Stoichiometry</strong></td>\n",
       "                <td>\n",
       "                    <p style='text-align:right'>glc__D_e <=></p>\n",
       "                    <p style='text-align:right'>D-Glucose <=></p>\n",
       "                </td>\n",
       "            </tr><tr>\n",
       "                <td><strong>GPR</strong></td><td></td>\n",
       "            </tr><tr>\n",
       "                <td><strong>Lower bound</strong></td><td>-10.0</td>\n",
       "            </tr><tr>\n",
       "                <td><strong>Upper bound</strong></td><td>999999.0</td>\n",
       "            </tr>\n",
       "        </table>\n",
       "        "
      ],
      "text/plain": [
       "<Reaction EX_glc__D_e at 0x1d408584208>"
      ]
     },
     "execution_count": 37,
     "metadata": {},
     "output_type": "execute_result"
    }
   ],
   "source": [
    "model.reactions.get_by_id('EX_glc__D_e')"
   ]
  },
  {
   "cell_type": "code",
   "execution_count": 38,
   "id": "45dbb451",
   "metadata": {},
   "outputs": [
    {
     "name": "stdout",
     "output_type": "stream",
     "text": [
      "with a glucose exchange rate of 10:\n",
      "CLINT YEASTWOODs Maximum theoretical biomass productivity: 0.08798018089797256 /h\n",
      "CLINT YEASTWOODs maximum theoretical productivity of heme  0.13457556935817813 [mmol gDW^-1 h^-1]\n",
      "Standard yeast maximum theoretical biomass productivity: 0.28786570370401776 /h\n",
      "Standard yeast maximum theoretical productivity of heme  0.5501893939393941 [mmol gDW^-1 h^-1]\n"
     ]
    }
   ],
   "source": [
    "print(\"with a glucose exchange rate of 10:\")\n",
    "\n",
    "medium = model2.medium\n",
    "with model2:\n",
    "    solution = model2.optimize()\n",
    "    print(\"CLINT YEASTWOODs Maximum theoretical biomass productivity:\", solution.fluxes['r_2111'], '/h')\n",
    "    medium['EX_e_0565'] = 10\n",
    "    model2.medium = medium\n",
    "    model2.objective = model2.reactions.DM_s_0712\n",
    "    succ_production = model2.optimize().objective_value\n",
    "    print(\"CLINT YEASTWOODs maximum theoretical productivity of heme \", succ_production, '[mmol gDW^-1 h^-1]')\n",
    "\n",
    "\n",
    "medium = model.medium\n",
    "with model:\n",
    "    solution = model.optimize()\n",
    "    print(\"Standard yeast maximum theoretical biomass productivity:\", solution.fluxes['BIOMASS_SC5_notrace'], '/h')\n",
    "    medium['EX_glc__D_e'] = 10\n",
    "    model.medium = medium\n",
    "    model.objective = model.reactions.DM_pheme_m\n",
    "    succ_production = model.optimize().objective_value\n",
    "    print(\"Standard yeast maximum theoretical productivity of heme \", succ_production, '[mmol gDW^-1 h^-1]')"
   ]
  },
  {
   "cell_type": "code",
   "execution_count": 39,
   "id": "0b6fdff3",
   "metadata": {},
   "outputs": [
    {
     "name": "stdout",
     "output_type": "stream",
     "text": [
      "with a glucose exchange rate of 100:\n",
      "CLINT YEASTWOODs Maximum theoretical biomass productivity: 0.08798018089797215 /h\n",
      "CLINT YEASTWOODs maximum theoretical productivity of heme  0.13457556935817827 [mmol gDW^-1 h^-1]\n",
      "Standard yeast maximum theoretical biomass productivity: 0.28786570370401054 /h\n",
      "Standard yeast maximum theoretical productivity of heme  0.8 [mmol gDW^-1 h^-1]\n"
     ]
    }
   ],
   "source": [
    "print(\"with a glucose exchange rate of 100:\")\n",
    "\n",
    "medium = model2.medium\n",
    "with model2:\n",
    "    solution = model2.optimize()\n",
    "    print(\"CLINT YEASTWOODs Maximum theoretical biomass productivity:\", solution.fluxes['r_2111'], '/h')\n",
    "    medium['EX_e_0565'] = 100\n",
    "    model2.medium = medium\n",
    "    model2.objective = model2.reactions.DM_s_0712\n",
    "    succ_production = model2.optimize().objective_value\n",
    "    print(\"CLINT YEASTWOODs maximum theoretical productivity of heme \", succ_production, '[mmol gDW^-1 h^-1]')\n",
    "\n",
    "\n",
    "medium = model.medium\n",
    "with model:\n",
    "    solution = model.optimize()\n",
    "    print(\"Standard yeast maximum theoretical biomass productivity:\", solution.fluxes['BIOMASS_SC5_notrace'], '/h')\n",
    "    medium['EX_glc__D_e'] = 100\n",
    "    model.medium = medium\n",
    "    model.objective = model.reactions.DM_pheme_m\n",
    "    succ_production = model.optimize().objective_value\n",
    "    print(\"Standard yeast maximum theoretical productivity of heme \", succ_production, '[mmol gDW^-1 h^-1]')"
   ]
  },
  {
   "cell_type": "code",
   "execution_count": 40,
   "id": "e448856f",
   "metadata": {},
   "outputs": [
    {
     "data": {
      "text/plain": [
       "{'EX_fe2_e': 999999.0,\n",
       " 'EX_glc__D_e': 10.0,\n",
       " 'EX_h2o_e': 999999.0,\n",
       " 'EX_h_e': 999999.0,\n",
       " 'EX_k_e': 999999.0,\n",
       " 'EX_na1_e': 999999.0,\n",
       " 'EX_so4_e': 999999.0,\n",
       " 'EX_nh4_e': 999999.0,\n",
       " 'EX_o2_e': 2.0,\n",
       " 'EX_pi_e': 999999.0}"
      ]
     },
     "execution_count": 40,
     "metadata": {},
     "output_type": "execute_result"
    }
   ],
   "source": [
    "model.medium"
   ]
  },
  {
   "cell_type": "markdown",
   "id": "cf291e97",
   "metadata": {},
   "source": [
    "Something is wrong with the model that with a comprehensive iron metabolism."
   ]
  },
  {
   "cell_type": "code",
   "execution_count": 41,
   "id": "7c287542",
   "metadata": {},
   "outputs": [
    {
     "name": "stdout",
     "output_type": "stream",
     "text": [
      "with all exchanges rate unchanged in the medium:\n",
      "Standard yeast maximum theoretical biomass productivity: 0.28786570370401676 /h\n",
      "with all exchanges rate of 10 in the medium:\n",
      "Standard yeast maximum theoretical biomass productivity: 0.28786570370401676 /h\n"
     ]
    }
   ],
   "source": [
    "medium = model.medium\n",
    "with model:\n",
    "    print(\"with all exchanges rate unchanged in the medium:\")\n",
    "    solution = model.optimize()\n",
    "    print(\"Standard yeast maximum theoretical biomass productivity:\", solution.fluxes['BIOMASS_SC5_notrace'], '/h')\n",
    "    model.medium = medium    \n",
    "    print(\"with all exchanges rate of 10 in the medium:\")\n",
    "    for i in range (0,len(list(medium))):\n",
    "        medium[list(medium)[i]] = 10\n",
    "    solution = model.optimize()\n",
    "    print(\"Standard yeast maximum theoretical biomass productivity:\", solution.fluxes['BIOMASS_SC5_notrace'], '/h')"
   ]
  },
  {
   "cell_type": "code",
   "execution_count": null,
   "id": "bb7bbf89",
   "metadata": {},
   "outputs": [],
   "source": []
  },
  {
   "cell_type": "code",
   "execution_count": 42,
   "id": "f1104822",
   "metadata": {},
   "outputs": [
    {
     "name": "stdout",
     "output_type": "stream",
     "text": [
      "with all exchanges rate unchanged in the medium:\n",
      "CLINT YEASTWOODs maximum theoretical biomass productivity: 0.08798018089797248 /h\n",
      "with all exchanges rate of 10 in the medium:\n",
      "CLINT YEASTWOODs Maximum theoretical biomass productivity: 0.08798018089797248 /h\n"
     ]
    }
   ],
   "source": [
    "medium = model2.medium\n",
    "with model2:\n",
    "    print(\"with all exchanges rate unchanged in the medium:\")\n",
    "    solution = model2.optimize()\n",
    "    print(\"CLINT YEASTWOODs maximum theoretical biomass productivity:\", solution.fluxes['r_2111'], '/h')\n",
    "    model2.medium = medium\n",
    "    print(\"with all exchanges rate of 10 in the medium:\")\n",
    "    for i in range (0,len(list(medium))):\n",
    "        medium[list(medium)[i]] = 10\n",
    "    solution = model2.optimize()\n",
    "    print(\"CLINT YEASTWOODs Maximum theoretical biomass productivity:\", solution.fluxes['r_2111'], '/h')"
   ]
  },
  {
   "cell_type": "markdown",
   "id": "7ed21a9a",
   "metadata": {},
   "source": [
    "The model does not appear to respond to changes in the medium. Therefore, it is not an ideal model for us to work with."
   ]
  },
  {
   "cell_type": "markdown",
   "id": "c31ede00-8f87-4499-84f4-dbefe6288737",
   "metadata": {
    "tags": []
   },
   "source": [
    "# Heme\n",
    "\n",
    "Our desired product, which we want to increase the flux to as much as possible, is heme:"
   ]
  },
  {
   "cell_type": "code",
   "execution_count": 43,
   "id": "e554e935-4ec6-45c0-8441-bd3e17e41d18",
   "metadata": {},
   "outputs": [
    {
     "data": {
      "text/html": [
       "\n",
       "        <table>\n",
       "            <tr>\n",
       "                <td><strong>Metabolite identifier</strong></td><td>pheme_m</td>\n",
       "            </tr><tr>\n",
       "                <td><strong>Name</strong></td><td>Protoheme C34H30FeN4O4</td>\n",
       "            </tr><tr>\n",
       "                <td><strong>Memory address</strong></td>\n",
       "                <td>0x01d47fecb108</td>\n",
       "            </tr><tr>\n",
       "                <td><strong>Formula</strong></td><td></td>\n",
       "            </tr><tr>\n",
       "                <td><strong>Compartment</strong></td><td>m</td>\n",
       "            </tr><tr>\n",
       "                <td><strong>In 3 reaction(s)</strong></td><td>\n",
       "                    DM_pheme_m, FCLTm, HEMEOSm</td>\n",
       "            </tr>\n",
       "        </table>"
      ],
      "text/plain": [
       "<Metabolite pheme_m at 0x1d47fecb108>"
      ]
     },
     "execution_count": 43,
     "metadata": {},
     "output_type": "execute_result"
    }
   ],
   "source": [
    "model.metabolites.pheme_m # desired product"
   ]
  },
  {
   "cell_type": "markdown",
   "id": "221d591e-6705-46c0-bee8-dc0db60f019c",
   "metadata": {},
   "source": [
    "We see that the model does not contain information about the elemental composition of heme."
   ]
  },
  {
   "cell_type": "code",
   "execution_count": 44,
   "id": "51a0cbbc-9994-4c87-8223-cf1d2d5feec0",
   "metadata": {},
   "outputs": [
    {
     "data": {
      "text/plain": [
       "{'sbo': 'SBO:0000247',\n",
       " 'bigg.metabolite': 'pheme',\n",
       " 'biocyc': 'META:PROTOHEME',\n",
       " 'chebi': ['CHEBI:60344',\n",
       "  'CHEBI:26355',\n",
       "  'CHEBI:17627',\n",
       "  'CHEBI:5651',\n",
       "  'CHEBI:14957'],\n",
       " 'inchi_key': 'KABFMIBPWCXCRK-RGGAHWMASA-J',\n",
       " 'kegg.compound': 'C00032',\n",
       " 'metanetx.chemical': 'MNXM249',\n",
       " 'reactome.compound': ['917877', '71185', '189444']}"
      ]
     },
     "execution_count": 44,
     "metadata": {},
     "output_type": "execute_result"
    }
   ],
   "source": [
    "model.metabolites.pheme_m.annotation"
   ]
  },
  {
   "cell_type": "markdown",
   "id": "94c7ebd9-d92f-41cc-bb5e-72e53ae57b6c",
   "metadata": {},
   "source": [
    "(...)But is is able to pull external references from databases like Kegg."
   ]
  },
  {
   "cell_type": "code",
   "execution_count": 45,
   "id": "6b631b86",
   "metadata": {},
   "outputs": [
    {
     "data": {
      "text/plain": [
       "frozenset({<Reaction DM_pheme_m at 0x1d40456ed88>,\n",
       "           <Reaction FCLTm at 0x1d408682848>,\n",
       "           <Reaction HEMEOSm at 0x1d4086c4048>})"
      ]
     },
     "execution_count": 45,
     "metadata": {},
     "output_type": "execute_result"
    }
   ],
   "source": [
    "model.metabolites.pheme_m.reactions"
   ]
  },
  {
   "cell_type": "markdown",
   "id": "cadf8095-b69a-4761-acd9-6ea5485a7c58",
   "metadata": {},
   "source": [
    "We see that heme participates in two reactions only (https://www.genome.jp/kegg-bin/show_pathway?sce00860). One involed in its synthesis, and another reaction wherein heme is the substrate."
   ]
  },
  {
   "cell_type": "markdown",
   "id": "196bc294-8170-4a79-bd54-0bd9016e6512",
   "metadata": {},
   "source": [
    "## The heme biosynthetic pathway"
   ]
  },
  {
   "cell_type": "markdown",
   "id": "808937a8-6c04-417b-a4f8-a10c30a7c662",
   "metadata": {},
   "source": [
    "However, we want a lot of Protoheme C34H30FeN4O4 (id: pheme_m). Let's start by figuring out what the flux to heme currently is..."
   ]
  },
  {
   "cell_type": "code",
   "execution_count": 46,
   "id": "6fe99a16-fa2b-4052-83a5-9b5a3575a862",
   "metadata": {},
   "outputs": [
    {
     "data": {
      "text/plain": [
       "0.0"
      ]
     },
     "execution_count": 46,
     "metadata": {},
     "output_type": "execute_result"
    }
   ],
   "source": [
    "model.optimize().fluxes['FCLTm']"
   ]
  },
  {
   "cell_type": "markdown",
   "id": "6b5802d1-0c7c-492a-86bb-aaac372f6045",
   "metadata": {},
   "source": [
    "There is no flux by default. Just like we observed before, heme does not participate in any exchange reactions. Therefore, we will have to add the exchange reaction before we can analyse changes in the flux. "
   ]
  },
  {
   "cell_type": "code",
   "execution_count": 48,
   "id": "54f71820-faf0-46d0-8410-ba4c4040ad31",
   "metadata": {},
   "outputs": [
    {
     "name": "stdout",
     "output_type": "stream",
     "text": [
      "The flux of the last reaction of the heme-pathway - and the maximum production of heme is: 0.5501893939393921 [mmol gDW^-1 h^-1]\n"
     ]
    }
   ],
   "source": [
    "#model.add_boundary(model.metabolites.pheme_m, type='demand') # adds the exchange reaction for heme\n",
    "with model: # measures the flux to heme (by default)\n",
    "    model.objective = model.reactions.FCLTm\n",
    "    print(\"The flux of the last reaction of the heme-pathway - and the maximum production of heme is: \"+str(model.optimize().objective_value)+\" [mmol gDW^-1 h^-1]\")"
   ]
  },
  {
   "cell_type": "markdown",
   "id": "c301005a-a9d0-4785-a50b-d7b36d823a98",
   "metadata": {},
   "source": [
    "We look at the reactions heme is directely involved in... ...and then work backwards to glycine (https://www.genome.jp/kegg-bin/show_pathway?sce00860)"
   ]
  },
  {
   "cell_type": "markdown",
   "id": "87844d7c-bbdc-445d-9d4e-773f24aae6df",
   "metadata": {},
   "source": [
    "From glycine, eight reactions form the shorthest path (natively) in Baker's yeast. These are those reactions in cronological order. "
   ]
  },
  {
   "cell_type": "code",
   "execution_count": 49,
   "id": "4372599e-55cc-42a2-8757-7f247a899803",
   "metadata": {},
   "outputs": [],
   "source": [
    "heme_1 = model.reactions.get_by_id('ALASm')\n",
    "heme_2 = model.reactions.get_by_id('PPBNGS')\n",
    "heme_3 = model.reactions.get_by_id('HMBS')\n",
    "heme_4 = model.reactions.get_by_id('UPP3S') \n",
    "heme_12 = model.reactions.get_by_id('UPPDC1') \n",
    "heme_13 = model.reactions.get_by_id('CPPPGO')\n",
    "heme_14 = model.reactions.get_by_id('PPPGOm') # second to last reaction in the heme biosynthesis\n",
    "heme_15 = model.reactions.get_by_id('FCLTm')\n",
    "heme_pathway = [heme_1,heme_2,heme_3,heme_4,heme_12,heme_13,heme_14,heme_15]"
   ]
  },
  {
   "cell_type": "code",
   "execution_count": 50,
   "id": "5084adeb-d45c-4e72-8b12-ad57a32bdc49",
   "metadata": {},
   "outputs": [
    {
     "data": {
      "text/plain": [
       "{'c': 'cytosol',\n",
       " 'e': 'extracellular space',\n",
       " 'm': 'mitochondria',\n",
       " 'x': 'peroxisome/glyoxysome',\n",
       " 'r': 'endoplasmic reticulum',\n",
       " 'v': 'vacuole',\n",
       " 'g': 'golgi apparatus',\n",
       " 'n': 'nucleus'}"
      ]
     },
     "execution_count": 50,
     "metadata": {},
     "output_type": "execute_result"
    }
   ],
   "source": [
    "model.compartments"
   ]
  },
  {
   "cell_type": "markdown",
   "id": "f6e93203-954f-4401-afe3-adb2f7c91d7e",
   "metadata": {},
   "source": [
    "We see that our model, being a eukaryote, contains more than a few compartments. Heme is synthesised around the mitochondria - with some reactions taking place in the mitochondria and other reactions takning place in the cytosol. "
   ]
  },
  {
   "cell_type": "code",
   "execution_count": 51,
   "id": "6ae17207-c0c0-4f86-bcb6-ac219e375cf1",
   "metadata": {},
   "outputs": [
    {
     "name": "stdout",
     "output_type": "stream",
     "text": [
      "4.401515151515137 ALASm gly_m + h_m + succoa_m --> 5aop_m + co2_m + coa_m 5 aminolevulinate synthase\n",
      "2.2007575757575686 PPBNGS 2.0 5aop_c --> 2.0 h2o_c + h_c + ppbng_c Porphobilinogen synthase\n",
      "0.5501893939393921 HMBS h2o_c + 4.0 ppbng_c --> hmbil_c + 4.0 nh4_c Hydroxymethylbilane synthase\n",
      "0.5501893939393921 UPP3S hmbil_c --> h2o_c + uppg3_c Uroporphyrinogen-III synthase\n",
      "0.5501893939393921 UPPDC1 4.0 h_c + uppg3_c --> 4.0 co2_c + cpppg3_c Uroporphyrinogen decarboxylase (uroporphyrinogen III)\n",
      "0.5501893939393921 CPPPGO cpppg3_c + 2.0 h_c + o2_c --> 2.0 co2_c + 2.0 h2o_c + pppg9_c Coproporphyrinogen oxidase (O2 required)\n",
      "0.2750946969696961 PPPGOm 3.0 o2_m + 2.0 pppg9_m --> 6.0 h2o_m + 2.0 ppp9_m Protoporphyrinogen oxidase  mitochondrial\n",
      "0.5501893939393921 FCLTm fe2_m + ppp9_m --> 2.0 h_m + pheme_m Ferrochelatase  mitochondrial\n"
     ]
    }
   ],
   "source": [
    "for i in range (0,len(heme_pathway)):\n",
    "    with model:\n",
    "        model.objective = heme_pathway[-1] # calculates the flux with heme as the objective\n",
    "        print(model.optimize().fluxes[heme_pathway[i].id], heme_pathway[i].id, heme_pathway[i].reaction, heme_pathway[i].name)"
   ]
  },
  {
   "cell_type": "markdown",
   "id": "1f2aaf79-3d9e-43ed-a2a2-6e233e795e59",
   "metadata": {},
   "source": [
    "## Heme productivity"
   ]
  },
  {
   "cell_type": "code",
   "execution_count": 52,
   "id": "2ae8e957-2a43-4af8-81d6-bffaa1706d35",
   "metadata": {},
   "outputs": [
    {
     "data": {
      "text/plain": [
       "frozenset({<Reaction DM_pheme_m at 0x1d40456ed88>,\n",
       "           <Reaction FCLTm at 0x1d408682848>,\n",
       "           <Reaction HEMEOSm at 0x1d4086c4048>})"
      ]
     },
     "execution_count": 52,
     "metadata": {},
     "output_type": "execute_result"
    }
   ],
   "source": [
    "model.metabolites.pheme_m.reactions"
   ]
  },
  {
   "cell_type": "code",
   "execution_count": 53,
   "id": "cc406f04-b8a4-4870-b6e4-a511ee10892c",
   "metadata": {},
   "outputs": [
    {
     "data": {
      "text/html": [
       "\n",
       "        <table>\n",
       "            <tr>\n",
       "                <td><strong>Reaction identifier</strong></td><td>DM_pheme_m</td>\n",
       "            </tr><tr>\n",
       "                <td><strong>Name</strong></td><td>Protoheme C34H30FeN4O4 demand</td>\n",
       "            </tr><tr>\n",
       "                <td><strong>Memory address</strong></td>\n",
       "                <td>0x01d40456ed88</td>\n",
       "            </tr><tr>\n",
       "                <td><strong>Stoichiometry</strong></td>\n",
       "                <td>\n",
       "                    <p style='text-align:right'>pheme_m --></p>\n",
       "                    <p style='text-align:right'>Protoheme C34H30FeN4O4 --></p>\n",
       "                </td>\n",
       "            </tr><tr>\n",
       "                <td><strong>GPR</strong></td><td></td>\n",
       "            </tr><tr>\n",
       "                <td><strong>Lower bound</strong></td><td>0</td>\n",
       "            </tr><tr>\n",
       "                <td><strong>Upper bound</strong></td><td>1000.0</td>\n",
       "            </tr>\n",
       "        </table>\n",
       "        "
      ],
      "text/plain": [
       "<Reaction DM_pheme_m at 0x1d40456ed88>"
      ]
     },
     "execution_count": 53,
     "metadata": {},
     "output_type": "execute_result"
    }
   ],
   "source": [
    "model.reactions.DM_pheme_m"
   ]
  },
  {
   "cell_type": "code",
   "execution_count": 54,
   "id": "2c3bb459-6659-42a3-9d26-25ce6fbabaa5",
   "metadata": {},
   "outputs": [
    {
     "name": "stdout",
     "output_type": "stream",
     "text": [
      "Max. heme production [mmol gDW^-1 h^-1]: 0.5501893939393921\n",
      "Theoretical max. yield [mmol-heme / mmol-[CARBON SOURCE]]: 0.05501893939393922\n"
     ]
    }
   ],
   "source": [
    "medium = model.medium\n",
    "with model:\n",
    "    #medium['EX_glc__D_e'] = 0\n",
    "    #medium['EX_ac_e'] = 10\n",
    "    model.medium = medium\n",
    "    model.objective = model.reactions.DM_pheme_m\n",
    "    succ_production = model.optimize().objective_value\n",
    "    print(\"Max. heme production [mmol gDW^-1 h^-1]:\", succ_production)\n",
    "    print(\"Theoretical max. yield [mmol-heme / mmol-[CARBON SOURCE]]:\", succ_production / (-1*model.reactions.EX_glc__D_e.flux))"
   ]
  },
  {
   "cell_type": "markdown",
   "id": "dfe15c1c-79c9-4f93-be68-4b3a4eb898d5",
   "metadata": {},
   "source": [
    "## Phenotypic phase plane analysis"
   ]
  },
  {
   "cell_type": "code",
   "execution_count": 55,
   "id": "dd95625d-f7fa-4bb1-8a30-eb2ad6b42f57",
   "metadata": {},
   "outputs": [],
   "source": [
    "from cobra.flux_analysis.phenotype_phase_plane import production_envelope"
   ]
  },
  {
   "cell_type": "code",
   "execution_count": 56,
   "id": "d9790248-4cfa-4b8a-a48e-2d0019ef59cb",
   "metadata": {},
   "outputs": [
    {
     "name": "stdout",
     "output_type": "stream",
     "text": [
      "Maximize\n",
      "1.0*BIOMASS_SC5_notrace - 1.0*BIOMASS_SC5_notrace_reverse_93090\n"
     ]
    }
   ],
   "source": [
    "print(model.objective)"
   ]
  },
  {
   "cell_type": "code",
   "execution_count": 57,
   "id": "534d80c2-4bc8-4e2b-b2b4-e46ba8946146",
   "metadata": {},
   "outputs": [
    {
     "data": {
      "text/html": [
       "<div>\n",
       "<style scoped>\n",
       "    .dataframe tbody tr th:only-of-type {\n",
       "        vertical-align: middle;\n",
       "    }\n",
       "\n",
       "    .dataframe tbody tr th {\n",
       "        vertical-align: top;\n",
       "    }\n",
       "\n",
       "    .dataframe thead th {\n",
       "        text-align: right;\n",
       "    }\n",
       "</style>\n",
       "<table border=\"1\" class=\"dataframe\">\n",
       "  <thead>\n",
       "    <tr style=\"text-align: right;\">\n",
       "      <th></th>\n",
       "      <th>carbon_source</th>\n",
       "      <th>flux_minimum</th>\n",
       "      <th>carbon_yield_minimum</th>\n",
       "      <th>mass_yield_minimum</th>\n",
       "      <th>flux_maximum</th>\n",
       "      <th>carbon_yield_maximum</th>\n",
       "      <th>mass_yield_maximum</th>\n",
       "      <th>EX_glc__D_e</th>\n",
       "    </tr>\n",
       "  </thead>\n",
       "  <tbody>\n",
       "    <tr>\n",
       "      <th>0</th>\n",
       "      <td>EX_glc__D_e</td>\n",
       "      <td>0.0</td>\n",
       "      <td>0.0</td>\n",
       "      <td>NaN</td>\n",
       "      <td>0.287866</td>\n",
       "      <td>3.016363e+00</td>\n",
       "      <td>NaN</td>\n",
       "      <td>-10.000000</td>\n",
       "    </tr>\n",
       "    <tr>\n",
       "      <th>1</th>\n",
       "      <td>EX_glc__D_e</td>\n",
       "      <td>0.0</td>\n",
       "      <td>0.0</td>\n",
       "      <td>NaN</td>\n",
       "      <td>0.275435</td>\n",
       "      <td>3.045455e+00</td>\n",
       "      <td>NaN</td>\n",
       "      <td>-9.476780</td>\n",
       "    </tr>\n",
       "    <tr>\n",
       "      <th>2</th>\n",
       "      <td>EX_glc__D_e</td>\n",
       "      <td>0.0</td>\n",
       "      <td>0.0</td>\n",
       "      <td>NaN</td>\n",
       "      <td>0.263005</td>\n",
       "      <td>3.077947e+00</td>\n",
       "      <td>NaN</td>\n",
       "      <td>-8.953560</td>\n",
       "    </tr>\n",
       "    <tr>\n",
       "      <th>3</th>\n",
       "      <td>EX_glc__D_e</td>\n",
       "      <td>0.0</td>\n",
       "      <td>0.0</td>\n",
       "      <td>NaN</td>\n",
       "      <td>0.250574</td>\n",
       "      <td>3.114473e+00</td>\n",
       "      <td>NaN</td>\n",
       "      <td>-8.430341</td>\n",
       "    </tr>\n",
       "    <tr>\n",
       "      <th>4</th>\n",
       "      <td>EX_glc__D_e</td>\n",
       "      <td>0.0</td>\n",
       "      <td>0.0</td>\n",
       "      <td>NaN</td>\n",
       "      <td>0.238143</td>\n",
       "      <td>3.155832e+00</td>\n",
       "      <td>NaN</td>\n",
       "      <td>-7.907121</td>\n",
       "    </tr>\n",
       "    <tr>\n",
       "      <th>5</th>\n",
       "      <td>EX_glc__D_e</td>\n",
       "      <td>0.0</td>\n",
       "      <td>0.0</td>\n",
       "      <td>NaN</td>\n",
       "      <td>0.225713</td>\n",
       "      <td>3.203053e+00</td>\n",
       "      <td>NaN</td>\n",
       "      <td>-7.383901</td>\n",
       "    </tr>\n",
       "    <tr>\n",
       "      <th>6</th>\n",
       "      <td>EX_glc__D_e</td>\n",
       "      <td>0.0</td>\n",
       "      <td>0.0</td>\n",
       "      <td>NaN</td>\n",
       "      <td>0.213282</td>\n",
       "      <td>3.257476e+00</td>\n",
       "      <td>NaN</td>\n",
       "      <td>-6.860681</td>\n",
       "    </tr>\n",
       "    <tr>\n",
       "      <th>7</th>\n",
       "      <td>EX_glc__D_e</td>\n",
       "      <td>0.0</td>\n",
       "      <td>0.0</td>\n",
       "      <td>NaN</td>\n",
       "      <td>0.200852</td>\n",
       "      <td>3.320885e+00</td>\n",
       "      <td>NaN</td>\n",
       "      <td>-6.337461</td>\n",
       "    </tr>\n",
       "    <tr>\n",
       "      <th>8</th>\n",
       "      <td>EX_glc__D_e</td>\n",
       "      <td>0.0</td>\n",
       "      <td>0.0</td>\n",
       "      <td>NaN</td>\n",
       "      <td>0.188421</td>\n",
       "      <td>3.395707e+00</td>\n",
       "      <td>NaN</td>\n",
       "      <td>-5.814241</td>\n",
       "    </tr>\n",
       "    <tr>\n",
       "      <th>9</th>\n",
       "      <td>EX_glc__D_e</td>\n",
       "      <td>0.0</td>\n",
       "      <td>0.0</td>\n",
       "      <td>NaN</td>\n",
       "      <td>0.175991</td>\n",
       "      <td>3.485327e+00</td>\n",
       "      <td>NaN</td>\n",
       "      <td>-5.291022</td>\n",
       "    </tr>\n",
       "    <tr>\n",
       "      <th>10</th>\n",
       "      <td>EX_glc__D_e</td>\n",
       "      <td>0.0</td>\n",
       "      <td>0.0</td>\n",
       "      <td>NaN</td>\n",
       "      <td>0.163560</td>\n",
       "      <td>3.594617e+00</td>\n",
       "      <td>NaN</td>\n",
       "      <td>-4.767802</td>\n",
       "    </tr>\n",
       "    <tr>\n",
       "      <th>11</th>\n",
       "      <td>EX_glc__D_e</td>\n",
       "      <td>0.0</td>\n",
       "      <td>0.0</td>\n",
       "      <td>NaN</td>\n",
       "      <td>0.151129</td>\n",
       "      <td>3.730850e+00</td>\n",
       "      <td>NaN</td>\n",
       "      <td>-4.244582</td>\n",
       "    </tr>\n",
       "    <tr>\n",
       "      <th>12</th>\n",
       "      <td>EX_glc__D_e</td>\n",
       "      <td>0.0</td>\n",
       "      <td>0.0</td>\n",
       "      <td>NaN</td>\n",
       "      <td>0.138699</td>\n",
       "      <td>3.905392e+00</td>\n",
       "      <td>NaN</td>\n",
       "      <td>-3.721362</td>\n",
       "    </tr>\n",
       "    <tr>\n",
       "      <th>13</th>\n",
       "      <td>EX_glc__D_e</td>\n",
       "      <td>0.0</td>\n",
       "      <td>0.0</td>\n",
       "      <td>NaN</td>\n",
       "      <td>0.126268</td>\n",
       "      <td>4.137045e+00</td>\n",
       "      <td>NaN</td>\n",
       "      <td>-3.198142</td>\n",
       "    </tr>\n",
       "    <tr>\n",
       "      <th>14</th>\n",
       "      <td>EX_glc__D_e</td>\n",
       "      <td>0.0</td>\n",
       "      <td>0.0</td>\n",
       "      <td>NaN</td>\n",
       "      <td>0.113838</td>\n",
       "      <td>4.459321e+00</td>\n",
       "      <td>NaN</td>\n",
       "      <td>-2.674923</td>\n",
       "    </tr>\n",
       "    <tr>\n",
       "      <th>15</th>\n",
       "      <td>EX_glc__D_e</td>\n",
       "      <td>0.0</td>\n",
       "      <td>0.0</td>\n",
       "      <td>NaN</td>\n",
       "      <td>0.101407</td>\n",
       "      <td>4.938330e+00</td>\n",
       "      <td>NaN</td>\n",
       "      <td>-2.151703</td>\n",
       "    </tr>\n",
       "    <tr>\n",
       "      <th>16</th>\n",
       "      <td>EX_glc__D_e</td>\n",
       "      <td>0.0</td>\n",
       "      <td>0.0</td>\n",
       "      <td>NaN</td>\n",
       "      <td>0.088817</td>\n",
       "      <td>5.714896e+00</td>\n",
       "      <td>NaN</td>\n",
       "      <td>-1.628483</td>\n",
       "    </tr>\n",
       "    <tr>\n",
       "      <th>17</th>\n",
       "      <td>EX_glc__D_e</td>\n",
       "      <td>0.0</td>\n",
       "      <td>0.0</td>\n",
       "      <td>NaN</td>\n",
       "      <td>0.076010</td>\n",
       "      <td>7.206082e+00</td>\n",
       "      <td>NaN</td>\n",
       "      <td>-1.105263</td>\n",
       "    </tr>\n",
       "    <tr>\n",
       "      <th>18</th>\n",
       "      <td>EX_glc__D_e</td>\n",
       "      <td>0.0</td>\n",
       "      <td>0.0</td>\n",
       "      <td>NaN</td>\n",
       "      <td>0.051310</td>\n",
       "      <td>9.237118e+00</td>\n",
       "      <td>NaN</td>\n",
       "      <td>-0.582043</td>\n",
       "    </tr>\n",
       "    <tr>\n",
       "      <th>19</th>\n",
       "      <td>EX_glc__D_e</td>\n",
       "      <td>0.0</td>\n",
       "      <td>0.0</td>\n",
       "      <td>NaN</td>\n",
       "      <td>0.000000</td>\n",
       "      <td>2.440327e-13</td>\n",
       "      <td>NaN</td>\n",
       "      <td>-0.058824</td>\n",
       "    </tr>\n",
       "  </tbody>\n",
       "</table>\n",
       "</div>"
      ],
      "text/plain": [
       "   carbon_source  flux_minimum  carbon_yield_minimum  mass_yield_minimum  \\\n",
       "0    EX_glc__D_e           0.0                   0.0                 NaN   \n",
       "1    EX_glc__D_e           0.0                   0.0                 NaN   \n",
       "2    EX_glc__D_e           0.0                   0.0                 NaN   \n",
       "3    EX_glc__D_e           0.0                   0.0                 NaN   \n",
       "4    EX_glc__D_e           0.0                   0.0                 NaN   \n",
       "5    EX_glc__D_e           0.0                   0.0                 NaN   \n",
       "6    EX_glc__D_e           0.0                   0.0                 NaN   \n",
       "7    EX_glc__D_e           0.0                   0.0                 NaN   \n",
       "8    EX_glc__D_e           0.0                   0.0                 NaN   \n",
       "9    EX_glc__D_e           0.0                   0.0                 NaN   \n",
       "10   EX_glc__D_e           0.0                   0.0                 NaN   \n",
       "11   EX_glc__D_e           0.0                   0.0                 NaN   \n",
       "12   EX_glc__D_e           0.0                   0.0                 NaN   \n",
       "13   EX_glc__D_e           0.0                   0.0                 NaN   \n",
       "14   EX_glc__D_e           0.0                   0.0                 NaN   \n",
       "15   EX_glc__D_e           0.0                   0.0                 NaN   \n",
       "16   EX_glc__D_e           0.0                   0.0                 NaN   \n",
       "17   EX_glc__D_e           0.0                   0.0                 NaN   \n",
       "18   EX_glc__D_e           0.0                   0.0                 NaN   \n",
       "19   EX_glc__D_e           0.0                   0.0                 NaN   \n",
       "\n",
       "    flux_maximum  carbon_yield_maximum  mass_yield_maximum  EX_glc__D_e  \n",
       "0       0.287866          3.016363e+00                 NaN   -10.000000  \n",
       "1       0.275435          3.045455e+00                 NaN    -9.476780  \n",
       "2       0.263005          3.077947e+00                 NaN    -8.953560  \n",
       "3       0.250574          3.114473e+00                 NaN    -8.430341  \n",
       "4       0.238143          3.155832e+00                 NaN    -7.907121  \n",
       "5       0.225713          3.203053e+00                 NaN    -7.383901  \n",
       "6       0.213282          3.257476e+00                 NaN    -6.860681  \n",
       "7       0.200852          3.320885e+00                 NaN    -6.337461  \n",
       "8       0.188421          3.395707e+00                 NaN    -5.814241  \n",
       "9       0.175991          3.485327e+00                 NaN    -5.291022  \n",
       "10      0.163560          3.594617e+00                 NaN    -4.767802  \n",
       "11      0.151129          3.730850e+00                 NaN    -4.244582  \n",
       "12      0.138699          3.905392e+00                 NaN    -3.721362  \n",
       "13      0.126268          4.137045e+00                 NaN    -3.198142  \n",
       "14      0.113838          4.459321e+00                 NaN    -2.674923  \n",
       "15      0.101407          4.938330e+00                 NaN    -2.151703  \n",
       "16      0.088817          5.714896e+00                 NaN    -1.628483  \n",
       "17      0.076010          7.206082e+00                 NaN    -1.105263  \n",
       "18      0.051310          9.237118e+00                 NaN    -0.582043  \n",
       "19      0.000000          2.440327e-13                 NaN    -0.058824  "
      ]
     },
     "execution_count": 57,
     "metadata": {},
     "output_type": "execute_result"
    }
   ],
   "source": [
    "ppp_succ = production_envelope(model,\n",
    "                    reactions=[model.reactions.EX_glc__D_e],\n",
    "                    objective=model.reactions.BIOMASS_SC5_notrace)\n",
    "ppp_succ"
   ]
  },
  {
   "cell_type": "code",
   "execution_count": 58,
   "id": "e6a999d7-91b6-4568-9a95-1571045a018c",
   "metadata": {},
   "outputs": [
    {
     "data": {
      "text/plain": [
       "<matplotlib.axes._subplots.AxesSubplot at 0x1d403d78bc8>"
      ]
     },
     "execution_count": 58,
     "metadata": {},
     "output_type": "execute_result"
    },
    {
     "data": {
      "image/png": "[encoded data removed]",
      "text/plain": [
       "<Figure size 432x288 with 1 Axes>"
      ]
     },
     "metadata": {
      "needs_background": "light"
     },
     "output_type": "display_data"
    }
   ],
   "source": [
    "ppp_succ.plot(x='EX_glc__D_e', y='flux_maximum')"
   ]
  },
  {
   "cell_type": "markdown",
   "id": "d303985f-a6b1-4990-b7e0-fa12a45451ba",
   "metadata": {},
   "source": [
    "Use `production_envelope` to determine the optimal O2 uptake rate."
   ]
  },
  {
   "cell_type": "code",
   "execution_count": 61,
   "id": "5d062695-1b86-4eb0-a716-923bda983bbd",
   "metadata": {},
   "outputs": [],
   "source": [
    "ppp_o2 = production_envelope(model,\n",
    "                    reactions=[model.reactions.EX_o2_e],\n",
    "                    objective=model.reactions.BIOMASS_SC5_notrace)"
   ]
  },
  {
   "cell_type": "code",
   "execution_count": 62,
   "id": "63a9638f-aacf-435c-afcb-381b2c53c387",
   "metadata": {},
   "outputs": [
    {
     "data": {
      "text/plain": [
       "-2.0"
      ]
     },
     "execution_count": 62,
     "metadata": {},
     "output_type": "execute_result"
    }
   ],
   "source": [
    "ppp_o2.EX_o2_e[ppp_o2.flux_maximum.idxmax()]"
   ]
  },
  {
   "cell_type": "code",
   "execution_count": 63,
   "id": "1f8c73ab-d413-40c7-b615-24dc6b4037d4",
   "metadata": {},
   "outputs": [
    {
     "data": {
      "text/plain": [
       "<matplotlib.axes._subplots.AxesSubplot at 0x1d403324a48>"
      ]
     },
     "execution_count": 63,
     "metadata": {},
     "output_type": "execute_result"
    },
    {
     "data": {
      "image/png": "[encoded data removed]",
      "text/plain": [
       "<Figure size 432x288 with 1 Axes>"
      ]
     },
     "metadata": {
      "needs_background": "light"
     },
     "output_type": "display_data"
    }
   ],
   "source": [
    "ppp_o2.plot(x='EX_o2_e', y='flux_maximum')"
   ]
  },
  {
   "cell_type": "code",
   "execution_count": null,
   "id": "c8b2c1d4-33ec-459d-8543-a4d48b3520dd",
   "metadata": {},
   "outputs": [],
   "source": []
  }
 ],
 "metadata": {
  "kernelspec": {
   "display_name": "Python 3 (ipykernel)",
   "language": "python",
   "name": "python3"
  },
  "language_info": {
   "codemirror_mode": {
    "name": "ipython",
    "version": 3
   },
   "file_extension": ".py",
   "mimetype": "text/x-python",
   "name": "python",
   "nbconvert_exporter": "python",
   "pygments_lexer": "ipython3",
   "version": "3.7.11"
  }
 },
 "nbformat": 4,
 "nbformat_minor": 5
}
