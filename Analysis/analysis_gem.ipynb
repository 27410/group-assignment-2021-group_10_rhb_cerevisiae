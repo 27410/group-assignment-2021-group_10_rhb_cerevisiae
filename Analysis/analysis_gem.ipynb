{
 "cells": [
  {
   "cell_type": "code",
   "execution_count": 1,
   "id": "326300d8-5b1f-4b4c-ba85-3c789d679311",
   "metadata": {},
   "outputs": [],
   "source": [
    "import csv\n",
    "from cobra.io import read_sbml_model, write_sbml_model\n",
    "from copy import copy\n",
    "from dotenv import find_dotenv\n",
    "import os\n",
    "from os.path import dirname"
   ]
  },
  {
   "cell_type": "code",
   "execution_count": 2,
   "id": "9d712562-83e5-4af0-8f7b-e56b0cdf1920",
   "metadata": {},
   "outputs": [],
   "source": [
    "dotenv_path = find_dotenv()\n",
    "REPO_PATH = dirname(dotenv_path)\n",
    "MODEL_PATH = \"models/yeast-GEM.xml\""
   ]
  },
  {
   "cell_type": "code",
   "execution_count": 3,
   "id": "964b93a2-dcf1-48a9-870d-82a43ffafe7a",
   "metadata": {},
   "outputs": [],
   "source": [
    "#model = read_sbml_model(MODEL_PATH) # Lu, H., Li, F., Sánchez, B.J. et al. A consensus S. cerevisiae metabolic model Yeast8 and its ecosystem for comprehensively probing cellular metabolism. Nat Commun 10, 3586 (2019). https://doi.org/10.1038/s41467-019-11581-3"
   ]
  },
  {
   "cell_type": "code",
   "execution_count": 4,
   "id": "cdaa1b00-c00a-4f2a-900d-48827209ef37",
   "metadata": {},
   "outputs": [],
   "source": [
    "def read_yeast_model(make_bigg_compliant=True):\n",
    "    \"\"\"This function is made by researchers  at \n",
    "    Chalmers University of Technology Department of Biology\n",
    "    and Biological Engineering Division of Systems and \n",
    "    Synthetic Biology in therir project titled \n",
    "    \"The consensus GEM for Saccharomyces cerevisiae\"\n",
    "    which can be found at: https://github.com/SysBioChalmers/yeast-GEM\n",
    "        \n",
    "    The functions reads the SBML file of the yeast model using COBRA, \n",
    "    and imposes changes to the annotations so that the model is BiGG compliant.\n",
    "\n",
    "    Parameters\n",
    "    ----------\n",
    "    make_bigg_compliant : bool, optional\n",
    "        Whether the model should be initialized with BiGG compliance or not.\n",
    "        If false, the original ids/names/compartments will be used instead.\n",
    "\n",
    "    Returns\n",
    "    -------\n",
    "    cobra.core.Model\n",
    "    \"\"\"\n",
    "\n",
    "    # Load model:\n",
    "    model = read_sbml_model(MODEL_PATH)\n",
    "\n",
    "    # Check if already BiGG compliant:\n",
    "    is_bigg_compliant = \"x\" in model.compartments\n",
    "\n",
    "    # Convert to BiGG compliant if not already:\n",
    "    if not is_bigg_compliant and make_bigg_compliant:\n",
    "        # Load met/rxn dictionaries:\n",
    "        def load_bigg_dict(bigg_file_path):\n",
    "            bigg_dict = {}\n",
    "            with open(bigg_file_path) as bigg_file:\n",
    "                bigg_reader = csv.reader(bigg_file, delimiter=',')\n",
    "                for row in bigg_reader:\n",
    "                    bigg_dict[row[0]] = row[1]\n",
    "            return bigg_dict\n",
    "        data_path = f\"{REPO_PATH}/data/databases\"\n",
    "        met_bigg_dict = load_bigg_dict(f\"data/databases/BiGGmetDictionary_newIDs.csv\")\n",
    "        rxn_bigg_dict = load_bigg_dict(f\"data/databases/BiGGrxnDictionary_newIDs.csv\")\n",
    "\n",
    "        # Function for adding unique ids to the model:\n",
    "        def add_new_id(model_element, new_id):\n",
    "            original_id = copy(new_id)\n",
    "            id_assigned = False\n",
    "            copy_number = 1\n",
    "            while not id_assigned:\n",
    "                try:\n",
    "                    if hasattr(model_element, \"compartment\"):  # metabolites\n",
    "                        model_element.id = f\"{new_id}_{model_element.compartment}\"\n",
    "                    else:  # reactions\n",
    "                        model_element.id = new_id\n",
    "                    id_assigned = True\n",
    "                except ValueError:\n",
    "                    new_id = f\"{original_id}_copy{str(copy_number)}\"\n",
    "                    copy_number += 1\n",
    "\n",
    "        # Metabolite changes:\n",
    "        comp_dic = {\"er\":\"r\", \"erm\":\"rm\", \"p\":\"x\"}\n",
    "        for met in model.metabolites:\n",
    "            # Save original id in notes:\n",
    "            met.notes[\"Original ID\"] = met.id\n",
    "            # Change name to not include compartment at the end:\n",
    "            met.name = met.name.replace(f\" [{model.compartments[met.compartment]}]\", \"\")\n",
    "            # Change compartment info:\n",
    "            if met.compartment in comp_dic:\n",
    "                met.compartment = comp_dic[met.compartment]\n",
    "            # Update id with BiGG information:\n",
    "            if \"bigg.metabolite\" in met.annotation:\n",
    "                add_new_id(met, met.annotation['bigg.metabolite'])\n",
    "            elif met.id in met_bigg_dict:\n",
    "                add_new_id(met, met_bigg_dict[met.id])\n",
    "            else:\n",
    "                met.id = met.id.replace(f\"[{met.compartment}]\", f\"_{met.compartment}\")\n",
    "\n",
    "        # Compartment changes:\n",
    "        comps = model.compartments\n",
    "        comps[\"r\"] = \"endoplasmic reticulum\"\n",
    "        comps[\"rm\"] = \"endoplasmic reticulum membrane\"\n",
    "        comps[\"x\"] = \"peroxisome\"\n",
    "        model.compartments = comps\n",
    "\n",
    "        # Reaction changes:\n",
    "        for rxn in model.reactions:\n",
    "            # Update id with BiGG information:\n",
    "            if \"bigg.reaction\" in rxn.annotation:\n",
    "                rxn.notes[\"Original ID\"] = rxn.id\n",
    "                add_new_id(rxn, rxn.annotation['bigg.reaction'])\n",
    "            elif rxn.id in rxn_bigg_dict:\n",
    "                rxn.notes[\"Original ID\"] = rxn.id\n",
    "                add_new_id(rxn, rxn_bigg_dict[rxn.id])\n",
    "\n",
    "    return model"
   ]
  },
  {
   "cell_type": "code",
   "execution_count": 5,
   "id": "a0d33ddc-550b-465c-8ba7-4a17f4c76eef",
   "metadata": {},
   "outputs": [],
   "source": [
    "model = read_yeast_model() # loading"
   ]
  },
  {
   "cell_type": "code",
   "execution_count": 6,
   "id": "4ed170b8-cdb7-4ce9-af57-c51a0e8c8639",
   "metadata": {},
   "outputs": [],
   "source": [
    "def write_yeast_model(model):\n",
    "    \"\"\"Writes the SBML file of the yeast model using COBRA.\n",
    "\n",
    "    Parameters\n",
    "    ----------\n",
    "    model : cobra.core.Model\n",
    "        Yeast model to be written\n",
    "    \"\"\"\n",
    "    write_sbml_model(model, \"model_GEM_BiGG.xml\")"
   ]
  },
  {
   "cell_type": "code",
   "execution_count": 7,
   "id": "93227919-09c3-43f1-a6bc-29904f18cf41",
   "metadata": {},
   "outputs": [],
   "source": [
    "write_yeast_model(model)   # saving"
   ]
  },
  {
   "cell_type": "markdown",
   "id": "61e754e1-f27a-4bc7-9b49-0faa87e78849",
   "metadata": {},
   "source": [
    "# Manipulations"
   ]
  },
  {
   "cell_type": "code",
   "execution_count": 8,
   "id": "f63075d7-4ad2-41ca-ba53-c43e29adb894",
   "metadata": {},
   "outputs": [
    {
     "data": {
      "text/plain": [
       "{'EX_nh4_e': 1000.0,\n",
       " 'EX_glc__D_e': 1.0,\n",
       " 'EX_h_e': 1000.0,\n",
       " 'EX_fe2_e': 1000.0,\n",
       " 'EX_o2_e': 1000.0,\n",
       " 'EX_pi_e': 1000.0,\n",
       " 'EX_k_e': 1000.0,\n",
       " 'EX_na1_e': 1000.0,\n",
       " 'EX_so4_e': 1000.0,\n",
       " 'EX_h2o_e': 1000.0,\n",
       " 'EX_cl_e': 1000.0,\n",
       " 'EX_cu2_e': 1000.0,\n",
       " 'EX_mn2_e': 1000.0,\n",
       " 'EX_zn2_e': 1000.0,\n",
       " 'EX_mg2_e': 1000.0,\n",
       " 'EX_ca2_e': 1000.0}"
      ]
     },
     "execution_count": 8,
     "metadata": {},
     "output_type": "execute_result"
    }
   ],
   "source": [
    "model.medium"
   ]
  },
  {
   "cell_type": "code",
   "execution_count": 9,
   "id": "782add68",
   "metadata": {},
   "outputs": [
    {
     "name": "stdout",
     "output_type": "stream",
     "text": [
      "1000.0 ammonium exchange\n",
      "1.0 D-glucose exchange\n",
      "1000.0 H+ exchange\n",
      "1000.0 iron(2+) exchange\n",
      "1000.0 oxygen exchange\n",
      "1000.0 phosphate exchange\n",
      "1000.0 potassium exchange\n",
      "1000.0 sodium exchange\n",
      "1000.0 sulphate exchange\n",
      "1000.0 water exchange\n",
      "1000.0 chloride exchange\n",
      "1000.0 Cu2(+) exchange\n",
      "1000.0 Mn(2+) exchange\n",
      "1000.0 Zn(2+) exchange\n",
      "1000.0 Mg(2+) exchange\n",
      "1000.0 Ca(2+) exchange\n",
      "glc__D_e \n"
     ]
    }
   ],
   "source": [
    "media_comp = list(model.medium)\n",
    "for i in range (0, len(media_comp)):\n",
    "    print(model.medium[media_comp[i]], model.reactions.get_by_id(media_comp[i]).name)\n",
    "    if 'glucose' in model.reactions.get_by_id(media_comp[i]).name:\n",
    "        carbon_exchange_id = media_comp[i]\n",
    "        glucose_id = model.reactions.get_by_id(carbon_exchange_id).reaction[:9] # carbon source ID"
   ]
  },
  {
   "cell_type": "code",
   "execution_count": 10,
   "id": "bc5bbdf1-bf2f-4cc5-b578-172394871940",
   "metadata": {},
   "outputs": [
    {
     "name": "stdout",
     "output_type": "stream",
     "text": [
      "The GEM Saccharomyces cerevisiae model contains 1150 genes, 2742 metabolites and 4058 reactions.\n"
     ]
    }
   ],
   "source": [
    "print(\"The GEM Saccharomyces cerevisiae model contains \"+str(len(model.genes))+\" genes, \"+str(len(model.metabolites))+\" metabolites and \"+str(len(model.reactions))+\" reactions.\")"
   ]
  },
  {
   "cell_type": "code",
   "execution_count": 11,
   "id": "517eed1b-4d22-4433-abf7-7532fc0523ff",
   "metadata": {},
   "outputs": [
    {
     "name": "stdout",
     "output_type": "stream",
     "text": [
      "{'ce': 'cell envelope', 'c': 'cytoplasm', 'e': 'extracellular', 'm': 'mitochondrion', 'n': 'nucleus', 'x': 'peroxisome', 'r': 'endoplasmic reticulum', 'g': 'Golgi', 'lp': 'lipid particle', 'v': 'vacuole', 'rm': 'endoplasmic reticulum membrane', 'vm': 'vacuolar membrane', 'gm': 'Golgi membrane', 'mm': 'mitochondrial membrane'}\n"
     ]
    }
   ],
   "source": [
    "print(model.compartments)"
   ]
  },
  {
   "cell_type": "code",
   "execution_count": 12,
   "id": "d4c33277-d2b2-4325-8ea7-9c89f2a91391",
   "metadata": {},
   "outputs": [
    {
     "name": "stdout",
     "output_type": "stream",
     "text": [
      "D-glucose glc__D_c\n",
      "D-glucose glc__D_e\n",
      "D-glucose glc__D_v\n",
      "D-glucose 1-phosphate g1p_c\n",
      "D-glucose 6-phosphate g6p_c\n",
      "UDP-D-glucose udpg_c\n",
      "D-glucose glc__D_r\n",
      "2-deoxy-D-glucose 6-phosphate 2doxg6p_c\n",
      "2-deoxy-D-glucose 2dglc_c\n",
      "UDP-D-glucose udpg_r\n",
      "D-glucose 1-phosphate g1p_e\n",
      "D-glucose 6-phosphate g6p_e\n"
     ]
    }
   ],
   "source": [
    "for metabolite in model.metabolites.query('glucose', 'name'):\n",
    "    print(metabolite.name,metabolite.id)"
   ]
  },
  {
   "cell_type": "code",
   "execution_count": 13,
   "id": "5fb07593-ed43-4ce3-848f-dc910c50c758",
   "metadata": {},
   "outputs": [
    {
     "name": "stdout",
     "output_type": "stream",
     "text": [
      "The growth rate of GEM yeast is: 0.08374778664999834\n"
     ]
    }
   ],
   "source": [
    "print(\"The growth rate of GEM yeast is: \"+str(model.optimize().objective_value))\n",
    "biomass_id = str(model.objective).split(' ')[0].split('*')[1]"
   ]
  },
  {
   "cell_type": "code",
   "execution_count": 14,
   "id": "ade35c38-1da3-4f59-811f-ee66afa70aff",
   "metadata": {},
   "outputs": [
    {
     "name": "stdout",
     "output_type": "stream",
     "text": [
      "ferrochelatase FCLTm\n"
     ]
    },
    {
     "data": {
      "text/html": [
       "\n",
       "        <table>\n",
       "            <tr>\n",
       "                <td><strong>Reaction identifier</strong></td><td>FCLTm</td>\n",
       "            </tr><tr>\n",
       "                <td><strong>Name</strong></td><td>ferrochelatase</td>\n",
       "            </tr><tr>\n",
       "                <td><strong>Memory address</strong></td>\n",
       "                <td>0x020936e1d588</td>\n",
       "            </tr><tr>\n",
       "                <td><strong>Stoichiometry</strong></td>\n",
       "                <td>\n",
       "                    <p style='text-align:right'>fe2_m + ppp9_m --> 2.0 h_m + pheme_m</p>\n",
       "                    <p style='text-align:right'>iron(2+) + protoporphyrin --> 2.0 H+ + ferroheme b</p>\n",
       "                </td>\n",
       "            </tr><tr>\n",
       "                <td><strong>GPR</strong></td><td>YOR176W</td>\n",
       "            </tr><tr>\n",
       "                <td><strong>Lower bound</strong></td><td>0.0</td>\n",
       "            </tr><tr>\n",
       "                <td><strong>Upper bound</strong></td><td>1000.0</td>\n",
       "            </tr>\n",
       "        </table>\n",
       "        "
      ],
      "text/plain": [
       "<Reaction FCLTm at 0x20936e1d588>"
      ]
     },
     "execution_count": 14,
     "metadata": {},
     "output_type": "execute_result"
    }
   ],
   "source": [
    "for reactions in model.reactions.query('ferrochelatase', 'name'):\n",
    "    print(reactions.name,reactions.id)\n",
    "    ferrochelatase_id = str(reactions.id)\n",
    "model.reactions.get_by_id(ferrochelatase_id)"
   ]
  },
  {
   "cell_type": "code",
   "execution_count": 15,
   "id": "7eee6791-35be-4758-a6f2-a7e8ce0fbe76",
   "metadata": {},
   "outputs": [
    {
     "name": "stdout",
     "output_type": "stream",
     "text": [
      "GEM yeast maximum theoretical biomass productivity: 0.08374778664999834 /h\n",
      "GEM yeast maximum theoretical productivity of heme  8.374770489917409e-08 [mmol gDW^-1 h^-1]\n"
     ]
    }
   ],
   "source": [
    "medium = model.medium\n",
    "with model:\n",
    "    solution = model.optimize()\n",
    "    print(\"GEM yeast maximum theoretical biomass productivity:\", solution.fluxes[biomass_id], '/h')\n",
    "    model.medium = medium\n",
    "    model.objective = model.reactions.get_by_id(ferrochelatase_id)\n",
    "    heme_production = model.optimize().objective_value\n",
    "    print(\"GEM yeast maximum theoretical productivity of heme \", heme_production, '[mmol gDW^-1 h^-1]')"
   ]
  },
  {
   "cell_type": "markdown",
   "id": "a18687fd-a88a-4cc9-9005-ed0ef404a80f",
   "metadata": {},
   "source": [
    "## Knockouts"
   ]
  },
  {
   "cell_type": "code",
   "execution_count": 16,
   "id": "3d6ac82f-fc71-4331-8b6f-437b0a9a9419",
   "metadata": {},
   "outputs": [],
   "source": [
    "from cameo.visualization.plotting.with_plotly import PlotlyPlotter\n",
    "from cameo.strain_design import OptGene\n",
    "from cobra import Reaction, Metabolite"
   ]
  },
  {
   "cell_type": "markdown",
   "id": "1dacd264",
   "metadata": {},
   "source": [
    "### OptGene: Employs a genetic algorithm to find combination of gene deletions."
   ]
  },
  {
   "cell_type": "code",
   "execution_count": 17,
   "id": "038f6a57-9c25-4415-9cb9-6cdd1b03990c",
   "metadata": {},
   "outputs": [],
   "source": [
    "optgene = OptGene(model) # ACS Synth. Biol. 2018, 7, 4, 1163–1166 Publication Date:March 20, 2018 https://doi.org/10.1021/acssynbio.7b00423"
   ]
  },
  {
   "cell_type": "code",
   "execution_count": 10,
   "id": "703115e2-cfdb-4d78-bbb0-4912bd76f794",
   "metadata": {},
   "outputs": [
    {
     "ename": "NameError",
     "evalue": "name 'optgene' is not defined",
     "output_type": "error",
     "traceback": [
      "\u001b[1;31m---------------------------------------------------------------------------\u001b[0m",
      "\u001b[1;31mNameError\u001b[0m                                 Traceback (most recent call last)",
      "\u001b[1;32m~\\AppData\\Local\\Temp/ipykernel_5940/3089653634.py\u001b[0m in \u001b[0;36m<module>\u001b[1;34m\u001b[0m\n\u001b[1;32m----> 1\u001b[1;33m result = optgene.run(target=model.reactions.get_by_id(ferrochelatase_id),\n\u001b[0m\u001b[0;32m      2\u001b[0m                      \u001b[0mbiomass\u001b[0m\u001b[1;33m=\u001b[0m\u001b[0mmodel\u001b[0m\u001b[1;33m.\u001b[0m\u001b[0mreactions\u001b[0m\u001b[1;33m.\u001b[0m\u001b[0mget_by_id\u001b[0m\u001b[1;33m(\u001b[0m\u001b[0mbiomass_id\u001b[0m\u001b[1;33m)\u001b[0m\u001b[1;33m,\u001b[0m\u001b[1;33m\u001b[0m\u001b[1;33m\u001b[0m\u001b[0m\n\u001b[0;32m      3\u001b[0m                      \u001b[0msubstrate\u001b[0m\u001b[1;33m=\u001b[0m\u001b[0mmodel\u001b[0m\u001b[1;33m.\u001b[0m\u001b[0mmetabolites\u001b[0m\u001b[1;33m.\u001b[0m\u001b[0mget_by_id\u001b[0m\u001b[1;33m(\u001b[0m\u001b[0mglucose_id\u001b[0m\u001b[1;33m)\u001b[0m\u001b[1;33m,\u001b[0m\u001b[1;33m\u001b[0m\u001b[1;33m\u001b[0m\u001b[0m\n\u001b[0;32m      4\u001b[0m                      \u001b[0mmax_evaluations\u001b[0m\u001b[1;33m=\u001b[0m\u001b[1;36m2\u001b[0m\u001b[1;33m,\u001b[0m\u001b[1;33m\u001b[0m\u001b[1;33m\u001b[0m\u001b[0m\n\u001b[0;32m      5\u001b[0m                      plot=False)\n",
      "\u001b[1;31mNameError\u001b[0m: name 'optgene' is not defined"
     ]
    }
   ],
   "source": [
    "result = optgene.run(target=model.reactions.get_by_id(ferrochelatase_id),\n",
    "                     biomass=model.reactions.get_by_id(biomass_id),\n",
    "                     substrate=model.metabolites.get_by_id(glucose_id),\n",
    "                     max_evaluations=2,\n",
    "                     plot=False)\n",
    "result"
   ]
  },
  {
   "cell_type": "code",
   "execution_count": null,
   "id": "4e5dd1c2",
   "metadata": {},
   "outputs": [],
   "source": [
    "result.plot(0)"
   ]
  },
  {
   "cell_type": "code",
   "execution_count": null,
   "id": "1b20eebd",
   "metadata": {},
   "outputs": [],
   "source": [
    "result.display_on_map(0, \"iMM904.Central carbon metabolism\")"
   ]
  },
  {
   "cell_type": "markdown",
   "id": "b042cdfe",
   "metadata": {},
   "source": [
    "### OptReg: High-throughput calculations of knock-outs, up- or downregulations."
   ]
  },
  {
   "cell_type": "markdown",
   "id": "8731bd96",
   "metadata": {},
   "source": [
    "MEWpy: https://github.com/BioSystemsUM/mewpy\n",
    "\n",
    "Vítor Pereira, Fernando Cruz, Miguel Rocha, MEWpy: a computational strain optimization workbench in Python, Bioinformatics, 2021;, btab013, https://doi.org/10.1093/bioinformatics/btab013"
   ]
  },
  {
   "cell_type": "code",
   "execution_count": 9,
   "id": "9589cdfe",
   "metadata": {},
   "outputs": [
    {
     "ename": "ImportError",
     "evalue": "cannot import name 'OptForce' from 'cameo.strain_design' (C:\\Users\\andre\\anaconda3\\envs\\gem\\lib\\site-packages\\cameo\\strain_design\\__init__.py)",
     "output_type": "error",
     "traceback": [
      "\u001b[1;31m---------------------------------------------------------------------------\u001b[0m",
      "\u001b[1;31mImportError\u001b[0m                               Traceback (most recent call last)",
      "\u001b[1;32m~\\AppData\\Local\\Temp/ipykernel_14480/3524993165.py\u001b[0m in \u001b[0;36m<module>\u001b[1;34m\u001b[0m\n\u001b[1;32m----> 1\u001b[1;33m \u001b[1;32mfrom\u001b[0m \u001b[0mcameo\u001b[0m\u001b[1;33m.\u001b[0m\u001b[0mstrain_design\u001b[0m \u001b[1;32mimport\u001b[0m \u001b[0mOptForce\u001b[0m\u001b[1;33m\u001b[0m\u001b[1;33m\u001b[0m\u001b[0m\n\u001b[0m",
      "\u001b[1;31mImportError\u001b[0m: cannot import name 'OptForce' from 'cameo.strain_design' (C:\\Users\\andre\\anaconda3\\envs\\gem\\lib\\site-packages\\cameo\\strain_design\\__init__.py)"
     ]
    }
   ],
   "source": [
    "from cameo.strain_design import OptReg"
   ]
  },
  {
   "cell_type": "code",
   "execution_count": null,
   "id": "8f94ed21-08a2-47c8-bfae-0276faed6f37",
   "metadata": {},
   "outputs": [],
   "source": [
    "result_reg = optgene.run(target=model.reactions.get_by_id(ferrochelatase_id),\n",
    "                     biomass=model.reactions.get_by_id(biomass_id),\n",
    "                     substrate=model.metabolites.get_by_id(glucose_id),\n",
    "                     max_evaluations=2,\n",
    "                     plot=False)\n",
    "result_reg"
   ]
  },
  {
   "cell_type": "markdown",
   "id": "2217e8f3",
   "metadata": {},
   "source": [
    "### OptForce: High-throughput calculations of knock-outs, up- or downregulations. Can include MFA data, and model based on a target production."
   ]
  },
  {
   "cell_type": "code",
   "execution_count": null,
   "id": "83fc3719",
   "metadata": {},
   "outputs": [],
   "source": [
    "from cameo.strain_design import OptForce"
   ]
  },
  {
   "cell_type": "code",
   "execution_count": null,
   "id": "75321dab",
   "metadata": {},
   "outputs": [],
   "source": [
    "result_force = optforce.run(target=model.reactions.get_by_id(ferrochelatase_id),\n",
    "                     biomass=model.reactions.get_by_id(biomass_id),\n",
    "                     substrate=model.metabolites.get_by_id(glucose_id),\n",
    "                     max_evaluations=2,\n",
    "                     plot=False)\n",
    "result_force"
   ]
  },
  {
   "cell_type": "markdown",
   "id": "af75ef4f",
   "metadata": {},
   "source": [
    "### Rationale-based genetic modifications"
   ]
  },
  {
   "cell_type": "markdown",
   "id": "29a92ab4-a19b-421e-9c82-3cbaffe3758e",
   "metadata": {},
   "source": [
    "#### Up-regulation\n",
    "\n",
    "HEM2\tYGL040C,\n",
    "HEM3\tYDL205C,\n",
    "HEM13\tYDR044W,\n",
    "HEM15\tYOR176W\n",
    "\n",
    "#### Knockout\n",
    "\n",
    "HAP1\tYLR256W\n",
    "\n",
    "#### Downregulation\n",
    "YFH1\tYDL120W\n",
    "\n",
    "#### Maybe interesting\n",
    "CCC1\tYLR220W\tTransport af heme - into vacule\n",
    "PUG1\tYER185W\tExport af heme - ud af cellen"
   ]
  },
  {
   "cell_type": "code",
   "execution_count": 13,
   "id": "9468af27",
   "metadata": {},
   "outputs": [
    {
     "name": "stdout",
     "output_type": "stream",
     "text": [
      "YFH1 YDL120W\n"
     ]
    }
   ],
   "source": [
    "for gene in model.genes.query('YFH1', 'name'):\n",
    "    print(gene.name,gene.id)"
   ]
  },
  {
   "cell_type": "code",
   "execution_count": null,
   "id": "0e5879d6",
   "metadata": {},
   "outputs": [],
   "source": []
  }
 ],
 "metadata": {
  "kernelspec": {
   "display_name": "Python 3 (ipykernel)",
   "language": "python",
   "name": "python3"
  },
  "language_info": {
   "codemirror_mode": {
    "name": "ipython",
    "version": 3
   },
   "file_extension": ".py",
   "mimetype": "text/x-python",
   "name": "python",
   "nbconvert_exporter": "python",
   "pygments_lexer": "ipython3",
   "version": "3.7.11"
  }
 },
 "nbformat": 4,
 "nbformat_minor": 5
}
