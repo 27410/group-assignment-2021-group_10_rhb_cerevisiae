{
 "cells": [
  {
   "cell_type": "markdown",
   "id": "a9f89415-cb29-43d8-8734-877ec8f10201",
   "metadata": {},
   "source": [
    "### Changing the objective functionprint(model.objective)"
   ]
  },
  {
   "cell_type": "code",
   "execution_count": 2,
   "id": "90c32a82-d630-4bfa-99ef-c058b1195520",
   "metadata": {},
   "outputs": [],
   "source": [
    "import pandas as pd\n",
    "import matplotlib.pyplot as plt\n",
    "plt.style.use('seaborn')\n",
    "from cobra.io import read_sbml_model\n",
    "from cobra import Reaction, Metabolite\n",
    "from cobra.util import create_stoichiometric_matrix\n",
    "import numpy as np\n",
    "import escher"
   ]
  },
  {
   "cell_type": "code",
   "execution_count": 3,
   "id": "0ba49552-ffd7-4479-bd1a-42a6ce5341e6",
   "metadata": {},
   "outputs": [],
   "source": [
    "model = read_sbml_model('iMM904.xml') # insert model HERE"
   ]
  },
  {
   "cell_type": "markdown",
   "id": "c9c3e995-cbd9-4374-bdbc-b9e8908e2642",
   "metadata": {},
   "source": [
    "# basic initiation"
   ]
  },
  {
   "cell_type": "markdown",
   "id": "ca16001e-77dc-497b-b527-126319a35096",
   "metadata": {},
   "source": [
    "You can change the objective function like this (e.g. if you'd like to determine the maximum possible production rate of acetate)."
   ]
  },
  {
   "cell_type": "code",
   "execution_count": 4,
   "id": "b69b2370-e8f4-42aa-9418-ba3454043ba3",
   "metadata": {},
   "outputs": [
    {
     "name": "stdout",
     "output_type": "stream",
     "text": [
      "Maximize\n",
      "1.0*BIOMASS_SC5_notrace - 1.0*BIOMASS_SC5_notrace_reverse_93090\n"
     ]
    }
   ],
   "source": [
    "print(model.objective)"
   ]
  },
  {
   "cell_type": "code",
   "execution_count": 5,
   "id": "52a31d60-1b11-4e57-a474-d5b824dfe03e",
   "metadata": {},
   "outputs": [
    {
     "data": {
      "text/html": [
       "\n",
       "        <table>\n",
       "            <tr>\n",
       "                <td><strong>Reaction identifier</strong></td><td>BIOMASS_SC5_notrace</td>\n",
       "            </tr><tr>\n",
       "                <td><strong>Name</strong></td><td>Biomass SC5 notrace</td>\n",
       "            </tr><tr>\n",
       "                <td><strong>Memory address</strong></td>\n",
       "                <td>0x01a1dc53e2e8</td>\n",
       "            </tr><tr>\n",
       "                <td><strong>Stoichiometry</strong></td>\n",
       "                <td>\n",
       "                    <p style='text-align:right'>1.1348 13BDglcn_c + 0.4588 ala__L_c + 0.046 amp_c + 0.1607 arg__L_c + 0.1017 asn__L_c + 0.2975 asp__L_c + 59.276 atp_c + 0.0447 cmp_c + 0.0066 cys__L_c + 0.0036 damp_c + 0.0024 dcmp_c + 0.0024...</p>\n",
       "                    <p style='text-align:right'>1.1348 1 3 beta D Glucan C6H10O5 + 0.4588 L-Alanine + 0.046 AMP C10H12N5O7P + 0.1607 L-Arginine + 0.1017 L-Asparagine + 0.2975 L-Aspartate + 59.276 ATP C10H12N5O13P3 + 0.0447 CMP C9H12N3O8P +...</p>\n",
       "                </td>\n",
       "            </tr><tr>\n",
       "                <td><strong>GPR</strong></td><td></td>\n",
       "            </tr><tr>\n",
       "                <td><strong>Lower bound</strong></td><td>0.0</td>\n",
       "            </tr><tr>\n",
       "                <td><strong>Upper bound</strong></td><td>999999.0</td>\n",
       "            </tr>\n",
       "        </table>\n",
       "        "
      ],
      "text/plain": [
       "<Reaction BIOMASS_SC5_notrace at 0x1a1dc53e2e8>"
      ]
     },
     "execution_count": 5,
     "metadata": {},
     "output_type": "execute_result"
    }
   ],
   "source": [
    "model.reactions.BIOMASS_SC5_notrace"
   ]
  },
  {
   "cell_type": "markdown",
   "id": "4106a1ec-fbe3-4a1d-bbdf-1ecd2eabb91b",
   "metadata": {},
   "source": [
    "We can get the $\\mu_{max}$"
   ]
  },
  {
   "cell_type": "code",
   "execution_count": 6,
   "id": "7986869e-62b8-489e-806b-f6eb9f8d70c4",
   "metadata": {},
   "outputs": [
    {
     "data": {
      "text/plain": [
       "0.28786570370401743"
      ]
     },
     "execution_count": 6,
     "metadata": {},
     "output_type": "execute_result"
    }
   ],
   "source": [
    "model.optimize().objective_value"
   ]
  },
  {
   "cell_type": "code",
   "execution_count": null,
   "id": "b64c212d-38cb-4b04-adc4-f8e5ae74abd4",
   "metadata": {},
   "outputs": [],
   "source": [
    "with model:\n",
    "    model.objective = model.reactions.pheme_m\n",
    "    print(model.optimize().objective_value)"
   ]
  },
  {
   "cell_type": "markdown",
   "id": "9171c0cc-8fcc-4d09-b802-2d6d58b7ae32",
   "metadata": {},
   "source": [
    "# The medium"
   ]
  },
  {
   "cell_type": "code",
   "execution_count": 8,
   "id": "7a8ce823-8bad-4783-a9ad-1a1ea92ff608",
   "metadata": {},
   "outputs": [
    {
     "data": {
      "text/plain": [
       "{'EX_fe2_e': 999999.0,\n",
       " 'EX_glc__D_e': 10.0,\n",
       " 'EX_h2o_e': 999999.0,\n",
       " 'EX_h_e': 999999.0,\n",
       " 'EX_k_e': 999999.0,\n",
       " 'EX_na1_e': 999999.0,\n",
       " 'EX_so4_e': 999999.0,\n",
       " 'EX_nh4_e': 999999.0,\n",
       " 'EX_o2_e': 2.0,\n",
       " 'EX_pi_e': 999999.0}"
      ]
     },
     "execution_count": 8,
     "metadata": {},
     "output_type": "execute_result"
    }
   ],
   "source": [
    "model.medium"
   ]
  },
  {
   "cell_type": "code",
   "execution_count": null,
   "id": "446b645f-1bfc-47af-88ab-502ec9543ae8",
   "metadata": {},
   "outputs": [],
   "source": [
    "medium = model.medium\n",
    "with model:\n",
    "    medium['EX_glc__D_e'] = 0\n",
    "    medium['EX_ac_e'] = 10\n",
    "    model.medium = medium\n",
    "    model.objective = model.reactions.EX_succ_e\n",
    "    succ_production = model.optimize().objective_value\n",
    "    print(\"Max. succinate production [mmol gDW^-1 h^-1]:\", succ_production)\n",
    "    print(\"Theoretical max. yield [mmol-succ / mmol-ac]:\", succ_production / (-1*model.reactions.EX_ac_e.flux))"
   ]
  },
  {
   "cell_type": "code",
   "execution_count": null,
   "id": "f364f335-70c4-4688-98f1-64e3fd60e80b",
   "metadata": {},
   "outputs": [],
   "source": []
  },
  {
   "cell_type": "markdown",
   "id": "b6bb4ae8-5c68-4894-b3da-31b976a3116b",
   "metadata": {},
   "source": [
    "# Exchange reactions"
   ]
  },
  {
   "cell_type": "code",
   "execution_count": 7,
   "id": "be4bf253-7b2f-41cc-ab9b-e9e07e8eeb06",
   "metadata": {},
   "outputs": [
    {
     "data": {
      "text/plain": [
       "[<Reaction EX_epistest_SC_e at 0x1a1db85d9e8>,\n",
       " <Reaction EX_epist_e at 0x1a1db85d7f0>,\n",
       " <Reaction EX_ergst_e at 0x1a1db90bda0>,\n",
       " <Reaction EX_ergstest_SC_e at 0x1a1db914400>,\n",
       " <Reaction EX_13BDglcn_e at 0x1a1db914358>,\n",
       " <Reaction EX_etha_e at 0x1a1db9149e8>,\n",
       " <Reaction EX_2hb_e at 0x1a1db914b00>,\n",
       " <Reaction EX_etoh_e at 0x1a1db91d198>,\n",
       " <Reaction EX_fe2_e at 0x1a1db91dcf8>,\n",
       " <Reaction EX_fecost_e at 0x1a1db92c0f0>,\n",
       " <Reaction EX_2mbac_e at 0x1a1db92c828>,\n",
       " <Reaction EX_2mbald_e at 0x1a1db92c940>,\n",
       " <Reaction EX_2mbtoh_e at 0x1a1db92ccf8>,\n",
       " <Reaction EX_2mppal_e at 0x1a1db92cd68>,\n",
       " <Reaction EX_2phetoh_e at 0x1a1db924198>,\n",
       " <Reaction EX_fecostest_SC_e at 0x1a1db9247b8>,\n",
       " <Reaction EX_fmn_e at 0x1a1db924908>,\n",
       " <Reaction EX_3c3hmp_e at 0x1a1db9246d8>,\n",
       " <Reaction EX_3mbald_e at 0x1a1db9242e8>,\n",
       " <Reaction EX_for_e at 0x1a1db932320>,\n",
       " <Reaction EX_fru_e at 0x1a1db932710>,\n",
       " <Reaction EX_3mop_e at 0x1a1db932c18>,\n",
       " <Reaction EX_4abut_e at 0x1a1db93b208>,\n",
       " <Reaction EX_fum_e at 0x1a1db943780>,\n",
       " <Reaction EX_g3pc_e at 0x1a1db9436d8>,\n",
       " <Reaction EX_4abz_e at 0x1a1db943ac8>,\n",
       " <Reaction EX_5aop_e at 0x1a1db94f278>,\n",
       " <Reaction EX_g3pi_e at 0x1a1db9493c8>,\n",
       " <Reaction EX_gal_e at 0x1a1db9494a8>,\n",
       " <Reaction EX_8aonn_e at 0x1a1db949b70>,\n",
       " <Reaction EX_Nbfortyr_e at 0x1a1db958518>,\n",
       " <Reaction EX_abt_e at 0x1a1db958c18>,\n",
       " <Reaction EX_ac_e at 0x1a1db958dd8>,\n",
       " <Reaction EX_acald_e at 0x1a1db958ba8>,\n",
       " <Reaction EX_aces_e at 0x1a1db95e320>,\n",
       " <Reaction EX_galur_e at 0x1a1db95e7f0>,\n",
       " <Reaction EX_gam6p_e at 0x1a1db95e940>,\n",
       " <Reaction EX_gcald_e at 0x1a1db95e780>,\n",
       " <Reaction EX_glc__D_e at 0x1a1db95ec50>,\n",
       " <Reaction EX_gln__L_e at 0x1a1db9665f8>,\n",
       " <Reaction EX_glu__L_e at 0x1a1db966240>,\n",
       " <Reaction EX_glx_e at 0x1a1db9667b8>,\n",
       " <Reaction EX_ade_e at 0x1a1db96e208>,\n",
       " <Reaction EX_adn_e at 0x1a1db96e9b0>,\n",
       " <Reaction EX_akg_e at 0x1a1db96ef98>,\n",
       " <Reaction EX_ala__L_e at 0x1a1db982278>,\n",
       " <Reaction EX_gly_e at 0x1a1db982470>,\n",
       " <Reaction EX_glyc_e at 0x1a1db982a58>,\n",
       " <Reaction EX_gsn_e at 0x1a1db97c358>,\n",
       " <Reaction EX_gthox_e at 0x1a1db988a58>,\n",
       " <Reaction EX_gthrd_e at 0x1a1db982d30>,\n",
       " <Reaction EX_alltn_e at 0x1a1db988ba8>,\n",
       " <Reaction EX_alltt_e at 0x1a1db9740b8>,\n",
       " <Reaction EX_amet_e at 0x1a1db9741d0>,\n",
       " <Reaction EX_arab__D_e at 0x1a1db9744e0>,\n",
       " <Reaction EX_arab__L_e at 0x1a1db9749b0>,\n",
       " <Reaction EX_gua_e at 0x1a1db974978>,\n",
       " <Reaction EX_arg__L_e at 0x1a1db974ac8>,\n",
       " <Reaction EX_h2o_e at 0x1a1db974d68>,\n",
       " <Reaction EX_h_e at 0x1a1db9a5278>,\n",
       " <Reaction EX_hdca_e at 0x1a1db99edd8>,\n",
       " <Reaction EX_hdcea_e at 0x1a1db99ec18>,\n",
       " <Reaction EX_asn__L_e at 0x1a1db9a5b00>,\n",
       " <Reaction EX_asp__L_e at 0x1a1db9a5518>,\n",
       " <Reaction EX_btd_RR_e at 0x1a1db9ac198>,\n",
       " <Reaction EX_btn_e at 0x1a1db9ac710>,\n",
       " <Reaction EX_hexc_e at 0x1a1db9ac780>,\n",
       " <Reaction EX_his__L_e at 0x1a1db9b2160>,\n",
       " <Reaction EX_hxan_e at 0x1a1db99ecf8>,\n",
       " <Reaction EX_iamac_e at 0x1a1db9b2208>,\n",
       " <Reaction EX_iamoh_e at 0x1a1db9c0278>,\n",
       " <Reaction EX_ibutac_e at 0x1a1db9c08d0>,\n",
       " <Reaction EX_chol_e at 0x1a1db9c0940>,\n",
       " <Reaction EX_cit_e at 0x1a1db9c0b70>,\n",
       " <Reaction EX_co2_e at 0x1a1db9c0fd0>,\n",
       " <Reaction EX_crn_e at 0x1a1db9c86d8>,\n",
       " <Reaction EX_csn_e at 0x1a1db9c87f0>,\n",
       " <Reaction EX_cys__L_e at 0x1a1db9c8f60>,\n",
       " <Reaction EX_cytd_e at 0x1a1db9c8978>,\n",
       " <Reaction EX_dad_2_e at 0x1a1db9cd518>,\n",
       " <Reaction EX_dann_e at 0x1a1db9cdba8>,\n",
       " <Reaction EX_ibutoh_e at 0x1a1db9d70b8>,\n",
       " <Reaction EX_id3acald_e at 0x1a1db9d7470>,\n",
       " <Reaction EX_ile__L_e at 0x1a1db9d75c0>,\n",
       " <Reaction EX_ind3eth_e at 0x1a1db9d7710>,\n",
       " <Reaction EX_inost_e at 0x1a1db9d7400>,\n",
       " <Reaction EX_dca_e at 0x1a1db9d7b70>,\n",
       " <Reaction EX_dcyt_e at 0x1a1db9d7320>,\n",
       " <Reaction EX_ddca_e at 0x1a1db9df390>,\n",
       " <Reaction EX_ins_e at 0x1a1db9df4a8>,\n",
       " <Reaction EX_k_e at 0x1a1db9dfe48>,\n",
       " <Reaction EX_dgsn_e at 0x1a1db9dfa58>,\n",
       " <Reaction EX_din_e at 0x1a1db9e5390>,\n",
       " <Reaction EX_lac__D_e at 0x1a1db9e5588>,\n",
       " <Reaction EX_lac__L_e at 0x1a1db9e5be0>,\n",
       " <Reaction EX_lanost_e at 0x1a1db9ec978>,\n",
       " <Reaction EX_lanostest_SC_e at 0x1a1db9ecd30>,\n",
       " <Reaction EX_dttp_e at 0x1a1db9ec550>,\n",
       " <Reaction EX_duri_e at 0x1a1db9f2518>,\n",
       " <Reaction EX_leu__L_e at 0x1a1db9f26d8>,\n",
       " <Reaction EX_lys__L_e at 0x1a1db9f2d30>,\n",
       " <Reaction EX_mal__L_e at 0x1a1db9f7e80>,\n",
       " <Reaction EX_malt_e at 0x1a1db9f7dd8>,\n",
       " <Reaction EX_ribflv_e at 0x1a1dba01710>,\n",
       " <Reaction EX_sbt__D_e at 0x1a1dba019b0>,\n",
       " <Reaction EX_man_e at 0x1a1dba01ef0>,\n",
       " <Reaction EX_melib_e at 0x1a1dba095c0>,\n",
       " <Reaction EX_met__L_e at 0x1a1dba09ba8>,\n",
       " <Reaction EX_mmet_e at 0x1a1dba09940>,\n",
       " <Reaction EX_na1_e at 0x1a1dba09470>,\n",
       " <Reaction EX_nac_e at 0x1a1dba181d0>,\n",
       " <Reaction EX_sbt__L_e at 0x1a1dba18860>,\n",
       " <Reaction EX_ser__L_e at 0x1a1dba188d0>,\n",
       " <Reaction EX_so3_e at 0x1a1dba18d30>,\n",
       " <Reaction EX_so4_e at 0x1a1dba1e1d0>,\n",
       " <Reaction EX_spmd_e at 0x1a1dba1e240>,\n",
       " <Reaction EX_sprm_e at 0x1a1dba1e4a8>,\n",
       " <Reaction EX_srb__L_e at 0x1a1dba1ec88>,\n",
       " <Reaction EX_succ_e at 0x1a1dba102e8>,\n",
       " <Reaction EX_nadp_e at 0x1a1dba102b0>,\n",
       " <Reaction EX_nh4_e at 0x1a1dba106d8>,\n",
       " <Reaction EX_nmn_e at 0x1a1dba10898>,\n",
       " <Reaction EX_sucr_e at 0x1a1dba276a0>,\n",
       " <Reaction EX_o2_e at 0x1a1dba27c50>,\n",
       " <Reaction EX_taur_e at 0x1a1dba27d30>,\n",
       " <Reaction EX_thm_e at 0x1a1dba31160>,\n",
       " <Reaction EX_oaa_e at 0x1a1db9f7eb8>,\n",
       " <Reaction EX_ocdca_e at 0x1a1dba315c0>,\n",
       " <Reaction EX_ocdcea_e at 0x1a1dba37fd0>,\n",
       " <Reaction EX_ocdcya_e at 0x1a1dba3e278>,\n",
       " <Reaction EX_orn_e at 0x1a1dba37320>,\n",
       " <Reaction EX_thmmp_e at 0x1a1dba3e208>,\n",
       " <Reaction EX_thmpp_e at 0x1a1dba47860>,\n",
       " <Reaction EX_thr__L_e at 0x1a1dba47ba8>,\n",
       " <Reaction EX_thym_e at 0x1a1dba47cf8>,\n",
       " <Reaction EX_pacald_e at 0x1a1dba47b00>,\n",
       " <Reaction EX_pap_e at 0x1a1dba4f6d8>,\n",
       " <Reaction EX_thymd_e at 0x1a1dba4f8d0>,\n",
       " <Reaction EX_tre_e at 0x1a1dba4fda0>,\n",
       " <Reaction EX_trp__L_e at 0x1a1dba58668>,\n",
       " <Reaction EX_pc_SC_e at 0x1a1dba58da0>,\n",
       " <Reaction EX_pectin_e at 0x1a1dba5fb70>,\n",
       " <Reaction EX_pepd_e at 0x1a1dba5fc88>,\n",
       " <Reaction EX_phe__L_e at 0x1a1dba5feb8>,\n",
       " <Reaction EX_pheac_e at 0x1a1dba5f358>,\n",
       " <Reaction EX_pi_e at 0x1a1dba699e8>,\n",
       " <Reaction EX_pnto__R_e at 0x1a1dba69cc0>,\n",
       " <Reaction EX_ttdca_e at 0x1a1dba69ba8>,\n",
       " <Reaction EX_tyr__L_e at 0x1a1dba71630>,\n",
       " <Reaction EX_ura_e at 0x1a1dba718d0>,\n",
       " <Reaction EX_urea_e at 0x1a1dba71518>,\n",
       " <Reaction EX_uri_e at 0x1a1dba781d0>,\n",
       " <Reaction EX_val__L_e at 0x1a1dbc2c9e8>,\n",
       " <Reaction EX_xan_e at 0x1a1dbc2c5f8>,\n",
       " <Reaction EX_xtsn_e at 0x1a1dbc2cac8>,\n",
       " <Reaction EX_pro__L_e at 0x1a1dbc2cd30>,\n",
       " <Reaction EX_ptd1ino_SC_e at 0x1a1dbc2ce10>,\n",
       " <Reaction EX_ptrc_e at 0x1a1dbc2cf28>,\n",
       " <Reaction EX_pyr_e at 0x1a1dbce3080>,\n",
       " <Reaction EX_xyl__D_e at 0x1a1dbce3198>,\n",
       " <Reaction EX_xylt_e at 0x1a1dbce3320>,\n",
       " <Reaction EX_rib__D_e at 0x1a1dbce33c8>,\n",
       " <Reaction EX_zymst_e at 0x1a1dbce3588>,\n",
       " <Reaction EX_zymstest_SC_e at 0x1a1dbce3ba8>]"
      ]
     },
     "execution_count": 7,
     "metadata": {},
     "output_type": "execute_result"
    }
   ],
   "source": [
    "model.exchanges"
   ]
  },
  {
   "cell_type": "code",
   "execution_count": null,
   "id": "736fb64e-5658-4937-924a-6d3a9650c845",
   "metadata": {},
   "outputs": [],
   "source": []
  }
 ],
 "metadata": {
  "kernelspec": {
   "display_name": "Python 3",
   "language": "python",
   "name": "python3"
  },
  "language_info": {
   "codemirror_mode": {
    "name": "ipython",
    "version": 3
   },
   "file_extension": ".py",
   "mimetype": "text/x-python",
   "name": "python",
   "nbconvert_exporter": "python",
   "pygments_lexer": "ipython3",
   "version": "3.6.13"
  }
 },
 "nbformat": 4,
 "nbformat_minor": 5
}
