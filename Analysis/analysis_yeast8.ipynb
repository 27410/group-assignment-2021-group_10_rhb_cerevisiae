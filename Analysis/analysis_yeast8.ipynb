{
 "cells": [
  {
   "cell_type": "code",
   "execution_count": 1,
   "id": "326300d8-5b1f-4b4c-ba85-3c789d679311",
   "metadata": {},
   "outputs": [],
   "source": [
    "import csv\n",
    "from cobra.io import read_sbml_model, write_sbml_model\n",
    "from copy import copy\n",
    "from dotenv import find_dotenv\n",
    "import os\n",
    "from os.path import dirname"
   ]
  },
  {
   "cell_type": "code",
   "execution_count": 2,
   "id": "9d712562-83e5-4af0-8f7b-e56b0cdf1920",
   "metadata": {},
   "outputs": [],
   "source": [
    "MODEL_PATH = \"models/yeast-GEM.xml\" # Lu, H., Li, F., Sánchez, B.J. et al. A consensus S. cerevisiae metabolic model Yeast8 and its ecosystem for comprehensively probing cellular metabolism. Nat Commun 10, 3586 (2019). https://doi.org/10.1038/s41467-019-11581-3"
   ]
  },
  {
   "cell_type": "code",
   "execution_count": 3,
   "id": "8bb99236-583c-468c-a8b6-bb1bd0030669",
   "metadata": {},
   "outputs": [],
   "source": [
    "from functions import *"
   ]
  },
  {
   "cell_type": "code",
   "execution_count": 4,
   "id": "a0d33ddc-550b-465c-8ba7-4a17f4c76eef",
   "metadata": {},
   "outputs": [],
   "source": [
    "model = read_yeast_model(MODEL_PATH) # loading"
   ]
  },
  {
   "cell_type": "code",
   "execution_count": 5,
   "id": "93227919-09c3-43f1-a6bc-29904f18cf41",
   "metadata": {},
   "outputs": [],
   "source": [
    "write_yeast_model(model, \"model_yeast8.xml\")   # saving"
   ]
  },
  {
   "cell_type": "markdown",
   "id": "61e754e1-f27a-4bc7-9b49-0faa87e78849",
   "metadata": {},
   "source": [
    "# The Yeast8 model at a glance"
   ]
  },
  {
   "cell_type": "code",
   "execution_count": 6,
   "id": "f63075d7-4ad2-41ca-ba53-c43e29adb894",
   "metadata": {},
   "outputs": [
    {
     "data": {
      "text/plain": [
       "{'EX_nh4_e': 1000.0,\n",
       " 'EX_glc__D_e': 1.0,\n",
       " 'EX_h_e': 1000.0,\n",
       " 'EX_fe2_e': 1000.0,\n",
       " 'EX_o2_e': 1000.0,\n",
       " 'EX_pi_e': 1000.0,\n",
       " 'EX_k_e': 1000.0,\n",
       " 'EX_na1_e': 1000.0,\n",
       " 'EX_so4_e': 1000.0,\n",
       " 'EX_h2o_e': 1000.0,\n",
       " 'EX_cl_e': 1000.0,\n",
       " 'EX_cu2_e': 1000.0,\n",
       " 'EX_mn2_e': 1000.0,\n",
       " 'EX_zn2_e': 1000.0,\n",
       " 'EX_mg2_e': 1000.0,\n",
       " 'EX_ca2_e': 1000.0}"
      ]
     },
     "execution_count": 6,
     "metadata": {},
     "output_type": "execute_result"
    }
   ],
   "source": [
    "model.medium"
   ]
  },
  {
   "cell_type": "code",
   "execution_count": 7,
   "id": "782add68",
   "metadata": {},
   "outputs": [
    {
     "name": "stdout",
     "output_type": "stream",
     "text": [
      "1000.0 ammonium exchange\n",
      "1.0 D-glucose exchange\n",
      "1000.0 H+ exchange\n",
      "1000.0 iron(2+) exchange\n",
      "1000.0 oxygen exchange\n",
      "1000.0 phosphate exchange\n",
      "1000.0 potassium exchange\n",
      "1000.0 sodium exchange\n",
      "1000.0 sulphate exchange\n",
      "1000.0 water exchange\n",
      "1000.0 chloride exchange\n",
      "1000.0 Cu2(+) exchange\n",
      "1000.0 Mn(2+) exchange\n",
      "1000.0 Zn(2+) exchange\n",
      "1000.0 Mg(2+) exchange\n",
      "1000.0 Ca(2+) exchange\n"
     ]
    }
   ],
   "source": [
    "media_comp = list(model.medium)\n",
    "for i in range (0, len(media_comp)):\n",
    "    print(model.medium[media_comp[i]], model.reactions.get_by_id(media_comp[i]).name)\n",
    "    if 'glucose' in model.reactions.get_by_id(media_comp[i]).name:\n",
    "        carbon_exchange_id = media_comp[i]\n",
    "        glucose_id = model.reactions.get_by_id(carbon_exchange_id).reaction[:8] # carbon source ID"
   ]
  },
  {
   "cell_type": "code",
   "execution_count": 8,
   "id": "bc5bbdf1-bf2f-4cc5-b578-172394871940",
   "metadata": {},
   "outputs": [
    {
     "name": "stdout",
     "output_type": "stream",
     "text": [
      "The Yeast8 Saccharomyces cerevisiae model contains 1150 genes, 2742 metabolites and 4058 reactions.\n"
     ]
    }
   ],
   "source": [
    "print(\"The Yeast8 Saccharomyces cerevisiae model contains \"+str(len(model.genes))+\" genes, \"+str(len(model.metabolites))+\" metabolites and \"+str(len(model.reactions))+\" reactions.\")"
   ]
  },
  {
   "cell_type": "code",
   "execution_count": 9,
   "id": "517eed1b-4d22-4433-abf7-7532fc0523ff",
   "metadata": {},
   "outputs": [
    {
     "name": "stdout",
     "output_type": "stream",
     "text": [
      "{'ce': 'cell envelope', 'c': 'cytoplasm', 'e': 'extracellular', 'm': 'mitochondrion', 'n': 'nucleus', 'x': 'peroxisome', 'r': 'endoplasmic reticulum', 'g': 'Golgi', 'lp': 'lipid particle', 'v': 'vacuole', 'rm': 'endoplasmic reticulum membrane', 'vm': 'vacuolar membrane', 'gm': 'Golgi membrane', 'mm': 'mitochondrial membrane'}\n"
     ]
    }
   ],
   "source": [
    "print(model.compartments)"
   ]
  },
  {
   "cell_type": "code",
   "execution_count": 10,
   "id": "d4c33277-d2b2-4325-8ea7-9c89f2a91391",
   "metadata": {},
   "outputs": [
    {
     "name": "stdout",
     "output_type": "stream",
     "text": [
      "D-glucose glc__D_c\n",
      "D-glucose glc__D_e\n",
      "D-glucose glc__D_v\n",
      "D-glucose 1-phosphate g1p_c\n",
      "D-glucose 6-phosphate g6p_c\n",
      "UDP-D-glucose udpg_c\n",
      "D-glucose glc__D_r\n",
      "2-deoxy-D-glucose 6-phosphate 2doxg6p_c\n",
      "2-deoxy-D-glucose 2dglc_c\n",
      "UDP-D-glucose udpg_r\n",
      "D-glucose 1-phosphate g1p_e\n",
      "D-glucose 6-phosphate g6p_e\n"
     ]
    }
   ],
   "source": [
    "for metabolite in model.metabolites.query('glucose', 'name'):\n",
    "    print(metabolite.name,metabolite.id)"
   ]
  },
  {
   "cell_type": "code",
   "execution_count": 11,
   "id": "5fb07593-ed43-4ce3-848f-dc910c50c758",
   "metadata": {},
   "outputs": [
    {
     "name": "stdout",
     "output_type": "stream",
     "text": [
      "The growth rate of Yeast8 is: 0.083\n"
     ]
    }
   ],
   "source": [
    "print(\"The growth rate of Yeast8 is: \"+str(model.optimize().objective_value)[:5])\n",
    "biomass_id = str(model.objective).split(' ')[0].split('*')[1]"
   ]
  },
  {
   "cell_type": "code",
   "execution_count": 12,
   "id": "ade35c38-1da3-4f59-811f-ee66afa70aff",
   "metadata": {},
   "outputs": [
    {
     "name": "stdout",
     "output_type": "stream",
     "text": [
      "ferrochelatase FCLTm\n"
     ]
    },
    {
     "data": {
      "text/html": [
       "\n",
       "        <table>\n",
       "            <tr>\n",
       "                <td><strong>Reaction identifier</strong></td><td>FCLTm</td>\n",
       "            </tr><tr>\n",
       "                <td><strong>Name</strong></td><td>ferrochelatase</td>\n",
       "            </tr><tr>\n",
       "                <td><strong>Memory address</strong></td>\n",
       "                <td>0x02af9a100688</td>\n",
       "            </tr><tr>\n",
       "                <td><strong>Stoichiometry</strong></td>\n",
       "                <td>\n",
       "                    <p style='text-align:right'>fe2_m + ppp9_m --> 2.0 h_m + pheme_m</p>\n",
       "                    <p style='text-align:right'>iron(2+) + protoporphyrin --> 2.0 H+ + ferroheme b</p>\n",
       "                </td>\n",
       "            </tr><tr>\n",
       "                <td><strong>GPR</strong></td><td>YOR176W</td>\n",
       "            </tr><tr>\n",
       "                <td><strong>Lower bound</strong></td><td>0.0</td>\n",
       "            </tr><tr>\n",
       "                <td><strong>Upper bound</strong></td><td>1000.0</td>\n",
       "            </tr>\n",
       "        </table>\n",
       "        "
      ],
      "text/plain": [
       "<Reaction FCLTm at 0x2af9a100688>"
      ]
     },
     "execution_count": 12,
     "metadata": {},
     "output_type": "execute_result"
    }
   ],
   "source": [
    "for reactions in model.reactions.query('ferrochelatase', 'name'):\n",
    "    print(reactions.name,reactions.id)\n",
    "    ferrochelatase_id = str(reactions.id)\n",
    "model.reactions.get_by_id(ferrochelatase_id)"
   ]
  },
  {
   "cell_type": "code",
   "execution_count": 13,
   "id": "7eee6791-35be-4758-a6f2-a7e8ce0fbe76",
   "metadata": {},
   "outputs": [
    {
     "name": "stdout",
     "output_type": "stream",
     "text": [
      "Yeast8 maximum theoretical biomass productivity: 0.08374778664999834 /h\n",
      "Yeast8t maximum theoretical productivity of heme  8.374770489917409e-08 [mmol gDW^-1 h^-1]\n"
     ]
    }
   ],
   "source": [
    "medium = model.medium\n",
    "with model:\n",
    "    solution = model.optimize()\n",
    "    print(\"Yeast8 maximum theoretical biomass productivity:\", solution.fluxes[biomass_id], '/h')\n",
    "    model.medium = medium\n",
    "    model.objective = model.reactions.get_by_id(ferrochelatase_id)\n",
    "    heme_production = model.optimize().objective_value\n",
    "    print(\"Yeast8t maximum theoretical productivity of heme \", heme_production, '[mmol gDW^-1 h^-1]')"
   ]
  },
  {
   "cell_type": "markdown",
   "id": "89ad1e7b-5d55-440b-89ef-4627fcaadf6a",
   "metadata": {},
   "source": [
    "## Enumerated pathway to heme"
   ]
  },
  {
   "cell_type": "code",
   "execution_count": 14,
   "id": "7700fb0b-7b97-430c-a89f-c407fe706cba",
   "metadata": {},
   "outputs": [],
   "source": [
    "heme_1 = model.reactions.get_by_id('ALASm')\n",
    "heme_2 = model.reactions.get_by_id('PPBNGS')\n",
    "heme_3 = model.reactions.get_by_id('HMBS')\n",
    "heme_4 = model.reactions.get_by_id('UPP3S') \n",
    "heme_12 = model.reactions.get_by_id('UPPDC1') \n",
    "heme_13 = model.reactions.get_by_id('CPPPGO')\n",
    "heme_14 = model.reactions.get_by_id('PPPGOm') # second to last reaction in the heme biosynthesis\n",
    "heme_15 = model.reactions.get_by_id('FCLTm')\n",
    "heme_pathway = [heme_1,heme_2,heme_3,heme_4,heme_12,heme_13,heme_14,heme_15]"
   ]
  },
  {
   "cell_type": "code",
   "execution_count": 15,
   "id": "710dbb8b-d288-45aa-98e5-2fdf5e98de90",
   "metadata": {},
   "outputs": [
    {
     "name": "stdout",
     "output_type": "stream",
     "text": [
      "6.699816391933927e-07 ALASm gly_m + h_m + succoa_m --> 5aop_m + co2_m + coa_m 5-aminolevulinate synthase\n",
      "3.3499081959669635e-07 PPBNGS 2.0 5aop_c --> 2.0 h2o_c + h_c + ppbng_c porphobilinogen synthase\n",
      "8.374770489917409e-08 HMBS h2o_c + 4.0 ppbng_c --> hmbil_c + 4.0 nh4_c hydroxymethylbilane synthase\n",
      "8.374770489917409e-08 UPP3S hmbil_c --> h2o_c + uppg3_c uroporphyrinogen-III synthase\n",
      "8.374770489917409e-08 UPPDC1 4.0 h_c + uppg3_c --> 4.0 co2_c + cpppg3_c uroporphyrinogen decarboxylase (uroporphyrinogen III)\n",
      "8.374770489917409e-08 CPPPGO cpppg3_c + 2.0 h_c + o2_c --> 2.0 co2_c + 2.0 h2o_c + pppg9_c coproporphyrinogen oxidase (O2 required)\n",
      "4.1873852449587043e-08 PPPGOm 3.0 o2_m + 2.0 pppg9_m --> 6.0 h2o_m + 2.0 ppp9_m protoporphyrinogen oxidase\n",
      "8.374770489917409e-08 FCLTm fe2_m + ppp9_m --> 2.0 h_m + pheme_m ferrochelatase\n"
     ]
    }
   ],
   "source": [
    "for i in range (0,len(heme_pathway)):\n",
    "    with model:\n",
    "        model.objective = heme_pathway[-1] # calculates the flux with heme as the objective\n",
    "        print(model.optimize().fluxes[heme_pathway[i].id], heme_pathway[i].id, heme_pathway[i].reaction, heme_pathway[i].name)"
   ]
  },
  {
   "cell_type": "markdown",
   "id": "2bbd09e2-a305-4684-82ca-75edf5c13cd9",
   "metadata": {},
   "source": [
    "## Pseudopathway for recombinant haemoglobin"
   ]
  },
  {
   "cell_type": "code",
   "execution_count": 29,
   "id": "5375a2ca-e8f4-4fa7-b6f2-eab72908fd01",
   "metadata": {},
   "outputs": [],
   "source": [
    "from functions import *\n",
    "from cobra import Reaction, Metabolite"
   ]
  },
  {
   "cell_type": "code",
   "execution_count": 17,
   "id": "fecedd70",
   "metadata": {},
   "outputs": [],
   "source": [
    "add_rhb(model, \"model_yeast8_rhb.xml\")"
   ]
  },
  {
   "cell_type": "code",
   "execution_count": 30,
   "id": "8dc19739",
   "metadata": {},
   "outputs": [],
   "source": [
    "MODEL_PATH = \"model_yeast8_rhb.xml\"\n",
    "model = read_yeast_model(MODEL_PATH) # loading"
   ]
  },
  {
   "cell_type": "markdown",
   "id": "ca253e1b-fb38-4389-b993-1ae02f93b160",
   "metadata": {},
   "source": [
    "## Enumerated pathway to recombinant haemoglobin in yeast, starting with glycine"
   ]
  },
  {
   "cell_type": "code",
   "execution_count": 31,
   "id": "c2d5df2f-6bfe-45d2-8ddf-13fbd06f32ef",
   "metadata": {},
   "outputs": [],
   "source": [
    "rhb_pathway = get_rhb_pathway(model)"
   ]
  },
  {
   "cell_type": "code",
   "execution_count": 32,
   "id": "1c8e5728-fc01-49c5-be68-f6e93cef95a8",
   "metadata": {},
   "outputs": [
    {
     "name": "stdout",
     "output_type": "stream",
     "text": [
      "[<Reaction ALASm at 0x2af9e80fa48>, <Reaction PPBNGS at 0x2af9d071488>, <Reaction HMBS at 0x2af9d1a0ec8>, <Reaction UPP3S at 0x2af9d0fc188>, <Reaction UPPDC1 at 0x2af9d0ee7c8>, <Reaction CPPPGO at 0x2af9cff4388>, <Reaction PPPGOm at 0x2af9d08a308>, <Reaction FCLTm at 0x2af9e0dd508>, <Reaction rHb at 0x2afa2da5988>]\n"
     ]
    }
   ],
   "source": [
    "print(rhb_pathway) # now we can work with the model in other notebooks (i.e. media, mutants, etc.)"
   ]
  },
  {
   "cell_type": "code",
   "execution_count": 33,
   "id": "270dc784-98af-4bad-8934-0e6d0075929a",
   "metadata": {},
   "outputs": [
    {
     "name": "stdout",
     "output_type": "stream",
     "text": [
      "0.051054370293057864 ALASm gly_m + h_m + succoa_m --> 5aop_m + co2_m + coa_m 5-aminolevulinate synthase\n",
      "0.025527185146528932 PPBNGS 2.0 5aop_c --> 2.0 h2o_c + h_c + ppbng_c porphobilinogen synthase\n",
      "0.006381796286632233 HMBS h2o_c + 4.0 ppbng_c --> hmbil_c + 4.0 nh4_c hydroxymethylbilane synthase\n",
      "0.006381796286632233 UPP3S hmbil_c --> h2o_c + uppg3_c uroporphyrinogen-III synthase\n",
      "0.006381796286632233 UPPDC1 4.0 h_c + uppg3_c --> 4.0 co2_c + cpppg3_c uroporphyrinogen decarboxylase (uroporphyrinogen III)\n",
      "0.006381796286632233 CPPPGO cpppg3_c + 2.0 h_c + o2_c --> 2.0 co2_c + 2.0 h2o_c + pppg9_c coproporphyrinogen oxidase (O2 required)\n",
      "0.0031908981433161165 PPPGOm 3.0 o2_m + 2.0 pppg9_m --> 6.0 h2o_m + 2.0 ppp9_m protoporphyrinogen oxidase\n",
      "0.006381796286632233 FCLTm fe2_m + ppp9_m --> 2.0 h_m + pheme_m ferrochelatase\n",
      "0.0015954490716580583 rHb 72.0 ala__L_c + 12.0 arg__L_c + 20.0 asn__L_c + 30.0 asp__L_c + 6.0 cys__L_c + 8.0 gln__L_c + 24.0 glu__L_c + 40.0 gly_c + 38.0 his__L_c + 72.0 leu__L_c + 44.0 lys__L_c + 10.0 met__L_c + 30.0 phe__L_c + 4.0 pheme_m + 28.0 pro__L_c + 32.0 ser__L_c + 32.0 thr__L_c + 6.0 trp__L_c + 12.0 tyr__L_c + 62.0 val__L_c --> rHb_c \n"
     ]
    }
   ],
   "source": [
    "for i in range (0,len(rhb_pathway)):\n",
    "    with model:\n",
    "        model.objective = rhb_pathway[-1] # calculates the flux with heme as the objective\n",
    "        print(model.optimize().fluxes[rhb_pathway[i].id], rhb_pathway[i].id, rhb_pathway[i].reaction, rhb_pathway[i].name)"
   ]
  },
  {
   "cell_type": "code",
   "execution_count": 39,
   "id": "c7b46a94-5916-48da-804d-cb15a55b9e3a",
   "metadata": {},
   "outputs": [
    {
     "name": "stdout",
     "output_type": "stream",
     "text": [
      "Max. recombinant haemoglobin production: 0.0015 [mmol gDW^-1 h^-1]\n",
      "Theoretical max. yield: 0.0015 [mmol-rHb / mmol-glucose]\n"
     ]
    }
   ],
   "source": [
    "medium = model.medium\n",
    "with model:\n",
    "    model.medium = medium\n",
    "    model.objective = model.reactions.rHb\n",
    "    rhb_production = model.optimize().objective_value\n",
    "    print(\"Max. recombinant haemoglobin production: \"+str(rhb_production)[:6]+\" [mmol gDW^-1 h^-1]\")\n",
    "    print(\"Theoretical max. yield: \"+ str(rhb_production / (-1*model.reactions.EX_glc__D_e.flux))[:6]+\" [mmol-rHb / mmol-glucose]\")"
   ]
  },
  {
   "cell_type": "markdown",
   "id": "b042cdfe",
   "metadata": {},
   "source": [
    "# TODO\n",
    "# OptReg: High-throughput calculations of knock-outs, up- or downregulations."
   ]
  },
  {
   "cell_type": "markdown",
   "id": "8731bd96",
   "metadata": {},
   "source": [
    "MEWpy: https://github.com/BioSystemsUM/mewpy\n",
    "\n",
    "Vítor Pereira, Fernando Cruz, Miguel Rocha, MEWpy: a computational strain optimization workbench in Python, Bioinformatics, 2021;, btab013, https://doi.org/10.1093/bioinformatics/btab013"
   ]
  },
  {
   "cell_type": "markdown",
   "id": "af75ef4f",
   "metadata": {},
   "source": [
    "# Rationale-based genetic modifications"
   ]
  },
  {
   "cell_type": "markdown",
   "id": "29a92ab4-a19b-421e-9c82-3cbaffe3758e",
   "metadata": {},
   "source": [
    "#### Up-regulation\n",
    "\n",
    "HEM2\tYGL040C,\n",
    "HEM3\tYDL205C,\n",
    "HEM13\tYDR044W,\n",
    "HEM15\tYOR176W\n",
    "\n",
    "#### Knockout\n",
    "\n",
    "HAP1\tYLR256W\n",
    "\n",
    "#### Downregulation\n",
    "YFH1\tYDL120W\n",
    "\n",
    "#### Maybe interesting\n",
    "CCC1\tYLR220W\tTransport af heme - into vacule\n",
    "\n",
    "\n",
    "PUG1\tYER185W\tExport af heme - ud af cellen\n",
    "\n",
    "\t\n",
    "YPL172C knockout\n",
    "\n",
    "\n",
    "YAL039C knockout"
   ]
  },
  {
   "cell_type": "code",
   "execution_count": 40,
   "id": "9468af27",
   "metadata": {},
   "outputs": [
    {
     "name": "stdout",
     "output_type": "stream",
     "text": [
      "YFH1 YDL120W\n"
     ]
    }
   ],
   "source": [
    "for gene in model.genes.query('YFH1', 'name'):\n",
    "    print(gene.name,gene.id)"
   ]
  },
  {
   "cell_type": "code",
   "execution_count": 42,
   "id": "0e5879d6",
   "metadata": {},
   "outputs": [],
   "source": [
    "for gene in model.genes.query('HAP4', 'name'):\n",
    "    print(gene.name,gene.id)"
   ]
  }
 ],
 "metadata": {
  "kernelspec": {
   "display_name": "Python 3 (ipykernel)",
   "language": "python",
   "name": "python3"
  },
  "language_info": {
   "codemirror_mode": {
    "name": "ipython",
    "version": 3
   },
   "file_extension": ".py",
   "mimetype": "text/x-python",
   "name": "python",
   "nbconvert_exporter": "python",
   "pygments_lexer": "ipython3",
   "version": "3.7.11"
  }
 },
 "nbformat": 4,
 "nbformat_minor": 5
}
