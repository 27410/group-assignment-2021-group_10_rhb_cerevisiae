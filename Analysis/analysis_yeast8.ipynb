{
 "cells": [
  {
   "cell_type": "code",
   "execution_count": 1,
   "id": "326300d8-5b1f-4b4c-ba85-3c789d679311",
   "metadata": {},
   "outputs": [],
   "source": [
    "import csv\n",
    "from cobra.io import read_sbml_model, write_sbml_model\n",
    "from copy import copy\n",
    "from dotenv import find_dotenv\n",
    "import os\n",
    "from os.path import dirname\n",
    "from functions import *"
   ]
  },
  {
   "cell_type": "code",
   "execution_count": 2,
   "id": "9d712562-83e5-4af0-8f7b-e56b0cdf1920",
   "metadata": {},
   "outputs": [],
   "source": [
    "MODEL_PATH = \"models/yeast-GEM.xml\""
   ]
  },
  {
   "cell_type": "code",
   "execution_count": 3,
   "id": "a0d33ddc-550b-465c-8ba7-4a17f4c76eef",
   "metadata": {},
   "outputs": [],
   "source": [
    "model = read_yeast_model(MODEL_PATH) # loading"
   ]
  },
  {
   "cell_type": "code",
   "execution_count": 4,
   "id": "93227919-09c3-43f1-a6bc-29904f18cf41",
   "metadata": {},
   "outputs": [],
   "source": [
    "write_yeast_model(model, \"model_yeast8.xml\")   # saving"
   ]
  },
  {
   "cell_type": "markdown",
   "id": "61e754e1-f27a-4bc7-9b49-0faa87e78849",
   "metadata": {},
   "source": [
    "# The Yeast8 model at a glance\n",
    "`Lu, H., Li, F., Sánchez, B.J. et al. A consensus S. cerevisiae metabolic model Yeast8 and its ecosystem for comprehensively probing cellular metabolism. Nat Commun 10, 3586 (2019).`https://doi.org/10.1038/s41467-019-11581-3"
   ]
  },
  {
   "cell_type": "markdown",
   "id": "f9857674-a0c7-4d2b-a99c-a790434350b6",
   "metadata": {},
   "source": [
    "### Media composition"
   ]
  },
  {
   "cell_type": "code",
   "execution_count": 7,
   "id": "782add68",
   "metadata": {},
   "outputs": [
    {
     "name": "stdout",
     "output_type": "stream",
     "text": [
      "1000.0 ammonium exchange\n",
      "1.0 D-glucose exchange\n",
      "1000.0 H+ exchange\n",
      "1000.0 iron(2+) exchange\n",
      "1000.0 oxygen exchange\n",
      "1000.0 phosphate exchange\n",
      "1000.0 potassium exchange\n",
      "1000.0 sodium exchange\n",
      "1000.0 sulphate exchange\n",
      "1000.0 water exchange\n",
      "1000.0 chloride exchange\n",
      "1000.0 Cu2(+) exchange\n",
      "1000.0 Mn(2+) exchange\n",
      "1000.0 Zn(2+) exchange\n",
      "1000.0 Mg(2+) exchange\n",
      "1000.0 Ca(2+) exchange\n"
     ]
    }
   ],
   "source": [
    "media_comp = list(model.medium)\n",
    "for i in range (0, len(media_comp)):\n",
    "    print(model.medium[media_comp[i]], model.reactions.get_by_id(media_comp[i]).name)\n",
    "    if 'glucose' in model.reactions.get_by_id(media_comp[i]).name:\n",
    "        carbon_exchange_id = media_comp[i]\n",
    "        glucose_id = model.reactions.get_by_id(carbon_exchange_id).reaction[:8] # carbon source ID"
   ]
  },
  {
   "cell_type": "markdown",
   "id": "b92eead8-5db2-422d-8f7f-3b8f11a0f7c8",
   "metadata": {},
   "source": [
    "### Genes, metabolites and reactions"
   ]
  },
  {
   "cell_type": "code",
   "execution_count": 8,
   "id": "bc5bbdf1-bf2f-4cc5-b578-172394871940",
   "metadata": {},
   "outputs": [
    {
     "name": "stdout",
     "output_type": "stream",
     "text": [
      "The Yeast8 Saccharomyces cerevisiae model contains 1150 genes, 2742 metabolites and 4058 reactions.\n"
     ]
    }
   ],
   "source": [
    "print(\"The Yeast8 Saccharomyces cerevisiae model contains \"+str(len(model.genes))+\" genes, \"+str(len(model.metabolites))+\" metabolites and \"+str(len(model.reactions))+\" reactions.\")"
   ]
  },
  {
   "cell_type": "code",
   "execution_count": 9,
   "id": "517eed1b-4d22-4433-abf7-7532fc0523ff",
   "metadata": {},
   "outputs": [
    {
     "name": "stdout",
     "output_type": "stream",
     "text": [
      "{'ce': 'cell envelope', 'c': 'cytoplasm', 'e': 'extracellular', 'm': 'mitochondrion', 'n': 'nucleus', 'x': 'peroxisome', 'r': 'endoplasmic reticulum', 'g': 'Golgi', 'lp': 'lipid particle', 'v': 'vacuole', 'rm': 'endoplasmic reticulum membrane', 'vm': 'vacuolar membrane', 'gm': 'Golgi membrane', 'mm': 'mitochondrial membrane'}\n"
     ]
    }
   ],
   "source": [
    "print(model.compartments)"
   ]
  },
  {
   "cell_type": "code",
   "execution_count": 10,
   "id": "d4c33277-d2b2-4325-8ea7-9c89f2a91391",
   "metadata": {},
   "outputs": [
    {
     "name": "stdout",
     "output_type": "stream",
     "text": [
      "D-glucose glc__D_c\n",
      "D-glucose glc__D_e\n",
      "D-glucose glc__D_v\n",
      "D-glucose 1-phosphate g1p_c\n",
      "D-glucose 6-phosphate g6p_c\n",
      "UDP-D-glucose udpg_c\n",
      "D-glucose glc__D_r\n",
      "2-deoxy-D-glucose 6-phosphate 2doxg6p_c\n",
      "2-deoxy-D-glucose 2dglc_c\n",
      "UDP-D-glucose udpg_r\n",
      "D-glucose 1-phosphate g1p_e\n",
      "D-glucose 6-phosphate g6p_e\n"
     ]
    }
   ],
   "source": [
    "for metabolite in model.metabolites.query('glucose', 'name'):\n",
    "    print(metabolite.name,metabolite.id)"
   ]
  },
  {
   "cell_type": "code",
   "execution_count": 11,
   "id": "5fb07593-ed43-4ce3-848f-dc910c50c758",
   "metadata": {},
   "outputs": [
    {
     "name": "stdout",
     "output_type": "stream",
     "text": [
      "The growth rate of Yeast8 is: 0.083\n"
     ]
    }
   ],
   "source": [
    "print(\"The growth rate of Yeast8 is: \"+str(model.optimize().objective_value)[:5])\n",
    "biomass_id = str(model.objective).split(' ')[0].split('*')[1]"
   ]
  },
  {
   "cell_type": "markdown",
   "id": "fa9659dd-1764-48eb-a5c6-1773d96d2735",
   "metadata": {},
   "source": [
    "## Reactions in the native pathway leading to our target product"
   ]
  },
  {
   "cell_type": "code",
   "execution_count": 14,
   "id": "ade35c38-1da3-4f59-811f-ee66afa70aff",
   "metadata": {},
   "outputs": [
    {
     "name": "stdout",
     "output_type": "stream",
     "text": [
      "ferrochelatase FCLTm\n"
     ]
    },
    {
     "data": {
      "text/html": [
       "\n",
       "        <table>\n",
       "            <tr>\n",
       "                <td><strong>Reaction identifier</strong></td><td>FCLTm</td>\n",
       "            </tr><tr>\n",
       "                <td><strong>Name</strong></td><td>ferrochelatase</td>\n",
       "            </tr><tr>\n",
       "                <td><strong>Memory address</strong></td>\n",
       "                <td>0x01f08bdd6c48</td>\n",
       "            </tr><tr>\n",
       "                <td><strong>Stoichiometry</strong></td>\n",
       "                <td>\n",
       "                    <p style='text-align:right'>fe2_m + ppp9_m --> 2.0 h_m + pheme_m</p>\n",
       "                    <p style='text-align:right'>iron(2+) + protoporphyrin --> 2.0 H+ + ferroheme b</p>\n",
       "                </td>\n",
       "            </tr><tr>\n",
       "                <td><strong>GPR</strong></td><td>YOR176W</td>\n",
       "            </tr><tr>\n",
       "                <td><strong>Lower bound</strong></td><td>0.0</td>\n",
       "            </tr><tr>\n",
       "                <td><strong>Upper bound</strong></td><td>1000.0</td>\n",
       "            </tr>\n",
       "        </table>\n",
       "        "
      ],
      "text/plain": [
       "<Reaction FCLTm at 0x1f08bdd6c48>"
      ]
     },
     "execution_count": 14,
     "metadata": {},
     "output_type": "execute_result"
    }
   ],
   "source": [
    "for reactions in model.reactions.query('ferrochelatase', 'name'):\n",
    "    print(reactions.name,reactions.id)\n",
    "    ferrochelatase_id = str(reactions.id)\n",
    "model.reactions.get_by_id(ferrochelatase_id)"
   ]
  },
  {
   "cell_type": "code",
   "execution_count": 15,
   "id": "7eee6791-35be-4758-a6f2-a7e8ce0fbe76",
   "metadata": {},
   "outputs": [
    {
     "name": "stdout",
     "output_type": "stream",
     "text": [
      "Yeast8 maximum theoretical biomass productivity: 0.08374770604149177 /h\n",
      "Yeast8t maximum theoretical productivity of heme  8.374770583004913e-08 [mmol gDW^-1 h^-1]\n"
     ]
    }
   ],
   "source": [
    "medium = model.medium\n",
    "with model:\n",
    "    solution = model.optimize()\n",
    "    print(\"Yeast8 maximum theoretical biomass productivity:\", solution.fluxes[biomass_id], '/h')\n",
    "    model.medium = medium\n",
    "    model.objective = model.reactions.get_by_id(ferrochelatase_id)\n",
    "    heme_production = model.optimize().objective_value\n",
    "    print(\"Yeast8t maximum theoretical productivity of heme \", heme_production, '[mmol gDW^-1 h^-1]')"
   ]
  },
  {
   "cell_type": "markdown",
   "id": "89ad1e7b-5d55-440b-89ef-4627fcaadf6a",
   "metadata": {},
   "source": [
    "## Enumerated pathway to heme"
   ]
  },
  {
   "cell_type": "code",
   "execution_count": 16,
   "id": "7700fb0b-7b97-430c-a89f-c407fe706cba",
   "metadata": {},
   "outputs": [],
   "source": [
    "heme_1 = model.reactions.get_by_id('ALASm')\n",
    "heme_2 = model.reactions.get_by_id('PPBNGS')\n",
    "heme_3 = model.reactions.get_by_id('HMBS')\n",
    "heme_4 = model.reactions.get_by_id('UPP3S') \n",
    "heme_12 = model.reactions.get_by_id('UPPDC1') \n",
    "heme_13 = model.reactions.get_by_id('CPPPGO')\n",
    "heme_14 = model.reactions.get_by_id('PPPGOm') # second to last reaction in the heme biosynthesis\n",
    "heme_15 = model.reactions.get_by_id('FCLTm')\n",
    "heme_pathway = [heme_1,heme_2,heme_3,heme_4,heme_12,heme_13,heme_14,heme_15]"
   ]
  },
  {
   "cell_type": "code",
   "execution_count": 17,
   "id": "710dbb8b-d288-45aa-98e5-2fdf5e98de90",
   "metadata": {},
   "outputs": [
    {
     "name": "stdout",
     "output_type": "stream",
     "text": [
      "6.699816466403931e-07 ALASm gly_m + h_m + succoa_m --> 5aop_m + co2_m + coa_m 5-aminolevulinate synthase\n",
      "3.3499082332019654e-07 PPBNGS 2.0 5aop_c --> 2.0 h2o_c + h_c + ppbng_c porphobilinogen synthase\n",
      "8.374770583004913e-08 HMBS h2o_c + 4.0 ppbng_c --> hmbil_c + 4.0 nh4_c hydroxymethylbilane synthase\n",
      "8.374770583004913e-08 UPP3S hmbil_c --> h2o_c + uppg3_c uroporphyrinogen-III synthase\n",
      "8.374770583004913e-08 UPPDC1 4.0 h_c + uppg3_c --> 4.0 co2_c + cpppg3_c uroporphyrinogen decarboxylase (uroporphyrinogen III)\n",
      "8.374770583004913e-08 CPPPGO cpppg3_c + 2.0 h_c + o2_c --> 2.0 co2_c + 2.0 h2o_c + pppg9_c coproporphyrinogen oxidase (O2 required)\n",
      "4.187385291502457e-08 PPPGOm 3.0 o2_m + 2.0 pppg9_m --> 6.0 h2o_m + 2.0 ppp9_m protoporphyrinogen oxidase\n",
      "8.374770583004913e-08 FCLTm fe2_m + ppp9_m --> 2.0 h_m + pheme_m ferrochelatase\n"
     ]
    }
   ],
   "source": [
    "for i in range (0,len(heme_pathway)):\n",
    "    with model:\n",
    "        model.objective = heme_pathway[-1] # calculates the flux with heme as the objective\n",
    "        print(model.optimize().fluxes[heme_pathway[i].id], heme_pathway[i].id, heme_pathway[i].reaction, heme_pathway[i].name)"
   ]
  },
  {
   "cell_type": "markdown",
   "id": "2bbd09e2-a305-4684-82ca-75edf5c13cd9",
   "metadata": {},
   "source": [
    "# Pseudopathway for recombinant haemoglobin"
   ]
  },
  {
   "cell_type": "code",
   "execution_count": 18,
   "id": "5375a2ca-e8f4-4fa7-b6f2-eab72908fd01",
   "metadata": {},
   "outputs": [],
   "source": [
    "from cobra import Reaction, Metabolite"
   ]
  },
  {
   "cell_type": "code",
   "execution_count": 19,
   "id": "fecedd70",
   "metadata": {},
   "outputs": [],
   "source": [
    "add_rhb(model, \"model_yeast8_rhb.xml\")"
   ]
  },
  {
   "cell_type": "code",
   "execution_count": 20,
   "id": "8dc19739",
   "metadata": {},
   "outputs": [],
   "source": [
    "MODEL_PATH = \"model_yeast8_rhb.xml\"\n",
    "model = read_yeast_model(MODEL_PATH) # loading"
   ]
  },
  {
   "cell_type": "markdown",
   "id": "ca253e1b-fb38-4389-b993-1ae02f93b160",
   "metadata": {},
   "source": [
    "## Enumerated pathway to recombinant haemoglobin in yeast, starting with glycine"
   ]
  },
  {
   "cell_type": "code",
   "execution_count": 21,
   "id": "c2d5df2f-6bfe-45d2-8ddf-13fbd06f32ef",
   "metadata": {},
   "outputs": [],
   "source": [
    "rhb_pathway = get_rhb_pathway(model)"
   ]
  },
  {
   "cell_type": "code",
   "execution_count": 22,
   "id": "1c8e5728-fc01-49c5-be68-f6e93cef95a8",
   "metadata": {},
   "outputs": [
    {
     "name": "stdout",
     "output_type": "stream",
     "text": [
      "[<Reaction ALASm at 0x1f08ef27a88>, <Reaction PPBNGS at 0x1f08f0b8308>, <Reaction HMBS at 0x1f08eff7d48>, <Reaction UPP3S at 0x1f08f14afc8>, <Reaction UPPDC1 at 0x1f08f13ec08>, <Reaction CPPPGO at 0x1f08ef9fbc8>, <Reaction PPPGOm at 0x1f08f0c1bc8>, <Reaction FCLTm at 0x1f08efbe388>, <Reaction rHb at 0x1f09039b908>]\n"
     ]
    }
   ],
   "source": [
    "print(rhb_pathway) # now we can work with the model in other notebooks (i.e. media, mutants, etc.)"
   ]
  },
  {
   "cell_type": "code",
   "execution_count": 23,
   "id": "270dc784-98af-4bad-8934-0e6d0075929a",
   "metadata": {},
   "outputs": [
    {
     "name": "stdout",
     "output_type": "stream",
     "text": [
      "0.5226848222438156 ALASm gly_m + h_m + succoa_m --> 5aop_m + co2_m + coa_m 5-aminolevulinate synthase\n",
      "0.2613424111219078 PPBNGS 2.0 5aop_c --> 2.0 h2o_c + h_c + ppbng_c porphobilinogen synthase\n",
      "0.06533560278047695 HMBS h2o_c + 4.0 ppbng_c --> hmbil_c + 4.0 nh4_c hydroxymethylbilane synthase\n",
      "0.06533560278047695 UPP3S hmbil_c --> h2o_c + uppg3_c uroporphyrinogen-III synthase\n",
      "0.06533560278047695 UPPDC1 4.0 h_c + uppg3_c --> 4.0 co2_c + cpppg3_c uroporphyrinogen decarboxylase (uroporphyrinogen III)\n",
      "0.06533560278047695 CPPPGO cpppg3_c + 2.0 h_c + o2_c --> 2.0 co2_c + 2.0 h2o_c + pppg9_c coproporphyrinogen oxidase (O2 required)\n",
      "0.03266780139023848 PPPGOm 3.0 o2_m + 2.0 pppg9_m --> 6.0 h2o_m + 2.0 ppp9_m protoporphyrinogen oxidase\n",
      "0.06533560278047695 FCLTm fe2_m + ppp9_m --> 2.0 h_m + pheme_m ferrochelatase\n",
      "0.01633390069511924 rHb 72.0 ala__L_c + 12.0 arg__L_c + 20.0 asn__L_c + 30.0 asp__L_c + 6.0 cys__L_c + 8.0 gln__L_c + 24.0 glu__L_c + 40.0 gly_c + 38.0 his__L_c + 72.0 leu__L_c + 44.0 lys__L_c + 10.0 met__L_c + 30.0 phe__L_c + 4.0 pheme_m + 28.0 pro__L_c + 32.0 ser__L_c + 32.0 thr__L_c + 6.0 trp__L_c + 12.0 tyr__L_c + 62.0 val__L_c --> rHb_c \n"
     ]
    }
   ],
   "source": [
    "for i in range (0,len(rhb_pathway)):\n",
    "    with model:\n",
    "        model.objective = rhb_pathway[-1] # calculates the flux with heme as the objective\n",
    "        print(model.optimize().fluxes[rhb_pathway[i].id], rhb_pathway[i].id, rhb_pathway[i].reaction, rhb_pathway[i].name)"
   ]
  },
  {
   "cell_type": "code",
   "execution_count": 24,
   "id": "c7b46a94-5916-48da-804d-cb15a55b9e3a",
   "metadata": {},
   "outputs": [
    {
     "name": "stdout",
     "output_type": "stream",
     "text": [
      "Max. recombinant haemoglobin production: 0.0163 [mmol gDW^-1 h^-1]\n",
      "Theoretical max. yield: 0.00163 [mmol-rHb / mmol-glucose]\n"
     ]
    }
   ],
   "source": [
    "medium = model.medium\n",
    "with model:\n",
    "    model.medium = medium\n",
    "    model.objective = model.reactions.rHb\n",
    "    rhb_production = model.optimize().objective_value\n",
    "    print(\"Max. recombinant haemoglobin production: \"+str(rhb_production)[:6]+\" [mmol gDW^-1 h^-1]\")\n",
    "    print(\"Theoretical max. yield: \"+ str(rhb_production / (-1*model.reactions.EX_glc__D_e.flux))[:7]+\" [mmol-rHb / mmol-glucose]\")"
   ]
  },
  {
   "cell_type": "markdown",
   "id": "af75ef4f",
   "metadata": {},
   "source": [
    "# Rationale-based genetic modifications"
   ]
  },
  {
   "cell_type": "markdown",
   "id": "6e3d4e19-ab89-4c9d-af42-13a881b01bb1",
   "metadata": {},
   "source": [
    "### Heme activated protein, HAP1 (YLR256W)"
   ]
  },
  {
   "cell_type": "markdown",
   "id": "4445d9d4-397c-4db1-890d-4bc5d385ebee",
   "metadata": {},
   "source": [
    "In the lab, *Saccharomyces cerevisiae* activate the biosynthesis of heme when sensing oxygen though unknown mechanisms. \n",
    "\n",
    "The heme then goes on to activate mitocondrial respiration though the **Hap1** protein (https://www.yeastgenome.org/locus/S000004246). The Hap1p also supresses anaerobic metabolism though activation of the transcriptional repressor **Rox1p** (https://www.yeastgenome.org/locus/S000006269).\n",
    "\n",
    "`Martinez, J. L., Petranovic, D., and Nielsen, J. “Heme metabolism in stress regulation andprotein production: From Cinderella to a key player”. In: Bioengineered 7.2 (Apr. 2016) http://dx.doi.org/10.1080/21655979.2015.1126016`\n",
    "\n",
    "Ideally, we would knock out either HAP1 or ROX1 with the aim of increasing endogenous biosynthesis of heme:"
   ]
  },
  {
   "cell_type": "code",
   "execution_count": 30,
   "id": "fff8a2ff-0fca-425a-bcf5-f4ee563ae8b8",
   "metadata": {},
   "outputs": [],
   "source": [
    "for gene in model.genes.query('HAP', 'name'):\n",
    "    print(gene.name,gene.id)"
   ]
  },
  {
   "cell_type": "code",
   "execution_count": 31,
   "id": "d10bd36e-cf6f-4849-be96-4554cae48a77",
   "metadata": {},
   "outputs": [],
   "source": [
    "for gene in model.genes.query('ROX', 'name'):\n",
    "    print(gene.name,gene.id)"
   ]
  },
  {
   "cell_type": "markdown",
   "id": "8941f50e-c7a0-4cf9-b40a-4497db092936",
   "metadata": {},
   "source": [
    "But since both of these proteins are transcription factors, and do not catalyse enzymatic reactions in the GSMM-sense, they are not to be found in the model.\n",
    "\n",
    "Instead we may aim for some of the proteins that are upregulated by **Hap1p** and **Rox1p**. \n",
    "\n",
    "\n",
    "**These proteins include**\n",
    "* The cytochromes for mitocondrial respiration: CYC1, CYB2, CYC7, QCR2, CYT1\n",
    "* Other enzymes involved in the oxidative stress response: YHB1, CTT1, SOD2\n",
    "\n",
    "Let's scan the model for these genes."
   ]
  },
  {
   "cell_type": "code",
   "execution_count": 41,
   "id": "1ec3aa84-44c6-4c4d-9809-e7914ff81236",
   "metadata": {},
   "outputs": [
    {
     "name": "stdout",
     "output_type": "stream",
     "text": [
      "The cytochromes for mitocondrial respiration\n",
      "CYC1 YJR048W\n",
      "CYB2 YML054C\n",
      "CYC7 YEL039C\n",
      "QCR2 YPR191W\n",
      "CYT1 YOR065W\n",
      "Other enzymes involved in the oxidative stress response\n",
      "YHB1 YGR234W\n",
      "CTT1 YGR088W\n",
      "SOD2 YHR008C\n"
     ]
    }
   ],
   "source": [
    "ls = ['CYC1', 'CYB2', 'CYC7', 'QCR2', 'CYT1']\n",
    "ls1 = []\n",
    "print(\"The cytochromes for mitocondrial respiration\")\n",
    "for i in range(0, len(ls)):\n",
    "    for gene in model.genes.query(ls[i], 'name'):\n",
    "        print(gene.name,gene.id)\n",
    "        ls1.append(gene.id)\n",
    "\n",
    "print(\"Other enzymes involved in the oxidative stress response\")\n",
    "ls = ['YHB1', 'CTT1', 'SOD2']\n",
    "ls2 = []\n",
    "for i in range(0, len(ls)):\n",
    "    for gene in model.genes.query(ls[i], 'name'):\n",
    "        print(gene.name,gene.id)\n",
    "        ls2.append(gene.id)"
   ]
  },
  {
   "cell_type": "code",
   "execution_count": 42,
   "id": "5b97ce93-5465-4b4a-9c7c-8b6644325cc5",
   "metadata": {},
   "outputs": [
    {
     "name": "stdout",
     "output_type": "stream",
     "text": [
      "---Before knockout---\n",
      "Growth rate: 0.8637367930478737\n",
      "Rate of hemoglobin production with hemoglobin as the objective:  0.016333900695119228  [mmol / gDW / h]\n",
      "Maximum theoretical yield of hemoglobin on glucose  0.0016333900695119229 [mmol-rHb / mmol-glucose]\n",
      "---After knockout---\n",
      "Growth rate: 0.005583952165107507\n",
      "Rate of hemoglobin production: 0.005583952165107507  [mmol / gDW / h]\n",
      "Yield for hemoglobin on sugar 0.0005583952165107507 [mmol-rHb / mmol-glucose]\n",
      "--------------------\n"
     ]
    }
   ],
   "source": [
    "test_knockout(model, ls1)"
   ]
  },
  {
   "cell_type": "markdown",
   "id": "26f036df-b4a2-489d-b82e-f428a710323f",
   "metadata": {},
   "source": [
    "Knocking out all the cytochromes for mitocondrial respiration significantly decreased the growth rate. It's like the model ignores fermentation as an option.\n",
    "\n",
    "We also see a significant drop in the rate of hemoglobin production, which was surprising as experimental data would suggest the opposite to be true `Martinez, J. L. et al. (2016) http://dx.doi.org/10.1080/21655979.2015.1126016`."
   ]
  },
  {
   "cell_type": "code",
   "execution_count": 43,
   "id": "ab7bfe68-9013-46f5-b14d-149d291c9383",
   "metadata": {},
   "outputs": [
    {
     "name": "stdout",
     "output_type": "stream",
     "text": [
      "---Before knockout---\n",
      "Growth rate: 0.8637367930478737\n",
      "Rate of hemoglobin production with hemoglobin as the objective:  0.016333900695119228  [mmol / gDW / h]\n",
      "Maximum theoretical yield of hemoglobin on glucose  0.0016333900695119229 [mmol-rHb / mmol-glucose]\n",
      "---After knockout---\n",
      "Growth rate: 0.016333900695119266\n",
      "Rate of hemoglobin production: 0.016333900695119266  [mmol / gDW / h]\n",
      "Yield for hemoglobin on sugar 0.0016333900695119266 [mmol-rHb / mmol-glucose]\n",
      "--------------------\n"
     ]
    }
   ],
   "source": [
    "test_knockout(model, ls2)"
   ]
  },
  {
   "cell_type": "markdown",
   "id": "3f1124c0-d10e-4987-bbbe-f2628a10dcbd",
   "metadata": {},
   "source": [
    "Knocking out the proteins involed in the oxidative stress response also appear to significantly decreased the growth rate, but not as much as when we knocked out all the cytochromes for mitocondrial respiration.\n",
    "\n",
    "Here we see no change in the rate of hemoglobin production."
   ]
  },
  {
   "cell_type": "markdown",
   "id": "3c0e98a6-e773-4286-ae93-d4b49f9102b3",
   "metadata": {},
   "source": [
    "### YFH1\n",
    "YFH1 is a hemoglobin-like protein in *Saccharomyces cerevisiae*, that catalyses the conversion of iron(II) to iron(III) (https://www.genome.jp/kegg-bin/show_pathway?sce00860)\n",
    "\n",
    "We need iron(II) for the heme-groups in hemoglobin, so ideally we don't want to waste any in this pathway.\n",
    "\n",
    "As we say earlier in the media composition, iron(II) is by no means considered a limiting factor. \n",
    "However, in the real-world, the uptake and utilisation of iron(II) could very well be an important facotor in the synthesis of heme.\n",
    "Therefore, we don't expect to see an increase in the yield of hemoglobin from this knockout, but rather we're interested in whether the knockout will impact the growth of our cell factory.\n",
    "\n",
    "Let's try knocking out YFH1 (https://www.yeastgenome.org/locus/S000002278)."
   ]
  },
  {
   "cell_type": "code",
   "execution_count": 44,
   "id": "9468af27",
   "metadata": {},
   "outputs": [
    {
     "name": "stdout",
     "output_type": "stream",
     "text": [
      "YFH1 YDL120W frozenset({<Reaction FEROm at 0x1f0900c0f08>})\n"
     ]
    }
   ],
   "source": [
    "for gene in model.genes.query('YFH1', 'name'):\n",
    "    print(gene.name,gene.id,gene.reactions)"
   ]
  },
  {
   "cell_type": "code",
   "execution_count": 45,
   "id": "f9b4e132-70b5-49c5-bba0-f815ca9a6c3c",
   "metadata": {},
   "outputs": [
    {
     "name": "stdout",
     "output_type": "stream",
     "text": [
      "---Before knockout---\n",
      "Growth rate: 0.8637367930478737\n",
      "Rate of hemoglobin production with hemoglobin as the objective:  0.016333900695119228  [mmol / gDW / h]\n",
      "Maximum theoretical yield of hemoglobin on glucose  0.0016333900695119229 [mmol-rHb / mmol-glucose]\n",
      "---After knockout---\n",
      "YFH1  knocked out.\n",
      "Growth rate: 0.016333900695119228\n",
      "Rate of hemoglobin production: 0.016333900695119228  [mmol / gDW / h]\n",
      "Yield for hemoglobin on sugar 0.0016333900695119229 [mmol-rHb / mmol-glucose]\n",
      "--------------------\n"
     ]
    }
   ],
   "source": [
    "test_knockout(model, 'YDL120W')"
   ]
  },
  {
   "cell_type": "markdown",
   "id": "b3a18bc2-5fe6-4d8f-a13b-500616c99186",
   "metadata": {},
   "source": [
    "Just as we suspected, there was not change in the yield of hemoglobin. However, the growth-rate was significantly decreased. \n",
    "\n",
    "Rather than a knockout, it would be interesting to investingate just how significantly a down-regulation of the gene-expression would impact the growth rate. "
   ]
  },
  {
   "cell_type": "markdown",
   "id": "e3a5103c-92b7-4307-ab78-045ed20c5d08",
   "metadata": {},
   "source": [
    "### Other draining pathways\n",
    "\n",
    "The enzymes COX10 and COX15 does appear to drain heme to the Heme O and Heme A metabolites \n",
    "\n",
    "CYC3 and CYT2 also appear to drain heme into cytochrome C.\n",
    "\n",
    "`https://www.genome.jp/kegg-bin/show_pathway?sce00860`"
   ]
  },
  {
   "cell_type": "markdown",
   "id": "ea825859-5a66-43d3-af76-014579836971",
   "metadata": {},
   "source": [
    "#### COX10"
   ]
  },
  {
   "cell_type": "code",
   "execution_count": 54,
   "id": "a91b69ee-bbb3-4ca4-a834-c9464d13e32a",
   "metadata": {},
   "outputs": [
    {
     "name": "stdout",
     "output_type": "stream",
     "text": [
      "COX10 YPL172C frozenset({<Reaction HEMEOSm at 0x1f08efe9408>})\n",
      "---Before knockout---\n",
      "Growth rate: 0.8637367930478737\n",
      "Rate of hemoglobin production with hemoglobin as the objective:  0.016333900695119228  [mmol / gDW / h]\n",
      "Maximum theoretical yield of hemoglobin on glucose  0.0016333900695119229 [mmol-rHb / mmol-glucose]\n",
      "---After knockout---\n",
      "COX10  knocked out.\n",
      "Growth rate: 0.01633390069511925\n",
      "Rate of hemoglobin production: 0.01633390069511925  [mmol / gDW / h]\n",
      "Yield for hemoglobin on sugar 0.0016333900695119248 [mmol-rHb / mmol-glucose]\n",
      "--------------------\n"
     ]
    }
   ],
   "source": [
    "for gene in model.genes.query('COX10', 'name'):\n",
    "    print(gene.name,gene.id,gene.reactions)\n",
    "    test_knockout(model, gene.id)"
   ]
  },
  {
   "cell_type": "markdown",
   "id": "dcc27a58-9272-4c4d-9b3c-f5ced3c18199",
   "metadata": {},
   "source": [
    "#### COX15"
   ]
  },
  {
   "cell_type": "code",
   "execution_count": 53,
   "id": "fedde1ca-a7f8-4d69-8dd7-fd89953ab7fb",
   "metadata": {},
   "outputs": [
    {
     "name": "stdout",
     "output_type": "stream",
     "text": [
      "COX15 YER141W frozenset({<Reaction HEMEOMOm at 0x1f08efe2cc8>})\n",
      "---Before knockout---\n",
      "Growth rate: 0.8637367930478737\n",
      "Rate of hemoglobin production with hemoglobin as the objective:  0.016333900695119228  [mmol / gDW / h]\n",
      "Maximum theoretical yield of hemoglobin on glucose  0.0016333900695119229 [mmol-rHb / mmol-glucose]\n",
      "---After knockout---\n",
      "COX15  knocked out.\n",
      "Growth rate: 0.016333900695119228\n",
      "Rate of hemoglobin production: 0.016333900695119228  [mmol / gDW / h]\n",
      "Yield for hemoglobin on sugar 0.0016333900695119229 [mmol-rHb / mmol-glucose]\n",
      "--------------------\n"
     ]
    }
   ],
   "source": [
    "for gene in model.genes.query('COX15', 'name'):\n",
    "    print(gene.name,gene.id,gene.reactions)\n",
    "    test_knockout(model, gene.id)"
   ]
  },
  {
   "cell_type": "markdown",
   "id": "c2b3d685-af49-4e79-8b2e-af44e42b5336",
   "metadata": {},
   "source": [
    "#### CYC3"
   ]
  },
  {
   "cell_type": "code",
   "execution_count": 56,
   "id": "571b22fc-bf6d-4cb7-bf4b-6764da4ee27f",
   "metadata": {},
   "outputs": [
    {
     "name": "stdout",
     "output_type": "stream",
     "text": [
      "CYC3 YAL039C frozenset({<Reaction HEMELm at 0x1f090037c08>})\n",
      "---Before knockout---\n",
      "Growth rate: 0.8637367930478737\n",
      "Rate of hemoglobin production with hemoglobin as the objective:  0.016333900695119228  [mmol / gDW / h]\n",
      "Maximum theoretical yield of hemoglobin on glucose  0.0016333900695119229 [mmol-rHb / mmol-glucose]\n",
      "---After knockout---\n",
      "CYC3  knocked out.\n",
      "Growth rate: 0.016333900695119228\n",
      "Rate of hemoglobin production: 0.016333900695119228  [mmol / gDW / h]\n",
      "Yield for hemoglobin on sugar 0.0016333900695119229 [mmol-rHb / mmol-glucose]\n",
      "--------------------\n"
     ]
    }
   ],
   "source": [
    "for gene in model.genes.query('CYC3', 'name'):\n",
    "    print(gene.name,gene.id,gene.reactions)\n",
    "    test_knockout(model, gene.id)"
   ]
  },
  {
   "cell_type": "markdown",
   "id": "bc8d557a-8549-4cc8-a9b9-34392b518212",
   "metadata": {},
   "source": [
    "#### CYT2"
   ]
  },
  {
   "cell_type": "code",
   "execution_count": 58,
   "id": "df4ec334-621d-4a68-bfda-3cacbb6d4c02",
   "metadata": {},
   "outputs": [
    {
     "name": "stdout",
     "output_type": "stream",
     "text": [
      "CYT2 YKL087C frozenset({<Reaction HEMELm at 0x1f090037c08>})\n",
      "---Before knockout---\n",
      "Growth rate: 0.8637367930478737\n",
      "Rate of hemoglobin production with hemoglobin as the objective:  0.016333900695119228  [mmol / gDW / h]\n",
      "Maximum theoretical yield of hemoglobin on glucose  0.0016333900695119229 [mmol-rHb / mmol-glucose]\n",
      "---After knockout---\n",
      "CYT2  knocked out.\n",
      "Growth rate: 0.016333900695119228\n",
      "Rate of hemoglobin production: 0.016333900695119228  [mmol / gDW / h]\n",
      "Yield for hemoglobin on sugar 0.0016333900695119229 [mmol-rHb / mmol-glucose]\n",
      "--------------------\n"
     ]
    }
   ],
   "source": [
    "for gene in model.genes.query('CYT2', 'name'):\n",
    "    print(gene.name,gene.id,gene.reactions)\n",
    "    test_knockout(model, gene.id)"
   ]
  },
  {
   "cell_type": "code",
   "execution_count": null,
   "id": "a6c4eea5-a78b-4036-9c07-b391dc98e1a8",
   "metadata": {},
   "outputs": [],
   "source": []
  }
 ],
 "metadata": {
  "kernelspec": {
   "display_name": "Python 3 (ipykernel)",
   "language": "python",
   "name": "python3"
  },
  "language_info": {
   "codemirror_mode": {
    "name": "ipython",
    "version": 3
   },
   "file_extension": ".py",
   "mimetype": "text/x-python",
   "name": "python",
   "nbconvert_exporter": "python",
   "pygments_lexer": "ipython3",
   "version": "3.7.11"
  }
 },
 "nbformat": 4,
 "nbformat_minor": 5
}
