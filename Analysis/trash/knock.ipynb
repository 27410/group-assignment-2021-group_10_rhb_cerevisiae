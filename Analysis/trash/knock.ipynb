{
 "cells": [
  {
   "cell_type": "code",
   "execution_count": 1,
   "id": "a447a0a7-1915-47dd-a669-76c7b4798960",
   "metadata": {},
   "outputs": [],
   "source": [
    "#%run <path of the notebook that has to be run>"
   ]
  },
  {
   "cell_type": "code",
   "execution_count": 1,
   "id": "09b18455-a4cc-43ba-bf6c-2bf0bbced1d8",
   "metadata": {},
   "outputs": [],
   "source": [
    "from cobra.io import read_sbml_model, write_sbml_model\n",
    "from functions import *"
   ]
  },
  {
   "cell_type": "code",
   "execution_count": 2,
   "id": "7521893d-17d1-419c-8140-36e2e78eb023",
   "metadata": {},
   "outputs": [],
   "source": [
    "model = read_sbml_model('model_yeast8_rhb.xml')"
   ]
  },
  {
   "cell_type": "code",
   "execution_count": 3,
   "id": "06543965-0e24-4294-8436-490b43b1deec",
   "metadata": {},
   "outputs": [
    {
     "name": "stdout",
     "output_type": "stream",
     "text": [
      "Maximize\n",
      "1.0*GROWTH - 1.0*GROWTH_reverse_c845e\n",
      "Growth rate: 0.8637367930478724\n"
     ]
    },
    {
     "data": {
      "text/plain": [
       "(None, None)"
      ]
     },
     "execution_count": 3,
     "metadata": {},
     "output_type": "execute_result"
    }
   ],
   "source": [
    "print(model.objective),print(\"Growth rate:\", model.optimize().objective_value)"
   ]
  },
  {
   "cell_type": "markdown",
   "id": "6cdab9f1-35dc-4d8c-a378-12c8e1a3c9db",
   "metadata": {},
   "source": [
    "Knocking out a single gene"
   ]
  },
  {
   "cell_type": "markdown",
   "id": "4f991a7b-96e4-426b-b966-fae59df568df",
   "metadata": {},
   "source": [
    "#### Let's kill COX10 (YPL172C)"
   ]
  },
  {
   "cell_type": "code",
   "execution_count": 4,
   "id": "094f67e9-b308-461a-8bb4-927ba3015d47",
   "metadata": {},
   "outputs": [
    {
     "name": "stdout",
     "output_type": "stream",
     "text": [
      "---Before knockout---\n",
      "Growth rate: 0.8637367930478724\n",
      "Rate of hemoglobin production with hemoglobin as the objective:  0.016333900695119228  [mmol / gDW / h]\n",
      "Maximum theoretical yield of hemoglobin on glucose  0.0016333900695119229 [mmol-rHb / mmol-glucose]\n",
      "---After knockout---\n",
      "COX10  knocked out.\n",
      "Growth rate: 0.01633390069511925\n",
      "Rate of hemoglobin production: 0.01633390069511925  [mmol / gDW / h]\n",
      "Yield for hemoglobin on sugar 0.0016333900695119248 [mmol-rHb / mmol-glucose]\n",
      "--------------------\n"
     ]
    }
   ],
   "source": [
    "test_knockout(model, 'YPL172C')"
   ]
  },
  {
   "cell_type": "markdown",
   "id": "8b1afe49-912f-4f8d-b3fe-65d87820f0fa",
   "metadata": {},
   "source": [
    "#### Now let's try for CYC3."
   ]
  },
  {
   "cell_type": "code",
   "execution_count": 6,
   "id": "dcbaa5a2-ad63-45c1-9016-992eab729f71",
   "metadata": {},
   "outputs": [
    {
     "name": "stdout",
     "output_type": "stream",
     "text": [
      "---Before knockout---\n",
      "Growth rate: 0.8637367930478724\n",
      "Rate of hemoglobin production: 0.0  [mmol/gDW/h]\n",
      "Yield for hemoglobin on sugar 0.0 [mmol-rHb / mmol-glucose]\n",
      "--------------------\n",
      "---After knockout---\n",
      "Growth rate: 0.016333900695119228\n",
      "Rate of hemoglobin production: 0.016333900695119228  [mmol/gDW/h]\n",
      "Yield for hemoglobin on sugar 0.16333900695119227 [mmol-rHb / mmol-glucose]\n",
      "--------------------\n"
     ]
    }
   ],
   "source": [
    "test_knockout(model, 'YAL039C')"
   ]
  },
  {
   "cell_type": "markdown",
   "id": "d52ebc7d-7cf0-498e-bede-22d4c51a8675",
   "metadata": {},
   "source": [
    "#### Now let's try for YFH1"
   ]
  },
  {
   "cell_type": "code",
   "execution_count": 7,
   "id": "0da65d41-8571-4e78-8877-9d0ea0058c1e",
   "metadata": {},
   "outputs": [
    {
     "name": "stdout",
     "output_type": "stream",
     "text": [
      "---Before knockout---\n",
      "Growth rate: 0.8637367930478724\n",
      "Rate of hemoglobin production: 0.0  [mmol/gDW/h]\n",
      "Yield for hemoglobin on sugar 0.0 [mmol-rHb / mmol-glucose]\n",
      "--------------------\n",
      "---After knockout---\n",
      "Growth rate: 0.016333900695119228\n",
      "Rate of hemoglobin production: 0.016333900695119228  [mmol/gDW/h]\n",
      "Yield for hemoglobin on sugar 0.16333900695119227 [mmol-rHb / mmol-glucose]\n",
      "--------------------\n"
     ]
    }
   ],
   "source": [
    "test_knockout(model, 'YDL120W')"
   ]
  },
  {
   "cell_type": "markdown",
   "id": "1e94989a",
   "metadata": {},
   "source": [
    "#### Let's try them all"
   ]
  },
  {
   "cell_type": "code",
   "execution_count": 8,
   "id": "688e443d",
   "metadata": {},
   "outputs": [
    {
     "name": "stdout",
     "output_type": "stream",
     "text": [
      "---Before knockout---\n",
      "Growth rate: 0.8637367930478724\n",
      "Rate of hemoglobin production: 0.0  [mmol/gDW/h]\n",
      "Yield for hemoglobin on sugar 0.0 [mmol-rHb / mmol-glucose]\n",
      "--------------------\n",
      "---After knockout---\n",
      "Growth rate: 0.01633390069511925\n",
      "Rate of hemoglobin production: 0.01633390069511925  [mmol/gDW/h]\n",
      "Yield for hemoglobin on sugar 0.1633390069511925 [mmol-rHb / mmol-glucose]\n",
      "--------------------\n"
     ]
    }
   ],
   "source": [
    "test_knockout(model, ['YDL120W','YAL039C','YPL172C'])"
   ]
  },
  {
   "cell_type": "markdown",
   "id": "0da78d1e",
   "metadata": {},
   "source": [
    "## GeckoPy"
   ]
  },
  {
   "cell_type": "code",
   "execution_count": null,
   "id": "d6a7d14c",
   "metadata": {},
   "outputs": [],
   "source": []
  },
  {
   "cell_type": "code",
   "execution_count": null,
   "id": "340e4f9e",
   "metadata": {},
   "outputs": [],
   "source": []
  }
 ],
 "metadata": {
  "kernelspec": {
   "display_name": "Python 3 (ipykernel)",
   "language": "python",
   "name": "python3"
  },
  "language_info": {
   "codemirror_mode": {
    "name": "ipython",
    "version": 3
   },
   "file_extension": ".py",
   "mimetype": "text/x-python",
   "name": "python",
   "nbconvert_exporter": "python",
   "pygments_lexer": "ipython3",
   "version": "3.7.11"
  }
 },
 "nbformat": 4,
 "nbformat_minor": 5
}
