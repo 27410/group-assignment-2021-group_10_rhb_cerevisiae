{
 "cells": [
  {
   "cell_type": "markdown",
   "id": "84a04d98-8ab5-4b3b-a6a2-0db97725cc5c",
   "metadata": {},
   "source": [
    "# Optknock"
   ]
  },
  {
   "cell_type": "markdown",
   "id": "4ad5d77c-35b7-4ab2-a3ec-6d363ba8e617",
   "metadata": {},
   "source": [
    "Tried to use other solver, because it was mad, but we don't have license...\n",
    "* pip install optlang\n",
    "* from optlang import gurobi_interface \n",
    "* I uninstalled the package again: pip uninstall optlang\n",
    "\n",
    "Tried installing cplex, because they also recommend that in '? optknock', but that didn't work with the current version of python..."
   ]
  },
  {
   "cell_type": "code",
   "execution_count": null,
   "id": "ca9f38bc-f0ae-4c05-be78-e33b2f8ca7c5",
   "metadata": {},
   "outputs": [],
   "source": [
    "from cobra.io import read_sbml_model\n",
    "from cameo.strain_design import OptKnock"
   ]
  },
  {
   "cell_type": "code",
   "execution_count": null,
   "id": "ea1c87a8-7d7e-4c87-b2d0-040daee652ab",
   "metadata": {},
   "outputs": [],
   "source": [
    "model = read_sbml_model('iMM904.xml')\n",
    "model.add_boundary(model.metabolites.pheme_m, type='demand')"
   ]
  },
  {
   "cell_type": "code",
   "execution_count": null,
   "id": "ca4ca7c5-6617-4f95-954e-2b02c732f647",
   "metadata": {},
   "outputs": [],
   "source": [
    "model.solver = 'glpk'"
   ]
  },
  {
   "cell_type": "code",
   "execution_count": null,
   "id": "166839be-2701-4aac-9f60-201a82303e22",
   "metadata": {},
   "outputs": [],
   "source": [
    "optknock = OptKnock(model, fraction_of_optimum=0.1)"
   ]
  },
  {
   "cell_type": "code",
   "execution_count": null,
   "id": "d2a23665-caf7-4db1-be33-e45cac0df787",
   "metadata": {},
   "outputs": [],
   "source": [
    "result = optknock.run(max_knockouts=1, target=\"FCLTm\", biomass=\"BIOMASS_SC5_notrace\")"
   ]
  },
  {
   "cell_type": "code",
   "execution_count": null,
   "id": "f8e92645-1fe5-4748-b28f-a4fa5b4ff6fb",
   "metadata": {},
   "outputs": [],
   "source": [
    "result"
   ]
  },
  {
   "cell_type": "code",
   "execution_count": null,
   "id": "d26279ea-3cb0-41b4-8fe3-96e1ad46a671",
   "metadata": {},
   "outputs": [],
   "source": [
    "result.plot(plotter, 0)"
   ]
  },
  {
   "cell_type": "code",
   "execution_count": null,
   "id": "4df56d24-1704-4c73-a985-9f7338f8045a",
   "metadata": {},
   "outputs": [],
   "source": []
  },
  {
   "cell_type": "code",
   "execution_count": null,
   "id": "5de458d8-7525-4b9c-a6b4-6340c8199c69",
   "metadata": {},
   "outputs": [],
   "source": []
  }
 ],
 "metadata": {
  "kernelspec": {
   "display_name": "Python 3 (ipykernel)",
   "language": "python",
   "name": "python3"
  },
  "language_info": {
   "codemirror_mode": {
    "name": "ipython",
    "version": 3
   },
   "file_extension": ".py",
   "mimetype": "text/x-python",
   "name": "python",
   "nbconvert_exporter": "python",
   "pygments_lexer": "ipython3",
   "version": "3.8.8"
  }
 },
 "nbformat": 4,
 "nbformat_minor": 5
}
