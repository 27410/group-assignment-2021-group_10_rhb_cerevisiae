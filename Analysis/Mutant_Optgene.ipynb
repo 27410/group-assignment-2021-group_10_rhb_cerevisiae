{
 "cells": [
  {
   "cell_type": "markdown",
   "id": "24087d3d-c5d9-467e-a8d2-cee9f37e120f",
   "metadata": {},
   "source": [
    "antag at hele syntesevejen kan til heme trækkes fra heme_pathway.ipynb\n",
    "antag at mediet er blevet ændret i media.ipynb\n",
    "\n",
    "Definér mutanter så de kan bruges i andre filer til karakteriseringer som udbytte af biomasse, heme, osv., osv. :D Gerne som funktioner eller Classes\n",
    "\n",
    "Opregulering af HEM2, HEM3, HEM13 og HEM 15\n",
    "\n",
    "Forskellige grader af nedreguleret YFH1 (Binder jern med svovl I mitokondrien. Knockout giver super dårlig vækst. Prøv eventuelt en nedregulering - find en serie af fluxen.)\n",
    "\n",
    "Knockout af HAP1\n",
    "\n",
    "\n",
    "<span style=\"color:red\"> Caro note: Jeg tror ikke man kan knocke HAP1 ud, hvor den deltager i regulering (synes det ligner, at det er en aktivator) -> man kan vist kun knocke enzymer ud </span>"
   ]
  },
  {
   "cell_type": "markdown",
   "id": "2aa3685a-9ff3-41d3-8133-27a2653d9fc6",
   "metadata": {},
   "source": [
    "Links:\n",
    "https://cameo.bio/05-predict-gene-knockout-strategies.html\n",
    "https://cameo.bio/06-predict-gene-modulation-targets.html\n",
    "https://github.com/biosustain/marsi\n",
    "https://github.com/biosustain/cameo-notebooks"
   ]
  },
  {
   "cell_type": "markdown",
   "id": "76399f00-a222-4848-8e99-c38e14d9a1ef",
   "metadata": {},
   "source": [
    "How to get plots to work in Jupyterlab (source:https://plotly.com/python/getting-started/)\n",
    "* ! pip install \"jupyterlab>=3\" \"ipywidgets>=7.6\"\n",
    "* ! pip install jupyter-dash\n",
    "* import plotly.graph_objects as go   # Not sure if this is necessary\n",
    "\n",
    "\n",
    "Maybe it can be done like this also in command line?:\n",
    "* jupyter labextension install jupyterlab-plotly\n",
    "* Not sure if this is necessary before?? : jupyter labextension install @jupyter-widgets/jupyterlab-manager\n",
    "\n",
    "Escher might be installed like above:\n",
    "* Jupyter labextension install escher"
   ]
  },
  {
   "cell_type": "markdown",
   "id": "0c075196-8a8c-461d-8d00-c178149ac90e",
   "metadata": {},
   "source": [
    "# OptGene: prediction of gene knock-outs\n",
    "\n",
    "OptGene is a function that can be used to predict gene knock-out targets in order to improve yield or productivity of a product of interest (Patil 2005). For this purpose, OptGene uses the principle of Darwinian evolution in which mutants evolve and reproduce to generate individuals with higher fitness score, thus yielding an optimal solution (Patil 2005)."
   ]
  },
  {
   "cell_type": "markdown",
   "id": "b0c38ae4-054b-4d63-9b98-6c81d8fe05c0",
   "metadata": {},
   "source": [
    "Packages and the model is imported:"
   ]
  },
  {
   "cell_type": "code",
   "execution_count": 1,
   "id": "e818117b-d2a9-4ed1-abac-c2f0281b92d2",
   "metadata": {},
   "outputs": [],
   "source": [
    "from cameo.visualization.plotting.with_plotly import PlotlyPlotter\n",
    "from cameo.strain_design import OptGene\n",
    "from cobra.io import read_sbml_model\n",
    "from cobra import Reaction, Metabolite"
   ]
  },
  {
   "cell_type": "code",
   "execution_count": 2,
   "id": "356a3407-b3f9-4a06-ad94-904a6018df59",
   "metadata": {},
   "outputs": [
    {
     "data": {
      "text/html": [
       "\n",
       "        <table>\n",
       "            <tr>\n",
       "                <td><strong>Reaction identifier</strong></td><td>DM_pheme_m</td>\n",
       "            </tr><tr>\n",
       "                <td><strong>Name</strong></td><td>Protoheme C34H30FeN4O4 demand</td>\n",
       "            </tr><tr>\n",
       "                <td><strong>Memory address</strong></td>\n",
       "                <td>0x0216a3ba7190</td>\n",
       "            </tr><tr>\n",
       "                <td><strong>Stoichiometry</strong></td>\n",
       "                <td>\n",
       "                    <p style='text-align:right'>pheme_m --></p>\n",
       "                    <p style='text-align:right'>Protoheme C34H30FeN4O4 --></p>\n",
       "                </td>\n",
       "            </tr><tr>\n",
       "                <td><strong>GPR</strong></td><td></td>\n",
       "            </tr><tr>\n",
       "                <td><strong>Lower bound</strong></td><td>0</td>\n",
       "            </tr><tr>\n",
       "                <td><strong>Upper bound</strong></td><td>1000.0</td>\n",
       "            </tr>\n",
       "        </table>\n",
       "        "
      ],
      "text/plain": [
       "<Reaction DM_pheme_m at 0x216a3ba7190>"
      ]
     },
     "execution_count": 2,
     "metadata": {},
     "output_type": "execute_result"
    }
   ],
   "source": [
    "model = read_sbml_model('model_standard_yeast.xml')\n",
    "model.add_boundary(model.metabolites.pheme_m, type='demand')"
   ]
  },
  {
   "cell_type": "code",
   "execution_count": 3,
   "id": "3aafef48-e7b6-462e-92f1-5df8756c8047",
   "metadata": {},
   "outputs": [
    {
     "data": {
      "text/html": [
       "\n",
       "        <table>\n",
       "            <tr>\n",
       "                <td><strong>Reaction identifier</strong></td><td>EX_rHb</td>\n",
       "            </tr><tr>\n",
       "                <td><strong>Name</strong></td><td></td>\n",
       "            </tr><tr>\n",
       "                <td><strong>Memory address</strong></td>\n",
       "                <td>0x0216a28553d0</td>\n",
       "            </tr><tr>\n",
       "                <td><strong>Stoichiometry</strong></td>\n",
       "                <td>\n",
       "                    <p style='text-align:right'>rHb_c --></p>\n",
       "                    <p style='text-align:right'>--></p>\n",
       "                </td>\n",
       "            </tr><tr>\n",
       "                <td><strong>GPR</strong></td><td></td>\n",
       "            </tr><tr>\n",
       "                <td><strong>Lower bound</strong></td><td>0.0</td>\n",
       "            </tr><tr>\n",
       "                <td><strong>Upper bound</strong></td><td>1000.0</td>\n",
       "            </tr>\n",
       "        </table>\n",
       "        "
      ],
      "text/plain": [
       "<Reaction EX_rHb at 0x216a28553d0>"
      ]
     },
     "execution_count": 3,
     "metadata": {},
     "output_type": "execute_result"
    }
   ],
   "source": [
    "new_reaction_rHb = Reaction('rHb')\n",
    "hemoglobin = Metabolite(id='rHb_c', compartment='c')\n",
    "new_reaction_rHb.add_metabolites({model.metabolites.ala__L_c: -36*2,\n",
    "                               model.metabolites.cys__L_c: -3*2,\n",
    "                               model.metabolites.asp__L_c: -15*2,\n",
    "                               model.metabolites.glu__L_c: -12*2,\n",
    "                               model.metabolites.phe__L_c: -15*2,\n",
    "                               model.metabolites.gly_c: -20*2,\n",
    "                               model.metabolites.his__L_c: -19*2,\n",
    "                               model.metabolites.lys__L_c: -22*2,\n",
    "                               model.metabolites.leu__L_c: -36*2,\n",
    "                               model.metabolites.met__L_c: -5*2,\n",
    "                               model.metabolites.asn__L_c: -10*2,\n",
    "                               model.metabolites.pro__L_c: -14*2,\n",
    "                               model.metabolites.gln__L_c: -4*2,\n",
    "                               model.metabolites.arg__L_c: -6*2,\n",
    "                               model.metabolites.ser__L_c: -16*2,\n",
    "                               model.metabolites.thr__L_c: -16*2,\n",
    "                               model.metabolites.val__L_c: -31*2,\n",
    "                               model.metabolites.trp__L_c: -3*2,\n",
    "                               model.metabolites.tyr__L_c: -6*2, \n",
    "                               model.metabolites.pheme_m: -4,\n",
    "                                  hemoglobin: 1,\n",
    "                             })\n",
    "model.add_reactions([new_reaction_rHb])\n",
    "hemoglobin_exchange = Reaction('EX_rHb')\n",
    "hemoglobin_exchange.add_metabolites({model.metabolites.rHb_c: -1})\n",
    "model.add_reaction(hemoglobin_exchange)\n",
    "model.reactions.EX_rHb"
   ]
  },
  {
   "cell_type": "code",
   "execution_count": 6,
   "id": "46075e03-6a44-4687-bbda-65da360e8619",
   "metadata": {},
   "outputs": [],
   "source": [
    "optgene = OptGene(model)"
   ]
  },
  {
   "cell_type": "markdown",
   "id": "c9c24aa7-c512-45c9-99ee-206c1e3646b9",
   "metadata": {},
   "source": [
    "# Remember to change max_evaluations to correct!"
   ]
  },
  {
   "cell_type": "markdown",
   "id": "af9ad756-b921-4a90-af3c-cb7207c94350",
   "metadata": {},
   "source": [
    "The OptGene analysis is now run # ACS Synth. Biol. 2018, 7, 4, 1163–1166 Publication Date:March 20, 2018 https://doi.org/10.1021/acssynbio.7b00423"
   ]
  },
  {
   "cell_type": "code",
   "execution_count": 9,
   "id": "adaf0fa7-e4ef-4a32-82a7-4334512c6951",
   "metadata": {},
   "outputs": [
    {
     "name": "stdout",
     "output_type": "stream",
     "text": [
      "Starting optimization at Wed, 10 Nov 2021 20:51:52\n"
     ]
    },
    {
     "data": {
      "application/vnd.jupyter.widget-view+json": {
       "model_id": "a42885cb9f974a189e583bc5ddeee913",
       "version_major": 2,
       "version_minor": 0
      },
      "text/plain": [
       "HBox()"
      ]
     },
     "metadata": {},
     "output_type": "display_data"
    },
    {
     "name": "stdout",
     "output_type": "stream",
     "text": [
      "Finished after 00:45:20\n"
     ]
    }
   ],
   "source": [
    "result = optgene.run(target=model.reactions.EX_rHb,\n",
    "                     biomass=model.reactions.BIOMASS_SC5_notrace,\n",
    "                     substrate=model.metabolites.glc__D_e,\n",
    "                     max_knockouts=5,\n",
    "                     max_evaluations=50000,\n",
    "                     plot=False)"
   ]
  },
  {
   "cell_type": "code",
   "execution_count": 11,
   "id": "72f6dc93-9f0b-4f99-ad17-efd2985dedf8",
   "metadata": {},
   "outputs": [
    {
     "data": {
      "text/html": [
       "\n",
       "        <h3>OptGene Result</h3>\n",
       "        <ul>\n",
       "            <li>Simulation: fba<br/></li>\n",
       "            <li>Objective Function: $$bpcy = \\frac{(BIOMASS\\_SC5\\_notrace * EX\\_rHb)}{EX\\_glc\\_\\_D\\_e}$$<br/></li>\n",
       "        </ul>\n",
       "        <div>\n",
       "<style scoped>\n",
       "    .dataframe tbody tr th:only-of-type {\n",
       "        vertical-align: middle;\n",
       "    }\n",
       "\n",
       "    .dataframe tbody tr th {\n",
       "        vertical-align: top;\n",
       "    }\n",
       "\n",
       "    .dataframe thead th {\n",
       "        text-align: right;\n",
       "    }\n",
       "</style>\n",
       "<table border=\"1\" class=\"dataframe\">\n",
       "  <thead>\n",
       "    <tr style=\"text-align: right;\">\n",
       "      <th></th>\n",
       "      <th>reactions</th>\n",
       "      <th>genes</th>\n",
       "      <th>size</th>\n",
       "      <th>fva_min</th>\n",
       "      <th>fva_max</th>\n",
       "      <th>target_flux</th>\n",
       "      <th>biomass_flux</th>\n",
       "      <th>yield</th>\n",
       "      <th>fitness</th>\n",
       "    </tr>\n",
       "  </thead>\n",
       "  <tbody>\n",
       "  </tbody>\n",
       "</table>\n",
       "</div>\n",
       "        "
      ],
      "text/plain": [
       "<cameo.strain_design.heuristic.evolutionary_based.OptGeneResult at 0x216a3f3e3d0>"
      ]
     },
     "execution_count": 11,
     "metadata": {},
     "output_type": "execute_result"
    }
   ],
   "source": [
    "result"
   ]
  },
  {
   "cell_type": "markdown",
   "id": "c66a550a-0b29-4da2-bfe3-a086222b39c4",
   "metadata": {},
   "source": [
    "Note that with 100.000 evaluations, there is still no results (even for max_knockouts = 5 (default)) -> this took 1,5 h\n"
   ]
  },
  {
   "cell_type": "code",
   "execution_count": null,
   "id": "541ddd6e-ca1d-4602-80d4-a68585628d08",
   "metadata": {},
   "outputs": [],
   "source": []
  },
  {
   "cell_type": "markdown",
   "id": "b8c5c857-5216-4afd-9649-c8eef6ef1273",
   "metadata": {},
   "source": [
    "# References:\n",
    "\n",
    "Patil, K. R., Rocha, I., Förster, J., & Nielsen, J. (2005). Evolutionary programming as a platform for in silico metabolic engineering. BMC Bioinformatics, 6, 1–12. https://doi.org/10.1186/1471-2105-6-308"
   ]
  },
  {
   "cell_type": "code",
   "execution_count": null,
   "id": "8257ddd2-bb86-46c2-ae1d-c353a9854ef2",
   "metadata": {},
   "outputs": [],
   "source": []
  },
  {
   "cell_type": "markdown",
   "id": "4b8e5ee0-030e-4727-a2b4-442a370dba20",
   "metadata": {},
   "source": [
    "# Optknock"
   ]
  },
  {
   "cell_type": "markdown",
   "id": "14231ecf-4dcf-4718-b7fb-c0a295013f76",
   "metadata": {},
   "source": [
    "Tried to use other solver, because it was mad, but we don't have license...\n",
    "* pip install optlang\n",
    "* from optlang import gurobi_interface \n",
    "* I uninstalled the package again: pip uninstall optlang\n",
    "\n",
    "Tried installing cplex, because they also recommend that in '? optknock', but that didn't work with the current version of python..."
   ]
  },
  {
   "cell_type": "code",
   "execution_count": null,
   "id": "848df497-3b90-43bd-b025-d9cccda3038a",
   "metadata": {},
   "outputs": [],
   "source": [
    "from cobra.io import read_sbml_model\n",
    "from cameo.strain_design import OptKnock"
   ]
  },
  {
   "cell_type": "code",
   "execution_count": null,
   "id": "c8d426f8-4cd1-48e6-9db2-300b3a6fb516",
   "metadata": {},
   "outputs": [],
   "source": [
    "model = read_sbml_model('iMM904.xml')\n",
    "model.add_boundary(model.metabolites.pheme_m, type='demand')"
   ]
  },
  {
   "cell_type": "code",
   "execution_count": null,
   "id": "74e0bfc3-07a6-4e9c-9898-f38390d775ab",
   "metadata": {},
   "outputs": [],
   "source": [
    "model.solver = 'glpk'"
   ]
  },
  {
   "cell_type": "code",
   "execution_count": null,
   "id": "33d3e638-d103-42ce-a440-61b220c5b588",
   "metadata": {},
   "outputs": [],
   "source": [
    "optknock = OptKnock(model, fraction_of_optimum=0.1)"
   ]
  },
  {
   "cell_type": "code",
   "execution_count": null,
   "id": "339a9fb9-2285-4f05-8ed7-f2f42bd386b8",
   "metadata": {},
   "outputs": [],
   "source": [
    "result = optknock.run(max_knockouts=1, target=\"FCLTm\", biomass=\"BIOMASS_SC5_notrace\")"
   ]
  },
  {
   "cell_type": "code",
   "execution_count": null,
   "id": "08a056c7-691c-439e-9e61-7669951022b0",
   "metadata": {},
   "outputs": [],
   "source": [
    "result"
   ]
  },
  {
   "cell_type": "code",
   "execution_count": null,
   "id": "840e42fd-81bf-40aa-bebc-153a22743437",
   "metadata": {},
   "outputs": [],
   "source": [
    "result.plot(plotter, 0)"
   ]
  },
  {
   "cell_type": "code",
   "execution_count": null,
   "id": "861cecbb-bec5-4f88-ae3d-0e5560dbdade",
   "metadata": {},
   "outputs": [],
   "source": [
    "? optknock"
   ]
  },
  {
   "cell_type": "code",
   "execution_count": null,
   "id": "fe5a29de-b833-47d8-90a6-3646bb8e7be0",
   "metadata": {},
   "outputs": [],
   "source": []
  }
 ],
 "metadata": {
  "kernelspec": {
   "display_name": "Python 3 (ipykernel)",
   "language": "python",
   "name": "python3"
  },
  "language_info": {
   "codemirror_mode": {
    "name": "ipython",
    "version": 3
   },
   "file_extension": ".py",
   "mimetype": "text/x-python",
   "name": "python",
   "nbconvert_exporter": "python",
   "pygments_lexer": "ipython3",
   "version": "3.7.11"
  }
 },
 "nbformat": 4,
 "nbformat_minor": 5
}
