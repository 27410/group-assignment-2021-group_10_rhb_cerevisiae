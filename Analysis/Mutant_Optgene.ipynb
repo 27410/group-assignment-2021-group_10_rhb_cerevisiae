{
 "cells": [
  {
   "cell_type": "markdown",
   "id": "2aa3685a-9ff3-41d3-8133-27a2653d9fc6",
   "metadata": {},
   "source": [
    "Links:\n",
    "https://cameo.bio/05-predict-gene-knockout-strategies.html\n",
    "https://cameo.bio/06-predict-gene-modulation-targets.html\n",
    "https://github.com/biosustain/marsi\n",
    "https://github.com/biosustain/cameo-notebooks"
   ]
  },
  {
   "cell_type": "markdown",
   "id": "76399f00-a222-4848-8e99-c38e14d9a1ef",
   "metadata": {},
   "source": [
    "How to get plots to work in Jupyterlab (source:https://plotly.com/python/getting-started/)\n",
    "* ! pip install \"jupyterlab>=3\" \"ipywidgets>=7.6\"\n",
    "* ! pip install jupyter-dash\n",
    "* import plotly.graph_objects as go   # Not sure if this is necessary\n",
    "\n",
    "\n",
    "Maybe it can be done like this also in command line?:\n",
    "* jupyter labextension install jupyterlab-plotly\n",
    "* Not sure if this is necessary before?? : jupyter labextension install @jupyter-widgets/jupyterlab-manager\n",
    "\n",
    "Escher might be installed like above:\n",
    "* Jupyter labextension install escher"
   ]
  },
  {
   "cell_type": "markdown",
   "id": "0c075196-8a8c-461d-8d00-c178149ac90e",
   "metadata": {},
   "source": [
    "# OptGene: prediction of gene knock-outs\n",
    "\n",
    "OptGene is a function that can be used to predict gene knock-out targets in order to improve yield or productivity of a product of interest (Patil et al. 2005). For this purpose, OptGene uses the principle of Darwinian evolution in which mutants evolve and reproduce to generate individuals with higher fitness score, thus yielding an optimal solution (Patil et al. 2005)."
   ]
  },
  {
   "cell_type": "markdown",
   "id": "b0c38ae4-054b-4d63-9b98-6c81d8fe05c0",
   "metadata": {},
   "source": [
    "OptGene is found in the CAMEO package (Cardoso et al. 2018). "
   ]
  },
  {
   "cell_type": "code",
   "execution_count": null,
   "id": "e818117b-d2a9-4ed1-abac-c2f0281b92d2",
   "metadata": {},
   "outputs": [],
   "source": [
    "from cameo.visualization.plotting.with_plotly import PlotlyPlotter\n",
    "from cameo.strain_design import OptGene\n",
    "from cobra.io import read_sbml_model\n",
    "from cobra import Reaction, Metabolite"
   ]
  },
  {
   "cell_type": "code",
   "execution_count": null,
   "id": "356a3407-b3f9-4a06-ad94-904a6018df59",
   "metadata": {},
   "outputs": [],
   "source": [
    "model = read_sbml_model('model_yeast8_rhb.xml')"
   ]
  },
  {
   "cell_type": "code",
   "execution_count": null,
   "id": "46075e03-6a44-4687-bbda-65da360e8619",
   "metadata": {},
   "outputs": [],
   "source": [
    "optgene = OptGene(model)"
   ]
  },
  {
   "cell_type": "code",
   "execution_count": null,
   "id": "adaf0fa7-e4ef-4a32-82a7-4334512c6951",
   "metadata": {},
   "outputs": [],
   "source": [
    "result = optgene.run(target=model.reactions.EX_rHb,\n",
    "                     biomass=model.reactions.GROWTH,\n",
    "                     substrate=model.metabolites.glc__D_e,\n",
    "                     max_knockouts=2,\n",
    "                     max_evaluations=1000,\n",
    "                     plot=False)"
   ]
  },
  {
   "cell_type": "code",
   "execution_count": null,
   "id": "72f6dc93-9f0b-4f99-ad17-efd2985dedf8",
   "metadata": {},
   "outputs": [],
   "source": [
    "result"
   ]
  },
  {
   "cell_type": "markdown",
   "id": "b8c5c857-5216-4afd-9649-c8eef6ef1273",
   "metadata": {},
   "source": [
    "# References:\n",
    "\n",
    "Patil, K. R., Rocha, I., Förster, J., & Nielsen, J. (2005). Evolutionary programming as a platform for in silico metabolic engineering. BMC Bioinformatics, 6, 1–12. https://doi.org/10.1186/1471-2105-6-308\n",
    "\n",
    "Cardoso, J. G. R., Jensen, K., Lieven, C., Hansen, A. S. L., Galkina, S., Beber, M., Özdemir, E., Herrgård, M. J., Redestig, H., & Sonnenschein, N. (2018). Cameo: A Python Library for Computer Aided Metabolic Engineering and Optimization of Cell Factories. ACS Synthetic Biology, 7(4), 1163–1166. https://doi.org/10.1021/acssynbio.7b00423"
   ]
  },
  {
   "cell_type": "code",
   "execution_count": null,
   "id": "2bd43b2d-3da1-4f88-bf6b-a93ca76101d6",
   "metadata": {},
   "outputs": [],
   "source": []
  }
 ],
 "metadata": {
  "kernelspec": {
   "display_name": "Python 3 (ipykernel)",
   "language": "python",
   "name": "python3"
  },
  "language_info": {
   "codemirror_mode": {
    "name": "ipython",
    "version": 3
   },
   "file_extension": ".py",
   "mimetype": "text/x-python",
   "name": "python",
   "nbconvert_exporter": "python",
   "pygments_lexer": "ipython3",
   "version": "3.8.8"
  }
 },
 "nbformat": 4,
 "nbformat_minor": 5
}
