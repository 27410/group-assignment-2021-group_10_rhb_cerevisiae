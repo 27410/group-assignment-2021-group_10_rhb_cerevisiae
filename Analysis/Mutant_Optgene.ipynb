{
 "cells": [
  {
   "cell_type": "markdown",
   "id": "0c075196-8a8c-461d-8d00-c178149ac90e",
   "metadata": {},
   "source": [
    "# OptGene: prediction of gene knock-outs\n",
    "\n",
    "OptGene is a function that can be used to predict gene knock-out targets in order to improve yield or productivity of a product of interest (Patil et al. 2005). For this purpose, OptGene uses the principle of Darwinian evolution in which mutants evolve and reproduce to generate individuals with higher fitness score, thus yielding an optimal solution (Patil et al. 2005)."
   ]
  },
  {
   "cell_type": "markdown",
   "id": "b0c38ae4-054b-4d63-9b98-6c81d8fe05c0",
   "metadata": {},
   "source": [
    "OptGene is found in the CAMEO package (Cardoso et al. 2018). "
   ]
  },
  {
   "cell_type": "code",
   "execution_count": 1,
   "id": "e818117b-d2a9-4ed1-abac-c2f0281b92d2",
   "metadata": {},
   "outputs": [],
   "source": [
    "from cameo.visualization.plotting.with_plotly import PlotlyPlotter\n",
    "from cameo.strain_design import OptGene\n",
    "from cobra.io import read_sbml_model\n",
    "from cobra import Reaction, Metabolite"
   ]
  },
  {
   "cell_type": "code",
   "execution_count": 2,
   "id": "356a3407-b3f9-4a06-ad94-904a6018df59",
   "metadata": {},
   "outputs": [],
   "source": [
    "model = read_sbml_model('model_yeast8_rhb.xml')"
   ]
  },
  {
   "cell_type": "code",
   "execution_count": 3,
   "id": "46075e03-6a44-4687-bbda-65da360e8619",
   "metadata": {},
   "outputs": [],
   "source": [
    "optgene = OptGene(model)"
   ]
  },
  {
   "cell_type": "code",
   "execution_count": 4,
   "id": "adaf0fa7-e4ef-4a32-82a7-4334512c6951",
   "metadata": {},
   "outputs": [
    {
     "name": "stdout",
     "output_type": "stream",
     "text": [
      "Starting optimization at Wed, 17 Nov 2021 14:52:52\n"
     ]
    },
    {
     "data": {
      "application/vnd.jupyter.widget-view+json": {
       "model_id": "42894a9de962496c9f05802d443b67ad",
       "version_major": 2,
       "version_minor": 0
      },
      "text/plain": [
       "HBox()"
      ]
     },
     "metadata": {},
     "output_type": "display_data"
    },
    {
     "name": "stdout",
     "output_type": "stream",
     "text": [
      "Finished after 03:44:10\n"
     ]
    }
   ],
   "source": [
    "result = optgene.run(target=model.reactions.EX_rHb,\n",
    "                     biomass=model.reactions.GROWTH,\n",
    "                     substrate=model.metabolites.glc__D_e,\n",
    "                     max_knockouts=5,\n",
    "                     max_evaluations=50000,\n",
    "                     plot=False)"
   ]
  },
  {
   "cell_type": "code",
   "execution_count": 5,
   "id": "72f6dc93-9f0b-4f99-ad17-efd2985dedf8",
   "metadata": {},
   "outputs": [
    {
     "name": "stderr",
     "output_type": "stream",
     "text": [
      "No solutions found\n"
     ]
    },
    {
     "data": {
      "text/html": [
       "\n",
       "        <h3>OptGene Result</h3>\n",
       "        <ul>\n",
       "            <li>Simulation: fba<br/></li>\n",
       "            <li>Objective Function: $$bpcy = \\frac{(GROWTH * EX\\_rHb)}{EX\\_glc\\_\\_D\\_e}$$<br/></li>\n",
       "        </ul>\n",
       "        <div>\n",
       "<style scoped>\n",
       "    .dataframe tbody tr th:only-of-type {\n",
       "        vertical-align: middle;\n",
       "    }\n",
       "\n",
       "    .dataframe tbody tr th {\n",
       "        vertical-align: top;\n",
       "    }\n",
       "\n",
       "    .dataframe thead th {\n",
       "        text-align: right;\n",
       "    }\n",
       "</style>\n",
       "<table border=\"1\" class=\"dataframe\">\n",
       "  <thead>\n",
       "    <tr style=\"text-align: right;\">\n",
       "      <th></th>\n",
       "      <th>reactions</th>\n",
       "      <th>genes</th>\n",
       "      <th>size</th>\n",
       "      <th>fva_min</th>\n",
       "      <th>fva_max</th>\n",
       "      <th>target_flux</th>\n",
       "      <th>biomass_flux</th>\n",
       "      <th>yield</th>\n",
       "      <th>fitness</th>\n",
       "    </tr>\n",
       "  </thead>\n",
       "  <tbody>\n",
       "  </tbody>\n",
       "</table>\n",
       "</div>\n",
       "        "
      ],
      "text/plain": [
       "<cameo.strain_design.heuristic.evolutionary_based.OptGeneResult at 0x1184d712eb0>"
      ]
     },
     "execution_count": 5,
     "metadata": {},
     "output_type": "execute_result"
    }
   ],
   "source": [
    "result"
   ]
  },
  {
   "cell_type": "markdown",
   "id": "de56e22e-9f64-4ef4-87c8-7ee3fb04eb00",
   "metadata": {},
   "source": [
    "Above it can be seen that the OptGene function findes no solutions with maximum 50,000 evaluations and maximum of 5 knock-out targets. This means that OptGene did not identify any genes that could be knocked out to increase hemoglobin production."
   ]
  },
  {
   "cell_type": "markdown",
   "id": "b8c5c857-5216-4afd-9649-c8eef6ef1273",
   "metadata": {},
   "source": [
    "# References:\n",
    "\n",
    "Patil, K. R., Rocha, I., Förster, J., & Nielsen, J. (2005). Evolutionary programming as a platform for in silico metabolic engineering. BMC Bioinformatics, 6, 1–12. https://doi.org/10.1186/1471-2105-6-308\n",
    "\n",
    "Cardoso, J. G. R., Jensen, K., Lieven, C., Hansen, A. S. L., Galkina, S., Beber, M., Özdemir, E., Herrgård, M. J., Redestig, H., & Sonnenschein, N. (2018). Cameo: A Python Library for Computer Aided Metabolic Engineering and Optimization of Cell Factories. ACS Synthetic Biology, 7(4), 1163–1166. https://doi.org/10.1021/acssynbio.7b00423"
   ]
  }
 ],
 "metadata": {
  "kernelspec": {
   "display_name": "Python 3 (ipykernel)",
   "language": "python",
   "name": "python3"
  },
  "language_info": {
   "codemirror_mode": {
    "name": "ipython",
    "version": 3
   },
   "file_extension": ".py",
   "mimetype": "text/x-python",
   "name": "python",
   "nbconvert_exporter": "python",
   "pygments_lexer": "ipython3",
   "version": "3.8.8"
  }
 },
 "nbformat": 4,
 "nbformat_minor": 5
}
