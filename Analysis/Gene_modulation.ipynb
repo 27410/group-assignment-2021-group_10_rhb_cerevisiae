{
 "cells": [
  {
   "cell_type": "markdown",
   "id": "b83c5756-4967-4625-9f56-42d4e5784602",
   "metadata": {},
   "source": [
    "# Predict expression modulation targets\n",
    "\n",
    "Algorithms like Optgene can predict gene knockout targets, but another possibility for optimizing hemoglobin production is up- or downregulation of genes. A function for this is the Flux Scanning based on Enforced Objective Flux (FSEOF) from the Computer Aided Metabolic Engineering & Optimization (CAMEO) package. FSEOF searches for genes for up- or down-regulation by first enforcing the flux of a desired reaction under the objective of maximizing biomass production (Choi et al 2010). The function then indentifies the metabolic fluxes, which increased or decreased when the desired reaction was forced to increase (Choi et al 2010). "
   ]
  },
  {
   "cell_type": "code",
   "execution_count": 8,
   "id": "a1fcfc0d-f65a-45da-89bc-0dca229b3bbf",
   "metadata": {},
   "outputs": [],
   "source": [
    "from cobra.io import read_sbml_model\n",
    "from cobra import Reaction, Metabolite\n",
    "from cameo import models\n",
    "from cameo.visualization.plotting.with_plotly import PlotlyPlotter\n",
    "import numpy as np\n",
    "from cameo.strain_design.deterministic.flux_variability_based import FSEOF"
   ]
  },
  {
   "cell_type": "markdown",
   "id": "11ee68b3-d71e-4ff8-b556-9cfd25280d61",
   "metadata": {},
   "source": [
    "Load model:"
   ]
  },
  {
   "cell_type": "code",
   "execution_count": 9,
   "id": "470e7f3e-bc1b-4a07-bbb9-18c29e221eae",
   "metadata": {},
   "outputs": [
    {
     "data": {
      "text/html": [
       "\n",
       "        <table>\n",
       "            <tr>\n",
       "                <td><strong>Reaction identifier</strong></td><td>DM_pheme_m</td>\n",
       "            </tr><tr>\n",
       "                <td><strong>Name</strong></td><td>Protoheme C34H30FeN4O4 demand</td>\n",
       "            </tr><tr>\n",
       "                <td><strong>Memory address</strong></td>\n",
       "                <td>0x01e1d0683c40</td>\n",
       "            </tr><tr>\n",
       "                <td><strong>Stoichiometry</strong></td>\n",
       "                <td>\n",
       "                    <p style='text-align:right'>pheme_m --></p>\n",
       "                    <p style='text-align:right'>Protoheme C34H30FeN4O4 --></p>\n",
       "                </td>\n",
       "            </tr><tr>\n",
       "                <td><strong>GPR</strong></td><td></td>\n",
       "            </tr><tr>\n",
       "                <td><strong>Lower bound</strong></td><td>0</td>\n",
       "            </tr><tr>\n",
       "                <td><strong>Upper bound</strong></td><td>1000.0</td>\n",
       "            </tr>\n",
       "        </table>\n",
       "        "
      ],
      "text/plain": [
       "<Reaction DM_pheme_m at 0x1e1d0683c40>"
      ]
     },
     "execution_count": 9,
     "metadata": {},
     "output_type": "execute_result"
    }
   ],
   "source": [
    "model = read_sbml_model('model_standard_yeast.xml')\n",
    "model.add_boundary(model.metabolites.pheme_m, type='demand')"
   ]
  },
  {
   "cell_type": "markdown",
   "id": "79068bf8-a2a5-432f-9b90-349896d1c781",
   "metadata": {},
   "source": [
    "## Flux Scanning based on Enforced Objective Flux"
   ]
  },
  {
   "cell_type": "markdown",
   "id": "2288f1f1-8193-4830-a9e1-8769e4a10341",
   "metadata": {},
   "source": [
    "Define and run the FSEOF analysis. As specified in fseof.run, the target for optimization is here the \"FCLTm\" reaction, which is the last reaction in the heme pathway. By default the flux of the target reaction is maximized to 90% of its theoretical maximum. Furthermore, as described above the primary objective is the model.objective by default (here, biomass)."
   ]
  },
  {
   "cell_type": "code",
   "execution_count": 10,
   "id": "c8641041-5eb7-46d3-88ab-b250893b6129",
   "metadata": {},
   "outputs": [],
   "source": [
    "fseof = FSEOF(model)"
   ]
  },
  {
   "cell_type": "code",
   "execution_count": 11,
   "id": "c944270f-1ba0-45cf-9910-96a898529bbc",
   "metadata": {},
   "outputs": [],
   "source": [
    "result = fseof.run(target=model.reactions.FCLTm)"
   ]
  },
  {
   "cell_type": "markdown",
   "id": "5d7df83c-667b-4be1-8d9a-d35194b081d2",
   "metadata": {},
   "source": [
    "The results are saved in a dataframe:"
   ]
  },
  {
   "cell_type": "code",
   "execution_count": 12,
   "id": "02fad55d-cc70-433e-aecd-515d16d7a565",
   "metadata": {},
   "outputs": [],
   "source": [
    "df = result.data_frame"
   ]
  },
  {
   "cell_type": "code",
   "execution_count": 13,
   "id": "7b9bae71-7bba-409a-abaa-b0604490d06c",
   "metadata": {},
   "outputs": [
    {
     "data": {
      "text/html": [
       "<div>\n",
       "<style scoped>\n",
       "    .dataframe tbody tr th:only-of-type {\n",
       "        vertical-align: middle;\n",
       "    }\n",
       "\n",
       "    .dataframe tbody tr th {\n",
       "        vertical-align: top;\n",
       "    }\n",
       "\n",
       "    .dataframe thead th {\n",
       "        text-align: right;\n",
       "    }\n",
       "</style>\n",
       "<table border=\"1\" class=\"dataframe\">\n",
       "  <thead>\n",
       "    <tr style=\"text-align: right;\">\n",
       "      <th></th>\n",
       "      <th>1</th>\n",
       "      <th>2</th>\n",
       "      <th>3</th>\n",
       "      <th>4</th>\n",
       "      <th>5</th>\n",
       "      <th>6</th>\n",
       "      <th>7</th>\n",
       "      <th>8</th>\n",
       "      <th>9</th>\n",
       "      <th>10</th>\n",
       "    </tr>\n",
       "  </thead>\n",
       "  <tbody>\n",
       "    <tr>\n",
       "      <th>ACALDtm</th>\n",
       "      <td>-0.893097</td>\n",
       "      <td>-0.726347</td>\n",
       "      <td>-0.595436</td>\n",
       "      <td>-0.464524</td>\n",
       "      <td>-0.333613</td>\n",
       "      <td>-0.202701</td>\n",
       "      <td>-0.347954</td>\n",
       "      <td>-1.467670</td>\n",
       "      <td>-2.559757</td>\n",
       "      <td>-3.690653</td>\n",
       "    </tr>\n",
       "    <tr>\n",
       "      <th>AGTi</th>\n",
       "      <td>0.410217</td>\n",
       "      <td>0.571932</td>\n",
       "      <td>0.721701</td>\n",
       "      <td>0.871470</td>\n",
       "      <td>1.021239</td>\n",
       "      <td>1.171008</td>\n",
       "      <td>1.326142</td>\n",
       "      <td>1.487956</td>\n",
       "      <td>1.649770</td>\n",
       "      <td>1.811584</td>\n",
       "    </tr>\n",
       "    <tr>\n",
       "      <th>ALASm</th>\n",
       "      <td>0.396136</td>\n",
       "      <td>0.792272</td>\n",
       "      <td>1.188408</td>\n",
       "      <td>1.584544</td>\n",
       "      <td>1.980680</td>\n",
       "      <td>2.376816</td>\n",
       "      <td>2.772953</td>\n",
       "      <td>3.169089</td>\n",
       "      <td>3.565225</td>\n",
       "      <td>3.961361</td>\n",
       "    </tr>\n",
       "    <tr>\n",
       "      <th>ALATA_L</th>\n",
       "      <td>-0.534190</td>\n",
       "      <td>-0.685505</td>\n",
       "      <td>-0.824875</td>\n",
       "      <td>-0.964245</td>\n",
       "      <td>-1.103615</td>\n",
       "      <td>-1.242985</td>\n",
       "      <td>-1.387205</td>\n",
       "      <td>-1.535362</td>\n",
       "      <td>-1.683519</td>\n",
       "      <td>-1.831676</td>\n",
       "    </tr>\n",
       "    <tr>\n",
       "      <th>ACONT</th>\n",
       "      <td>0.591867</td>\n",
       "      <td>0.793064</td>\n",
       "      <td>0.922585</td>\n",
       "      <td>1.052107</td>\n",
       "      <td>1.181629</td>\n",
       "      <td>1.311150</td>\n",
       "      <td>1.461736</td>\n",
       "      <td>1.593224</td>\n",
       "      <td>1.724712</td>\n",
       "      <td>1.856199</td>\n",
       "    </tr>\n",
       "    <tr>\n",
       "      <th>...</th>\n",
       "      <td>...</td>\n",
       "      <td>...</td>\n",
       "      <td>...</td>\n",
       "      <td>...</td>\n",
       "      <td>...</td>\n",
       "      <td>...</td>\n",
       "      <td>...</td>\n",
       "      <td>...</td>\n",
       "      <td>...</td>\n",
       "      <td>...</td>\n",
       "    </tr>\n",
       "    <tr>\n",
       "      <th>UGLT</th>\n",
       "      <td>-0.453063</td>\n",
       "      <td>-0.415059</td>\n",
       "      <td>-0.377055</td>\n",
       "      <td>-0.339051</td>\n",
       "      <td>-0.301048</td>\n",
       "      <td>-0.263044</td>\n",
       "      <td>-0.223156</td>\n",
       "      <td>-0.173246</td>\n",
       "      <td>-0.123336</td>\n",
       "      <td>-0.073426</td>\n",
       "    </tr>\n",
       "    <tr>\n",
       "      <th>UPP3S</th>\n",
       "      <td>0.049517</td>\n",
       "      <td>0.099034</td>\n",
       "      <td>0.148551</td>\n",
       "      <td>0.198068</td>\n",
       "      <td>0.247585</td>\n",
       "      <td>0.297102</td>\n",
       "      <td>0.346619</td>\n",
       "      <td>0.396136</td>\n",
       "      <td>0.445653</td>\n",
       "      <td>0.495170</td>\n",
       "    </tr>\n",
       "    <tr>\n",
       "      <th>UPPDC1</th>\n",
       "      <td>0.049517</td>\n",
       "      <td>0.099034</td>\n",
       "      <td>0.148551</td>\n",
       "      <td>0.198068</td>\n",
       "      <td>0.247585</td>\n",
       "      <td>0.297102</td>\n",
       "      <td>0.346619</td>\n",
       "      <td>0.396136</td>\n",
       "      <td>0.445653</td>\n",
       "      <td>0.495170</td>\n",
       "    </tr>\n",
       "    <tr>\n",
       "      <th>PYK</th>\n",
       "      <td>17.786676</td>\n",
       "      <td>17.871020</td>\n",
       "      <td>17.943417</td>\n",
       "      <td>18.015815</td>\n",
       "      <td>18.088213</td>\n",
       "      <td>18.160611</td>\n",
       "      <td>18.245585</td>\n",
       "      <td>18.375597</td>\n",
       "      <td>18.505610</td>\n",
       "      <td>18.635623</td>\n",
       "    </tr>\n",
       "    <tr>\n",
       "      <th>FCLTm</th>\n",
       "      <td>0.049517</td>\n",
       "      <td>0.099034</td>\n",
       "      <td>0.148551</td>\n",
       "      <td>0.198068</td>\n",
       "      <td>0.247585</td>\n",
       "      <td>0.297102</td>\n",
       "      <td>0.346619</td>\n",
       "      <td>0.396136</td>\n",
       "      <td>0.445653</td>\n",
       "      <td>0.495170</td>\n",
       "    </tr>\n",
       "  </tbody>\n",
       "</table>\n",
       "<p>86 rows × 10 columns</p>\n",
       "</div>"
      ],
      "text/plain": [
       "                1          2          3          4          5          6   \\\n",
       "ACALDtm  -0.893097  -0.726347  -0.595436  -0.464524  -0.333613  -0.202701   \n",
       "AGTi      0.410217   0.571932   0.721701   0.871470   1.021239   1.171008   \n",
       "ALASm     0.396136   0.792272   1.188408   1.584544   1.980680   2.376816   \n",
       "ALATA_L  -0.534190  -0.685505  -0.824875  -0.964245  -1.103615  -1.242985   \n",
       "ACONT     0.591867   0.793064   0.922585   1.052107   1.181629   1.311150   \n",
       "...            ...        ...        ...        ...        ...        ...   \n",
       "UGLT     -0.453063  -0.415059  -0.377055  -0.339051  -0.301048  -0.263044   \n",
       "UPP3S     0.049517   0.099034   0.148551   0.198068   0.247585   0.297102   \n",
       "UPPDC1    0.049517   0.099034   0.148551   0.198068   0.247585   0.297102   \n",
       "PYK      17.786676  17.871020  17.943417  18.015815  18.088213  18.160611   \n",
       "FCLTm     0.049517   0.099034   0.148551   0.198068   0.247585   0.297102   \n",
       "\n",
       "                7          8          9          10  \n",
       "ACALDtm  -0.347954  -1.467670  -2.559757  -3.690653  \n",
       "AGTi      1.326142   1.487956   1.649770   1.811584  \n",
       "ALASm     2.772953   3.169089   3.565225   3.961361  \n",
       "ALATA_L  -1.387205  -1.535362  -1.683519  -1.831676  \n",
       "ACONT     1.461736   1.593224   1.724712   1.856199  \n",
       "...            ...        ...        ...        ...  \n",
       "UGLT     -0.223156  -0.173246  -0.123336  -0.073426  \n",
       "UPP3S     0.346619   0.396136   0.445653   0.495170  \n",
       "UPPDC1    0.346619   0.396136   0.445653   0.495170  \n",
       "PYK      18.245585  18.375597  18.505610  18.635623  \n",
       "FCLTm     0.346619   0.396136   0.445653   0.495170  \n",
       "\n",
       "[86 rows x 10 columns]"
      ]
     },
     "execution_count": 13,
     "metadata": {},
     "output_type": "execute_result"
    }
   ],
   "source": [
    "df"
   ]
  },
  {
   "cell_type": "markdown",
   "id": "54fae372-ef64-478b-813c-66b776b51610",
   "metadata": {},
   "source": [
    "The results above show **85** reactions which increase or decrease, when the flux of the heme pathway is forced to increase, and are thus targets for up- or down-regulation. Below the reaction fluxes "
   ]
  },
  {
   "cell_type": "code",
   "execution_count": 14,
   "id": "fe8de748-a981-439e-842d-c830f70aa39d",
   "metadata": {},
   "outputs": [
    {
     "data": {
      "image/png": "[encoded data removed]",
      "text/plain": [
       "<Figure size 432x288 with 1 Axes>"
      ]
     },
     "metadata": {
      "needs_background": "light"
     },
     "output_type": "display_data"
    }
   ],
   "source": [
    "# plot from here: https://biosustain.github.io/cell-factory-design-course/10-Predict-gene-expression-modulation-targets/\n",
    "from matplotlib import pyplot as plt\n",
    "result.data_frame.T.plot()\n",
    "plt.legend(loc='center left', bbox_to_anchor=(1, 0.5))\n",
    "plt.show()"
   ]
  },
  {
   "cell_type": "markdown",
   "id": "1722c1f6-a858-410e-9ab9-e6828aa89a34",
   "metadata": {},
   "source": [
    "To get a better overview of the results, two columns are added to the dataframe: Change and Percent Change. The Change describes the change (positive or negative) from the first calculated flux to the last (at 90% of theoretical max for desired product). The Percent Change describes the change in percentage relative to the beginning value, as calculated by:\n",
    "\n",
    "$\\frac{flux_{end} - flux_{start}}{flux_{start}} * 100$"
   ]
  },
  {
   "cell_type": "code",
   "execution_count": 15,
   "id": "6a44b7a9-9518-44b1-b159-5445f737c69c",
   "metadata": {},
   "outputs": [],
   "source": [
    "change = []\n",
    "for i in range(len(df)):\n",
    "    change.append(df.iloc[i,9]-df.iloc[i,0])\n",
    "    \n",
    "df['Change']=change"
   ]
  },
  {
   "cell_type": "code",
   "execution_count": 16,
   "id": "72e11b95-9587-4162-b053-5e59f2944395",
   "metadata": {},
   "outputs": [],
   "source": [
    "percent_change = []\n",
    "for i in range(len(df)):\n",
    "    if df.iloc[i,0] != 0:\n",
    "        percent_change.append(((df.iloc[i,9]-df.iloc[i,0])/df.iloc[i,0])*100)\n",
    "    else:\n",
    "        percent_change.append(np.nan)\n",
    "\n",
    "df['Percent_change']=percent_change"
   ]
  },
  {
   "cell_type": "markdown",
   "id": "8267b004-ccf2-4483-aab9-76fba6fad1c4",
   "metadata": {},
   "source": [
    "The reactions can then be sorted based on Percent Change to see the reactions with the highest relative change and thereby most effective targets:"
   ]
  },
  {
   "cell_type": "code",
   "execution_count": 18,
   "id": "1ceab37b-2767-49a2-ab86-d146a3439fa1",
   "metadata": {},
   "outputs": [
    {
     "data": {
      "text/html": [
       "<div>\n",
       "<style scoped>\n",
       "    .dataframe tbody tr th:only-of-type {\n",
       "        vertical-align: middle;\n",
       "    }\n",
       "\n",
       "    .dataframe tbody tr th {\n",
       "        vertical-align: top;\n",
       "    }\n",
       "\n",
       "    .dataframe thead th {\n",
       "        text-align: right;\n",
       "    }\n",
       "</style>\n",
       "<table border=\"1\" class=\"dataframe\">\n",
       "  <thead>\n",
       "    <tr style=\"text-align: right;\">\n",
       "      <th></th>\n",
       "      <th>1</th>\n",
       "      <th>2</th>\n",
       "      <th>3</th>\n",
       "      <th>4</th>\n",
       "      <th>5</th>\n",
       "      <th>6</th>\n",
       "      <th>7</th>\n",
       "      <th>8</th>\n",
       "      <th>9</th>\n",
       "      <th>10</th>\n",
       "      <th>Change</th>\n",
       "      <th>Percent_change</th>\n",
       "    </tr>\n",
       "  </thead>\n",
       "  <tbody>\n",
       "    <tr>\n",
       "      <th>HSK</th>\n",
       "      <td>0.102005</td>\n",
       "      <td>0.326688</td>\n",
       "      <td>0.563318</td>\n",
       "      <td>0.799947</td>\n",
       "      <td>1.036577</td>\n",
       "      <td>1.273207</td>\n",
       "      <td>1.503989</td>\n",
       "      <td>1.725522</td>\n",
       "      <td>1.947056</td>\n",
       "      <td>2.168590</td>\n",
       "      <td>2.066585</td>\n",
       "      <td>2025.964414</td>\n",
       "    </tr>\n",
       "    <tr>\n",
       "      <th>THRS</th>\n",
       "      <td>0.102005</td>\n",
       "      <td>0.326688</td>\n",
       "      <td>0.563318</td>\n",
       "      <td>0.799947</td>\n",
       "      <td>1.036577</td>\n",
       "      <td>1.273207</td>\n",
       "      <td>1.503989</td>\n",
       "      <td>1.725522</td>\n",
       "      <td>1.947056</td>\n",
       "      <td>2.168590</td>\n",
       "      <td>2.066585</td>\n",
       "      <td>2025.964414</td>\n",
       "    </tr>\n",
       "    <tr>\n",
       "      <th>HSDxi</th>\n",
       "      <td>0.117488</td>\n",
       "      <td>0.340873</td>\n",
       "      <td>0.576203</td>\n",
       "      <td>0.811534</td>\n",
       "      <td>1.046865</td>\n",
       "      <td>1.282196</td>\n",
       "      <td>1.511615</td>\n",
       "      <td>1.731443</td>\n",
       "      <td>1.951271</td>\n",
       "      <td>2.171099</td>\n",
       "      <td>2.053611</td>\n",
       "      <td>1747.932555</td>\n",
       "    </tr>\n",
       "    <tr>\n",
       "      <th>ASPK</th>\n",
       "      <td>0.117488</td>\n",
       "      <td>0.340873</td>\n",
       "      <td>0.576203</td>\n",
       "      <td>0.811534</td>\n",
       "      <td>1.046865</td>\n",
       "      <td>1.282196</td>\n",
       "      <td>1.511615</td>\n",
       "      <td>1.731443</td>\n",
       "      <td>1.951271</td>\n",
       "      <td>2.171099</td>\n",
       "      <td>2.053611</td>\n",
       "      <td>1747.932555</td>\n",
       "    </tr>\n",
       "    <tr>\n",
       "      <th>ASAD</th>\n",
       "      <td>-0.117488</td>\n",
       "      <td>-0.340873</td>\n",
       "      <td>-0.576203</td>\n",
       "      <td>-0.811534</td>\n",
       "      <td>-1.046865</td>\n",
       "      <td>-1.282196</td>\n",
       "      <td>-1.511615</td>\n",
       "      <td>-1.731443</td>\n",
       "      <td>-1.951271</td>\n",
       "      <td>-2.171099</td>\n",
       "      <td>-2.053611</td>\n",
       "      <td>1747.932555</td>\n",
       "    </tr>\n",
       "    <tr>\n",
       "      <th>...</th>\n",
       "      <td>...</td>\n",
       "      <td>...</td>\n",
       "      <td>...</td>\n",
       "      <td>...</td>\n",
       "      <td>...</td>\n",
       "      <td>...</td>\n",
       "      <td>...</td>\n",
       "      <td>...</td>\n",
       "      <td>...</td>\n",
       "      <td>...</td>\n",
       "      <td>...</td>\n",
       "      <td>...</td>\n",
       "    </tr>\n",
       "    <tr>\n",
       "      <th>FRDcm</th>\n",
       "      <td>0.000000</td>\n",
       "      <td>0.000000</td>\n",
       "      <td>0.000000</td>\n",
       "      <td>0.000000</td>\n",
       "      <td>0.000000</td>\n",
       "      <td>0.000000</td>\n",
       "      <td>0.000000</td>\n",
       "      <td>0.000000</td>\n",
       "      <td>0.027628</td>\n",
       "      <td>0.016448</td>\n",
       "      <td>0.016448</td>\n",
       "      <td>NaN</td>\n",
       "    </tr>\n",
       "    <tr>\n",
       "      <th>MDH</th>\n",
       "      <td>0.000000</td>\n",
       "      <td>0.000000</td>\n",
       "      <td>0.000000</td>\n",
       "      <td>0.000000</td>\n",
       "      <td>0.000000</td>\n",
       "      <td>0.000000</td>\n",
       "      <td>-0.283839</td>\n",
       "      <td>-1.517390</td>\n",
       "      <td>-2.750942</td>\n",
       "      <td>-3.984493</td>\n",
       "      <td>-3.984493</td>\n",
       "      <td>NaN</td>\n",
       "    </tr>\n",
       "    <tr>\n",
       "      <th>G3PD1irm</th>\n",
       "      <td>0.000000</td>\n",
       "      <td>0.000000</td>\n",
       "      <td>0.000000</td>\n",
       "      <td>0.000000</td>\n",
       "      <td>0.000000</td>\n",
       "      <td>0.000000</td>\n",
       "      <td>0.000000</td>\n",
       "      <td>0.000000</td>\n",
       "      <td>0.027628</td>\n",
       "      <td>0.016448</td>\n",
       "      <td>0.016448</td>\n",
       "      <td>NaN</td>\n",
       "    </tr>\n",
       "    <tr>\n",
       "      <th>SUCCtm</th>\n",
       "      <td>0.000000</td>\n",
       "      <td>0.000000</td>\n",
       "      <td>0.000000</td>\n",
       "      <td>0.000000</td>\n",
       "      <td>0.000000</td>\n",
       "      <td>0.000000</td>\n",
       "      <td>0.198233</td>\n",
       "      <td>1.450930</td>\n",
       "      <td>1.677398</td>\n",
       "      <td>1.828032</td>\n",
       "      <td>1.828032</td>\n",
       "      <td>NaN</td>\n",
       "    </tr>\n",
       "    <tr>\n",
       "      <th>THRA</th>\n",
       "      <td>0.000000</td>\n",
       "      <td>0.233240</td>\n",
       "      <td>0.478426</td>\n",
       "      <td>0.723612</td>\n",
       "      <td>0.968798</td>\n",
       "      <td>1.213984</td>\n",
       "      <td>1.453746</td>\n",
       "      <td>1.686517</td>\n",
       "      <td>1.919288</td>\n",
       "      <td>2.152059</td>\n",
       "      <td>2.152059</td>\n",
       "      <td>NaN</td>\n",
       "    </tr>\n",
       "  </tbody>\n",
       "</table>\n",
       "<p>86 rows × 12 columns</p>\n",
       "</div>"
      ],
      "text/plain": [
       "                 1         2         3         4         5         6  \\\n",
       "HSK       0.102005  0.326688  0.563318  0.799947  1.036577  1.273207   \n",
       "THRS      0.102005  0.326688  0.563318  0.799947  1.036577  1.273207   \n",
       "HSDxi     0.117488  0.340873  0.576203  0.811534  1.046865  1.282196   \n",
       "ASPK      0.117488  0.340873  0.576203  0.811534  1.046865  1.282196   \n",
       "ASAD     -0.117488 -0.340873 -0.576203 -0.811534 -1.046865 -1.282196   \n",
       "...            ...       ...       ...       ...       ...       ...   \n",
       "FRDcm     0.000000  0.000000  0.000000  0.000000  0.000000  0.000000   \n",
       "MDH       0.000000  0.000000  0.000000  0.000000  0.000000  0.000000   \n",
       "G3PD1irm  0.000000  0.000000  0.000000  0.000000  0.000000  0.000000   \n",
       "SUCCtm    0.000000  0.000000  0.000000  0.000000  0.000000  0.000000   \n",
       "THRA      0.000000  0.233240  0.478426  0.723612  0.968798  1.213984   \n",
       "\n",
       "                 7         8         9        10    Change  Percent_change  \n",
       "HSK       1.503989  1.725522  1.947056  2.168590  2.066585     2025.964414  \n",
       "THRS      1.503989  1.725522  1.947056  2.168590  2.066585     2025.964414  \n",
       "HSDxi     1.511615  1.731443  1.951271  2.171099  2.053611     1747.932555  \n",
       "ASPK      1.511615  1.731443  1.951271  2.171099  2.053611     1747.932555  \n",
       "ASAD     -1.511615 -1.731443 -1.951271 -2.171099 -2.053611     1747.932555  \n",
       "...            ...       ...       ...       ...       ...             ...  \n",
       "FRDcm     0.000000  0.000000  0.027628  0.016448  0.016448             NaN  \n",
       "MDH      -0.283839 -1.517390 -2.750942 -3.984493 -3.984493             NaN  \n",
       "G3PD1irm  0.000000  0.000000  0.027628  0.016448  0.016448             NaN  \n",
       "SUCCtm    0.198233  1.450930  1.677398  1.828032  1.828032             NaN  \n",
       "THRA      1.453746  1.686517  1.919288  2.152059  2.152059             NaN  \n",
       "\n",
       "[86 rows x 12 columns]"
      ]
     },
     "execution_count": 18,
     "metadata": {},
     "output_type": "execute_result"
    }
   ],
   "source": [
    "df_sorted = df.reindex(df.Percent_change.abs().sort_values(ascending=False).index)\n",
    "df_sorted"
   ]
  },
  {
   "cell_type": "markdown",
   "id": "52601164-4df5-470d-b2e2-9c1a277a5f63",
   "metadata": {},
   "source": [
    "The reaction name for the top 10 reactions with the highest relative change is given below:"
   ]
  },
  {
   "cell_type": "code",
   "execution_count": 19,
   "id": "2d857fd8-18f9-4d3b-ba22-e6051fc81265",
   "metadata": {},
   "outputs": [
    {
     "name": "stdout",
     "output_type": "stream",
     "text": [
      "HSK Homoserine kinase\n",
      "THRS Threonine synthase\n",
      "HSDxi Homoserine dehydrogenase  NADH   irreversible\n",
      "ASPK Aspartate kinase\n",
      "ASAD Aspartate-semialdehyde dehydrogenase\n",
      "NDPK1 Nucleoside-diphosphate kinase (ATP:GDP)\n",
      "5AOPtm 5 Aminolevulinate mitochondrial transport\n",
      "SUCOASm Succinate  CoA ligase  ADP forming \n",
      "ALASm 5 aminolevulinate synthase\n",
      "GLYt2m Glycine mitochondrial transport via proton symport\n"
     ]
    }
   ],
   "source": [
    "for i in range(10):\n",
    "    print(model.reactions.get_by_id(df_sorted.index.values[i]).id, model.reactions.get_by_id(df_sorted.index.values[i]).name)"
   ]
  },
  {
   "cell_type": "markdown",
   "id": "2805ccdb-021d-4350-b328-801e0ef5348e",
   "metadata": {},
   "source": [
    "* The top 5 reactions are convert L-aspartate to Threonine. Threonine can then be converted to glycine, which is the precursor in the heme pathway. So it makes sense that these are up-regulated to produce more heme. \n",
    "* ALASm is the first reaction in the heme synthesis pathway: it combines glycine with succinyl-CoA to make aminolevulinate. \n",
    "* 5AOPtm is the transporter, which transports aminolevulinate between the mitochondrion (where it is made) and the cytoplasm (where the pathway continues).\n",
    "* SUCOASm makes more succinyl-CoA, which is needed in the ALASm reaction\n",
    "* GLYt2m transports glycine between the mitochondrion and cytoplasm, which makes sense since it is needed for synthesis inside the mitocondrion by ALASm\n",
    "\n",
    "Don't know what NDPK1 is used for (other than just making more GTP)"
   ]
  },
  {
   "cell_type": "code",
   "execution_count": 27,
   "id": "5d0b174f-f4fc-4430-814c-305420ec7b55",
   "metadata": {},
   "outputs": [],
   "source": [
    "# Make dictionary of the reaction ID and flux of the top 10 reactions that are upregulated:\n",
    "Upreg_fluxes = dict(zip(df_sorted.index.values[0:10], df_sorted.iloc[0:10,10]))"
   ]
  },
  {
   "cell_type": "code",
   "execution_count": null,
   "id": "f2f5e0f0-6a31-4812-bb88-08e53c788205",
   "metadata": {},
   "outputs": [],
   "source": [
    "import escher"
   ]
  },
  {
   "cell_type": "markdown",
   "id": "d2601b4d-1342-4fa9-9cd0-c1985213373f",
   "metadata": {},
   "source": [
    "An Escher submap was created of the heme biosynthesis (using the guide in here: https://escher.readthedocs.io/en/latest/escher-python.html) - it includes the synthesis of glycine, which an early precursor of heme and goes all the way to protoheme. It was done by loading our SBML model into the Escher Builder like this: escher.Builder(model = model). Then all relevant reactions were manually added to the submap by clicking 'Edit' -> 'Add reaction mode'. It will suggest the following reactions based on the product.\n",
    "\n",
    "After all the reactions were added, I downloaded the map ('Map' -> 'Save map JSON') as the file IMM904.Hemebiosynthesis.json."
   ]
  },
  {
   "cell_type": "markdown",
   "id": "b0b68d76-5cfa-4614-b4ef-95cf884d186d",
   "metadata": {},
   "source": [
    "Using the map created above, we can load our model and the map. Then we can display the reactions that are should be modulated based on the FSEOF analysis. Here, the flux data is loaded in with the dictionary. Note, it did not work at first, but you can adjust what values get colored in the 'View'->'Settings' and then scroll down."
   ]
  },
  {
   "cell_type": "code",
   "execution_count": 23,
   "id": "6a363d58-82f0-4f03-af41-6b704ce91505",
   "metadata": {
    "tags": []
   },
   "outputs": [
    {
     "data": {
      "application/vnd.jupyter.widget-view+json": {
       "model_id": "a4e29503d6274ae7b842433e378b6646",
       "version_major": 2,
       "version_minor": 0
      },
      "text/plain": [
       "Builder(reaction_data={'HSK': 2.066585, 'THRS': 2.066585, 'HSDxi': 2.053611, 'ASPK': 2.053611, 'ASAD': -2.0536…"
      ]
     },
     "metadata": {},
     "output_type": "display_data"
    }
   ],
   "source": [
    "escher.Builder(model = model,\n",
    "    map_json='iMM904.Hemebiosynthesis.json',\n",
    "               reaction_data=Upreg_fluxes)"
   ]
  },
  {
   "cell_type": "markdown",
   "id": "78f00bb2-6cc3-44ba-b653-c1f0a588b82a",
   "metadata": {},
   "source": [
    "The top 10 reactions is then plotted:"
   ]
  },
  {
   "cell_type": "code",
   "execution_count": 24,
   "id": "8e33e09e-ec1e-439a-8d75-0cb1c8f008ce",
   "metadata": {},
   "outputs": [
    {
     "data": {
      "image/png": "[encoded data removed]",
      "text/plain": [
       "<Figure size 432x288 with 1 Axes>"
      ]
     },
     "metadata": {
      "needs_background": "light"
     },
     "output_type": "display_data"
    }
   ],
   "source": [
    "df_sorted.iloc[0:10,:10].T.plot()\n",
    "plt.legend(loc='center left', bbox_to_anchor=(1, 0.5))\n",
    "plt.show()"
   ]
  },
  {
   "cell_type": "code",
   "execution_count": 25,
   "id": "18361a21-1458-4314-bf55-8035ca356dd0",
   "metadata": {},
   "outputs": [],
   "source": [
    "with model:\n",
    "    model.reactions.get_by_id(\"HSK\").lower_bound = 2.168590\n",
    "    model.reactions.get_by_id(\"HSK\").lower_bound = 2.168590\n",
    "\n",
    "    #niko says change upper and lower bound to the things we got in the matrix -> simulated up-regulated"
   ]
  },
  {
   "cell_type": "code",
   "execution_count": 26,
   "id": "58a3d2a9-908a-473d-8086-6456579f757f",
   "metadata": {},
   "outputs": [
    {
     "data": {
      "text/html": [
       "\n",
       "        <table>\n",
       "            <tr>\n",
       "                <td><strong>Metabolite identifier</strong></td><td>nadh_c</td>\n",
       "            </tr><tr>\n",
       "                <td><strong>Name</strong></td><td>Nicotinamide adenine dinucleotide - reduced</td>\n",
       "            </tr><tr>\n",
       "                <td><strong>Memory address</strong></td>\n",
       "                <td>0x01e1d121fcd0</td>\n",
       "            </tr><tr>\n",
       "                <td><strong>Formula</strong></td><td>C21H27N7O14P2</td>\n",
       "            </tr><tr>\n",
       "                <td><strong>Compartment</strong></td><td>c</td>\n",
       "            </tr><tr>\n",
       "                <td><strong>In 41 reaction(s)</strong></td><td>\n",
       "                    NADH2_u6cm, IMPD, 2HBO, IPMD, ALDD22x, NABTNO, SBTD_D2, ALCD24xi, XYLTD_D, HPROa, SBTD_L, MTHFD2i, ALCD26xi, LNS14DMx, HSDxi, G3PD1ir, ALCD2x_copy1, PGCD, LCADi, AASAD2, G5SD2, C3STDH2, HISTD,...</td>\n",
       "            </tr>\n",
       "        </table>"
      ],
      "text/plain": [
       "<Metabolite nadh_c at 0x1e1d121fcd0>"
      ]
     },
     "execution_count": 26,
     "metadata": {},
     "output_type": "execute_result"
    }
   ],
   "source": [
    "model.metabolites.get_by_id('nadh_c')"
   ]
  },
  {
   "cell_type": "code",
   "execution_count": null,
   "id": "5eb71ef0-08e7-4128-93d0-262ff4973d95",
   "metadata": {},
   "outputs": [],
   "source": []
  },
  {
   "cell_type": "markdown",
   "id": "3c9c1ead-ead1-4674-8258-82e6bb7bec27",
   "metadata": {},
   "source": [
    "### Sources:\n",
    "\n",
    "Choi, H. S., Lee, S. Y., Kim, T. Y., & Woo, H. M. (2010). In silico identification of gene amplification targets for improvement of lycopene production. Applied and Environmental Microbiology, 76(10), 3097–3105. https://doi.org/10.1128/AEM.00115-10\n",
    "\n",
    "\n",
    "Other sources, not cited:\n",
    "\n",
    "https://cameo.bio/06-predict-gene-modulation-targets.html\n",
    "\n",
    "https://bmcsystbiol.biomedcentral.com/articles/10.1186/1752-0509-6-106/figures/2\n",
    "\n",
    "Park, J. M., Park, H. M., Kim, W. J., Kim, H. U., Kim, T. Y., & Lee, S. Y. (2012). Flux variability scanning based on enforced objective flux for identifying gene amplification targets. BMC Systems Biology, 6. https://doi.org/10.1186/1752-0509-6-106"
   ]
  },
  {
   "cell_type": "code",
   "execution_count": null,
   "id": "ed190e91-c54e-418f-b9aa-00e1301a0a86",
   "metadata": {},
   "outputs": [],
   "source": []
  },
  {
   "cell_type": "code",
   "execution_count": null,
   "id": "95c7a897-b671-468b-a2db-b99a67a37915",
   "metadata": {},
   "outputs": [],
   "source": []
  },
  {
   "cell_type": "code",
   "execution_count": null,
   "id": "84e48bf8-724d-41bd-99e4-04ae8316dc7d",
   "metadata": {},
   "outputs": [],
   "source": []
  },
  {
   "cell_type": "markdown",
   "id": "7112954a-f735-4733-aab0-768746fc94cc",
   "metadata": {},
   "source": [
    "## Differential flux variability analysis\n",
    "\n",
    "Compares flux ranges of a reference model to a set of models that have been parametrized to lie on a grid of evenly spaced points in the *n*-dimensional production envelope (*n* being the number of reaction bounds to be varied)."
   ]
  },
  {
   "cell_type": "code",
   "execution_count": null,
   "id": "f77ad8d1-5d96-4151-8bee-e357983f5d0a",
   "metadata": {},
   "outputs": [],
   "source": [
    "from cameo.flux_analysis.analysis import phenotypic_phase_plane\n",
    "from cameo.strain_design.deterministic import DifferentialFVA\n",
    "plotter = PlotlyPlotter()"
   ]
  },
  {
   "cell_type": "code",
   "execution_count": null,
   "id": "283461c1-0ce4-482e-ba10-2f7fbfe3a461",
   "metadata": {},
   "outputs": [],
   "source": [
    "production_envelope = phenotypic_phase_plane(model, \n",
    "                                             variables=[model.reactions.BIOMASS_SC5_notrace],\n",
    "                                             objective=model.metabolites.pheme_m)\n",
    "production_envelope.plot(plotter, height=400)"
   ]
  },
  {
   "cell_type": "code",
   "execution_count": null,
   "id": "a8a9894d-1e14-45b3-9e0f-60c60f55e9d0",
   "metadata": {},
   "outputs": [],
   "source": [
    "model.reactions.EX_o2_e.lower_bound = 0\n",
    "reference_model = model.copy()\n",
    "biomass_rxn = reference_model.reactions.BIOMASS_SC5_notrace\n",
    "biomass_rxn.lower_bound = 0.\n",
    "target = reference_model.metabolites.pheme_m"
   ]
  },
  {
   "cell_type": "code",
   "execution_count": null,
   "id": "1cffd938-7489-41db-8c9a-866c27f7e890",
   "metadata": {},
   "outputs": [],
   "source": [
    "diffFVA = DifferentialFVA(design_space_model=model,\n",
    "                          reference_model=reference_model,\n",
    "                          objective=target,\n",
    "                          variables=[biomass_rxn],\n",
    "                          normalize_ranges_by=biomass_rxn,\n",
    "                          points=10)"
   ]
  },
  {
   "cell_type": "code",
   "execution_count": null,
   "id": "7fe723b4-1b8a-4079-801e-dc141c601c10",
   "metadata": {},
   "outputs": [],
   "source": [
    "result = diffFVA.run(surface_only=True)"
   ]
  },
  {
   "cell_type": "code",
   "execution_count": null,
   "id": "ea10efeb-3585-4062-9a5f-97fd0aec5ca1",
   "metadata": {},
   "outputs": [],
   "source": [
    "result.solutions"
   ]
  },
  {
   "cell_type": "code",
   "execution_count": null,
   "id": "5ab8d65c-d906-48f0-bbc3-e435de404602",
   "metadata": {},
   "outputs": [],
   "source": [
    "result.plot(plotter, 5, variables=['FBP', 'G6PDH2r', 'PGL', 'PGK'])"
   ]
  },
  {
   "cell_type": "code",
   "execution_count": null,
   "id": "4b5620e5-e240-4689-8461-eaae02a29fdb",
   "metadata": {},
   "outputs": [],
   "source": []
  }
 ],
 "metadata": {
  "kernelspec": {
   "display_name": "Python 3 (ipykernel)",
   "language": "python",
   "name": "python3"
  },
  "language_info": {
   "codemirror_mode": {
    "name": "ipython",
    "version": 3
   },
   "file_extension": ".py",
   "mimetype": "text/x-python",
   "name": "python",
   "nbconvert_exporter": "python",
   "pygments_lexer": "ipython3",
   "version": "3.8.8"
  }
 },
 "nbformat": 4,
 "nbformat_minor": 5
}
