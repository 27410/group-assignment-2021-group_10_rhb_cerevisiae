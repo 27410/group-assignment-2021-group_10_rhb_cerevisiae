{
 "cells": [
  {
   "cell_type": "markdown",
   "id": "a9f89415-cb29-43d8-8734-877ec8f10201",
   "metadata": {},
   "source": [
    "### Changing the objective functionprint(model.objective)"
   ]
  },
  {
   "cell_type": "code",
   "execution_count": 20,
   "id": "90c32a82-d630-4bfa-99ef-c058b1195520",
   "metadata": {},
   "outputs": [],
   "source": [
    "import pandas as pd\n",
    "import matplotlib.pyplot as plt\n",
    "plt.style.use('seaborn')\n",
    "from cobra.io import read_sbml_model\n",
    "from cobra import Reaction, Metabolite\n",
    "from cobra.util import create_stoichiometric_matrix\n",
    "import numpy as np\n",
    "import escher"
   ]
  },
  {
   "cell_type": "code",
   "execution_count": 21,
   "id": "0ba49552-ffd7-4479-bd1a-42a6ce5341e6",
   "metadata": {},
   "outputs": [],
   "source": [
    "model = read_sbml_model('iMM904.xml') # insert model HERE"
   ]
  },
  {
   "cell_type": "markdown",
   "id": "c9c3e995-cbd9-4374-bdbc-b9e8908e2642",
   "metadata": {},
   "source": [
    "# Basic initiation"
   ]
  },
  {
   "cell_type": "markdown",
   "id": "ca16001e-77dc-497b-b527-126319a35096",
   "metadata": {},
   "source": [
    "You can change the objective function like this (e.g. if you'd like to determine the maximum possible production rate of acetate)."
   ]
  },
  {
   "cell_type": "code",
   "execution_count": 22,
   "id": "b69b2370-e8f4-42aa-9418-ba3454043ba3",
   "metadata": {},
   "outputs": [
    {
     "name": "stdout",
     "output_type": "stream",
     "text": [
      "Maximize\n",
      "1.0*BIOMASS_SC5_notrace - 1.0*BIOMASS_SC5_notrace_reverse_93090\n"
     ]
    }
   ],
   "source": [
    "print(model.objective)"
   ]
  },
  {
   "cell_type": "markdown",
   "id": "4106a1ec-fbe3-4a1d-bbdf-1ecd2eabb91b",
   "metadata": {},
   "source": [
    "We can get the $\\mu_{max}$ before making any alterations to the model."
   ]
  },
  {
   "cell_type": "code",
   "execution_count": 15,
   "id": "7986869e-62b8-489e-806b-f6eb9f8d70c4",
   "metadata": {},
   "outputs": [
    {
     "data": {
      "text/plain": [
       "0.28786570370401743"
      ]
     },
     "execution_count": 15,
     "metadata": {},
     "output_type": "execute_result"
    }
   ],
   "source": [
    "model.optimize().objective_value"
   ]
  },
  {
   "cell_type": "markdown",
   "id": "9171c0cc-8fcc-4d09-b802-2d6d58b7ae32",
   "metadata": {},
   "source": [
    "# The composition of the medium"
   ]
  },
  {
   "cell_type": "markdown",
   "id": "cf745cf4-4ec6-46e9-a83f-d73bf619fcc4",
   "metadata": {},
   "source": [
    "Let's look at the default media composition"
   ]
  },
  {
   "cell_type": "code",
   "execution_count": 8,
   "id": "7a8ce823-8bad-4783-a9ad-1a1ea92ff608",
   "metadata": {},
   "outputs": [
    {
     "data": {
      "text/plain": [
       "{'EX_fe2_e': 999999.0,\n",
       " 'EX_glc__D_e': 10.0,\n",
       " 'EX_h2o_e': 999999.0,\n",
       " 'EX_h_e': 999999.0,\n",
       " 'EX_k_e': 999999.0,\n",
       " 'EX_na1_e': 999999.0,\n",
       " 'EX_so4_e': 999999.0,\n",
       " 'EX_nh4_e': 999999.0,\n",
       " 'EX_o2_e': 2.0,\n",
       " 'EX_pi_e': 999999.0}"
      ]
     },
     "execution_count": 8,
     "metadata": {},
     "output_type": "execute_result"
    }
   ],
   "source": [
    "model.medium"
   ]
  },
  {
   "cell_type": "markdown",
   "id": "89b4b2ad-561c-46f0-82ed-9be875d4efea",
   "metadata": {},
   "source": [
    "We'll need to change the composition to simulate Yeast Nitrogen Base without amino acids\n",
    "\n",
    "\n",
    "Most of the experimental data we are going to compare this GSMM with is based on cultivations of CEN.PK 113-7D in YNB media. Therefore, we will have to change the media.\n",
    "https://www.carlroth.com/com/en/nutrient-media--molecular-biology/yeast-nitrogen-base-%28without-amino-acids%29/p/hp26.1"
   ]
  },
  {
   "cell_type": "code",
   "execution_count": null,
   "id": "446b645f-1bfc-47af-88ab-502ec9543ae8",
   "metadata": {},
   "outputs": [],
   "source": [
    "medium = model.medium\n",
    "# Change the medium to YNB w/o amino acids\n",
    "\n",
    "with model:\n",
    "    medium['EX_glc__D_e'] = 0\n",
    "    medium['EX_ac_e'] = 10\n",
    "    model.medium = medium\n",
    "    model.objective = model.reactions.EX_succ_e\n",
    "    succ_production = model.optimize().objective_value\n",
    "    print(\"Max. succinate production [mmol gDW^-1 h^-1]:\", succ_production)\n",
    "    print(\"Theoretical max. yield [mmol-succ / mmol-ac]:\", succ_production / (-1*model.reactions.EX_ac_e.flux))"
   ]
  },
  {
   "cell_type": "code",
   "execution_count": null,
   "id": "f364f335-70c4-4688-98f1-64e3fd60e80b",
   "metadata": {},
   "outputs": [],
   "source": []
  },
  {
   "cell_type": "code",
   "execution_count": null,
   "id": "ec6eb2bc-ff12-4f29-957e-a79b7bc09de9",
   "metadata": {},
   "outputs": [],
   "source": []
  },
  {
   "cell_type": "code",
   "execution_count": null,
   "id": "736fb64e-5658-4937-924a-6d3a9650c845",
   "metadata": {},
   "outputs": [],
   "source": []
  }
 ],
 "metadata": {
  "kernelspec": {
   "display_name": "Python 3",
   "language": "python",
   "name": "python3"
  },
  "language_info": {
   "codemirror_mode": {
    "name": "ipython",
    "version": 3
   },
   "file_extension": ".py",
   "mimetype": "text/x-python",
   "name": "python",
   "nbconvert_exporter": "python",
   "pygments_lexer": "ipython3",
   "version": "3.6.13"
  }
 },
 "nbformat": 4,
 "nbformat_minor": 5
}
