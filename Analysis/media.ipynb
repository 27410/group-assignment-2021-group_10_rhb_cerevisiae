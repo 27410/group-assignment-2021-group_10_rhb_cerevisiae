{
 "cells": [
  {
   "cell_type": "markdown",
   "id": "a9f89415-cb29-43d8-8734-877ec8f10201",
   "metadata": {},
   "source": [
    "### Changing the objective functionprint(model.objective)"
   ]
  },
  {
   "cell_type": "code",
   "execution_count": 66,
   "id": "90c32a82-d630-4bfa-99ef-c058b1195520",
   "metadata": {},
   "outputs": [],
   "source": [
    "import pandas as pd\n",
    "import matplotlib.pyplot as plt\n",
    "plt.style.use('seaborn')\n",
    "from cobra.io import read_sbml_model\n",
    "from cobra import Reaction, Metabolite\n",
    "from cobra.util import create_stoichiometric_matrix\n",
    "from cobra.medium import minimal_medium\n",
    "import numpy as np\n",
    "import escher"
   ]
  },
  {
   "cell_type": "code",
   "execution_count": 67,
   "id": "0ba49552-ffd7-4479-bd1a-42a6ce5341e6",
   "metadata": {},
   "outputs": [],
   "source": [
    "model = read_sbml_model('iMM904.xml') # insert model HERE"
   ]
  },
  {
   "cell_type": "markdown",
   "id": "c9c3e995-cbd9-4374-bdbc-b9e8908e2642",
   "metadata": {},
   "source": [
    "# Basic initiation"
   ]
  },
  {
   "cell_type": "markdown",
   "id": "ca16001e-77dc-497b-b527-126319a35096",
   "metadata": {},
   "source": [
    "You can change the objective function like this (e.g. if you'd like to determine the maximum possible production rate of acetate)."
   ]
  },
  {
   "cell_type": "code",
   "execution_count": 4,
   "id": "b69b2370-e8f4-42aa-9418-ba3454043ba3",
   "metadata": {},
   "outputs": [
    {
     "name": "stdout",
     "output_type": "stream",
     "text": [
      "Maximize\n",
      "1.0*BIOMASS_SC5_notrace - 1.0*BIOMASS_SC5_notrace_reverse_93090\n"
     ]
    }
   ],
   "source": [
    "print(model.objective)"
   ]
  },
  {
   "cell_type": "markdown",
   "id": "4106a1ec-fbe3-4a1d-bbdf-1ecd2eabb91b",
   "metadata": {},
   "source": [
    "We can get the $\\mu_{max}$ before making any alterations to the model."
   ]
  },
  {
   "cell_type": "code",
   "execution_count": 5,
   "id": "7986869e-62b8-489e-806b-f6eb9f8d70c4",
   "metadata": {},
   "outputs": [
    {
     "data": {
      "text/plain": [
       "0.28786570370401743"
      ]
     },
     "execution_count": 5,
     "metadata": {},
     "output_type": "execute_result"
    }
   ],
   "source": [
    "model.optimize().objective_value"
   ]
  },
  {
   "cell_type": "markdown",
   "id": "9171c0cc-8fcc-4d09-b802-2d6d58b7ae32",
   "metadata": {},
   "source": [
    "# The composition of the medium"
   ]
  },
  {
   "cell_type": "markdown",
   "id": "cf745cf4-4ec6-46e9-a83f-d73bf619fcc4",
   "metadata": {},
   "source": [
    "Let's look at the default media composition"
   ]
  },
  {
   "cell_type": "code",
   "execution_count": 6,
   "id": "7a8ce823-8bad-4783-a9ad-1a1ea92ff608",
   "metadata": {},
   "outputs": [
    {
     "data": {
      "text/plain": [
       "{'EX_fe2_e': 999999.0,\n",
       " 'EX_glc__D_e': 10.0,\n",
       " 'EX_h2o_e': 999999.0,\n",
       " 'EX_h_e': 999999.0,\n",
       " 'EX_k_e': 999999.0,\n",
       " 'EX_na1_e': 999999.0,\n",
       " 'EX_so4_e': 999999.0,\n",
       " 'EX_nh4_e': 999999.0,\n",
       " 'EX_o2_e': 2.0,\n",
       " 'EX_pi_e': 999999.0}"
      ]
     },
     "execution_count": 6,
     "metadata": {},
     "output_type": "execute_result"
    }
   ],
   "source": [
    "model.medium"
   ]
  },
  {
   "cell_type": "markdown",
   "id": "89b4b2ad-561c-46f0-82ed-9be875d4efea",
   "metadata": {},
   "source": [
    "text text text text text"
   ]
  },
  {
   "cell_type": "code",
   "execution_count": 9,
   "id": "446b645f-1bfc-47af-88ab-502ec9543ae8",
   "metadata": {},
   "outputs": [
    {
     "name": "stdout",
     "output_type": "stream",
     "text": [
      "Standard yeast maximum theoretical biomass productivity: 0.28786570370403197 /h\n",
      "Standard yeast maximum theoretical productivity of heme  0.550189393939394 [mmol gDW^-1 h^-1]\n"
     ]
    }
   ],
   "source": [
    "medium = model.medium\n",
    "model.add_boundary(model.metabolites.pheme_m, type='demand') # adds the exchange reaction for heme\n",
    "with model:\n",
    "    solution = model.optimize()\n",
    "    print(\"Standard yeast maximum theoretical biomass productivity:\", solution.fluxes['BIOMASS_SC5_notrace'], '/h')\n",
    "    model.medium = medium\n",
    "    model.objective = model.reactions.DM_pheme_m\n",
    "    heme_production = model.optimize().objective_value\n",
    "    print(\"Standard yeast maximum theoretical productivity of heme \", heme_production, '[mmol gDW^-1 h^-1]')"
   ]
  },
  {
   "cell_type": "markdown",
   "id": "39188607",
   "metadata": {},
   "source": [
    "We'll need to change the composition to simulate Yeast Nitrogen Base without amino acids\n",
    "\n",
    "\n",
    "Most of the experimental data we are going to compare this GSMM with is based on cultivations of CEN.PK 113-7D in YNB media. Therefore, we will have to change the media.\n",
    "https://www.carlroth.com/com/en/nutrient-media--molecular-biology/yeast-nitrogen-base-%28without-amino-acids%29/p/hp26.1\n"
   ]
  },
  {
   "cell_type": "code",
   "execution_count": 7,
   "id": "2889db0f-e506-4914-9a03-f32121e00d33",
   "metadata": {},
   "outputs": [
    {
     "data": {
      "text/plain": [
       "{'EX_fe2_e': 999999.0,\n",
       " 'EX_glc__D_e': 10.0,\n",
       " 'EX_h2o_e': 999999.0,\n",
       " 'EX_h_e': 999999.0,\n",
       " 'EX_k_e': 999999.0,\n",
       " 'EX_na1_e': 999999.0,\n",
       " 'EX_so4_e': 999999.0,\n",
       " 'EX_nh4_e': 999999.0,\n",
       " 'EX_o2_e': 2.0,\n",
       " 'EX_pi_e': 999999.0}"
      ]
     },
     "execution_count": 7,
     "metadata": {},
     "output_type": "execute_result"
    }
   ],
   "source": [
    "model.medium"
   ]
  },
  {
   "cell_type": "code",
   "execution_count": 58,
   "id": "7c44af3d",
   "metadata": {},
   "outputs": [
    {
     "name": "stdout",
     "output_type": "stream",
     "text": [
      "{'EX_fe2_e': 0, 'EX_glc__D_e': 0, 'EX_h2o_e': 0, 'EX_h_e': 0.01469658892171127, 'EX_k_e': 0.007348294460855635, 'EX_na1_e': 0, 'EX_so4_e': 0.03783865597093992, 'EX_nh4_e': 0.07567731194187984, 'EX_o2_e': 0.02939317784342254, 'EX_pi_e': 0.007348294460855635}\n"
     ]
    }
   ],
   "source": [
    "def ynb(model):\n",
    "    YNBmedium = model.medium\n",
    "    ls=[]\n",
    "    for i in range (0,len(list(YNBmedium))):\n",
    "        YNBmedium[list(medium)[i]] = 0\n",
    "        \n",
    "    # Ammonium sulphate 5,0 g/l (NH₄)₂SO₄\n",
    "    YNBmedium['EX_nh4_e'] += (5/132.14)*2\n",
    "    YNBmedium['EX_so4_e'] += (5/132.14)\n",
    "    \n",
    "    # Potassium phosphate 1,0 g/l KH2PO4\n",
    "    YNBmedium['EX_k_e'] += (1/136.086)\n",
    "    YNBmedium['EX_h_e'] += (1/136.086)*2\n",
    "    YNBmedium['EX_pi_e'] += (1/136.086)\n",
    "    YNBmedium['EX_o2_e'] += (1/136.086)*4\n",
    "    \n",
    "    return YNBmedium\n",
    "\n",
    "print(ynb(model))"
   ]
  },
  {
   "cell_type": "code",
   "execution_count": 71,
   "id": "b0acbc65-11e1-48c8-928e-e0f423024dfe",
   "metadata": {},
   "outputs": [
    {
     "name": "stdout",
     "output_type": "stream",
     "text": [
      "0.287865703704017\n"
     ]
    },
    {
     "data": {
      "text/plain": [
       "EX_glc__D_e    10.000000\n",
       "EX_so4_e        0.022252\n",
       "EX_nh4_e        1.611029\n",
       "EX_o2_e         2.000000\n",
       "EX_pi_e         0.056911\n",
       "dtype: float64"
      ]
     },
     "execution_count": 71,
     "metadata": {},
     "output_type": "execute_result"
    }
   ],
   "source": [
    "max_growth = model.slim_optimize()\n",
    "print(max_growth)\n",
    "minimal_medium(model, max_growth)"
   ]
  },
  {
   "cell_type": "code",
   "execution_count": null,
   "id": "2d559153-f216-48b0-8cc2-ae8f65e3bcf2",
   "metadata": {},
   "outputs": [],
   "source": [
    "YNBmedium = model.medium # https://openwetware.org/wiki/Composition_of_Yeast_Nitrogen_Base_(YNB)\n",
    "YNBmedium[''] = 20 # Ammonium sulphate 5,0 g/l (NH₄)₂SO₄\n",
    "YNBmedium[''] = 10 # Potassium phosphate 1,0 g/l KH2PO4\n",
    "YNBmedium[''] = 10 # Magnesium sulphate 0,5 g/l MgSO₄\n",
    "YNBmedium[''] = 10 # Calcium chloride 0,1 g/l CaCl2\n",
    "YNBmedium[''] = 10 # Sodium chloride (NaCl) 0,1 g/l NaCl\n",
    "\n",
    "YNBmedium[''] = 10 # Inositol 2,0 mg/l\n",
    "YNBmedium[''] = 10 # Boric acid 0,5 mg/l\n",
    "YNBmedium[''] = 10 # Niacin 0,4 mg/l\n",
    "YNBmedium[''] = 10 # Thiamine hydrochloride 0,4 mg/l\n",
    "YNBmedium[''] = 10 # Pyridoxin hydrochloride 0,4 mg/l\n",
    "YNBmedium[''] = 10 # Calcium pantothenate 0,4 mg/l\n",
    "YNBmedium[''] = 10 # Manganese sulphate 0,4 mg/l\n",
    "YNBmedium[''] = 10 # Zinc sulphate 0,4 mg/l\n",
    "YNBmedium[''] = 10 # p-Aminobenzoic acid 0,2 mg/l\n",
    "YNBmedium[''] = 10 # Iron chloride 0,2 mg/l\n",
    "YNBmedium[''] = 10 # Riboflavine 0,2 mg/l\n",
    "YNBmedium[''] = 10 # Sodium molybdate 0,2 mg/l\n",
    "YNBmedium[''] = 10 # Potassium iodide 0,1 mg/l\n",
    "YNBmedium[''] = 10 # Biotin 0,002 mg/l\n",
    "YNBmedium[''] = 10 # Folic acid 0,002 mg/l"
   ]
  },
  {
   "cell_type": "code",
   "execution_count": null,
   "id": "b99132df-111f-470b-8bd1-7bbd9a17049b",
   "metadata": {},
   "outputs": [],
   "source": []
  },
  {
   "cell_type": "code",
   "execution_count": 44,
   "id": "f364f335-70c4-4688-98f1-64e3fd60e80b",
   "metadata": {},
   "outputs": [
    {
     "name": "stdout",
     "output_type": "stream",
     "text": [
      "With default medium:\n",
      "Standard yeast maximum theoretical biomass productivity: 0.287 /h\n",
      "Standard yeast maximum theoretical productivity of heme  0.550 [mmol gDW^-1 h^-1]\n",
      "{'EX_fe2_e': 999999.0, 'EX_glc__D_e': 10.0, 'EX_h2o_e': 999999.0, 'EX_h_e': 999999.0, 'EX_k_e': 999999.0, 'EX_na1_e': 999999.0, 'EX_so4_e': 999999.0, 'EX_nh4_e': 999999.0, 'EX_o2_e': 2.0, 'EX_pi_e': 999999.0}\n",
      "\n",
      "Standard yeast maximum theoretical biomass productivity: 0.287 /h\n",
      "Standard yeast maximum theoretical productivity of heme  0.240 [mmol gDW^-1 h^-1]\n",
      "{'EX_fe2_e': 2, 'EX_glc__D_e': 2, 'EX_h2o_e': 2, 'EX_h_e': 2, 'EX_k_e': 2, 'EX_na1_e': 2, 'EX_so4_e': 2, 'EX_nh4_e': 2, 'EX_o2_e': 2, 'EX_pi_e': 2}\n"
     ]
    }
   ],
   "source": [
    "with model:\n",
    "    \n",
    "    solution = model.optimize()\n",
    "    print(\"With default medium:\")\n",
    "    print(\"Standard yeast maximum theoretical biomass productivity:\", str(solution.fluxes['BIOMASS_SC5_notrace'])[:5], '/h')\n",
    "    model.objective = model.reactions.DM_pheme_m\n",
    "    heme_production = model.optimize().objective_value\n",
    "    print(\"Standard yeast maximum theoretical productivity of heme \", str(heme_production)[:5], '[mmol gDW^-1 h^-1]')\n",
    "    print(model.medium)\n",
    "    \n",
    "    for i in range (0,len(list(medium))):\n",
    "        medium[list(medium)[i]] = 2\n",
    "    model.medium = medium\n",
    "    model.objective = model.reactions.DM_pheme_m\n",
    "    heme_production = model.optimize().objective_value\n",
    "    \n",
    "    print(\"\")\n",
    "    print(\"Standard yeast maximum theoretical biomass productivity:\", str(solution.fluxes['BIOMASS_SC5_notrace'])[:5], '/h')\n",
    "    print(\"Standard yeast maximum theoretical productivity of heme \", str(heme_production)[:5], '[mmol gDW^-1 h^-1]')\n",
    "    print(medium)"
   ]
  },
  {
   "cell_type": "code",
   "execution_count": 18,
   "id": "ec6eb2bc-ff12-4f29-957e-a79b7bc09de9",
   "metadata": {},
   "outputs": [
    {
     "ename": "KeyError",
     "evalue": "''",
     "output_type": "error",
     "traceback": [
      "\u001b[1;31m---------------------------------------------------------------------------\u001b[0m",
      "\u001b[1;31mKeyError\u001b[0m                                  Traceback (most recent call last)",
      "\u001b[1;32m<ipython-input-18-646582333dc7>\u001b[0m in \u001b[0;36m<module>\u001b[1;34m\u001b[0m\n\u001b[1;32m----> 1\u001b[1;33m \u001b[0mmodel\u001b[0m\u001b[1;33m.\u001b[0m\u001b[0mmedium\u001b[0m \u001b[1;33m=\u001b[0m \u001b[0mYNBmedium\u001b[0m\u001b[1;33m\u001b[0m\u001b[1;33m\u001b[0m\u001b[0m\n\u001b[0m\u001b[0;32m      2\u001b[0m \u001b[0msolution\u001b[0m \u001b[1;33m=\u001b[0m \u001b[0mmodel\u001b[0m\u001b[1;33m.\u001b[0m\u001b[0moptimize\u001b[0m\u001b[1;33m(\u001b[0m\u001b[1;33m)\u001b[0m\u001b[1;33m\u001b[0m\u001b[1;33m\u001b[0m\u001b[0m\n\u001b[0;32m      3\u001b[0m \u001b[0mprint\u001b[0m\u001b[1;33m(\u001b[0m\u001b[1;34m\"Standard yeast maximum theoretical biomass productivity:\"\u001b[0m\u001b[1;33m,\u001b[0m \u001b[0msolution\u001b[0m\u001b[1;33m.\u001b[0m\u001b[0mfluxes\u001b[0m\u001b[1;33m[\u001b[0m\u001b[1;34m'BIOMASS_SC5_notrace'\u001b[0m\u001b[1;33m]\u001b[0m\u001b[1;33m,\u001b[0m \u001b[1;34m'/h'\u001b[0m\u001b[1;33m)\u001b[0m\u001b[1;33m\u001b[0m\u001b[1;33m\u001b[0m\u001b[0m\n\u001b[0;32m      4\u001b[0m \u001b[0mmodel\u001b[0m\u001b[1;33m.\u001b[0m\u001b[0mobjective\u001b[0m \u001b[1;33m=\u001b[0m \u001b[0mmodel\u001b[0m\u001b[1;33m.\u001b[0m\u001b[0mreactions\u001b[0m\u001b[1;33m.\u001b[0m\u001b[0mDM_pheme_m\u001b[0m\u001b[1;33m\u001b[0m\u001b[1;33m\u001b[0m\u001b[0m\n\u001b[0;32m      5\u001b[0m \u001b[0mheme_production\u001b[0m \u001b[1;33m=\u001b[0m \u001b[0mmodel\u001b[0m\u001b[1;33m.\u001b[0m\u001b[0moptimize\u001b[0m\u001b[1;33m(\u001b[0m\u001b[1;33m)\u001b[0m\u001b[1;33m.\u001b[0m\u001b[0mobjective_value\u001b[0m\u001b[1;33m\u001b[0m\u001b[1;33m\u001b[0m\u001b[0m\n",
      "\u001b[1;32m~\\anaconda3\\envs\\gms_carveme\\lib\\site-packages\\cobra\\core\\model.py\u001b[0m in \u001b[0;36mmedium\u001b[1;34m(self, medium)\u001b[0m\n\u001b[0;32m    277\u001b[0m         \u001b[0mexchange_rxns\u001b[0m \u001b[1;33m=\u001b[0m \u001b[0mfrozenset\u001b[0m\u001b[1;33m(\u001b[0m\u001b[0mself\u001b[0m\u001b[1;33m.\u001b[0m\u001b[0mexchanges\u001b[0m\u001b[1;33m)\u001b[0m\u001b[1;33m\u001b[0m\u001b[1;33m\u001b[0m\u001b[0m\n\u001b[0;32m    278\u001b[0m         \u001b[1;32mfor\u001b[0m \u001b[0mrxn_id\u001b[0m\u001b[1;33m,\u001b[0m \u001b[0mbound\u001b[0m \u001b[1;32min\u001b[0m \u001b[0mmedium\u001b[0m\u001b[1;33m.\u001b[0m\u001b[0mitems\u001b[0m\u001b[1;33m(\u001b[0m\u001b[1;33m)\u001b[0m\u001b[1;33m:\u001b[0m\u001b[1;33m\u001b[0m\u001b[1;33m\u001b[0m\u001b[0m\n\u001b[1;32m--> 279\u001b[1;33m             \u001b[0mrxn\u001b[0m \u001b[1;33m=\u001b[0m \u001b[0mself\u001b[0m\u001b[1;33m.\u001b[0m\u001b[0mreactions\u001b[0m\u001b[1;33m.\u001b[0m\u001b[0mget_by_id\u001b[0m\u001b[1;33m(\u001b[0m\u001b[0mrxn_id\u001b[0m\u001b[1;33m)\u001b[0m\u001b[1;33m\u001b[0m\u001b[1;33m\u001b[0m\u001b[0m\n\u001b[0m\u001b[0;32m    280\u001b[0m             \u001b[1;32mif\u001b[0m \u001b[0mrxn\u001b[0m \u001b[1;32mnot\u001b[0m \u001b[1;32min\u001b[0m \u001b[0mexchange_rxns\u001b[0m\u001b[1;33m:\u001b[0m\u001b[1;33m\u001b[0m\u001b[1;33m\u001b[0m\u001b[0m\n\u001b[0;32m    281\u001b[0m                 logger.warn(\n",
      "\u001b[1;32m~\\anaconda3\\envs\\gms_carveme\\lib\\site-packages\\cobra\\core\\dictlist.py\u001b[0m in \u001b[0;36mget_by_id\u001b[1;34m(self, id)\u001b[0m\n\u001b[0;32m     55\u001b[0m     \u001b[1;32mdef\u001b[0m \u001b[0mget_by_id\u001b[0m\u001b[1;33m(\u001b[0m\u001b[0mself\u001b[0m\u001b[1;33m,\u001b[0m \u001b[0mid\u001b[0m\u001b[1;33m)\u001b[0m\u001b[1;33m:\u001b[0m\u001b[1;33m\u001b[0m\u001b[1;33m\u001b[0m\u001b[0m\n\u001b[0;32m     56\u001b[0m         \u001b[1;34m\"\"\"return the element with a matching id\"\"\"\u001b[0m\u001b[1;33m\u001b[0m\u001b[1;33m\u001b[0m\u001b[0m\n\u001b[1;32m---> 57\u001b[1;33m         \u001b[1;32mreturn\u001b[0m \u001b[0mlist\u001b[0m\u001b[1;33m.\u001b[0m\u001b[0m__getitem__\u001b[0m\u001b[1;33m(\u001b[0m\u001b[0mself\u001b[0m\u001b[1;33m,\u001b[0m \u001b[0mself\u001b[0m\u001b[1;33m.\u001b[0m\u001b[0m_dict\u001b[0m\u001b[1;33m[\u001b[0m\u001b[0mid\u001b[0m\u001b[1;33m]\u001b[0m\u001b[1;33m)\u001b[0m\u001b[1;33m\u001b[0m\u001b[1;33m\u001b[0m\u001b[0m\n\u001b[0m\u001b[0;32m     58\u001b[0m \u001b[1;33m\u001b[0m\u001b[0m\n\u001b[0;32m     59\u001b[0m     \u001b[1;32mdef\u001b[0m \u001b[0mlist_attr\u001b[0m\u001b[1;33m(\u001b[0m\u001b[0mself\u001b[0m\u001b[1;33m,\u001b[0m \u001b[0mattribute\u001b[0m\u001b[1;33m)\u001b[0m\u001b[1;33m:\u001b[0m\u001b[1;33m\u001b[0m\u001b[1;33m\u001b[0m\u001b[0m\n",
      "\u001b[1;31mKeyError\u001b[0m: ''"
     ]
    }
   ],
   "source": [
    "model.medium = YNBmedium\n",
    "solution = model.optimize()\n",
    "print(\"Standard yeast maximum theoretical biomass productivity:\", solution.fluxes['BIOMASS_SC5_notrace'], '/h')\n",
    "model.objective = model.reactions.DM_pheme_m\n",
    "heme_production = model.optimize().objective_value\n",
    "print(\"Standard yeast maximum theoretical productivity of heme \", heme_production, '[mmol gDW^-1 h^-1]')"
   ]
  },
  {
   "cell_type": "markdown",
   "id": "30d50add",
   "metadata": {},
   "source": []
  }
 ],
 "metadata": {
  "kernelspec": {
   "display_name": "Python 3",
   "language": "python",
   "name": "python3"
  },
  "language_info": {
   "codemirror_mode": {
    "name": "ipython",
    "version": 3
   },
   "file_extension": ".py",
   "mimetype": "text/x-python",
   "name": "python",
   "nbconvert_exporter": "python",
   "pygments_lexer": "ipython3",
   "version": "3.6.13"
  }
 },
 "nbformat": 4,
 "nbformat_minor": 5
}
