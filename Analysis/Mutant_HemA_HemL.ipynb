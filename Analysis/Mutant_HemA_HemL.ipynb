{
 "cells": [
  {
   "cell_type": "markdown",
   "id": "4583e5c6-e859-4e7d-9868-c83ebbc94ed5",
   "metadata": {},
   "source": [
    "# Insertion of HemA and HemL\n",
    "\n",
    "To enable our organism to make heme from L-glumamate (rather than just glycine), we add new reactions to the model to simulate the heterologous expression of the genes for HemA and HemL, which are found in plants and bacteria.\n",
    "\n",
    "First, packages and the model is imported. Additionally, a copy of the model is created to enable us to compare the two models later."
   ]
  },
  {
   "cell_type": "code",
   "execution_count": 1,
   "id": "0137d0fb-a55a-4e8c-98c8-43e288d90ec6",
   "metadata": {},
   "outputs": [],
   "source": [
    "from cobra.io import read_sbml_model\n",
    "from cobra import Reaction, Metabolite"
   ]
  },
  {
   "cell_type": "code",
   "execution_count": 2,
   "id": "74ae296d-3f9f-4d77-8894-41216a4f0a25",
   "metadata": {},
   "outputs": [],
   "source": [
    "model = read_sbml_model('model_yeast8_rhb.xml')"
   ]
  },
  {
   "cell_type": "code",
   "execution_count": 3,
   "id": "ce5590f8-150c-4efe-a6a5-e938ab04f53f",
   "metadata": {},
   "outputs": [],
   "source": [
    "model_base = model.copy()"
   ]
  },
  {
   "cell_type": "markdown",
   "id": "0374f1f4-fe78-4436-a47b-30c70ea0f0d9",
   "metadata": {},
   "source": [
    "The \"last\" metabolite made by the native yeast metabolism, which will be our starting point for the HemA reaction is L-Glutamyl-tRNA(Glu) (id: glutrna_c). This metabolite is made from L-glutamate."
   ]
  },
  {
   "cell_type": "code",
   "execution_count": 4,
   "id": "84408640-fa53-42bf-9ce0-4db794b16824",
   "metadata": {},
   "outputs": [
    {
     "data": {
      "text/html": [
       "\n",
       "        <table>\n",
       "            <tr>\n",
       "                <td><strong>Metabolite identifier</strong></td><td>glutrna_c</td>\n",
       "            </tr><tr>\n",
       "                <td><strong>Name</strong></td><td>Glu-tRNA(Glu)</td>\n",
       "            </tr><tr>\n",
       "                <td><strong>Memory address</strong></td>\n",
       "                <td>0x02247ffb4190</td>\n",
       "            </tr><tr>\n",
       "                <td><strong>Formula</strong></td><td>C5H8NO3R</td>\n",
       "            </tr><tr>\n",
       "                <td><strong>Compartment</strong></td><td>c</td>\n",
       "            </tr><tr>\n",
       "                <td><strong>In 2 reaction(s)</strong></td><td>\n",
       "                    BIOMASS_yeast-GEM_PROT, GLUTRS</td>\n",
       "            </tr>\n",
       "        </table>"
      ],
      "text/plain": [
       "<Metabolite glutrna_c at 0x2247ffb4190>"
      ]
     },
     "execution_count": 4,
     "metadata": {},
     "output_type": "execute_result"
    }
   ],
   "source": [
    "model.metabolites.get_by_id('glutrna_c')"
   ]
  },
  {
   "cell_type": "markdown",
   "id": "dab61d52-315d-431c-9367-56c88e988524",
   "metadata": {},
   "source": [
    "The metabolite where the plant heme biosynthesis \"re-connects\" with the native yeast metabolism is 5-Amino-4-oxopentanoate / 5-Aminolevulinate (id: 5aop_c). "
   ]
  },
  {
   "cell_type": "code",
   "execution_count": 5,
   "id": "56fdc3e4-4107-418d-aae3-fbfd2c89c55b",
   "metadata": {},
   "outputs": [
    {
     "data": {
      "text/html": [
       "\n",
       "        <table>\n",
       "            <tr>\n",
       "                <td><strong>Metabolite identifier</strong></td><td>5aop_c</td>\n",
       "            </tr><tr>\n",
       "                <td><strong>Name</strong></td><td>5-aminolevulinate</td>\n",
       "            </tr><tr>\n",
       "                <td><strong>Memory address</strong></td>\n",
       "                <td>0x02247ff1eee0</td>\n",
       "            </tr><tr>\n",
       "                <td><strong>Formula</strong></td><td>C5H9NO3</td>\n",
       "            </tr><tr>\n",
       "                <td><strong>Compartment</strong></td><td>c</td>\n",
       "            </tr><tr>\n",
       "                <td><strong>In 3 reaction(s)</strong></td><td>\n",
       "                    5AOPt2, PPBNGS, 5AOPtm</td>\n",
       "            </tr>\n",
       "        </table>"
      ],
      "text/plain": [
       "<Metabolite 5aop_c at 0x2247ff1eee0>"
      ]
     },
     "execution_count": 5,
     "metadata": {},
     "output_type": "execute_result"
    }
   ],
   "source": [
    "model.metabolites.get_by_id('5aop_c')"
   ]
  },
  {
   "cell_type": "markdown",
   "id": "f9da6d70-9dcd-445a-bac6-c17530521203",
   "metadata": {},
   "source": [
    "We are now interested in adding two reactions, HemA and HemL, which connects the two metabolites mentioned above, thereby enabling the yeast to utilize L-glumamate. The reaction formulas are:\n",
    "\n",
    "HemA (glutamyl-tRNA reductase, https://www.kegg.jp/entry/1.2.1.70): \n",
    "L-glutamyl-tRNAGlu + NADPH + H+ -> L-glutamate 1-semialdehyde + NADP+ + tRNAGlu\n",
    "\n",
    "HemL (glutamate-1-semialdehyde aminotransferase, https://www.kegg.jp/entry/5.4.3.8): L-glutamate 1-semialdehyde -> 5-aminolevulinate"
   ]
  },
  {
   "cell_type": "markdown",
   "id": "f131b546-fcdd-4754-8af2-b81e78dba85e",
   "metadata": {},
   "source": [
    "Note that it is unknown whether the reactions would be active in the cytoplasm or mitochondria when expressed in *Saccharomyces cerevisiae*. Therefore, it is assumed for simplicity that the reactions would be active in the cytoplasm.\n",
    "\n",
    "First the new intermediate formed by HemA (and consumed by HemL) is defined (L-glutamate 1-semialdehyde):"
   ]
  },
  {
   "cell_type": "code",
   "execution_count": 6,
   "id": "5e32e2e2-20bb-4360-89db-a47b9571c2a2",
   "metadata": {},
   "outputs": [],
   "source": [
    "L_glu_1_semi = Metabolite(id='L_glu_1_semi_c', compartment='c')"
   ]
  },
  {
   "cell_type": "markdown",
   "id": "b8809be8-a7a6-4276-9a6d-402578b28763",
   "metadata": {},
   "source": [
    "The HemA reaction is defined:"
   ]
  },
  {
   "cell_type": "code",
   "execution_count": 7,
   "id": "12bb3c34-eccb-4e25-a424-e4da50a54bbb",
   "metadata": {},
   "outputs": [],
   "source": [
    "HemA = Reaction('HemA')"
   ]
  },
  {
   "cell_type": "code",
   "execution_count": 8,
   "id": "d1b8823c-ae4d-4724-bf85-35b1a481a9fd",
   "metadata": {},
   "outputs": [],
   "source": [
    "HemA.add_metabolites({model.metabolites.h_c: -1,\n",
    "                      model.metabolites.nadph_c: -1,\n",
    "                      model.metabolites.glutrna_c: -1,\n",
    "                      L_glu_1_semi: 1,\n",
    "                      model.metabolites.nadp_c: 1,\n",
    "                      model.metabolites.trnaglu_c: 1,\n",
    "                             })"
   ]
  },
  {
   "cell_type": "code",
   "execution_count": 9,
   "id": "b2e278ef-5421-40c8-9d33-d2748e68b187",
   "metadata": {},
   "outputs": [
    {
     "name": "stdout",
     "output_type": "stream",
     "text": [
      "glutrna_c + h_c + nadph_c --> L_glu_1_semi_c + nadp_c + trnaglu_c\n"
     ]
    }
   ],
   "source": [
    "print(HemA.build_reaction_string())"
   ]
  },
  {
   "cell_type": "markdown",
   "id": "71511a5a-da86-4df8-bdb8-3c60031a2471",
   "metadata": {},
   "source": [
    "HemL is defined:"
   ]
  },
  {
   "cell_type": "code",
   "execution_count": 10,
   "id": "474bfbad-c2f8-474a-a4bb-97c38d13d072",
   "metadata": {},
   "outputs": [],
   "source": [
    "HemL = Reaction('HemL')"
   ]
  },
  {
   "cell_type": "code",
   "execution_count": 11,
   "id": "b12b2fa1-4ebf-4c7e-899c-0b31bffdbcb4",
   "metadata": {},
   "outputs": [],
   "source": [
    "HemL.add_metabolites({L_glu_1_semi: -1,\n",
    "                      model.metabolites.get_by_id('5aop_c'): 1,\n",
    "                             })"
   ]
  },
  {
   "cell_type": "code",
   "execution_count": 12,
   "id": "a51e0f61-8396-414a-bd6a-7360072eec20",
   "metadata": {},
   "outputs": [
    {
     "name": "stdout",
     "output_type": "stream",
     "text": [
      "L_glu_1_semi_c --> 5aop_c\n"
     ]
    }
   ],
   "source": [
    "print(HemL.build_reaction_string())"
   ]
  },
  {
   "cell_type": "markdown",
   "id": "c8f91705-9501-4cb8-a41d-3f0ecdda9ad7",
   "metadata": {},
   "source": [
    "Both reactions are added to the model:"
   ]
  },
  {
   "cell_type": "code",
   "execution_count": 13,
   "id": "d2aaf618-3c18-4345-97f3-275011a06848",
   "metadata": {},
   "outputs": [],
   "source": [
    "model.add_reactions([HemA, HemL])"
   ]
  },
  {
   "cell_type": "code",
   "execution_count": 14,
   "id": "45ce671e-7e13-41f9-8df4-6af358e25be8",
   "metadata": {},
   "outputs": [],
   "source": [
    "import escher"
   ]
  },
  {
   "cell_type": "markdown",
   "id": "a027c36b-fb88-4ef7-b6b1-30ec25f7747c",
   "metadata": {},
   "source": [
    "The new pathway is visualized in red below in addition to the native heme synthesis pathway, which ultimately leads to hemoglobin production."
   ]
  },
  {
   "cell_type": "code",
   "execution_count": 15,
   "id": "e8fbe186-2710-47c8-8cb0-ab03d67719ed",
   "metadata": {
    "tags": []
   },
   "outputs": [
    {
     "data": {
      "application/vnd.jupyter.widget-view+json": {
       "model_id": "049e2f7fd74346ed9eca315fc23074fc",
       "version_major": 2,
       "version_minor": 0
      },
      "text/plain": [
       "Builder(reaction_data={'HemA': 10, 'HemL': 10})"
      ]
     },
     "metadata": {},
     "output_type": "display_data"
    }
   ],
   "source": [
    "escher.Builder(model = model,\n",
    "    map_json='Yeast8_hemA_hemL.json',\n",
    "              reaction_data={'HemA': 10, 'HemL': 10})"
   ]
  },
  {
   "cell_type": "markdown",
   "id": "59cc85fd-002a-4cd0-acc1-d567a065ee76",
   "metadata": {},
   "source": [
    "## Investigation of the effect of inserting HemA and HemL"
   ]
  },
  {
   "cell_type": "code",
   "execution_count": 16,
   "id": "465674dc-dcc5-45ef-8d42-73d425779566",
   "metadata": {},
   "outputs": [
    {
     "name": "stdout",
     "output_type": "stream",
     "text": [
      "Parameters for the HemA and HemL strain:\n",
      "Rate of heme production: 0.01633390069511922\n",
      "Growth rate: 0.0\n",
      "Yield of heme production: 0.001633390069511922\n"
     ]
    }
   ],
   "source": [
    "# Mutant with HemA and HemL:\n",
    "with model:\n",
    "    model.objective = model.reactions.EX_rHb\n",
    "    model.optimize()\n",
    "    print('Parameters for the HemA and HemL strain:')\n",
    "    print(\"Rate of heme production:\", model.reactions.EX_rHb.flux)\n",
    "    print(\"Growth rate:\", model.reactions.GROWTH.flux)\n",
    "    print(\"Yield of heme production:\", model.reactions.EX_rHb.flux / (-1*model.reactions.EX_glc__D_e.flux))"
   ]
  },
  {
   "cell_type": "code",
   "execution_count": 17,
   "id": "6a43fd29-bfb1-4cb0-a28f-156f9b5366cf",
   "metadata": {},
   "outputs": [
    {
     "name": "stdout",
     "output_type": "stream",
     "text": [
      "Parameters for the WT strain without HemA and HemL:\n",
      "Rate of heme production: 0.016333900695119207\n",
      "Growth rate: 0.0\n",
      "Yield of heme production: 0.0016333900695119207\n"
     ]
    }
   ],
   "source": [
    "# Non-mutant yeast\n",
    "with model_base:\n",
    "    model_base.objective = model_base.reactions.EX_rHb\n",
    "    model_base.optimize()\n",
    "    print('Parameters for the WT strain without HemA and HemL:')\n",
    "    print(\"Rate of heme production:\", model_base.reactions.EX_rHb.flux)\n",
    "    print(\"Growth rate:\", model_base.reactions.GROWTH.flux)\n",
    "    print(\"Yield of heme production:\", model_base.reactions.EX_rHb.flux / (-1*model.reactions.EX_glc__D_e.flux))"
   ]
  },
  {
   "cell_type": "markdown",
   "id": "0b628fe2-e646-41c2-9dca-8cb5ed715f74",
   "metadata": {},
   "source": [
    "From the above, it looks like the HemA and HemL genes does not give the organism an added advantage under normal conditions when compared to the WT. However, there could perhaps be situations in which it is advantageous to have several routes for the flux to go. "
   ]
  }
 ],
 "metadata": {
  "kernelspec": {
   "display_name": "Python 3 (ipykernel)",
   "language": "python",
   "name": "python3"
  },
  "language_info": {
   "codemirror_mode": {
    "name": "ipython",
    "version": 3
   },
   "file_extension": ".py",
   "mimetype": "text/x-python",
   "name": "python",
   "nbconvert_exporter": "python",
   "pygments_lexer": "ipython3",
   "version": "3.8.8"
  }
 },
 "nbformat": 4,
 "nbformat_minor": 5
}
