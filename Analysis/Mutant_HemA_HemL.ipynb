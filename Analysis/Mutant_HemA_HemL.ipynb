{
 "cells": [
  {
   "cell_type": "markdown",
   "id": "4583e5c6-e859-4e7d-9868-c83ebbc94ed5",
   "metadata": {},
   "source": [
    "# Insertion of HemA and HemL\n",
    "\n",
    "To enable our organism to make heme from L-glumamate (rather than just glycine), we add new reactions to the model to simulate the heterologous expression of the genes for HemA and HemL, which are found in plants and bacteria."
   ]
  },
  {
   "cell_type": "code",
   "execution_count": 1,
   "id": "0137d0fb-a55a-4e8c-98c8-43e288d90ec6",
   "metadata": {},
   "outputs": [],
   "source": [
    "from cobra.io import read_sbml_model\n",
    "from cobra import Reaction, Metabolite"
   ]
  },
  {
   "cell_type": "code",
   "execution_count": 2,
   "id": "74ae296d-3f9f-4d77-8894-41216a4f0a25",
   "metadata": {},
   "outputs": [
    {
     "data": {
      "text/html": [
       "\n",
       "        <table>\n",
       "            <tr>\n",
       "                <td><strong>Reaction identifier</strong></td><td>DM_pheme_m</td>\n",
       "            </tr><tr>\n",
       "                <td><strong>Name</strong></td><td>Protoheme C34H30FeN4O4 demand</td>\n",
       "            </tr><tr>\n",
       "                <td><strong>Memory address</strong></td>\n",
       "                <td>0x01f75d6965b0</td>\n",
       "            </tr><tr>\n",
       "                <td><strong>Stoichiometry</strong></td>\n",
       "                <td>\n",
       "                    <p style='text-align:right'>pheme_m --></p>\n",
       "                    <p style='text-align:right'>Protoheme C34H30FeN4O4 --></p>\n",
       "                </td>\n",
       "            </tr><tr>\n",
       "                <td><strong>GPR</strong></td><td></td>\n",
       "            </tr><tr>\n",
       "                <td><strong>Lower bound</strong></td><td>0</td>\n",
       "            </tr><tr>\n",
       "                <td><strong>Upper bound</strong></td><td>1000.0</td>\n",
       "            </tr>\n",
       "        </table>\n",
       "        "
      ],
      "text/plain": [
       "<Reaction DM_pheme_m at 0x1f75d6965b0>"
      ]
     },
     "execution_count": 2,
     "metadata": {},
     "output_type": "execute_result"
    }
   ],
   "source": [
    "model = read_sbml_model('model_standard_yeast.xml')\n",
    "model.add_boundary(model.metabolites.pheme_m, type='demand')"
   ]
  },
  {
   "cell_type": "code",
   "execution_count": 3,
   "id": "ce5590f8-150c-4efe-a6a5-e938ab04f53f",
   "metadata": {},
   "outputs": [],
   "source": [
    "model_base = model.copy()"
   ]
  },
  {
   "cell_type": "markdown",
   "id": "0374f1f4-fe78-4436-a47b-30c70ea0f0d9",
   "metadata": {},
   "source": [
    "The \"last\" metabolite made by the native yeast metabolism, which will be our starting point for the HemA reaction is L-Glutamyl-tRNA(Glu) (id: glutrna_c). This metabolite is made from L-glutamate."
   ]
  },
  {
   "cell_type": "code",
   "execution_count": 4,
   "id": "84408640-fa53-42bf-9ce0-4db794b16824",
   "metadata": {},
   "outputs": [
    {
     "data": {
      "text/html": [
       "\n",
       "        <table>\n",
       "            <tr>\n",
       "                <td><strong>Metabolite identifier</strong></td><td>glutrna_c</td>\n",
       "            </tr><tr>\n",
       "                <td><strong>Name</strong></td><td>L-Glutamyl-tRNA(Glu)</td>\n",
       "            </tr><tr>\n",
       "                <td><strong>Memory address</strong></td>\n",
       "                <td>0x01f76992f4c0</td>\n",
       "            </tr><tr>\n",
       "                <td><strong>Formula</strong></td><td>C5H7NO3R</td>\n",
       "            </tr><tr>\n",
       "                <td><strong>Compartment</strong></td><td>c</td>\n",
       "            </tr><tr>\n",
       "                <td><strong>In 1 reaction(s)</strong></td><td>\n",
       "                    GLUTRS</td>\n",
       "            </tr>\n",
       "        </table>"
      ],
      "text/plain": [
       "<Metabolite glutrna_c at 0x1f76992f4c0>"
      ]
     },
     "execution_count": 4,
     "metadata": {},
     "output_type": "execute_result"
    }
   ],
   "source": [
    "model.metabolites.get_by_id('glutrna_c')"
   ]
  },
  {
   "cell_type": "markdown",
   "id": "dab61d52-315d-431c-9367-56c88e988524",
   "metadata": {},
   "source": [
    "Metabolite where the plant heme biosynthesis re-connects with the native yeast metabolism is 5-Amino-4-oxopentanoate / 5-Aminolevulinate (id: 5aop_c). \n",
    "\n",
    "**Problem**: Not sure if HemA and HemL would work in the cytoplasm or the mitochondrion of the yeast (normally it is produced by ALAS in the mitochondrion). According to this source (https://www.ncbi.nlm.nih.gov/pmc/articles/PMC1203387/) \"Cell fractionation results indicate that GTR and GSAT are located only in the chloroplasts.\" Since yeast doesn't have chloroplasts and the bacterium must produce it in the cytoplasm, we have chosen to simply express in the cytoplasm - also to avoid transport of L-Glutamyl-tRNA(Glu) into the mitochondrion. "
   ]
  },
  {
   "cell_type": "code",
   "execution_count": 5,
   "id": "56fdc3e4-4107-418d-aae3-fbfd2c89c55b",
   "metadata": {},
   "outputs": [
    {
     "data": {
      "text/html": [
       "\n",
       "        <table>\n",
       "            <tr>\n",
       "                <td><strong>Metabolite identifier</strong></td><td>5aop_c</td>\n",
       "            </tr><tr>\n",
       "                <td><strong>Name</strong></td><td>5-Amino-4-oxopentanoate</td>\n",
       "            </tr><tr>\n",
       "                <td><strong>Memory address</strong></td>\n",
       "                <td>0x01f7697a5f70</td>\n",
       "            </tr><tr>\n",
       "                <td><strong>Formula</strong></td><td>C5H9NO3</td>\n",
       "            </tr><tr>\n",
       "                <td><strong>Compartment</strong></td><td>c</td>\n",
       "            </tr><tr>\n",
       "                <td><strong>In 3 reaction(s)</strong></td><td>\n",
       "                    5AOPt2, 5AOPtm, PPBNGS</td>\n",
       "            </tr>\n",
       "        </table>"
      ],
      "text/plain": [
       "<Metabolite 5aop_c at 0x1f7697a5f70>"
      ]
     },
     "execution_count": 5,
     "metadata": {},
     "output_type": "execute_result"
    }
   ],
   "source": [
    "model.metabolites.get_by_id('5aop_c')"
   ]
  },
  {
   "cell_type": "markdown",
   "id": "f9da6d70-9dcd-445a-bac6-c17530521203",
   "metadata": {},
   "source": [
    "The two reactions we are interested in adding are:\n",
    "\n",
    "HemA (glutamyl-tRNA reductase, https://www.kegg.jp/entry/1.2.1.70): \n",
    "L-glutamyl-tRNAGlu + NADPH + H+ -> L-glutamate 1-semialdehyde + NADP+ + tRNAGlu\n",
    "\n",
    "HemL (glutamate-1-semialdehyde aminotransferase, https://www.kegg.jp/entry/5.4.3.8): L-glutamate 1-semialdehyde -> 5-aminolevulinate"
   ]
  },
  {
   "cell_type": "markdown",
   "id": "f131b546-fcdd-4754-8af2-b81e78dba85e",
   "metadata": {},
   "source": [
    "First the new intermediate formed by HemA (and consumed by HemL) is defined (L-glutamate 1-semialdehyde):"
   ]
  },
  {
   "cell_type": "code",
   "execution_count": 6,
   "id": "5e32e2e2-20bb-4360-89db-a47b9571c2a2",
   "metadata": {},
   "outputs": [],
   "source": [
    "L_glu_1_semi = Metabolite(id='L_glu_1_semi_c', compartment='c')"
   ]
  },
  {
   "cell_type": "markdown",
   "id": "b8809be8-a7a6-4276-9a6d-402578b28763",
   "metadata": {},
   "source": [
    "The HemA reaction is defined:"
   ]
  },
  {
   "cell_type": "code",
   "execution_count": 7,
   "id": "12bb3c34-eccb-4e25-a424-e4da50a54bbb",
   "metadata": {},
   "outputs": [],
   "source": [
    "HemA = Reaction('HemA')"
   ]
  },
  {
   "cell_type": "code",
   "execution_count": 8,
   "id": "d1b8823c-ae4d-4724-bf85-35b1a481a9fd",
   "metadata": {},
   "outputs": [],
   "source": [
    "HemA.add_metabolites({model.metabolites.h_c: -1,\n",
    "                      model.metabolites.nadph_c: -1,\n",
    "                      model.metabolites.glutrna_c: -1,\n",
    "                      L_glu_1_semi: 1,\n",
    "                      model.metabolites.nadp_c: 1,\n",
    "                      model.metabolites.trnaglu_c: 1,\n",
    "                             })"
   ]
  },
  {
   "cell_type": "code",
   "execution_count": 9,
   "id": "b2e278ef-5421-40c8-9d33-d2748e68b187",
   "metadata": {},
   "outputs": [
    {
     "name": "stdout",
     "output_type": "stream",
     "text": [
      "glutrna_c + h_c + nadph_c --> L_glu_1_semi_c + nadp_c + trnaglu_c\n"
     ]
    }
   ],
   "source": [
    "print(HemA.build_reaction_string())"
   ]
  },
  {
   "cell_type": "markdown",
   "id": "71511a5a-da86-4df8-bdb8-3c60031a2471",
   "metadata": {},
   "source": [
    "HemL is defined:"
   ]
  },
  {
   "cell_type": "code",
   "execution_count": 10,
   "id": "474bfbad-c2f8-474a-a4bb-97c38d13d072",
   "metadata": {},
   "outputs": [],
   "source": [
    "HemL = Reaction('HemL')"
   ]
  },
  {
   "cell_type": "code",
   "execution_count": 11,
   "id": "b12b2fa1-4ebf-4c7e-899c-0b31bffdbcb4",
   "metadata": {},
   "outputs": [],
   "source": [
    "HemL.add_metabolites({L_glu_1_semi: -1,\n",
    "                      model.metabolites.get_by_id('5aop_c'): 1,\n",
    "                             })"
   ]
  },
  {
   "cell_type": "code",
   "execution_count": 12,
   "id": "a51e0f61-8396-414a-bd6a-7360072eec20",
   "metadata": {},
   "outputs": [
    {
     "name": "stdout",
     "output_type": "stream",
     "text": [
      "L_glu_1_semi_c --> 5aop_c\n"
     ]
    }
   ],
   "source": [
    "print(HemL.build_reaction_string())"
   ]
  },
  {
   "cell_type": "markdown",
   "id": "c8f91705-9501-4cb8-a41d-3f0ecdda9ad7",
   "metadata": {},
   "source": [
    "Both reactions are added to the model:"
   ]
  },
  {
   "cell_type": "code",
   "execution_count": 13,
   "id": "d2aaf618-3c18-4345-97f3-275011a06848",
   "metadata": {},
   "outputs": [],
   "source": [
    "model.add_reactions([HemA, HemL])"
   ]
  },
  {
   "cell_type": "code",
   "execution_count": 14,
   "id": "45ce671e-7e13-41f9-8df4-6af358e25be8",
   "metadata": {},
   "outputs": [],
   "source": [
    "import escher"
   ]
  },
  {
   "cell_type": "markdown",
   "id": "a027c36b-fb88-4ef7-b6b1-30ec25f7747c",
   "metadata": {},
   "source": [
    "The new pathway is visualized in red below in addition to the native heme synthesis pathway."
   ]
  },
  {
   "cell_type": "code",
   "execution_count": 15,
   "id": "e8fbe186-2710-47c8-8cb0-ab03d67719ed",
   "metadata": {
    "tags": []
   },
   "outputs": [
    {
     "data": {
      "application/vnd.jupyter.widget-view+json": {
       "model_id": "3cb36bc599b7464ebac462aae41449a1",
       "version_major": 2,
       "version_minor": 0
      },
      "text/plain": [
       "Builder(reaction_data={'HemA': 10, 'HemL': 10})"
      ]
     },
     "metadata": {},
     "output_type": "display_data"
    }
   ],
   "source": [
    "escher.Builder(model = model,\n",
    "    map_json='IMM904.HemAHemL.json',\n",
    "              reaction_data={'HemA': 10, 'HemL': 10})"
   ]
  },
  {
   "cell_type": "markdown",
   "id": "59cc85fd-002a-4cd0-acc1-d567a065ee76",
   "metadata": {},
   "source": [
    "## Investigation of the effect of inserting HemA and HemL"
   ]
  },
  {
   "cell_type": "code",
   "execution_count": 33,
   "id": "465674dc-dcc5-45ef-8d42-73d425779566",
   "metadata": {},
   "outputs": [
    {
     "name": "stdout",
     "output_type": "stream",
     "text": [
      "Parameters for the HemA and HemL strain:\n",
      "Rate of heme production: 0.5501893939393939\n",
      "Growth rate: 0.0\n",
      "Yield of heme production: 0.05501893939393939\n"
     ]
    }
   ],
   "source": [
    "# Mutant with HemA and HemL:\n",
    "with model:\n",
    "    model.objective = model.reactions.FCLTm\n",
    "    model.optimize()\n",
    "    print('Parameters for the HemA and HemL strain:')\n",
    "    print(\"Rate of heme production:\", model.reactions.FCLTm.flux)\n",
    "    print(\"Growth rate:\", model.reactions.BIOMASS_SC5_notrace.flux)\n",
    "    print(\"Yield of heme production:\", model.reactions.FCLTm.flux / (-1*model.reactions.EX_glc__D_e.flux))"
   ]
  },
  {
   "cell_type": "code",
   "execution_count": 34,
   "id": "6a43fd29-bfb1-4cb0-a28f-156f9b5366cf",
   "metadata": {},
   "outputs": [
    {
     "name": "stdout",
     "output_type": "stream",
     "text": [
      "Parameters for the WT strain without HemA and HemL:\n",
      "Rate of heme production: 0.5501893939393958\n",
      "Growth rate: -2.1743679008842116e-17\n",
      "Yield of heme production: 0.05501893939393958\n"
     ]
    }
   ],
   "source": [
    "# Non-mutant yeast\n",
    "with model_base:\n",
    "    model_base.objective = model_base.reactions.FCLTm\n",
    "    model_base.optimize()\n",
    "    print('Parameters for the WT strain without HemA and HemL:')\n",
    "    print(\"Rate of heme production:\", model_base.reactions.FCLTm.flux)\n",
    "    print(\"Growth rate:\", model_base.reactions.BIOMASS_SC5_notrace.flux)\n",
    "    print(\"Yield of heme production:\", model_base.reactions.FCLTm.flux / (-1*model.reactions.EX_glc__D_e.flux))"
   ]
  },
  {
   "cell_type": "markdown",
   "id": "0b628fe2-e646-41c2-9dca-8cb5ed715f74",
   "metadata": {},
   "source": [
    "From the above, it looks like the HemA and HemL genes does not give the organism an added advantage under normal conditions when compared to the WT.\n",
    "However, if the glycine mitchondrial transporter is knocked out, it is clear that the glumatamate can substitute as a substrate for heme production:"
   ]
  },
  {
   "cell_type": "code",
   "execution_count": 36,
   "id": "3cc55141-4170-4ff8-9bce-5fe242e1dc28",
   "metadata": {},
   "outputs": [
    {
     "name": "stdout",
     "output_type": "stream",
     "text": [
      "Parameters for the HemA and HemL strain:\n",
      "Rate of heme production: 0.44989775051124803\n",
      "Growth rate: 0.0\n"
     ]
    }
   ],
   "source": [
    "# Mutant with HemA and HemL:\n",
    "with model as GLYt2m_mutant:\n",
    "    GLYt2m_mutant.reactions.get_by_id('GLYt2m').bounds = 0, 0\n",
    "    GLYt2m_mutant.objective = THRA_mutant.reactions.FCLTm\n",
    "    GLYt2m_mutant.optimize()\n",
    "    print('Parameters for the HemA and HemL strain:')\n",
    "    print(\"Rate of heme production:\", GLYt2m_mutant.reactions.FCLTm.flux)\n",
    "    print(\"Growth rate:\", GLYt2m_mutant.reactions.BIOMASS_SC5_notrace.flux)"
   ]
  },
  {
   "cell_type": "code",
   "execution_count": 35,
   "id": "a6a9910b-51b2-41a3-b35f-8499eb2c4e70",
   "metadata": {},
   "outputs": [
    {
     "name": "stdout",
     "output_type": "stream",
     "text": [
      "Parameters for the WT strain without HemA and HemL:\n",
      "Rate of heme production: -2.196419827518402e-14\n",
      "Growth rate: 0.10634914877962603\n"
     ]
    }
   ],
   "source": [
    "# Non-mutant yeast\n",
    "with model_base as GLYt2m_mutant:\n",
    "    GLYt2m_mutant.reactions.get_by_id('GLYt2m').bounds = 0, 0\n",
    "    GLYt2m_mutant.objective = THRA_mutant.reactions.FCLTm\n",
    "    GLYt2m_mutant.optimize()\n",
    "    print('Parameters for the WT strain without HemA and HemL:')\n",
    "    print(\"Rate of heme production:\", GLYt2m_mutant.reactions.FCLTm.flux)\n",
    "    print(\"Growth rate:\", GLYt2m_mutant.reactions.BIOMASS_SC5_notrace.flux)"
   ]
  },
  {
   "cell_type": "code",
   "execution_count": null,
   "id": "f3701608-26f4-4beb-b52b-60d60052fce5",
   "metadata": {},
   "outputs": [],
   "source": []
  }
 ],
 "metadata": {
  "kernelspec": {
   "display_name": "Python 3 (ipykernel)",
   "language": "python",
   "name": "python3"
  },
  "language_info": {
   "codemirror_mode": {
    "name": "ipython",
    "version": 3
   },
   "file_extension": ".py",
   "mimetype": "text/x-python",
   "name": "python",
   "nbconvert_exporter": "python",
   "pygments_lexer": "ipython3",
   "version": "3.8.8"
  }
 },
 "nbformat": 4,
 "nbformat_minor": 5
}
