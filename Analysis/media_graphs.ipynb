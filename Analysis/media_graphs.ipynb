{
 "cells": [
  {
   "cell_type": "code",
   "execution_count": 2,
   "id": "0a84ca28-e677-438a-a07d-50078cd39c33",
   "metadata": {},
   "outputs": [],
   "source": [
    "import pandas as pd\n",
    "import matplotlib.pyplot as plt\n",
    "plt.style.use('seaborn')\n",
    "from cobra.io import read_sbml_model\n",
    "from cobra import Reaction, Metabolite\n",
    "from cobra.util import create_stoichiometric_matrix\n",
    "from cobra.medium import minimal_medium\n",
    "import numpy as np\n",
    "import escher"
   ]
  },
  {
   "cell_type": "code",
   "execution_count": 4,
   "id": "9b6267b7-ff80-4c9b-9ef5-51936bae97ca",
   "metadata": {},
   "outputs": [],
   "source": [
    "model = read_sbml_model('model_standard_yeast.xml') # insert model HERE"
   ]
  },
  {
   "cell_type": "markdown",
   "id": "b0338806-6a66-484c-9676-cc4efa837955",
   "metadata": {},
   "source": [
    "# The composition of the medium"
   ]
  },
  {
   "cell_type": "markdown",
   "id": "4292767f-5583-4192-bfc5-4fcaf80a172d",
   "metadata": {},
   "source": [
    "Let's look at the default media composition"
   ]
  },
  {
   "cell_type": "code",
   "execution_count": 10,
   "id": "e0028921-af4b-479d-87c3-3c90ab096aa6",
   "metadata": {},
   "outputs": [
    {
     "data": {
      "text/plain": [
       "{'EX_fe2_e': 999999.0,\n",
       " 'EX_glc__D_e': 10.0,\n",
       " 'EX_h2o_e': 999999.0,\n",
       " 'EX_h_e': 999999.0,\n",
       " 'EX_k_e': 999999.0,\n",
       " 'EX_na1_e': 999999.0,\n",
       " 'EX_so4_e': 999999.0,\n",
       " 'EX_nh4_e': 999999.0,\n",
       " 'EX_o2_e': 2.0,\n",
       " 'EX_pi_e': 999999.0}"
      ]
     },
     "execution_count": 10,
     "metadata": {},
     "output_type": "execute_result"
    }
   ],
   "source": [
    "model.medium"
   ]
  },
  {
   "cell_type": "markdown",
   "id": "59825c5d-5ab5-432c-9471-1cfd8e5f94a4",
   "metadata": {},
   "source": [
    "**Template:**"
   ]
  },
  {
   "cell_type": "code",
   "execution_count": 7,
   "id": "5d5060c1-dac4-4a6d-b6f2-c2714c9d8cb3",
   "metadata": {},
   "outputs": [
    {
     "name": "stdout",
     "output_type": "stream",
     "text": [
      "Standard yeast maximum theoretical biomass productivity: 0.28786570370401793 /h\n",
      "Standard yeast maximum theoretical productivity of heme  0.5501893939393939 [mmol gDW^-1 h^-1]\n"
     ]
    }
   ],
   "source": [
    "medium = model.medium\n",
    "model.add_boundary(model.metabolites.pheme_m, type='demand') # adds the exchange reaction for heme\n",
    "with model:\n",
    "    solution = model.optimize()\n",
    "    print(\"Standard yeast maximum theoretical biomass productivity:\", solution.fluxes['BIOMASS_SC5_notrace'], '/h')\n",
    "    model.medium = medium\n",
    "    model.objective = model.reactions.DM_pheme_m\n",
    "    heme_production = model.optimize().objective_value\n",
    "    print(\"Standard yeast maximum theoretical productivity of heme \", heme_production, '[mmol gDW^-1 h^-1]')"
   ]
  },
  {
   "cell_type": "code",
   "execution_count": null,
   "id": "c1b69913-36a1-44e2-a565-fa8c73526e00",
   "metadata": {},
   "outputs": [],
   "source": [
    "medium = model.medium\n",
    "model.add_boundary(model.metabolites.pheme_m, type='demand') # adds the exchange reaction for heme\n",
    "x = []\n",
    "y = []\n",
    "i = 0\n",
    "with model:\n",
    "    for i from \n",
    "    solution = model.optimize()\n",
    "    print(\"Standard yeast maximum theoretical biomass productivity:\", solution.fluxes['BIOMASS_SC5_notrace'], '/h')\n",
    "    model.medium = medium\n",
    "    model.objective = model.reactions.DM_pheme_m\n",
    "    heme_production = model.optimize().objective_value\n",
    "    print(\"Standard yeast maximum theoretical productivity of heme \", heme_production, '[mmol gDW^-1 h^-1]')"
   ]
  }
 ],
 "metadata": {
  "kernelspec": {
   "display_name": "Python 3",
   "language": "python",
   "name": "python3"
  },
  "language_info": {
   "codemirror_mode": {
    "name": "ipython",
    "version": 3
   },
   "file_extension": ".py",
   "mimetype": "text/x-python",
   "name": "python",
   "nbconvert_exporter": "python",
   "pygments_lexer": "ipython3",
   "version": "3.6.13"
  }
 },
 "nbformat": 4,
 "nbformat_minor": 5
}
