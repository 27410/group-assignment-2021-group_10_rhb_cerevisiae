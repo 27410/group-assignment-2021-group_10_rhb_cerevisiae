{
 "cells": [
  {
   "cell_type": "code",
   "execution_count": 1,
   "id": "0a84ca28-e677-438a-a07d-50078cd39c33",
   "metadata": {},
   "outputs": [],
   "source": [
    "import pandas as pd\n",
    "import matplotlib.pyplot as plt\n",
    "plt.style.use('seaborn')\n",
    "from cobra.io import read_sbml_model\n",
    "from cobra import Reaction, Metabolite\n",
    "from cobra.util import create_stoichiometric_matrix\n",
    "from cobra.medium import minimal_medium\n",
    "import numpy as np\n",
    "import escher"
   ]
  },
  {
   "cell_type": "code",
   "execution_count": 2,
   "id": "9b6267b7-ff80-4c9b-9ef5-51936bae97ca",
   "metadata": {},
   "outputs": [],
   "source": [
    "model = read_sbml_model('model_standard_yeast.xml') # insert model HERE"
   ]
  },
  {
   "cell_type": "markdown",
   "id": "b0338806-6a66-484c-9676-cc4efa837955",
   "metadata": {},
   "source": [
    "# The composition of the medium"
   ]
  },
  {
   "cell_type": "markdown",
   "id": "4292767f-5583-4192-bfc5-4fcaf80a172d",
   "metadata": {},
   "source": [
    "Let's look at the default media composition"
   ]
  },
  {
   "cell_type": "code",
   "execution_count": 3,
   "id": "e0028921-af4b-479d-87c3-3c90ab096aa6",
   "metadata": {},
   "outputs": [
    {
     "data": {
      "text/plain": [
       "{'EX_fe2_e': 999999.0,\n",
       " 'EX_glc__D_e': 10.0,\n",
       " 'EX_h2o_e': 999999.0,\n",
       " 'EX_h_e': 999999.0,\n",
       " 'EX_k_e': 999999.0,\n",
       " 'EX_na1_e': 999999.0,\n",
       " 'EX_so4_e': 999999.0,\n",
       " 'EX_nh4_e': 999999.0,\n",
       " 'EX_o2_e': 2.0,\n",
       " 'EX_pi_e': 999999.0}"
      ]
     },
     "execution_count": 3,
     "metadata": {},
     "output_type": "execute_result"
    }
   ],
   "source": [
    "model.medium"
   ]
  },
  {
   "cell_type": "markdown",
   "id": "59825c5d-5ab5-432c-9471-1cfd8e5f94a4",
   "metadata": {},
   "source": [
    "**Template:**"
   ]
  },
  {
   "cell_type": "code",
   "execution_count": 79,
   "id": "5d5060c1-dac4-4a6d-b6f2-c2714c9d8cb3",
   "metadata": {},
   "outputs": [
    {
     "name": "stdout",
     "output_type": "stream",
     "text": [
      "Standard yeast maximum theoretical biomass productivity: 0.2878657037040176 /h\n",
      "Standard yeast maximum theoretical productivity of heme  0.5501893939393938 [mmol gDW^-1 h^-1]\n"
     ]
    }
   ],
   "source": [
    "medium = model.medium\n",
    "#model.add_boundary(model.metabolites.pheme_m, type='demand') # adds the exchange reaction for heme\n",
    "with model:\n",
    "    solution = model.optimize()\n",
    "    print(\"Standard yeast maximum theoretical biomass productivity:\", solution.fluxes['BIOMASS_SC5_notrace'], '/h')\n",
    "    model.medium = medium\n",
    "    model.objective = model.reactions.DM_pheme_m\n",
    "    heme_production = model.optimize().objective_value\n",
    "    print(\"Standard yeast maximum theoretical productivity of heme \", heme_production, '[mmol gDW^-1 h^-1]')"
   ]
  },
  {
   "cell_type": "markdown",
   "id": "1da63e62-daa5-4c61-85f3-ca0c56b6b151",
   "metadata": {},
   "source": [
    "# Optimizing growth and heme production at varying glucose concentrations"
   ]
  },
  {
   "cell_type": "code",
   "execution_count": 75,
   "id": "c1b69913-36a1-44e2-a565-fa8c73526e00",
   "metadata": {},
   "outputs": [
    {
     "name": "stderr",
     "output_type": "stream",
     "text": [
      "C:\\Users\\Rasso\\anaconda3\\envs\\carveme_env\\lib\\site-packages\\cobra\\util\\solver.py:554: UserWarning: Solver status is 'infeasible'.\n",
      "  warn(f\"Solver status is '{status}'.\", UserWarning)\n"
     ]
    },
    {
     "name": "stdout",
     "output_type": "stream",
     "text": [
      "10.5\n"
     ]
    },
    {
     "name": "stderr",
     "output_type": "stream",
     "text": [
      "C:\\Users\\Rasso\\anaconda3\\envs\\carveme_env\\lib\\site-packages\\cobra\\util\\solver.py:554: UserWarning: Solver status is 'infeasible'.\n",
      "  warn(f\"Solver status is '{status}'.\", UserWarning)\n"
     ]
    },
    {
     "name": "stdout",
     "output_type": "stream",
     "text": [
      "Wall time: 3.17 s\n"
     ]
    }
   ],
   "source": [
    "%%time\n",
    "medium = model.medium\n",
    "#model.add_boundary(model.metabolites.pheme_m, type='demand') # adds the exchange reaction for heme\n",
    "x = []\n",
    "y = []\n",
    "i = 0\n",
    "with model:\n",
    "    while i < 11: #Optimizes growth for increasing glucose values and stores values in vector x.\n",
    "        medium['EX_glc__D_e'] = i\n",
    "        model.medium = medium\n",
    "        solution = model.optimize()\n",
    "        #print(\"Standard yeast maximum theoretical biomass productivity:\", solution.fluxes['BIOMASS_SC5_notrace'], '/h')\n",
    "        x.append(solution.fluxes['BIOMASS_SC5_notrace'])\n",
    "        i = i + 0.5\n",
    "\n",
    "    #print(x)\n",
    "    #print(medium['EX_glc__D_e'])\n",
    "    i = 0    \n",
    "    while i < 11: #Optimizes heme prod for increasing glucose values and stores values in vector y.\n",
    "        medium['EX_glc__D_e'] = i\n",
    "        model.medium = medium\n",
    "        model.objective = model.reactions.DM_pheme_m\n",
    "        heme_production = model.optimize().objective_value\n",
    "        #print(\"Standard yeast maximum theoretical productivity of heme \", heme_production, '[mmol gDW^-1 h^-1]')\n",
    "        y.append(heme_production)\n",
    "        i = i + 0.1\n",
    "    #print(y)\n",
    "    #brug evt: ny_vector = np.array(y) #siden \"y\" er en liste kan det maaske give problemer naar der skal plottes. Det her laver det np.array"
   ]
  },
  {
   "cell_type": "markdown",
   "id": "ebcd481f-f7da-432c-934c-4665faadd430",
   "metadata": {},
   "source": [
    "The growth- and prod values are stored in lists x and y respectively"
   ]
  },
  {
   "cell_type": "code",
   "execution_count": null,
   "id": "904796d6-7925-4364-8874-7865aa88d083",
   "metadata": {},
   "outputs": [],
   "source": []
  },
  {
   "cell_type": "code",
   "execution_count": 77,
   "id": "b6949230-a830-4778-aa3e-024488c9a94a",
   "metadata": {},
   "outputs": [],
   "source": []
  },
  {
   "cell_type": "code",
   "execution_count": 78,
   "id": "87dea752-cbfd-4d8f-864d-99d7519158ad",
   "metadata": {},
   "outputs": [
    {
     "name": "stdout",
     "output_type": "stream",
     "text": [
      "BIOMASS_SC5_notrace\n"
     ]
    }
   ],
   "source": [
    "for reactions in model.reactions.query('mass','name'):\n",
    "    print(reactions.id)"
   ]
  },
  {
   "cell_type": "code",
   "execution_count": 59,
   "id": "0dabb190-e614-4ee4-a5fe-b6ad21595e71",
   "metadata": {},
   "outputs": [
    {
     "data": {
      "text/html": [
       "\n",
       "        <table>\n",
       "            <tr>\n",
       "                <td><strong>Reaction identifier</strong></td><td>BIOMASS_SC5_notrace</td>\n",
       "            </tr><tr>\n",
       "                <td><strong>Name</strong></td><td>Biomass SC5 notrace</td>\n",
       "            </tr><tr>\n",
       "                <td><strong>Memory address</strong></td>\n",
       "                <td>0x02700bd86128</td>\n",
       "            </tr><tr>\n",
       "                <td><strong>Stoichiometry</strong></td>\n",
       "                <td>\n",
       "                    <p style='text-align:right'>1.1348 13BDglcn_c + 0.4588 ala__L_c + 0.046 amp_c + 0.1607 arg__L_c + 0.1017 asn__L_c + 0.2975 asp__L_c + 59.276 atp_c + 0.0447 cmp_c + 0.0066 cys__L_c + 0.0036 damp_c + 0.0024 dcmp_c + 0.0024...</p>\n",
       "                    <p style='text-align:right'>1.1348 1 3 beta D Glucan C6H10O5 + 0.4588 L-Alanine + 0.046 AMP C10H12N5O7P + 0.1607 L-Arginine + 0.1017 L-Asparagine + 0.2975 L-Aspartate + 59.276 ATP C10H12N5O13P3 + 0.0447 CMP C9H12N3O8P +...</p>\n",
       "                </td>\n",
       "            </tr><tr>\n",
       "                <td><strong>GPR</strong></td><td></td>\n",
       "            </tr><tr>\n",
       "                <td><strong>Lower bound</strong></td><td>0.0</td>\n",
       "            </tr><tr>\n",
       "                <td><strong>Upper bound</strong></td><td>999999.0</td>\n",
       "            </tr>\n",
       "        </table>\n",
       "        "
      ],
      "text/plain": [
       "<Reaction BIOMASS_SC5_notrace at 0x2700bd86128>"
      ]
     },
     "execution_count": 59,
     "metadata": {},
     "output_type": "execute_result"
    }
   ],
   "source": [
    "model.reactions.BIOMASS_SC5_notrace"
   ]
  },
  {
   "cell_type": "code",
   "execution_count": null,
   "id": "7905d8ca-34e3-4c06-b412-2b0de5cd5142",
   "metadata": {},
   "outputs": [],
   "source": []
  },
  {
   "cell_type": "markdown",
   "id": "d2b1743d-1767-498a-97b4-7c049fc5ccb8",
   "metadata": {},
   "source": [
    "# Med \"slim optimize\"\n",
    "**in case det tager rigtig lang tid at optimere**\n"
   ]
  },
  {
   "cell_type": "code",
   "execution_count": null,
   "id": "2446e085-bef7-448c-9b18-3686e1d73e2a",
   "metadata": {},
   "outputs": [],
   "source": [
    "%%time\n",
    "medium = model.medium\n",
    "#model.add_boundary(model.metabolites.pheme_m, type='demand') # adds the exchange reaction for heme\n",
    "x = []\n",
    "y = []\n",
    "i = 0\n",
    "with model:\n",
    "    while i < 11: #Optimizes growth for increasing glucose values and stores values in vector x.\n",
    "        medium['EX_glc__D_e'] = i\n",
    "        model.medium = medium\n",
    "        solution = model.slim_optimize()\n",
    "        #print(\"Standard yeast maximum theoretical biomass productivity:\", solution.fluxes['BIOMASS_SC5_notrace'], '/h')\n",
    "        x.append(model.reactions.BIOMASS_SC5_notrace.flux)\n",
    "        i = i + 0.05\n",
    "\n",
    "    #print(x)\n",
    "    i = 0    \n",
    "    while i < 11: #Optimizes heme prod for increasing glucose values and stores values in vector y.\n",
    "        medium['EX_glc__D_e'] = i\n",
    "        model.medium = medium\n",
    "        model.objective = model.reactions.DM_pheme_m\n",
    "        heme_production = model.optimize().objective_value\n",
    "        #print(\"Standard yeast maximum theoretical productivity of heme \", heme_production, '[mmol gDW^-1 h^-1]')\n",
    "        y.append(heme_production)\n",
    "        i = i + 0.1\n",
    "    #print(y)\n",
    "    #brug evt: ny_vector = np.array(y) #siden \"y\" er en liste kan det maaske give problemer naar der skal plottes. Det her laver det np.array"
   ]
  }
 ],
 "metadata": {
  "kernelspec": {
   "display_name": "Python 3",
   "language": "python",
   "name": "python3"
  },
  "language_info": {
   "codemirror_mode": {
    "name": "ipython",
    "version": 3
   },
   "file_extension": ".py",
   "mimetype": "text/x-python",
   "name": "python",
   "nbconvert_exporter": "python",
   "pygments_lexer": "ipython3",
   "version": "3.6.13"
  }
 },
 "nbformat": 4,
 "nbformat_minor": 5
}
