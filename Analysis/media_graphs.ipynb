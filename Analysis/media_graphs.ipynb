{
 "cells": [
  {
   "cell_type": "code",
   "execution_count": 1,
   "id": "0a84ca28-e677-438a-a07d-50078cd39c33",
   "metadata": {},
   "outputs": [],
   "source": [
    "import pandas as pd\n",
    "import matplotlib.pyplot as plt\n",
    "plt.style.use('seaborn')\n",
    "from cobra.io import read_sbml_model\n",
    "from cobra import Reaction, Metabolite\n",
    "from cobra.util import create_stoichiometric_matrix\n",
    "from cobra.medium import minimal_medium\n",
    "from cameo import models\n",
    "from cameo.visualization.plotting.with_plotly import PlotlyPlotter\n",
    "import numpy as np\n",
    "import escher\n",
    "\n",
    "import cobra.test\n",
    "from cobra.flux_analysis import production_envelope"
   ]
  },
  {
   "cell_type": "code",
   "execution_count": 2,
   "id": "9b6267b7-ff80-4c9b-9ef5-51936bae97ca",
   "metadata": {},
   "outputs": [],
   "source": [
    "model = read_sbml_model('model_yeast8_rhb.xml') # insert model HERE"
   ]
  },
  {
   "cell_type": "code",
   "execution_count": 121,
   "id": "be5217e5",
   "metadata": {},
   "outputs": [],
   "source": [
    "for metabolites in model.metabolites.query('BIOMASS','id'):\n",
    "    print(reactions.id)"
   ]
  },
  {
   "cell_type": "code",
   "execution_count": 124,
   "id": "f36c49cb",
   "metadata": {},
   "outputs": [
    {
     "name": "stdout",
     "output_type": "stream",
     "text": [
      "BIOMASS_yeast-GEM_LIP\n",
      "BIOMASS_yeast-GEM\n",
      "BIOMASS_yeast-GEM_PROT\n",
      "BIOMASS_yeast-GEM_CARB\n",
      "BIOMASS_yeast-GEM_RNA\n",
      "BIOMASS_yeast-GEM_DNA\n",
      "BIOMASS_yeast-GEM_LIPBACK\n",
      "BIOMASS_yeast-GEM_LIPCHAIN\n",
      "BIOMASS_yeast-GEM_COFACTOR\n",
      "BIOMASS_yeast-GEM_ION\n"
     ]
    }
   ],
   "source": [
    "for reactions in model.reactions.query('BIOMASS_yeast-GEM','id'):\n",
    "    print(reactions.id)"
   ]
  },
  {
   "cell_type": "code",
   "execution_count": 125,
   "id": "ca66c6b4",
   "metadata": {},
   "outputs": [
    {
     "data": {
      "text/html": [
       "\n",
       "        <table>\n",
       "            <tr>\n",
       "                <td><strong>Reaction identifier</strong></td><td>BIOMASS_yeast-GEM</td>\n",
       "            </tr><tr>\n",
       "                <td><strong>Name</strong></td><td>biomass pseudoreaction</td>\n",
       "            </tr><tr>\n",
       "                <td><strong>Memory address</strong></td>\n",
       "                <td>0x015611b6a128</td>\n",
       "            </tr><tr>\n",
       "                <td><strong>Stoichiometry</strong></td>\n",
       "                <td>\n",
       "                    <p style='text-align:right'>55.3 atp_c + carbohydrate_c + cofactor_c + dna_c + 55.3 h2o_c + ion_c + lipid_c + protein_c + rna_c --> 55.3 adp_c + biomass_c + 55.3 h_c + 55.3 pi_c</p>\n",
       "                    <p style='text-align:right'>55.3 ATP + carbohydrate + cofactor + DNA + 55.3 H2O + ion + lipid + protein + RNA --> 55.3 ADP + biomass + 55.3 H+ + 55.3 phosphate</p>\n",
       "                </td>\n",
       "            </tr><tr>\n",
       "                <td><strong>GPR</strong></td><td></td>\n",
       "            </tr><tr>\n",
       "                <td><strong>Lower bound</strong></td><td>0.0</td>\n",
       "            </tr><tr>\n",
       "                <td><strong>Upper bound</strong></td><td>1000.0</td>\n",
       "            </tr>\n",
       "        </table>\n",
       "        "
      ],
      "text/plain": [
       "<Reaction BIOMASS_yeast-GEM at 0x15611b6a128>"
      ]
     },
     "execution_count": 125,
     "metadata": {},
     "output_type": "execute_result"
    }
   ],
   "source": [
    "model.reactions.get_by_id('BIOMASS_yeast-GEM')"
   ]
  },
  {
   "cell_type": "code",
   "execution_count": 6,
   "id": "4dfff566",
   "metadata": {},
   "outputs": [
    {
     "data": {
      "text/plain": [
       "{<Metabolite ala__L_c at 0x1560ff79668>: -72.0,\n",
       " <Metabolite cys__L_c at 0x1560ff846a0>: -6.0,\n",
       " <Metabolite asp__L_c at 0x1560ff7ec50>: -30.0,\n",
       " <Metabolite glu__L_c at 0x1560ff8b048>: -24.0,\n",
       " <Metabolite phe__L_c at 0x1560ff95f98>: -30.0,\n",
       " <Metabolite gly_c at 0x1560ff8be80>: -40.0,\n",
       " <Metabolite his__L_c at 0x1560ff91390>: -38.0,\n",
       " <Metabolite lys__L_c at 0x1560ff957f0>: -44.0,\n",
       " <Metabolite leu__L_c at 0x1560ff95358>: -72.0,\n",
       " <Metabolite met__L_c at 0x1560ff95c50>: -10.0,\n",
       " <Metabolite asn__L_c at 0x1560ff7e7f0>: -20.0,\n",
       " <Metabolite pro__L_c at 0x1560ff9b320>: -28.0,\n",
       " <Metabolite gln__L_c at 0x1560ff8bac8>: -8.0,\n",
       " <Metabolite arg__L_c at 0x1560ff7e400>: -12.0,\n",
       " <Metabolite ser__L_c at 0x1560ff9b940>: -32.0,\n",
       " <Metabolite thr__L_c at 0x1560ffa2128>: -32.0,\n",
       " <Metabolite val__L_c at 0x1560ffa2d68>: -62.0,\n",
       " <Metabolite trp__L_c at 0x1560ffa2518>: -6.0,\n",
       " <Metabolite tyr__L_c at 0x1560ffa27f0>: -12.0,\n",
       " <Metabolite pheme_m at 0x1560ff210f0>: -4.0,\n",
       " <Metabolite rHb_c at 0x156102cc9e8>: 1.0}"
      ]
     },
     "execution_count": 6,
     "metadata": {},
     "output_type": "execute_result"
    }
   ],
   "source": [
    "model.reactions.rHb.metabolites\n"
   ]
  },
  {
   "cell_type": "markdown",
   "id": "b0338806-6a66-484c-9676-cc4efa837955",
   "metadata": {},
   "source": [
    "# The composition of the medium"
   ]
  },
  {
   "cell_type": "markdown",
   "id": "4292767f-5583-4192-bfc5-4fcaf80a172d",
   "metadata": {},
   "source": [
    "Let's look at the default media composition"
   ]
  },
  {
   "cell_type": "code",
   "execution_count": 60,
   "id": "e0028921-af4b-479d-87c3-3c90ab096aa6",
   "metadata": {},
   "outputs": [
    {
     "data": {
      "text/plain": [
       "{'EX_nh4_e': 1000.0,\n",
       " 'EX_glc__D_e': 10.0,\n",
       " 'EX_h_e': 1000.0,\n",
       " 'EX_fe2_e': 1000.0,\n",
       " 'EX_o2_e': 1000.0,\n",
       " 'EX_pi_e': 1000.0,\n",
       " 'EX_k_e': 1000.0,\n",
       " 'EX_na1_e': 1000.0,\n",
       " 'EX_so4_e': 1000.0,\n",
       " 'EX_h2o_e': 1000.0,\n",
       " 'EX_cl_e': 1000.0,\n",
       " 'EX_cu2_e': 1000.0,\n",
       " 'EX_mn2_e': 1000.0,\n",
       " 'EX_zn2_e': 1000.0,\n",
       " 'EX_mg2_e': 1000.0,\n",
       " 'EX_ca2_e': 1000.0}"
      ]
     },
     "execution_count": 60,
     "metadata": {},
     "output_type": "execute_result"
    }
   ],
   "source": [
    "model.medium"
   ]
  },
  {
   "cell_type": "code",
   "execution_count": 63,
   "id": "cb71a4c6-33a0-413b-b7ba-f90cdb55dff6",
   "metadata": {},
   "outputs": [
    {
     "data": {
      "text/html": [
       "\n",
       "        <table>\n",
       "            <tr>\n",
       "                <td><strong>Reaction identifier</strong></td><td>EX_ac_e</td>\n",
       "            </tr><tr>\n",
       "                <td><strong>Name</strong></td><td>acetate exchange</td>\n",
       "            </tr><tr>\n",
       "                <td><strong>Memory address</strong></td>\n",
       "                <td>0x0156117faf28</td>\n",
       "            </tr><tr>\n",
       "                <td><strong>Stoichiometry</strong></td>\n",
       "                <td>\n",
       "                    <p style='text-align:right'>ac_e --></p>\n",
       "                    <p style='text-align:right'>acetate --></p>\n",
       "                </td>\n",
       "            </tr><tr>\n",
       "                <td><strong>GPR</strong></td><td></td>\n",
       "            </tr><tr>\n",
       "                <td><strong>Lower bound</strong></td><td>0.0</td>\n",
       "            </tr><tr>\n",
       "                <td><strong>Upper bound</strong></td><td>1000.0</td>\n",
       "            </tr>\n",
       "        </table>\n",
       "        "
      ],
      "text/plain": [
       "<Reaction EX_ac_e at 0x156117faf28>"
      ]
     },
     "execution_count": 63,
     "metadata": {},
     "output_type": "execute_result"
    }
   ],
   "source": [
    "model.reactions.EX_ac_e"
   ]
  },
  {
   "cell_type": "markdown",
   "id": "59825c5d-5ab5-432c-9471-1cfd8e5f94a4",
   "metadata": {},
   "source": [
    "**Template:**"
   ]
  },
  {
   "cell_type": "code",
   "execution_count": 64,
   "id": "5d5060c1-dac4-4a6d-b6f2-c2714c9d8cb3",
   "metadata": {},
   "outputs": [
    {
     "name": "stdout",
     "output_type": "stream",
     "text": [
      "Standard yeast maximum theoretical biomass productivity: 0.8637367930478773 /h\n",
      "Maximum theoretical productivity of heme 0.016333900695118374 [mmol gDW^-1 h^-1]\n",
      "Maximum theoretical yield of rHb: 0.0016333900695118374 [mmol-rHb / mmol-glucose]\n"
     ]
    }
   ],
   "source": [
    "medium = model.medium\n",
    "#model.add_boundary(model.metabolites.pheme_m, type='demand') # adds the exchange reaction for heme\n",
    "with model:\n",
    "    solution = model.optimize()\n",
    "    print(\"Standard yeast maximum theoretical biomass productivity:\", solution.fluxes['BIOMASS_yeast-GEM'], '/h')\n",
    "    model.medium = medium\n",
    "    model.objective = model.reactions.rHb\n",
    "    heme_production = model.optimize().objective_value\n",
    "    print(\"Maximum theoretical productivity of heme\", heme_production, '[mmol gDW^-1 h^-1]')\n",
    "    print(\"Maximum theoretical yield of rHb:\", heme_production / (-1 * model.reactions.EX_glc__D_e.flux), \"[mmol-rHb / mmol-glucose]\")"
   ]
  },
  {
   "cell_type": "code",
   "execution_count": null,
   "id": "df7680ad-906d-4445-b26b-4c0939a9d554",
   "metadata": {},
   "outputs": [],
   "source": [
    "with model:\n",
    "    solution = model.optimize()\n",
    "    print(\"Standard yeast maximum theoretical biomass productivity:\", solution.fluxes['BIOMASS_yeast-GEM'], '/h')\n",
    "    model.medium = medium\n",
    "    model.objective = model.reactions.rHb\n",
    "    heme_production = model.optimize().objective_value\n",
    "    print(\"Maximum theoretical productivity of heme\", heme_production, '[mmol gDW^-1 h^-1]')\n",
    "    print(\"Maximum theoretical yield of rHb:\", heme_production / (-1 * model.reactions.EX_glc__D_e.flux), \"[mmol-rHb / mmol-glucose]\")"
   ]
  },
  {
   "cell_type": "code",
   "execution_count": null,
   "id": "18b146d7",
   "metadata": {},
   "outputs": [],
   "source": []
  },
  {
   "cell_type": "markdown",
   "id": "1da63e62-daa5-4c61-85f3-ca0c56b6b151",
   "metadata": {},
   "source": [
    "# Optimizing growth and heme production at varying glucose concentrations"
   ]
  },
  {
   "cell_type": "code",
   "execution_count": 9,
   "id": "c1b69913-36a1-44e2-a565-fa8c73526e00",
   "metadata": {},
   "outputs": [
    {
     "name": "stderr",
     "output_type": "stream",
     "text": [
      "C:\\Users\\Rasso\\anaconda3\\envs\\carveme_env\\lib\\site-packages\\cobra\\util\\solver.py:554: UserWarning:\n",
      "\n",
      "Solver status is 'infeasible'.\n",
      "\n",
      "C:\\Users\\Rasso\\anaconda3\\envs\\carveme_env\\lib\\site-packages\\cobra\\util\\solver.py:554: UserWarning:\n",
      "\n",
      "Solver status is 'infeasible'.\n",
      "\n"
     ]
    },
    {
     "name": "stdout",
     "output_type": "stream",
     "text": [
      "Wall time: 4.83 s\n"
     ]
    }
   ],
   "source": [
    "%%time\n",
    "medium = model.medium\n",
    "#model.add_boundary(model.metabolites.pheme_m, type='demand') # adds the exchange reaction for heme\n",
    "x = [] #list to hold biomass values\n",
    "y = [] #list to hold  hemoglobin values\n",
    "tx = [] #list to hold time values for biomass\n",
    "ty = [] #list to hold time values for hemoglobin\n",
    "i = 0 #Counter\n",
    "with model:\n",
    "    while i < 1000: #Optimizes growth for increasing glucose values and stores values in vector x.\n",
    "        medium['EX_glc__D_e'] = i\n",
    "        tx.append(i) #Adds glucose concentration to a list\n",
    "        model.medium = medium\n",
    "        solution = model.optimize()\n",
    "        #print(\"Standard yeast maximum theoretical biomass productivity:\", solution.fluxes['BIOMASS_SC5_notrace'], '/h')\n",
    "        x.append(solution.fluxes['BIOMASS_yeast-GEM']) #may need to adjust biomass name depending on model\n",
    "        i = i + 25\n",
    "\n",
    "    #print(x)\n",
    "    #print(medium['EX_glc__D_e'])\n",
    "    i = 0   \n",
    "    while i < 1000: #Optimizes heme prod for increasing glucose values and stores values in vector y.\n",
    "        medium['EX_glc__D_e'] = i\n",
    "        ty.append(i) #adds glucose concentration to a list\n",
    "        model.medium = medium\n",
    "        model.objective = model.reactions.rHb #redirect to acctua hemoglobin reaction\n",
    "        heme_production = model.optimize().objective_value\n",
    "        #print(\"Standard yeast maximum theoretical productivity of heme \", heme_production, '[mmol gDW^-1 h^-1]')\n",
    "        y.append(heme_production)\n",
    "        i = i + 25\n",
    "    #print(y)\n",
    "    #brug evt: ny_vector = np.array(y) #siden \"y\" er en liste kan det maaske give problemer naar der skal plottes. Det her laver det np.array"
   ]
  },
  {
   "cell_type": "code",
   "execution_count": null,
   "id": "d99af4dd-ab7a-4104-954c-781808aaed21",
   "metadata": {},
   "outputs": [],
   "source": []
  },
  {
   "cell_type": "code",
   "execution_count": 108,
   "id": "a76f2e15",
   "metadata": {},
   "outputs": [],
   "source": [
    "o_bio = []\n",
    "to_bio = []\n",
    "o_rhb =[]\n",
    "to_rhb = []\n",
    "i = 0\n",
    "with model:\n",
    "    while i < 13: #Optimizes growth for increasing glucose values and stores values in vector x.\n",
    "        medium['EX_o2_e'] = i\n",
    "        to_bio.append(i) #Adds glucose concentration to a list\n",
    "        model.medium = medium\n",
    "        solution = model.optimize()\n",
    "        #print(\"Standard yeast maximum theoretical biomass productivity:\", solution.fluxes['BIOMASS_SC5_notrace'], '/h')\n",
    "        o_bio.append(solution.fluxes['BIOMASS_yeast-GEM']) #may need to adjust biomass name depending on model\n",
    "        i = i + 1\n",
    "        \n",
    "    i = 0.08   \n",
    "    while i < 13: #Optimizes heme prod for increasing glucose values and stores values in vector y.\n",
    "        medium['EX_glc__D_e'] = i\n",
    "        to_rhb.append(i) #adds glucose concentration to a list\n",
    "        model.medium = medium\n",
    "        model.objective = model.reactions.rHb #redirect to acctua hemoglobin reaction\n",
    "        heme_production = model.optimize().objective_value\n",
    "        #print(\"Standard yeast maximum theoretical productivity of heme \", heme_production, '[mmol gDW^-1 h^-1]')\n",
    "        o_rhb.append(heme_production)\n",
    "        i = i + 1"
   ]
  },
  {
   "cell_type": "code",
   "execution_count": 109,
   "id": "b560e117",
   "metadata": {},
   "outputs": [
    {
     "data": {
      "text/plain": [
       "Text(0, 0.5, 'Theoretical biomass productivity')"
      ]
     },
     "execution_count": 109,
     "metadata": {},
     "output_type": "execute_result"
    },
    {
     "data": {
      "image/png": "[encoded data removed]",
      "text/plain": [
       "<Figure size 432x288 with 1 Axes>"
      ]
     },
     "metadata": {
      "needs_background": "light"
     },
     "output_type": "display_data"
    }
   ],
   "source": [
    "o_bio = np.array(o_bio)\n",
    "to_bio = np.array(to_bio)\n",
    "plt.plot(to_bio,o_bio)\n",
    "plt.xlabel(\"Oxygen concentation i media\")\n",
    "plt.ylabel(\"Theoretical biomass productivity\")"
   ]
  },
  {
   "cell_type": "code",
   "execution_count": 110,
   "id": "902f6925",
   "metadata": {},
   "outputs": [
    {
     "data": {
      "text/plain": [
       "Text(0, 0.5, 'Theoretical rHb productivity')"
      ]
     },
     "execution_count": 110,
     "metadata": {},
     "output_type": "execute_result"
    },
    {
     "data": {
      "image/png": "[encoded data removed]",
      "text/plain": [
       "<Figure size 432x288 with 1 Axes>"
      ]
     },
     "metadata": {
      "needs_background": "light"
     },
     "output_type": "display_data"
    }
   ],
   "source": [
    "o_rhb = np.array(o_rhb)\n",
    "to_rhb = np.array(to_rhb)\n",
    "plt.plot(to_rhb,o_rhb)\n",
    "plt.xlabel(\"Oxygen concentation i media\")\n",
    "plt.ylabel(\"Theoretical rHb productivity\")"
   ]
  },
  {
   "cell_type": "code",
   "execution_count": 13,
   "id": "3bc5f4e8",
   "metadata": {},
   "outputs": [],
   "source": [
    "z_bio = []\n",
    "tz_bio = []\n",
    "z_rhb = []\n",
    "tz_rhb = []\n",
    "i = 0 \n",
    "with model:\n",
    "    while i < 1000: #Optimizes growth for increasing glucose values and stores values in vector x.\n",
    "        medium['EX_fe2_e'] = i\n",
    "        tz_bio.append(i) #Adds glucose concentration to a list\n",
    "        model.medium = medium\n",
    "        solution = model.optimize()\n",
    "        #print(\"Standard yeast maximum theoretical biomass productivity:\", solution.fluxes['BIOMASS_SC5_notrace'], '/h')\n",
    "        z_bio.append(solution.fluxes['BIOMASS_yeast-GEM']) #may need to adjust biomass name depending on model\n",
    "        i = i + 25\n",
    "\n",
    "    #print(x)\n",
    "    #print(medium['EX_glc__D_e'])\n",
    "    i = 0 \n",
    "    while i < 1000: #Optimizes heme prod for increasing glucose values and stores values in vector y.\n",
    "        medium['EX_fe2_e'] = i\n",
    "        tz_rhb.append(i) #adds glucose concentration to a list\n",
    "        model.medium = medium\n",
    "        model.objective = model.reactions.rHb #redirect to acctual hemoglobin reaction\n",
    "        heme_production = model.optimize().objective_value\n",
    "        #print(\"Standard yeast maximum theoretical productivity of heme \", heme_production, '[mmol gDW^-1 h^-1]')\n",
    "        z_rhb.append(heme_production)\n",
    "        i = i + 25"
   ]
  },
  {
   "cell_type": "markdown",
   "id": "ebcd481f-f7da-432c-934c-4665faadd430",
   "metadata": {},
   "source": [
    "The growth- and prod values are stored in lists x and y respectively"
   ]
  },
  {
   "cell_type": "code",
   "execution_count": 16,
   "id": "904796d6-7925-4364-8874-7865aa88d083",
   "metadata": {},
   "outputs": [],
   "source": [
    "x = np.array(x)\n",
    "tx = np.array(tx)\n",
    "y = np.array(y)\n",
    "tz = np.array(ty)\n",
    "z_bio = np.array(z_bio)\n",
    "tz_bio = np.array(tz_bio)\n",
    "z_rhb = np.array(z_rhb)\n",
    "tz_rhb = np.array(tz_rhb)"
   ]
  },
  {
   "cell_type": "code",
   "execution_count": 17,
   "id": "8bf3f007",
   "metadata": {},
   "outputs": [
    {
     "name": "stdout",
     "output_type": "stream",
     "text": [
      "40 40 40\n"
     ]
    }
   ],
   "source": [
    "print(len(tx),len(tz),len(ty))"
   ]
  },
  {
   "cell_type": "code",
   "execution_count": 18,
   "id": "3e8abaed",
   "metadata": {},
   "outputs": [
    {
     "data": {
      "text/plain": [
       "Text(0, 0.5, 'Theoretical biomass productivity')"
      ]
     },
     "execution_count": 18,
     "metadata": {},
     "output_type": "execute_result"
    },
    {
     "data": {
      "image/png": "[encoded data removed]",
      "text/plain": [
       "<Figure size 432x288 with 1 Axes>"
      ]
     },
     "metadata": {
      "needs_background": "light"
     },
     "output_type": "display_data"
    }
   ],
   "source": [
    "plt.plot(tx,x)\n",
    "plt.xlabel(\"Glucose concentation i media\")\n",
    "plt.ylabel(\"Theoretical biomass productivity\")"
   ]
  },
  {
   "cell_type": "code",
   "execution_count": 19,
   "id": "011da9c4",
   "metadata": {},
   "outputs": [
    {
     "data": {
      "text/plain": [
       "Text(0, 0.5, 'Theoretical hemoglobin productivity')"
      ]
     },
     "execution_count": 19,
     "metadata": {},
     "output_type": "execute_result"
    },
    {
     "data": {
      "image/png": "[encoded data removed]",
      "text/plain": [
       "<Figure size 432x288 with 1 Axes>"
      ]
     },
     "metadata": {
      "needs_background": "light"
     },
     "output_type": "display_data"
    }
   ],
   "source": [
    "plt.plot(ty,y)\n",
    "plt.xlabel(\"Glucose concentation i media\")\n",
    "plt.ylabel(\"Theoretical hemoglobin productivity\")"
   ]
  },
  {
   "cell_type": "code",
   "execution_count": 20,
   "id": "1b9cb1a0",
   "metadata": {},
   "outputs": [
    {
     "data": {
      "text/plain": [
       "Text(0, 0.5, 'Theoretical biomass productivity')"
      ]
     },
     "execution_count": 20,
     "metadata": {},
     "output_type": "execute_result"
    },
    {
     "data": {
      "image/png": "[encoded data removed]",
      "text/plain": [
       "<Figure size 432x288 with 1 Axes>"
      ]
     },
     "metadata": {
      "needs_background": "light"
     },
     "output_type": "display_data"
    }
   ],
   "source": [
    "plt.plot(tz_bio,z_bio)\n",
    "plt.xlabel(\"Fe2 concentation i media\")\n",
    "plt.ylabel(\"Theoretical biomass productivity\")"
   ]
  },
  {
   "cell_type": "code",
   "execution_count": 21,
   "id": "2a2c5885",
   "metadata": {},
   "outputs": [
    {
     "data": {
      "text/plain": [
       "Text(0, 0.5, 'Theoretical hemoglobin productivity')"
      ]
     },
     "execution_count": 21,
     "metadata": {},
     "output_type": "execute_result"
    },
    {
     "data": {
      "image/png": "[encoded data removed]",
      "text/plain": [
       "<Figure size 432x288 with 1 Axes>"
      ]
     },
     "metadata": {
      "needs_background": "light"
     },
     "output_type": "display_data"
    }
   ],
   "source": [
    "plt.plot(tz_rhb,z_rhb)\n",
    "plt.xlabel(\"Fe2 concentation i media\")\n",
    "plt.ylabel(\"Theoretical hemoglobin productivity\")"
   ]
  },
  {
   "cell_type": "markdown",
   "id": "f5bb705c",
   "metadata": {},
   "source": [
    "# Plots of Hemoglobin production and growth"
   ]
  },
  {
   "cell_type": "code",
   "execution_count": 22,
   "id": "87dea752-cbfd-4d8f-864d-99d7519158ad",
   "metadata": {},
   "outputs": [
    {
     "data": {
      "text/plain": [
       "<function matplotlib.pyplot.show(close=None, block=None)>"
      ]
     },
     "execution_count": 22,
     "metadata": {},
     "output_type": "execute_result"
    },
    {
     "data": {
      "image/png": "[encoded data removed]",
      "text/plain": [
       "<Figure size 432x288 with 1 Axes>"
      ]
     },
     "metadata": {
      "needs_background": "light"
     },
     "output_type": "display_data"
    }
   ],
   "source": [
    "plt.plot(x)\n",
    "plt.plot(y)\n",
    "plt.show"
   ]
  },
  {
   "cell_type": "code",
   "execution_count": null,
   "id": "2e4659eb",
   "metadata": {},
   "outputs": [],
   "source": []
  },
  {
   "cell_type": "code",
   "execution_count": 112,
   "id": "0dabb190-e614-4ee4-a5fe-b6ad21595e71",
   "metadata": {},
   "outputs": [],
   "source": [
    "from cameo.flux_analysis.analysis import phenotypic_phase_plane \n",
    "plotter = PlotlyPlotter() \n",
    "production_envelope_DW = phenotypic_phase_plane(model,  \n",
    "                                             variables=[model.reactions.GROWTH], \n",
    "                                             objective=model.metabolites.rHb_c) \n"
   ]
  },
  {
   "cell_type": "code",
   "execution_count": 115,
   "id": "0aea563c",
   "metadata": {},
   "outputs": [
    {
     "name": "stdout",
     "output_type": "stream",
     "text": [
      "0.8637367930480663\n"
     ]
    },
    {
     "data": {
      "application/vnd.plotly.v1+json": {
       "config": {
        "linkText": "Export to plot.ly",
        "plotlyServerURL": "https://plot.ly",
        "showLink": false
       },
       "data": [
        {
         "fill": "toself",
         "fillcolor": "#B3E2CD",
         "hoverinfo": "none",
         "marker": {
          "line": {
           "color": "#B3E2CD"
          },
          "opacity": 0.3
         },
         "mode": "lines",
         "name": "WT",
         "opacity": 0.3,
         "type": "scatter",
         "x": [
          0,
          0.045459831213048287,
          0.09091966242609657,
          0.13637949363914487,
          0.18183932485219315,
          0.22729915606524143,
          0.27275898727828973,
          0.318218818491338,
          0.3636786497043863,
          0.4091384809174346,
          0.45459831213048285,
          0.5000581433435312,
          0.5455179745565795,
          0.5909778057696278,
          0.636437636982676,
          0.6818974681957243,
          0.7273572994087726,
          0.7728171306218209,
          0.8182769618348692,
          0.8637367930479175,
          0.8637367930479175,
          0.8182769618348692,
          0.7728171306218209,
          0.7273572994087726,
          0.6818974681957243,
          0.636437636982676,
          0.5909778057696278,
          0.5455179745565795,
          0.5000581433435312,
          0.45459831213048285,
          0.4091384809174346,
          0.3636786497043863,
          0.318218818491338,
          0.27275898727828973,
          0.22729915606524143,
          0.18183932485219315,
          0.13637949363914487,
          0.09091966242609657,
          0.045459831213048287,
          0,
          0,
          0
         ],
         "y": [
          0,
          0,
          0,
          0,
          0,
          0,
          0,
          0,
          0,
          0,
          0,
          0,
          0,
          0,
          0,
          0,
          0,
          0,
          0,
          0,
          0,
          0.0009011550736291556,
          0.0018023101472609635,
          0.0027034652208823336,
          0.0036046202945160914,
          0.004505775368138992,
          0.0054069304417715906,
          0.006308072634488828,
          0.007169833364705559,
          0.00802621951789079,
          0.008882605671083892,
          0.009738991824271268,
          0.010595377977456888,
          0.011451764130649744,
          0.012297203498428248,
          0.013126483207444906,
          0.013941659459677522,
          0.014739073204833732,
          0.015536487229141053,
          0.016333900695121376,
          0,
          0.016333900695121376
         ]
        }
       ],
       "layout": {
        "height": 400,
        "template": {
         "data": {
          "bar": [
           {
            "error_x": {
             "color": "#2a3f5f"
            },
            "error_y": {
             "color": "#2a3f5f"
            },
            "marker": {
             "line": {
              "color": "#E5ECF6",
              "width": 0.5
             },
             "pattern": {
              "fillmode": "overlay",
              "size": 10,
              "solidity": 0.2
             }
            },
            "type": "bar"
           }
          ],
          "barpolar": [
           {
            "marker": {
             "line": {
              "color": "#E5ECF6",
              "width": 0.5
             },
             "pattern": {
              "fillmode": "overlay",
              "size": 10,
              "solidity": 0.2
             }
            },
            "type": "barpolar"
           }
          ],
          "carpet": [
           {
            "aaxis": {
             "endlinecolor": "#2a3f5f",
             "gridcolor": "white",
             "linecolor": "white",
             "minorgridcolor": "white",
             "startlinecolor": "#2a3f5f"
            },
            "baxis": {
             "endlinecolor": "#2a3f5f",
             "gridcolor": "white",
             "linecolor": "white",
             "minorgridcolor": "white",
             "startlinecolor": "#2a3f5f"
            },
            "type": "carpet"
           }
          ],
          "choropleth": [
           {
            "colorbar": {
             "outlinewidth": 0,
             "ticks": ""
            },
            "type": "choropleth"
           }
          ],
          "contour": [
           {
            "colorbar": {
             "outlinewidth": 0,
             "ticks": ""
            },
            "colorscale": [
             [
              0,
              "#0d0887"
             ],
             [
              0.1111111111111111,
              "#46039f"
             ],
             [
              0.2222222222222222,
              "#7201a8"
             ],
             [
              0.3333333333333333,
              "#9c179e"
             ],
             [
              0.4444444444444444,
              "#bd3786"
             ],
             [
              0.5555555555555556,
              "#d8576b"
             ],
             [
              0.6666666666666666,
              "#ed7953"
             ],
             [
              0.7777777777777778,
              "#fb9f3a"
             ],
             [
              0.8888888888888888,
              "#fdca26"
             ],
             [
              1,
              "#f0f921"
             ]
            ],
            "type": "contour"
           }
          ],
          "contourcarpet": [
           {
            "colorbar": {
             "outlinewidth": 0,
             "ticks": ""
            },
            "type": "contourcarpet"
           }
          ],
          "heatmap": [
           {
            "colorbar": {
             "outlinewidth": 0,
             "ticks": ""
            },
            "colorscale": [
             [
              0,
              "#0d0887"
             ],
             [
              0.1111111111111111,
              "#46039f"
             ],
             [
              0.2222222222222222,
              "#7201a8"
             ],
             [
              0.3333333333333333,
              "#9c179e"
             ],
             [
              0.4444444444444444,
              "#bd3786"
             ],
             [
              0.5555555555555556,
              "#d8576b"
             ],
             [
              0.6666666666666666,
              "#ed7953"
             ],
             [
              0.7777777777777778,
              "#fb9f3a"
             ],
             [
              0.8888888888888888,
              "#fdca26"
             ],
             [
              1,
              "#f0f921"
             ]
            ],
            "type": "heatmap"
           }
          ],
          "heatmapgl": [
           {
            "colorbar": {
             "outlinewidth": 0,
             "ticks": ""
            },
            "colorscale": [
             [
              0,
              "#0d0887"
             ],
             [
              0.1111111111111111,
              "#46039f"
             ],
             [
              0.2222222222222222,
              "#7201a8"
             ],
             [
              0.3333333333333333,
              "#9c179e"
             ],
             [
              0.4444444444444444,
              "#bd3786"
             ],
             [
              0.5555555555555556,
              "#d8576b"
             ],
             [
              0.6666666666666666,
              "#ed7953"
             ],
             [
              0.7777777777777778,
              "#fb9f3a"
             ],
             [
              0.8888888888888888,
              "#fdca26"
             ],
             [
              1,
              "#f0f921"
             ]
            ],
            "type": "heatmapgl"
           }
          ],
          "histogram": [
           {
            "marker": {
             "pattern": {
              "fillmode": "overlay",
              "size": 10,
              "solidity": 0.2
             }
            },
            "type": "histogram"
           }
          ],
          "histogram2d": [
           {
            "colorbar": {
             "outlinewidth": 0,
             "ticks": ""
            },
            "colorscale": [
             [
              0,
              "#0d0887"
             ],
             [
              0.1111111111111111,
              "#46039f"
             ],
             [
              0.2222222222222222,
              "#7201a8"
             ],
             [
              0.3333333333333333,
              "#9c179e"
             ],
             [
              0.4444444444444444,
              "#bd3786"
             ],
             [
              0.5555555555555556,
              "#d8576b"
             ],
             [
              0.6666666666666666,
              "#ed7953"
             ],
             [
              0.7777777777777778,
              "#fb9f3a"
             ],
             [
              0.8888888888888888,
              "#fdca26"
             ],
             [
              1,
              "#f0f921"
             ]
            ],
            "type": "histogram2d"
           }
          ],
          "histogram2dcontour": [
           {
            "colorbar": {
             "outlinewidth": 0,
             "ticks": ""
            },
            "colorscale": [
             [
              0,
              "#0d0887"
             ],
             [
              0.1111111111111111,
              "#46039f"
             ],
             [
              0.2222222222222222,
              "#7201a8"
             ],
             [
              0.3333333333333333,
              "#9c179e"
             ],
             [
              0.4444444444444444,
              "#bd3786"
             ],
             [
              0.5555555555555556,
              "#d8576b"
             ],
             [
              0.6666666666666666,
              "#ed7953"
             ],
             [
              0.7777777777777778,
              "#fb9f3a"
             ],
             [
              0.8888888888888888,
              "#fdca26"
             ],
             [
              1,
              "#f0f921"
             ]
            ],
            "type": "histogram2dcontour"
           }
          ],
          "mesh3d": [
           {
            "colorbar": {
             "outlinewidth": 0,
             "ticks": ""
            },
            "type": "mesh3d"
           }
          ],
          "parcoords": [
           {
            "line": {
             "colorbar": {
              "outlinewidth": 0,
              "ticks": ""
             }
            },
            "type": "parcoords"
           }
          ],
          "pie": [
           {
            "automargin": true,
            "type": "pie"
           }
          ],
          "scatter": [
           {
            "marker": {
             "colorbar": {
              "outlinewidth": 0,
              "ticks": ""
             }
            },
            "type": "scatter"
           }
          ],
          "scatter3d": [
           {
            "line": {
             "colorbar": {
              "outlinewidth": 0,
              "ticks": ""
             }
            },
            "marker": {
             "colorbar": {
              "outlinewidth": 0,
              "ticks": ""
             }
            },
            "type": "scatter3d"
           }
          ],
          "scattercarpet": [
           {
            "marker": {
             "colorbar": {
              "outlinewidth": 0,
              "ticks": ""
             }
            },
            "type": "scattercarpet"
           }
          ],
          "scattergeo": [
           {
            "marker": {
             "colorbar": {
              "outlinewidth": 0,
              "ticks": ""
             }
            },
            "type": "scattergeo"
           }
          ],
          "scattergl": [
           {
            "marker": {
             "colorbar": {
              "outlinewidth": 0,
              "ticks": ""
             }
            },
            "type": "scattergl"
           }
          ],
          "scattermapbox": [
           {
            "marker": {
             "colorbar": {
              "outlinewidth": 0,
              "ticks": ""
             }
            },
            "type": "scattermapbox"
           }
          ],
          "scatterpolar": [
           {
            "marker": {
             "colorbar": {
              "outlinewidth": 0,
              "ticks": ""
             }
            },
            "type": "scatterpolar"
           }
          ],
          "scatterpolargl": [
           {
            "marker": {
             "colorbar": {
              "outlinewidth": 0,
              "ticks": ""
             }
            },
            "type": "scatterpolargl"
           }
          ],
          "scatterternary": [
           {
            "marker": {
             "colorbar": {
              "outlinewidth": 0,
              "ticks": ""
             }
            },
            "type": "scatterternary"
           }
          ],
          "surface": [
           {
            "colorbar": {
             "outlinewidth": 0,
             "ticks": ""
            },
            "colorscale": [
             [
              0,
              "#0d0887"
             ],
             [
              0.1111111111111111,
              "#46039f"
             ],
             [
              0.2222222222222222,
              "#7201a8"
             ],
             [
              0.3333333333333333,
              "#9c179e"
             ],
             [
              0.4444444444444444,
              "#bd3786"
             ],
             [
              0.5555555555555556,
              "#d8576b"
             ],
             [
              0.6666666666666666,
              "#ed7953"
             ],
             [
              0.7777777777777778,
              "#fb9f3a"
             ],
             [
              0.8888888888888888,
              "#fdca26"
             ],
             [
              1,
              "#f0f921"
             ]
            ],
            "type": "surface"
           }
          ],
          "table": [
           {
            "cells": {
             "fill": {
              "color": "#EBF0F8"
             },
             "line": {
              "color": "white"
             }
            },
            "header": {
             "fill": {
              "color": "#C8D4E3"
             },
             "line": {
              "color": "white"
             }
            },
            "type": "table"
           }
          ]
         },
         "layout": {
          "annotationdefaults": {
           "arrowcolor": "#2a3f5f",
           "arrowhead": 0,
           "arrowwidth": 1
          },
          "autotypenumbers": "strict",
          "coloraxis": {
           "colorbar": {
            "outlinewidth": 0,
            "ticks": ""
           }
          },
          "colorscale": {
           "diverging": [
            [
             0,
             "#8e0152"
            ],
            [
             0.1,
             "#c51b7d"
            ],
            [
             0.2,
             "#de77ae"
            ],
            [
             0.3,
             "#f1b6da"
            ],
            [
             0.4,
             "#fde0ef"
            ],
            [
             0.5,
             "#f7f7f7"
            ],
            [
             0.6,
             "#e6f5d0"
            ],
            [
             0.7,
             "#b8e186"
            ],
            [
             0.8,
             "#7fbc41"
            ],
            [
             0.9,
             "#4d9221"
            ],
            [
             1,
             "#276419"
            ]
           ],
           "sequential": [
            [
             0,
             "#0d0887"
            ],
            [
             0.1111111111111111,
             "#46039f"
            ],
            [
             0.2222222222222222,
             "#7201a8"
            ],
            [
             0.3333333333333333,
             "#9c179e"
            ],
            [
             0.4444444444444444,
             "#bd3786"
            ],
            [
             0.5555555555555556,
             "#d8576b"
            ],
            [
             0.6666666666666666,
             "#ed7953"
            ],
            [
             0.7777777777777778,
             "#fb9f3a"
            ],
            [
             0.8888888888888888,
             "#fdca26"
            ],
            [
             1,
             "#f0f921"
            ]
           ],
           "sequentialminus": [
            [
             0,
             "#0d0887"
            ],
            [
             0.1111111111111111,
             "#46039f"
            ],
            [
             0.2222222222222222,
             "#7201a8"
            ],
            [
             0.3333333333333333,
             "#9c179e"
            ],
            [
             0.4444444444444444,
             "#bd3786"
            ],
            [
             0.5555555555555556,
             "#d8576b"
            ],
            [
             0.6666666666666666,
             "#ed7953"
            ],
            [
             0.7777777777777778,
             "#fb9f3a"
            ],
            [
             0.8888888888888888,
             "#fdca26"
            ],
            [
             1,
             "#f0f921"
            ]
           ]
          },
          "colorway": [
           "#636efa",
           "#EF553B",
           "#00cc96",
           "#ab63fa",
           "#FFA15A",
           "#19d3f3",
           "#FF6692",
           "#B6E880",
           "#FF97FF",
           "#FECB52"
          ],
          "font": {
           "color": "#2a3f5f"
          },
          "geo": {
           "bgcolor": "white",
           "lakecolor": "white",
           "landcolor": "#E5ECF6",
           "showlakes": true,
           "showland": true,
           "subunitcolor": "white"
          },
          "hoverlabel": {
           "align": "left"
          },
          "hovermode": "closest",
          "mapbox": {
           "style": "light"
          },
          "paper_bgcolor": "white",
          "plot_bgcolor": "#E5ECF6",
          "polar": {
           "angularaxis": {
            "gridcolor": "white",
            "linecolor": "white",
            "ticks": ""
           },
           "bgcolor": "#E5ECF6",
           "radialaxis": {
            "gridcolor": "white",
            "linecolor": "white",
            "ticks": ""
           }
          },
          "scene": {
           "xaxis": {
            "backgroundcolor": "#E5ECF6",
            "gridcolor": "white",
            "gridwidth": 2,
            "linecolor": "white",
            "showbackground": true,
            "ticks": "",
            "zerolinecolor": "white"
           },
           "yaxis": {
            "backgroundcolor": "#E5ECF6",
            "gridcolor": "white",
            "gridwidth": 2,
            "linecolor": "white",
            "showbackground": true,
            "ticks": "",
            "zerolinecolor": "white"
           },
           "zaxis": {
            "backgroundcolor": "#E5ECF6",
            "gridcolor": "white",
            "gridwidth": 2,
            "linecolor": "white",
            "showbackground": true,
            "ticks": "",
            "zerolinecolor": "white"
           }
          },
          "shapedefaults": {
           "line": {
            "color": "#2a3f5f"
           }
          },
          "ternary": {
           "aaxis": {
            "gridcolor": "white",
            "linecolor": "white",
            "ticks": ""
           },
           "baxis": {
            "gridcolor": "white",
            "linecolor": "white",
            "ticks": ""
           },
           "bgcolor": "#E5ECF6",
           "caxis": {
            "gridcolor": "white",
            "linecolor": "white",
            "ticks": ""
           }
          },
          "title": {
           "x": 0.05
          },
          "xaxis": {
           "automargin": true,
           "gridcolor": "white",
           "linecolor": "white",
           "ticks": "",
           "title": {
            "standoff": 15
           },
           "zerolinecolor": "white",
           "zerolinewidth": 2
          },
          "yaxis": {
           "automargin": true,
           "gridcolor": "white",
           "linecolor": "white",
           "ticks": "",
           "title": {
            "standoff": 15
           },
           "zerolinecolor": "white",
           "zerolinewidth": 2
          }
         }
        },
        "title": {
         "text": "Phenotypic Phase Plane (flux)"
        },
        "width": 700,
        "xaxis": {
         "autorange": true,
         "range": [
          0,
          0.8637367930479175
         ],
         "title": {
          "text": "GROWTH: biomass_c -->  [mmol gDW^-1 h^-1]"
         },
         "type": "linear"
        },
        "yaxis": {
         "autorange": true,
         "range": [
          -0.0009074389275067432,
          0.017241339622628117
         ],
         "title": {
          "text": "DM_rHb_c: rHb_c -->  [mmol gDW^-1 h^-1]"
         },
         "type": "linear"
        }
       }
      },
      "image/png": "[encoded data removed]",
      "text/html": [
       "<div>                            <div id=\"7f21edec-8376-4985-8e12-5244e0df5053\" class=\"plotly-graph-div\" style=\"height:400px; width:700px;\"></div>            <script type=\"text/javascript\">                require([\"plotly\"], function(Plotly) {                    window.PLOTLYENV=window.PLOTLYENV || {};                                    if (document.getElementById(\"7f21edec-8376-4985-8e12-5244e0df5053\")) {                    Plotly.newPlot(                        \"7f21edec-8376-4985-8e12-5244e0df5053\",                        [{\"fill\":\"toself\",\"fillcolor\":\"#B3E2CD\",\"hoverinfo\":\"none\",\"marker\":{\"line\":{\"color\":\"#B3E2CD\"},\"opacity\":0.3},\"mode\":\"lines\",\"name\":\"WT\",\"opacity\":0.3,\"type\":\"scatter\",\"x\":[0.0,0.045459831213048287,0.09091966242609657,0.13637949363914487,0.18183932485219315,0.22729915606524143,0.27275898727828973,0.318218818491338,0.3636786497043863,0.4091384809174346,0.45459831213048285,0.5000581433435312,0.5455179745565795,0.5909778057696278,0.636437636982676,0.6818974681957243,0.7273572994087726,0.7728171306218209,0.8182769618348692,0.8637367930479175,0.8637367930479175,0.8182769618348692,0.7728171306218209,0.7273572994087726,0.6818974681957243,0.636437636982676,0.5909778057696278,0.5455179745565795,0.5000581433435312,0.45459831213048285,0.4091384809174346,0.3636786497043863,0.318218818491338,0.27275898727828973,0.22729915606524143,0.18183932485219315,0.13637949363914487,0.09091966242609657,0.045459831213048287,0.0,0.0,0.0],\"y\":[0.0,0.0,0.0,0.0,0.0,0.0,0.0,0.0,0.0,0.0,0.0,0.0,0.0,0.0,0.0,0.0,0.0,0.0,0.0,0.0,0.0,0.0009011550736291556,0.0018023101472609635,0.0027034652208823336,0.0036046202945160914,0.004505775368138992,0.0054069304417715906,0.006308072634488828,0.007169833364705559,0.00802621951789079,0.008882605671083892,0.009738991824271268,0.010595377977456888,0.011451764130649744,0.012297203498428248,0.013126483207444906,0.013941659459677522,0.014739073204833732,0.015536487229141053,0.016333900695121376,0.0,0.016333900695121376]}],                        {\"height\":400,\"template\":{\"data\":{\"bar\":[{\"error_x\":{\"color\":\"#2a3f5f\"},\"error_y\":{\"color\":\"#2a3f5f\"},\"marker\":{\"line\":{\"color\":\"#E5ECF6\",\"width\":0.5},\"pattern\":{\"fillmode\":\"overlay\",\"size\":10,\"solidity\":0.2}},\"type\":\"bar\"}],\"barpolar\":[{\"marker\":{\"line\":{\"color\":\"#E5ECF6\",\"width\":0.5},\"pattern\":{\"fillmode\":\"overlay\",\"size\":10,\"solidity\":0.2}},\"type\":\"barpolar\"}],\"carpet\":[{\"aaxis\":{\"endlinecolor\":\"#2a3f5f\",\"gridcolor\":\"white\",\"linecolor\":\"white\",\"minorgridcolor\":\"white\",\"startlinecolor\":\"#2a3f5f\"},\"baxis\":{\"endlinecolor\":\"#2a3f5f\",\"gridcolor\":\"white\",\"linecolor\":\"white\",\"minorgridcolor\":\"white\",\"startlinecolor\":\"#2a3f5f\"},\"type\":\"carpet\"}],\"choropleth\":[{\"colorbar\":{\"outlinewidth\":0,\"ticks\":\"\"},\"type\":\"choropleth\"}],\"contour\":[{\"colorbar\":{\"outlinewidth\":0,\"ticks\":\"\"},\"colorscale\":[[0.0,\"#0d0887\"],[0.1111111111111111,\"#46039f\"],[0.2222222222222222,\"#7201a8\"],[0.3333333333333333,\"#9c179e\"],[0.4444444444444444,\"#bd3786\"],[0.5555555555555556,\"#d8576b\"],[0.6666666666666666,\"#ed7953\"],[0.7777777777777778,\"#fb9f3a\"],[0.8888888888888888,\"#fdca26\"],[1.0,\"#f0f921\"]],\"type\":\"contour\"}],\"contourcarpet\":[{\"colorbar\":{\"outlinewidth\":0,\"ticks\":\"\"},\"type\":\"contourcarpet\"}],\"heatmap\":[{\"colorbar\":{\"outlinewidth\":0,\"ticks\":\"\"},\"colorscale\":[[0.0,\"#0d0887\"],[0.1111111111111111,\"#46039f\"],[0.2222222222222222,\"#7201a8\"],[0.3333333333333333,\"#9c179e\"],[0.4444444444444444,\"#bd3786\"],[0.5555555555555556,\"#d8576b\"],[0.6666666666666666,\"#ed7953\"],[0.7777777777777778,\"#fb9f3a\"],[0.8888888888888888,\"#fdca26\"],[1.0,\"#f0f921\"]],\"type\":\"heatmap\"}],\"heatmapgl\":[{\"colorbar\":{\"outlinewidth\":0,\"ticks\":\"\"},\"colorscale\":[[0.0,\"#0d0887\"],[0.1111111111111111,\"#46039f\"],[0.2222222222222222,\"#7201a8\"],[0.3333333333333333,\"#9c179e\"],[0.4444444444444444,\"#bd3786\"],[0.5555555555555556,\"#d8576b\"],[0.6666666666666666,\"#ed7953\"],[0.7777777777777778,\"#fb9f3a\"],[0.8888888888888888,\"#fdca26\"],[1.0,\"#f0f921\"]],\"type\":\"heatmapgl\"}],\"histogram\":[{\"marker\":{\"pattern\":{\"fillmode\":\"overlay\",\"size\":10,\"solidity\":0.2}},\"type\":\"histogram\"}],\"histogram2d\":[{\"colorbar\":{\"outlinewidth\":0,\"ticks\":\"\"},\"colorscale\":[[0.0,\"#0d0887\"],[0.1111111111111111,\"#46039f\"],[0.2222222222222222,\"#7201a8\"],[0.3333333333333333,\"#9c179e\"],[0.4444444444444444,\"#bd3786\"],[0.5555555555555556,\"#d8576b\"],[0.6666666666666666,\"#ed7953\"],[0.7777777777777778,\"#fb9f3a\"],[0.8888888888888888,\"#fdca26\"],[1.0,\"#f0f921\"]],\"type\":\"histogram2d\"}],\"histogram2dcontour\":[{\"colorbar\":{\"outlinewidth\":0,\"ticks\":\"\"},\"colorscale\":[[0.0,\"#0d0887\"],[0.1111111111111111,\"#46039f\"],[0.2222222222222222,\"#7201a8\"],[0.3333333333333333,\"#9c179e\"],[0.4444444444444444,\"#bd3786\"],[0.5555555555555556,\"#d8576b\"],[0.6666666666666666,\"#ed7953\"],[0.7777777777777778,\"#fb9f3a\"],[0.8888888888888888,\"#fdca26\"],[1.0,\"#f0f921\"]],\"type\":\"histogram2dcontour\"}],\"mesh3d\":[{\"colorbar\":{\"outlinewidth\":0,\"ticks\":\"\"},\"type\":\"mesh3d\"}],\"parcoords\":[{\"line\":{\"colorbar\":{\"outlinewidth\":0,\"ticks\":\"\"}},\"type\":\"parcoords\"}],\"pie\":[{\"automargin\":true,\"type\":\"pie\"}],\"scatter\":[{\"marker\":{\"colorbar\":{\"outlinewidth\":0,\"ticks\":\"\"}},\"type\":\"scatter\"}],\"scatter3d\":[{\"line\":{\"colorbar\":{\"outlinewidth\":0,\"ticks\":\"\"}},\"marker\":{\"colorbar\":{\"outlinewidth\":0,\"ticks\":\"\"}},\"type\":\"scatter3d\"}],\"scattercarpet\":[{\"marker\":{\"colorbar\":{\"outlinewidth\":0,\"ticks\":\"\"}},\"type\":\"scattercarpet\"}],\"scattergeo\":[{\"marker\":{\"colorbar\":{\"outlinewidth\":0,\"ticks\":\"\"}},\"type\":\"scattergeo\"}],\"scattergl\":[{\"marker\":{\"colorbar\":{\"outlinewidth\":0,\"ticks\":\"\"}},\"type\":\"scattergl\"}],\"scattermapbox\":[{\"marker\":{\"colorbar\":{\"outlinewidth\":0,\"ticks\":\"\"}},\"type\":\"scattermapbox\"}],\"scatterpolar\":[{\"marker\":{\"colorbar\":{\"outlinewidth\":0,\"ticks\":\"\"}},\"type\":\"scatterpolar\"}],\"scatterpolargl\":[{\"marker\":{\"colorbar\":{\"outlinewidth\":0,\"ticks\":\"\"}},\"type\":\"scatterpolargl\"}],\"scatterternary\":[{\"marker\":{\"colorbar\":{\"outlinewidth\":0,\"ticks\":\"\"}},\"type\":\"scatterternary\"}],\"surface\":[{\"colorbar\":{\"outlinewidth\":0,\"ticks\":\"\"},\"colorscale\":[[0.0,\"#0d0887\"],[0.1111111111111111,\"#46039f\"],[0.2222222222222222,\"#7201a8\"],[0.3333333333333333,\"#9c179e\"],[0.4444444444444444,\"#bd3786\"],[0.5555555555555556,\"#d8576b\"],[0.6666666666666666,\"#ed7953\"],[0.7777777777777778,\"#fb9f3a\"],[0.8888888888888888,\"#fdca26\"],[1.0,\"#f0f921\"]],\"type\":\"surface\"}],\"table\":[{\"cells\":{\"fill\":{\"color\":\"#EBF0F8\"},\"line\":{\"color\":\"white\"}},\"header\":{\"fill\":{\"color\":\"#C8D4E3\"},\"line\":{\"color\":\"white\"}},\"type\":\"table\"}]},\"layout\":{\"annotationdefaults\":{\"arrowcolor\":\"#2a3f5f\",\"arrowhead\":0,\"arrowwidth\":1},\"autotypenumbers\":\"strict\",\"coloraxis\":{\"colorbar\":{\"outlinewidth\":0,\"ticks\":\"\"}},\"colorscale\":{\"diverging\":[[0,\"#8e0152\"],[0.1,\"#c51b7d\"],[0.2,\"#de77ae\"],[0.3,\"#f1b6da\"],[0.4,\"#fde0ef\"],[0.5,\"#f7f7f7\"],[0.6,\"#e6f5d0\"],[0.7,\"#b8e186\"],[0.8,\"#7fbc41\"],[0.9,\"#4d9221\"],[1,\"#276419\"]],\"sequential\":[[0.0,\"#0d0887\"],[0.1111111111111111,\"#46039f\"],[0.2222222222222222,\"#7201a8\"],[0.3333333333333333,\"#9c179e\"],[0.4444444444444444,\"#bd3786\"],[0.5555555555555556,\"#d8576b\"],[0.6666666666666666,\"#ed7953\"],[0.7777777777777778,\"#fb9f3a\"],[0.8888888888888888,\"#fdca26\"],[1.0,\"#f0f921\"]],\"sequentialminus\":[[0.0,\"#0d0887\"],[0.1111111111111111,\"#46039f\"],[0.2222222222222222,\"#7201a8\"],[0.3333333333333333,\"#9c179e\"],[0.4444444444444444,\"#bd3786\"],[0.5555555555555556,\"#d8576b\"],[0.6666666666666666,\"#ed7953\"],[0.7777777777777778,\"#fb9f3a\"],[0.8888888888888888,\"#fdca26\"],[1.0,\"#f0f921\"]]},\"colorway\":[\"#636efa\",\"#EF553B\",\"#00cc96\",\"#ab63fa\",\"#FFA15A\",\"#19d3f3\",\"#FF6692\",\"#B6E880\",\"#FF97FF\",\"#FECB52\"],\"font\":{\"color\":\"#2a3f5f\"},\"geo\":{\"bgcolor\":\"white\",\"lakecolor\":\"white\",\"landcolor\":\"#E5ECF6\",\"showlakes\":true,\"showland\":true,\"subunitcolor\":\"white\"},\"hoverlabel\":{\"align\":\"left\"},\"hovermode\":\"closest\",\"mapbox\":{\"style\":\"light\"},\"paper_bgcolor\":\"white\",\"plot_bgcolor\":\"#E5ECF6\",\"polar\":{\"angularaxis\":{\"gridcolor\":\"white\",\"linecolor\":\"white\",\"ticks\":\"\"},\"bgcolor\":\"#E5ECF6\",\"radialaxis\":{\"gridcolor\":\"white\",\"linecolor\":\"white\",\"ticks\":\"\"}},\"scene\":{\"xaxis\":{\"backgroundcolor\":\"#E5ECF6\",\"gridcolor\":\"white\",\"gridwidth\":2,\"linecolor\":\"white\",\"showbackground\":true,\"ticks\":\"\",\"zerolinecolor\":\"white\"},\"yaxis\":{\"backgroundcolor\":\"#E5ECF6\",\"gridcolor\":\"white\",\"gridwidth\":2,\"linecolor\":\"white\",\"showbackground\":true,\"ticks\":\"\",\"zerolinecolor\":\"white\"},\"zaxis\":{\"backgroundcolor\":\"#E5ECF6\",\"gridcolor\":\"white\",\"gridwidth\":2,\"linecolor\":\"white\",\"showbackground\":true,\"ticks\":\"\",\"zerolinecolor\":\"white\"}},\"shapedefaults\":{\"line\":{\"color\":\"#2a3f5f\"}},\"ternary\":{\"aaxis\":{\"gridcolor\":\"white\",\"linecolor\":\"white\",\"ticks\":\"\"},\"baxis\":{\"gridcolor\":\"white\",\"linecolor\":\"white\",\"ticks\":\"\"},\"bgcolor\":\"#E5ECF6\",\"caxis\":{\"gridcolor\":\"white\",\"linecolor\":\"white\",\"ticks\":\"\"}},\"title\":{\"x\":0.05},\"xaxis\":{\"automargin\":true,\"gridcolor\":\"white\",\"linecolor\":\"white\",\"ticks\":\"\",\"title\":{\"standoff\":15},\"zerolinecolor\":\"white\",\"zerolinewidth\":2},\"yaxis\":{\"automargin\":true,\"gridcolor\":\"white\",\"linecolor\":\"white\",\"ticks\":\"\",\"title\":{\"standoff\":15},\"zerolinecolor\":\"white\",\"zerolinewidth\":2}}},\"title\":{\"text\":\"Phenotypic Phase Plane (flux)\"},\"width\":700,\"xaxis\":{\"title\":{\"text\":\"GROWTH: biomass_c -->  [mmol gDW^-1 h^-1]\"}},\"yaxis\":{\"title\":{\"text\":\"DM_rHb_c: rHb_c -->  [mmol gDW^-1 h^-1]\"}}},                        {\"responsive\": true}                    ).then(function(){\n",
       "                            \n",
       "var gd = document.getElementById('7f21edec-8376-4985-8e12-5244e0df5053');\n",
       "var x = new MutationObserver(function (mutations, observer) {{\n",
       "        var display = window.getComputedStyle(gd).display;\n",
       "        if (!display || display === 'none') {{\n",
       "            console.log([gd, 'removed!']);\n",
       "            Plotly.purge(gd);\n",
       "            observer.disconnect();\n",
       "        }}\n",
       "}});\n",
       "\n",
       "// Listen for the removal of the full notebook cells\n",
       "var notebookContainer = gd.closest('#notebook-container');\n",
       "if (notebookContainer) {{\n",
       "    x.observe(notebookContainer, {childList: true});\n",
       "}}\n",
       "\n",
       "// Listen for the clearing of the current output cell\n",
       "var outputEl = gd.closest('.output');\n",
       "if (outputEl) {{\n",
       "    x.observe(outputEl, {childList: true});\n",
       "}}\n",
       "\n",
       "                        })                };                });            </script>        </div>"
      ]
     },
     "metadata": {},
     "output_type": "display_data"
    },
    {
     "data": {
      "application/vnd.plotly.v1+json": {
       "config": {
        "linkText": "Export to plot.ly",
        "plotlyServerURL": "https://plot.ly",
        "showLink": false
       },
       "data": [
        {
         "fill": "toself",
         "fillcolor": "#B3E2CD",
         "hoverinfo": "none",
         "marker": {
          "line": {
           "color": "#B3E2CD"
          },
          "opacity": 0.3
         },
         "mode": "lines",
         "name": "WT",
         "opacity": 0.3,
         "type": "scatter",
         "x": [
          -10,
          -9.475479168233694,
          -8.950958336467389,
          -8.426437504701083,
          -7.901916672934777,
          -7.377395841168472,
          -6.852875009402165,
          -6.32835417763586,
          -5.803833345869554,
          -5.279312514103249,
          -4.754791682336943,
          -4.230270850570637,
          -3.7057500188043315,
          -3.181229187038026,
          -2.6567083552717197,
          -2.132187523505414,
          -1.6076666917391087,
          -1.0831458599728023,
          -0.5586250282064977,
          -0.03410419644019136,
          -0.03410419644019136,
          -0.5586250282064977,
          -1.0831458599728023,
          -1.6076666917391087,
          -2.132187523505414,
          -2.6567083552717197,
          -3.181229187038026,
          -3.7057500188043315,
          -4.230270850570637,
          -4.754791682336943,
          -5.279312514103249,
          -5.803833345869554,
          -6.32835417763586,
          -6.852875009402165,
          -7.377395841168472,
          -7.901916672934777,
          -8.426437504701083,
          -8.950958336467389,
          -9.475479168233694,
          -10,
          -10,
          -10
         ],
         "y": [
          0,
          0,
          0,
          0,
          0,
          0,
          0,
          0,
          0,
          0,
          0,
          0,
          0,
          0,
          0,
          0,
          0,
          0,
          0,
          0,
          0,
          0.000871580009137365,
          0.0017316092088690903,
          0.0025905675315897932,
          0.0034495258543104763,
          0.004308484177030885,
          0.005167442499751392,
          0.006026400822472101,
          0.006885359145192808,
          0.007744317467913314,
          0.008603275790633995,
          0.009462234113354413,
          0.010321192436074938,
          0.011180150758795653,
          0.012039109081516336,
          0.012898067404236836,
          0.013757025726957549,
          0.014615984049677956,
          0.015474942372398482,
          0.01633390069511917,
          0,
          0.01633390069511917
         ]
        }
       ],
       "layout": {
        "height": 400,
        "template": {
         "data": {
          "bar": [
           {
            "error_x": {
             "color": "#2a3f5f"
            },
            "error_y": {
             "color": "#2a3f5f"
            },
            "marker": {
             "line": {
              "color": "#E5ECF6",
              "width": 0.5
             },
             "pattern": {
              "fillmode": "overlay",
              "size": 10,
              "solidity": 0.2
             }
            },
            "type": "bar"
           }
          ],
          "barpolar": [
           {
            "marker": {
             "line": {
              "color": "#E5ECF6",
              "width": 0.5
             },
             "pattern": {
              "fillmode": "overlay",
              "size": 10,
              "solidity": 0.2
             }
            },
            "type": "barpolar"
           }
          ],
          "carpet": [
           {
            "aaxis": {
             "endlinecolor": "#2a3f5f",
             "gridcolor": "white",
             "linecolor": "white",
             "minorgridcolor": "white",
             "startlinecolor": "#2a3f5f"
            },
            "baxis": {
             "endlinecolor": "#2a3f5f",
             "gridcolor": "white",
             "linecolor": "white",
             "minorgridcolor": "white",
             "startlinecolor": "#2a3f5f"
            },
            "type": "carpet"
           }
          ],
          "choropleth": [
           {
            "colorbar": {
             "outlinewidth": 0,
             "ticks": ""
            },
            "type": "choropleth"
           }
          ],
          "contour": [
           {
            "colorbar": {
             "outlinewidth": 0,
             "ticks": ""
            },
            "colorscale": [
             [
              0,
              "#0d0887"
             ],
             [
              0.1111111111111111,
              "#46039f"
             ],
             [
              0.2222222222222222,
              "#7201a8"
             ],
             [
              0.3333333333333333,
              "#9c179e"
             ],
             [
              0.4444444444444444,
              "#bd3786"
             ],
             [
              0.5555555555555556,
              "#d8576b"
             ],
             [
              0.6666666666666666,
              "#ed7953"
             ],
             [
              0.7777777777777778,
              "#fb9f3a"
             ],
             [
              0.8888888888888888,
              "#fdca26"
             ],
             [
              1,
              "#f0f921"
             ]
            ],
            "type": "contour"
           }
          ],
          "contourcarpet": [
           {
            "colorbar": {
             "outlinewidth": 0,
             "ticks": ""
            },
            "type": "contourcarpet"
           }
          ],
          "heatmap": [
           {
            "colorbar": {
             "outlinewidth": 0,
             "ticks": ""
            },
            "colorscale": [
             [
              0,
              "#0d0887"
             ],
             [
              0.1111111111111111,
              "#46039f"
             ],
             [
              0.2222222222222222,
              "#7201a8"
             ],
             [
              0.3333333333333333,
              "#9c179e"
             ],
             [
              0.4444444444444444,
              "#bd3786"
             ],
             [
              0.5555555555555556,
              "#d8576b"
             ],
             [
              0.6666666666666666,
              "#ed7953"
             ],
             [
              0.7777777777777778,
              "#fb9f3a"
             ],
             [
              0.8888888888888888,
              "#fdca26"
             ],
             [
              1,
              "#f0f921"
             ]
            ],
            "type": "heatmap"
           }
          ],
          "heatmapgl": [
           {
            "colorbar": {
             "outlinewidth": 0,
             "ticks": ""
            },
            "colorscale": [
             [
              0,
              "#0d0887"
             ],
             [
              0.1111111111111111,
              "#46039f"
             ],
             [
              0.2222222222222222,
              "#7201a8"
             ],
             [
              0.3333333333333333,
              "#9c179e"
             ],
             [
              0.4444444444444444,
              "#bd3786"
             ],
             [
              0.5555555555555556,
              "#d8576b"
             ],
             [
              0.6666666666666666,
              "#ed7953"
             ],
             [
              0.7777777777777778,
              "#fb9f3a"
             ],
             [
              0.8888888888888888,
              "#fdca26"
             ],
             [
              1,
              "#f0f921"
             ]
            ],
            "type": "heatmapgl"
           }
          ],
          "histogram": [
           {
            "marker": {
             "pattern": {
              "fillmode": "overlay",
              "size": 10,
              "solidity": 0.2
             }
            },
            "type": "histogram"
           }
          ],
          "histogram2d": [
           {
            "colorbar": {
             "outlinewidth": 0,
             "ticks": ""
            },
            "colorscale": [
             [
              0,
              "#0d0887"
             ],
             [
              0.1111111111111111,
              "#46039f"
             ],
             [
              0.2222222222222222,
              "#7201a8"
             ],
             [
              0.3333333333333333,
              "#9c179e"
             ],
             [
              0.4444444444444444,
              "#bd3786"
             ],
             [
              0.5555555555555556,
              "#d8576b"
             ],
             [
              0.6666666666666666,
              "#ed7953"
             ],
             [
              0.7777777777777778,
              "#fb9f3a"
             ],
             [
              0.8888888888888888,
              "#fdca26"
             ],
             [
              1,
              "#f0f921"
             ]
            ],
            "type": "histogram2d"
           }
          ],
          "histogram2dcontour": [
           {
            "colorbar": {
             "outlinewidth": 0,
             "ticks": ""
            },
            "colorscale": [
             [
              0,
              "#0d0887"
             ],
             [
              0.1111111111111111,
              "#46039f"
             ],
             [
              0.2222222222222222,
              "#7201a8"
             ],
             [
              0.3333333333333333,
              "#9c179e"
             ],
             [
              0.4444444444444444,
              "#bd3786"
             ],
             [
              0.5555555555555556,
              "#d8576b"
             ],
             [
              0.6666666666666666,
              "#ed7953"
             ],
             [
              0.7777777777777778,
              "#fb9f3a"
             ],
             [
              0.8888888888888888,
              "#fdca26"
             ],
             [
              1,
              "#f0f921"
             ]
            ],
            "type": "histogram2dcontour"
           }
          ],
          "mesh3d": [
           {
            "colorbar": {
             "outlinewidth": 0,
             "ticks": ""
            },
            "type": "mesh3d"
           }
          ],
          "parcoords": [
           {
            "line": {
             "colorbar": {
              "outlinewidth": 0,
              "ticks": ""
             }
            },
            "type": "parcoords"
           }
          ],
          "pie": [
           {
            "automargin": true,
            "type": "pie"
           }
          ],
          "scatter": [
           {
            "marker": {
             "colorbar": {
              "outlinewidth": 0,
              "ticks": ""
             }
            },
            "type": "scatter"
           }
          ],
          "scatter3d": [
           {
            "line": {
             "colorbar": {
              "outlinewidth": 0,
              "ticks": ""
             }
            },
            "marker": {
             "colorbar": {
              "outlinewidth": 0,
              "ticks": ""
             }
            },
            "type": "scatter3d"
           }
          ],
          "scattercarpet": [
           {
            "marker": {
             "colorbar": {
              "outlinewidth": 0,
              "ticks": ""
             }
            },
            "type": "scattercarpet"
           }
          ],
          "scattergeo": [
           {
            "marker": {
             "colorbar": {
              "outlinewidth": 0,
              "ticks": ""
             }
            },
            "type": "scattergeo"
           }
          ],
          "scattergl": [
           {
            "marker": {
             "colorbar": {
              "outlinewidth": 0,
              "ticks": ""
             }
            },
            "type": "scattergl"
           }
          ],
          "scattermapbox": [
           {
            "marker": {
             "colorbar": {
              "outlinewidth": 0,
              "ticks": ""
             }
            },
            "type": "scattermapbox"
           }
          ],
          "scatterpolar": [
           {
            "marker": {
             "colorbar": {
              "outlinewidth": 0,
              "ticks": ""
             }
            },
            "type": "scatterpolar"
           }
          ],
          "scatterpolargl": [
           {
            "marker": {
             "colorbar": {
              "outlinewidth": 0,
              "ticks": ""
             }
            },
            "type": "scatterpolargl"
           }
          ],
          "scatterternary": [
           {
            "marker": {
             "colorbar": {
              "outlinewidth": 0,
              "ticks": ""
             }
            },
            "type": "scatterternary"
           }
          ],
          "surface": [
           {
            "colorbar": {
             "outlinewidth": 0,
             "ticks": ""
            },
            "colorscale": [
             [
              0,
              "#0d0887"
             ],
             [
              0.1111111111111111,
              "#46039f"
             ],
             [
              0.2222222222222222,
              "#7201a8"
             ],
             [
              0.3333333333333333,
              "#9c179e"
             ],
             [
              0.4444444444444444,
              "#bd3786"
             ],
             [
              0.5555555555555556,
              "#d8576b"
             ],
             [
              0.6666666666666666,
              "#ed7953"
             ],
             [
              0.7777777777777778,
              "#fb9f3a"
             ],
             [
              0.8888888888888888,
              "#fdca26"
             ],
             [
              1,
              "#f0f921"
             ]
            ],
            "type": "surface"
           }
          ],
          "table": [
           {
            "cells": {
             "fill": {
              "color": "#EBF0F8"
             },
             "line": {
              "color": "white"
             }
            },
            "header": {
             "fill": {
              "color": "#C8D4E3"
             },
             "line": {
              "color": "white"
             }
            },
            "type": "table"
           }
          ]
         },
         "layout": {
          "annotationdefaults": {
           "arrowcolor": "#2a3f5f",
           "arrowhead": 0,
           "arrowwidth": 1
          },
          "autotypenumbers": "strict",
          "coloraxis": {
           "colorbar": {
            "outlinewidth": 0,
            "ticks": ""
           }
          },
          "colorscale": {
           "diverging": [
            [
             0,
             "#8e0152"
            ],
            [
             0.1,
             "#c51b7d"
            ],
            [
             0.2,
             "#de77ae"
            ],
            [
             0.3,
             "#f1b6da"
            ],
            [
             0.4,
             "#fde0ef"
            ],
            [
             0.5,
             "#f7f7f7"
            ],
            [
             0.6,
             "#e6f5d0"
            ],
            [
             0.7,
             "#b8e186"
            ],
            [
             0.8,
             "#7fbc41"
            ],
            [
             0.9,
             "#4d9221"
            ],
            [
             1,
             "#276419"
            ]
           ],
           "sequential": [
            [
             0,
             "#0d0887"
            ],
            [
             0.1111111111111111,
             "#46039f"
            ],
            [
             0.2222222222222222,
             "#7201a8"
            ],
            [
             0.3333333333333333,
             "#9c179e"
            ],
            [
             0.4444444444444444,
             "#bd3786"
            ],
            [
             0.5555555555555556,
             "#d8576b"
            ],
            [
             0.6666666666666666,
             "#ed7953"
            ],
            [
             0.7777777777777778,
             "#fb9f3a"
            ],
            [
             0.8888888888888888,
             "#fdca26"
            ],
            [
             1,
             "#f0f921"
            ]
           ],
           "sequentialminus": [
            [
             0,
             "#0d0887"
            ],
            [
             0.1111111111111111,
             "#46039f"
            ],
            [
             0.2222222222222222,
             "#7201a8"
            ],
            [
             0.3333333333333333,
             "#9c179e"
            ],
            [
             0.4444444444444444,
             "#bd3786"
            ],
            [
             0.5555555555555556,
             "#d8576b"
            ],
            [
             0.6666666666666666,
             "#ed7953"
            ],
            [
             0.7777777777777778,
             "#fb9f3a"
            ],
            [
             0.8888888888888888,
             "#fdca26"
            ],
            [
             1,
             "#f0f921"
            ]
           ]
          },
          "colorway": [
           "#636efa",
           "#EF553B",
           "#00cc96",
           "#ab63fa",
           "#FFA15A",
           "#19d3f3",
           "#FF6692",
           "#B6E880",
           "#FF97FF",
           "#FECB52"
          ],
          "font": {
           "color": "#2a3f5f"
          },
          "geo": {
           "bgcolor": "white",
           "lakecolor": "white",
           "landcolor": "#E5ECF6",
           "showlakes": true,
           "showland": true,
           "subunitcolor": "white"
          },
          "hoverlabel": {
           "align": "left"
          },
          "hovermode": "closest",
          "mapbox": {
           "style": "light"
          },
          "paper_bgcolor": "white",
          "plot_bgcolor": "#E5ECF6",
          "polar": {
           "angularaxis": {
            "gridcolor": "white",
            "linecolor": "white",
            "ticks": ""
           },
           "bgcolor": "#E5ECF6",
           "radialaxis": {
            "gridcolor": "white",
            "linecolor": "white",
            "ticks": ""
           }
          },
          "scene": {
           "xaxis": {
            "backgroundcolor": "#E5ECF6",
            "gridcolor": "white",
            "gridwidth": 2,
            "linecolor": "white",
            "showbackground": true,
            "ticks": "",
            "zerolinecolor": "white"
           },
           "yaxis": {
            "backgroundcolor": "#E5ECF6",
            "gridcolor": "white",
            "gridwidth": 2,
            "linecolor": "white",
            "showbackground": true,
            "ticks": "",
            "zerolinecolor": "white"
           },
           "zaxis": {
            "backgroundcolor": "#E5ECF6",
            "gridcolor": "white",
            "gridwidth": 2,
            "linecolor": "white",
            "showbackground": true,
            "ticks": "",
            "zerolinecolor": "white"
           }
          },
          "shapedefaults": {
           "line": {
            "color": "#2a3f5f"
           }
          },
          "ternary": {
           "aaxis": {
            "gridcolor": "white",
            "linecolor": "white",
            "ticks": ""
           },
           "baxis": {
            "gridcolor": "white",
            "linecolor": "white",
            "ticks": ""
           },
           "bgcolor": "#E5ECF6",
           "caxis": {
            "gridcolor": "white",
            "linecolor": "white",
            "ticks": ""
           }
          },
          "title": {
           "x": 0.05
          },
          "xaxis": {
           "automargin": true,
           "gridcolor": "white",
           "linecolor": "white",
           "ticks": "",
           "title": {
            "standoff": 15
           },
           "zerolinecolor": "white",
           "zerolinewidth": 2
          },
          "yaxis": {
           "automargin": true,
           "gridcolor": "white",
           "linecolor": "white",
           "ticks": "",
           "title": {
            "standoff": 15
           },
           "zerolinecolor": "white",
           "zerolinewidth": 2
          }
         }
        },
        "title": {
         "text": "Phenotypic Phase Plane (flux)"
        },
        "width": 700,
        "xaxis": {
         "autorange": true,
         "range": [
          -10,
          -0.03410419644019136
         ],
         "title": {
          "text": "EX_glc__D_e: glc__D_e <=>  [mmol gDW^-1 h^-1]"
         },
         "type": "linear"
        },
        "yaxis": {
         "autorange": true,
         "range": [
          -0.0009074389275066204,
          0.01724133962262579
         ],
         "title": {
          "text": "DM_rHb_c: rHb_c -->  [mmol gDW^-1 h^-1]"
         },
         "type": "linear"
        }
       }
      },
      "image/png": "[encoded data removed]",
      "text/html": [
       "<div>                            <div id=\"c348a690-f671-469a-b888-bb21cd8ec78a\" class=\"plotly-graph-div\" style=\"height:400px; width:700px;\"></div>            <script type=\"text/javascript\">                require([\"plotly\"], function(Plotly) {                    window.PLOTLYENV=window.PLOTLYENV || {};                                    if (document.getElementById(\"c348a690-f671-469a-b888-bb21cd8ec78a\")) {                    Plotly.newPlot(                        \"c348a690-f671-469a-b888-bb21cd8ec78a\",                        [{\"fill\":\"toself\",\"fillcolor\":\"#B3E2CD\",\"hoverinfo\":\"none\",\"marker\":{\"line\":{\"color\":\"#B3E2CD\"},\"opacity\":0.3},\"mode\":\"lines\",\"name\":\"WT\",\"opacity\":0.3,\"type\":\"scatter\",\"x\":[-10.0,-9.475479168233694,-8.950958336467389,-8.426437504701083,-7.901916672934777,-7.377395841168472,-6.852875009402165,-6.32835417763586,-5.803833345869554,-5.279312514103249,-4.754791682336943,-4.230270850570637,-3.7057500188043315,-3.181229187038026,-2.6567083552717197,-2.132187523505414,-1.6076666917391087,-1.0831458599728023,-0.5586250282064977,-0.03410419644019136,-0.03410419644019136,-0.5586250282064977,-1.0831458599728023,-1.6076666917391087,-2.132187523505414,-2.6567083552717197,-3.181229187038026,-3.7057500188043315,-4.230270850570637,-4.754791682336943,-5.279312514103249,-5.803833345869554,-6.32835417763586,-6.852875009402165,-7.377395841168472,-7.901916672934777,-8.426437504701083,-8.950958336467389,-9.475479168233694,-10.0,-10.0,-10.0],\"y\":[0.0,0.0,0.0,0.0,0.0,0.0,0.0,0.0,0.0,0.0,0.0,0.0,0.0,0.0,0.0,0.0,0.0,0.0,0.0,0.0,0.0,0.000871580009137365,0.0017316092088690903,0.0025905675315897932,0.0034495258543104763,0.004308484177030885,0.005167442499751392,0.006026400822472101,0.006885359145192808,0.007744317467913314,0.008603275790633995,0.009462234113354413,0.010321192436074938,0.011180150758795653,0.012039109081516336,0.012898067404236836,0.013757025726957549,0.014615984049677956,0.015474942372398482,0.01633390069511917,0.0,0.01633390069511917]}],                        {\"height\":400,\"template\":{\"data\":{\"bar\":[{\"error_x\":{\"color\":\"#2a3f5f\"},\"error_y\":{\"color\":\"#2a3f5f\"},\"marker\":{\"line\":{\"color\":\"#E5ECF6\",\"width\":0.5},\"pattern\":{\"fillmode\":\"overlay\",\"size\":10,\"solidity\":0.2}},\"type\":\"bar\"}],\"barpolar\":[{\"marker\":{\"line\":{\"color\":\"#E5ECF6\",\"width\":0.5},\"pattern\":{\"fillmode\":\"overlay\",\"size\":10,\"solidity\":0.2}},\"type\":\"barpolar\"}],\"carpet\":[{\"aaxis\":{\"endlinecolor\":\"#2a3f5f\",\"gridcolor\":\"white\",\"linecolor\":\"white\",\"minorgridcolor\":\"white\",\"startlinecolor\":\"#2a3f5f\"},\"baxis\":{\"endlinecolor\":\"#2a3f5f\",\"gridcolor\":\"white\",\"linecolor\":\"white\",\"minorgridcolor\":\"white\",\"startlinecolor\":\"#2a3f5f\"},\"type\":\"carpet\"}],\"choropleth\":[{\"colorbar\":{\"outlinewidth\":0,\"ticks\":\"\"},\"type\":\"choropleth\"}],\"contour\":[{\"colorbar\":{\"outlinewidth\":0,\"ticks\":\"\"},\"colorscale\":[[0.0,\"#0d0887\"],[0.1111111111111111,\"#46039f\"],[0.2222222222222222,\"#7201a8\"],[0.3333333333333333,\"#9c179e\"],[0.4444444444444444,\"#bd3786\"],[0.5555555555555556,\"#d8576b\"],[0.6666666666666666,\"#ed7953\"],[0.7777777777777778,\"#fb9f3a\"],[0.8888888888888888,\"#fdca26\"],[1.0,\"#f0f921\"]],\"type\":\"contour\"}],\"contourcarpet\":[{\"colorbar\":{\"outlinewidth\":0,\"ticks\":\"\"},\"type\":\"contourcarpet\"}],\"heatmap\":[{\"colorbar\":{\"outlinewidth\":0,\"ticks\":\"\"},\"colorscale\":[[0.0,\"#0d0887\"],[0.1111111111111111,\"#46039f\"],[0.2222222222222222,\"#7201a8\"],[0.3333333333333333,\"#9c179e\"],[0.4444444444444444,\"#bd3786\"],[0.5555555555555556,\"#d8576b\"],[0.6666666666666666,\"#ed7953\"],[0.7777777777777778,\"#fb9f3a\"],[0.8888888888888888,\"#fdca26\"],[1.0,\"#f0f921\"]],\"type\":\"heatmap\"}],\"heatmapgl\":[{\"colorbar\":{\"outlinewidth\":0,\"ticks\":\"\"},\"colorscale\":[[0.0,\"#0d0887\"],[0.1111111111111111,\"#46039f\"],[0.2222222222222222,\"#7201a8\"],[0.3333333333333333,\"#9c179e\"],[0.4444444444444444,\"#bd3786\"],[0.5555555555555556,\"#d8576b\"],[0.6666666666666666,\"#ed7953\"],[0.7777777777777778,\"#fb9f3a\"],[0.8888888888888888,\"#fdca26\"],[1.0,\"#f0f921\"]],\"type\":\"heatmapgl\"}],\"histogram\":[{\"marker\":{\"pattern\":{\"fillmode\":\"overlay\",\"size\":10,\"solidity\":0.2}},\"type\":\"histogram\"}],\"histogram2d\":[{\"colorbar\":{\"outlinewidth\":0,\"ticks\":\"\"},\"colorscale\":[[0.0,\"#0d0887\"],[0.1111111111111111,\"#46039f\"],[0.2222222222222222,\"#7201a8\"],[0.3333333333333333,\"#9c179e\"],[0.4444444444444444,\"#bd3786\"],[0.5555555555555556,\"#d8576b\"],[0.6666666666666666,\"#ed7953\"],[0.7777777777777778,\"#fb9f3a\"],[0.8888888888888888,\"#fdca26\"],[1.0,\"#f0f921\"]],\"type\":\"histogram2d\"}],\"histogram2dcontour\":[{\"colorbar\":{\"outlinewidth\":0,\"ticks\":\"\"},\"colorscale\":[[0.0,\"#0d0887\"],[0.1111111111111111,\"#46039f\"],[0.2222222222222222,\"#7201a8\"],[0.3333333333333333,\"#9c179e\"],[0.4444444444444444,\"#bd3786\"],[0.5555555555555556,\"#d8576b\"],[0.6666666666666666,\"#ed7953\"],[0.7777777777777778,\"#fb9f3a\"],[0.8888888888888888,\"#fdca26\"],[1.0,\"#f0f921\"]],\"type\":\"histogram2dcontour\"}],\"mesh3d\":[{\"colorbar\":{\"outlinewidth\":0,\"ticks\":\"\"},\"type\":\"mesh3d\"}],\"parcoords\":[{\"line\":{\"colorbar\":{\"outlinewidth\":0,\"ticks\":\"\"}},\"type\":\"parcoords\"}],\"pie\":[{\"automargin\":true,\"type\":\"pie\"}],\"scatter\":[{\"marker\":{\"colorbar\":{\"outlinewidth\":0,\"ticks\":\"\"}},\"type\":\"scatter\"}],\"scatter3d\":[{\"line\":{\"colorbar\":{\"outlinewidth\":0,\"ticks\":\"\"}},\"marker\":{\"colorbar\":{\"outlinewidth\":0,\"ticks\":\"\"}},\"type\":\"scatter3d\"}],\"scattercarpet\":[{\"marker\":{\"colorbar\":{\"outlinewidth\":0,\"ticks\":\"\"}},\"type\":\"scattercarpet\"}],\"scattergeo\":[{\"marker\":{\"colorbar\":{\"outlinewidth\":0,\"ticks\":\"\"}},\"type\":\"scattergeo\"}],\"scattergl\":[{\"marker\":{\"colorbar\":{\"outlinewidth\":0,\"ticks\":\"\"}},\"type\":\"scattergl\"}],\"scattermapbox\":[{\"marker\":{\"colorbar\":{\"outlinewidth\":0,\"ticks\":\"\"}},\"type\":\"scattermapbox\"}],\"scatterpolar\":[{\"marker\":{\"colorbar\":{\"outlinewidth\":0,\"ticks\":\"\"}},\"type\":\"scatterpolar\"}],\"scatterpolargl\":[{\"marker\":{\"colorbar\":{\"outlinewidth\":0,\"ticks\":\"\"}},\"type\":\"scatterpolargl\"}],\"scatterternary\":[{\"marker\":{\"colorbar\":{\"outlinewidth\":0,\"ticks\":\"\"}},\"type\":\"scatterternary\"}],\"surface\":[{\"colorbar\":{\"outlinewidth\":0,\"ticks\":\"\"},\"colorscale\":[[0.0,\"#0d0887\"],[0.1111111111111111,\"#46039f\"],[0.2222222222222222,\"#7201a8\"],[0.3333333333333333,\"#9c179e\"],[0.4444444444444444,\"#bd3786\"],[0.5555555555555556,\"#d8576b\"],[0.6666666666666666,\"#ed7953\"],[0.7777777777777778,\"#fb9f3a\"],[0.8888888888888888,\"#fdca26\"],[1.0,\"#f0f921\"]],\"type\":\"surface\"}],\"table\":[{\"cells\":{\"fill\":{\"color\":\"#EBF0F8\"},\"line\":{\"color\":\"white\"}},\"header\":{\"fill\":{\"color\":\"#C8D4E3\"},\"line\":{\"color\":\"white\"}},\"type\":\"table\"}]},\"layout\":{\"annotationdefaults\":{\"arrowcolor\":\"#2a3f5f\",\"arrowhead\":0,\"arrowwidth\":1},\"autotypenumbers\":\"strict\",\"coloraxis\":{\"colorbar\":{\"outlinewidth\":0,\"ticks\":\"\"}},\"colorscale\":{\"diverging\":[[0,\"#8e0152\"],[0.1,\"#c51b7d\"],[0.2,\"#de77ae\"],[0.3,\"#f1b6da\"],[0.4,\"#fde0ef\"],[0.5,\"#f7f7f7\"],[0.6,\"#e6f5d0\"],[0.7,\"#b8e186\"],[0.8,\"#7fbc41\"],[0.9,\"#4d9221\"],[1,\"#276419\"]],\"sequential\":[[0.0,\"#0d0887\"],[0.1111111111111111,\"#46039f\"],[0.2222222222222222,\"#7201a8\"],[0.3333333333333333,\"#9c179e\"],[0.4444444444444444,\"#bd3786\"],[0.5555555555555556,\"#d8576b\"],[0.6666666666666666,\"#ed7953\"],[0.7777777777777778,\"#fb9f3a\"],[0.8888888888888888,\"#fdca26\"],[1.0,\"#f0f921\"]],\"sequentialminus\":[[0.0,\"#0d0887\"],[0.1111111111111111,\"#46039f\"],[0.2222222222222222,\"#7201a8\"],[0.3333333333333333,\"#9c179e\"],[0.4444444444444444,\"#bd3786\"],[0.5555555555555556,\"#d8576b\"],[0.6666666666666666,\"#ed7953\"],[0.7777777777777778,\"#fb9f3a\"],[0.8888888888888888,\"#fdca26\"],[1.0,\"#f0f921\"]]},\"colorway\":[\"#636efa\",\"#EF553B\",\"#00cc96\",\"#ab63fa\",\"#FFA15A\",\"#19d3f3\",\"#FF6692\",\"#B6E880\",\"#FF97FF\",\"#FECB52\"],\"font\":{\"color\":\"#2a3f5f\"},\"geo\":{\"bgcolor\":\"white\",\"lakecolor\":\"white\",\"landcolor\":\"#E5ECF6\",\"showlakes\":true,\"showland\":true,\"subunitcolor\":\"white\"},\"hoverlabel\":{\"align\":\"left\"},\"hovermode\":\"closest\",\"mapbox\":{\"style\":\"light\"},\"paper_bgcolor\":\"white\",\"plot_bgcolor\":\"#E5ECF6\",\"polar\":{\"angularaxis\":{\"gridcolor\":\"white\",\"linecolor\":\"white\",\"ticks\":\"\"},\"bgcolor\":\"#E5ECF6\",\"radialaxis\":{\"gridcolor\":\"white\",\"linecolor\":\"white\",\"ticks\":\"\"}},\"scene\":{\"xaxis\":{\"backgroundcolor\":\"#E5ECF6\",\"gridcolor\":\"white\",\"gridwidth\":2,\"linecolor\":\"white\",\"showbackground\":true,\"ticks\":\"\",\"zerolinecolor\":\"white\"},\"yaxis\":{\"backgroundcolor\":\"#E5ECF6\",\"gridcolor\":\"white\",\"gridwidth\":2,\"linecolor\":\"white\",\"showbackground\":true,\"ticks\":\"\",\"zerolinecolor\":\"white\"},\"zaxis\":{\"backgroundcolor\":\"#E5ECF6\",\"gridcolor\":\"white\",\"gridwidth\":2,\"linecolor\":\"white\",\"showbackground\":true,\"ticks\":\"\",\"zerolinecolor\":\"white\"}},\"shapedefaults\":{\"line\":{\"color\":\"#2a3f5f\"}},\"ternary\":{\"aaxis\":{\"gridcolor\":\"white\",\"linecolor\":\"white\",\"ticks\":\"\"},\"baxis\":{\"gridcolor\":\"white\",\"linecolor\":\"white\",\"ticks\":\"\"},\"bgcolor\":\"#E5ECF6\",\"caxis\":{\"gridcolor\":\"white\",\"linecolor\":\"white\",\"ticks\":\"\"}},\"title\":{\"x\":0.05},\"xaxis\":{\"automargin\":true,\"gridcolor\":\"white\",\"linecolor\":\"white\",\"ticks\":\"\",\"title\":{\"standoff\":15},\"zerolinecolor\":\"white\",\"zerolinewidth\":2},\"yaxis\":{\"automargin\":true,\"gridcolor\":\"white\",\"linecolor\":\"white\",\"ticks\":\"\",\"title\":{\"standoff\":15},\"zerolinecolor\":\"white\",\"zerolinewidth\":2}}},\"title\":{\"text\":\"Phenotypic Phase Plane (flux)\"},\"width\":700,\"xaxis\":{\"title\":{\"text\":\"EX_glc__D_e: glc__D_e <=>  [mmol gDW^-1 h^-1]\"}},\"yaxis\":{\"title\":{\"text\":\"DM_rHb_c: rHb_c -->  [mmol gDW^-1 h^-1]\"}}},                        {\"responsive\": true}                    ).then(function(){\n",
       "                            \n",
       "var gd = document.getElementById('c348a690-f671-469a-b888-bb21cd8ec78a');\n",
       "var x = new MutationObserver(function (mutations, observer) {{\n",
       "        var display = window.getComputedStyle(gd).display;\n",
       "        if (!display || display === 'none') {{\n",
       "            console.log([gd, 'removed!']);\n",
       "            Plotly.purge(gd);\n",
       "            observer.disconnect();\n",
       "        }}\n",
       "}});\n",
       "\n",
       "// Listen for the removal of the full notebook cells\n",
       "var notebookContainer = gd.closest('#notebook-container');\n",
       "if (notebookContainer) {{\n",
       "    x.observe(notebookContainer, {childList: true});\n",
       "}}\n",
       "\n",
       "// Listen for the clearing of the current output cell\n",
       "var outputEl = gd.closest('.output');\n",
       "if (outputEl) {{\n",
       "    x.observe(outputEl, {childList: true});\n",
       "}}\n",
       "\n",
       "                        })                };                });            </script>        </div>"
      ]
     },
     "metadata": {},
     "output_type": "display_data"
    }
   ],
   "source": [
    "\n",
    "medium = model.medium \n",
    "with model:  \n",
    "    model.medium = medium \n",
    "    solution = model.optimize() \n",
    "    print(solution.fluxes['GROWTH']) \n",
    "    production_envelope_glc = phenotypic_phase_plane(model,  \n",
    "                                             variables=[model.reactions.EX_glc__D_e],#,model.reactions.EX_o2_e], \n",
    "                                             objective=model.metabolites.rHb_c) \n",
    "production_envelope_DW.plot(plotter, height=400) \n",
    "production_envelope_glc.plot(plotter, height=400) "
   ]
  },
  {
   "cell_type": "code",
   "execution_count": null,
   "id": "e32274a2",
   "metadata": {},
   "outputs": [],
   "source": []
  },
  {
   "cell_type": "code",
   "execution_count": null,
   "id": "17f35a7b",
   "metadata": {},
   "outputs": [],
   "source": []
  },
  {
   "cell_type": "code",
   "execution_count": 25,
   "id": "4f6cb012",
   "metadata": {},
   "outputs": [
    {
     "data": {
      "text/html": [
       "<div>\n",
       "<style scoped>\n",
       "    .dataframe tbody tr th:only-of-type {\n",
       "        vertical-align: middle;\n",
       "    }\n",
       "\n",
       "    .dataframe tbody tr th {\n",
       "        vertical-align: top;\n",
       "    }\n",
       "\n",
       "    .dataframe thead th {\n",
       "        text-align: right;\n",
       "    }\n",
       "</style>\n",
       "<table border=\"1\" class=\"dataframe\">\n",
       "  <thead>\n",
       "    <tr style=\"text-align: right;\">\n",
       "      <th></th>\n",
       "      <th>carbon_source</th>\n",
       "      <th>flux_minimum</th>\n",
       "      <th>carbon_yield_minimum</th>\n",
       "      <th>mass_yield_minimum</th>\n",
       "      <th>flux_maximum</th>\n",
       "      <th>carbon_yield_maximum</th>\n",
       "      <th>mass_yield_maximum</th>\n",
       "      <th>EX_o2_e</th>\n",
       "    </tr>\n",
       "  </thead>\n",
       "  <tbody>\n",
       "    <tr>\n",
       "      <th>0</th>\n",
       "      <td>EX_glc__D_e</td>\n",
       "      <td>0.0</td>\n",
       "      <td>0.0</td>\n",
       "      <td>NaN</td>\n",
       "      <td>0.000000</td>\n",
       "      <td>0.000000</td>\n",
       "      <td>NaN</td>\n",
       "      <td>-60.000000</td>\n",
       "    </tr>\n",
       "    <tr>\n",
       "      <th>1</th>\n",
       "      <td>EX_glc__D_e</td>\n",
       "      <td>0.0</td>\n",
       "      <td>0.0</td>\n",
       "      <td>NaN</td>\n",
       "      <td>0.001005</td>\n",
       "      <td>0.049802</td>\n",
       "      <td>NaN</td>\n",
       "      <td>-56.842105</td>\n",
       "    </tr>\n",
       "    <tr>\n",
       "      <th>2</th>\n",
       "      <td>EX_glc__D_e</td>\n",
       "      <td>0.0</td>\n",
       "      <td>0.0</td>\n",
       "      <td>NaN</td>\n",
       "      <td>0.002009</td>\n",
       "      <td>0.099603</td>\n",
       "      <td>NaN</td>\n",
       "      <td>-53.684211</td>\n",
       "    </tr>\n",
       "    <tr>\n",
       "      <th>3</th>\n",
       "      <td>EX_glc__D_e</td>\n",
       "      <td>0.0</td>\n",
       "      <td>0.0</td>\n",
       "      <td>NaN</td>\n",
       "      <td>0.003014</td>\n",
       "      <td>0.149405</td>\n",
       "      <td>NaN</td>\n",
       "      <td>-50.526316</td>\n",
       "    </tr>\n",
       "    <tr>\n",
       "      <th>4</th>\n",
       "      <td>EX_glc__D_e</td>\n",
       "      <td>0.0</td>\n",
       "      <td>0.0</td>\n",
       "      <td>NaN</td>\n",
       "      <td>0.004019</td>\n",
       "      <td>0.199206</td>\n",
       "      <td>NaN</td>\n",
       "      <td>-47.368421</td>\n",
       "    </tr>\n",
       "  </tbody>\n",
       "</table>\n",
       "</div>"
      ],
      "text/plain": [
       "  carbon_source  flux_minimum  carbon_yield_minimum  mass_yield_minimum  \\\n",
       "0   EX_glc__D_e           0.0                   0.0                 NaN   \n",
       "1   EX_glc__D_e           0.0                   0.0                 NaN   \n",
       "2   EX_glc__D_e           0.0                   0.0                 NaN   \n",
       "3   EX_glc__D_e           0.0                   0.0                 NaN   \n",
       "4   EX_glc__D_e           0.0                   0.0                 NaN   \n",
       "\n",
       "   flux_maximum  carbon_yield_maximum  mass_yield_maximum    EX_o2_e  \n",
       "0      0.000000              0.000000                 NaN -60.000000  \n",
       "1      0.001005              0.049802                 NaN -56.842105  \n",
       "2      0.002009              0.099603                 NaN -53.684211  \n",
       "3      0.003014              0.149405                 NaN -50.526316  \n",
       "4      0.004019              0.199206                 NaN -47.368421  "
      ]
     },
     "execution_count": 25,
     "metadata": {},
     "output_type": "execute_result"
    }
   ],
   "source": [
    "#%matplotlib inline\n",
    "from cobra.flux_analysis import production_envelope #Needs to be called again for it to work..\n",
    "prod_env = production_envelope(\n",
    "    model, [\"EX_o2_e\"], objective=[\"rHb\"], carbon_sources=\"EX_glc__D_e\")\n",
    "prod_env.head() #Shows data in table"
   ]
  },
  {
   "cell_type": "code",
   "execution_count": 26,
   "id": "b4b088f5",
   "metadata": {},
   "outputs": [
    {
     "data": {
      "image/png": "[encoded data removed]",
      "text/plain": [
       "<Figure size 432x288 with 1 Axes>"
      ]
     },
     "metadata": {
      "needs_background": "light"
     },
     "output_type": "display_data"
    }
   ],
   "source": [
    "P1 = prod_env.plot(\n",
    "    kind='line', x='EX_o2_e', y='carbon_yield_maximum');"
   ]
  },
  {
   "cell_type": "code",
   "execution_count": 27,
   "id": "dd3da17b",
   "metadata": {},
   "outputs": [],
   "source": [
    "prod_env = production_envelope(\n",
    "    model, [\"EX_o2_e\"], objective='BIOMASS_yeast-GEM', carbon_sources=\"EX_glc__D_e\")\n",
    "#prod_env.head() #shows data in tabe"
   ]
  },
  {
   "cell_type": "code",
   "execution_count": 28,
   "id": "99f29e71",
   "metadata": {},
   "outputs": [
    {
     "data": {
      "image/png": "[encoded data removed]",
      "text/plain": [
       "<Figure size 432x288 with 1 Axes>"
      ]
     },
     "metadata": {
      "needs_background": "light"
     },
     "output_type": "display_data"
    }
   ],
   "source": [
    "P2 = prod_env.plot(\n",
    "    kind='line', x='EX_o2_e', y='carbon_yield_maximum');"
   ]
  },
  {
   "cell_type": "code",
   "execution_count": 29,
   "id": "17e9ffc5",
   "metadata": {},
   "outputs": [],
   "source": [
    "prod_env = production_envelope(\n",
    "    model, [\"EX_glc__D_e\"], objective='BIOMASS_yeast-GEM', carbon_sources=\"EX_glc__D_e\")\n",
    "#prod_env.head() #shows data in tabe"
   ]
  },
  {
   "cell_type": "code",
   "execution_count": 30,
   "id": "53e1bade",
   "metadata": {},
   "outputs": [
    {
     "data": {
      "image/png": "[encoded data removed]",
      "text/plain": [
       "<Figure size 432x288 with 1 Axes>"
      ]
     },
     "metadata": {
      "needs_background": "light"
     },
     "output_type": "display_data"
    }
   ],
   "source": [
    "prod_env.plot(\n",
    "    kind='line', x='EX_glc__D_e', y='carbon_yield_maximum');"
   ]
  },
  {
   "cell_type": "code",
   "execution_count": 31,
   "id": "9da7db16",
   "metadata": {},
   "outputs": [],
   "source": [
    "prod_env = production_envelope(\n",
    "    model, [\"EX_glc__D_e\"], objective=\"rHb\", carbon_sources=\"EX_glc__D_e\")\n",
    "#prod_env.head() #shows data in tabe"
   ]
  },
  {
   "cell_type": "code",
   "execution_count": 32,
   "id": "f717c24d",
   "metadata": {},
   "outputs": [
    {
     "data": {
      "image/png": "[encoded data removed]",
      "text/plain": [
       "<Figure size 432x288 with 1 Axes>"
      ]
     },
     "metadata": {
      "needs_background": "light"
     },
     "output_type": "display_data"
    }
   ],
   "source": [
    "prod_env.plot(\n",
    "    kind='line', x='EX_glc__D_e', y='carbon_yield_maximum');"
   ]
  },
  {
   "cell_type": "code",
   "execution_count": null,
   "id": "a31129fc",
   "metadata": {},
   "outputs": [],
   "source": []
  },
  {
   "cell_type": "code",
   "execution_count": 33,
   "id": "e8c9781e",
   "metadata": {},
   "outputs": [
    {
     "data": {
      "text/html": [
       "<div>\n",
       "<style scoped>\n",
       "    .dataframe tbody tr th:only-of-type {\n",
       "        vertical-align: middle;\n",
       "    }\n",
       "\n",
       "    .dataframe tbody tr th {\n",
       "        vertical-align: top;\n",
       "    }\n",
       "\n",
       "    .dataframe thead th {\n",
       "        text-align: right;\n",
       "    }\n",
       "</style>\n",
       "<table border=\"1\" class=\"dataframe\">\n",
       "  <thead>\n",
       "    <tr style=\"text-align: right;\">\n",
       "      <th></th>\n",
       "      <th>carbon_source</th>\n",
       "      <th>flux_minimum</th>\n",
       "      <th>carbon_yield_minimum</th>\n",
       "      <th>mass_yield_minimum</th>\n",
       "      <th>flux_maximum</th>\n",
       "      <th>carbon_yield_maximum</th>\n",
       "      <th>mass_yield_maximum</th>\n",
       "      <th>EX_fe2_e</th>\n",
       "    </tr>\n",
       "  </thead>\n",
       "  <tbody>\n",
       "    <tr>\n",
       "      <th>0</th>\n",
       "      <td>EX_glc__D_e</td>\n",
       "      <td>0.0</td>\n",
       "      <td>0.0</td>\n",
       "      <td>NaN</td>\n",
       "      <td>0.000000</td>\n",
       "      <td>0.000000</td>\n",
       "      <td>NaN</td>\n",
       "      <td>-0.065336</td>\n",
       "    </tr>\n",
       "    <tr>\n",
       "      <th>1</th>\n",
       "      <td>EX_glc__D_e</td>\n",
       "      <td>0.0</td>\n",
       "      <td>0.0</td>\n",
       "      <td>NaN</td>\n",
       "      <td>0.049031</td>\n",
       "      <td>0.451907</td>\n",
       "      <td>NaN</td>\n",
       "      <td>-0.061897</td>\n",
       "    </tr>\n",
       "    <tr>\n",
       "      <th>2</th>\n",
       "      <td>EX_glc__D_e</td>\n",
       "      <td>0.0</td>\n",
       "      <td>0.0</td>\n",
       "      <td>NaN</td>\n",
       "      <td>0.098063</td>\n",
       "      <td>0.903813</td>\n",
       "      <td>NaN</td>\n",
       "      <td>-0.058458</td>\n",
       "    </tr>\n",
       "    <tr>\n",
       "      <th>3</th>\n",
       "      <td>EX_glc__D_e</td>\n",
       "      <td>0.0</td>\n",
       "      <td>0.0</td>\n",
       "      <td>NaN</td>\n",
       "      <td>0.147094</td>\n",
       "      <td>1.355720</td>\n",
       "      <td>NaN</td>\n",
       "      <td>-0.055019</td>\n",
       "    </tr>\n",
       "    <tr>\n",
       "      <th>4</th>\n",
       "      <td>EX_glc__D_e</td>\n",
       "      <td>0.0</td>\n",
       "      <td>0.0</td>\n",
       "      <td>NaN</td>\n",
       "      <td>0.194602</td>\n",
       "      <td>1.793586</td>\n",
       "      <td>NaN</td>\n",
       "      <td>-0.051581</td>\n",
       "    </tr>\n",
       "  </tbody>\n",
       "</table>\n",
       "</div>"
      ],
      "text/plain": [
       "  carbon_source  flux_minimum  carbon_yield_minimum  mass_yield_minimum  \\\n",
       "0   EX_glc__D_e           0.0                   0.0                 NaN   \n",
       "1   EX_glc__D_e           0.0                   0.0                 NaN   \n",
       "2   EX_glc__D_e           0.0                   0.0                 NaN   \n",
       "3   EX_glc__D_e           0.0                   0.0                 NaN   \n",
       "4   EX_glc__D_e           0.0                   0.0                 NaN   \n",
       "\n",
       "   flux_maximum  carbon_yield_maximum  mass_yield_maximum  EX_fe2_e  \n",
       "0      0.000000              0.000000                 NaN -0.065336  \n",
       "1      0.049031              0.451907                 NaN -0.061897  \n",
       "2      0.098063              0.903813                 NaN -0.058458  \n",
       "3      0.147094              1.355720                 NaN -0.055019  \n",
       "4      0.194602              1.793586                 NaN -0.051581  "
      ]
     },
     "execution_count": 33,
     "metadata": {},
     "output_type": "execute_result"
    }
   ],
   "source": [
    "prod_env = production_envelope(\n",
    "    model, [\"EX_fe2_e\"], objective='BIOMASS_yeast-GEM', carbon_sources=\"EX_glc__D_e\")\n",
    "prod_env.head() #shows data in tabe"
   ]
  },
  {
   "cell_type": "code",
   "execution_count": 34,
   "id": "b7008bcc",
   "metadata": {},
   "outputs": [
    {
     "data": {
      "image/png": "[encoded data removed]",
      "text/plain": [
       "<Figure size 432x288 with 1 Axes>"
      ]
     },
     "metadata": {
      "needs_background": "light"
     },
     "output_type": "display_data"
    }
   ],
   "source": [
    "prod_env.plot(\n",
    "    kind='line', x='EX_fe2_e', y='flux_maximum');"
   ]
  },
  {
   "cell_type": "code",
   "execution_count": 35,
   "id": "cdc4c5d1",
   "metadata": {},
   "outputs": [
    {
     "data": {
      "image/png": "[encoded data removed]",
      "text/plain": [
       "<Figure size 432x288 with 1 Axes>"
      ]
     },
     "metadata": {
      "needs_background": "light"
     },
     "output_type": "display_data"
    }
   ],
   "source": [
    "prod_env.plot(\n",
    "    kind='line', x='EX_fe2_e', y='carbon_yield_maximum');"
   ]
  },
  {
   "cell_type": "code",
   "execution_count": 117,
   "id": "e0684a4f",
   "metadata": {},
   "outputs": [
    {
     "data": {
      "text/html": [
       "<div>\n",
       "<style scoped>\n",
       "    .dataframe tbody tr th:only-of-type {\n",
       "        vertical-align: middle;\n",
       "    }\n",
       "\n",
       "    .dataframe tbody tr th {\n",
       "        vertical-align: top;\n",
       "    }\n",
       "\n",
       "    .dataframe thead th {\n",
       "        text-align: right;\n",
       "    }\n",
       "</style>\n",
       "<table border=\"1\" class=\"dataframe\">\n",
       "  <thead>\n",
       "    <tr style=\"text-align: right;\">\n",
       "      <th></th>\n",
       "      <th>carbon_source</th>\n",
       "      <th>flux_minimum</th>\n",
       "      <th>carbon_yield_minimum</th>\n",
       "      <th>mass_yield_minimum</th>\n",
       "      <th>flux_maximum</th>\n",
       "      <th>carbon_yield_maximum</th>\n",
       "      <th>mass_yield_maximum</th>\n",
       "      <th>EX_fe2_e</th>\n",
       "    </tr>\n",
       "  </thead>\n",
       "  <tbody>\n",
       "    <tr>\n",
       "      <th>0</th>\n",
       "      <td>EX_glc__D_e</td>\n",
       "      <td>0.016334</td>\n",
       "      <td>0.809617</td>\n",
       "      <td>NaN</td>\n",
       "      <td>0.016334</td>\n",
       "      <td>0.809617</td>\n",
       "      <td>NaN</td>\n",
       "      <td>-0.065336</td>\n",
       "    </tr>\n",
       "    <tr>\n",
       "      <th>1</th>\n",
       "      <td>EX_glc__D_e</td>\n",
       "      <td>0.015474</td>\n",
       "      <td>0.766987</td>\n",
       "      <td>NaN</td>\n",
       "      <td>0.015474</td>\n",
       "      <td>0.809501</td>\n",
       "      <td>NaN</td>\n",
       "      <td>-0.061897</td>\n",
       "    </tr>\n",
       "    <tr>\n",
       "      <th>2</th>\n",
       "      <td>EX_glc__D_e</td>\n",
       "      <td>0.014614</td>\n",
       "      <td>0.724356</td>\n",
       "      <td>NaN</td>\n",
       "      <td>0.014615</td>\n",
       "      <td>0.809372</td>\n",
       "      <td>NaN</td>\n",
       "      <td>-0.058458</td>\n",
       "    </tr>\n",
       "    <tr>\n",
       "      <th>3</th>\n",
       "      <td>EX_glc__D_e</td>\n",
       "      <td>0.013754</td>\n",
       "      <td>0.681726</td>\n",
       "      <td>NaN</td>\n",
       "      <td>0.013755</td>\n",
       "      <td>0.809226</td>\n",
       "      <td>NaN</td>\n",
       "      <td>-0.055019</td>\n",
       "    </tr>\n",
       "    <tr>\n",
       "      <th>4</th>\n",
       "      <td>EX_glc__D_e</td>\n",
       "      <td>0.012894</td>\n",
       "      <td>0.639097</td>\n",
       "      <td>NaN</td>\n",
       "      <td>0.012895</td>\n",
       "      <td>0.809062</td>\n",
       "      <td>NaN</td>\n",
       "      <td>-0.051581</td>\n",
       "    </tr>\n",
       "  </tbody>\n",
       "</table>\n",
       "</div>"
      ],
      "text/plain": [
       "  carbon_source  flux_minimum  carbon_yield_minimum  mass_yield_minimum  \\\n",
       "0   EX_glc__D_e      0.016334              0.809617                 NaN   \n",
       "1   EX_glc__D_e      0.015474              0.766987                 NaN   \n",
       "2   EX_glc__D_e      0.014614              0.724356                 NaN   \n",
       "3   EX_glc__D_e      0.013754              0.681726                 NaN   \n",
       "4   EX_glc__D_e      0.012894              0.639097                 NaN   \n",
       "\n",
       "   flux_maximum  carbon_yield_maximum  mass_yield_maximum  EX_fe2_e  \n",
       "0      0.016334              0.809617                 NaN -0.065336  \n",
       "1      0.015474              0.809501                 NaN -0.061897  \n",
       "2      0.014615              0.809372                 NaN -0.058458  \n",
       "3      0.013755              0.809226                 NaN -0.055019  \n",
       "4      0.012895              0.809062                 NaN -0.051581  "
      ]
     },
     "execution_count": 117,
     "metadata": {},
     "output_type": "execute_result"
    }
   ],
   "source": [
    "prod_env = production_envelope(\n",
    "    model, [\"EX_fe2_e\"], objective='rHb', carbon_sources=\"EX_glc__D_e\")\n",
    "prod_env.head() #shows data in tabe"
   ]
  },
  {
   "cell_type": "code",
   "execution_count": 118,
   "id": "b9063eac",
   "metadata": {},
   "outputs": [
    {
     "data": {
      "image/png": "[encoded data removed]",
      "text/plain": [
       "<Figure size 432x288 with 1 Axes>"
      ]
     },
     "metadata": {
      "needs_background": "light"
     },
     "output_type": "display_data"
    }
   ],
   "source": [
    "prod_env.plot(\n",
    "    kind='line', x='EX_fe2_e', y='flux_maximum');"
   ]
  },
  {
   "cell_type": "markdown",
   "id": "fd34829e",
   "metadata": {},
   "source": [
    "Trying for rHb when specifying growth instead of carbon source"
   ]
  },
  {
   "cell_type": "code",
   "execution_count": 38,
   "id": "a6dce8df",
   "metadata": {},
   "outputs": [],
   "source": [
    "prod_env = production_envelope(\n",
    "    model, [\"BIOMASS_yeast-GEM\"], objective=\"rHb\", carbon_sources=\"EX_glc__D_e\")\n",
    "#prod_env.head() #shows data in tabe"
   ]
  },
  {
   "cell_type": "code",
   "execution_count": 39,
   "id": "33a0f02f",
   "metadata": {},
   "outputs": [
    {
     "data": {
      "image/png": "[encoded data removed]",
      "text/plain": [
       "<Figure size 432x288 with 1 Axes>"
      ]
     },
     "metadata": {
      "needs_background": "light"
     },
     "output_type": "display_data"
    }
   ],
   "source": [
    "prod_env.plot(\n",
    "    kind='line', x='BIOMASS_yeast-GEM', y='carbon_yield_maximum');"
   ]
  },
  {
   "cell_type": "code",
   "execution_count": 40,
   "id": "43119ecd",
   "metadata": {},
   "outputs": [
    {
     "data": {
      "text/html": [
       "<div>\n",
       "<style scoped>\n",
       "    .dataframe tbody tr th:only-of-type {\n",
       "        vertical-align: middle;\n",
       "    }\n",
       "\n",
       "    .dataframe tbody tr th {\n",
       "        vertical-align: top;\n",
       "    }\n",
       "\n",
       "    .dataframe thead th {\n",
       "        text-align: right;\n",
       "    }\n",
       "</style>\n",
       "<table border=\"1\" class=\"dataframe\">\n",
       "  <thead>\n",
       "    <tr style=\"text-align: right;\">\n",
       "      <th></th>\n",
       "      <th>carbon_source</th>\n",
       "      <th>flux_minimum</th>\n",
       "      <th>carbon_yield_minimum</th>\n",
       "      <th>mass_yield_minimum</th>\n",
       "      <th>flux_maximum</th>\n",
       "      <th>carbon_yield_maximum</th>\n",
       "      <th>mass_yield_maximum</th>\n",
       "      <th>rHb</th>\n",
       "    </tr>\n",
       "  </thead>\n",
       "  <tbody>\n",
       "    <tr>\n",
       "      <th>0</th>\n",
       "      <td>EX_glc__D_e</td>\n",
       "      <td>0.0</td>\n",
       "      <td>0.0</td>\n",
       "      <td>NaN</td>\n",
       "      <td>0.863737</td>\n",
       "      <td>7.960774</td>\n",
       "      <td>NaN</td>\n",
       "      <td>0.000000</td>\n",
       "    </tr>\n",
       "    <tr>\n",
       "      <th>1</th>\n",
       "      <td>EX_glc__D_e</td>\n",
       "      <td>0.0</td>\n",
       "      <td>0.0</td>\n",
       "      <td>NaN</td>\n",
       "      <td>0.820369</td>\n",
       "      <td>7.561070</td>\n",
       "      <td>NaN</td>\n",
       "      <td>0.000860</td>\n",
       "    </tr>\n",
       "    <tr>\n",
       "      <th>2</th>\n",
       "      <td>EX_glc__D_e</td>\n",
       "      <td>0.0</td>\n",
       "      <td>0.0</td>\n",
       "      <td>NaN</td>\n",
       "      <td>0.777002</td>\n",
       "      <td>7.161366</td>\n",
       "      <td>NaN</td>\n",
       "      <td>0.001719</td>\n",
       "    </tr>\n",
       "    <tr>\n",
       "      <th>3</th>\n",
       "      <td>EX_glc__D_e</td>\n",
       "      <td>0.0</td>\n",
       "      <td>0.0</td>\n",
       "      <td>NaN</td>\n",
       "      <td>0.733634</td>\n",
       "      <td>6.761662</td>\n",
       "      <td>NaN</td>\n",
       "      <td>0.002579</td>\n",
       "    </tr>\n",
       "    <tr>\n",
       "      <th>4</th>\n",
       "      <td>EX_glc__D_e</td>\n",
       "      <td>0.0</td>\n",
       "      <td>0.0</td>\n",
       "      <td>NaN</td>\n",
       "      <td>0.690267</td>\n",
       "      <td>6.361958</td>\n",
       "      <td>NaN</td>\n",
       "      <td>0.003439</td>\n",
       "    </tr>\n",
       "  </tbody>\n",
       "</table>\n",
       "</div>"
      ],
      "text/plain": [
       "  carbon_source  flux_minimum  carbon_yield_minimum  mass_yield_minimum  \\\n",
       "0   EX_glc__D_e           0.0                   0.0                 NaN   \n",
       "1   EX_glc__D_e           0.0                   0.0                 NaN   \n",
       "2   EX_glc__D_e           0.0                   0.0                 NaN   \n",
       "3   EX_glc__D_e           0.0                   0.0                 NaN   \n",
       "4   EX_glc__D_e           0.0                   0.0                 NaN   \n",
       "\n",
       "   flux_maximum  carbon_yield_maximum  mass_yield_maximum       rHb  \n",
       "0      0.863737              7.960774                 NaN  0.000000  \n",
       "1      0.820369              7.561070                 NaN  0.000860  \n",
       "2      0.777002              7.161366                 NaN  0.001719  \n",
       "3      0.733634              6.761662                 NaN  0.002579  \n",
       "4      0.690267              6.361958                 NaN  0.003439  "
      ]
     },
     "execution_count": 40,
     "metadata": {},
     "output_type": "execute_result"
    }
   ],
   "source": [
    "prod_env = production_envelope(\n",
    "    model, [\"rHb\"], objective=\"BIOMASS_yeast-GEM\", carbon_sources=\"EX_glc__D_e\")\n",
    "prod_env.head() #shows data in tabe"
   ]
  },
  {
   "cell_type": "code",
   "execution_count": 41,
   "id": "e7355292",
   "metadata": {},
   "outputs": [
    {
     "data": {
      "image/png": "[encoded data removed]",
      "text/plain": [
       "<Figure size 432x288 with 1 Axes>"
      ]
     },
     "metadata": {
      "needs_background": "light"
     },
     "output_type": "display_data"
    }
   ],
   "source": [
    "prod_env.plot(\n",
    "    kind='line', x='carbon_yield_maximum', y='rHb'); #These axis are proberby wrong"
   ]
  },
  {
   "cell_type": "code",
   "execution_count": 42,
   "id": "7905d8ca-34e3-4c06-b412-2b0de5cd5142",
   "metadata": {},
   "outputs": [
    {
     "ename": "NameError",
     "evalue": "name 'df_sorted' is not defined",
     "output_type": "error",
     "traceback": [
      "\u001b[1;31m---------------------------------------------------------------------------\u001b[0m",
      "\u001b[1;31mNameError\u001b[0m                                 Traceback (most recent call last)",
      "\u001b[1;32m<ipython-input-42-4cb67659027a>\u001b[0m in \u001b[0;36m<module>\u001b[1;34m\u001b[0m\n\u001b[0;32m      1\u001b[0m \u001b[1;32mwith\u001b[0m \u001b[0mmodel\u001b[0m\u001b[1;33m:\u001b[0m\u001b[1;33m\u001b[0m\u001b[1;33m\u001b[0m\u001b[0m\n\u001b[0;32m      2\u001b[0m     \u001b[1;32mfor\u001b[0m \u001b[0mi\u001b[0m \u001b[1;32min\u001b[0m \u001b[0mrange\u001b[0m\u001b[1;33m(\u001b[0m\u001b[1;36m0\u001b[0m\u001b[1;33m,\u001b[0m\u001b[1;36m10\u001b[0m\u001b[1;33m)\u001b[0m\u001b[1;33m:\u001b[0m\u001b[1;33m\u001b[0m\u001b[1;33m\u001b[0m\u001b[0m\n\u001b[1;32m----> 3\u001b[1;33m         \u001b[0mmodel\u001b[0m\u001b[1;33m.\u001b[0m\u001b[0mreactions\u001b[0m\u001b[1;33m.\u001b[0m\u001b[0mget_by_id\u001b[0m\u001b[1;33m(\u001b[0m\u001b[0mdf_sorted\u001b[0m\u001b[1;33m.\u001b[0m\u001b[0mindex\u001b[0m\u001b[1;33m.\u001b[0m\u001b[0mvalues\u001b[0m\u001b[1;33m[\u001b[0m\u001b[0mi\u001b[0m\u001b[1;33m]\u001b[0m\u001b[1;33m)\u001b[0m\u001b[1;33m.\u001b[0m\u001b[0mbounds\u001b[0m \u001b[1;33m=\u001b[0m \u001b[0mdf_sorted\u001b[0m\u001b[1;33m.\u001b[0m\u001b[0miloc\u001b[0m\u001b[1;33m[\u001b[0m\u001b[0mi\u001b[0m\u001b[1;33m,\u001b[0m\u001b[1;36m10\u001b[0m\u001b[1;33m]\u001b[0m\u001b[1;33m,\u001b[0m \u001b[0mdf_sorted\u001b[0m\u001b[1;33m.\u001b[0m\u001b[0miloc\u001b[0m\u001b[1;33m[\u001b[0m\u001b[0mi\u001b[0m\u001b[1;33m,\u001b[0m\u001b[1;36m10\u001b[0m\u001b[1;33m]\u001b[0m\u001b[1;33m\u001b[0m\u001b[1;33m\u001b[0m\u001b[0m\n\u001b[0m\u001b[0;32m      4\u001b[0m     \u001b[0mmodel\u001b[0m\u001b[1;33m.\u001b[0m\u001b[0moptimize\u001b[0m\u001b[1;33m(\u001b[0m\u001b[1;33m)\u001b[0m\u001b[1;33m\u001b[0m\u001b[1;33m\u001b[0m\u001b[0m\n\u001b[0;32m      5\u001b[0m     \u001b[0mprint\u001b[0m\u001b[1;33m(\u001b[0m\u001b[1;34m'Parameters for strain with 10 upregulated targets:'\u001b[0m\u001b[1;33m)\u001b[0m\u001b[1;33m\u001b[0m\u001b[1;33m\u001b[0m\u001b[0m\n",
      "\u001b[1;31mNameError\u001b[0m: name 'df_sorted' is not defined"
     ]
    }
   ],
   "source": [
    "with model:\n",
    "    for i in range(0,10):\n",
    "        model.reactions.get_by_id(df_sorted.index.values[i]).bounds = df_sorted.iloc[i,10], df_sorted.iloc[i,10]\n",
    "    model.optimize()\n",
    "    print('Parameters for strain with 10 upregulated targets:')\n",
    "    print(\"Rate of heme production:\", model.reactions.FCLTm.flux)\n",
    "    print(\"Rate of hemoglobin production:\", model.reactions.EX_rHb.flux)\n",
    "    print(\"Growth rate:\", model.reactions.GROWTH.flux)\n",
    "\n",
    "    #niko says change upper and lower bound to the things we got in the matrix -> simulated up-regulated"
   ]
  },
  {
   "cell_type": "markdown",
   "id": "d2b1743d-1767-498a-97b4-7c049fc5ccb8",
   "metadata": {},
   "source": [
    "# Med \"slim optimize\"\n",
    "**in case det tager rigtig lang tid at optimere**\n"
   ]
  },
  {
   "cell_type": "code",
   "execution_count": null,
   "id": "2446e085-bef7-448c-9b18-3686e1d73e2a",
   "metadata": {},
   "outputs": [],
   "source": [
    "%%time\n",
    "medium = model.medium\n",
    "#model.add_boundary(model.metabolites.pheme_m, type='demand') # adds the exchange reaction for heme\n",
    "x = []\n",
    "y = []\n",
    "i = 0\n",
    "with model:\n",
    "    while i < 11: #Optimizes growth for increasing glucose values and stores values in vector x.\n",
    "        medium['EX_glc__D_e'] = i\n",
    "        model.medium = medium\n",
    "        solution = model.slim_optimize()\n",
    "        #print(\"Standard yeast maximum theoretical biomass productivity:\", solution.fluxes['BIOMASS_SC5_notrace'], '/h')\n",
    "        x.append(model.reactions.BIOMASS_SC5_notrace.flux)\n",
    "        i = i + 0.05\n",
    "\n",
    "    #print(x)\n",
    "    i = 0    \n",
    "    while i < 11: #Optimizes heme prod for increasing glucose values and stores values in vector y.\n",
    "        medium['EX_glc__D_e'] = i\n",
    "        model.medium = medium\n",
    "        model.objective = model.reactions.DM_pheme_m\n",
    "        heme_production = model.optimize().objective_value\n",
    "        #print(\"Standard yeast maximum theoretical productivity of heme \", heme_production, '[mmol gDW^-1 h^-1]')\n",
    "        y.append(heme_production)\n",
    "        i = i + 0.1\n",
    "    #print(y)\n",
    "    #brug evt: ny_vector = np.array(y) #siden \"y\" er en liste kan det maaske give problemer naar der skal plottes. Det her laver det np.array"
   ]
  }
 ],
 "metadata": {
  "kernelspec": {
   "display_name": "Python 3",
   "language": "python",
   "name": "python3"
  },
  "language_info": {
   "codemirror_mode": {
    "name": "ipython",
    "version": 3
   },
   "file_extension": ".py",
   "mimetype": "text/x-python",
   "name": "python",
   "nbconvert_exporter": "python",
   "pygments_lexer": "ipython3",
   "version": "3.6.13"
  }
 },
 "nbformat": 4,
 "nbformat_minor": 5
}
