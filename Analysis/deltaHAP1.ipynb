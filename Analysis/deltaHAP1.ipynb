{
 "cells": [
  {
   "cell_type": "code",
   "execution_count": 7,
   "id": "207a3a81-36bc-40f1-845f-c53d4c880492",
   "metadata": {},
   "outputs": [],
   "source": [
    "from cobra.io import read_sbml_model\n",
    "from cobra import Reaction, Metabolite\n",
    "from cobra.util import create_stoichiometric_matrix\n",
    "import numpy as np"
   ]
  },
  {
   "cell_type": "code",
   "execution_count": 8,
   "id": "39d57a09-0cca-4317-ad11-ed9b4a7c2d7e",
   "metadata": {},
   "outputs": [],
   "source": [
    "model = read_sbml_model('iMM904.xml') "
   ]
  },
  {
   "cell_type": "code",
   "execution_count": 9,
   "id": "05791a6d-c8aa-4211-b4f0-c0557f33808d",
   "metadata": {},
   "outputs": [],
   "source": [
    "# Create stoichiometric matrix\n",
    "S = create_stoichiometric_matrix(model)\n",
    "deg_of_freedom = S.shape[1] - np.linalg.matrix_rank(S)"
   ]
  },
  {
   "cell_type": "code",
   "execution_count": 10,
   "id": "e7181e30-2e16-4ad6-95c5-e6dc62c1d9da",
   "metadata": {},
   "outputs": [],
   "source": [
    "# S_bin should only contain floating point numbers (either 0. or 1.)\n",
    "S_bin = np.where(S != 0, 1, 0)\n",
    "# Compute reaction adjacency matrix A_v.\n",
    "A_v = S_bin.T.dot(S_bin)\n",
    "# Compute compound adjacency matrix A_x.\n",
    "A_x = S_bin.dot(S_bin.T)"
   ]
  },
  {
   "cell_type": "code",
   "execution_count": 11,
   "id": "75b898df-1216-4436-9c45-543a939528a8",
   "metadata": {},
   "outputs": [],
   "source": [
    "# Based on A_x, which metabolite participates in the most reactions?\n",
    "most_connected_metabolite = sorted(zip(model.metabolites, A_x.diagonal()), key=lambda item: item[1], reverse=True)[0][0]"
   ]
  },
  {
   "cell_type": "code",
   "execution_count": 13,
   "id": "c8e4b440-27bd-491c-b03f-4459efa82228",
   "metadata": {},
   "outputs": [
    {
     "data": {
      "text/plain": [
       "[<Metabolite 2dr5p_c at 0x1e367dd3f60>,\n",
       " <Metabolite 2hb_c at 0x1e367dd35c0>,\n",
       " <Metabolite 2hb_e at 0x1e367dd3ac8>,\n",
       " <Metabolite 2hhxdal_c at 0x1e367dd3dd8>,\n",
       " <Metabolite 2hp6mbq_m at 0x1e367dd3160>,\n",
       " <Metabolite 2hp6mp_m at 0x1e367dd30b8>,\n",
       " <Metabolite 2hpmhmbq_m at 0x1e367dc3f60>,\n",
       " <Metabolite 2hpmmbq_m at 0x1e367dc3b70>,\n",
       " <Metabolite 2ippm_c at 0x1e367dc32b0>,\n",
       " <Metabolite 2kmb_c at 0x1e367dc3390>]"
      ]
     },
     "execution_count": 13,
     "metadata": {},
     "output_type": "execute_result"
    }
   ],
   "source": [
    "model.metabolites[0:10] #The model contains a list of metabolites. Here are the first ten."
   ]
  },
  {
   "cell_type": "code",
   "execution_count": 14,
   "id": "c7f90918-8514-4f7d-9a2d-63decd1e76b1",
   "metadata": {},
   "outputs": [
    {
     "data": {
      "text/html": [
       "<strong><em>Optimal</em> solution with objective value 0.288</strong><br><div>\n",
       "<style scoped>\n",
       "    .dataframe tbody tr th:only-of-type {\n",
       "        vertical-align: middle;\n",
       "    }\n",
       "\n",
       "    .dataframe tbody tr th {\n",
       "        vertical-align: top;\n",
       "    }\n",
       "\n",
       "    .dataframe thead th {\n",
       "        text-align: right;\n",
       "    }\n",
       "</style>\n",
       "<table border=\"1\" class=\"dataframe\">\n",
       "  <thead>\n",
       "    <tr style=\"text-align: right;\">\n",
       "      <th></th>\n",
       "      <th>fluxes</th>\n",
       "      <th>reduced_costs</th>\n",
       "    </tr>\n",
       "  </thead>\n",
       "  <tbody>\n",
       "    <tr>\n",
       "      <th>CITtcp</th>\n",
       "      <td>0.000000</td>\n",
       "      <td>0.000000e+00</td>\n",
       "    </tr>\n",
       "    <tr>\n",
       "      <th>13BGH</th>\n",
       "      <td>0.000000</td>\n",
       "      <td>-4.751566e-02</td>\n",
       "    </tr>\n",
       "    <tr>\n",
       "      <th>13BGHe</th>\n",
       "      <td>0.000000</td>\n",
       "      <td>0.000000e+00</td>\n",
       "    </tr>\n",
       "    <tr>\n",
       "      <th>13GS</th>\n",
       "      <td>0.326670</td>\n",
       "      <td>0.000000e+00</td>\n",
       "    </tr>\n",
       "    <tr>\n",
       "      <th>16GS</th>\n",
       "      <td>0.000000</td>\n",
       "      <td>0.000000e+00</td>\n",
       "    </tr>\n",
       "    <tr>\n",
       "      <th>...</th>\n",
       "      <td>...</td>\n",
       "      <td>...</td>\n",
       "    </tr>\n",
       "    <tr>\n",
       "      <th>PYDXO</th>\n",
       "      <td>0.000000</td>\n",
       "      <td>0.000000e+00</td>\n",
       "    </tr>\n",
       "    <tr>\n",
       "      <th>PYK</th>\n",
       "      <td>17.721990</td>\n",
       "      <td>-1.387779e-17</td>\n",
       "    </tr>\n",
       "    <tr>\n",
       "      <th>PYNP2r</th>\n",
       "      <td>0.000000</td>\n",
       "      <td>0.000000e+00</td>\n",
       "    </tr>\n",
       "    <tr>\n",
       "      <th>PYR5CDm</th>\n",
       "      <td>0.000000</td>\n",
       "      <td>-2.969729e-02</td>\n",
       "    </tr>\n",
       "    <tr>\n",
       "      <th>PYRDC</th>\n",
       "      <td>15.946051</td>\n",
       "      <td>0.000000e+00</td>\n",
       "    </tr>\n",
       "  </tbody>\n",
       "</table>\n",
       "<p>1577 rows × 2 columns</p>\n",
       "</div>"
      ],
      "text/plain": [
       "<Solution 0.288 at 0x1e365bff828>"
      ]
     },
     "execution_count": 14,
     "metadata": {},
     "output_type": "execute_result"
    }
   ],
   "source": [
    "model.optimize()"
   ]
  },
  {
   "cell_type": "code",
   "execution_count": 15,
   "id": "acca686a-bbe5-4f0c-a294-a45ed94c3641",
   "metadata": {},
   "outputs": [
    {
     "data": {
      "text/plain": [
       "0.28786570370401743"
      ]
     },
     "execution_count": 15,
     "metadata": {},
     "output_type": "execute_result"
    }
   ],
   "source": [
    "model.optimize().objective_value"
   ]
  },
  {
   "cell_type": "code",
   "execution_count": null,
   "id": "a3134fb1-828d-47b3-97ac-e84ecdff3120",
   "metadata": {},
   "outputs": [],
   "source": []
  }
 ],
 "metadata": {
  "kernelspec": {
   "display_name": "Python 3",
   "language": "python",
   "name": "python3"
  },
  "language_info": {
   "codemirror_mode": {
    "name": "ipython",
    "version": 3
   },
   "file_extension": ".py",
   "mimetype": "text/x-python",
   "name": "python",
   "nbconvert_exporter": "python",
   "pygments_lexer": "ipython3",
   "version": "3.6.13"
  }
 },
 "nbformat": 4,
 "nbformat_minor": 5
}
