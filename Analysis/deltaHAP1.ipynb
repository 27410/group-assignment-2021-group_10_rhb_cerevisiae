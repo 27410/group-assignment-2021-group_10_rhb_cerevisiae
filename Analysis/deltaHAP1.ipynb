{
 "cells": [
  {
   "cell_type": "code",
   "execution_count": 1,
   "id": "207a3a81-36bc-40f1-845f-c53d4c880492",
   "metadata": {},
   "outputs": [],
   "source": [
    "import pandas as pd\n",
    "import matplotlib.pyplot as plt\n",
    "plt.style.use('seaborn')\n",
    "from cobra.io import read_sbml_model\n",
    "from cobra import Reaction, Metabolite\n",
    "from cobra.util import create_stoichiometric_matrix\n",
    "import numpy as np"
   ]
  },
  {
   "cell_type": "code",
   "execution_count": 2,
   "id": "39d57a09-0cca-4317-ad11-ed9b4a7c2d7e",
   "metadata": {},
   "outputs": [],
   "source": [
    "model = read_sbml_model('iMM904.xml') "
   ]
  },
  {
   "cell_type": "markdown",
   "id": "256b17c6-3fc7-4455-bacb-5306e2fba723",
   "metadata": {},
   "source": [
    "Querry for heme as a metabolite"
   ]
  },
  {
   "cell_type": "code",
   "execution_count": 3,
   "id": "ef2276e8-f80b-4588-b527-ff38b4283131",
   "metadata": {},
   "outputs": [
    {
     "name": "stdout",
     "output_type": "stream",
     "text": [
      "pheme_m\n",
      "sheme_c\n"
     ]
    }
   ],
   "source": [
    "for metabolite in model.metabolites.query('heme', 'name'):\n",
    "    print(metabolite.id)"
   ]
  },
  {
   "cell_type": "code",
   "execution_count": 4,
   "id": "28a62b21-eb6d-4b28-8e34-e61d8de63187",
   "metadata": {},
   "outputs": [
    {
     "name": "stdout",
     "output_type": "stream",
     "text": [
      "Heme A C49H55FeN4O6\n",
      "Heme O C49H56FeN4O5\n",
      "Protoheme C34H30FeN4O4\n",
      "Siroheme C42H36FeN4O16\n"
     ]
    }
   ],
   "source": [
    "for metabolite in model.metabolites.query('heme', 'id'):\n",
    "    print(metabolite.name)"
   ]
  },
  {
   "cell_type": "markdown",
   "id": "c1a7135d-2679-40a7-bee8-69a4f3a578c3",
   "metadata": {},
   "source": [
    "We want a lot of Protoheme C34H30FeN4O4 **(id: pheme_m)**. Let's start by figuring out what the flux to heme currently is?"
   ]
  },
  {
   "cell_type": "code",
   "execution_count": 5,
   "id": "a3134fb1-828d-47b3-97ac-e84ecdff3120",
   "metadata": {},
   "outputs": [
    {
     "name": "stdout",
     "output_type": "stream",
     "text": [
      "FCLTm FCLTm: fe2_m + ppp9_m --> 2.0 h_m + pheme_m Ferrochelatase  mitochondrial\n",
      "HEMEOSm HEMEOSm: frdp_m + h2o_m + pheme_m --> hemeO_m + ppi_m Heme O synthase  mitochondrial\n"
     ]
    }
   ],
   "source": [
    "for reaction in model.metabolites.pheme_m.reactions:\n",
    "    print(reaction.id, reaction, reaction.name)"
   ]
  },
  {
   "cell_type": "markdown",
   "id": "e9b71a31-50b4-4433-8f25-3064e2ea4b94",
   "metadata": {},
   "source": [
    "It could be an idea to knockout the enzymes catalysing the conversion to Heme A C49H55FeN4O6 and Heme O C49H56FeN4O5"
   ]
  },
  {
   "cell_type": "code",
   "execution_count": null,
   "id": "caa84d0a-b4d3-484d-9c24-c959bc0c45d8",
   "metadata": {},
   "outputs": [],
   "source": []
  },
  {
   "cell_type": "markdown",
   "id": "32317fce-3a10-409d-a07a-794841f65171",
   "metadata": {},
   "source": []
  },
  {
   "cell_type": "code",
   "execution_count": 40,
   "id": "d05dd9bd-ce5f-430d-a135-bd3cdb85c0aa",
   "metadata": {},
   "outputs": [
    {
     "ename": "TypeError",
     "evalue": "'Series' object is not callable",
     "output_type": "error",
     "traceback": [
      "\u001b[1;31m---------------------------------------------------------------------------\u001b[0m",
      "\u001b[1;31mTypeError\u001b[0m                                 Traceback (most recent call last)",
      "\u001b[1;32m<ipython-input-40-9b1ec25d3085>\u001b[0m in \u001b[0;36m<module>\u001b[1;34m\u001b[0m\n\u001b[0;32m      1\u001b[0m \u001b[0msolution\u001b[0m \u001b[1;33m=\u001b[0m \u001b[0mmodel\u001b[0m\u001b[1;33m.\u001b[0m\u001b[0moptimize\u001b[0m\u001b[1;33m(\u001b[0m\u001b[1;33m)\u001b[0m\u001b[1;33m\u001b[0m\u001b[1;33m\u001b[0m\u001b[0m\n\u001b[1;32m----> 2\u001b[1;33m \u001b[0msolution\u001b[0m\u001b[1;33m.\u001b[0m\u001b[0mfluxes\u001b[0m\u001b[1;33m(\u001b[0m\u001b[1;34m'pheme_m'\u001b[0m\u001b[1;33m)\u001b[0m\u001b[1;33m\u001b[0m\u001b[1;33m\u001b[0m\u001b[0m\n\u001b[0m",
      "\u001b[1;31mTypeError\u001b[0m: 'Series' object is not callable"
     ]
    }
   ],
   "source": [
    "solution = model.optimize()\n",
    "solution.fluxes('pheme_m')"
   ]
  },
  {
   "cell_type": "markdown",
   "id": "c895483a-9dcb-4dfc-94a9-2c3def32f8b8",
   "metadata": {},
   "source": [
    " Knockout the gene: HAP1 / systemic name: YLR256W\n",
    " OR the gene for Heme O synthase HEMEOSm"
   ]
  },
  {
   "cell_type": "code",
   "execution_count": null,
   "id": "3a93c731-3e71-47e1-b5dd-a090bb5ad400",
   "metadata": {},
   "outputs": [],
   "source": []
  },
  {
   "cell_type": "markdown",
   "id": "bbd1dc29-c916-45e7-8654-1dba73d204c0",
   "metadata": {},
   "source": [
    "What is the flux to heme now?"
   ]
  },
  {
   "cell_type": "code",
   "execution_count": null,
   "id": "877d8205-38ac-4f71-9087-408103ce132b",
   "metadata": {},
   "outputs": [],
   "source": []
  }
 ],
 "metadata": {
  "kernelspec": {
   "display_name": "Python 3",
   "language": "python",
   "name": "python3"
  },
  "language_info": {
   "codemirror_mode": {
    "name": "ipython",
    "version": 3
   },
   "file_extension": ".py",
   "mimetype": "text/x-python",
   "name": "python",
   "nbconvert_exporter": "python",
   "pygments_lexer": "ipython3",
   "version": "3.8.8"
  }
 },
 "nbformat": 4,
 "nbformat_minor": 5
}
