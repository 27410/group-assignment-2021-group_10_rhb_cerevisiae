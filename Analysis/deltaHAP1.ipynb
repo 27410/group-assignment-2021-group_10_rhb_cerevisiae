{
 "cells": [
  {
   "cell_type": "code",
   "execution_count": 2,
   "id": "207a3a81-36bc-40f1-845f-c53d4c880492",
   "metadata": {},
   "outputs": [],
   "source": [
    "import pandas as pd\n",
    "import matplotlib.pyplot as plt\n",
    "plt.style.use('seaborn')\n",
    "from cobra.io import read_sbml_model\n",
    "from cobra import Reaction, Metabolite\n",
    "from cobra.util import create_stoichiometric_matrix\n",
    "import numpy as np\n",
    "import escher"
   ]
  },
  {
   "cell_type": "code",
   "execution_count": 3,
   "id": "39d57a09-0cca-4317-ad11-ed9b4a7c2d7e",
   "metadata": {},
   "outputs": [],
   "source": [
    "model = read_sbml_model('iMM904.xml') "
   ]
  },
  {
   "cell_type": "markdown",
   "id": "256b17c6-3fc7-4455-bacb-5306e2fba723",
   "metadata": {
    "jp-MarkdownHeadingCollapsed": true,
    "tags": []
   },
   "source": [
    "# Intro\n",
    "\n",
    "Querry for heme as a metabolite"
   ]
  },
  {
   "cell_type": "code",
   "execution_count": 4,
   "id": "ef2276e8-f80b-4588-b527-ff38b4283131",
   "metadata": {},
   "outputs": [
    {
     "name": "stdout",
     "output_type": "stream",
     "text": [
      "pheme_m\n",
      "sheme_c\n"
     ]
    }
   ],
   "source": [
    "for metabolite in model.metabolites.query('heme', 'name'):\n",
    "    print(metabolite.id)"
   ]
  },
  {
   "cell_type": "markdown",
   "id": "1e36c884-c684-46b7-bf9a-fbc59bb0148b",
   "metadata": {},
   "source": [
    "Some info on the metabolite"
   ]
  },
  {
   "cell_type": "code",
   "execution_count": 5,
   "id": "06dd273e-46f7-4b14-ae58-a78e2e3a8ce9",
   "metadata": {},
   "outputs": [
    {
     "data": {
      "text/html": [
       "\n",
       "        <table>\n",
       "            <tr>\n",
       "                <td><strong>Metabolite identifier</strong></td><td>pheme_m</td>\n",
       "            </tr><tr>\n",
       "                <td><strong>Name</strong></td><td>Protoheme C34H30FeN4O4</td>\n",
       "            </tr><tr>\n",
       "                <td><strong>Memory address</strong></td>\n",
       "                <td>0x01f68320dda0</td>\n",
       "            </tr><tr>\n",
       "                <td><strong>Formula</strong></td><td></td>\n",
       "            </tr><tr>\n",
       "                <td><strong>Compartment</strong></td><td>m</td>\n",
       "            </tr><tr>\n",
       "                <td><strong>In 2 reaction(s)</strong></td><td>\n",
       "                    FCLTm, HEMEOSm</td>\n",
       "            </tr>\n",
       "        </table>"
      ],
      "text/plain": [
       "<Metabolite pheme_m at 0x1f68320dda0>"
      ]
     },
     "execution_count": 5,
     "metadata": {},
     "output_type": "execute_result"
    }
   ],
   "source": [
    "model.metabolites.pheme_m"
   ]
  },
  {
   "cell_type": "markdown",
   "id": "daca7291-cbd3-4d98-995f-a0c2fa1637b1",
   "metadata": {},
   "source": [
    "We can gather additional information (like references to external datbases) about the metabolite through the annotation attribute"
   ]
  },
  {
   "cell_type": "code",
   "execution_count": 6,
   "id": "24cae81d-5593-4e21-8b06-deda8ce30868",
   "metadata": {},
   "outputs": [
    {
     "data": {
      "text/plain": [
       "{'sbo': 'SBO:0000247',\n",
       " 'bigg.metabolite': 'pheme',\n",
       " 'biocyc': 'META:PROTOHEME',\n",
       " 'chebi': ['CHEBI:60344',\n",
       "  'CHEBI:26355',\n",
       "  'CHEBI:17627',\n",
       "  'CHEBI:5651',\n",
       "  'CHEBI:14957'],\n",
       " 'inchi_key': 'KABFMIBPWCXCRK-RGGAHWMASA-J',\n",
       " 'kegg.compound': 'C00032',\n",
       " 'metanetx.chemical': 'MNXM249',\n",
       " 'reactome.compound': ['917877', '71185', '189444']}"
      ]
     },
     "execution_count": 6,
     "metadata": {},
     "output_type": "execute_result"
    }
   ],
   "source": [
    "model.metabolites.pheme_m.annotation"
   ]
  },
  {
   "cell_type": "markdown",
   "id": "a6accc32-d0e7-4e0c-ba01-8b0f0f54c98a",
   "metadata": {
    "tags": []
   },
   "source": [
    "# The heme biosynthetic pathway"
   ]
  },
  {
   "cell_type": "markdown",
   "id": "36e5c4a0-64ff-4b1e-bdbf-914099b6d4e7",
   "metadata": {},
   "source": [
    "We want a lot of Protoheme C34H30FeN4O4 (id: pheme_m). Let's start by figuring out what the flux to heme currently is?\n",
    "\n",
    "We look at the reactions heme is directely involved in... ...and then work backwards to glycine (https://www.genome.jp/kegg-bin/show_pathway?sce00860)"
   ]
  },
  {
   "cell_type": "markdown",
   "id": "5c323755-14d6-48d3-8ad7-3fd1113ecd3f",
   "metadata": {
    "jp-MarkdownHeadingCollapsed": true,
    "tags": []
   },
   "source": [
    "## Last reaction (YOR176W/HEM15)"
   ]
  },
  {
   "cell_type": "code",
   "execution_count": 7,
   "id": "8029f225-bb2c-4cf4-9ac6-ddece36f2b96",
   "metadata": {},
   "outputs": [
    {
     "name": "stdout",
     "output_type": "stream",
     "text": [
      "FCLTm FCLTm: fe2_m + ppp9_m --> 2.0 h_m + pheme_m Ferrochelatase  mitochondrial\n",
      "HEMEOSm HEMEOSm: frdp_m + h2o_m + pheme_m --> hemeO_m + ppi_m Heme O synthase  mitochondrial\n"
     ]
    }
   ],
   "source": [
    "for reaction in model.metabolites.pheme_m.reactions:\n",
    "    print(reaction.id, reaction, reaction.name) # search for the last reaction in the heme biosynthesis"
   ]
  },
  {
   "cell_type": "code",
   "execution_count": 57,
   "id": "e2ebf226-920e-4c46-97d8-b418f193acc4",
   "metadata": {},
   "outputs": [],
   "source": [
    "heme_15 = model.reactions.get_by_id('FCLTm') # last reaction in the heme biosynthesis"
   ]
  },
  {
   "cell_type": "markdown",
   "id": "427878ff-f5e2-4095-94b6-18a039b7fad0",
   "metadata": {
    "jp-MarkdownHeadingCollapsed": true,
    "tags": []
   },
   "source": [
    "## 2nd to last reaction (YER014W/HEM14)"
   ]
  },
  {
   "cell_type": "code",
   "execution_count": 9,
   "id": "8cf30dae-d341-49bf-93ab-c2147d71ba81",
   "metadata": {},
   "outputs": [
    {
     "name": "stdout",
     "output_type": "stream",
     "text": [
      "PPPGOm PPPGOm: 3.0 o2_m + 2.0 pppg9_m --> 6.0 h2o_m + 2.0 ppp9_m Protoporphyrinogen oxidase  mitochondrial\n",
      "FCLTm FCLTm: fe2_m + ppp9_m --> 2.0 h_m + pheme_m Ferrochelatase  mitochondrial\n"
     ]
    }
   ],
   "source": [
    "for reaction in model.metabolites.ppp9_m.reactions:\n",
    "    print(reaction.id, reaction, reaction.name) # search for the second to last reaction in the heme biosynthesis"
   ]
  },
  {
   "cell_type": "code",
   "execution_count": 58,
   "id": "000ab828-08fb-44b8-bf15-ef067f36da53",
   "metadata": {},
   "outputs": [],
   "source": [
    "heme_14 = model.reactions.get_by_id('PPPGOm') # second to last reaction in the heme biosynthesis"
   ]
  },
  {
   "cell_type": "markdown",
   "id": "c9197cc4-37cb-48b3-8348-146b97dc18f5",
   "metadata": {
    "jp-MarkdownHeadingCollapsed": true,
    "tags": []
   },
   "source": [
    "## 3rd to last reaction (YDR044W/HEM13)"
   ]
  },
  {
   "cell_type": "code",
   "execution_count": 29,
   "id": "36619525-2f26-4e6c-86bd-5a2b515135e0",
   "metadata": {},
   "outputs": [
    {
     "name": "stdout",
     "output_type": "stream",
     "text": [
      "CPPPGO\n"
     ]
    }
   ],
   "source": [
    "for reactions in model.reactions.query('Coproporphyrinogen', 'name'): # RefSeq from https://www.genome.jp/entry/sce:YDR044W \n",
    "    print(reactions.id)"
   ]
  },
  {
   "cell_type": "code",
   "execution_count": 59,
   "id": "37345fa0-743e-4394-a782-f3a9f0fd958d",
   "metadata": {},
   "outputs": [],
   "source": [
    "heme_13 = model.reactions.get_by_id('CPPPGO')"
   ]
  },
  {
   "cell_type": "markdown",
   "id": "803deb14-f409-4dd7-9cfb-550af64d0629",
   "metadata": {
    "jp-MarkdownHeadingCollapsed": true,
    "tags": []
   },
   "source": [
    "## 4th to last reaction (YDR047W/HEM12,HEM6)\n",
    "Denne deler sig også ud til HEM14 (knockout?)"
   ]
  },
  {
   "cell_type": "code",
   "execution_count": 34,
   "id": "a03e2b3d-29da-45f4-ae83-e5308d044c8e",
   "metadata": {},
   "outputs": [
    {
     "name": "stdout",
     "output_type": "stream",
     "text": [
      "UPPDC1\n"
     ]
    }
   ],
   "source": [
    "for reactions in model.reactions.query('Uroporphyrinogen decarboxylase', 'name'): # RefSeq from https://www.genome.jp/entry/sce:YDR044W \n",
    "    print(reactions.id)"
   ]
  },
  {
   "cell_type": "code",
   "execution_count": 60,
   "id": "1d418fe1-c879-4a78-b563-61bedb107c9f",
   "metadata": {},
   "outputs": [],
   "source": [
    "heme_12 = model.reactions.get_by_id('UPPDC1') "
   ]
  },
  {
   "cell_type": "markdown",
   "id": "048a7e88-a907-43e0-9ba2-8955b0514b40",
   "metadata": {
    "jp-MarkdownHeadingCollapsed": true,
    "tags": []
   },
   "source": [
    "## 5th to last reaction (YOR278W/HEM4)"
   ]
  },
  {
   "cell_type": "code",
   "execution_count": 40,
   "id": "096d08c1-1413-4362-ab85-bc5b8e700cb3",
   "metadata": {},
   "outputs": [
    {
     "name": "stdout",
     "output_type": "stream",
     "text": [
      "UPP3S\n"
     ]
    }
   ],
   "source": [
    "for reactions in model.reactions.query('Uroporphyrinogen-III synthase', 'name'): # RefSeq from https://www.genome.jp/entry/sce:YOR278W\n",
    "    print(reactions.id)"
   ]
  },
  {
   "cell_type": "code",
   "execution_count": 61,
   "id": "3471fd69-a137-45b5-b9f8-d7702225bb80",
   "metadata": {},
   "outputs": [],
   "source": [
    "heme_4 = model.reactions.get_by_id('UPP3S') "
   ]
  },
  {
   "cell_type": "markdown",
   "id": "2a49e210-adc3-4b97-bf49-bbfbf734301d",
   "metadata": {
    "jp-MarkdownHeadingCollapsed": true,
    "tags": []
   },
   "source": [
    "## 6th to last reaction (YDL205C/HEM3,OLE2)"
   ]
  },
  {
   "cell_type": "code",
   "execution_count": 43,
   "id": "a3f29970-7b2a-4ba3-acbb-495e20cba7d5",
   "metadata": {},
   "outputs": [
    {
     "name": "stdout",
     "output_type": "stream",
     "text": [
      "HMBS\n"
     ]
    }
   ],
   "source": [
    "for reactions in model.reactions.query('Hydroxymethylbilane synthase', 'name'): # RefSeq from https://www.genome.jp/entry/sce:YDL205C\n",
    "    print(reactions.id)"
   ]
  },
  {
   "cell_type": "code",
   "execution_count": 63,
   "id": "4616637d-0aac-479e-976d-62f039838752",
   "metadata": {},
   "outputs": [],
   "source": [
    "heme_3 = model.reactions.get_by_id('HMBS')"
   ]
  },
  {
   "cell_type": "markdown",
   "id": "1130ff11-f40c-46e1-be7b-40e056b7640b",
   "metadata": {
    "jp-MarkdownHeadingCollapsed": true,
    "tags": []
   },
   "source": [
    "## 7th to last reaction (YGL040C/HEM2, OLE4, SLU1)"
   ]
  },
  {
   "cell_type": "code",
   "execution_count": 47,
   "id": "fca29c6b-7791-4aac-9299-681c5de8e63a",
   "metadata": {},
   "outputs": [
    {
     "name": "stdout",
     "output_type": "stream",
     "text": [
      "PPBNGS\n"
     ]
    }
   ],
   "source": [
    "for reactions in model.reactions.query('Porphobilinogen synthase', 'name'): # RefSeq from https://www.genome.jp/entry/sce:YGL040C\n",
    "    print(reactions.id)"
   ]
  },
  {
   "cell_type": "code",
   "execution_count": 64,
   "id": "33bdbc72-29bb-4a7f-83c0-907f3112e585",
   "metadata": {},
   "outputs": [],
   "source": [
    "heme_2 = model.reactions.get_by_id('PPBNGS')"
   ]
  },
  {
   "cell_type": "markdown",
   "id": "3efa8198-a1e5-4acc-986f-a6b742d2b042",
   "metadata": {
    "tags": []
   },
   "source": [
    "## 8th to last reaction (YDR232W/HEM1, CYD1, OLE3)"
   ]
  },
  {
   "cell_type": "code",
   "execution_count": 53,
   "id": "f980dd28-e6a0-4f9a-baa5-6d22a9abdade",
   "metadata": {},
   "outputs": [
    {
     "name": "stdout",
     "output_type": "stream",
     "text": [
      "ALASm\n"
     ]
    }
   ],
   "source": [
    "for reactions in model.reactions.query('5 aminolevulinate synthase', 'name'): # RefSeq from https://www.genome.jp/entry/sce:YDR232W\n",
    "    print(reactions.id)"
   ]
  },
  {
   "cell_type": "code",
   "execution_count": 65,
   "id": "2c296913-e239-42e9-9d42-6acd95ab4901",
   "metadata": {},
   "outputs": [],
   "source": [
    "heme_1 = model.reactions.get_by_id('ALASm')"
   ]
  },
  {
   "cell_type": "markdown",
   "id": "9d8aebf8-c82a-46a3-8010-4b9e964f220e",
   "metadata": {
    "tags": []
   },
   "source": [
    "## all reactions"
   ]
  },
  {
   "cell_type": "markdown",
   "id": "f9610842-7241-495b-ac54-c333d6b9683b",
   "metadata": {},
   "source": [
    "Now let's make a list with the 8 reactions (shortest path) involved in the biosynthesis of heme from glycine."
   ]
  },
  {
   "cell_type": "code",
   "execution_count": 69,
   "id": "571771fd-a4d4-4f1d-b24d-7f14275f583a",
   "metadata": {},
   "outputs": [],
   "source": [
    "heme_pathway = [heme_1,heme_2,heme_3,heme_4,heme_12,heme_13,heme_14,heme_15]"
   ]
  },
  {
   "cell_type": "code",
   "execution_count": 71,
   "id": "afd5d04b-f0d2-4db2-8c2a-9b985621b388",
   "metadata": {},
   "outputs": [
    {
     "data": {
      "text/plain": [
       "[<Reaction ALASm at 0x1f6835189e8>,\n",
       " <Reaction PPBNGS at 0x1f683f9fba8>,\n",
       " <Reaction HMBS at 0x1f683c042b0>,\n",
       " <Reaction UPP3S at 0x1f6841a4b70>,\n",
       " <Reaction UPPDC1 at 0x1f6841b0940>,\n",
       " <Reaction HMBS at 0x1f683c042b0>,\n",
       " <Reaction PPPGOm at 0x1f683f4b320>,\n",
       " <Reaction FCLTm at 0x1f683b66d30>]"
      ]
     },
     "execution_count": 71,
     "metadata": {},
     "output_type": "execute_result"
    }
   ],
   "source": [
    "heme_pathway # the entire heme pathway"
   ]
  },
  {
   "cell_type": "code",
   "execution_count": null,
   "id": "0aab5e50-6406-4712-bbd1-27d09f5fd738",
   "metadata": {},
   "outputs": [],
   "source": []
  },
  {
   "cell_type": "markdown",
   "id": "a736697e-93ce-42e2-9b18-2b6471bf1d7e",
   "metadata": {
    "jp-MarkdownHeadingCollapsed": true,
    "tags": []
   },
   "source": [
    "## Metabolic pathway visualizations with Escher MÅSKE"
   ]
  },
  {
   "cell_type": "code",
   "execution_count": 15,
   "id": "2c5d5c40-4245-450f-bab9-781f947b42c2",
   "metadata": {},
   "outputs": [
    {
     "data": {
      "text/plain": [
       "[{'organism': 'Saccharomyces cerevisiae',\n",
       "  'map_name': 'iMM904.Central carbon metabolism'},\n",
       " {'organism': 'Homo sapiens',\n",
       "  'map_name': 'RECON1.Inositol retinol metabolism'},\n",
       " {'organism': 'Homo sapiens', 'map_name': 'RECON1.Glycolysis TCA PPP'},\n",
       " {'organism': 'Homo sapiens', 'map_name': 'RECON1.Tryptophan metabolism'},\n",
       " {'organism': 'Homo sapiens', 'map_name': 'RECON1.Carbohydrate metabolism'},\n",
       " {'organism': 'Homo sapiens',\n",
       "  'map_name': 'RECON1.Amino acid metabolism (partial)'},\n",
       " {'organism': 'Escherichia coli', 'map_name': 'iJO1366.Nucleotide metabolism'},\n",
       " {'organism': 'Escherichia coli',\n",
       "  'map_name': 'iJO1366.Fatty acid biosynthesis (saturated)'},\n",
       " {'organism': 'Escherichia coli',\n",
       "  'map_name': 'iJO1366.Nucleotide and histidine biosynthesis'},\n",
       " {'organism': 'Escherichia coli', 'map_name': 'e_coli_core.Core metabolism'},\n",
       " {'organism': 'Escherichia coli', 'map_name': 'iJO1366.Central metabolism'},\n",
       " {'organism': 'Escherichia coli',\n",
       "  'map_name': 'iJO1366.Fatty acid beta-oxidation'}]"
      ]
     },
     "execution_count": 15,
     "metadata": {},
     "output_type": "execute_result"
    }
   ],
   "source": [
    "escher.list_available_maps()\n",
    "escher.Builder('iMM904.Central carbon metabolism')"
   ]
  },
  {
   "cell_type": "code",
   "execution_count": 16,
   "id": "519dc77b-7c92-4db6-be27-5f88a0dbc7d6",
   "metadata": {},
   "outputs": [
    {
     "name": "stdout",
     "output_type": "stream",
     "text": [
      "Downloading Map from https://escher.github.io/1-0-0/6/maps/Saccharomyces%20cerevisiae/iMM904.Central%20carbon%20metabolism.json\n"
     ]
    },
    {
     "data": {
      "application/vnd.jupyter.widget-view+json": {
       "model_id": "3ee625514255436c874c5bfe0f4412b3",
       "version_major": 2,
       "version_minor": 0
      },
      "text/plain": [
       "Builder(metabolite_data={'ATP': 20}, reaction_data={'PGK': 100})"
      ]
     },
     "metadata": {},
     "output_type": "display_data"
    }
   ],
   "source": [
    "escher.Builder('iMM904.Central carbon metabolism',\n",
    "               reaction_data={'PGK': 100},\n",
    "               metabolite_data={'ATP': 20})"
   ]
  },
  {
   "cell_type": "markdown",
   "id": "0d8a0c4e-6162-48f3-8077-1fb99c25ec5f",
   "metadata": {
    "jp-MarkdownHeadingCollapsed": true,
    "tags": []
   },
   "source": [
    "# YNB media w/o amino acids and supplemented with Fe{+3}"
   ]
  },
  {
   "cell_type": "markdown",
   "id": "d1456cb0-0c9a-4470-9144-bab816c78eac",
   "metadata": {},
   "source": [
    "Most of the experimental data we are going to compare this GSMM with is based on cultivations of CEN.PK 113-7D in YNB media. Therefore, we will have to change the media.\n",
    "https://www.carlroth.com/com/en/nutrient-media--molecular-biology/yeast-nitrogen-base-%28without-amino-acids%29/p/hp26.1"
   ]
  },
  {
   "cell_type": "code",
   "execution_count": 17,
   "id": "e19d45ee-5a0e-4a52-aede-bdc263e8327a",
   "metadata": {},
   "outputs": [
    {
     "data": {
      "text/plain": [
       "{'EX_fe2_e': 999999.0,\n",
       " 'EX_glc__D_e': 10.0,\n",
       " 'EX_h2o_e': 999999.0,\n",
       " 'EX_h_e': 999999.0,\n",
       " 'EX_k_e': 999999.0,\n",
       " 'EX_na1_e': 999999.0,\n",
       " 'EX_so4_e': 999999.0,\n",
       " 'EX_nh4_e': 999999.0,\n",
       " 'EX_o2_e': 2.0,\n",
       " 'EX_pi_e': 999999.0}"
      ]
     },
     "execution_count": 17,
     "metadata": {},
     "output_type": "execute_result"
    }
   ],
   "source": [
    "medium = model.medium\n",
    "medium"
   ]
  },
  {
   "cell_type": "code",
   "execution_count": null,
   "id": "7a605785-3ae2-46c9-8a4e-aeccdf729cc9",
   "metadata": {},
   "outputs": [],
   "source": []
  },
  {
   "cell_type": "markdown",
   "id": "c1a7135d-2679-40a7-bee8-69a4f3a578c3",
   "metadata": {
    "tags": []
   },
   "source": [
    "# Fluxes"
   ]
  },
  {
   "cell_type": "markdown",
   "id": "fbf6cc7c-5af7-4c09-b8ec-d778d628046e",
   "metadata": {},
   "source": [
    "We want a lot of Protoheme C34H30FeN4O4 **(id: pheme_m)**. Let's start by figuring out what the flux to heme currently is."
   ]
  },
  {
   "cell_type": "code",
   "execution_count": 33,
   "id": "b7a34042-a267-4be2-885c-78b5fd9ece4a",
   "metadata": {},
   "outputs": [
    {
     "data": {
      "text/plain": [
       "13GS         0.326670\n",
       "2DDA7Ptm    -0.076083\n",
       "ACCOAC       0.114455\n",
       "AGAT_SC      0.007110\n",
       "AGPRim       0.046260\n",
       "              ...    \n",
       "URIDK2r     -0.001727\n",
       "PTRCt3i      1.506442\n",
       "PTRCtex2     1.506442\n",
       "PYK         17.721990\n",
       "PYRDC       15.946051\n",
       "Name: fluxes, Length: 304, dtype: float64"
      ]
     },
     "execution_count": 33,
     "metadata": {},
     "output_type": "execute_result"
    }
   ],
   "source": [
    "solution = model.optimize()\n",
    "solution.fluxes[solution.fluxes != 0.]"
   ]
  },
  {
   "cell_type": "code",
   "execution_count": 53,
   "id": "e4b34792-fcd9-4afc-a4b4-ce47a81c3030",
   "metadata": {},
   "outputs": [],
   "source": [
    "def get_reaction_fluxes(model):\n",
    "    solution = model.optimize()\n",
    "    all_fluxes = solution.fluxes[solution.fluxes != 0.]\n",
    "    ls=[]\n",
    "    i = 0\n",
    "    while i != len(all_fluxes):\n",
    "        j = (all_fluxes.index[i],all_fluxes[i])\n",
    "        ls.append(j)\n",
    "        i+=1\n",
    "    else:\n",
    "        return ls"
   ]
  },
  {
   "cell_type": "code",
   "execution_count": 55,
   "id": "6789d861-8331-4b6b-82c4-fc61243fa19d",
   "metadata": {},
   "outputs": [
    {
     "data": {
      "text/plain": [
       "[('13GS', 0.32667000056331896),\n",
       " ('2DDA7Ptm', -0.0760829054889718),\n",
       " ('ACCOAC', 0.11445540379271733),\n",
       " ('AGAT_SC', 0.007110282881489231),\n",
       " ('AGPRim', 0.0462600185852356),\n",
       " ('AGTi', 0.015000681820021441),\n",
       " ('AHCi', 0.005383088659265125),\n",
       " ('AHSERL2', 0.016494704822240202),\n",
       " ('ACGKm', 0.0462600185852356),\n",
       " ('2OBUTtm', 0.05547172110376416),\n",
       " ('2OXOADPtim', 0.0823871644000898),\n",
       " ('ACHBSm', 0.05547172110376416),\n",
       " ('ACLSm', 0.16149265977795377),\n",
       " ('AICART', 0.04758132216523195),\n",
       " ('AIRCr', 0.028495826009655598),\n",
       " ('AKGDam', 0.2210007411235192),\n",
       " ('AKGDbm', 0.2210007411235192),\n",
       " ('ALATA_L', -0.1470734666794246),\n",
       " ('ACONTm', 0.5292790018771937),\n",
       " ('ACOTAim', 0.0462600185852356),\n",
       " ('ACS', 0.14707058802238251),\n",
       " ('ALCD2ir', 15.815474819203953),\n",
       " ('3C3HMPtm', -0.08532339457787076),\n",
       " ('ADK1', 0.7150209854592826),\n",
       " ('ADK3', -0.26621532412843324),\n",
       " ('ALDD2y', 0.13057588320014232),\n",
       " ('ADNK1', 0.005383088659265125),\n",
       " ('ADSK', 0.016494704822240202),\n",
       " ('ADSL1r', 0.03336363505929052),\n",
       " ('ADSL2r', 0.028495826009655598),\n",
       " ('ADSS', 0.03336363505929052),\n",
       " ('ANPRT', 0.008175385985194095),\n",
       " ('ATPtm_H', 4.455984976546299),\n",
       " ('ANS', 0.008175385985194095),\n",
       " ('BPNT', 0.016494704822240202),\n",
       " ('C14STR', 0.0006333045481488384),\n",
       " ('C24STRer', 0.00020150599259281219),\n",
       " ('C3STDH1', 0.0006333045481488384),\n",
       " ('ARGSL', 0.0462600185852356),\n",
       " ('ARGSS', 0.0462600185852356),\n",
       " ('ASAD', -0.12516400797050678),\n",
       " ('C3STDH2', 0.0006333045481488384),\n",
       " ('C3STKR1', 0.0006333045481488384),\n",
       " ('C3STKR2', 0.0006333045481488384),\n",
       " ('C4STMO1', 0.0006333045481488384),\n",
       " ('C4STMO2', 0.0006333045481488384),\n",
       " ('ASNS1', 0.029275942066698573),\n",
       " ('ASPCT', 0.03183794682966426),\n",
       " ('ASPK', 0.12516400797050678),\n",
       " ('CBPS', 0.07809796541489986),\n",
       " ('ASPTA', -0.38613393590157674),\n",
       " ('ASPTAm', 0.0060965125285802335),\n",
       " ('3MOBtm', -0.076169265200083),\n",
       " ('ASPt2m', 0.0060965125285802335),\n",
       " ('ATPM', 1.0),\n",
       " ('ATPPRT', 0.019085496155576354),\n",
       " ('ATPS3m', 4.281244254008016),\n",
       " ('CITtbm', -0.0760829054889718),\n",
       " ('3MOPtm', -0.05547172110376416),\n",
       " ('CITtcm', 0.26605460241024015),\n",
       " ('CHLSTI', 0.00020150599259281219),\n",
       " ('CHORM', 0.06790751950377771),\n",
       " ('CHORS', 0.0760829054889718),\n",
       " ('CO2t', -18.021084337403092),\n",
       " ('CO2tm', -1.494988318483006),\n",
       " ('COAtim', 0.003799827288893054),\n",
       " ('CITtam', -0.18997169692126836),\n",
       " ('DDPAm', 0.0760829054889718),\n",
       " ('DESAT16', 0.002740481499262246),\n",
       " ('DESAT18', 0.005319758204450243),\n",
       " ('CSm', 0.5292790018771937),\n",
       " ('DESAT18_2', 0.001450843146668248),\n",
       " ('DGK1', -0.0006908776888896417),\n",
       " ('CTPS1', 0.012867596955569579),\n",
       " ('DHAD1m', 0.16149265977795377),\n",
       " ('DHAD2m', 0.05547172110376416),\n",
       " ('CYOOm', 1.9839543656755383),\n",
       " ('CYOR_u6m', 3.9679087313510766),\n",
       " ('DHFR', 0.0010363165333344628),\n",
       " ('CYSTGL', 0.0018999136444465166),\n",
       " ('CYSTS', 0.0018999136444465166),\n",
       " ('DHORD4i', 0.03183794682966426),\n",
       " ('DHORTS', -0.03183794682966426),\n",
       " ('DHQS', 0.0760829054889718),\n",
       " ('DHQTi', 0.0760829054889718),\n",
       " ('CYTK1', -0.007829947140749272),\n",
       " ('DADK', -0.0010363165333344628),\n",
       " ('DAGPYP_SC', 0.001899913644446515),\n",
       " ('DMATT', 0.0012666090962976768),\n",
       " ('DOLPMMer', 0.23256670202247567),\n",
       " ('DASYN_SC', 0.005037649814820306),\n",
       " ('DB4PS', 0.0005699740933339545),\n",
       " ('DCMPDA', -0.0006908776888896417),\n",
       " ('DOLPMTcer', 0.23256670202247567),\n",
       " ('DOLPt2er', -0.23256670202247567),\n",
       " ('DPMVD', 0.00379982728889303),\n",
       " ('DROPPRy', 0.00028498704666697725),\n",
       " ('DRTPPD', 0.00028498704666697725),\n",
       " ('ENO', 17.874155518290223),\n",
       " ('ERGSTter', 0.00020150599259281219),\n",
       " ('ERGTETROLter', 0.00020150599259281219),\n",
       " ('E4Ptm', 0.0760829054889718),\n",
       " ('ETOHt', -15.815474819203953),\n",
       " ('EX_etoh_e', 15.815474819203953),\n",
       " ('6PGLter', -0.0008348105407416505),\n",
       " ('EX_for_e', 0.0014882656881497701),\n",
       " ('EX_glc__D_e', -10.0),\n",
       " ('EX_h2o_e', 5.6404547600227986),\n",
       " ('EX_h_e', 1.4495304790593657),\n",
       " ('AASAD2', 0.0823871644000898),\n",
       " ('EX_co2_e', 18.021084337403092),\n",
       " ('AATA', 0.0823871644000898),\n",
       " ('EX_so4_e', -0.02225201889632055),\n",
       " ('EX_nh4_e', -1.61102889615136),\n",
       " ('EX_o2_e', -2.0),\n",
       " ('EX_pi_e', -0.056911049622275556),\n",
       " ('ACACT1m', 0.00379982728889303),\n",
       " ('FAS100COA', 0.016120479407424976),\n",
       " ('FAS120COA', 0.015798069819276478),\n",
       " ('FAS140COA', 0.01483084105483098),\n",
       " ('FAS160COA', 0.013218793114088481),\n",
       " ('FAS180COA', 0.006125782174821492),\n",
       " ('GLUK', 10.0),\n",
       " ('G5SADs', 0.04741148140005168),\n",
       " ('G5SD2', 0.04741148140005168),\n",
       " ('GLUPRT', 0.028495826009655598),\n",
       " ('G6PDH2r', 0.8016352161803547),\n",
       " ('G6PDH2er', 0.0008348105407416505),\n",
       " ('G6PI', -1.293396197817929),\n",
       " ('G6PI3', 8.706603802182071),\n",
       " ('G6Pter', 0.0008348105407416505),\n",
       " ('GLUt7m', 0.08642352464189097),\n",
       " ('GALUi', 0.48266442540052595),\n",
       " ('GAPD', 18.03820442551706),\n",
       " ('FAS80COA_L', 0.016120479407424976),\n",
       " ('GARFT', 0.028495826009655598),\n",
       " ('GAT1_SC', 0.007110282881489231),\n",
       " ('GBEZ', 0.14925836737053302),\n",
       " ('GCC2cm_copy1', 0.2210007411235192),\n",
       " ('GLYGS', 0.14925836737053302),\n",
       " ('GMPS2', 0.014217687105941434),\n",
       " ('GND', 0.8024700267210964),\n",
       " ('GHMT2r', 0.09709134454528082),\n",
       " ('GRTT', 0.0012666090962976768),\n",
       " ('GK2', 0.0009758647355566329),\n",
       " ('GLCt1', 10.0),\n",
       " ('FBA3', 8.924879730095055),\n",
       " ('GLNS', 0.23618517391802493),\n",
       " ('GTPCII', 0.00028498704666697725),\n",
       " ('GLU5K', 0.04741148140005168),\n",
       " ('H2Ot', -5.6404547600227986),\n",
       " ('GLUDy', -1.417041955739307),\n",
       " ('H2Oter', -0.0006333045481488384),\n",
       " ('H2Otm', -7.453243649664251),\n",
       " ('HCITSm', 0.0823871644000898),\n",
       " ('HCO3E', 0.7577488918600851),\n",
       " ('HACNHm', 0.0823871644000898),\n",
       " ('HICITDm', 0.0823871644000898),\n",
       " ('IMPC', -0.04758132216523195),\n",
       " ('IMPD', 0.014217687105941434),\n",
       " ('HISTD', 0.019085496155576354),\n",
       " ('HISTP', 0.019085496155576354),\n",
       " ('HMGCOAR', -0.00379982728889303),\n",
       " ('HMGCOASm', -0.00379982728889303),\n",
       " ('HMGCOAtm', -0.00379982728889303),\n",
       " ('HSDxi', 0.12516400797050678),\n",
       " ('IPDDI', 0.0012666090962976768),\n",
       " ('IPMD', 0.08532339457787076),\n",
       " ('IPPMIa', -0.08532339457787076),\n",
       " ('IPPMIb', -0.08532339457787076),\n",
       " ('HSERTA', 0.01649470482224022),\n",
       " ('HSK', 0.10866930314826657),\n",
       " ('HSTPT', 0.019085496155576354),\n",
       " ('IPPSm', 0.08532339457787076),\n",
       " ('KARA1im', 0.16149265977795377),\n",
       " ('KARA2im', 0.05547172110376416),\n",
       " ('ICDHyr', 0.2510539205902187),\n",
       " ('ICDHym', 0.26322439946695353),\n",
       " ('ICL', 0.015000681820021441),\n",
       " ('LEUTA', -0.08532339457787076),\n",
       " ('IG3PS', 0.019085496155576354),\n",
       " ('IGPDH', 0.019085496155576354),\n",
       " ('IGPS', 0.008175385985194095),\n",
       " ('ILETA', -0.05547172110376416),\n",
       " ('LNS14DMx', 0.0006333045481488384),\n",
       " ('FORt', -0.0014882656881497701),\n",
       " ('LNSTLS', 0.0006333045481488384),\n",
       " ('LPCAT_SC', 0.0018999136444465153),\n",
       " ('MALtm', -0.08185221726708669),\n",
       " ('MAN1PT', 0.23256670202247567),\n",
       " ('MAN6PI', -0.23256670202247567),\n",
       " ('MANNANter', -0.23256670202247567),\n",
       " ('MCITDm', 0.0823871644000898),\n",
       " ('MDHm', 0.3441209025977223),\n",
       " ('METAT', 0.005383088659265125),\n",
       " ('MTHFC', 0.07607714817488755),\n",
       " ('MTHFD', 0.07607714817488755),\n",
       " ('MTHFR3', 0.01997787983705881),\n",
       " ('METS', 0.01997787983705881),\n",
       " ('NADH2_u6cm', 2.3441715107347068),\n",
       " ('NADH2_u6m', 1.3558978508431647),\n",
       " ('MEVK2', 0.00379982728889303),\n",
       " ('MFAPS_SC', 0.0017271942222241044),\n",
       " ('FUM', 0.10811947965418173),\n",
       " ('MI1PP', 0.0015256882296312924),\n",
       " ('MI1PS', 0.0015256882296312924),\n",
       " ('FUMm', 0.23600142294354065),\n",
       " ('NDPK2', 0.49553202235609556),\n",
       " ('NDPK3', -0.004030119851856242),\n",
       " ('NDPK8', -6.04517977778299e-05),\n",
       " ('NH4t', 1.61102889615136),\n",
       " ('G3PD1ir', 0.007110282881489231),\n",
       " ('PETOHM_SC', 0.0017271942222241044),\n",
       " ('O2t', 2.0),\n",
       " ('O2ter', 0.0006333045481488384),\n",
       " ('O2tm', 1.9839543656755383),\n",
       " ('PEtm_SC', -3.0225898888921836e-05),\n",
       " ('OAAt2m', 0.17906158675089112),\n",
       " ('OCBT', 0.0462600185852356),\n",
       " ('PFK_3', 8.924879730095055),\n",
       " ('PGCD', 0.1640489072268353),\n",
       " ('PGK', -18.03820442551706),\n",
       " ('PGL', 0.8024700267210964),\n",
       " ('PGM', -17.874155518290223),\n",
       " ('PGMT', -0.48266442540052595),\n",
       " ('OMCDC', 0.08532339457787076),\n",
       " ('OMPDC', 0.03183794682966426),\n",
       " ('ORNTACim', 0.0462600185852356),\n",
       " ('ORNt3m', 0.0462600185852356),\n",
       " ('PHETA1', -0.03854521772596793),\n",
       " ('ORPT', -0.03183794682966426),\n",
       " ('OXAGm', 0.0823871644000898),\n",
       " ('PPND2', 0.029362301777809775),\n",
       " ('PPNDH', 0.03854521772596793),\n",
       " ('P5CR', 0.04741148140005168),\n",
       " ('PINOS_SC', 0.0015256882296312924),\n",
       " ('PIt2m', 4.3130505356102615),\n",
       " ('PAPSR', 0.016494704822240202),\n",
       " ('PIt2r', 0.056911049622275556),\n",
       " ('PC', 0.5651955226524679),\n",
       " ('PCDAGAT', 1.899913644446515e-05),\n",
       " ('PMANM', -0.23256670202247567),\n",
       " ('PMDPHT', 0.00028498704666697725),\n",
       " ('PMETM_SC', 0.0017271942222241044),\n",
       " ('PDHm', 0.7083890427218333),\n",
       " ('PMEVK', 0.00379982728889303),\n",
       " ('PRAGSr', 0.028495826009655598),\n",
       " ('PYRt2m', 1.086846083381505),\n",
       " ('PRAIS', 0.028495826009655598),\n",
       " ('PPA', 1.1556282315486617),\n",
       " ('PRAIi', 0.008175385985194095),\n",
       " ('PRAMPC', 0.019085496155576354),\n",
       " ('SLFAT', 0.016494704822240202),\n",
       " ('PRASCSi', 0.028495826009655598),\n",
       " ('RBFSa', 0.0005699740933339545),\n",
       " ('RBFSb', 0.00028498704666697725),\n",
       " ('SO4ti', 0.02225201889632055),\n",
       " ('PRATPP', 0.019085496155576354),\n",
       " ('PRFGS', 0.028495826009655598),\n",
       " ('PRMICI', 0.019085496155576354),\n",
       " ('RNDR2', 0.0006908776888896417),\n",
       " ('SQ23EPXter', 0.0006333045481488384),\n",
       " ('SQLEr', 0.0006333045481488384),\n",
       " ('RNDR4', 0.0017271942222241046),\n",
       " ('SQLS', 0.0006333045481488384),\n",
       " ('RNTR1', 0.0010363165333344628),\n",
       " ('SQLter', 0.0006333045481488384),\n",
       " ('RPE', 0.4508426299354595),\n",
       " ('RPI', -0.35105742269230644),\n",
       " ('SACCD1', 0.0823871644000898),\n",
       " ('SACCD2', 0.0823871644000898),\n",
       " ('SUCCtm', 0.015000681820021455),\n",
       " ('SUCD2_u6m', 0.23600142294354065),\n",
       " ('SUCOASm', -0.2210007411235192),\n",
       " ('SULR', 0.016494704822240202),\n",
       " ('PRPPS', 0.08759465498009031),\n",
       " ('TALA', -8.66141696238284),\n",
       " ('SHK3Dr', 0.0760829054889718),\n",
       " ('SHKK', 0.0760829054889718),\n",
       " ('PSCVT', 0.0760829054889718),\n",
       " ('TKT1', 0.2634627677122161),\n",
       " ('PSERDm_SC', 0.0030225898888921834),\n",
       " ('TKT2', 0.18737986222324338),\n",
       " ('THRD_L', 0.05357180745931764),\n",
       " ('THRS', 0.10866930314826657),\n",
       " ('TMDS', 0.0010363165333344628),\n",
       " ('TPI', 8.917769447213566),\n",
       " ('TRDR', 0.019949093266688412),\n",
       " ('TRE6PP', 0.006736057466674008),\n",
       " ('TRE6PS', 0.006736057466674008),\n",
       " ('PSERS_SC', 0.0035119615851890128),\n",
       " ('VALTA', -0.076169265200083),\n",
       " ('TRPS1', 0.008175385985194095),\n",
       " ('PSERT', 0.1640489072268353),\n",
       " ('TYRTAi', 0.029362301777809775),\n",
       " ('BIOMASS_SC5_notrace', 0.28786570370401743),\n",
       " ('UMPK', 0.01459479117779361),\n",
       " ('PSP_L', 0.1640489072268353),\n",
       " ('PStm_SC', 3.0225898888921836e-05),\n",
       " ('URIDK2r', -0.0017271942222241046),\n",
       " ('PTRCt3i', 1.5064415286816413),\n",
       " ('PTRCtex2', 1.5064415286816413),\n",
       " ('PYK', 17.72198970731228),\n",
       " ('PYRDC', 15.946050702404095)]"
      ]
     },
     "execution_count": 55,
     "metadata": {},
     "output_type": "execute_result"
    }
   ],
   "source": [
    "get_reaction_fluxes(model) # all non-zero fluxes"
   ]
  },
  {
   "cell_type": "code",
   "execution_count": null,
   "id": "989a8ad1-22ac-44b5-bb74-aa00dd719d5b",
   "metadata": {},
   "outputs": [],
   "source": []
  },
  {
   "cell_type": "code",
   "execution_count": null,
   "id": "28f277bf-f424-4d88-b135-23a84eb8c02c",
   "metadata": {},
   "outputs": [],
   "source": []
  },
  {
   "cell_type": "code",
   "execution_count": null,
   "id": "b78316db-0e46-4f96-a80f-4bf40d577ed7",
   "metadata": {},
   "outputs": [],
   "source": []
  },
  {
   "cell_type": "code",
   "execution_count": null,
   "id": "093c9971-c2d0-45d4-a2eb-5b833a68a883",
   "metadata": {},
   "outputs": [],
   "source": []
  },
  {
   "cell_type": "markdown",
   "id": "50f250be-00b8-409d-84dc-6ac42b7b14d7",
   "metadata": {
    "tags": []
   },
   "source": [
    "# Knockout of HAP1"
   ]
  },
  {
   "cell_type": "code",
   "execution_count": 31,
   "id": "c5c1ce57-6fc7-4fa4-bdac-cecb69062034",
   "metadata": {},
   "outputs": [],
   "source": [
    "for genes in model.genes.query('o', 'name'):\n",
    "    print(genes.name)"
   ]
  },
  {
   "cell_type": "code",
   "execution_count": null,
   "id": "66db7854-df45-4f79-85bb-292912668f6c",
   "metadata": {},
   "outputs": [],
   "source": []
  },
  {
   "cell_type": "code",
   "execution_count": null,
   "id": "7478ee7c-4dcf-4263-a45f-bde70eae80ca",
   "metadata": {},
   "outputs": [],
   "source": [
    "print('complete model: ', cobra_model.optimize())\n",
    "with cobra_model:\n",
    "    cobra_model.reactions.PFK.knock_out()\n",
    "    print('pfk knocked out: ', cobra_model.optimize())"
   ]
  },
  {
   "cell_type": "markdown",
   "id": "e9b71a31-50b4-4433-8f25-3064e2ea4b94",
   "metadata": {},
   "source": [
    "It could be an idea to knockout the enzymes catalysing the conversion to Heme A C49H55FeN4O6 and Heme O C49H56FeN4O5"
   ]
  },
  {
   "cell_type": "code",
   "execution_count": null,
   "id": "caa84d0a-b4d3-484d-9c24-c959bc0c45d8",
   "metadata": {},
   "outputs": [],
   "source": []
  },
  {
   "cell_type": "markdown",
   "id": "32317fce-3a10-409d-a07a-794841f65171",
   "metadata": {},
   "source": []
  },
  {
   "cell_type": "code",
   "execution_count": null,
   "id": "d05dd9bd-ce5f-430d-a135-bd3cdb85c0aa",
   "metadata": {},
   "outputs": [],
   "source": []
  },
  {
   "cell_type": "markdown",
   "id": "c895483a-9dcb-4dfc-94a9-2c3def32f8b8",
   "metadata": {},
   "source": [
    " Knockout the gene: HAP1 / systemic name: YLR256W\n",
    " OR the gene for Heme O synthase HEMEOSm"
   ]
  },
  {
   "cell_type": "code",
   "execution_count": null,
   "id": "3a93c731-3e71-47e1-b5dd-a090bb5ad400",
   "metadata": {},
   "outputs": [],
   "source": []
  },
  {
   "cell_type": "markdown",
   "id": "bbd1dc29-c916-45e7-8654-1dba73d204c0",
   "metadata": {},
   "source": [
    "What is the flux to heme now?"
   ]
  },
  {
   "cell_type": "code",
   "execution_count": null,
   "id": "877d8205-38ac-4f71-9087-408103ce132b",
   "metadata": {},
   "outputs": [],
   "source": []
  }
 ],
 "metadata": {
  "kernelspec": {
   "display_name": "Python 3",
   "language": "python",
   "name": "python3"
  },
  "language_info": {
   "codemirror_mode": {
    "name": "ipython",
    "version": 3
   },
   "file_extension": ".py",
   "mimetype": "text/x-python",
   "name": "python",
   "nbconvert_exporter": "python",
   "pygments_lexer": "ipython3",
   "version": "3.6.13"
  }
 },
 "nbformat": 4,
 "nbformat_minor": 5
}
