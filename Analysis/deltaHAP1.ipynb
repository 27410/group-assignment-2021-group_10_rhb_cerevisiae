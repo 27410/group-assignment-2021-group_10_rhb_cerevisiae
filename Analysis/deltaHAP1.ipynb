{
 "cells": [
  {
   "cell_type": "code",
   "execution_count": 14,
   "metadata": {},
   "outputs": [],
   "source": [
    "import pandas as pd\n",
    "import matplotlib.pyplot as plt\n",
    "plt.style.use('seaborn')\n",
    "from cobra.io import read_sbml_model\n",
    "from cobra import Reaction, Metabolite\n",
    "from cobra.util import create_stoichiometric_matrix\n",
    "import numpy as np\n",
    "import escher"
   ]
  },
  {
   "cell_type": "markdown",
   "metadata": {
    "tags": []
   },
   "source": [
    "# Intro\n",
    "\n",
    "Querry for heme as a metabolite"
   ]
  },
  {
   "cell_type": "code",
   "execution_count": 7,
   "metadata": {},
   "outputs": [
    {
     "name": "stdout",
     "output_type": "stream",
     "text": [
      "pheme_m\n",
      "sheme_c\n"
     ]
    }
   ],
   "source": [
    "for metabolite in model.metabolites.query('heme', 'name'):\n",
    "    print(metabolite.id)"
   ]
  },
  {
   "cell_type": "markdown",
   "metadata": {},
   "source": [
    "Some info on the metabolite"
   ]
  },
  {
   "cell_type": "code",
   "execution_count": 8,
   "metadata": {},
   "outputs": [
    {
     "data": {
      "text/html": [
       "\n",
       "        <table>\n",
       "            <tr>\n",
       "                <td><strong>Metabolite identifier</strong></td><td>pheme_m</td>\n",
       "            </tr><tr>\n",
       "                <td><strong>Name</strong></td><td>Protoheme C34H30FeN4O4</td>\n",
       "            </tr><tr>\n",
       "                <td><strong>Memory address</strong></td>\n",
       "                <td>0x021dbf6c1710</td>\n",
       "            </tr><tr>\n",
       "                <td><strong>Formula</strong></td><td></td>\n",
       "            </tr><tr>\n",
       "                <td><strong>Compartment</strong></td><td>m</td>\n",
       "            </tr><tr>\n",
       "                <td><strong>In 2 reaction(s)</strong></td><td>\n",
       "                    FCLTm, HEMEOSm</td>\n",
       "            </tr>\n",
       "        </table>"
      ],
      "text/plain": [
       "<Metabolite pheme_m at 0x21dbf6c1710>"
      ]
     },
     "execution_count": 8,
     "metadata": {},
     "output_type": "execute_result"
    }
   ],
   "source": [
    "model.metabolites.pheme_m"
   ]
  },
  {
   "cell_type": "markdown",
   "metadata": {},
   "source": [
    "We can gather additional information (like references to external datbases) about the metabolite through the annotation attribute"
   ]
  },
  {
   "cell_type": "code",
   "execution_count": 9,
   "metadata": {},
   "outputs": [
    {
     "data": {
      "text/plain": [
       "{'sbo': 'SBO:0000247',\n",
       " 'bigg.metabolite': 'pheme',\n",
       " 'biocyc': 'META:PROTOHEME',\n",
       " 'chebi': ['CHEBI:60344',\n",
       "  'CHEBI:26355',\n",
       "  'CHEBI:17627',\n",
       "  'CHEBI:5651',\n",
       "  'CHEBI:14957'],\n",
       " 'inchi_key': 'KABFMIBPWCXCRK-RGGAHWMASA-J',\n",
       " 'kegg.compound': 'C00032',\n",
       " 'metanetx.chemical': 'MNXM249',\n",
       " 'reactome.compound': ['917877', '71185', '189444']}"
      ]
     },
     "execution_count": 9,
     "metadata": {},
     "output_type": "execute_result"
    }
   ],
   "source": [
    "model.metabolites.pheme_m.annotation"
   ]
  },
  {
   "cell_type": "markdown",
   "metadata": {},
   "source": [
    "We want a lot of Protoheme C34H30FeN4O4 (id: pheme_m). Let's start by figuring out what the flux to heme currently is?\n",
    "\n",
    "We look at the reactions heme is directely involved in"
   ]
  },
  {
   "cell_type": "code",
   "execution_count": 11,
   "metadata": {},
   "outputs": [
    {
     "name": "stdout",
     "output_type": "stream",
     "text": [
      "FCLTm FCLTm: fe2_m + ppp9_m --> 2.0 h_m + pheme_m Ferrochelatase  mitochondrial\n",
      "HEMEOSm HEMEOSm: frdp_m + h2o_m + pheme_m --> hemeO_m + ppi_m Heme O synthase  mitochondrial\n"
     ]
    }
   ],
   "source": [
    "for reaction in model.metabolites.pheme_m.reactions:\n",
    "    print(reaction.id, reaction, reaction.name)"
   ]
  },
  {
   "cell_type": "markdown",
   "metadata": {},
   "source": [
    "Now let's find the entire pathway to heme"
   ]
  },
  {
   "cell_type": "code",
   "execution_count": 36,
   "metadata": {},
   "outputs": [],
   "source": [
    "# TODO"
   ]
  },
  {
   "cell_type": "code",
   "execution_count": null,
   "metadata": {},
   "outputs": [],
   "source": []
  },
  {
   "cell_type": "code",
   "execution_count": null,
   "metadata": {},
   "outputs": [],
   "source": []
  },
  {
   "cell_type": "markdown",
   "metadata": {
    "jp-MarkdownHeadingCollapsed": true,
    "tags": []
   },
   "source": [
    "## Metabolic pathway visualizations with Escher MÅSKE"
   ]
  },
  {
   "cell_type": "code",
   "execution_count": 15,
   "metadata": {},
   "outputs": [
    {
     "data": {
      "text/plain": [
       "[{'organism': 'Saccharomyces cerevisiae',\n",
       "  'map_name': 'iMM904.Central carbon metabolism'},\n",
       " {'organism': 'Homo sapiens',\n",
       "  'map_name': 'RECON1.Inositol retinol metabolism'},\n",
       " {'organism': 'Homo sapiens', 'map_name': 'RECON1.Glycolysis TCA PPP'},\n",
       " {'organism': 'Homo sapiens', 'map_name': 'RECON1.Tryptophan metabolism'},\n",
       " {'organism': 'Homo sapiens', 'map_name': 'RECON1.Carbohydrate metabolism'},\n",
       " {'organism': 'Homo sapiens',\n",
       "  'map_name': 'RECON1.Amino acid metabolism (partial)'},\n",
       " {'organism': 'Escherichia coli', 'map_name': 'iJO1366.Nucleotide metabolism'},\n",
       " {'organism': 'Escherichia coli',\n",
       "  'map_name': 'iJO1366.Fatty acid biosynthesis (saturated)'},\n",
       " {'organism': 'Escherichia coli',\n",
       "  'map_name': 'iJO1366.Nucleotide and histidine biosynthesis'},\n",
       " {'organism': 'Escherichia coli', 'map_name': 'e_coli_core.Core metabolism'},\n",
       " {'organism': 'Escherichia coli', 'map_name': 'iJO1366.Central metabolism'},\n",
       " {'organism': 'Escherichia coli',\n",
       "  'map_name': 'iJO1366.Fatty acid beta-oxidation'}]"
      ]
     },
     "execution_count": 15,
     "metadata": {},
     "output_type": "execute_result"
    }
   ],
   "source": [
    "escher.list_available_maps()\n",
    "escher.Builder('iMM904.Central carbon metabolism')"
   ]
  },
  {
   "cell_type": "code",
   "execution_count": 16,
   "metadata": {},
   "outputs": [
    {
     "name": "stdout",
     "output_type": "stream",
     "text": [
      "Downloading Map from https://escher.github.io/1-0-0/6/maps/Saccharomyces%20cerevisiae/iMM904.Central%20carbon%20metabolism.json\n"
     ]
    },
    {
     "data": {
      "application/vnd.jupyter.widget-view+json": {
       "model_id": "3ee625514255436c874c5bfe0f4412b3",
       "version_major": 2,
       "version_minor": 0
      },
      "text/plain": [
       "Builder(metabolite_data={'ATP': 20}, reaction_data={'PGK': 100})"
      ]
     },
     "metadata": {},
     "output_type": "display_data"
    }
   ],
   "source": [
    "escher.Builder('iMM904.Central carbon metabolism',\n",
    "               reaction_data={'PGK': 100},\n",
    "               metabolite_data={'ATP': 20})"
   ]
  },
  {
   "cell_type": "markdown",
   "metadata": {
    "jp-MarkdownHeadingCollapsed": true,
    "tags": []
   },
   "source": [
    "# YNB media w/o amino acids and supplemented with Fe{+3}\n",
    "Most of the experimental data we are going to compare this GSMM with is based on cultivations of CEN.PK 113-7D in YNB media. Therefore, we will have to change the media.\n",
    "https://www.carlroth.com/com/en/nutrient-media--molecular-biology/yeast-nitrogen-base-%28without-amino-acids%29/p/hp26.1"
   ]
  },
  {
   "cell_type": "code",
   "execution_count": 17,
   "metadata": {},
   "outputs": [
    {
     "data": {
      "text/plain": [
       "{'EX_fe2_e': 999999.0,\n",
       " 'EX_glc__D_e': 10.0,\n",
       " 'EX_h2o_e': 999999.0,\n",
       " 'EX_h_e': 999999.0,\n",
       " 'EX_k_e': 999999.0,\n",
       " 'EX_na1_e': 999999.0,\n",
       " 'EX_so4_e': 999999.0,\n",
       " 'EX_nh4_e': 999999.0,\n",
       " 'EX_o2_e': 2.0,\n",
       " 'EX_pi_e': 999999.0}"
      ]
     },
     "execution_count": 17,
     "metadata": {},
     "output_type": "execute_result"
    }
   ],
   "source": [
    "medium = model.medium\n",
    "medium"
   ]
  },
  {
   "cell_type": "code",
   "execution_count": null,
   "metadata": {},
   "outputs": [],
   "source": []
  },
  {
   "cell_type": "markdown",
   "metadata": {},
   "source": [
    "# Fluxes\n",
    "\n",
    "We want a lot of Protoheme C34H30FeN4O4 **(id: pheme_m)**. Let's start by figuring out what the flux to heme currently is.\n"
   ]
  },
  {
   "cell_type": "code",
   "execution_count": 33,
   "metadata": {},
   "outputs": [
    {
     "data": {
      "text/plain": [
       "13GS         0.326670\n",
       "2DDA7Ptm    -0.076083\n",
       "ACCOAC       0.114455\n",
       "AGAT_SC      0.007110\n",
       "AGPRim       0.046260\n",
       "              ...    \n",
       "URIDK2r     -0.001727\n",
       "PTRCt3i      1.506442\n",
       "PTRCtex2     1.506442\n",
       "PYK         17.721990\n",
       "PYRDC       15.946051\n",
       "Name: fluxes, Length: 304, dtype: float64"
      ]
     },
     "execution_count": 33,
     "metadata": {},
     "output_type": "execute_result"
    }
   ],
   "source": [
    "solution = model.optimize()\n",
    "solution.fluxes[solution.fluxes != 0.]"
   ]
  },
  {
   "cell_type": "code",
   "execution_count": 53,
   "metadata": {},
   "outputs": [],
   "source": [
    "def get_reaction_fluxes(model):\n",
    "    solution = model.optimize()\n",
    "    all_fluxes = solution.fluxes[solution.fluxes != 0.]\n",
    "    ls=[]\n",
    "    i = 0\n",
    "    while i != len(all_fluxes):\n",
    "        j = (all_fluxes.index[i],all_fluxes[i])\n",
    "        ls.append(j)\n",
    "        i+=1\n",
    "    else:\n",
    "        return ls"
   ]
  },
  {
   "cell_type": "code",
   "execution_count": 55,
   "metadata": {},
   "outputs": [
    {
     "data": {
      "text/plain": [
       "[('13GS', 0.32667000056331896),\n",
       " ('2DDA7Ptm', -0.0760829054889718),\n",
       " ('ACCOAC', 0.11445540379271733),\n",
       " ('AGAT_SC', 0.007110282881489231),\n",
       " ('AGPRim', 0.0462600185852356),\n",
       " ('AGTi', 0.015000681820021441),\n",
       " ('AHCi', 0.005383088659265125),\n",
       " ('AHSERL2', 0.016494704822240202),\n",
       " ('ACGKm', 0.0462600185852356),\n",
       " ('2OBUTtm', 0.05547172110376416),\n",
       " ('2OXOADPtim', 0.0823871644000898),\n",
       " ('ACHBSm', 0.05547172110376416),\n",
       " ('ACLSm', 0.16149265977795377),\n",
       " ('AICART', 0.04758132216523195),\n",
       " ('AIRCr', 0.028495826009655598),\n",
       " ('AKGDam', 0.2210007411235192),\n",
       " ('AKGDbm', 0.2210007411235192),\n",
       " ('ALATA_L', -0.1470734666794246),\n",
       " ('ACONTm', 0.5292790018771937),\n",
       " ('ACOTAim', 0.0462600185852356),\n",
       " ('ACS', 0.14707058802238251),\n",
       " ('ALCD2ir', 15.815474819203953),\n",
       " ('3C3HMPtm', -0.08532339457787076),\n",
       " ('ADK1', 0.7150209854592826),\n",
       " ('ADK3', -0.26621532412843324),\n",
       " ('ALDD2y', 0.13057588320014232),\n",
       " ('ADNK1', 0.005383088659265125),\n",
       " ('ADSK', 0.016494704822240202),\n",
       " ('ADSL1r', 0.03336363505929052),\n",
       " ('ADSL2r', 0.028495826009655598),\n",
       " ('ADSS', 0.03336363505929052),\n",
       " ('ANPRT', 0.008175385985194095),\n",
       " ('ATPtm_H', 4.455984976546299),\n",
       " ('ANS', 0.008175385985194095),\n",
       " ('BPNT', 0.016494704822240202),\n",
       " ('C14STR', 0.0006333045481488384),\n",
       " ('C24STRer', 0.00020150599259281219),\n",
       " ('C3STDH1', 0.0006333045481488384),\n",
       " ('ARGSL', 0.0462600185852356),\n",
       " ('ARGSS', 0.0462600185852356),\n",
       " ('ASAD', -0.12516400797050678),\n",
       " ('C3STDH2', 0.0006333045481488384),\n",
       " ('C3STKR1', 0.0006333045481488384),\n",
       " ('C3STKR2', 0.0006333045481488384),\n",
       " ('C4STMO1', 0.0006333045481488384),\n",
       " ('C4STMO2', 0.0006333045481488384),\n",
       " ('ASNS1', 0.029275942066698573),\n",
       " ('ASPCT', 0.03183794682966426),\n",
       " ('ASPK', 0.12516400797050678),\n",
       " ('CBPS', 0.07809796541489986),\n",
       " ('ASPTA', -0.38613393590157674),\n",
       " ('ASPTAm', 0.0060965125285802335),\n",
       " ('3MOBtm', -0.076169265200083),\n",
       " ('ASPt2m', 0.0060965125285802335),\n",
       " ('ATPM', 1.0),\n",
       " ('ATPPRT', 0.019085496155576354),\n",
       " ('ATPS3m', 4.281244254008016),\n",
       " ('CITtbm', -0.0760829054889718),\n",
       " ('3MOPtm', -0.05547172110376416),\n",
       " ('CITtcm', 0.26605460241024015),\n",
       " ('CHLSTI', 0.00020150599259281219),\n",
       " ('CHORM', 0.06790751950377771),\n",
       " ('CHORS', 0.0760829054889718),\n",
       " ('CO2t', -18.021084337403092),\n",
       " ('CO2tm', -1.494988318483006),\n",
       " ('COAtim', 0.003799827288893054),\n",
       " ('CITtam', -0.18997169692126836),\n",
       " ('DDPAm', 0.0760829054889718),\n",
       " ('DESAT16', 0.002740481499262246),\n",
       " ('DESAT18', 0.005319758204450243),\n",
       " ('CSm', 0.5292790018771937),\n",
       " ('DESAT18_2', 0.001450843146668248),\n",
       " ('DGK1', -0.0006908776888896417),\n",
       " ('CTPS1', 0.012867596955569579),\n",
       " ('DHAD1m', 0.16149265977795377),\n",
       " ('DHAD2m', 0.05547172110376416),\n",
       " ('CYOOm', 1.9839543656755383),\n",
       " ('CYOR_u6m', 3.9679087313510766),\n",
       " ('DHFR', 0.0010363165333344628),\n",
       " ('CYSTGL', 0.0018999136444465166),\n",
       " ('CYSTS', 0.0018999136444465166),\n",
       " ('DHORD4i', 0.03183794682966426),\n",
       " ('DHORTS', -0.03183794682966426),\n",
       " ('DHQS', 0.0760829054889718),\n",
       " ('DHQTi', 0.0760829054889718),\n",
       " ('CYTK1', -0.007829947140749272),\n",
       " ('DADK', -0.0010363165333344628),\n",
       " ('DAGPYP_SC', 0.001899913644446515),\n",
       " ('DMATT', 0.0012666090962976768),\n",
       " ('DOLPMMer', 0.23256670202247567),\n",
       " ('DASYN_SC', 0.005037649814820306),\n",
       " ('DB4PS', 0.0005699740933339545),\n",
       " ('DCMPDA', -0.0006908776888896417),\n",
       " ('DOLPMTcer', 0.23256670202247567),\n",
       " ('DOLPt2er', -0.23256670202247567),\n",
       " ('DPMVD', 0.00379982728889303),\n",
       " ('DROPPRy', 0.00028498704666697725),\n",
       " ('DRTPPD', 0.00028498704666697725),\n",
       " ('ENO', 17.874155518290223),\n",
       " ('ERGSTter', 0.00020150599259281219),\n",
       " ('ERGTETROLter', 0.00020150599259281219),\n",
       " ('E4Ptm', 0.0760829054889718),\n",
       " ('ETOHt', -15.815474819203953),\n",
       " ('EX_etoh_e', 15.815474819203953),\n",
       " ('6PGLter', -0.0008348105407416505),\n",
       " ('EX_for_e', 0.0014882656881497701),\n",
       " ('EX_glc__D_e', -10.0),\n",
       " ('EX_h2o_e', 5.6404547600227986),\n",
       " ('EX_h_e', 1.4495304790593657),\n",
       " ('AASAD2', 0.0823871644000898),\n",
       " ('EX_co2_e', 18.021084337403092),\n",
       " ('AATA', 0.0823871644000898),\n",
       " ('EX_so4_e', -0.02225201889632055),\n",
       " ('EX_nh4_e', -1.61102889615136),\n",
       " ('EX_o2_e', -2.0),\n",
       " ('EX_pi_e', -0.056911049622275556),\n",
       " ('ACACT1m', 0.00379982728889303),\n",
       " ('FAS100COA', 0.016120479407424976),\n",
       " ('FAS120COA', 0.015798069819276478),\n",
       " ('FAS140COA', 0.01483084105483098),\n",
       " ('FAS160COA', 0.013218793114088481),\n",
       " ('FAS180COA', 0.006125782174821492),\n",
       " ('GLUK', 10.0),\n",
       " ('G5SADs', 0.04741148140005168),\n",
       " ('G5SD2', 0.04741148140005168),\n",
       " ('GLUPRT', 0.028495826009655598),\n",
       " ('G6PDH2r', 0.8016352161803547),\n",
       " ('G6PDH2er', 0.0008348105407416505),\n",
       " ('G6PI', -1.293396197817929),\n",
       " ('G6PI3', 8.706603802182071),\n",
       " ('G6Pter', 0.0008348105407416505),\n",
       " ('GLUt7m', 0.08642352464189097),\n",
       " ('GALUi', 0.48266442540052595),\n",
       " ('GAPD', 18.03820442551706),\n",
       " ('FAS80COA_L', 0.016120479407424976),\n",
       " ('GARFT', 0.028495826009655598),\n",
       " ('GAT1_SC', 0.007110282881489231),\n",
       " ('GBEZ', 0.14925836737053302),\n",
       " ('GCC2cm_copy1', 0.2210007411235192),\n",
       " ('GLYGS', 0.14925836737053302),\n",
       " ('GMPS2', 0.014217687105941434),\n",
       " ('GND', 0.8024700267210964),\n",
       " ('GHMT2r', 0.09709134454528082),\n",
       " ('GRTT', 0.0012666090962976768),\n",
       " ('GK2', 0.0009758647355566329),\n",
       " ('GLCt1', 10.0),\n",
       " ('FBA3', 8.924879730095055),\n",
       " ('GLNS', 0.23618517391802493),\n",
       " ('GTPCII', 0.00028498704666697725),\n",
       " ('GLU5K', 0.04741148140005168),\n",
       " ('H2Ot', -5.6404547600227986),\n",
       " ('GLUDy', -1.417041955739307),\n",
       " ('H2Oter', -0.0006333045481488384),\n",
       " ('H2Otm', -7.453243649664251),\n",
       " ('HCITSm', 0.0823871644000898),\n",
       " ('HCO3E', 0.7577488918600851),\n",
       " ('HACNHm', 0.0823871644000898),\n",
       " ('HICITDm', 0.0823871644000898),\n",
       " ('IMPC', -0.04758132216523195),\n",
       " ('IMPD', 0.014217687105941434),\n",
       " ('HISTD', 0.019085496155576354),\n",
       " ('HISTP', 0.019085496155576354),\n",
       " ('HMGCOAR', -0.00379982728889303),\n",
       " ('HMGCOASm', -0.00379982728889303),\n",
       " ('HMGCOAtm', -0.00379982728889303),\n",
       " ('HSDxi', 0.12516400797050678),\n",
       " ('IPDDI', 0.0012666090962976768),\n",
       " ('IPMD', 0.08532339457787076),\n",
       " ('IPPMIa', -0.08532339457787076),\n",
       " ('IPPMIb', -0.08532339457787076),\n",
       " ('HSERTA', 0.01649470482224022),\n",
       " ('HSK', 0.10866930314826657),\n",
       " ('HSTPT', 0.019085496155576354),\n",
       " ('IPPSm', 0.08532339457787076),\n",
       " ('KARA1im', 0.16149265977795377),\n",
       " ('KARA2im', 0.05547172110376416),\n",
       " ('ICDHyr', 0.2510539205902187),\n",
       " ('ICDHym', 0.26322439946695353),\n",
       " ('ICL', 0.015000681820021441),\n",
       " ('LEUTA', -0.08532339457787076),\n",
       " ('IG3PS', 0.019085496155576354),\n",
       " ('IGPDH', 0.019085496155576354),\n",
       " ('IGPS', 0.008175385985194095),\n",
       " ('ILETA', -0.05547172110376416),\n",
       " ('LNS14DMx', 0.0006333045481488384),\n",
       " ('FORt', -0.0014882656881497701),\n",
       " ('LNSTLS', 0.0006333045481488384),\n",
       " ('LPCAT_SC', 0.0018999136444465153),\n",
       " ('MALtm', -0.08185221726708669),\n",
       " ('MAN1PT', 0.23256670202247567),\n",
       " ('MAN6PI', -0.23256670202247567),\n",
       " ('MANNANter', -0.23256670202247567),\n",
       " ('MCITDm', 0.0823871644000898),\n",
       " ('MDHm', 0.3441209025977223),\n",
       " ('METAT', 0.005383088659265125),\n",
       " ('MTHFC', 0.07607714817488755),\n",
       " ('MTHFD', 0.07607714817488755),\n",
       " ('MTHFR3', 0.01997787983705881),\n",
       " ('METS', 0.01997787983705881),\n",
       " ('NADH2_u6cm', 2.3441715107347068),\n",
       " ('NADH2_u6m', 1.3558978508431647),\n",
       " ('MEVK2', 0.00379982728889303),\n",
       " ('MFAPS_SC', 0.0017271942222241044),\n",
       " ('FUM', 0.10811947965418173),\n",
       " ('MI1PP', 0.0015256882296312924),\n",
       " ('MI1PS', 0.0015256882296312924),\n",
       " ('FUMm', 0.23600142294354065),\n",
       " ('NDPK2', 0.49553202235609556),\n",
       " ('NDPK3', -0.004030119851856242),\n",
       " ('NDPK8', -6.04517977778299e-05),\n",
       " ('NH4t', 1.61102889615136),\n",
       " ('G3PD1ir', 0.007110282881489231),\n",
       " ('PETOHM_SC', 0.0017271942222241044),\n",
       " ('O2t', 2.0),\n",
       " ('O2ter', 0.0006333045481488384),\n",
       " ('O2tm', 1.9839543656755383),\n",
       " ('PEtm_SC', -3.0225898888921836e-05),\n",
       " ('OAAt2m', 0.17906158675089112),\n",
       " ('OCBT', 0.0462600185852356),\n",
       " ('PFK_3', 8.924879730095055),\n",
       " ('PGCD', 0.1640489072268353),\n",
       " ('PGK', -18.03820442551706),\n",
       " ('PGL', 0.8024700267210964),\n",
       " ('PGM', -17.874155518290223),\n",
       " ('PGMT', -0.48266442540052595),\n",
       " ('OMCDC', 0.08532339457787076),\n",
       " ('OMPDC', 0.03183794682966426),\n",
       " ('ORNTACim', 0.0462600185852356),\n",
       " ('ORNt3m', 0.0462600185852356),\n",
       " ('PHETA1', -0.03854521772596793),\n",
       " ('ORPT', -0.03183794682966426),\n",
       " ('OXAGm', 0.0823871644000898),\n",
       " ('PPND2', 0.029362301777809775),\n",
       " ('PPNDH', 0.03854521772596793),\n",
       " ('P5CR', 0.04741148140005168),\n",
       " ('PINOS_SC', 0.0015256882296312924),\n",
       " ('PIt2m', 4.3130505356102615),\n",
       " ('PAPSR', 0.016494704822240202),\n",
       " ('PIt2r', 0.056911049622275556),\n",
       " ('PC', 0.5651955226524679),\n",
       " ('PCDAGAT', 1.899913644446515e-05),\n",
       " ('PMANM', -0.23256670202247567),\n",
       " ('PMDPHT', 0.00028498704666697725),\n",
       " ('PMETM_SC', 0.0017271942222241044),\n",
       " ('PDHm', 0.7083890427218333),\n",
       " ('PMEVK', 0.00379982728889303),\n",
       " ('PRAGSr', 0.028495826009655598),\n",
       " ('PYRt2m', 1.086846083381505),\n",
       " ('PRAIS', 0.028495826009655598),\n",
       " ('PPA', 1.1556282315486617),\n",
       " ('PRAIi', 0.008175385985194095),\n",
       " ('PRAMPC', 0.019085496155576354),\n",
       " ('SLFAT', 0.016494704822240202),\n",
       " ('PRASCSi', 0.028495826009655598),\n",
       " ('RBFSa', 0.0005699740933339545),\n",
       " ('RBFSb', 0.00028498704666697725),\n",
       " ('SO4ti', 0.02225201889632055),\n",
       " ('PRATPP', 0.019085496155576354),\n",
       " ('PRFGS', 0.028495826009655598),\n",
       " ('PRMICI', 0.019085496155576354),\n",
       " ('RNDR2', 0.0006908776888896417),\n",
       " ('SQ23EPXter', 0.0006333045481488384),\n",
       " ('SQLEr', 0.0006333045481488384),\n",
       " ('RNDR4', 0.0017271942222241046),\n",
       " ('SQLS', 0.0006333045481488384),\n",
       " ('RNTR1', 0.0010363165333344628),\n",
       " ('SQLter', 0.0006333045481488384),\n",
       " ('RPE', 0.4508426299354595),\n",
       " ('RPI', -0.35105742269230644),\n",
       " ('SACCD1', 0.0823871644000898),\n",
       " ('SACCD2', 0.0823871644000898),\n",
       " ('SUCCtm', 0.015000681820021455),\n",
       " ('SUCD2_u6m', 0.23600142294354065),\n",
       " ('SUCOASm', -0.2210007411235192),\n",
       " ('SULR', 0.016494704822240202),\n",
       " ('PRPPS', 0.08759465498009031),\n",
       " ('TALA', -8.66141696238284),\n",
       " ('SHK3Dr', 0.0760829054889718),\n",
       " ('SHKK', 0.0760829054889718),\n",
       " ('PSCVT', 0.0760829054889718),\n",
       " ('TKT1', 0.2634627677122161),\n",
       " ('PSERDm_SC', 0.0030225898888921834),\n",
       " ('TKT2', 0.18737986222324338),\n",
       " ('THRD_L', 0.05357180745931764),\n",
       " ('THRS', 0.10866930314826657),\n",
       " ('TMDS', 0.0010363165333344628),\n",
       " ('TPI', 8.917769447213566),\n",
       " ('TRDR', 0.019949093266688412),\n",
       " ('TRE6PP', 0.006736057466674008),\n",
       " ('TRE6PS', 0.006736057466674008),\n",
       " ('PSERS_SC', 0.0035119615851890128),\n",
       " ('VALTA', -0.076169265200083),\n",
       " ('TRPS1', 0.008175385985194095),\n",
       " ('PSERT', 0.1640489072268353),\n",
       " ('TYRTAi', 0.029362301777809775),\n",
       " ('BIOMASS_SC5_notrace', 0.28786570370401743),\n",
       " ('UMPK', 0.01459479117779361),\n",
       " ('PSP_L', 0.1640489072268353),\n",
       " ('PStm_SC', 3.0225898888921836e-05),\n",
       " ('URIDK2r', -0.0017271942222241046),\n",
       " ('PTRCt3i', 1.5064415286816413),\n",
       " ('PTRCtex2', 1.5064415286816413),\n",
       " ('PYK', 17.72198970731228),\n",
       " ('PYRDC', 15.946050702404095)]"
      ]
     },
     "execution_count": 55,
     "metadata": {},
     "output_type": "execute_result"
    }
   ],
   "source": [
    "get_reaction_fluxes(model) # all non-zero fluxes"
   ]
  },
  {
   "cell_type": "code",
   "execution_count": null,
   "metadata": {},
   "outputs": [],
   "source": []
  },
  {
   "cell_type": "code",
   "execution_count": null,
   "metadata": {},
   "outputs": [],
   "source": []
  },
  {
   "cell_type": "code",
   "execution_count": null,
   "metadata": {},
   "outputs": [],
   "source": []
  },
  {
   "cell_type": "code",
   "execution_count": null,
   "metadata": {},
   "outputs": [],
   "source": []
  },
  {
   "cell_type": "markdown",
   "metadata": {},
   "source": [
    "# Knockout of HAP1"
   ]
  },
  {
   "cell_type": "code",
   "execution_count": 31,
   "metadata": {},
   "outputs": [],
   "source": [
    "for genes in model.genes.query('o', 'name'):\n",
    "    print(genes.name)"
   ]
  },
  {
   "cell_type": "code",
   "execution_count": null,
   "metadata": {},
   "outputs": [],
   "source": []
  },
  {
   "cell_type": "code",
   "execution_count": null,
   "metadata": {},
   "outputs": [],
   "source": [
    "print('complete model: ', cobra_model.optimize())\n",
    "with cobra_model:\n",
    "    cobra_model.reactions.PFK.knock_out()\n",
    "    print('pfk knocked out: ', cobra_model.optimize())"
   ]
  },
  {
   "cell_type": "markdown",
   "metadata": {},
   "source": [
    "It could be an idea to knockout the enzymes catalysing the conversion to Heme A C49H55FeN4O6 and Heme O C49H56FeN4O5"
   ]
  },
  {
   "cell_type": "code",
   "execution_count": null,
   "metadata": {},
   "outputs": [],
   "source": []
  },
  {
   "cell_type": "markdown",
   "metadata": {},
   "source": []
  },
  {
   "cell_type": "code",
   "execution_count": null,
   "metadata": {},
   "outputs": [],
   "source": []
  },
  {
   "cell_type": "markdown",
   "metadata": {},
   "source": [
    " Knockout the gene: HAP1 / systemic name: YLR256W\n",
    " OR the gene for Heme O synthase HEMEOSm"
   ]
  },
  {
   "cell_type": "code",
   "execution_count": null,
   "metadata": {},
   "outputs": [],
   "source": []
  },
  {
   "cell_type": "markdown",
   "metadata": {},
   "source": [
    "What is the flux to heme now?"
   ]
  },
  {
   "cell_type": "code",
   "execution_count": null,
   "metadata": {},
   "outputs": [],
   "source": []
  }
 ],
 "metadata": {
  "kernelspec": {
   "display_name": "Python 3",
   "language": "python",
   "name": "python3"
  },
  "language_info": {
   "codemirror_mode": {
    "name": "ipython",
    "version": 3
   },
   "file_extension": ".py",
   "mimetype": "text/x-python",
   "name": "python",
   "nbconvert_exporter": "python",
   "pygments_lexer": "ipython3",
   "version": "3.7.4"
  }
 },
 "nbformat": 4,
 "nbformat_minor": 5
}
