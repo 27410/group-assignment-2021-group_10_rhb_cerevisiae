{
 "cells": [
  {
   "cell_type": "code",
   "execution_count": 1,
   "id": "a85745a0-5c81-4618-9081-b2337c8c66cc",
   "metadata": {},
   "outputs": [],
   "source": [
    "from cobra.io import read_sbml_model\n",
    "from cobra import Reaction, Metabolite"
   ]
  },
  {
   "cell_type": "code",
   "execution_count": 2,
   "id": "1e22bf56-c6f0-4756-a1aa-d839048ff4e0",
   "metadata": {},
   "outputs": [],
   "source": [
    "model = read_sbml_model('iMM904.xml')"
   ]
  },
  {
   "cell_type": "code",
   "execution_count": 3,
   "id": "591b8042-0623-4e86-8a37-ed78f6a79909",
   "metadata": {},
   "outputs": [],
   "source": [
    "new_reaction_rHb = Reaction('rHb')"
   ]
  },
  {
   "cell_type": "code",
   "execution_count": 4,
   "id": "67cfe635-ffd1-40a2-aa8a-a1079e23ce5a",
   "metadata": {},
   "outputs": [],
   "source": [
    "hemoglobin = Metabolite(id='rHb_c', compartment='c')"
   ]
  },
  {
   "cell_type": "code",
   "execution_count": 6,
   "id": "4ca2fb26-f283-4f7d-b4b2-1ae042cd1092",
   "metadata": {},
   "outputs": [],
   "source": [
    "#for metabolite in model.metabolites.query('Met','name'):\n",
    "#    print(metabolite.name, metabolite.id)"
   ]
  },
  {
   "cell_type": "markdown",
   "id": "cf9bd809-86e7-4849-bcb5-ad1316764731",
   "metadata": {},
   "source": [
    "A = ala__L_c\n",
    "C = cys__L_c\n",
    "D = asp__L_c\n",
    "E = glu__L_c\n",
    "F = phe__L_c\n",
    "G = gly_c\n",
    "H = his__L_c\n",
    "I = ile__L_c\n",
    "K = lys__L_c\n",
    "L = leu__L_c\n",
    "M = met__L_c\n",
    "N = asn__L_c\n",
    "P = pro__L_c\n",
    "Q = gln__L_c\n",
    "R = arg__L_c\n",
    "S = ser__L_c\n",
    "T = thr__L_c\n",
    "V = val__L_c\n",
    "W = trp__L_c\n",
    "Y = tyr__L_c"
   ]
  },
  {
   "cell_type": "code",
   "execution_count": 7,
   "id": "c2aae6a0-c86b-4d1a-a399-be331b3c226d",
   "metadata": {},
   "outputs": [],
   "source": [
    "new_reaction_rHb.add_metabolites({model.metabolites.ala__L_c: -36*2,\n",
    "                               model.metabolites.cys__L_c: -3*2,\n",
    "                               model.metabolites.asp__L_c: -15*2,\n",
    "                               model.metabolites.glu__L_c: -12*2,\n",
    "                               model.metabolites.phe__L_c: -15*2,\n",
    "                               model.metabolites.gly_c: -20*2,\n",
    "                               model.metabolites.his__L_c: -19*2,\n",
    "                               model.metabolites.lys__L_c: -22*2,\n",
    "                               model.metabolites.leu__L_c: -36*2,\n",
    "                               model.metabolites.met__L_c: -5*2,\n",
    "                               model.metabolites.asn__L_c: -10*2,\n",
    "                               model.metabolites.pro__L_c: -14*2,\n",
    "                               model.metabolites.gln__L_c: -4*2,\n",
    "                               model.metabolites.arg__L_c: -6*2,\n",
    "                               model.metabolites.ser__L_c: -16*2,\n",
    "                               model.metabolites.thr__L_c: -16*2,\n",
    "                               model.metabolites.val__L_c: -31*2,\n",
    "                               model.metabolites.trp__L_c: -3*2,\n",
    "                               model.metabolites.tyr__L_c: -6*2, \n",
    "                               model.metabolites.pheme_m: -4,\n",
    "                                  hemoglobin: 1,\n",
    "                             })"
   ]
  },
  {
   "cell_type": "code",
   "execution_count": 10,
   "id": "ec358254-9a37-4a08-9016-7c63e4613c35",
   "metadata": {},
   "outputs": [
    {
     "name": "stdout",
     "output_type": "stream",
     "text": [
      "72 ala__L_c + 12 arg__L_c + 20 asn__L_c + 30 asp__L_c + 6 cys__L_c + 8 gln__L_c + 24 glu__L_c + 40 gly_c + 38 his__L_c + 72 leu__L_c + 44 lys__L_c + 10 met__L_c + 30 phe__L_c + 4 pheme_m + 28 pro__L_c + 32 ser__L_c + 32 thr__L_c + 6 trp__L_c + 12 tyr__L_c + 62 val__L_c --> rHb_c\n"
     ]
    }
   ],
   "source": [
    "print(new_reaction_rHb.build_reaction_string())"
   ]
  },
  {
   "cell_type": "code",
   "execution_count": 16,
   "id": "38e51787-8181-4edf-a4ec-1c270009270c",
   "metadata": {},
   "outputs": [
    {
     "name": "stderr",
     "output_type": "stream",
     "text": [
      "Ignoring reaction 'rHb' since it already exists.\n"
     ]
    }
   ],
   "source": [
    "model.add_reactions([new_reaction_rHb])"
   ]
  },
  {
   "cell_type": "code",
   "execution_count": 19,
   "id": "cf7a308e-b5a2-4df7-9b0f-1ab1b2dc4c7e",
   "metadata": {},
   "outputs": [
    {
     "data": {
      "text/html": [
       "\n",
       "        <table>\n",
       "            <tr>\n",
       "                <td><strong>Reaction identifier</strong></td><td>rHb</td>\n",
       "            </tr><tr>\n",
       "                <td><strong>Name</strong></td><td></td>\n",
       "            </tr><tr>\n",
       "                <td><strong>Memory address</strong></td>\n",
       "                <td>0x01aea5e44438</td>\n",
       "            </tr><tr>\n",
       "                <td><strong>Stoichiometry</strong></td>\n",
       "                <td>\n",
       "                    <p style='text-align:right'>72 ala__L_c + 12 arg__L_c + 20 asn__L_c + 30 asp__L_c + 6 cys__L_c + 8 gln__L_c + 24 glu__L_c + 40 gly_c + 38 his__L_c + 72 leu__L_c + 44 lys__L_c + 10 met__L_c + 30 phe__L_c + 4 pheme_m + 28...</p>\n",
       "                    <p style='text-align:right'>72 L-Alanine + 12 L-Arginine + 20 L-Asparagine + 30 L-Aspartate + 6 L-Cysteine + 8 L-Glutamine + 24 L-Glutamate + 40 Glycine + 38 L-Histidine + 72 L-Leucine + 44 L-Lysine + 10 L-Methionine + 30...</p>\n",
       "                </td>\n",
       "            </tr><tr>\n",
       "                <td><strong>GPR</strong></td><td></td>\n",
       "            </tr><tr>\n",
       "                <td><strong>Lower bound</strong></td><td>0.0</td>\n",
       "            </tr><tr>\n",
       "                <td><strong>Upper bound</strong></td><td>1000.0</td>\n",
       "            </tr>\n",
       "        </table>\n",
       "        "
      ],
      "text/plain": [
       "<Reaction rHb at 0x1aea5e44438>"
      ]
     },
     "execution_count": 19,
     "metadata": {},
     "output_type": "execute_result"
    }
   ],
   "source": [
    "model.reactions.rHb"
   ]
  },
  {
   "cell_type": "code",
   "execution_count": 22,
   "id": "f1377b42-8b09-4c86-ac00-e14ff33f2341",
   "metadata": {},
   "outputs": [
    {
     "name": "stderr",
     "output_type": "stream",
     "text": [
      "Ignoring reaction 'EX_rHb' since it already exists.\n"
     ]
    },
    {
     "data": {
      "text/html": [
       "\n",
       "        <table>\n",
       "            <tr>\n",
       "                <td><strong>Reaction identifier</strong></td><td>EX_rHb</td>\n",
       "            </tr><tr>\n",
       "                <td><strong>Name</strong></td><td></td>\n",
       "            </tr><tr>\n",
       "                <td><strong>Memory address</strong></td>\n",
       "                <td>0x01aef2054240</td>\n",
       "            </tr><tr>\n",
       "                <td><strong>Stoichiometry</strong></td>\n",
       "                <td>\n",
       "                    <p style='text-align:right'>rHb_c --></p>\n",
       "                    <p style='text-align:right'>--></p>\n",
       "                </td>\n",
       "            </tr><tr>\n",
       "                <td><strong>GPR</strong></td><td></td>\n",
       "            </tr><tr>\n",
       "                <td><strong>Lower bound</strong></td><td>0.0</td>\n",
       "            </tr><tr>\n",
       "                <td><strong>Upper bound</strong></td><td>1000.0</td>\n",
       "            </tr>\n",
       "        </table>\n",
       "        "
      ],
      "text/plain": [
       "<Reaction EX_rHb at 0x1aef2054240>"
      ]
     },
     "execution_count": 22,
     "metadata": {},
     "output_type": "execute_result"
    }
   ],
   "source": [
    "hemoglobin_exchange = Reaction('EX_rHb')\n",
    "hemoglobin_exchange.add_metabolites({model.metabolites.rHb_c: -1})\n",
    "model.add_reaction(hemoglobin_exchange)\n",
    "model.reactions.EX_rHb"
   ]
  },
  {
   "cell_type": "code",
   "execution_count": 33,
   "id": "db0188d6-0c48-4ede-972d-136cda82e2d9",
   "metadata": {},
   "outputs": [
    {
     "name": "stdout",
     "output_type": "stream",
     "text": [
      "rHb production = 0.00942803268384663 g rHb/g DW/h\n"
     ]
    }
   ],
   "source": [
    "with model:\n",
    "    model.objective = model.reactions.rHb\n",
    "    solution = model.optimize().objective_value\n",
    "    print(\"rHb production =\", solution,\"g rHb/g DW/h\")"
   ]
  },
  {
   "cell_type": "code",
   "execution_count": 49,
   "id": "ac7a3f37-0614-4abe-9dce-b9ed34a52f62",
   "metadata": {},
   "outputs": [
    {
     "name": "stdout",
     "output_type": "stream",
     "text": [
      "heme production = 0.03771213073538652 g pheme/g DW/h\n",
      "CITtcp     0.000000e+00\n",
      "13BGH     -3.909755e-17\n",
      "13BGHe     0.000000e+00\n",
      "13GS       0.000000e+00\n",
      "16GS       0.000000e+00\n",
      "               ...     \n",
      "PYNP2r     0.000000e+00\n",
      "PYR5CDm    0.000000e+00\n",
      "PYRDC      8.770585e+00\n",
      "rHb        9.428033e-03\n",
      "EX_rHb     9.428033e-03\n",
      "Name: fluxes, Length: 1579, dtype: float64\n"
     ]
    }
   ],
   "source": [
    "with model:\n",
    "    model.objective = model.reactions.FCLTm\n",
    "    Max_heme = model.optimize().objective_value\n",
    "    solution = model.optimize()\n",
    "    print(\"heme production =\", Max_heme,\"g pheme/g DW/h\")\n",
    "    print(solution.fluxes)"
   ]
  }
 ],
 "metadata": {
  "kernelspec": {
   "display_name": "Python 3",
   "language": "python",
   "name": "python3"
  },
  "language_info": {
   "codemirror_mode": {
    "name": "ipython",
    "version": 3
   },
   "file_extension": ".py",
   "mimetype": "text/x-python",
   "name": "python",
   "nbconvert_exporter": "python",
   "pygments_lexer": "ipython3",
   "version": "3.6.13"
  }
 },
 "nbformat": 4,
 "nbformat_minor": 5
}
